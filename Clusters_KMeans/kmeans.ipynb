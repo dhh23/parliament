{
 "cells": [
  {
   "cell_type": "code",
   "execution_count": 1,
   "metadata": {},
   "outputs": [],
   "source": [
    "import numpy as np\n",
    "import pickle\n",
    "import pandas as pd\n",
    "\n",
    "# Load the data\n",
    "with open('ParlaMint_GB_commons_embeddings_truncated.pkl', 'rb') as f:\n",
    "    embeddings_dict = pickle.load(f)"
   ]
  },
  {
   "cell_type": "code",
   "execution_count": 2,
   "metadata": {},
   "outputs": [
    {
     "data": {
      "text/plain": [
       "(472782, 768)"
      ]
     },
     "execution_count": 2,
     "metadata": {},
     "output_type": "execute_result"
    }
   ],
   "source": [
    "\n",
    "embeddings_matrix = np.array(list(embeddings_dict.values()))\n",
    "embeddings_matrix.shape"
   ]
  },
  {
   "attachments": {},
   "cell_type": "markdown",
   "metadata": {},
   "source": [
    "### K-Means with FAISS"
   ]
  },
  {
   "cell_type": "code",
   "execution_count": 5,
   "metadata": {},
   "outputs": [
    {
     "name": "stdout",
     "output_type": "stream",
     "text": [
      "Sampling a subset of 512 / 472782 for training\n",
      "Clustering 512 points in 768D to 2 clusters, redo 1 times, 100 iterations\n",
      "  Preprocessing in 0.19 s\n",
      "  Iteration 99 (23.28 s, search 13.86 s): objective=2593.88 imbalance=1.006 nsplit=0       \n"
     ]
    },
    {
     "data": {
      "text/plain": [
       "2593.877197265625"
      ]
     },
     "execution_count": 5,
     "metadata": {},
     "output_type": "execute_result"
    }
   ],
   "source": [
    "import faiss\n",
    "\n",
    "ncentroids = 2 # Number of clusters\n",
    "niter = 100\n",
    "verbose = True\n",
    "d = embeddings_matrix.shape[1]\n",
    "kmeans = faiss.Kmeans(d, ncentroids, niter=niter, verbose=verbose)\n",
    "kmeans.train(embeddings_matrix)\n"
   ]
  },
  {
   "attachments": {},
   "cell_type": "markdown",
   "metadata": {},
   "source": [
    "Create D, I, where I is the cluster and D is the L2 distance to the cluster."
   ]
  },
  {
   "cell_type": "code",
   "execution_count": 16,
   "metadata": {},
   "outputs": [
    {
     "data": {
      "text/plain": [
       "(472782,)"
      ]
     },
     "execution_count": 16,
     "metadata": {},
     "output_type": "execute_result"
    }
   ],
   "source": [
    "D, I = kmeans.index.search(embeddings_matrix, 1)\n",
    "I = I.flatten()\n",
    "I.shape"
   ]
  },
  {
   "attachments": {},
   "cell_type": "markdown",
   "metadata": {},
   "source": [
    "Check the shape of the centroid data in `kmeans.centroids`"
   ]
  },
  {
   "cell_type": "code",
   "execution_count": 15,
   "metadata": {},
   "outputs": [
    {
     "data": {
      "text/plain": [
       "(2, 768)"
      ]
     },
     "execution_count": 15,
     "metadata": {},
     "output_type": "execute_result"
    }
   ],
   "source": [
    "kmeans.centroids.shape"
   ]
  },
  {
   "attachments": {},
   "cell_type": "markdown",
   "metadata": {},
   "source": [
    "Create a dataframe with the cluster id:s"
   ]
  },
  {
   "cell_type": "code",
   "execution_count": 8,
   "metadata": {},
   "outputs": [],
   "source": [
    "# Get the number of cluster members from I\n",
    "\n",
    "cluster_members = pd.DataFrame(I, columns=['cluster_id'])"
   ]
  },
  {
   "attachments": {},
   "cell_type": "markdown",
   "metadata": {},
   "source": [
    "Show the counts of different clusters"
   ]
  },
  {
   "cell_type": "code",
   "execution_count": 9,
   "metadata": {},
   "outputs": [
    {
     "data": {
      "text/plain": [
       "0    247187\n",
       "1    225595\n",
       "Name: cluster_id, dtype: int64"
      ]
     },
     "execution_count": 9,
     "metadata": {},
     "output_type": "execute_result"
    }
   ],
   "source": [
    "cluster_members['cluster_id'].value_counts()"
   ]
  },
  {
   "attachments": {},
   "cell_type": "markdown",
   "metadata": {},
   "source": [
    "Load the metadata for the embeddings"
   ]
  },
  {
   "cell_type": "code",
   "execution_count": 7,
   "metadata": {},
   "outputs": [
    {
     "data": {
      "text/html": [
       "<div>\n",
       "<style scoped>\n",
       "    .dataframe tbody tr th:only-of-type {\n",
       "        vertical-align: middle;\n",
       "    }\n",
       "\n",
       "    .dataframe tbody tr th {\n",
       "        vertical-align: top;\n",
       "    }\n",
       "\n",
       "    .dataframe thead th {\n",
       "        text-align: right;\n",
       "    }\n",
       "</style>\n",
       "<table border=\"1\" class=\"dataframe\">\n",
       "  <thead>\n",
       "    <tr style=\"text-align: right;\">\n",
       "      <th></th>\n",
       "      <th>ID</th>\n",
       "      <th>Title</th>\n",
       "      <th>Date</th>\n",
       "      <th>Body</th>\n",
       "      <th>Term</th>\n",
       "      <th>Session</th>\n",
       "      <th>Meeting</th>\n",
       "      <th>Sitting</th>\n",
       "      <th>Agenda</th>\n",
       "      <th>Subcorpus</th>\n",
       "      <th>Speaker_role</th>\n",
       "      <th>Speaker_MP</th>\n",
       "      <th>Speaker_Minister</th>\n",
       "      <th>Speaker_party</th>\n",
       "      <th>Speaker_party_name</th>\n",
       "      <th>Party_status</th>\n",
       "      <th>Speaker_name</th>\n",
       "      <th>Speaker_gender</th>\n",
       "      <th>Speaker_birth</th>\n",
       "    </tr>\n",
       "  </thead>\n",
       "  <tbody>\n",
       "    <tr>\n",
       "      <th>0</th>\n",
       "      <td>ParlaMint-GB_2017-11-20-commons.u1</td>\n",
       "      <td>Minutes of the House of Commons, Daily Session...</td>\n",
       "      <td>2017-11-20</td>\n",
       "      <td>Lower house</td>\n",
       "      <td>57</td>\n",
       "      <td>NaN</td>\n",
       "      <td>NaN</td>\n",
       "      <td>2017-11-20</td>\n",
       "      <td>NaN</td>\n",
       "      <td>Reference</td>\n",
       "      <td>Chairperson</td>\n",
       "      <td>MP</td>\n",
       "      <td>-</td>\n",
       "      <td>CON</td>\n",
       "      <td>Conservative</td>\n",
       "      <td>None</td>\n",
       "      <td>Bercow, John Simon</td>\n",
       "      <td>M</td>\n",
       "      <td>-</td>\n",
       "    </tr>\n",
       "    <tr>\n",
       "      <th>1</th>\n",
       "      <td>ParlaMint-GB_2017-11-20-commons.u2</td>\n",
       "      <td>Minutes of the House of Commons, Daily Session...</td>\n",
       "      <td>2017-11-20</td>\n",
       "      <td>Lower house</td>\n",
       "      <td>57</td>\n",
       "      <td>NaN</td>\n",
       "      <td>NaN</td>\n",
       "      <td>2017-11-20</td>\n",
       "      <td>NaN</td>\n",
       "      <td>Reference</td>\n",
       "      <td>Regular</td>\n",
       "      <td>MP</td>\n",
       "      <td>-</td>\n",
       "      <td>CON</td>\n",
       "      <td>Conservative</td>\n",
       "      <td>None</td>\n",
       "      <td>Jayawardena, Ranil Malcolm</td>\n",
       "      <td>M</td>\n",
       "      <td>-</td>\n",
       "    </tr>\n",
       "    <tr>\n",
       "      <th>2</th>\n",
       "      <td>ParlaMint-GB_2017-11-20-commons.u3</td>\n",
       "      <td>Minutes of the House of Commons, Daily Session...</td>\n",
       "      <td>2017-11-20</td>\n",
       "      <td>Lower house</td>\n",
       "      <td>57</td>\n",
       "      <td>NaN</td>\n",
       "      <td>NaN</td>\n",
       "      <td>2017-11-20</td>\n",
       "      <td>NaN</td>\n",
       "      <td>Reference</td>\n",
       "      <td>Regular</td>\n",
       "      <td>MP</td>\n",
       "      <td>-</td>\n",
       "      <td>CON</td>\n",
       "      <td>Conservative</td>\n",
       "      <td>None</td>\n",
       "      <td>Rudd, Amber</td>\n",
       "      <td>F</td>\n",
       "      <td>-</td>\n",
       "    </tr>\n",
       "    <tr>\n",
       "      <th>3</th>\n",
       "      <td>ParlaMint-GB_2017-11-20-commons.u4</td>\n",
       "      <td>Minutes of the House of Commons, Daily Session...</td>\n",
       "      <td>2017-11-20</td>\n",
       "      <td>Lower house</td>\n",
       "      <td>57</td>\n",
       "      <td>NaN</td>\n",
       "      <td>NaN</td>\n",
       "      <td>2017-11-20</td>\n",
       "      <td>NaN</td>\n",
       "      <td>Reference</td>\n",
       "      <td>Regular</td>\n",
       "      <td>MP</td>\n",
       "      <td>-</td>\n",
       "      <td>CON</td>\n",
       "      <td>Conservative</td>\n",
       "      <td>None</td>\n",
       "      <td>Jayawardena, Ranil Malcolm</td>\n",
       "      <td>M</td>\n",
       "      <td>-</td>\n",
       "    </tr>\n",
       "    <tr>\n",
       "      <th>4</th>\n",
       "      <td>ParlaMint-GB_2017-11-20-commons.u5</td>\n",
       "      <td>Minutes of the House of Commons, Daily Session...</td>\n",
       "      <td>2017-11-20</td>\n",
       "      <td>Lower house</td>\n",
       "      <td>57</td>\n",
       "      <td>NaN</td>\n",
       "      <td>NaN</td>\n",
       "      <td>2017-11-20</td>\n",
       "      <td>NaN</td>\n",
       "      <td>Reference</td>\n",
       "      <td>Regular</td>\n",
       "      <td>MP</td>\n",
       "      <td>-</td>\n",
       "      <td>CON</td>\n",
       "      <td>Conservative</td>\n",
       "      <td>None</td>\n",
       "      <td>Rudd, Amber</td>\n",
       "      <td>F</td>\n",
       "      <td>-</td>\n",
       "    </tr>\n",
       "  </tbody>\n",
       "</table>\n",
       "</div>"
      ],
      "text/plain": [
       "                                   ID  \\\n",
       "0  ParlaMint-GB_2017-11-20-commons.u1   \n",
       "1  ParlaMint-GB_2017-11-20-commons.u2   \n",
       "2  ParlaMint-GB_2017-11-20-commons.u3   \n",
       "3  ParlaMint-GB_2017-11-20-commons.u4   \n",
       "4  ParlaMint-GB_2017-11-20-commons.u5   \n",
       "\n",
       "                                               Title        Date         Body  \\\n",
       "0  Minutes of the House of Commons, Daily Session...  2017-11-20  Lower house   \n",
       "1  Minutes of the House of Commons, Daily Session...  2017-11-20  Lower house   \n",
       "2  Minutes of the House of Commons, Daily Session...  2017-11-20  Lower house   \n",
       "3  Minutes of the House of Commons, Daily Session...  2017-11-20  Lower house   \n",
       "4  Minutes of the House of Commons, Daily Session...  2017-11-20  Lower house   \n",
       "\n",
       "   Term  Session  Meeting     Sitting  Agenda  Subcorpus Speaker_role  \\\n",
       "0    57      NaN      NaN  2017-11-20     NaN  Reference  Chairperson   \n",
       "1    57      NaN      NaN  2017-11-20     NaN  Reference      Regular   \n",
       "2    57      NaN      NaN  2017-11-20     NaN  Reference      Regular   \n",
       "3    57      NaN      NaN  2017-11-20     NaN  Reference      Regular   \n",
       "4    57      NaN      NaN  2017-11-20     NaN  Reference      Regular   \n",
       "\n",
       "  Speaker_MP Speaker_Minister Speaker_party Speaker_party_name Party_status  \\\n",
       "0         MP                -           CON       Conservative         None   \n",
       "1         MP                -           CON       Conservative         None   \n",
       "2         MP                -           CON       Conservative         None   \n",
       "3         MP                -           CON       Conservative         None   \n",
       "4         MP                -           CON       Conservative         None   \n",
       "\n",
       "                 Speaker_name Speaker_gender Speaker_birth  \n",
       "0          Bercow, John Simon              M             -  \n",
       "1  Jayawardena, Ranil Malcolm              M             -  \n",
       "2                 Rudd, Amber              F             -  \n",
       "3  Jayawardena, Ranil Malcolm              M             -  \n",
       "4                 Rudd, Amber              F             -  "
      ]
     },
     "execution_count": 7,
     "metadata": {},
     "output_type": "execute_result"
    }
   ],
   "source": [
    "metadata = pd.read_feather('ParlaMint_GB_commons.feather')\n",
    "metadata.head()"
   ]
  },
  {
   "cell_type": "code",
   "execution_count": 40,
   "metadata": {},
   "outputs": [
    {
     "data": {
      "text/plain": [
       "ID                     object\n",
       "Title                  object\n",
       "Date                   object\n",
       "Body                   object\n",
       "Term                    int64\n",
       "Session               float64\n",
       "Meeting               float64\n",
       "Sitting                object\n",
       "Agenda                float64\n",
       "Subcorpus              object\n",
       "Speaker_role           object\n",
       "Speaker_MP             object\n",
       "Speaker_Minister       object\n",
       "Speaker_party          object\n",
       "Speaker_party_name     object\n",
       "Party_status           object\n",
       "Speaker_name           object\n",
       "Speaker_gender         object\n",
       "Speaker_birth          object\n",
       "dtype: object"
      ]
     },
     "execution_count": 40,
     "metadata": {},
     "output_type": "execute_result"
    }
   ],
   "source": [
    "metadata.dtypes"
   ]
  },
  {
   "attachments": {},
   "cell_type": "markdown",
   "metadata": {},
   "source": [
    "Attach the speech id:s to the cluster id:s"
   ]
  },
  {
   "cell_type": "code",
   "execution_count": 10,
   "metadata": {},
   "outputs": [],
   "source": [
    "cluster_members['speech_id'] = embeddings_dict.keys()"
   ]
  },
  {
   "attachments": {},
   "cell_type": "markdown",
   "metadata": {},
   "source": [
    "Merge the metadata with the cluster labels"
   ]
  },
  {
   "cell_type": "code",
   "execution_count": 11,
   "metadata": {},
   "outputs": [],
   "source": [
    "merged_df = pd.merge(metadata, cluster_members, left_on='ID', right_on='speech_id')"
   ]
  },
  {
   "attachments": {},
   "cell_type": "markdown",
   "metadata": {},
   "source": [
    "Calculate the Normalized Mutual Information (NMI) between the cluster labels and a selected variable from the metadata. A perfect score is 1.0."
   ]
  },
  {
   "cell_type": "code",
   "execution_count": 19,
   "metadata": {},
   "outputs": [
    {
     "data": {
      "text/plain": [
       "0.0037991005579201646"
      ]
     },
     "execution_count": 19,
     "metadata": {},
     "output_type": "execute_result"
    }
   ],
   "source": [
    "from sklearn.metrics import normalized_mutual_info_score\n",
    "# Change this according to your preference. The number of unique values should be equal to ncentroids.\n",
    "labels_true = merged_df['Speaker_party']\n",
    "\n",
    "# Do not change this. This is the cluster id assigned by k-means.\n",
    "labels_pred = merged_df['cluster_id']\n",
    "\n",
    "normalized_mutual_info_score(labels_true, labels_pred)"
   ]
  },
  {
   "attachments": {},
   "cell_type": "markdown",
   "metadata": {},
   "source": [
    "Save the metadata with the cluster labels"
   ]
  },
  {
   "cell_type": "code",
   "execution_count": 39,
   "metadata": {},
   "outputs": [],
   "source": [
    "merged_df.to_feather(f'ParlaMint_GB_commons_clustered_{ncentroids}.feather')"
   ]
  }
 ],
 "metadata": {
  "kernelspec": {
   "display_name": "Python 3",
   "language": "python",
   "name": "python3"
  },
  "language_info": {
   "codemirror_mode": {
    "name": "ipython",
    "version": 3
   },
   "file_extension": ".py",
   "mimetype": "text/x-python",
   "name": "python",
   "nbconvert_exporter": "python",
   "pygments_lexer": "ipython3",
   "version": "3.11.1"
  },
  "orig_nbformat": 4
 },
 "nbformat": 4,
 "nbformat_minor": 2
}
