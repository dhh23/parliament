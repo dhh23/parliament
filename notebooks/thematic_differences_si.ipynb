{
 "cells": [
  {
   "attachments": {},
   "cell_type": "markdown",
   "metadata": {},
   "source": [
    "# Thematic differences\n",
    "\n",
    "DHH23 Parliament group\n",
    "\n",
    "Author: Pontus H."
   ]
  },
  {
   "cell_type": "code",
   "execution_count": 101,
   "metadata": {},
   "outputs": [],
   "source": [
    "# Set the theme here\n",
    "THEME = 'eu_SI'\n",
    "# Set the output path for the CSV:s and keyword figure\n",
    "OUTPUT_PATH = '../thematic_differences/'"
   ]
  },
  {
   "cell_type": "code",
   "execution_count": 102,
   "metadata": {},
   "outputs": [],
   "source": [
    "from cuml.manifold import UMAP\n",
    "from cuml.cluster.hdbscan import HDBSCAN\n",
    "from sentence_transformers import SentenceTransformer\n",
    "from sklearn.feature_extraction.text import CountVectorizer\n",
    "from sklearn.cluster import KMeans\n",
    "\n",
    "from bertopic import BERTopic\n",
    "from bertopic.representation import KeyBERTInspired, MaximalMarginalRelevance\n",
    "from bertopic.vectorizers import ClassTfidfTransformer\n",
    "\n",
    "import pandas as pd"
   ]
  },
  {
   "cell_type": "code",
   "execution_count": 103,
   "metadata": {},
   "outputs": [],
   "source": [
    "# Optional stopwords\n",
    "with open('../data/stopwords-si.txt', 'r', encoding='utf-8') as f:\n",
    "    stopwords = f.read().splitlines()"
   ]
  },
  {
   "attachments": {},
   "cell_type": "markdown",
   "metadata": {},
   "source": [
    "Set up the BERTopic pipeline"
   ]
  },
  {
   "cell_type": "code",
   "execution_count": 104,
   "metadata": {},
   "outputs": [],
   "source": [
    "# Parameters\n",
    "HDBSCAN_MIN_CLUSTER_SIZE = 50\n",
    "HDBSCAN_MIN_SAMPLES = 1\n",
    "HDBSCAN_CLUSTER_SELECTION_EPSILON = 0\n",
    "\n",
    "# Step 1 - Extract embeddings\n",
    "# embedding_model = SentenceTransformer('all-MiniLM-L6-v2') # English\n",
    "embedding_model = SentenceTransformer('paraphrase-multilingual-mpnet-base-v2') # Other languages\n",
    "\n",
    "# Step 2 - Reduce dimensionality\n",
    "umap_model = UMAP(n_neighbors=15, n_components=10, min_dist=0.0, metric='cosine', random_state=42)\n",
    "\n",
    "# Step 3 - Cluster reduced embeddings\n",
    "hdbscan_model = HDBSCAN(\n",
    "    min_cluster_size=HDBSCAN_MIN_CLUSTER_SIZE,\n",
    "    min_samples=HDBSCAN_MIN_SAMPLES,\n",
    "    cluster_selection_epsilon=HDBSCAN_CLUSTER_SELECTION_EPSILON,\n",
    "    metric='euclidean',\n",
    "    cluster_selection_method='eom',\n",
    "    prediction_data=True,)\n",
    "\n",
    "# Step 3 - Cluster reduced embeddings with KMeans\n",
    "# hdbscan_model = KMeans(n_clusters=100, random_state=42)\n",
    "\n",
    "# Step 4 - Tokenize topics\n",
    "# vectorizer_model = CountVectorizer(stop_words=\"english\") # English\n",
    "vectorizer_model = CountVectorizer(stop_words=stopwords) # Other languages\n",
    "\n",
    "# Step 5 - Create topic representation\n",
    "ctfidf_model = ClassTfidfTransformer(reduce_frequent_words=True)\n",
    "\n",
    "# Step 6 - (Optional) Fine-tune topic representations with \n",
    "# a `bertopic.representation` model\n",
    "# representation_model = KeyBERTInspired()\n",
    "representation_model = MaximalMarginalRelevance(diversity=0.8)\n",
    "\n",
    "# All steps together\n",
    "topic_model = BERTopic(\n",
    "  embedding_model=embedding_model,          # Step 1 - Extract embeddings\n",
    "  umap_model=umap_model,                    # Step 2 - Reduce dimensionality\n",
    "  hdbscan_model=hdbscan_model,              # Step 3 - Cluster reduced embeddings\n",
    "  vectorizer_model=vectorizer_model,        # Step 4 - Tokenize topics\n",
    "  ctfidf_model=ctfidf_model,                # Step 5 - Extract topic words\n",
    "  representation_model=representation_model, # Step 6 - (Optional) Fine-tune topic representations\n",
    "  #nr_topics=\"25\",\n",
    "  calculate_probabilities=True,\n",
    "  n_gram_range=(1, 3)\n",
    ")"
   ]
  },
  {
   "cell_type": "code",
   "execution_count": 105,
   "metadata": {},
   "outputs": [
    {
     "data": {
      "text/html": [
       "<div>\n",
       "<style scoped>\n",
       "    .dataframe tbody tr th:only-of-type {\n",
       "        vertical-align: middle;\n",
       "    }\n",
       "\n",
       "    .dataframe tbody tr th {\n",
       "        vertical-align: top;\n",
       "    }\n",
       "\n",
       "    .dataframe thead th {\n",
       "        text-align: right;\n",
       "    }\n",
       "</style>\n",
       "<table border=\"1\" class=\"dataframe\">\n",
       "  <thead>\n",
       "    <tr style=\"text-align: right;\">\n",
       "      <th></th>\n",
       "      <th>ID</th>\n",
       "      <th>Title</th>\n",
       "      <th>Date</th>\n",
       "      <th>Body</th>\n",
       "      <th>Term</th>\n",
       "      <th>Session</th>\n",
       "      <th>Meeting</th>\n",
       "      <th>Sitting</th>\n",
       "      <th>Agenda</th>\n",
       "      <th>Subcorpus</th>\n",
       "      <th>...</th>\n",
       "      <th>Speaker_party</th>\n",
       "      <th>Speaker_party_name</th>\n",
       "      <th>Party_status</th>\n",
       "      <th>Speaker_name</th>\n",
       "      <th>Speaker_gender</th>\n",
       "      <th>Speaker_birth</th>\n",
       "      <th>speech</th>\n",
       "      <th>speech_split</th>\n",
       "      <th>sentiment</th>\n",
       "      <th>speech_length</th>\n",
       "    </tr>\n",
       "  </thead>\n",
       "  <tbody>\n",
       "    <tr>\n",
       "      <th>0</th>\n",
       "      <td>ParlaMint-SI_2017-07-10-SDZ7-Redna-32.u40</td>\n",
       "      <td>Minutes of the National Assembly of the Republ...</td>\n",
       "      <td>2017-07-10</td>\n",
       "      <td>Lower house</td>\n",
       "      <td>7</td>\n",
       "      <td>NaN</td>\n",
       "      <td>32</td>\n",
       "      <td>NaN</td>\n",
       "      <td>NaN</td>\n",
       "      <td>Reference</td>\n",
       "      <td>...</td>\n",
       "      <td>SMC</td>\n",
       "      <td>Stranka modernega centra</td>\n",
       "      <td>Coalition</td>\n",
       "      <td>Matić, Dragan</td>\n",
       "      <td>M</td>\n",
       "      <td>1964</td>\n",
       "      <td>Hvala za besedo. Spoštovani predsednik Vlade! ...</td>\n",
       "      <td>Spoštovani predsednik Vlade! Slovenija je v z...</td>\n",
       "      <td>0.675293</td>\n",
       "      <td>2332</td>\n",
       "    </tr>\n",
       "    <tr>\n",
       "      <th>1</th>\n",
       "      <td>ParlaMint-SI_2017-07-10-SDZ7-Redna-32.u182</td>\n",
       "      <td>Minutes of the National Assembly of the Republ...</td>\n",
       "      <td>2017-07-10</td>\n",
       "      <td>Lower house</td>\n",
       "      <td>7</td>\n",
       "      <td>NaN</td>\n",
       "      <td>32</td>\n",
       "      <td>NaN</td>\n",
       "      <td>NaN</td>\n",
       "      <td>Reference</td>\n",
       "      <td>...</td>\n",
       "      <td>SDS</td>\n",
       "      <td>Slovenska demokratska stranka</td>\n",
       "      <td>Opposition</td>\n",
       "      <td>Logar, Anže</td>\n",
       "      <td>M</td>\n",
       "      <td>1976</td>\n",
       "      <td>Hvala, predsedujoči. Kadarkoli je na dnevnem r...</td>\n",
       "      <td>Kadarkoli je na dnevnem redu upravljanje z dr...</td>\n",
       "      <td>-0.850586</td>\n",
       "      <td>1973</td>\n",
       "    </tr>\n",
       "    <tr>\n",
       "      <th>2</th>\n",
       "      <td>ParlaMint-SI_2017-07-10-SDZ7-Redna-32.u186</td>\n",
       "      <td>Minutes of the National Assembly of the Republ...</td>\n",
       "      <td>2017-07-10</td>\n",
       "      <td>Lower house</td>\n",
       "      <td>7</td>\n",
       "      <td>NaN</td>\n",
       "      <td>32</td>\n",
       "      <td>NaN</td>\n",
       "      <td>NaN</td>\n",
       "      <td>Reference</td>\n",
       "      <td>...</td>\n",
       "      <td>SDS</td>\n",
       "      <td>Slovenska demokratska stranka</td>\n",
       "      <td>Opposition</td>\n",
       "      <td>Logar, Anže</td>\n",
       "      <td>M</td>\n",
       "      <td>1976</td>\n",
       "      <td>Hvala. Samo potem mi ministrica ni odgovorila,...</td>\n",
       "      <td>Samo potem mi ministrica ni odgovorila, glede...</td>\n",
       "      <td>-0.531250</td>\n",
       "      <td>1497</td>\n",
       "    </tr>\n",
       "    <tr>\n",
       "      <th>3</th>\n",
       "      <td>ParlaMint-SI_2017-07-10-SDZ7-Redna-32.u190</td>\n",
       "      <td>Minutes of the National Assembly of the Republ...</td>\n",
       "      <td>2017-07-10</td>\n",
       "      <td>Lower house</td>\n",
       "      <td>7</td>\n",
       "      <td>NaN</td>\n",
       "      <td>32</td>\n",
       "      <td>NaN</td>\n",
       "      <td>NaN</td>\n",
       "      <td>Reference</td>\n",
       "      <td>...</td>\n",
       "      <td>SDS</td>\n",
       "      <td>Slovenska demokratska stranka</td>\n",
       "      <td>Opposition</td>\n",
       "      <td>Logar, Anže</td>\n",
       "      <td>M</td>\n",
       "      <td>1976</td>\n",
       "      <td>Hvala, predsedujoči. To pa ne bo držalo, kar j...</td>\n",
       "      <td>To pa ne bo držalo, kar je ministrica na konc...</td>\n",
       "      <td>-0.724609</td>\n",
       "      <td>1571</td>\n",
       "    </tr>\n",
       "    <tr>\n",
       "      <th>4</th>\n",
       "      <td>ParlaMint-SI_2017-07-10-SDZ7-Redna-32.u192</td>\n",
       "      <td>Minutes of the National Assembly of the Republ...</td>\n",
       "      <td>2017-07-10</td>\n",
       "      <td>Lower house</td>\n",
       "      <td>7</td>\n",
       "      <td>NaN</td>\n",
       "      <td>32</td>\n",
       "      <td>NaN</td>\n",
       "      <td>NaN</td>\n",
       "      <td>Reference</td>\n",
       "      <td>...</td>\n",
       "      <td>Levica</td>\n",
       "      <td>Levica</td>\n",
       "      <td>Opposition</td>\n",
       "      <td>Tomić, Violeta</td>\n",
       "      <td>F</td>\n",
       "      <td>1963</td>\n",
       "      <td>Hvala za besedo, predsedujoči. Kolegice in kol...</td>\n",
       "      <td>Kolegice in kolegi! Izgradnja belokranjskega ...</td>\n",
       "      <td>-0.905273</td>\n",
       "      <td>1791</td>\n",
       "    </tr>\n",
       "  </tbody>\n",
       "</table>\n",
       "<p>5 rows × 23 columns</p>\n",
       "</div>"
      ],
      "text/plain": [
       "                                           ID  \\\n",
       "0   ParlaMint-SI_2017-07-10-SDZ7-Redna-32.u40   \n",
       "1  ParlaMint-SI_2017-07-10-SDZ7-Redna-32.u182   \n",
       "2  ParlaMint-SI_2017-07-10-SDZ7-Redna-32.u186   \n",
       "3  ParlaMint-SI_2017-07-10-SDZ7-Redna-32.u190   \n",
       "4  ParlaMint-SI_2017-07-10-SDZ7-Redna-32.u192   \n",
       "\n",
       "                                               Title        Date         Body  \\\n",
       "0  Minutes of the National Assembly of the Republ...  2017-07-10  Lower house   \n",
       "1  Minutes of the National Assembly of the Republ...  2017-07-10  Lower house   \n",
       "2  Minutes of the National Assembly of the Republ...  2017-07-10  Lower house   \n",
       "3  Minutes of the National Assembly of the Republ...  2017-07-10  Lower house   \n",
       "4  Minutes of the National Assembly of the Republ...  2017-07-10  Lower house   \n",
       "\n",
       "   Term  Session  Meeting  Sitting  Agenda  Subcorpus  ... Speaker_party  \\\n",
       "0     7      NaN       32      NaN     NaN  Reference  ...           SMC   \n",
       "1     7      NaN       32      NaN     NaN  Reference  ...           SDS   \n",
       "2     7      NaN       32      NaN     NaN  Reference  ...           SDS   \n",
       "3     7      NaN       32      NaN     NaN  Reference  ...           SDS   \n",
       "4     7      NaN       32      NaN     NaN  Reference  ...        Levica   \n",
       "\n",
       "              Speaker_party_name Party_status    Speaker_name Speaker_gender  \\\n",
       "0       Stranka modernega centra    Coalition   Matić, Dragan              M   \n",
       "1  Slovenska demokratska stranka   Opposition     Logar, Anže              M   \n",
       "2  Slovenska demokratska stranka   Opposition     Logar, Anže              M   \n",
       "3  Slovenska demokratska stranka   Opposition     Logar, Anže              M   \n",
       "4                         Levica   Opposition  Tomić, Violeta              F   \n",
       "\n",
       "  Speaker_birth                                             speech  \\\n",
       "0          1964  Hvala za besedo. Spoštovani predsednik Vlade! ...   \n",
       "1          1976  Hvala, predsedujoči. Kadarkoli je na dnevnem r...   \n",
       "2          1976  Hvala. Samo potem mi ministrica ni odgovorila,...   \n",
       "3          1976  Hvala, predsedujoči. To pa ne bo držalo, kar j...   \n",
       "4          1963  Hvala za besedo, predsedujoči. Kolegice in kol...   \n",
       "\n",
       "                                        speech_split sentiment speech_length  \n",
       "0   Spoštovani predsednik Vlade! Slovenija je v z...  0.675293          2332  \n",
       "1   Kadarkoli je na dnevnem redu upravljanje z dr... -0.850586          1973  \n",
       "2   Samo potem mi ministrica ni odgovorila, glede... -0.531250          1497  \n",
       "3   To pa ne bo držalo, kar je ministrica na konc... -0.724609          1571  \n",
       "4   Kolegice in kolegi! Izgradnja belokranjskega ... -0.905273          1791  \n",
       "\n",
       "[5 rows x 23 columns]"
      ]
     },
     "execution_count": 105,
     "metadata": {},
     "output_type": "execute_result"
    }
   ],
   "source": [
    "df = pd.read_csv(f'../data/{THEME}.csv')\n",
    "df.head()"
   ]
  },
  {
   "cell_type": "code",
   "execution_count": 106,
   "metadata": {},
   "outputs": [],
   "source": [
    "# Reference running time for this cell: 4min 00s\n",
    "topics, probs = topic_model.fit_transform(df['speech'])\n"
   ]
  },
  {
   "cell_type": "code",
   "execution_count": 107,
   "metadata": {},
   "outputs": [],
   "source": [
    "# Reduce outliers\n",
    "new_topics = topic_model.reduce_outliers(df['speech'], topics, strategy=\"c-tf-idf\", threshold=0.1)"
   ]
  },
  {
   "cell_type": "code",
   "execution_count": 108,
   "metadata": {},
   "outputs": [
    {
     "data": {
      "text/plain": [
       " 0     1375\n",
       " 1      697\n",
       " 2      518\n",
       " 3      492\n",
       " 7      455\n",
       " 5      396\n",
       " 4      367\n",
       " 6      317\n",
       " 10     256\n",
       " 14     254\n",
       " 12     252\n",
       " 17     251\n",
       " 11     242\n",
       " 9      210\n",
       " 8      208\n",
       " 15     205\n",
       " 16     186\n",
       " 21     145\n",
       " 18     139\n",
       " 20     136\n",
       "-1      130\n",
       " 13     130\n",
       " 19     126\n",
       " 25     122\n",
       " 23     102\n",
       " 27      97\n",
       " 22      96\n",
       " 24      92\n",
       " 26      78\n",
       " 29      75\n",
       " 28      69\n",
       " 30      63\n",
       " 31      63\n",
       " 32      58\n",
       "dtype: int64"
      ]
     },
     "execution_count": 108,
     "metadata": {},
     "output_type": "execute_result"
    }
   ],
   "source": [
    "pd.Series(new_topics).value_counts()"
   ]
  },
  {
   "cell_type": "code",
   "execution_count": 109,
   "metadata": {},
   "outputs": [],
   "source": [
    "#topic_model.save(f\"../data/topic_model_epsilon{HDBSCAN_CLUSTER_SELECTION_EPSILON}_clustersize{HDBSCAN_MIN_CLUSTER_SIZE}.bin\")"
   ]
  },
  {
   "cell_type": "code",
   "execution_count": 110,
   "metadata": {},
   "outputs": [],
   "source": [
    "#topic_model = BERTopic.load(\"../data/topic_model_epsilon0_clustersize50.bin\")"
   ]
  },
  {
   "cell_type": "code",
   "execution_count": 111,
   "metadata": {},
   "outputs": [
    {
     "name": "stdout",
     "output_type": "stream",
     "text": [
      "Number of topics before: 34\n",
      "Number of topics before: 34\n"
     ]
    }
   ],
   "source": [
    "# Number of topics\n",
    "print(f\"Number of topics before: {len(pd.Series(topics).unique())}\")\n",
    "print(f\"Number of topics before: {len(pd.Series(new_topics).unique())}\")"
   ]
  },
  {
   "cell_type": "code",
   "execution_count": 112,
   "metadata": {},
   "outputs": [
    {
     "data": {
      "text/plain": [
       "-1     2714\n",
       " 18     916\n",
       " 26     458\n",
       " 8      445\n",
       " 13     345\n",
       " 3      334\n",
       " 25     313\n",
       " 31     224\n",
       " 29     202\n",
       " 2      187\n",
       " 24     177\n",
       " 16     176\n",
       " 12     154\n",
       " 28     131\n",
       " 6      112\n",
       " 7      110\n",
       " 27     109\n",
       " 30     109\n",
       " 17     108\n",
       " 15     106\n",
       " 10      98\n",
       " 23      92\n",
       " 32      85\n",
       " 0       81\n",
       " 4       81\n",
       " 22      68\n",
       " 21      64\n",
       " 19      63\n",
       " 20      62\n",
       " 14      59\n",
       " 1       57\n",
       " 9       56\n",
       " 5       53\n",
       " 11      53\n",
       "dtype: int64"
      ]
     },
     "execution_count": 112,
     "metadata": {},
     "output_type": "execute_result"
    }
   ],
   "source": [
    "# The count of speeches per topic. -1 is the noise(outlier) topic\n",
    "pd.Series(topic_model.hdbscan_model.labels_).value_counts()"
   ]
  },
  {
   "cell_type": "code",
   "execution_count": 113,
   "metadata": {},
   "outputs": [
    {
     "data": {
      "application/vnd.plotly.v1+json": {
       "config": {
        "plotlyServerURL": "https://plot.ly"
       },
       "data": [
        {
         "customdata": [
          [
           0,
           "sem | potem | tem | samo | lahko",
           916
          ],
          [
           1,
           "bank | slovenije | sistema | guverner | odgovornost",
           458
          ],
          [
           2,
           "prometu | infrastrukture | cestninjenja | varnosti | zakona",
           445
          ],
          [
           3,
           "evropske | bomo | unije | hvala | tem",
           345
          ],
          [
           4,
           "zdravil | dejavnosti | zdravnikov | ministrica | zdravstva",
           334
          ],
          [
           5,
           "odpadkov | voda | prostor | 2000 | vplivov",
           313
          ],
          [
           6,
           "unije | slovenija | republike | bo | bomo",
           224
          ],
          [
           7,
           "milijonov | proračunu | evrov | rast | rebalans",
           202
          ],
          [
           8,
           "kmetijstvo | fitofarmacevtskih | podeželja | prehrano | gozdov",
           187
          ],
          [
           9,
           "virov | električno | stavb | rabe | toplote",
           177
          ],
          [
           10,
           "dodano | vrednost | davkov | obdavčitve | pravnih",
           176
          ],
          [
           11,
           "tujcih | tretjih | zaščiti | dovoljenja | mednarodni",
           154
          ],
          [
           12,
           "bdp | rast | evrov | milijonov | proizvoda",
           131
          ],
          [
           13,
           "migrantov | zaščito | unija | slovenijo | orožje",
           112
          ],
          [
           14,
           "poslovnika | predloga | finance | zakonodajno | pojasnila",
           110
          ],
          [
           15,
           "2007 | razvoj | milijonov | evrov | politike",
           109
          ],
          [
           16,
           "instrumentov | papirjev | upravljanje | trgu | alternativnih",
           109
          ],
          [
           17,
           "elektronskega | zakona | plačilnem | sistemih | izdajo",
           108
          ],
          [
           18,
           "direktiva | hvala | ta | seveda | amandmaja",
           106
          ],
          [
           19,
           "komunikacijah | podatkov | 5g | storitve | varnost",
           98
          ],
          [
           20,
           "potrošnikov | sporov | kreditov | varstvo | izvensodnega",
           92
          ],
          [
           21,
           "predsedovanja | evropski | lizbonske | slovenija | deklaracije",
           85
          ],
          [
           22,
           "rtv | kulturo | storitvah | programov | medijske",
           81
          ],
          [
           23,
           "zakonodajno | predloga | finance | zakonskega | poslovnika",
           81
          ],
          [
           24,
           "pokojninskega | rezervacije | delodajalca | preživninski | zavarovalnicah",
           68
          ],
          [
           25,
           "podjetij | skupščini | vodenja | registrov | članarine",
           64
          ],
          [
           26,
           "vlada | ta | bom | finance | banka",
           63
          ],
          [
           27,
           "žrtev | nasilja | dejanja | odškodnin | kazenski",
           62
          ],
          [
           28,
           "tonažo | zakonika | davka | davku | nesreč",
           59
          ],
          [
           29,
           "terorizma | preprečevanje | podatkov | pranju | financiranju",
           57
          ],
          [
           30,
           "obtožbe | vlade | ustavne | nič | danes",
           56
          ],
          [
           31,
           "avtorskih | kolektivne | pravicah | sazas | intelektualne",
           53
          ],
          [
           32,
           "referendumu | migracije | sporazum | tem | civilizacije",
           53
          ]
         ],
         "hovertemplate": "<b>Topic %{customdata[0]}</b><br>%{customdata[1]}<br>Size: %{customdata[2]}",
         "legendgroup": "",
         "marker": {
          "color": "#B0BEC5",
          "line": {
           "color": "DarkSlateGrey",
           "width": 2
          },
          "size": [
           916,
           458,
           445,
           345,
           334,
           313,
           224,
           202,
           187,
           177,
           176,
           154,
           131,
           112,
           110,
           109,
           109,
           108,
           106,
           98,
           92,
           85,
           81,
           81,
           68,
           64,
           63,
           62,
           59,
           57,
           56,
           53,
           53
          ],
          "sizemode": "area",
          "sizeref": 0.5725,
          "symbol": "circle"
         },
         "mode": "markers",
         "name": "",
         "orientation": "v",
         "showlegend": false,
         "type": "scatter",
         "x": [
          -0.5320194363594055,
          -0.49368688464164734,
          0.13113555312156677,
          0.21488845348358154,
          0.5073727965354919,
          3.29787278175354,
          0.20348361134529114,
          0.7086824774742126,
          3.286191940307617,
          3.455545425415039,
          0.948759913444519,
          8.18143367767334,
          1.1015945672988892,
          8.064151763916016,
          19.443334579467773,
          1.1994935274124146,
          5.1609578132629395,
          5.165317535400391,
          0.5608839392662048,
          3.617554187774658,
          5.309814929962158,
          0.11853591352701187,
          3.5739688873291016,
          19.443330764770508,
          5.555117607116699,
          6.0887579917907715,
          -0.7075616121292114,
          8.110668182373047,
          5.275642395019531,
          5.523064613342285,
          -1.2137269973754883,
          3.764460325241089,
          -1.3565293550491333
         ],
         "xaxis": "x",
         "y": [
          -0.37463170289993286,
          0.1227533370256424,
          0.1947563886642456,
          0.09497902542352676,
          -0.10929117351770401,
          -5.6680989265441895,
          2.6093008518218994,
          2.5870447158813477,
          -5.643560409545898,
          -6.20737361907959,
          3.2968199253082275,
          9.3104829788208,
          3.1883368492126465,
          9.192978858947754,
          -2.6858487129211426,
          3.5940489768981934,
          2.425450086593628,
          1.865525484085083,
          0.3595900237560272,
          -6.68648099899292,
          2.5173189640045166,
          2.632033348083496,
          -6.813634872436523,
          -2.6858479976654053,
          2.4284470081329346,
          2.3203866481781006,
          -0.041114360094070435,
          9.239666938781738,
          1.7772091627120972,
          1.7096986770629883,
          -0.3555615544319153,
          -7.057179927825928,
          -0.2875436246395111
         ],
         "yaxis": "y"
        }
       ],
       "layout": {
        "annotations": [
         {
          "showarrow": false,
          "text": "D1",
          "x": -1.5600087583065032,
          "y": 1.2956492543220515,
          "yshift": 10
         },
         {
          "showarrow": false,
          "text": "D2",
          "x": 10.39991300404072,
          "xshift": 10,
          "y": 10.70705542564392
         }
        ],
        "height": 650,
        "hoverlabel": {
         "bgcolor": "white",
         "font": {
          "family": "Rockwell",
          "size": 16
         }
        },
        "legend": {
         "itemsizing": "constant",
         "tracegroupgap": 0
        },
        "margin": {
         "t": 60
        },
        "shapes": [
         {
          "line": {
           "color": "#CFD8DC",
           "width": 2
          },
          "type": "line",
          "x0": 10.39991300404072,
          "x1": 10.39991300404072,
          "y0": -8.115756916999818,
          "y1": 10.70705542564392
         },
         {
          "line": {
           "color": "#9E9E9E",
           "width": 2
          },
          "type": "line",
          "x0": -1.5600087583065032,
          "x1": 22.35983476638794,
          "y0": 1.2956492543220515,
          "y1": 1.2956492543220515
         }
        ],
        "sliders": [
         {
          "active": 0,
          "pad": {
           "t": 50
          },
          "steps": [
           {
            "args": [
             {
              "marker.color": [
               [
                "red",
                "#B0BEC5",
                "#B0BEC5",
                "#B0BEC5",
                "#B0BEC5",
                "#B0BEC5",
                "#B0BEC5",
                "#B0BEC5",
                "#B0BEC5",
                "#B0BEC5",
                "#B0BEC5",
                "#B0BEC5",
                "#B0BEC5",
                "#B0BEC5",
                "#B0BEC5",
                "#B0BEC5",
                "#B0BEC5",
                "#B0BEC5",
                "#B0BEC5",
                "#B0BEC5",
                "#B0BEC5",
                "#B0BEC5",
                "#B0BEC5",
                "#B0BEC5",
                "#B0BEC5",
                "#B0BEC5",
                "#B0BEC5",
                "#B0BEC5",
                "#B0BEC5",
                "#B0BEC5",
                "#B0BEC5",
                "#B0BEC5",
                "#B0BEC5"
               ]
              ]
             }
            ],
            "label": "Topic 0",
            "method": "update"
           },
           {
            "args": [
             {
              "marker.color": [
               [
                "#B0BEC5",
                "red",
                "#B0BEC5",
                "#B0BEC5",
                "#B0BEC5",
                "#B0BEC5",
                "#B0BEC5",
                "#B0BEC5",
                "#B0BEC5",
                "#B0BEC5",
                "#B0BEC5",
                "#B0BEC5",
                "#B0BEC5",
                "#B0BEC5",
                "#B0BEC5",
                "#B0BEC5",
                "#B0BEC5",
                "#B0BEC5",
                "#B0BEC5",
                "#B0BEC5",
                "#B0BEC5",
                "#B0BEC5",
                "#B0BEC5",
                "#B0BEC5",
                "#B0BEC5",
                "#B0BEC5",
                "#B0BEC5",
                "#B0BEC5",
                "#B0BEC5",
                "#B0BEC5",
                "#B0BEC5",
                "#B0BEC5",
                "#B0BEC5"
               ]
              ]
             }
            ],
            "label": "Topic 1",
            "method": "update"
           },
           {
            "args": [
             {
              "marker.color": [
               [
                "#B0BEC5",
                "#B0BEC5",
                "red",
                "#B0BEC5",
                "#B0BEC5",
                "#B0BEC5",
                "#B0BEC5",
                "#B0BEC5",
                "#B0BEC5",
                "#B0BEC5",
                "#B0BEC5",
                "#B0BEC5",
                "#B0BEC5",
                "#B0BEC5",
                "#B0BEC5",
                "#B0BEC5",
                "#B0BEC5",
                "#B0BEC5",
                "#B0BEC5",
                "#B0BEC5",
                "#B0BEC5",
                "#B0BEC5",
                "#B0BEC5",
                "#B0BEC5",
                "#B0BEC5",
                "#B0BEC5",
                "#B0BEC5",
                "#B0BEC5",
                "#B0BEC5",
                "#B0BEC5",
                "#B0BEC5",
                "#B0BEC5",
                "#B0BEC5"
               ]
              ]
             }
            ],
            "label": "Topic 2",
            "method": "update"
           },
           {
            "args": [
             {
              "marker.color": [
               [
                "#B0BEC5",
                "#B0BEC5",
                "#B0BEC5",
                "red",
                "#B0BEC5",
                "#B0BEC5",
                "#B0BEC5",
                "#B0BEC5",
                "#B0BEC5",
                "#B0BEC5",
                "#B0BEC5",
                "#B0BEC5",
                "#B0BEC5",
                "#B0BEC5",
                "#B0BEC5",
                "#B0BEC5",
                "#B0BEC5",
                "#B0BEC5",
                "#B0BEC5",
                "#B0BEC5",
                "#B0BEC5",
                "#B0BEC5",
                "#B0BEC5",
                "#B0BEC5",
                "#B0BEC5",
                "#B0BEC5",
                "#B0BEC5",
                "#B0BEC5",
                "#B0BEC5",
                "#B0BEC5",
                "#B0BEC5",
                "#B0BEC5",
                "#B0BEC5"
               ]
              ]
             }
            ],
            "label": "Topic 3",
            "method": "update"
           },
           {
            "args": [
             {
              "marker.color": [
               [
                "#B0BEC5",
                "#B0BEC5",
                "#B0BEC5",
                "#B0BEC5",
                "red",
                "#B0BEC5",
                "#B0BEC5",
                "#B0BEC5",
                "#B0BEC5",
                "#B0BEC5",
                "#B0BEC5",
                "#B0BEC5",
                "#B0BEC5",
                "#B0BEC5",
                "#B0BEC5",
                "#B0BEC5",
                "#B0BEC5",
                "#B0BEC5",
                "#B0BEC5",
                "#B0BEC5",
                "#B0BEC5",
                "#B0BEC5",
                "#B0BEC5",
                "#B0BEC5",
                "#B0BEC5",
                "#B0BEC5",
                "#B0BEC5",
                "#B0BEC5",
                "#B0BEC5",
                "#B0BEC5",
                "#B0BEC5",
                "#B0BEC5",
                "#B0BEC5"
               ]
              ]
             }
            ],
            "label": "Topic 4",
            "method": "update"
           },
           {
            "args": [
             {
              "marker.color": [
               [
                "#B0BEC5",
                "#B0BEC5",
                "#B0BEC5",
                "#B0BEC5",
                "#B0BEC5",
                "red",
                "#B0BEC5",
                "#B0BEC5",
                "#B0BEC5",
                "#B0BEC5",
                "#B0BEC5",
                "#B0BEC5",
                "#B0BEC5",
                "#B0BEC5",
                "#B0BEC5",
                "#B0BEC5",
                "#B0BEC5",
                "#B0BEC5",
                "#B0BEC5",
                "#B0BEC5",
                "#B0BEC5",
                "#B0BEC5",
                "#B0BEC5",
                "#B0BEC5",
                "#B0BEC5",
                "#B0BEC5",
                "#B0BEC5",
                "#B0BEC5",
                "#B0BEC5",
                "#B0BEC5",
                "#B0BEC5",
                "#B0BEC5",
                "#B0BEC5"
               ]
              ]
             }
            ],
            "label": "Topic 5",
            "method": "update"
           },
           {
            "args": [
             {
              "marker.color": [
               [
                "#B0BEC5",
                "#B0BEC5",
                "#B0BEC5",
                "#B0BEC5",
                "#B0BEC5",
                "#B0BEC5",
                "red",
                "#B0BEC5",
                "#B0BEC5",
                "#B0BEC5",
                "#B0BEC5",
                "#B0BEC5",
                "#B0BEC5",
                "#B0BEC5",
                "#B0BEC5",
                "#B0BEC5",
                "#B0BEC5",
                "#B0BEC5",
                "#B0BEC5",
                "#B0BEC5",
                "#B0BEC5",
                "#B0BEC5",
                "#B0BEC5",
                "#B0BEC5",
                "#B0BEC5",
                "#B0BEC5",
                "#B0BEC5",
                "#B0BEC5",
                "#B0BEC5",
                "#B0BEC5",
                "#B0BEC5",
                "#B0BEC5",
                "#B0BEC5"
               ]
              ]
             }
            ],
            "label": "Topic 6",
            "method": "update"
           },
           {
            "args": [
             {
              "marker.color": [
               [
                "#B0BEC5",
                "#B0BEC5",
                "#B0BEC5",
                "#B0BEC5",
                "#B0BEC5",
                "#B0BEC5",
                "#B0BEC5",
                "red",
                "#B0BEC5",
                "#B0BEC5",
                "#B0BEC5",
                "#B0BEC5",
                "#B0BEC5",
                "#B0BEC5",
                "#B0BEC5",
                "#B0BEC5",
                "#B0BEC5",
                "#B0BEC5",
                "#B0BEC5",
                "#B0BEC5",
                "#B0BEC5",
                "#B0BEC5",
                "#B0BEC5",
                "#B0BEC5",
                "#B0BEC5",
                "#B0BEC5",
                "#B0BEC5",
                "#B0BEC5",
                "#B0BEC5",
                "#B0BEC5",
                "#B0BEC5",
                "#B0BEC5",
                "#B0BEC5"
               ]
              ]
             }
            ],
            "label": "Topic 7",
            "method": "update"
           },
           {
            "args": [
             {
              "marker.color": [
               [
                "#B0BEC5",
                "#B0BEC5",
                "#B0BEC5",
                "#B0BEC5",
                "#B0BEC5",
                "#B0BEC5",
                "#B0BEC5",
                "#B0BEC5",
                "red",
                "#B0BEC5",
                "#B0BEC5",
                "#B0BEC5",
                "#B0BEC5",
                "#B0BEC5",
                "#B0BEC5",
                "#B0BEC5",
                "#B0BEC5",
                "#B0BEC5",
                "#B0BEC5",
                "#B0BEC5",
                "#B0BEC5",
                "#B0BEC5",
                "#B0BEC5",
                "#B0BEC5",
                "#B0BEC5",
                "#B0BEC5",
                "#B0BEC5",
                "#B0BEC5",
                "#B0BEC5",
                "#B0BEC5",
                "#B0BEC5",
                "#B0BEC5",
                "#B0BEC5"
               ]
              ]
             }
            ],
            "label": "Topic 8",
            "method": "update"
           },
           {
            "args": [
             {
              "marker.color": [
               [
                "#B0BEC5",
                "#B0BEC5",
                "#B0BEC5",
                "#B0BEC5",
                "#B0BEC5",
                "#B0BEC5",
                "#B0BEC5",
                "#B0BEC5",
                "#B0BEC5",
                "red",
                "#B0BEC5",
                "#B0BEC5",
                "#B0BEC5",
                "#B0BEC5",
                "#B0BEC5",
                "#B0BEC5",
                "#B0BEC5",
                "#B0BEC5",
                "#B0BEC5",
                "#B0BEC5",
                "#B0BEC5",
                "#B0BEC5",
                "#B0BEC5",
                "#B0BEC5",
                "#B0BEC5",
                "#B0BEC5",
                "#B0BEC5",
                "#B0BEC5",
                "#B0BEC5",
                "#B0BEC5",
                "#B0BEC5",
                "#B0BEC5",
                "#B0BEC5"
               ]
              ]
             }
            ],
            "label": "Topic 9",
            "method": "update"
           },
           {
            "args": [
             {
              "marker.color": [
               [
                "#B0BEC5",
                "#B0BEC5",
                "#B0BEC5",
                "#B0BEC5",
                "#B0BEC5",
                "#B0BEC5",
                "#B0BEC5",
                "#B0BEC5",
                "#B0BEC5",
                "#B0BEC5",
                "red",
                "#B0BEC5",
                "#B0BEC5",
                "#B0BEC5",
                "#B0BEC5",
                "#B0BEC5",
                "#B0BEC5",
                "#B0BEC5",
                "#B0BEC5",
                "#B0BEC5",
                "#B0BEC5",
                "#B0BEC5",
                "#B0BEC5",
                "#B0BEC5",
                "#B0BEC5",
                "#B0BEC5",
                "#B0BEC5",
                "#B0BEC5",
                "#B0BEC5",
                "#B0BEC5",
                "#B0BEC5",
                "#B0BEC5",
                "#B0BEC5"
               ]
              ]
             }
            ],
            "label": "Topic 10",
            "method": "update"
           },
           {
            "args": [
             {
              "marker.color": [
               [
                "#B0BEC5",
                "#B0BEC5",
                "#B0BEC5",
                "#B0BEC5",
                "#B0BEC5",
                "#B0BEC5",
                "#B0BEC5",
                "#B0BEC5",
                "#B0BEC5",
                "#B0BEC5",
                "#B0BEC5",
                "red",
                "#B0BEC5",
                "#B0BEC5",
                "#B0BEC5",
                "#B0BEC5",
                "#B0BEC5",
                "#B0BEC5",
                "#B0BEC5",
                "#B0BEC5",
                "#B0BEC5",
                "#B0BEC5",
                "#B0BEC5",
                "#B0BEC5",
                "#B0BEC5",
                "#B0BEC5",
                "#B0BEC5",
                "#B0BEC5",
                "#B0BEC5",
                "#B0BEC5",
                "#B0BEC5",
                "#B0BEC5",
                "#B0BEC5"
               ]
              ]
             }
            ],
            "label": "Topic 11",
            "method": "update"
           },
           {
            "args": [
             {
              "marker.color": [
               [
                "#B0BEC5",
                "#B0BEC5",
                "#B0BEC5",
                "#B0BEC5",
                "#B0BEC5",
                "#B0BEC5",
                "#B0BEC5",
                "#B0BEC5",
                "#B0BEC5",
                "#B0BEC5",
                "#B0BEC5",
                "#B0BEC5",
                "red",
                "#B0BEC5",
                "#B0BEC5",
                "#B0BEC5",
                "#B0BEC5",
                "#B0BEC5",
                "#B0BEC5",
                "#B0BEC5",
                "#B0BEC5",
                "#B0BEC5",
                "#B0BEC5",
                "#B0BEC5",
                "#B0BEC5",
                "#B0BEC5",
                "#B0BEC5",
                "#B0BEC5",
                "#B0BEC5",
                "#B0BEC5",
                "#B0BEC5",
                "#B0BEC5",
                "#B0BEC5"
               ]
              ]
             }
            ],
            "label": "Topic 12",
            "method": "update"
           },
           {
            "args": [
             {
              "marker.color": [
               [
                "#B0BEC5",
                "#B0BEC5",
                "#B0BEC5",
                "#B0BEC5",
                "#B0BEC5",
                "#B0BEC5",
                "#B0BEC5",
                "#B0BEC5",
                "#B0BEC5",
                "#B0BEC5",
                "#B0BEC5",
                "#B0BEC5",
                "#B0BEC5",
                "red",
                "#B0BEC5",
                "#B0BEC5",
                "#B0BEC5",
                "#B0BEC5",
                "#B0BEC5",
                "#B0BEC5",
                "#B0BEC5",
                "#B0BEC5",
                "#B0BEC5",
                "#B0BEC5",
                "#B0BEC5",
                "#B0BEC5",
                "#B0BEC5",
                "#B0BEC5",
                "#B0BEC5",
                "#B0BEC5",
                "#B0BEC5",
                "#B0BEC5",
                "#B0BEC5"
               ]
              ]
             }
            ],
            "label": "Topic 13",
            "method": "update"
           },
           {
            "args": [
             {
              "marker.color": [
               [
                "#B0BEC5",
                "#B0BEC5",
                "#B0BEC5",
                "#B0BEC5",
                "#B0BEC5",
                "#B0BEC5",
                "#B0BEC5",
                "#B0BEC5",
                "#B0BEC5",
                "#B0BEC5",
                "#B0BEC5",
                "#B0BEC5",
                "#B0BEC5",
                "#B0BEC5",
                "red",
                "#B0BEC5",
                "#B0BEC5",
                "#B0BEC5",
                "#B0BEC5",
                "#B0BEC5",
                "#B0BEC5",
                "#B0BEC5",
                "#B0BEC5",
                "#B0BEC5",
                "#B0BEC5",
                "#B0BEC5",
                "#B0BEC5",
                "#B0BEC5",
                "#B0BEC5",
                "#B0BEC5",
                "#B0BEC5",
                "#B0BEC5",
                "#B0BEC5"
               ]
              ]
             }
            ],
            "label": "Topic 14",
            "method": "update"
           },
           {
            "args": [
             {
              "marker.color": [
               [
                "#B0BEC5",
                "#B0BEC5",
                "#B0BEC5",
                "#B0BEC5",
                "#B0BEC5",
                "#B0BEC5",
                "#B0BEC5",
                "#B0BEC5",
                "#B0BEC5",
                "#B0BEC5",
                "#B0BEC5",
                "#B0BEC5",
                "#B0BEC5",
                "#B0BEC5",
                "#B0BEC5",
                "red",
                "#B0BEC5",
                "#B0BEC5",
                "#B0BEC5",
                "#B0BEC5",
                "#B0BEC5",
                "#B0BEC5",
                "#B0BEC5",
                "#B0BEC5",
                "#B0BEC5",
                "#B0BEC5",
                "#B0BEC5",
                "#B0BEC5",
                "#B0BEC5",
                "#B0BEC5",
                "#B0BEC5",
                "#B0BEC5",
                "#B0BEC5"
               ]
              ]
             }
            ],
            "label": "Topic 15",
            "method": "update"
           },
           {
            "args": [
             {
              "marker.color": [
               [
                "#B0BEC5",
                "#B0BEC5",
                "#B0BEC5",
                "#B0BEC5",
                "#B0BEC5",
                "#B0BEC5",
                "#B0BEC5",
                "#B0BEC5",
                "#B0BEC5",
                "#B0BEC5",
                "#B0BEC5",
                "#B0BEC5",
                "#B0BEC5",
                "#B0BEC5",
                "#B0BEC5",
                "#B0BEC5",
                "red",
                "#B0BEC5",
                "#B0BEC5",
                "#B0BEC5",
                "#B0BEC5",
                "#B0BEC5",
                "#B0BEC5",
                "#B0BEC5",
                "#B0BEC5",
                "#B0BEC5",
                "#B0BEC5",
                "#B0BEC5",
                "#B0BEC5",
                "#B0BEC5",
                "#B0BEC5",
                "#B0BEC5",
                "#B0BEC5"
               ]
              ]
             }
            ],
            "label": "Topic 16",
            "method": "update"
           },
           {
            "args": [
             {
              "marker.color": [
               [
                "#B0BEC5",
                "#B0BEC5",
                "#B0BEC5",
                "#B0BEC5",
                "#B0BEC5",
                "#B0BEC5",
                "#B0BEC5",
                "#B0BEC5",
                "#B0BEC5",
                "#B0BEC5",
                "#B0BEC5",
                "#B0BEC5",
                "#B0BEC5",
                "#B0BEC5",
                "#B0BEC5",
                "#B0BEC5",
                "#B0BEC5",
                "red",
                "#B0BEC5",
                "#B0BEC5",
                "#B0BEC5",
                "#B0BEC5",
                "#B0BEC5",
                "#B0BEC5",
                "#B0BEC5",
                "#B0BEC5",
                "#B0BEC5",
                "#B0BEC5",
                "#B0BEC5",
                "#B0BEC5",
                "#B0BEC5",
                "#B0BEC5",
                "#B0BEC5"
               ]
              ]
             }
            ],
            "label": "Topic 17",
            "method": "update"
           },
           {
            "args": [
             {
              "marker.color": [
               [
                "#B0BEC5",
                "#B0BEC5",
                "#B0BEC5",
                "#B0BEC5",
                "#B0BEC5",
                "#B0BEC5",
                "#B0BEC5",
                "#B0BEC5",
                "#B0BEC5",
                "#B0BEC5",
                "#B0BEC5",
                "#B0BEC5",
                "#B0BEC5",
                "#B0BEC5",
                "#B0BEC5",
                "#B0BEC5",
                "#B0BEC5",
                "#B0BEC5",
                "red",
                "#B0BEC5",
                "#B0BEC5",
                "#B0BEC5",
                "#B0BEC5",
                "#B0BEC5",
                "#B0BEC5",
                "#B0BEC5",
                "#B0BEC5",
                "#B0BEC5",
                "#B0BEC5",
                "#B0BEC5",
                "#B0BEC5",
                "#B0BEC5",
                "#B0BEC5"
               ]
              ]
             }
            ],
            "label": "Topic 18",
            "method": "update"
           },
           {
            "args": [
             {
              "marker.color": [
               [
                "#B0BEC5",
                "#B0BEC5",
                "#B0BEC5",
                "#B0BEC5",
                "#B0BEC5",
                "#B0BEC5",
                "#B0BEC5",
                "#B0BEC5",
                "#B0BEC5",
                "#B0BEC5",
                "#B0BEC5",
                "#B0BEC5",
                "#B0BEC5",
                "#B0BEC5",
                "#B0BEC5",
                "#B0BEC5",
                "#B0BEC5",
                "#B0BEC5",
                "#B0BEC5",
                "red",
                "#B0BEC5",
                "#B0BEC5",
                "#B0BEC5",
                "#B0BEC5",
                "#B0BEC5",
                "#B0BEC5",
                "#B0BEC5",
                "#B0BEC5",
                "#B0BEC5",
                "#B0BEC5",
                "#B0BEC5",
                "#B0BEC5",
                "#B0BEC5"
               ]
              ]
             }
            ],
            "label": "Topic 19",
            "method": "update"
           },
           {
            "args": [
             {
              "marker.color": [
               [
                "#B0BEC5",
                "#B0BEC5",
                "#B0BEC5",
                "#B0BEC5",
                "#B0BEC5",
                "#B0BEC5",
                "#B0BEC5",
                "#B0BEC5",
                "#B0BEC5",
                "#B0BEC5",
                "#B0BEC5",
                "#B0BEC5",
                "#B0BEC5",
                "#B0BEC5",
                "#B0BEC5",
                "#B0BEC5",
                "#B0BEC5",
                "#B0BEC5",
                "#B0BEC5",
                "#B0BEC5",
                "red",
                "#B0BEC5",
                "#B0BEC5",
                "#B0BEC5",
                "#B0BEC5",
                "#B0BEC5",
                "#B0BEC5",
                "#B0BEC5",
                "#B0BEC5",
                "#B0BEC5",
                "#B0BEC5",
                "#B0BEC5",
                "#B0BEC5"
               ]
              ]
             }
            ],
            "label": "Topic 20",
            "method": "update"
           },
           {
            "args": [
             {
              "marker.color": [
               [
                "#B0BEC5",
                "#B0BEC5",
                "#B0BEC5",
                "#B0BEC5",
                "#B0BEC5",
                "#B0BEC5",
                "#B0BEC5",
                "#B0BEC5",
                "#B0BEC5",
                "#B0BEC5",
                "#B0BEC5",
                "#B0BEC5",
                "#B0BEC5",
                "#B0BEC5",
                "#B0BEC5",
                "#B0BEC5",
                "#B0BEC5",
                "#B0BEC5",
                "#B0BEC5",
                "#B0BEC5",
                "#B0BEC5",
                "red",
                "#B0BEC5",
                "#B0BEC5",
                "#B0BEC5",
                "#B0BEC5",
                "#B0BEC5",
                "#B0BEC5",
                "#B0BEC5",
                "#B0BEC5",
                "#B0BEC5",
                "#B0BEC5",
                "#B0BEC5"
               ]
              ]
             }
            ],
            "label": "Topic 21",
            "method": "update"
           },
           {
            "args": [
             {
              "marker.color": [
               [
                "#B0BEC5",
                "#B0BEC5",
                "#B0BEC5",
                "#B0BEC5",
                "#B0BEC5",
                "#B0BEC5",
                "#B0BEC5",
                "#B0BEC5",
                "#B0BEC5",
                "#B0BEC5",
                "#B0BEC5",
                "#B0BEC5",
                "#B0BEC5",
                "#B0BEC5",
                "#B0BEC5",
                "#B0BEC5",
                "#B0BEC5",
                "#B0BEC5",
                "#B0BEC5",
                "#B0BEC5",
                "#B0BEC5",
                "#B0BEC5",
                "red",
                "#B0BEC5",
                "#B0BEC5",
                "#B0BEC5",
                "#B0BEC5",
                "#B0BEC5",
                "#B0BEC5",
                "#B0BEC5",
                "#B0BEC5",
                "#B0BEC5",
                "#B0BEC5"
               ]
              ]
             }
            ],
            "label": "Topic 22",
            "method": "update"
           },
           {
            "args": [
             {
              "marker.color": [
               [
                "#B0BEC5",
                "#B0BEC5",
                "#B0BEC5",
                "#B0BEC5",
                "#B0BEC5",
                "#B0BEC5",
                "#B0BEC5",
                "#B0BEC5",
                "#B0BEC5",
                "#B0BEC5",
                "#B0BEC5",
                "#B0BEC5",
                "#B0BEC5",
                "#B0BEC5",
                "#B0BEC5",
                "#B0BEC5",
                "#B0BEC5",
                "#B0BEC5",
                "#B0BEC5",
                "#B0BEC5",
                "#B0BEC5",
                "#B0BEC5",
                "#B0BEC5",
                "red",
                "#B0BEC5",
                "#B0BEC5",
                "#B0BEC5",
                "#B0BEC5",
                "#B0BEC5",
                "#B0BEC5",
                "#B0BEC5",
                "#B0BEC5",
                "#B0BEC5"
               ]
              ]
             }
            ],
            "label": "Topic 23",
            "method": "update"
           },
           {
            "args": [
             {
              "marker.color": [
               [
                "#B0BEC5",
                "#B0BEC5",
                "#B0BEC5",
                "#B0BEC5",
                "#B0BEC5",
                "#B0BEC5",
                "#B0BEC5",
                "#B0BEC5",
                "#B0BEC5",
                "#B0BEC5",
                "#B0BEC5",
                "#B0BEC5",
                "#B0BEC5",
                "#B0BEC5",
                "#B0BEC5",
                "#B0BEC5",
                "#B0BEC5",
                "#B0BEC5",
                "#B0BEC5",
                "#B0BEC5",
                "#B0BEC5",
                "#B0BEC5",
                "#B0BEC5",
                "#B0BEC5",
                "red",
                "#B0BEC5",
                "#B0BEC5",
                "#B0BEC5",
                "#B0BEC5",
                "#B0BEC5",
                "#B0BEC5",
                "#B0BEC5",
                "#B0BEC5"
               ]
              ]
             }
            ],
            "label": "Topic 24",
            "method": "update"
           },
           {
            "args": [
             {
              "marker.color": [
               [
                "#B0BEC5",
                "#B0BEC5",
                "#B0BEC5",
                "#B0BEC5",
                "#B0BEC5",
                "#B0BEC5",
                "#B0BEC5",
                "#B0BEC5",
                "#B0BEC5",
                "#B0BEC5",
                "#B0BEC5",
                "#B0BEC5",
                "#B0BEC5",
                "#B0BEC5",
                "#B0BEC5",
                "#B0BEC5",
                "#B0BEC5",
                "#B0BEC5",
                "#B0BEC5",
                "#B0BEC5",
                "#B0BEC5",
                "#B0BEC5",
                "#B0BEC5",
                "#B0BEC5",
                "#B0BEC5",
                "red",
                "#B0BEC5",
                "#B0BEC5",
                "#B0BEC5",
                "#B0BEC5",
                "#B0BEC5",
                "#B0BEC5",
                "#B0BEC5"
               ]
              ]
             }
            ],
            "label": "Topic 25",
            "method": "update"
           },
           {
            "args": [
             {
              "marker.color": [
               [
                "#B0BEC5",
                "#B0BEC5",
                "#B0BEC5",
                "#B0BEC5",
                "#B0BEC5",
                "#B0BEC5",
                "#B0BEC5",
                "#B0BEC5",
                "#B0BEC5",
                "#B0BEC5",
                "#B0BEC5",
                "#B0BEC5",
                "#B0BEC5",
                "#B0BEC5",
                "#B0BEC5",
                "#B0BEC5",
                "#B0BEC5",
                "#B0BEC5",
                "#B0BEC5",
                "#B0BEC5",
                "#B0BEC5",
                "#B0BEC5",
                "#B0BEC5",
                "#B0BEC5",
                "#B0BEC5",
                "#B0BEC5",
                "red",
                "#B0BEC5",
                "#B0BEC5",
                "#B0BEC5",
                "#B0BEC5",
                "#B0BEC5",
                "#B0BEC5"
               ]
              ]
             }
            ],
            "label": "Topic 26",
            "method": "update"
           },
           {
            "args": [
             {
              "marker.color": [
               [
                "#B0BEC5",
                "#B0BEC5",
                "#B0BEC5",
                "#B0BEC5",
                "#B0BEC5",
                "#B0BEC5",
                "#B0BEC5",
                "#B0BEC5",
                "#B0BEC5",
                "#B0BEC5",
                "#B0BEC5",
                "#B0BEC5",
                "#B0BEC5",
                "#B0BEC5",
                "#B0BEC5",
                "#B0BEC5",
                "#B0BEC5",
                "#B0BEC5",
                "#B0BEC5",
                "#B0BEC5",
                "#B0BEC5",
                "#B0BEC5",
                "#B0BEC5",
                "#B0BEC5",
                "#B0BEC5",
                "#B0BEC5",
                "#B0BEC5",
                "red",
                "#B0BEC5",
                "#B0BEC5",
                "#B0BEC5",
                "#B0BEC5",
                "#B0BEC5"
               ]
              ]
             }
            ],
            "label": "Topic 27",
            "method": "update"
           },
           {
            "args": [
             {
              "marker.color": [
               [
                "#B0BEC5",
                "#B0BEC5",
                "#B0BEC5",
                "#B0BEC5",
                "#B0BEC5",
                "#B0BEC5",
                "#B0BEC5",
                "#B0BEC5",
                "#B0BEC5",
                "#B0BEC5",
                "#B0BEC5",
                "#B0BEC5",
                "#B0BEC5",
                "#B0BEC5",
                "#B0BEC5",
                "#B0BEC5",
                "#B0BEC5",
                "#B0BEC5",
                "#B0BEC5",
                "#B0BEC5",
                "#B0BEC5",
                "#B0BEC5",
                "#B0BEC5",
                "#B0BEC5",
                "#B0BEC5",
                "#B0BEC5",
                "#B0BEC5",
                "#B0BEC5",
                "red",
                "#B0BEC5",
                "#B0BEC5",
                "#B0BEC5",
                "#B0BEC5"
               ]
              ]
             }
            ],
            "label": "Topic 28",
            "method": "update"
           },
           {
            "args": [
             {
              "marker.color": [
               [
                "#B0BEC5",
                "#B0BEC5",
                "#B0BEC5",
                "#B0BEC5",
                "#B0BEC5",
                "#B0BEC5",
                "#B0BEC5",
                "#B0BEC5",
                "#B0BEC5",
                "#B0BEC5",
                "#B0BEC5",
                "#B0BEC5",
                "#B0BEC5",
                "#B0BEC5",
                "#B0BEC5",
                "#B0BEC5",
                "#B0BEC5",
                "#B0BEC5",
                "#B0BEC5",
                "#B0BEC5",
                "#B0BEC5",
                "#B0BEC5",
                "#B0BEC5",
                "#B0BEC5",
                "#B0BEC5",
                "#B0BEC5",
                "#B0BEC5",
                "#B0BEC5",
                "#B0BEC5",
                "red",
                "#B0BEC5",
                "#B0BEC5",
                "#B0BEC5"
               ]
              ]
             }
            ],
            "label": "Topic 29",
            "method": "update"
           },
           {
            "args": [
             {
              "marker.color": [
               [
                "#B0BEC5",
                "#B0BEC5",
                "#B0BEC5",
                "#B0BEC5",
                "#B0BEC5",
                "#B0BEC5",
                "#B0BEC5",
                "#B0BEC5",
                "#B0BEC5",
                "#B0BEC5",
                "#B0BEC5",
                "#B0BEC5",
                "#B0BEC5",
                "#B0BEC5",
                "#B0BEC5",
                "#B0BEC5",
                "#B0BEC5",
                "#B0BEC5",
                "#B0BEC5",
                "#B0BEC5",
                "#B0BEC5",
                "#B0BEC5",
                "#B0BEC5",
                "#B0BEC5",
                "#B0BEC5",
                "#B0BEC5",
                "#B0BEC5",
                "#B0BEC5",
                "#B0BEC5",
                "#B0BEC5",
                "red",
                "#B0BEC5",
                "#B0BEC5"
               ]
              ]
             }
            ],
            "label": "Topic 30",
            "method": "update"
           },
           {
            "args": [
             {
              "marker.color": [
               [
                "#B0BEC5",
                "#B0BEC5",
                "#B0BEC5",
                "#B0BEC5",
                "#B0BEC5",
                "#B0BEC5",
                "#B0BEC5",
                "#B0BEC5",
                "#B0BEC5",
                "#B0BEC5",
                "#B0BEC5",
                "#B0BEC5",
                "#B0BEC5",
                "#B0BEC5",
                "#B0BEC5",
                "#B0BEC5",
                "#B0BEC5",
                "#B0BEC5",
                "#B0BEC5",
                "#B0BEC5",
                "#B0BEC5",
                "#B0BEC5",
                "#B0BEC5",
                "#B0BEC5",
                "#B0BEC5",
                "#B0BEC5",
                "#B0BEC5",
                "#B0BEC5",
                "#B0BEC5",
                "#B0BEC5",
                "#B0BEC5",
                "red",
                "#B0BEC5"
               ]
              ]
             }
            ],
            "label": "Topic 31",
            "method": "update"
           },
           {
            "args": [
             {
              "marker.color": [
               [
                "#B0BEC5",
                "#B0BEC5",
                "#B0BEC5",
                "#B0BEC5",
                "#B0BEC5",
                "#B0BEC5",
                "#B0BEC5",
                "#B0BEC5",
                "#B0BEC5",
                "#B0BEC5",
                "#B0BEC5",
                "#B0BEC5",
                "#B0BEC5",
                "#B0BEC5",
                "#B0BEC5",
                "#B0BEC5",
                "#B0BEC5",
                "#B0BEC5",
                "#B0BEC5",
                "#B0BEC5",
                "#B0BEC5",
                "#B0BEC5",
                "#B0BEC5",
                "#B0BEC5",
                "#B0BEC5",
                "#B0BEC5",
                "#B0BEC5",
                "#B0BEC5",
                "#B0BEC5",
                "#B0BEC5",
                "#B0BEC5",
                "#B0BEC5",
                "red"
               ]
              ]
             }
            ],
            "label": "Topic 32",
            "method": "update"
           }
          ]
         }
        ],
        "template": {
         "data": {
          "bar": [
           {
            "error_x": {
             "color": "rgb(36,36,36)"
            },
            "error_y": {
             "color": "rgb(36,36,36)"
            },
            "marker": {
             "line": {
              "color": "white",
              "width": 0.5
             },
             "pattern": {
              "fillmode": "overlay",
              "size": 10,
              "solidity": 0.2
             }
            },
            "type": "bar"
           }
          ],
          "barpolar": [
           {
            "marker": {
             "line": {
              "color": "white",
              "width": 0.5
             },
             "pattern": {
              "fillmode": "overlay",
              "size": 10,
              "solidity": 0.2
             }
            },
            "type": "barpolar"
           }
          ],
          "carpet": [
           {
            "aaxis": {
             "endlinecolor": "rgb(36,36,36)",
             "gridcolor": "white",
             "linecolor": "white",
             "minorgridcolor": "white",
             "startlinecolor": "rgb(36,36,36)"
            },
            "baxis": {
             "endlinecolor": "rgb(36,36,36)",
             "gridcolor": "white",
             "linecolor": "white",
             "minorgridcolor": "white",
             "startlinecolor": "rgb(36,36,36)"
            },
            "type": "carpet"
           }
          ],
          "choropleth": [
           {
            "colorbar": {
             "outlinewidth": 1,
             "tickcolor": "rgb(36,36,36)",
             "ticks": "outside"
            },
            "type": "choropleth"
           }
          ],
          "contour": [
           {
            "colorbar": {
             "outlinewidth": 1,
             "tickcolor": "rgb(36,36,36)",
             "ticks": "outside"
            },
            "colorscale": [
             [
              0,
              "#440154"
             ],
             [
              0.1111111111111111,
              "#482878"
             ],
             [
              0.2222222222222222,
              "#3e4989"
             ],
             [
              0.3333333333333333,
              "#31688e"
             ],
             [
              0.4444444444444444,
              "#26828e"
             ],
             [
              0.5555555555555556,
              "#1f9e89"
             ],
             [
              0.6666666666666666,
              "#35b779"
             ],
             [
              0.7777777777777778,
              "#6ece58"
             ],
             [
              0.8888888888888888,
              "#b5de2b"
             ],
             [
              1,
              "#fde725"
             ]
            ],
            "type": "contour"
           }
          ],
          "contourcarpet": [
           {
            "colorbar": {
             "outlinewidth": 1,
             "tickcolor": "rgb(36,36,36)",
             "ticks": "outside"
            },
            "type": "contourcarpet"
           }
          ],
          "heatmap": [
           {
            "colorbar": {
             "outlinewidth": 1,
             "tickcolor": "rgb(36,36,36)",
             "ticks": "outside"
            },
            "colorscale": [
             [
              0,
              "#440154"
             ],
             [
              0.1111111111111111,
              "#482878"
             ],
             [
              0.2222222222222222,
              "#3e4989"
             ],
             [
              0.3333333333333333,
              "#31688e"
             ],
             [
              0.4444444444444444,
              "#26828e"
             ],
             [
              0.5555555555555556,
              "#1f9e89"
             ],
             [
              0.6666666666666666,
              "#35b779"
             ],
             [
              0.7777777777777778,
              "#6ece58"
             ],
             [
              0.8888888888888888,
              "#b5de2b"
             ],
             [
              1,
              "#fde725"
             ]
            ],
            "type": "heatmap"
           }
          ],
          "heatmapgl": [
           {
            "colorbar": {
             "outlinewidth": 1,
             "tickcolor": "rgb(36,36,36)",
             "ticks": "outside"
            },
            "colorscale": [
             [
              0,
              "#440154"
             ],
             [
              0.1111111111111111,
              "#482878"
             ],
             [
              0.2222222222222222,
              "#3e4989"
             ],
             [
              0.3333333333333333,
              "#31688e"
             ],
             [
              0.4444444444444444,
              "#26828e"
             ],
             [
              0.5555555555555556,
              "#1f9e89"
             ],
             [
              0.6666666666666666,
              "#35b779"
             ],
             [
              0.7777777777777778,
              "#6ece58"
             ],
             [
              0.8888888888888888,
              "#b5de2b"
             ],
             [
              1,
              "#fde725"
             ]
            ],
            "type": "heatmapgl"
           }
          ],
          "histogram": [
           {
            "marker": {
             "line": {
              "color": "white",
              "width": 0.6
             }
            },
            "type": "histogram"
           }
          ],
          "histogram2d": [
           {
            "colorbar": {
             "outlinewidth": 1,
             "tickcolor": "rgb(36,36,36)",
             "ticks": "outside"
            },
            "colorscale": [
             [
              0,
              "#440154"
             ],
             [
              0.1111111111111111,
              "#482878"
             ],
             [
              0.2222222222222222,
              "#3e4989"
             ],
             [
              0.3333333333333333,
              "#31688e"
             ],
             [
              0.4444444444444444,
              "#26828e"
             ],
             [
              0.5555555555555556,
              "#1f9e89"
             ],
             [
              0.6666666666666666,
              "#35b779"
             ],
             [
              0.7777777777777778,
              "#6ece58"
             ],
             [
              0.8888888888888888,
              "#b5de2b"
             ],
             [
              1,
              "#fde725"
             ]
            ],
            "type": "histogram2d"
           }
          ],
          "histogram2dcontour": [
           {
            "colorbar": {
             "outlinewidth": 1,
             "tickcolor": "rgb(36,36,36)",
             "ticks": "outside"
            },
            "colorscale": [
             [
              0,
              "#440154"
             ],
             [
              0.1111111111111111,
              "#482878"
             ],
             [
              0.2222222222222222,
              "#3e4989"
             ],
             [
              0.3333333333333333,
              "#31688e"
             ],
             [
              0.4444444444444444,
              "#26828e"
             ],
             [
              0.5555555555555556,
              "#1f9e89"
             ],
             [
              0.6666666666666666,
              "#35b779"
             ],
             [
              0.7777777777777778,
              "#6ece58"
             ],
             [
              0.8888888888888888,
              "#b5de2b"
             ],
             [
              1,
              "#fde725"
             ]
            ],
            "type": "histogram2dcontour"
           }
          ],
          "mesh3d": [
           {
            "colorbar": {
             "outlinewidth": 1,
             "tickcolor": "rgb(36,36,36)",
             "ticks": "outside"
            },
            "type": "mesh3d"
           }
          ],
          "parcoords": [
           {
            "line": {
             "colorbar": {
              "outlinewidth": 1,
              "tickcolor": "rgb(36,36,36)",
              "ticks": "outside"
             }
            },
            "type": "parcoords"
           }
          ],
          "pie": [
           {
            "automargin": true,
            "type": "pie"
           }
          ],
          "scatter": [
           {
            "fillpattern": {
             "fillmode": "overlay",
             "size": 10,
             "solidity": 0.2
            },
            "type": "scatter"
           }
          ],
          "scatter3d": [
           {
            "line": {
             "colorbar": {
              "outlinewidth": 1,
              "tickcolor": "rgb(36,36,36)",
              "ticks": "outside"
             }
            },
            "marker": {
             "colorbar": {
              "outlinewidth": 1,
              "tickcolor": "rgb(36,36,36)",
              "ticks": "outside"
             }
            },
            "type": "scatter3d"
           }
          ],
          "scattercarpet": [
           {
            "marker": {
             "colorbar": {
              "outlinewidth": 1,
              "tickcolor": "rgb(36,36,36)",
              "ticks": "outside"
             }
            },
            "type": "scattercarpet"
           }
          ],
          "scattergeo": [
           {
            "marker": {
             "colorbar": {
              "outlinewidth": 1,
              "tickcolor": "rgb(36,36,36)",
              "ticks": "outside"
             }
            },
            "type": "scattergeo"
           }
          ],
          "scattergl": [
           {
            "marker": {
             "colorbar": {
              "outlinewidth": 1,
              "tickcolor": "rgb(36,36,36)",
              "ticks": "outside"
             }
            },
            "type": "scattergl"
           }
          ],
          "scattermapbox": [
           {
            "marker": {
             "colorbar": {
              "outlinewidth": 1,
              "tickcolor": "rgb(36,36,36)",
              "ticks": "outside"
             }
            },
            "type": "scattermapbox"
           }
          ],
          "scatterpolar": [
           {
            "marker": {
             "colorbar": {
              "outlinewidth": 1,
              "tickcolor": "rgb(36,36,36)",
              "ticks": "outside"
             }
            },
            "type": "scatterpolar"
           }
          ],
          "scatterpolargl": [
           {
            "marker": {
             "colorbar": {
              "outlinewidth": 1,
              "tickcolor": "rgb(36,36,36)",
              "ticks": "outside"
             }
            },
            "type": "scatterpolargl"
           }
          ],
          "scatterternary": [
           {
            "marker": {
             "colorbar": {
              "outlinewidth": 1,
              "tickcolor": "rgb(36,36,36)",
              "ticks": "outside"
             }
            },
            "type": "scatterternary"
           }
          ],
          "surface": [
           {
            "colorbar": {
             "outlinewidth": 1,
             "tickcolor": "rgb(36,36,36)",
             "ticks": "outside"
            },
            "colorscale": [
             [
              0,
              "#440154"
             ],
             [
              0.1111111111111111,
              "#482878"
             ],
             [
              0.2222222222222222,
              "#3e4989"
             ],
             [
              0.3333333333333333,
              "#31688e"
             ],
             [
              0.4444444444444444,
              "#26828e"
             ],
             [
              0.5555555555555556,
              "#1f9e89"
             ],
             [
              0.6666666666666666,
              "#35b779"
             ],
             [
              0.7777777777777778,
              "#6ece58"
             ],
             [
              0.8888888888888888,
              "#b5de2b"
             ],
             [
              1,
              "#fde725"
             ]
            ],
            "type": "surface"
           }
          ],
          "table": [
           {
            "cells": {
             "fill": {
              "color": "rgb(237,237,237)"
             },
             "line": {
              "color": "white"
             }
            },
            "header": {
             "fill": {
              "color": "rgb(217,217,217)"
             },
             "line": {
              "color": "white"
             }
            },
            "type": "table"
           }
          ]
         },
         "layout": {
          "annotationdefaults": {
           "arrowhead": 0,
           "arrowwidth": 1
          },
          "autotypenumbers": "strict",
          "coloraxis": {
           "colorbar": {
            "outlinewidth": 1,
            "tickcolor": "rgb(36,36,36)",
            "ticks": "outside"
           }
          },
          "colorscale": {
           "diverging": [
            [
             0,
             "rgb(103,0,31)"
            ],
            [
             0.1,
             "rgb(178,24,43)"
            ],
            [
             0.2,
             "rgb(214,96,77)"
            ],
            [
             0.3,
             "rgb(244,165,130)"
            ],
            [
             0.4,
             "rgb(253,219,199)"
            ],
            [
             0.5,
             "rgb(247,247,247)"
            ],
            [
             0.6,
             "rgb(209,229,240)"
            ],
            [
             0.7,
             "rgb(146,197,222)"
            ],
            [
             0.8,
             "rgb(67,147,195)"
            ],
            [
             0.9,
             "rgb(33,102,172)"
            ],
            [
             1,
             "rgb(5,48,97)"
            ]
           ],
           "sequential": [
            [
             0,
             "#440154"
            ],
            [
             0.1111111111111111,
             "#482878"
            ],
            [
             0.2222222222222222,
             "#3e4989"
            ],
            [
             0.3333333333333333,
             "#31688e"
            ],
            [
             0.4444444444444444,
             "#26828e"
            ],
            [
             0.5555555555555556,
             "#1f9e89"
            ],
            [
             0.6666666666666666,
             "#35b779"
            ],
            [
             0.7777777777777778,
             "#6ece58"
            ],
            [
             0.8888888888888888,
             "#b5de2b"
            ],
            [
             1,
             "#fde725"
            ]
           ],
           "sequentialminus": [
            [
             0,
             "#440154"
            ],
            [
             0.1111111111111111,
             "#482878"
            ],
            [
             0.2222222222222222,
             "#3e4989"
            ],
            [
             0.3333333333333333,
             "#31688e"
            ],
            [
             0.4444444444444444,
             "#26828e"
            ],
            [
             0.5555555555555556,
             "#1f9e89"
            ],
            [
             0.6666666666666666,
             "#35b779"
            ],
            [
             0.7777777777777778,
             "#6ece58"
            ],
            [
             0.8888888888888888,
             "#b5de2b"
            ],
            [
             1,
             "#fde725"
            ]
           ]
          },
          "colorway": [
           "#1F77B4",
           "#FF7F0E",
           "#2CA02C",
           "#D62728",
           "#9467BD",
           "#8C564B",
           "#E377C2",
           "#7F7F7F",
           "#BCBD22",
           "#17BECF"
          ],
          "font": {
           "color": "rgb(36,36,36)"
          },
          "geo": {
           "bgcolor": "white",
           "lakecolor": "white",
           "landcolor": "white",
           "showlakes": true,
           "showland": true,
           "subunitcolor": "white"
          },
          "hoverlabel": {
           "align": "left"
          },
          "hovermode": "closest",
          "mapbox": {
           "style": "light"
          },
          "paper_bgcolor": "white",
          "plot_bgcolor": "white",
          "polar": {
           "angularaxis": {
            "gridcolor": "rgb(232,232,232)",
            "linecolor": "rgb(36,36,36)",
            "showgrid": false,
            "showline": true,
            "ticks": "outside"
           },
           "bgcolor": "white",
           "radialaxis": {
            "gridcolor": "rgb(232,232,232)",
            "linecolor": "rgb(36,36,36)",
            "showgrid": false,
            "showline": true,
            "ticks": "outside"
           }
          },
          "scene": {
           "xaxis": {
            "backgroundcolor": "white",
            "gridcolor": "rgb(232,232,232)",
            "gridwidth": 2,
            "linecolor": "rgb(36,36,36)",
            "showbackground": true,
            "showgrid": false,
            "showline": true,
            "ticks": "outside",
            "zeroline": false,
            "zerolinecolor": "rgb(36,36,36)"
           },
           "yaxis": {
            "backgroundcolor": "white",
            "gridcolor": "rgb(232,232,232)",
            "gridwidth": 2,
            "linecolor": "rgb(36,36,36)",
            "showbackground": true,
            "showgrid": false,
            "showline": true,
            "ticks": "outside",
            "zeroline": false,
            "zerolinecolor": "rgb(36,36,36)"
           },
           "zaxis": {
            "backgroundcolor": "white",
            "gridcolor": "rgb(232,232,232)",
            "gridwidth": 2,
            "linecolor": "rgb(36,36,36)",
            "showbackground": true,
            "showgrid": false,
            "showline": true,
            "ticks": "outside",
            "zeroline": false,
            "zerolinecolor": "rgb(36,36,36)"
           }
          },
          "shapedefaults": {
           "fillcolor": "black",
           "line": {
            "width": 0
           },
           "opacity": 0.3
          },
          "ternary": {
           "aaxis": {
            "gridcolor": "rgb(232,232,232)",
            "linecolor": "rgb(36,36,36)",
            "showgrid": false,
            "showline": true,
            "ticks": "outside"
           },
           "baxis": {
            "gridcolor": "rgb(232,232,232)",
            "linecolor": "rgb(36,36,36)",
            "showgrid": false,
            "showline": true,
            "ticks": "outside"
           },
           "bgcolor": "white",
           "caxis": {
            "gridcolor": "rgb(232,232,232)",
            "linecolor": "rgb(36,36,36)",
            "showgrid": false,
            "showline": true,
            "ticks": "outside"
           }
          },
          "title": {
           "x": 0.05
          },
          "xaxis": {
           "automargin": true,
           "gridcolor": "rgb(232,232,232)",
           "linecolor": "rgb(36,36,36)",
           "showgrid": false,
           "showline": true,
           "ticks": "outside",
           "title": {
            "standoff": 15
           },
           "zeroline": false,
           "zerolinecolor": "rgb(36,36,36)"
          },
          "yaxis": {
           "automargin": true,
           "gridcolor": "rgb(232,232,232)",
           "linecolor": "rgb(36,36,36)",
           "showgrid": false,
           "showline": true,
           "ticks": "outside",
           "title": {
            "standoff": 15
           },
           "zeroline": false,
           "zerolinecolor": "rgb(36,36,36)"
          }
         }
        },
        "title": {
         "font": {
          "color": "Black",
          "size": 22
         },
         "text": "<b>Intertopic Distance Map</b>",
         "x": 0.5,
         "xanchor": "center",
         "y": 0.95,
         "yanchor": "top"
        },
        "width": 650,
        "xaxis": {
         "anchor": "y",
         "domain": [
          0,
          1
         ],
         "range": [
          -1.5600087583065032,
          22.35983476638794
         ],
         "title": {
          "text": ""
         },
         "visible": false
        },
        "yaxis": {
         "anchor": "x",
         "domain": [
          0,
          1
         ],
         "range": [
          -8.115756916999818,
          10.70705542564392
         ],
         "title": {
          "text": ""
         },
         "visible": false
        }
       }
      },
      "text/html": [
       "<div>                            <div id=\"e0ae51f2-bb69-4242-aa21-2f489de7ff33\" class=\"plotly-graph-div\" style=\"height:650px; width:650px;\"></div>            <script type=\"text/javascript\">                require([\"plotly\"], function(Plotly) {                    window.PLOTLYENV=window.PLOTLYENV || {};                                    if (document.getElementById(\"e0ae51f2-bb69-4242-aa21-2f489de7ff33\")) {                    Plotly.newPlot(                        \"e0ae51f2-bb69-4242-aa21-2f489de7ff33\",                        [{\"customdata\":[[0,\"sem | potem | tem | samo | lahko\",916],[1,\"bank | slovenije | sistema | guverner | odgovornost\",458],[2,\"prometu | infrastrukture | cestninjenja | varnosti | zakona\",445],[3,\"evropske | bomo | unije | hvala | tem\",345],[4,\"zdravil | dejavnosti | zdravnikov | ministrica | zdravstva\",334],[5,\"odpadkov | voda | prostor | 2000 | vplivov\",313],[6,\"unije | slovenija | republike | bo | bomo\",224],[7,\"milijonov | prora\\u010dunu | evrov | rast | rebalans\",202],[8,\"kmetijstvo | fitofarmacevtskih | pode\\u017eelja | prehrano | gozdov\",187],[9,\"virov | elektri\\u010dno | stavb | rabe | toplote\",177],[10,\"dodano | vrednost | davkov | obdav\\u010ditve | pravnih\",176],[11,\"tujcih | tretjih | za\\u0161\\u010diti | dovoljenja | mednarodni\",154],[12,\"bdp | rast | evrov | milijonov | proizvoda\",131],[13,\"migrantov | za\\u0161\\u010dito | unija | slovenijo | oro\\u017eje\",112],[14,\"poslovnika | predloga | finance | zakonodajno | pojasnila\",110],[15,\"2007 | razvoj | milijonov | evrov | politike\",109],[16,\"instrumentov | papirjev | upravljanje | trgu | alternativnih\",109],[17,\"elektronskega | zakona | pla\\u010dilnem | sistemih | izdajo\",108],[18,\"direktiva | hvala | ta | seveda | amandmaja\",106],[19,\"komunikacijah | podatkov | 5g | storitve | varnost\",98],[20,\"potro\\u0161nikov | sporov | kreditov | varstvo | izvensodnega\",92],[21,\"predsedovanja | evropski | lizbonske | slovenija | deklaracije\",85],[22,\"rtv | kulturo | storitvah | programov | medijske\",81],[23,\"zakonodajno | predloga | finance | zakonskega | poslovnika\",81],[24,\"pokojninskega | rezervacije | delodajalca | pre\\u017eivninski | zavarovalnicah\",68],[25,\"podjetij | skup\\u0161\\u010dini | vodenja | registrov | \\u010dlanarine\",64],[26,\"vlada | ta | bom | finance | banka\",63],[27,\"\\u017ertev | nasilja | dejanja | od\\u0161kodnin | kazenski\",62],[28,\"tona\\u017eo | zakonika | davka | davku | nesre\\u010d\",59],[29,\"terorizma | prepre\\u010devanje | podatkov | pranju | financiranju\",57],[30,\"obto\\u017ebe | vlade | ustavne | ni\\u010d | danes\",56],[31,\"avtorskih | kolektivne | pravicah | sazas | intelektualne\",53],[32,\"referendumu | migracije | sporazum | tem | civilizacije\",53]],\"hovertemplate\":\"<b>Topic %{customdata[0]}</b><br>%{customdata[1]}<br>Size: %{customdata[2]}\",\"legendgroup\":\"\",\"marker\":{\"color\":\"#B0BEC5\",\"size\":[916,458,445,345,334,313,224,202,187,177,176,154,131,112,110,109,109,108,106,98,92,85,81,81,68,64,63,62,59,57,56,53,53],\"sizemode\":\"area\",\"sizeref\":0.5725,\"symbol\":\"circle\",\"line\":{\"color\":\"DarkSlateGrey\",\"width\":2}},\"mode\":\"markers\",\"name\":\"\",\"orientation\":\"v\",\"showlegend\":false,\"x\":[-0.5320194363594055,-0.49368688464164734,0.13113555312156677,0.21488845348358154,0.5073727965354919,3.29787278175354,0.20348361134529114,0.7086824774742126,3.286191940307617,3.455545425415039,0.948759913444519,8.18143367767334,1.1015945672988892,8.064151763916016,19.443334579467773,1.1994935274124146,5.1609578132629395,5.165317535400391,0.5608839392662048,3.617554187774658,5.309814929962158,0.11853591352701187,3.5739688873291016,19.443330764770508,5.555117607116699,6.0887579917907715,-0.7075616121292114,8.110668182373047,5.275642395019531,5.523064613342285,-1.2137269973754883,3.764460325241089,-1.3565293550491333],\"xaxis\":\"x\",\"y\":[-0.37463170289993286,0.1227533370256424,0.1947563886642456,0.09497902542352676,-0.10929117351770401,-5.6680989265441895,2.6093008518218994,2.5870447158813477,-5.643560409545898,-6.20737361907959,3.2968199253082275,9.3104829788208,3.1883368492126465,9.192978858947754,-2.6858487129211426,3.5940489768981934,2.425450086593628,1.865525484085083,0.3595900237560272,-6.68648099899292,2.5173189640045166,2.632033348083496,-6.813634872436523,-2.6858479976654053,2.4284470081329346,2.3203866481781006,-0.041114360094070435,9.239666938781738,1.7772091627120972,1.7096986770629883,-0.3555615544319153,-7.057179927825928,-0.2875436246395111],\"yaxis\":\"y\",\"type\":\"scatter\"}],                        {\"template\":{\"data\":{\"barpolar\":[{\"marker\":{\"line\":{\"color\":\"white\",\"width\":0.5},\"pattern\":{\"fillmode\":\"overlay\",\"size\":10,\"solidity\":0.2}},\"type\":\"barpolar\"}],\"bar\":[{\"error_x\":{\"color\":\"rgb(36,36,36)\"},\"error_y\":{\"color\":\"rgb(36,36,36)\"},\"marker\":{\"line\":{\"color\":\"white\",\"width\":0.5},\"pattern\":{\"fillmode\":\"overlay\",\"size\":10,\"solidity\":0.2}},\"type\":\"bar\"}],\"carpet\":[{\"aaxis\":{\"endlinecolor\":\"rgb(36,36,36)\",\"gridcolor\":\"white\",\"linecolor\":\"white\",\"minorgridcolor\":\"white\",\"startlinecolor\":\"rgb(36,36,36)\"},\"baxis\":{\"endlinecolor\":\"rgb(36,36,36)\",\"gridcolor\":\"white\",\"linecolor\":\"white\",\"minorgridcolor\":\"white\",\"startlinecolor\":\"rgb(36,36,36)\"},\"type\":\"carpet\"}],\"choropleth\":[{\"colorbar\":{\"outlinewidth\":1,\"tickcolor\":\"rgb(36,36,36)\",\"ticks\":\"outside\"},\"type\":\"choropleth\"}],\"contourcarpet\":[{\"colorbar\":{\"outlinewidth\":1,\"tickcolor\":\"rgb(36,36,36)\",\"ticks\":\"outside\"},\"type\":\"contourcarpet\"}],\"contour\":[{\"colorbar\":{\"outlinewidth\":1,\"tickcolor\":\"rgb(36,36,36)\",\"ticks\":\"outside\"},\"colorscale\":[[0.0,\"#440154\"],[0.1111111111111111,\"#482878\"],[0.2222222222222222,\"#3e4989\"],[0.3333333333333333,\"#31688e\"],[0.4444444444444444,\"#26828e\"],[0.5555555555555556,\"#1f9e89\"],[0.6666666666666666,\"#35b779\"],[0.7777777777777778,\"#6ece58\"],[0.8888888888888888,\"#b5de2b\"],[1.0,\"#fde725\"]],\"type\":\"contour\"}],\"heatmapgl\":[{\"colorbar\":{\"outlinewidth\":1,\"tickcolor\":\"rgb(36,36,36)\",\"ticks\":\"outside\"},\"colorscale\":[[0.0,\"#440154\"],[0.1111111111111111,\"#482878\"],[0.2222222222222222,\"#3e4989\"],[0.3333333333333333,\"#31688e\"],[0.4444444444444444,\"#26828e\"],[0.5555555555555556,\"#1f9e89\"],[0.6666666666666666,\"#35b779\"],[0.7777777777777778,\"#6ece58\"],[0.8888888888888888,\"#b5de2b\"],[1.0,\"#fde725\"]],\"type\":\"heatmapgl\"}],\"heatmap\":[{\"colorbar\":{\"outlinewidth\":1,\"tickcolor\":\"rgb(36,36,36)\",\"ticks\":\"outside\"},\"colorscale\":[[0.0,\"#440154\"],[0.1111111111111111,\"#482878\"],[0.2222222222222222,\"#3e4989\"],[0.3333333333333333,\"#31688e\"],[0.4444444444444444,\"#26828e\"],[0.5555555555555556,\"#1f9e89\"],[0.6666666666666666,\"#35b779\"],[0.7777777777777778,\"#6ece58\"],[0.8888888888888888,\"#b5de2b\"],[1.0,\"#fde725\"]],\"type\":\"heatmap\"}],\"histogram2dcontour\":[{\"colorbar\":{\"outlinewidth\":1,\"tickcolor\":\"rgb(36,36,36)\",\"ticks\":\"outside\"},\"colorscale\":[[0.0,\"#440154\"],[0.1111111111111111,\"#482878\"],[0.2222222222222222,\"#3e4989\"],[0.3333333333333333,\"#31688e\"],[0.4444444444444444,\"#26828e\"],[0.5555555555555556,\"#1f9e89\"],[0.6666666666666666,\"#35b779\"],[0.7777777777777778,\"#6ece58\"],[0.8888888888888888,\"#b5de2b\"],[1.0,\"#fde725\"]],\"type\":\"histogram2dcontour\"}],\"histogram2d\":[{\"colorbar\":{\"outlinewidth\":1,\"tickcolor\":\"rgb(36,36,36)\",\"ticks\":\"outside\"},\"colorscale\":[[0.0,\"#440154\"],[0.1111111111111111,\"#482878\"],[0.2222222222222222,\"#3e4989\"],[0.3333333333333333,\"#31688e\"],[0.4444444444444444,\"#26828e\"],[0.5555555555555556,\"#1f9e89\"],[0.6666666666666666,\"#35b779\"],[0.7777777777777778,\"#6ece58\"],[0.8888888888888888,\"#b5de2b\"],[1.0,\"#fde725\"]],\"type\":\"histogram2d\"}],\"histogram\":[{\"marker\":{\"line\":{\"color\":\"white\",\"width\":0.6}},\"type\":\"histogram\"}],\"mesh3d\":[{\"colorbar\":{\"outlinewidth\":1,\"tickcolor\":\"rgb(36,36,36)\",\"ticks\":\"outside\"},\"type\":\"mesh3d\"}],\"parcoords\":[{\"line\":{\"colorbar\":{\"outlinewidth\":1,\"tickcolor\":\"rgb(36,36,36)\",\"ticks\":\"outside\"}},\"type\":\"parcoords\"}],\"pie\":[{\"automargin\":true,\"type\":\"pie\"}],\"scatter3d\":[{\"line\":{\"colorbar\":{\"outlinewidth\":1,\"tickcolor\":\"rgb(36,36,36)\",\"ticks\":\"outside\"}},\"marker\":{\"colorbar\":{\"outlinewidth\":1,\"tickcolor\":\"rgb(36,36,36)\",\"ticks\":\"outside\"}},\"type\":\"scatter3d\"}],\"scattercarpet\":[{\"marker\":{\"colorbar\":{\"outlinewidth\":1,\"tickcolor\":\"rgb(36,36,36)\",\"ticks\":\"outside\"}},\"type\":\"scattercarpet\"}],\"scattergeo\":[{\"marker\":{\"colorbar\":{\"outlinewidth\":1,\"tickcolor\":\"rgb(36,36,36)\",\"ticks\":\"outside\"}},\"type\":\"scattergeo\"}],\"scattergl\":[{\"marker\":{\"colorbar\":{\"outlinewidth\":1,\"tickcolor\":\"rgb(36,36,36)\",\"ticks\":\"outside\"}},\"type\":\"scattergl\"}],\"scattermapbox\":[{\"marker\":{\"colorbar\":{\"outlinewidth\":1,\"tickcolor\":\"rgb(36,36,36)\",\"ticks\":\"outside\"}},\"type\":\"scattermapbox\"}],\"scatterpolargl\":[{\"marker\":{\"colorbar\":{\"outlinewidth\":1,\"tickcolor\":\"rgb(36,36,36)\",\"ticks\":\"outside\"}},\"type\":\"scatterpolargl\"}],\"scatterpolar\":[{\"marker\":{\"colorbar\":{\"outlinewidth\":1,\"tickcolor\":\"rgb(36,36,36)\",\"ticks\":\"outside\"}},\"type\":\"scatterpolar\"}],\"scatter\":[{\"fillpattern\":{\"fillmode\":\"overlay\",\"size\":10,\"solidity\":0.2},\"type\":\"scatter\"}],\"scatterternary\":[{\"marker\":{\"colorbar\":{\"outlinewidth\":1,\"tickcolor\":\"rgb(36,36,36)\",\"ticks\":\"outside\"}},\"type\":\"scatterternary\"}],\"surface\":[{\"colorbar\":{\"outlinewidth\":1,\"tickcolor\":\"rgb(36,36,36)\",\"ticks\":\"outside\"},\"colorscale\":[[0.0,\"#440154\"],[0.1111111111111111,\"#482878\"],[0.2222222222222222,\"#3e4989\"],[0.3333333333333333,\"#31688e\"],[0.4444444444444444,\"#26828e\"],[0.5555555555555556,\"#1f9e89\"],[0.6666666666666666,\"#35b779\"],[0.7777777777777778,\"#6ece58\"],[0.8888888888888888,\"#b5de2b\"],[1.0,\"#fde725\"]],\"type\":\"surface\"}],\"table\":[{\"cells\":{\"fill\":{\"color\":\"rgb(237,237,237)\"},\"line\":{\"color\":\"white\"}},\"header\":{\"fill\":{\"color\":\"rgb(217,217,217)\"},\"line\":{\"color\":\"white\"}},\"type\":\"table\"}]},\"layout\":{\"annotationdefaults\":{\"arrowhead\":0,\"arrowwidth\":1},\"autotypenumbers\":\"strict\",\"coloraxis\":{\"colorbar\":{\"outlinewidth\":1,\"tickcolor\":\"rgb(36,36,36)\",\"ticks\":\"outside\"}},\"colorscale\":{\"diverging\":[[0.0,\"rgb(103,0,31)\"],[0.1,\"rgb(178,24,43)\"],[0.2,\"rgb(214,96,77)\"],[0.3,\"rgb(244,165,130)\"],[0.4,\"rgb(253,219,199)\"],[0.5,\"rgb(247,247,247)\"],[0.6,\"rgb(209,229,240)\"],[0.7,\"rgb(146,197,222)\"],[0.8,\"rgb(67,147,195)\"],[0.9,\"rgb(33,102,172)\"],[1.0,\"rgb(5,48,97)\"]],\"sequential\":[[0.0,\"#440154\"],[0.1111111111111111,\"#482878\"],[0.2222222222222222,\"#3e4989\"],[0.3333333333333333,\"#31688e\"],[0.4444444444444444,\"#26828e\"],[0.5555555555555556,\"#1f9e89\"],[0.6666666666666666,\"#35b779\"],[0.7777777777777778,\"#6ece58\"],[0.8888888888888888,\"#b5de2b\"],[1.0,\"#fde725\"]],\"sequentialminus\":[[0.0,\"#440154\"],[0.1111111111111111,\"#482878\"],[0.2222222222222222,\"#3e4989\"],[0.3333333333333333,\"#31688e\"],[0.4444444444444444,\"#26828e\"],[0.5555555555555556,\"#1f9e89\"],[0.6666666666666666,\"#35b779\"],[0.7777777777777778,\"#6ece58\"],[0.8888888888888888,\"#b5de2b\"],[1.0,\"#fde725\"]]},\"colorway\":[\"#1F77B4\",\"#FF7F0E\",\"#2CA02C\",\"#D62728\",\"#9467BD\",\"#8C564B\",\"#E377C2\",\"#7F7F7F\",\"#BCBD22\",\"#17BECF\"],\"font\":{\"color\":\"rgb(36,36,36)\"},\"geo\":{\"bgcolor\":\"white\",\"lakecolor\":\"white\",\"landcolor\":\"white\",\"showlakes\":true,\"showland\":true,\"subunitcolor\":\"white\"},\"hoverlabel\":{\"align\":\"left\"},\"hovermode\":\"closest\",\"mapbox\":{\"style\":\"light\"},\"paper_bgcolor\":\"white\",\"plot_bgcolor\":\"white\",\"polar\":{\"angularaxis\":{\"gridcolor\":\"rgb(232,232,232)\",\"linecolor\":\"rgb(36,36,36)\",\"showgrid\":false,\"showline\":true,\"ticks\":\"outside\"},\"bgcolor\":\"white\",\"radialaxis\":{\"gridcolor\":\"rgb(232,232,232)\",\"linecolor\":\"rgb(36,36,36)\",\"showgrid\":false,\"showline\":true,\"ticks\":\"outside\"}},\"scene\":{\"xaxis\":{\"backgroundcolor\":\"white\",\"gridcolor\":\"rgb(232,232,232)\",\"gridwidth\":2,\"linecolor\":\"rgb(36,36,36)\",\"showbackground\":true,\"showgrid\":false,\"showline\":true,\"ticks\":\"outside\",\"zeroline\":false,\"zerolinecolor\":\"rgb(36,36,36)\"},\"yaxis\":{\"backgroundcolor\":\"white\",\"gridcolor\":\"rgb(232,232,232)\",\"gridwidth\":2,\"linecolor\":\"rgb(36,36,36)\",\"showbackground\":true,\"showgrid\":false,\"showline\":true,\"ticks\":\"outside\",\"zeroline\":false,\"zerolinecolor\":\"rgb(36,36,36)\"},\"zaxis\":{\"backgroundcolor\":\"white\",\"gridcolor\":\"rgb(232,232,232)\",\"gridwidth\":2,\"linecolor\":\"rgb(36,36,36)\",\"showbackground\":true,\"showgrid\":false,\"showline\":true,\"ticks\":\"outside\",\"zeroline\":false,\"zerolinecolor\":\"rgb(36,36,36)\"}},\"shapedefaults\":{\"fillcolor\":\"black\",\"line\":{\"width\":0},\"opacity\":0.3},\"ternary\":{\"aaxis\":{\"gridcolor\":\"rgb(232,232,232)\",\"linecolor\":\"rgb(36,36,36)\",\"showgrid\":false,\"showline\":true,\"ticks\":\"outside\"},\"baxis\":{\"gridcolor\":\"rgb(232,232,232)\",\"linecolor\":\"rgb(36,36,36)\",\"showgrid\":false,\"showline\":true,\"ticks\":\"outside\"},\"bgcolor\":\"white\",\"caxis\":{\"gridcolor\":\"rgb(232,232,232)\",\"linecolor\":\"rgb(36,36,36)\",\"showgrid\":false,\"showline\":true,\"ticks\":\"outside\"}},\"title\":{\"x\":0.05},\"xaxis\":{\"automargin\":true,\"gridcolor\":\"rgb(232,232,232)\",\"linecolor\":\"rgb(36,36,36)\",\"showgrid\":false,\"showline\":true,\"ticks\":\"outside\",\"title\":{\"standoff\":15},\"zeroline\":false,\"zerolinecolor\":\"rgb(36,36,36)\"},\"yaxis\":{\"automargin\":true,\"gridcolor\":\"rgb(232,232,232)\",\"linecolor\":\"rgb(36,36,36)\",\"showgrid\":false,\"showline\":true,\"ticks\":\"outside\",\"title\":{\"standoff\":15},\"zeroline\":false,\"zerolinecolor\":\"rgb(36,36,36)\"}}},\"xaxis\":{\"anchor\":\"y\",\"domain\":[0.0,1.0],\"title\":{\"text\":\"\"},\"visible\":false,\"range\":[-1.5600087583065032,22.35983476638794]},\"yaxis\":{\"anchor\":\"x\",\"domain\":[0.0,1.0],\"title\":{\"text\":\"\"},\"visible\":false,\"range\":[-8.115756916999818,10.70705542564392]},\"legend\":{\"tracegroupgap\":0,\"itemsizing\":\"constant\"},\"margin\":{\"t\":60},\"title\":{\"font\":{\"size\":22,\"color\":\"Black\"},\"text\":\"<b>Intertopic Distance Map</b>\",\"y\":0.95,\"x\":0.5,\"xanchor\":\"center\",\"yanchor\":\"top\"},\"hoverlabel\":{\"font\":{\"size\":16,\"family\":\"Rockwell\"},\"bgcolor\":\"white\"},\"width\":650,\"height\":650,\"sliders\":[{\"active\":0,\"pad\":{\"t\":50},\"steps\":[{\"args\":[{\"marker.color\":[[\"red\",\"#B0BEC5\",\"#B0BEC5\",\"#B0BEC5\",\"#B0BEC5\",\"#B0BEC5\",\"#B0BEC5\",\"#B0BEC5\",\"#B0BEC5\",\"#B0BEC5\",\"#B0BEC5\",\"#B0BEC5\",\"#B0BEC5\",\"#B0BEC5\",\"#B0BEC5\",\"#B0BEC5\",\"#B0BEC5\",\"#B0BEC5\",\"#B0BEC5\",\"#B0BEC5\",\"#B0BEC5\",\"#B0BEC5\",\"#B0BEC5\",\"#B0BEC5\",\"#B0BEC5\",\"#B0BEC5\",\"#B0BEC5\",\"#B0BEC5\",\"#B0BEC5\",\"#B0BEC5\",\"#B0BEC5\",\"#B0BEC5\",\"#B0BEC5\"]]}],\"label\":\"Topic 0\",\"method\":\"update\"},{\"args\":[{\"marker.color\":[[\"#B0BEC5\",\"red\",\"#B0BEC5\",\"#B0BEC5\",\"#B0BEC5\",\"#B0BEC5\",\"#B0BEC5\",\"#B0BEC5\",\"#B0BEC5\",\"#B0BEC5\",\"#B0BEC5\",\"#B0BEC5\",\"#B0BEC5\",\"#B0BEC5\",\"#B0BEC5\",\"#B0BEC5\",\"#B0BEC5\",\"#B0BEC5\",\"#B0BEC5\",\"#B0BEC5\",\"#B0BEC5\",\"#B0BEC5\",\"#B0BEC5\",\"#B0BEC5\",\"#B0BEC5\",\"#B0BEC5\",\"#B0BEC5\",\"#B0BEC5\",\"#B0BEC5\",\"#B0BEC5\",\"#B0BEC5\",\"#B0BEC5\",\"#B0BEC5\"]]}],\"label\":\"Topic 1\",\"method\":\"update\"},{\"args\":[{\"marker.color\":[[\"#B0BEC5\",\"#B0BEC5\",\"red\",\"#B0BEC5\",\"#B0BEC5\",\"#B0BEC5\",\"#B0BEC5\",\"#B0BEC5\",\"#B0BEC5\",\"#B0BEC5\",\"#B0BEC5\",\"#B0BEC5\",\"#B0BEC5\",\"#B0BEC5\",\"#B0BEC5\",\"#B0BEC5\",\"#B0BEC5\",\"#B0BEC5\",\"#B0BEC5\",\"#B0BEC5\",\"#B0BEC5\",\"#B0BEC5\",\"#B0BEC5\",\"#B0BEC5\",\"#B0BEC5\",\"#B0BEC5\",\"#B0BEC5\",\"#B0BEC5\",\"#B0BEC5\",\"#B0BEC5\",\"#B0BEC5\",\"#B0BEC5\",\"#B0BEC5\"]]}],\"label\":\"Topic 2\",\"method\":\"update\"},{\"args\":[{\"marker.color\":[[\"#B0BEC5\",\"#B0BEC5\",\"#B0BEC5\",\"red\",\"#B0BEC5\",\"#B0BEC5\",\"#B0BEC5\",\"#B0BEC5\",\"#B0BEC5\",\"#B0BEC5\",\"#B0BEC5\",\"#B0BEC5\",\"#B0BEC5\",\"#B0BEC5\",\"#B0BEC5\",\"#B0BEC5\",\"#B0BEC5\",\"#B0BEC5\",\"#B0BEC5\",\"#B0BEC5\",\"#B0BEC5\",\"#B0BEC5\",\"#B0BEC5\",\"#B0BEC5\",\"#B0BEC5\",\"#B0BEC5\",\"#B0BEC5\",\"#B0BEC5\",\"#B0BEC5\",\"#B0BEC5\",\"#B0BEC5\",\"#B0BEC5\",\"#B0BEC5\"]]}],\"label\":\"Topic 3\",\"method\":\"update\"},{\"args\":[{\"marker.color\":[[\"#B0BEC5\",\"#B0BEC5\",\"#B0BEC5\",\"#B0BEC5\",\"red\",\"#B0BEC5\",\"#B0BEC5\",\"#B0BEC5\",\"#B0BEC5\",\"#B0BEC5\",\"#B0BEC5\",\"#B0BEC5\",\"#B0BEC5\",\"#B0BEC5\",\"#B0BEC5\",\"#B0BEC5\",\"#B0BEC5\",\"#B0BEC5\",\"#B0BEC5\",\"#B0BEC5\",\"#B0BEC5\",\"#B0BEC5\",\"#B0BEC5\",\"#B0BEC5\",\"#B0BEC5\",\"#B0BEC5\",\"#B0BEC5\",\"#B0BEC5\",\"#B0BEC5\",\"#B0BEC5\",\"#B0BEC5\",\"#B0BEC5\",\"#B0BEC5\"]]}],\"label\":\"Topic 4\",\"method\":\"update\"},{\"args\":[{\"marker.color\":[[\"#B0BEC5\",\"#B0BEC5\",\"#B0BEC5\",\"#B0BEC5\",\"#B0BEC5\",\"red\",\"#B0BEC5\",\"#B0BEC5\",\"#B0BEC5\",\"#B0BEC5\",\"#B0BEC5\",\"#B0BEC5\",\"#B0BEC5\",\"#B0BEC5\",\"#B0BEC5\",\"#B0BEC5\",\"#B0BEC5\",\"#B0BEC5\",\"#B0BEC5\",\"#B0BEC5\",\"#B0BEC5\",\"#B0BEC5\",\"#B0BEC5\",\"#B0BEC5\",\"#B0BEC5\",\"#B0BEC5\",\"#B0BEC5\",\"#B0BEC5\",\"#B0BEC5\",\"#B0BEC5\",\"#B0BEC5\",\"#B0BEC5\",\"#B0BEC5\"]]}],\"label\":\"Topic 5\",\"method\":\"update\"},{\"args\":[{\"marker.color\":[[\"#B0BEC5\",\"#B0BEC5\",\"#B0BEC5\",\"#B0BEC5\",\"#B0BEC5\",\"#B0BEC5\",\"red\",\"#B0BEC5\",\"#B0BEC5\",\"#B0BEC5\",\"#B0BEC5\",\"#B0BEC5\",\"#B0BEC5\",\"#B0BEC5\",\"#B0BEC5\",\"#B0BEC5\",\"#B0BEC5\",\"#B0BEC5\",\"#B0BEC5\",\"#B0BEC5\",\"#B0BEC5\",\"#B0BEC5\",\"#B0BEC5\",\"#B0BEC5\",\"#B0BEC5\",\"#B0BEC5\",\"#B0BEC5\",\"#B0BEC5\",\"#B0BEC5\",\"#B0BEC5\",\"#B0BEC5\",\"#B0BEC5\",\"#B0BEC5\"]]}],\"label\":\"Topic 6\",\"method\":\"update\"},{\"args\":[{\"marker.color\":[[\"#B0BEC5\",\"#B0BEC5\",\"#B0BEC5\",\"#B0BEC5\",\"#B0BEC5\",\"#B0BEC5\",\"#B0BEC5\",\"red\",\"#B0BEC5\",\"#B0BEC5\",\"#B0BEC5\",\"#B0BEC5\",\"#B0BEC5\",\"#B0BEC5\",\"#B0BEC5\",\"#B0BEC5\",\"#B0BEC5\",\"#B0BEC5\",\"#B0BEC5\",\"#B0BEC5\",\"#B0BEC5\",\"#B0BEC5\",\"#B0BEC5\",\"#B0BEC5\",\"#B0BEC5\",\"#B0BEC5\",\"#B0BEC5\",\"#B0BEC5\",\"#B0BEC5\",\"#B0BEC5\",\"#B0BEC5\",\"#B0BEC5\",\"#B0BEC5\"]]}],\"label\":\"Topic 7\",\"method\":\"update\"},{\"args\":[{\"marker.color\":[[\"#B0BEC5\",\"#B0BEC5\",\"#B0BEC5\",\"#B0BEC5\",\"#B0BEC5\",\"#B0BEC5\",\"#B0BEC5\",\"#B0BEC5\",\"red\",\"#B0BEC5\",\"#B0BEC5\",\"#B0BEC5\",\"#B0BEC5\",\"#B0BEC5\",\"#B0BEC5\",\"#B0BEC5\",\"#B0BEC5\",\"#B0BEC5\",\"#B0BEC5\",\"#B0BEC5\",\"#B0BEC5\",\"#B0BEC5\",\"#B0BEC5\",\"#B0BEC5\",\"#B0BEC5\",\"#B0BEC5\",\"#B0BEC5\",\"#B0BEC5\",\"#B0BEC5\",\"#B0BEC5\",\"#B0BEC5\",\"#B0BEC5\",\"#B0BEC5\"]]}],\"label\":\"Topic 8\",\"method\":\"update\"},{\"args\":[{\"marker.color\":[[\"#B0BEC5\",\"#B0BEC5\",\"#B0BEC5\",\"#B0BEC5\",\"#B0BEC5\",\"#B0BEC5\",\"#B0BEC5\",\"#B0BEC5\",\"#B0BEC5\",\"red\",\"#B0BEC5\",\"#B0BEC5\",\"#B0BEC5\",\"#B0BEC5\",\"#B0BEC5\",\"#B0BEC5\",\"#B0BEC5\",\"#B0BEC5\",\"#B0BEC5\",\"#B0BEC5\",\"#B0BEC5\",\"#B0BEC5\",\"#B0BEC5\",\"#B0BEC5\",\"#B0BEC5\",\"#B0BEC5\",\"#B0BEC5\",\"#B0BEC5\",\"#B0BEC5\",\"#B0BEC5\",\"#B0BEC5\",\"#B0BEC5\",\"#B0BEC5\"]]}],\"label\":\"Topic 9\",\"method\":\"update\"},{\"args\":[{\"marker.color\":[[\"#B0BEC5\",\"#B0BEC5\",\"#B0BEC5\",\"#B0BEC5\",\"#B0BEC5\",\"#B0BEC5\",\"#B0BEC5\",\"#B0BEC5\",\"#B0BEC5\",\"#B0BEC5\",\"red\",\"#B0BEC5\",\"#B0BEC5\",\"#B0BEC5\",\"#B0BEC5\",\"#B0BEC5\",\"#B0BEC5\",\"#B0BEC5\",\"#B0BEC5\",\"#B0BEC5\",\"#B0BEC5\",\"#B0BEC5\",\"#B0BEC5\",\"#B0BEC5\",\"#B0BEC5\",\"#B0BEC5\",\"#B0BEC5\",\"#B0BEC5\",\"#B0BEC5\",\"#B0BEC5\",\"#B0BEC5\",\"#B0BEC5\",\"#B0BEC5\"]]}],\"label\":\"Topic 10\",\"method\":\"update\"},{\"args\":[{\"marker.color\":[[\"#B0BEC5\",\"#B0BEC5\",\"#B0BEC5\",\"#B0BEC5\",\"#B0BEC5\",\"#B0BEC5\",\"#B0BEC5\",\"#B0BEC5\",\"#B0BEC5\",\"#B0BEC5\",\"#B0BEC5\",\"red\",\"#B0BEC5\",\"#B0BEC5\",\"#B0BEC5\",\"#B0BEC5\",\"#B0BEC5\",\"#B0BEC5\",\"#B0BEC5\",\"#B0BEC5\",\"#B0BEC5\",\"#B0BEC5\",\"#B0BEC5\",\"#B0BEC5\",\"#B0BEC5\",\"#B0BEC5\",\"#B0BEC5\",\"#B0BEC5\",\"#B0BEC5\",\"#B0BEC5\",\"#B0BEC5\",\"#B0BEC5\",\"#B0BEC5\"]]}],\"label\":\"Topic 11\",\"method\":\"update\"},{\"args\":[{\"marker.color\":[[\"#B0BEC5\",\"#B0BEC5\",\"#B0BEC5\",\"#B0BEC5\",\"#B0BEC5\",\"#B0BEC5\",\"#B0BEC5\",\"#B0BEC5\",\"#B0BEC5\",\"#B0BEC5\",\"#B0BEC5\",\"#B0BEC5\",\"red\",\"#B0BEC5\",\"#B0BEC5\",\"#B0BEC5\",\"#B0BEC5\",\"#B0BEC5\",\"#B0BEC5\",\"#B0BEC5\",\"#B0BEC5\",\"#B0BEC5\",\"#B0BEC5\",\"#B0BEC5\",\"#B0BEC5\",\"#B0BEC5\",\"#B0BEC5\",\"#B0BEC5\",\"#B0BEC5\",\"#B0BEC5\",\"#B0BEC5\",\"#B0BEC5\",\"#B0BEC5\"]]}],\"label\":\"Topic 12\",\"method\":\"update\"},{\"args\":[{\"marker.color\":[[\"#B0BEC5\",\"#B0BEC5\",\"#B0BEC5\",\"#B0BEC5\",\"#B0BEC5\",\"#B0BEC5\",\"#B0BEC5\",\"#B0BEC5\",\"#B0BEC5\",\"#B0BEC5\",\"#B0BEC5\",\"#B0BEC5\",\"#B0BEC5\",\"red\",\"#B0BEC5\",\"#B0BEC5\",\"#B0BEC5\",\"#B0BEC5\",\"#B0BEC5\",\"#B0BEC5\",\"#B0BEC5\",\"#B0BEC5\",\"#B0BEC5\",\"#B0BEC5\",\"#B0BEC5\",\"#B0BEC5\",\"#B0BEC5\",\"#B0BEC5\",\"#B0BEC5\",\"#B0BEC5\",\"#B0BEC5\",\"#B0BEC5\",\"#B0BEC5\"]]}],\"label\":\"Topic 13\",\"method\":\"update\"},{\"args\":[{\"marker.color\":[[\"#B0BEC5\",\"#B0BEC5\",\"#B0BEC5\",\"#B0BEC5\",\"#B0BEC5\",\"#B0BEC5\",\"#B0BEC5\",\"#B0BEC5\",\"#B0BEC5\",\"#B0BEC5\",\"#B0BEC5\",\"#B0BEC5\",\"#B0BEC5\",\"#B0BEC5\",\"red\",\"#B0BEC5\",\"#B0BEC5\",\"#B0BEC5\",\"#B0BEC5\",\"#B0BEC5\",\"#B0BEC5\",\"#B0BEC5\",\"#B0BEC5\",\"#B0BEC5\",\"#B0BEC5\",\"#B0BEC5\",\"#B0BEC5\",\"#B0BEC5\",\"#B0BEC5\",\"#B0BEC5\",\"#B0BEC5\",\"#B0BEC5\",\"#B0BEC5\"]]}],\"label\":\"Topic 14\",\"method\":\"update\"},{\"args\":[{\"marker.color\":[[\"#B0BEC5\",\"#B0BEC5\",\"#B0BEC5\",\"#B0BEC5\",\"#B0BEC5\",\"#B0BEC5\",\"#B0BEC5\",\"#B0BEC5\",\"#B0BEC5\",\"#B0BEC5\",\"#B0BEC5\",\"#B0BEC5\",\"#B0BEC5\",\"#B0BEC5\",\"#B0BEC5\",\"red\",\"#B0BEC5\",\"#B0BEC5\",\"#B0BEC5\",\"#B0BEC5\",\"#B0BEC5\",\"#B0BEC5\",\"#B0BEC5\",\"#B0BEC5\",\"#B0BEC5\",\"#B0BEC5\",\"#B0BEC5\",\"#B0BEC5\",\"#B0BEC5\",\"#B0BEC5\",\"#B0BEC5\",\"#B0BEC5\",\"#B0BEC5\"]]}],\"label\":\"Topic 15\",\"method\":\"update\"},{\"args\":[{\"marker.color\":[[\"#B0BEC5\",\"#B0BEC5\",\"#B0BEC5\",\"#B0BEC5\",\"#B0BEC5\",\"#B0BEC5\",\"#B0BEC5\",\"#B0BEC5\",\"#B0BEC5\",\"#B0BEC5\",\"#B0BEC5\",\"#B0BEC5\",\"#B0BEC5\",\"#B0BEC5\",\"#B0BEC5\",\"#B0BEC5\",\"red\",\"#B0BEC5\",\"#B0BEC5\",\"#B0BEC5\",\"#B0BEC5\",\"#B0BEC5\",\"#B0BEC5\",\"#B0BEC5\",\"#B0BEC5\",\"#B0BEC5\",\"#B0BEC5\",\"#B0BEC5\",\"#B0BEC5\",\"#B0BEC5\",\"#B0BEC5\",\"#B0BEC5\",\"#B0BEC5\"]]}],\"label\":\"Topic 16\",\"method\":\"update\"},{\"args\":[{\"marker.color\":[[\"#B0BEC5\",\"#B0BEC5\",\"#B0BEC5\",\"#B0BEC5\",\"#B0BEC5\",\"#B0BEC5\",\"#B0BEC5\",\"#B0BEC5\",\"#B0BEC5\",\"#B0BEC5\",\"#B0BEC5\",\"#B0BEC5\",\"#B0BEC5\",\"#B0BEC5\",\"#B0BEC5\",\"#B0BEC5\",\"#B0BEC5\",\"red\",\"#B0BEC5\",\"#B0BEC5\",\"#B0BEC5\",\"#B0BEC5\",\"#B0BEC5\",\"#B0BEC5\",\"#B0BEC5\",\"#B0BEC5\",\"#B0BEC5\",\"#B0BEC5\",\"#B0BEC5\",\"#B0BEC5\",\"#B0BEC5\",\"#B0BEC5\",\"#B0BEC5\"]]}],\"label\":\"Topic 17\",\"method\":\"update\"},{\"args\":[{\"marker.color\":[[\"#B0BEC5\",\"#B0BEC5\",\"#B0BEC5\",\"#B0BEC5\",\"#B0BEC5\",\"#B0BEC5\",\"#B0BEC5\",\"#B0BEC5\",\"#B0BEC5\",\"#B0BEC5\",\"#B0BEC5\",\"#B0BEC5\",\"#B0BEC5\",\"#B0BEC5\",\"#B0BEC5\",\"#B0BEC5\",\"#B0BEC5\",\"#B0BEC5\",\"red\",\"#B0BEC5\",\"#B0BEC5\",\"#B0BEC5\",\"#B0BEC5\",\"#B0BEC5\",\"#B0BEC5\",\"#B0BEC5\",\"#B0BEC5\",\"#B0BEC5\",\"#B0BEC5\",\"#B0BEC5\",\"#B0BEC5\",\"#B0BEC5\",\"#B0BEC5\"]]}],\"label\":\"Topic 18\",\"method\":\"update\"},{\"args\":[{\"marker.color\":[[\"#B0BEC5\",\"#B0BEC5\",\"#B0BEC5\",\"#B0BEC5\",\"#B0BEC5\",\"#B0BEC5\",\"#B0BEC5\",\"#B0BEC5\",\"#B0BEC5\",\"#B0BEC5\",\"#B0BEC5\",\"#B0BEC5\",\"#B0BEC5\",\"#B0BEC5\",\"#B0BEC5\",\"#B0BEC5\",\"#B0BEC5\",\"#B0BEC5\",\"#B0BEC5\",\"red\",\"#B0BEC5\",\"#B0BEC5\",\"#B0BEC5\",\"#B0BEC5\",\"#B0BEC5\",\"#B0BEC5\",\"#B0BEC5\",\"#B0BEC5\",\"#B0BEC5\",\"#B0BEC5\",\"#B0BEC5\",\"#B0BEC5\",\"#B0BEC5\"]]}],\"label\":\"Topic 19\",\"method\":\"update\"},{\"args\":[{\"marker.color\":[[\"#B0BEC5\",\"#B0BEC5\",\"#B0BEC5\",\"#B0BEC5\",\"#B0BEC5\",\"#B0BEC5\",\"#B0BEC5\",\"#B0BEC5\",\"#B0BEC5\",\"#B0BEC5\",\"#B0BEC5\",\"#B0BEC5\",\"#B0BEC5\",\"#B0BEC5\",\"#B0BEC5\",\"#B0BEC5\",\"#B0BEC5\",\"#B0BEC5\",\"#B0BEC5\",\"#B0BEC5\",\"red\",\"#B0BEC5\",\"#B0BEC5\",\"#B0BEC5\",\"#B0BEC5\",\"#B0BEC5\",\"#B0BEC5\",\"#B0BEC5\",\"#B0BEC5\",\"#B0BEC5\",\"#B0BEC5\",\"#B0BEC5\",\"#B0BEC5\"]]}],\"label\":\"Topic 20\",\"method\":\"update\"},{\"args\":[{\"marker.color\":[[\"#B0BEC5\",\"#B0BEC5\",\"#B0BEC5\",\"#B0BEC5\",\"#B0BEC5\",\"#B0BEC5\",\"#B0BEC5\",\"#B0BEC5\",\"#B0BEC5\",\"#B0BEC5\",\"#B0BEC5\",\"#B0BEC5\",\"#B0BEC5\",\"#B0BEC5\",\"#B0BEC5\",\"#B0BEC5\",\"#B0BEC5\",\"#B0BEC5\",\"#B0BEC5\",\"#B0BEC5\",\"#B0BEC5\",\"red\",\"#B0BEC5\",\"#B0BEC5\",\"#B0BEC5\",\"#B0BEC5\",\"#B0BEC5\",\"#B0BEC5\",\"#B0BEC5\",\"#B0BEC5\",\"#B0BEC5\",\"#B0BEC5\",\"#B0BEC5\"]]}],\"label\":\"Topic 21\",\"method\":\"update\"},{\"args\":[{\"marker.color\":[[\"#B0BEC5\",\"#B0BEC5\",\"#B0BEC5\",\"#B0BEC5\",\"#B0BEC5\",\"#B0BEC5\",\"#B0BEC5\",\"#B0BEC5\",\"#B0BEC5\",\"#B0BEC5\",\"#B0BEC5\",\"#B0BEC5\",\"#B0BEC5\",\"#B0BEC5\",\"#B0BEC5\",\"#B0BEC5\",\"#B0BEC5\",\"#B0BEC5\",\"#B0BEC5\",\"#B0BEC5\",\"#B0BEC5\",\"#B0BEC5\",\"red\",\"#B0BEC5\",\"#B0BEC5\",\"#B0BEC5\",\"#B0BEC5\",\"#B0BEC5\",\"#B0BEC5\",\"#B0BEC5\",\"#B0BEC5\",\"#B0BEC5\",\"#B0BEC5\"]]}],\"label\":\"Topic 22\",\"method\":\"update\"},{\"args\":[{\"marker.color\":[[\"#B0BEC5\",\"#B0BEC5\",\"#B0BEC5\",\"#B0BEC5\",\"#B0BEC5\",\"#B0BEC5\",\"#B0BEC5\",\"#B0BEC5\",\"#B0BEC5\",\"#B0BEC5\",\"#B0BEC5\",\"#B0BEC5\",\"#B0BEC5\",\"#B0BEC5\",\"#B0BEC5\",\"#B0BEC5\",\"#B0BEC5\",\"#B0BEC5\",\"#B0BEC5\",\"#B0BEC5\",\"#B0BEC5\",\"#B0BEC5\",\"#B0BEC5\",\"red\",\"#B0BEC5\",\"#B0BEC5\",\"#B0BEC5\",\"#B0BEC5\",\"#B0BEC5\",\"#B0BEC5\",\"#B0BEC5\",\"#B0BEC5\",\"#B0BEC5\"]]}],\"label\":\"Topic 23\",\"method\":\"update\"},{\"args\":[{\"marker.color\":[[\"#B0BEC5\",\"#B0BEC5\",\"#B0BEC5\",\"#B0BEC5\",\"#B0BEC5\",\"#B0BEC5\",\"#B0BEC5\",\"#B0BEC5\",\"#B0BEC5\",\"#B0BEC5\",\"#B0BEC5\",\"#B0BEC5\",\"#B0BEC5\",\"#B0BEC5\",\"#B0BEC5\",\"#B0BEC5\",\"#B0BEC5\",\"#B0BEC5\",\"#B0BEC5\",\"#B0BEC5\",\"#B0BEC5\",\"#B0BEC5\",\"#B0BEC5\",\"#B0BEC5\",\"red\",\"#B0BEC5\",\"#B0BEC5\",\"#B0BEC5\",\"#B0BEC5\",\"#B0BEC5\",\"#B0BEC5\",\"#B0BEC5\",\"#B0BEC5\"]]}],\"label\":\"Topic 24\",\"method\":\"update\"},{\"args\":[{\"marker.color\":[[\"#B0BEC5\",\"#B0BEC5\",\"#B0BEC5\",\"#B0BEC5\",\"#B0BEC5\",\"#B0BEC5\",\"#B0BEC5\",\"#B0BEC5\",\"#B0BEC5\",\"#B0BEC5\",\"#B0BEC5\",\"#B0BEC5\",\"#B0BEC5\",\"#B0BEC5\",\"#B0BEC5\",\"#B0BEC5\",\"#B0BEC5\",\"#B0BEC5\",\"#B0BEC5\",\"#B0BEC5\",\"#B0BEC5\",\"#B0BEC5\",\"#B0BEC5\",\"#B0BEC5\",\"#B0BEC5\",\"red\",\"#B0BEC5\",\"#B0BEC5\",\"#B0BEC5\",\"#B0BEC5\",\"#B0BEC5\",\"#B0BEC5\",\"#B0BEC5\"]]}],\"label\":\"Topic 25\",\"method\":\"update\"},{\"args\":[{\"marker.color\":[[\"#B0BEC5\",\"#B0BEC5\",\"#B0BEC5\",\"#B0BEC5\",\"#B0BEC5\",\"#B0BEC5\",\"#B0BEC5\",\"#B0BEC5\",\"#B0BEC5\",\"#B0BEC5\",\"#B0BEC5\",\"#B0BEC5\",\"#B0BEC5\",\"#B0BEC5\",\"#B0BEC5\",\"#B0BEC5\",\"#B0BEC5\",\"#B0BEC5\",\"#B0BEC5\",\"#B0BEC5\",\"#B0BEC5\",\"#B0BEC5\",\"#B0BEC5\",\"#B0BEC5\",\"#B0BEC5\",\"#B0BEC5\",\"red\",\"#B0BEC5\",\"#B0BEC5\",\"#B0BEC5\",\"#B0BEC5\",\"#B0BEC5\",\"#B0BEC5\"]]}],\"label\":\"Topic 26\",\"method\":\"update\"},{\"args\":[{\"marker.color\":[[\"#B0BEC5\",\"#B0BEC5\",\"#B0BEC5\",\"#B0BEC5\",\"#B0BEC5\",\"#B0BEC5\",\"#B0BEC5\",\"#B0BEC5\",\"#B0BEC5\",\"#B0BEC5\",\"#B0BEC5\",\"#B0BEC5\",\"#B0BEC5\",\"#B0BEC5\",\"#B0BEC5\",\"#B0BEC5\",\"#B0BEC5\",\"#B0BEC5\",\"#B0BEC5\",\"#B0BEC5\",\"#B0BEC5\",\"#B0BEC5\",\"#B0BEC5\",\"#B0BEC5\",\"#B0BEC5\",\"#B0BEC5\",\"#B0BEC5\",\"red\",\"#B0BEC5\",\"#B0BEC5\",\"#B0BEC5\",\"#B0BEC5\",\"#B0BEC5\"]]}],\"label\":\"Topic 27\",\"method\":\"update\"},{\"args\":[{\"marker.color\":[[\"#B0BEC5\",\"#B0BEC5\",\"#B0BEC5\",\"#B0BEC5\",\"#B0BEC5\",\"#B0BEC5\",\"#B0BEC5\",\"#B0BEC5\",\"#B0BEC5\",\"#B0BEC5\",\"#B0BEC5\",\"#B0BEC5\",\"#B0BEC5\",\"#B0BEC5\",\"#B0BEC5\",\"#B0BEC5\",\"#B0BEC5\",\"#B0BEC5\",\"#B0BEC5\",\"#B0BEC5\",\"#B0BEC5\",\"#B0BEC5\",\"#B0BEC5\",\"#B0BEC5\",\"#B0BEC5\",\"#B0BEC5\",\"#B0BEC5\",\"#B0BEC5\",\"red\",\"#B0BEC5\",\"#B0BEC5\",\"#B0BEC5\",\"#B0BEC5\"]]}],\"label\":\"Topic 28\",\"method\":\"update\"},{\"args\":[{\"marker.color\":[[\"#B0BEC5\",\"#B0BEC5\",\"#B0BEC5\",\"#B0BEC5\",\"#B0BEC5\",\"#B0BEC5\",\"#B0BEC5\",\"#B0BEC5\",\"#B0BEC5\",\"#B0BEC5\",\"#B0BEC5\",\"#B0BEC5\",\"#B0BEC5\",\"#B0BEC5\",\"#B0BEC5\",\"#B0BEC5\",\"#B0BEC5\",\"#B0BEC5\",\"#B0BEC5\",\"#B0BEC5\",\"#B0BEC5\",\"#B0BEC5\",\"#B0BEC5\",\"#B0BEC5\",\"#B0BEC5\",\"#B0BEC5\",\"#B0BEC5\",\"#B0BEC5\",\"#B0BEC5\",\"red\",\"#B0BEC5\",\"#B0BEC5\",\"#B0BEC5\"]]}],\"label\":\"Topic 29\",\"method\":\"update\"},{\"args\":[{\"marker.color\":[[\"#B0BEC5\",\"#B0BEC5\",\"#B0BEC5\",\"#B0BEC5\",\"#B0BEC5\",\"#B0BEC5\",\"#B0BEC5\",\"#B0BEC5\",\"#B0BEC5\",\"#B0BEC5\",\"#B0BEC5\",\"#B0BEC5\",\"#B0BEC5\",\"#B0BEC5\",\"#B0BEC5\",\"#B0BEC5\",\"#B0BEC5\",\"#B0BEC5\",\"#B0BEC5\",\"#B0BEC5\",\"#B0BEC5\",\"#B0BEC5\",\"#B0BEC5\",\"#B0BEC5\",\"#B0BEC5\",\"#B0BEC5\",\"#B0BEC5\",\"#B0BEC5\",\"#B0BEC5\",\"#B0BEC5\",\"red\",\"#B0BEC5\",\"#B0BEC5\"]]}],\"label\":\"Topic 30\",\"method\":\"update\"},{\"args\":[{\"marker.color\":[[\"#B0BEC5\",\"#B0BEC5\",\"#B0BEC5\",\"#B0BEC5\",\"#B0BEC5\",\"#B0BEC5\",\"#B0BEC5\",\"#B0BEC5\",\"#B0BEC5\",\"#B0BEC5\",\"#B0BEC5\",\"#B0BEC5\",\"#B0BEC5\",\"#B0BEC5\",\"#B0BEC5\",\"#B0BEC5\",\"#B0BEC5\",\"#B0BEC5\",\"#B0BEC5\",\"#B0BEC5\",\"#B0BEC5\",\"#B0BEC5\",\"#B0BEC5\",\"#B0BEC5\",\"#B0BEC5\",\"#B0BEC5\",\"#B0BEC5\",\"#B0BEC5\",\"#B0BEC5\",\"#B0BEC5\",\"#B0BEC5\",\"red\",\"#B0BEC5\"]]}],\"label\":\"Topic 31\",\"method\":\"update\"},{\"args\":[{\"marker.color\":[[\"#B0BEC5\",\"#B0BEC5\",\"#B0BEC5\",\"#B0BEC5\",\"#B0BEC5\",\"#B0BEC5\",\"#B0BEC5\",\"#B0BEC5\",\"#B0BEC5\",\"#B0BEC5\",\"#B0BEC5\",\"#B0BEC5\",\"#B0BEC5\",\"#B0BEC5\",\"#B0BEC5\",\"#B0BEC5\",\"#B0BEC5\",\"#B0BEC5\",\"#B0BEC5\",\"#B0BEC5\",\"#B0BEC5\",\"#B0BEC5\",\"#B0BEC5\",\"#B0BEC5\",\"#B0BEC5\",\"#B0BEC5\",\"#B0BEC5\",\"#B0BEC5\",\"#B0BEC5\",\"#B0BEC5\",\"#B0BEC5\",\"#B0BEC5\",\"red\"]]}],\"label\":\"Topic 32\",\"method\":\"update\"}]}],\"shapes\":[{\"line\":{\"color\":\"#CFD8DC\",\"width\":2},\"type\":\"line\",\"x0\":10.39991300404072,\"x1\":10.39991300404072,\"y0\":-8.115756916999818,\"y1\":10.70705542564392},{\"line\":{\"color\":\"#9E9E9E\",\"width\":2},\"type\":\"line\",\"x0\":-1.5600087583065032,\"x1\":22.35983476638794,\"y0\":1.2956492543220515,\"y1\":1.2956492543220515}],\"annotations\":[{\"showarrow\":false,\"text\":\"D1\",\"x\":-1.5600087583065032,\"y\":1.2956492543220515,\"yshift\":10},{\"showarrow\":false,\"text\":\"D2\",\"x\":10.39991300404072,\"xshift\":10,\"y\":10.70705542564392}]},                        {\"responsive\": true}                    ).then(function(){\n",
       "                            \n",
       "var gd = document.getElementById('e0ae51f2-bb69-4242-aa21-2f489de7ff33');\n",
       "var x = new MutationObserver(function (mutations, observer) {{\n",
       "        var display = window.getComputedStyle(gd).display;\n",
       "        if (!display || display === 'none') {{\n",
       "            console.log([gd, 'removed!']);\n",
       "            Plotly.purge(gd);\n",
       "            observer.disconnect();\n",
       "        }}\n",
       "}});\n",
       "\n",
       "// Listen for the removal of the full notebook cells\n",
       "var notebookContainer = gd.closest('#notebook-container');\n",
       "if (notebookContainer) {{\n",
       "    x.observe(notebookContainer, {childList: true});\n",
       "}}\n",
       "\n",
       "// Listen for the clearing of the current output cell\n",
       "var outputEl = gd.closest('.output');\n",
       "if (outputEl) {{\n",
       "    x.observe(outputEl, {childList: true});\n",
       "}}\n",
       "\n",
       "                        })                };                });            </script>        </div>"
      ]
     },
     "metadata": {},
     "output_type": "display_data"
    }
   ],
   "source": [
    "topic_model.visualize_topics()"
   ]
  },
  {
   "attachments": {},
   "cell_type": "markdown",
   "metadata": {},
   "source": [
    "Topics over time"
   ]
  },
  {
   "cell_type": "code",
   "execution_count": 114,
   "metadata": {},
   "outputs": [],
   "source": [
    "# Reference running time for this cell: 2min 30s\n",
    "topics_over_time = topic_model.topics_over_time(df['speech'], df['Date'].to_list(), nr_bins=20)"
   ]
  },
  {
   "cell_type": "code",
   "execution_count": 115,
   "metadata": {},
   "outputs": [],
   "source": [
    "# Save the topics_over_time dataframe to a feather file\n",
    "#topics_over_time.to_feather(\"../data/topics_over_time.feather\")"
   ]
  },
  {
   "cell_type": "code",
   "execution_count": 116,
   "metadata": {},
   "outputs": [
    {
     "data": {
      "application/vnd.plotly.v1+json": {
       "config": {
        "plotlyServerURL": "https://plot.ly"
       },
       "data": [
        {
         "hoverinfo": "text",
         "hovertext": [
          "<b>Topic 0</b><br>Words: tem, bom, neko, stvari, sedaj",
          "<b>Topic 0</b><br>Words: bleda, lokacijskega, hidroelektrarne, revizijske, bom",
          "<b>Topic 0</b><br>Words: romske, mladoletnikov, sod, seveda, zobozdravnik",
          "<b>Topic 0</b><br>Words: seveda, ko, tem, potem, samo",
          "<b>Topic 0</b><br>Words: dobičku, zaposlenih, zakon, ta, tablicah",
          "<b>Topic 0</b><br>Words: minister, koncesij, bil, tukaj, ta",
          "<b>Topic 0</b><br>Words: pokrajine, potem, samo, gospod, seveda",
          "<b>Topic 0</b><br>Words: danes, zelo, tem, leta, so",
          "<b>Topic 0</b><br>Words: ta, način, bil, mislim, predsednik",
          "<b>Topic 0</b><br>Words: zakon, potem, samo, zelo, vlade",
          "<b>Topic 0</b><br>Words: ta, danes, vlade, bo, bil",
          "<b>Topic 0</b><br>Words: tem, komisija, čas, bom, bo",
          "<b>Topic 0</b><br>Words: bom, ministra, danes, ta, tukaj",
          "<b>Topic 0</b><br>Words: mi, zdaj, bom, bank, tem",
          "<b>Topic 0</b><br>Words: sem, potem, naprej, mislim, imamo",
          "<b>Topic 0</b><br>Words: ministrica, vi, gospa, bom, potem",
          "<b>Topic 0</b><br>Words: nlb, potem, sem, ta, boste",
          "<b>Topic 0</b><br>Words: sem, zdaj, potem, vem, sodišče",
          "<b>Topic 0</b><br>Words: ventilatorjev, minister, bom, vem, danes",
          "<b>Topic 0</b><br>Words: minister, vi, jaz, zdaj, potem"
         ],
         "marker": {
          "color": "#E69F00"
         },
         "mode": "lines",
         "name": "0_sem_potem_tem_samo",
         "type": "scatter",
         "x": [
          "2000-11-08T04:32:09.600000",
          "2001-12-11T13:12:00",
          "2003-01-06T02:24:00",
          "2004-01-31T15:36:00",
          "2005-02-25T04:48:00",
          "2006-03-22T18:00:00",
          "2007-04-17T07:12:00",
          "2008-05-11T20:24:00",
          "2009-06-06T09:36:00",
          "2010-07-01T22:48:00",
          "2011-07-27T12:00:00",
          "2012-08-21T01:12:00",
          "2013-09-15T14:24:00",
          "2014-10-11T03:36:00",
          "2015-11-05T16:48:00",
          "2016-11-30T06:00:00",
          "2017-12-25T19:12:00",
          "2019-01-20T08:24:00",
          "2020-02-14T21:36:00",
          "2021-03-11T10:48:00"
         ],
         "y": [
          21,
          19,
          22,
          41,
          39,
          62,
          47,
          40,
          44,
          46,
          28,
          39,
          70,
          57,
          82,
          52,
          34,
          45,
          60,
          68
         ]
        },
        {
         "hoverinfo": "text",
         "hovertext": [
          "<b>Topic 1</b><br>Words: slovenije, kandidat, inflacije, dr, france",
          "<b>Topic 1</b><br>Words: hranilnih, hks, slovenije, bank, emu",
          "<b>Topic 1</b><br>Words: sib, boraka, prijateljskih, monopolistov, enron",
          "<b>Topic 1</b><br>Words: sib, energetika, slovenije, 2001, izdaji",
          "<b>Topic 1</b><br>Words: uničujete, samostojnosti, zaupanja, netočna, banko",
          "<b>Topic 1</b><br>Words: slovenije, centralne, rant, bank, ranta",
          "<b>Topic 1</b><br>Words: guvernerja, slovenije, dr, delnic, preglednosti",
          "<b>Topic 1</b><br>Words: gigavatnih, deleža, energije, glasovalnih, banki",
          "<b>Topic 1</b><br>Words: lhb, jamstvo, slovenije, guvernerja, mednarodnem",
          "<b>Topic 1</b><br>Words: tveganja, nagrajevanja, bančništvu, register, evra",
          "<b>Topic 1</b><br>Words: kbc, poroštvu, dokapitalizacije, lastnik, sistema",
          "<b>Topic 1</b><br>Words: bank, slovenije, slabih, bo, ta",
          "<b>Topic 1</b><br>Words: slovenije, odgovornost, bančništvu, guvernerja, davkoplačevalci",
          "<b>Topic 1</b><br>Words: bank, slovenije, sistema, guverner, 2013",
          "<b>Topic 1</b><br>Words: slovenije, centralne, sdh, guverner, bančništvu",
          "<b>Topic 1</b><br>Words: nlb, slovenije, sdh, sodišče, zavez",
          "<b>Topic 1</b><br>Words: ljubljanske, nove, nlb, bank, delnico",
          "<b>Topic 1</b><br>Words: kvalificiranih, banki, luknje, abanka, slovenije",
          "<b>Topic 1</b><br>Words: dutb, bank, slovenije, kriptovaluto, profesorica",
          "<b>Topic 1</b><br>Words: bank, jamstva, vlog, slovenije, nadzora"
         ],
         "marker": {
          "color": "#56B4E9"
         },
         "mode": "lines",
         "name": "1_bank_slovenije_sistema_guverner",
         "type": "scatter",
         "x": [
          "2000-11-08T04:32:09.600000",
          "2001-12-11T13:12:00",
          "2003-01-06T02:24:00",
          "2004-01-31T15:36:00",
          "2005-02-25T04:48:00",
          "2006-03-22T18:00:00",
          "2007-04-17T07:12:00",
          "2008-05-11T20:24:00",
          "2009-06-06T09:36:00",
          "2010-07-01T22:48:00",
          "2011-07-27T12:00:00",
          "2012-08-21T01:12:00",
          "2013-09-15T14:24:00",
          "2014-10-11T03:36:00",
          "2015-11-05T16:48:00",
          "2016-11-30T06:00:00",
          "2017-12-25T19:12:00",
          "2019-01-20T08:24:00",
          "2020-02-14T21:36:00",
          "2021-03-11T10:48:00"
         ],
         "y": [
          5,
          4,
          3,
          4,
          1,
          24,
          12,
          10,
          14,
          23,
          9,
          38,
          55,
          82,
          50,
          36,
          28,
          25,
          7,
          28
         ]
        },
        {
         "hoverinfo": "text",
         "hovertext": [
          "<b>Topic 2</b><br>Words: monopole, oprostitve, 31, prevoza, odseku",
          "<b>Topic 2</b><br>Words: prometa, prometu, infrastrukture, varnosti, slovenskih",
          "<b>Topic 2</b><br>Words: kerozin, vročitvi, zastarelost, 35, nepremičnini",
          "<b>Topic 2</b><br>Words: potnikov, pogodbeni, linijskih, avtobusne, vozi",
          "<b>Topic 2</b><br>Words: avtocest, mobilnih, počitkih, cestnine, tahografov",
          "<b>Topic 2</b><br>Words: prometu, železnicah, vozni, infrastrukture, letališča",
          "<b>Topic 2</b><br>Words: cestah, varnosti, železniškega, cestnine, prometnem",
          "<b>Topic 2</b><br>Words: cestninjenja, vinjete, cestninski, diskriminatornosti, uvedbo",
          "<b>Topic 2</b><br>Words: abc, železniškem, cestninjenja, upravljavec, slovenske",
          "<b>Topic 2</b><br>Words: prometu, varnosti, geodetske, zakona, slovenske",
          "<b>Topic 2</b><br>Words: its, sistemov, presojevalcev, prometa, vmesniki",
          "<b>Topic 2</b><br>Words: prometu, prevozov, agencije, varnost, infrastrukture",
          "<b>Topic 2</b><br>Words: vino, odmorov, dovoljenjih, avtomatskim, geodetske",
          "<b>Topic 2</b><br>Words: prometu, infrastrukture, železniške, prometa, direktive",
          "<b>Topic 2</b><br>Words: počitkih, tahografov, prometu, mobilnih, grebenšek",
          "<b>Topic 2</b><br>Words: vozila, prometu, interoperabilnosti, infrastrukturo, dovoljenja",
          "<b>Topic 2</b><br>Words: prometu, poškodovanih, odstranjevanja, vina, prometa",
          "<b>Topic 2</b><br>Words: prevozov, c1, gasilskih, prometu, kategorije",
          "<b>Topic 2</b><br>Words: izpita, avtomatskim, voznikih, d1, kategorije",
          "<b>Topic 2</b><br>Words: infrastrukture, železniške, prometu, taksi, varnosti"
         ],
         "marker": {
          "color": "#009E73"
         },
         "mode": "lines",
         "name": "2_prometu_infrastrukture_cestninjenja_va...",
         "type": "scatter",
         "x": [
          "2000-11-08T04:32:09.600000",
          "2001-12-11T13:12:00",
          "2003-01-06T02:24:00",
          "2004-01-31T15:36:00",
          "2005-02-25T04:48:00",
          "2006-03-22T18:00:00",
          "2007-04-17T07:12:00",
          "2008-05-11T20:24:00",
          "2009-06-06T09:36:00",
          "2010-07-01T22:48:00",
          "2011-07-27T12:00:00",
          "2012-08-21T01:12:00",
          "2013-09-15T14:24:00",
          "2014-10-11T03:36:00",
          "2015-11-05T16:48:00",
          "2016-11-30T06:00:00",
          "2017-12-25T19:12:00",
          "2019-01-20T08:24:00",
          "2020-02-14T21:36:00",
          "2021-03-11T10:48:00"
         ],
         "y": [
          11,
          13,
          2,
          8,
          30,
          24,
          27,
          27,
          62,
          36,
          6,
          28,
          22,
          33,
          15,
          20,
          17,
          21,
          16,
          27
         ]
        },
        {
         "hoverinfo": "text",
         "hovertext": [
          "<b>Topic 3</b><br>Words: lastnine, odločb, prodajalne, varovana, sodipla",
          "<b>Topic 3</b><br>Words: he, elektrarne, ibe, predinvesticijsko, 2001",
          "<b>Topic 3</b><br>Words: avtocest, volilni, darsa, zakon, mogoče",
          "<b>Topic 3</b><br>Words: jezik, 000, republike, seveda, žensk",
          "<b>Topic 3</b><br>Words: zakon, spolov, osebnih, papirjev, 000",
          "<b>Topic 3</b><br>Words: amandmajema, mesecev, prepovedih, progami, bom",
          "<b>Topic 3</b><br>Words: peticija, novinarjev, nihče, kovanec, slovenija",
          "<b>Topic 3</b><br>Words: ozs, potne, tarife, izsiljevanje, nacionalne",
          "<b>Topic 3</b><br>Words: zlahka, potrošniku, rabi, srebro, slovenščino",
          "<b>Topic 3</b><br>Words: poroštvo, visokokvalificirani, zakon, tem, valute",
          "<b>Topic 3</b><br>Words: kmetijska, entropije, amnestijo, investicijskih, sindrom",
          "<b>Topic 3</b><br>Words: volilne, prebivališča, voliti, regulatornega, evropske",
          "<b>Topic 3</b><br>Words: parlament, evropske, unije, notarja, vizumskih",
          "<b>Topic 3</b><br>Words: imuniteta, kandidata, zakona, hrvaških, evropske",
          "<b>Topic 3</b><br>Words: rtv, kreditov, koliko, bomo, dimnikarskih",
          "<b>Topic 3</b><br>Words: parlament, pasivne, red, zakon, bomo",
          "<b>Topic 3</b><br>Words: delodajalcev, poškodb, potovanj, pokojninskega, leitner",
          "<b>Topic 3</b><br>Words: koncesije, odvetništvu, poklica, olajšanje, direktive",
          "<b>Topic 3</b><br>Words: živali, univerzalne, september, vojska, poštnih",
          "<b>Topic 3</b><br>Words: snav, zakon, verbalni, smrt, 116"
         ],
         "marker": {
          "color": "#F0E442"
         },
         "mode": "lines",
         "name": "3_evropske_bomo_unije_hvala",
         "type": "scatter",
         "x": [
          "2000-11-08T04:32:09.600000",
          "2001-12-11T13:12:00",
          "2003-01-06T02:24:00",
          "2004-01-31T15:36:00",
          "2005-02-25T04:48:00",
          "2006-03-22T18:00:00",
          "2007-04-17T07:12:00",
          "2008-05-11T20:24:00",
          "2009-06-06T09:36:00",
          "2010-07-01T22:48:00",
          "2011-07-27T12:00:00",
          "2012-08-21T01:12:00",
          "2013-09-15T14:24:00",
          "2014-10-11T03:36:00",
          "2015-11-05T16:48:00",
          "2016-11-30T06:00:00",
          "2017-12-25T19:12:00",
          "2019-01-20T08:24:00",
          "2020-02-14T21:36:00",
          "2021-03-11T10:48:00"
         ],
         "y": [
          16,
          11,
          15,
          33,
          22,
          16,
          22,
          14,
          22,
          19,
          8,
          11,
          22,
          15,
          15,
          23,
          6,
          21,
          11,
          23
         ]
        },
        {
         "hoverinfo": "text",
         "hovertext": [
          "<b>Topic 4</b><br>Words: delovni, tobačnih, stavke, nadur, zdravništvo",
          "<b>Topic 4</b><br>Words: zdravnikov, delovni, kozmetičnega, diplomirane, naslov",
          "<b>Topic 4</b><br>Words: kebra, sester, zdravstvenega, raka, reformo",
          "<b>Topic 4</b><br>Words: specializiranih, zdravje, dostopnost, prodajalnah, recept",
          "<b>Topic 4</b><br>Words: akcij, zdravje, križ, rdeči, kakovosti",
          "<b>Topic 4</b><br>Words: zdravil, dejavnosti, kakovosti, tkiva, celice",
          "<b>Topic 4</b><br>Words: zdravil, zdravstvenega, sekundarijat, neprekinjene, razvrstitve",
          "<b>Topic 4</b><br>Words: presaditev, darovalcev, ledvic, pripomočke, medicinski",
          "<b>Topic 4</b><br>Words: specialist, dentalne, zdravstvenega, prebivalcev, valorizacijo",
          "<b>Topic 4</b><br>Words: cigarete, trošarin, prikrajšani, licenc, drobnoprodajne",
          "<b>Topic 4</b><br>Words: sodnikov, italiji, laboratorijske, nemčiji, neodvisnosti",
          "<b>Topic 4</b><br>Words: zdravili, zdravje, ponarejenih, laboratorija, lekarne",
          "<b>Topic 4</b><br>Words: presaditev, smrti, človeškega, darovanja, tkiv",
          "<b>Topic 4</b><br>Words: koncesije, javno, zdravstvenega, ukc, specializacij",
          "<b>Topic 4</b><br>Words: čakalnih, dejavnosti, ukc, zdravstva, ministrice",
          "<b>Topic 4</b><br>Words: kb1909, medical, pričanje, sum, mark",
          "<b>Topic 4</b><br>Words: medicini, sestre, humani, negi, ovojnini",
          "<b>Topic 4</b><br>Words: odpornost, epidemije, 19, načrt, zdravje",
          "<b>Topic 4</b><br>Words: zdravje, kemofarmacija, salus, epidemije, lekarniške"
         ],
         "marker": {
          "color": "#D55E00"
         },
         "mode": "lines",
         "name": "4_zdravil_dejavnosti_zdravnikov_ministri...",
         "type": "scatter",
         "x": [
          "2001-12-11T13:12:00",
          "2003-01-06T02:24:00",
          "2004-01-31T15:36:00",
          "2005-02-25T04:48:00",
          "2006-03-22T18:00:00",
          "2007-04-17T07:12:00",
          "2008-05-11T20:24:00",
          "2009-06-06T09:36:00",
          "2010-07-01T22:48:00",
          "2011-07-27T12:00:00",
          "2012-08-21T01:12:00",
          "2013-09-15T14:24:00",
          "2014-10-11T03:36:00",
          "2015-11-05T16:48:00",
          "2016-11-30T06:00:00",
          "2017-12-25T19:12:00",
          "2019-01-20T08:24:00",
          "2020-02-14T21:36:00",
          "2021-03-11T10:48:00"
         ],
         "y": [
          9,
          17,
          8,
          22,
          15,
          31,
          14,
          10,
          6,
          16,
          4,
          33,
          9,
          11,
          33,
          1,
          10,
          36,
          49
         ]
        },
        {
         "hoverinfo": "text",
         "hovertext": [
          "<b>Topic 5</b><br>Words: prostor, odpadkov, hidroelektrarne, načrta, živalskih",
          "<b>Topic 5</b><br>Words: celuloze, voda, plinov, vipap, lovstva",
          "<b>Topic 5</b><br>Words: 2000, eles, megavatov, planov, okolja",
          "<b>Topic 5</b><br>Words: 2000, pravicami, vplivov, okoljskih, voda",
          "<b>Topic 5</b><br>Words: vplivov, počasna, neodločen, uradno, kanalizacijskih",
          "<b>Topic 5</b><br>Words: koordinira, toplogrednih, kemikalije, zmanjševanju, motornih",
          "<b>Topic 5</b><br>Words: prostor, območjih, poplavne, ogroženosti, okoljske",
          "<b>Topic 5</b><br>Words: okolje, plinskih, tržaškem, italijanske, terminal",
          "<b>Topic 5</b><br>Words: vrečke, plastične, nakupovalnih, prostor, onesnaževanje",
          "<b>Topic 5</b><br>Words: plinskih, italija, vplivov, tržaškem, poplavne",
          "<b>Topic 5</b><br>Words: investicija, nip, termoelektrarne, takrat, lignita",
          "<b>Topic 5</b><br>Words: čebeljih, vrečk, okolje, vode, zasavci",
          "<b>Topic 5</b><br>Words: voda, naprave, dovoljenja, neizpolnitev, terminala",
          "<b>Topic 5</b><br>Words: okoljevarstvenega, pitne, dovoljenja, voda, ustavo",
          "<b>Topic 5</b><br>Words: vrečke, odpadkov, blok, termoelektrarne, plastike",
          "<b>Topic 5</b><br>Words: hidroelektrarn, izgradnje, vplivov, sodo, prostor",
          "<b>Topic 5</b><br>Words: projekt, mestna, jaspers, kanalizacijski, c0",
          "<b>Topic 5</b><br>Words: odpadkov, plina, trgovanja, embalaže, šoštanj",
          "<b>Topic 5</b><br>Words: enkratno, plastike, okolje, uporabo, direktive"
         ],
         "marker": {
          "color": "#0072B2"
         },
         "mode": "lines",
         "name": "5_odpadkov_voda_prostor_2000",
         "type": "scatter",
         "x": [
          "2001-12-11T13:12:00",
          "2003-01-06T02:24:00",
          "2004-01-31T15:36:00",
          "2005-02-25T04:48:00",
          "2006-03-22T18:00:00",
          "2007-04-17T07:12:00",
          "2008-05-11T20:24:00",
          "2009-06-06T09:36:00",
          "2010-07-01T22:48:00",
          "2011-07-27T12:00:00",
          "2012-08-21T01:12:00",
          "2013-09-15T14:24:00",
          "2014-10-11T03:36:00",
          "2015-11-05T16:48:00",
          "2016-11-30T06:00:00",
          "2017-12-25T19:12:00",
          "2019-01-20T08:24:00",
          "2020-02-14T21:36:00",
          "2021-03-11T10:48:00"
         ],
         "y": [
          3,
          25,
          21,
          10,
          7,
          3,
          21,
          38,
          15,
          8,
          4,
          9,
          21,
          40,
          12,
          7,
          9,
          21,
          39
         ]
        },
        {
         "hoverinfo": "text",
         "hovertext": [
          "<b>Topic 6</b><br>Words: evroskeptiki, pcp, knjigah, pogajanjem, gasilske",
          "<b>Topic 6</b><br>Words: razvoja, slovenija, regionalnih, unije, evrope",
          "<b>Topic 6</b><br>Words: nuklearni, komisarjev, spoštovali, mlekom, konference",
          "<b>Topic 6</b><br>Words: ministri, slovenija, porivajo, solze, prednostne",
          "<b>Topic 6</b><br>Words: slovenija, usmeritvah, regije, deklaracije, uniji",
          "<b>Topic 6</b><br>Words: predsedovanje, slovenija, evropski, uniji, bo",
          "<b>Topic 6</b><br>Words: evropski, predsedovanje, žal, slovenija, oceni",
          "<b>Topic 6</b><br>Words: predsedovanja, unije, slovenija, bomo, vinjet",
          "<b>Topic 6</b><br>Words: poglavju, gozdarstvo, unije, evropske, prehrano",
          "<b>Topic 6</b><br>Words: zahodnem, pokojninske, predsednika, chase, falsificiranje",
          "<b>Topic 6</b><br>Words: zamude, slovenija, prikaz, teh, nemčija",
          "<b>Topic 6</b><br>Words: dediči, politiki, krize, slovenijo, obljubljam",
          "<b>Topic 6</b><br>Words: himni, kitica, developers, bomo, predsednica",
          "<b>Topic 6</b><br>Words: unije, deklaracija, moramo, institucijah, eu",
          "<b>Topic 6</b><br>Words: evrope, unije, seveda, migrante, slovenija",
          "<b>Topic 6</b><br>Words: unije, jaz, deklaracije, evrope, slovenija",
          "<b>Topic 6</b><br>Words: čakajo, gps, prihodnosti, identiteto, zmage",
          "<b>Topic 6</b><br>Words: unije, šolo, deklaracije, komisarja, znotraj",
          "<b>Topic 6</b><br>Words: stranka, kaos, general, bitki, šibkejših",
          "<b>Topic 6</b><br>Words: deklaracije, odpornost, okrevanje, evropske, unija"
         ],
         "marker": {
          "color": "#CC79A7"
         },
         "mode": "lines",
         "name": "6_unije_slovenija_republike_bo",
         "type": "scatter",
         "x": [
          "2000-11-08T04:32:09.600000",
          "2001-12-11T13:12:00",
          "2003-01-06T02:24:00",
          "2004-01-31T15:36:00",
          "2005-02-25T04:48:00",
          "2006-03-22T18:00:00",
          "2007-04-17T07:12:00",
          "2008-05-11T20:24:00",
          "2009-06-06T09:36:00",
          "2010-07-01T22:48:00",
          "2011-07-27T12:00:00",
          "2012-08-21T01:12:00",
          "2013-09-15T14:24:00",
          "2014-10-11T03:36:00",
          "2015-11-05T16:48:00",
          "2016-11-30T06:00:00",
          "2017-12-25T19:12:00",
          "2019-01-20T08:24:00",
          "2020-02-14T21:36:00",
          "2021-03-11T10:48:00"
         ],
         "y": [
          3,
          8,
          5,
          10,
          10,
          17,
          21,
          13,
          7,
          7,
          10,
          10,
          12,
          17,
          17,
          15,
          12,
          11,
          2,
          17
         ]
        },
        {
         "hoverinfo": "text",
         "hovertext": [
          "<b>Topic 7</b><br>Words: 2002, skušamo, zadnjem, sorazmerno, proračunske",
          "<b>Topic 7</b><br>Words: proračuna, povedal, pšenice, občinam, planirati",
          "<b>Topic 7</b><br>Words: 2005, milijard, rast, politike, evropsko",
          "<b>Topic 7</b><br>Words: preizkušnja, 2007, neznank, rebalansa, negotovosti",
          "<b>Topic 7</b><br>Words: pojasnite, milijonov, minusa, 2006, občinam",
          "<b>Topic 7</b><br>Words: 2009, inflacijo, očitno, letu, politiko",
          "<b>Topic 7</b><br>Words: proračuna, milijonov, letu, telekomunikacijsko, rebalans",
          "<b>Topic 7</b><br>Words: evrov, milijonov, krizo, 2008, rebalansom",
          "<b>Topic 7</b><br>Words: milijonov, investicije, rast, proračunu, krize",
          "<b>Topic 7</b><br>Words: 2012, evrov, milijonov, bdp, rast",
          "<b>Topic 7</b><br>Words: rebalans, evrov, milijonov, investicije, proračunu",
          "<b>Topic 7</b><br>Words: 2014, proračunu, letu, primanjkljaj, predsednica",
          "<b>Topic 7</b><br>Words: pravilo, fiskalne, bdp, politike, 2015",
          "<b>Topic 7</b><br>Words: 2017, proračunu, milijonov, evrov, bdp",
          "<b>Topic 7</b><br>Words: 2019, pravilu, rast, milijonov, sektorja",
          "<b>Topic 7</b><br>Words: 2019, strukturno, inovativno, pospešuje, transferjev",
          "<b>Topic 7</b><br>Words: milijonov, 2019, letu, rebalans, država",
          "<b>Topic 7</b><br>Words: bdp, milijarde, evrov, rast, rebalans",
          "<b>Topic 7</b><br>Words: 2022, milijonov, letu, evrov, covid"
         ],
         "marker": {
          "color": "#E69F00"
         },
         "mode": "lines",
         "name": "7_milijonov_proračunu_evrov_rast",
         "type": "scatter",
         "x": [
          "2000-11-08T04:32:09.600000",
          "2001-12-11T13:12:00",
          "2003-01-06T02:24:00",
          "2005-02-25T04:48:00",
          "2006-03-22T18:00:00",
          "2007-04-17T07:12:00",
          "2008-05-11T20:24:00",
          "2009-06-06T09:36:00",
          "2010-07-01T22:48:00",
          "2011-07-27T12:00:00",
          "2012-08-21T01:12:00",
          "2013-09-15T14:24:00",
          "2014-10-11T03:36:00",
          "2015-11-05T16:48:00",
          "2016-11-30T06:00:00",
          "2017-12-25T19:12:00",
          "2019-01-20T08:24:00",
          "2020-02-14T21:36:00",
          "2021-03-11T10:48:00"
         ],
         "y": [
          3,
          2,
          2,
          3,
          4,
          10,
          10,
          8,
          15,
          5,
          13,
          14,
          16,
          27,
          14,
          6,
          11,
          14,
          25
         ]
        },
        {
         "hoverinfo": "text",
         "hovertext": [
          "<b>Topic 8</b><br>Words: gso, poglavje, okolje, tehnologije, človeka",
          "<b>Topic 8</b><br>Words: kmetijstvo, gozdov, nezazidana, podeželja, kvote",
          "<b>Topic 8</b><br>Words: zdravju, kmetijsko, eko, provokacija, odločb",
          "<b>Topic 8</b><br>Words: fitofarmacevtskih, organizmov, podeželja, spremenjenih, prehrano",
          "<b>Topic 8</b><br>Words: administriranja, starman, deregulacijo, nesporazuma, podatke",
          "<b>Topic 8</b><br>Words: biocidnih, jarc, gozdarstvo, proizvodov, prehrano",
          "<b>Topic 8</b><br>Words: konkurence, pekovskih, kruha, zaščitilo, 82",
          "<b>Topic 8</b><br>Words: organizmov, sorte, semenskega, trženje, materialu",
          "<b>Topic 8</b><br>Words: generične, proizvodov, ambrozije, zadrugah, gozdarstvo",
          "<b>Topic 8</b><br>Words: kmetijskih, gensko, pralni, knjigovodstvo, bioplin",
          "<b>Topic 8</b><br>Words: mešanic, reprodukcijskem, gozdnem, semenskih, prehrano",
          "<b>Topic 8</b><br>Words: fitofarmacevtskih, gozdovih, lesa, živil, varno",
          "<b>Topic 8</b><br>Words: lesa, biocidnih, kazni, vinu, kmetijstva",
          "<b>Topic 8</b><br>Words: genocid, kljubovali, kmetijstvo, organizmov, sečnje",
          "<b>Topic 8</b><br>Words: kislin, transmaščobami, koeficienta, uživanje, bolezni",
          "<b>Topic 8</b><br>Words: trans, živilih, deklaracije, copy, paste",
          "<b>Topic 8</b><br>Words: hrano, občani, občini, aplikacij, šibkejše",
          "<b>Topic 8</b><br>Words: 2027, perspektiva, spomladanskem, počasi, kmetijstvo",
          "<b>Topic 8</b><br>Words: verigi, nepoštene, semen, izobraževalnih, živilskimi",
          "<b>Topic 8</b><br>Words: kmetijstvu, čebelarji, samooskrbe, verigi, politike"
         ],
         "marker": {
          "color": "#56B4E9"
         },
         "mode": "lines",
         "name": "8_kmetijstvo_fitofarmacevtskih_podeželja...",
         "type": "scatter",
         "x": [
          "2000-11-08T04:32:09.600000",
          "2001-12-11T13:12:00",
          "2003-01-06T02:24:00",
          "2004-01-31T15:36:00",
          "2005-02-25T04:48:00",
          "2006-03-22T18:00:00",
          "2007-04-17T07:12:00",
          "2008-05-11T20:24:00",
          "2009-06-06T09:36:00",
          "2010-07-01T22:48:00",
          "2011-07-27T12:00:00",
          "2012-08-21T01:12:00",
          "2013-09-15T14:24:00",
          "2014-10-11T03:36:00",
          "2015-11-05T16:48:00",
          "2016-11-30T06:00:00",
          "2017-12-25T19:12:00",
          "2019-01-20T08:24:00",
          "2020-02-14T21:36:00",
          "2021-03-11T10:48:00"
         ],
         "y": [
          4,
          9,
          8,
          15,
          1,
          11,
          2,
          18,
          20,
          8,
          16,
          22,
          13,
          9,
          8,
          11,
          2,
          1,
          4,
          5
         ]
        },
        {
         "hoverinfo": "text",
         "hovertext": [
          "<b>Topic 9</b><br>Words: medijsko, energijo, ostane, mišične, prepulzivno",
          "<b>Topic 9</b><br>Words: plina, trga, elektrarne, novost, kolonija",
          "<b>Topic 9</b><br>Words: plina, učinkovitosti, zanesljivost, cene, stavbe",
          "<b>Topic 9</b><br>Words: trajnostne, ogrevanju, obljubljeni, elektriki, obnovljene",
          "<b>Topic 9</b><br>Words: električno, megavatov, rabe, podpor, proizvajalcem",
          "<b>Topic 9</b><br>Words: obnovljive, podnebne, vozila, načrt, rabe",
          "<b>Topic 9</b><br>Words: energetsko, šola, ekovsebine, soorganizaciji, pestrost",
          "<b>Topic 9</b><br>Words: hidroelektrarni, operaterja, električno, ljudski, izkoriščanje",
          "<b>Topic 9</b><br>Words: skladiščenje, fotovoltaiko, naftnimi, hidroelektrarn, nepredvidenih",
          "<b>Topic 9</b><br>Words: energetsko, virov, toplote, koncept, stavbe",
          "<b>Topic 9</b><br>Words: agencije, energetskih, novozaposlenih, 2015, stavb",
          "<b>Topic 9</b><br>Words: agencija, energetskega, finančnemu, načrt, 399",
          "<b>Topic 9</b><br>Words: agencije, lobi, cirkovce, energetski, programa",
          "<b>Topic 9</b><br>Words: save, elektrarn, vodnega, koncept, gradnjo",
          "<b>Topic 9</b><br>Words: stavb, električno, obnovljive, toplote, regulacije",
          "<b>Topic 9</b><br>Words: obnovljivih, učinkovitosti, 2030, prenosne, plina",
          "<b>Topic 9</b><br>Words: električno, rabe, cene, samooskrbo, toplote"
         ],
         "marker": {
          "color": "#009E73"
         },
         "mode": "lines",
         "name": "9_virov_električno_stavb_rabe",
         "type": "scatter",
         "x": [
          "2003-01-06T02:24:00",
          "2004-01-31T15:36:00",
          "2006-03-22T18:00:00",
          "2007-04-17T07:12:00",
          "2008-05-11T20:24:00",
          "2009-06-06T09:36:00",
          "2010-07-01T22:48:00",
          "2011-07-27T12:00:00",
          "2012-08-21T01:12:00",
          "2013-09-15T14:24:00",
          "2014-10-11T03:36:00",
          "2015-11-05T16:48:00",
          "2016-11-30T06:00:00",
          "2017-12-25T19:12:00",
          "2019-01-20T08:24:00",
          "2020-02-14T21:36:00",
          "2021-03-11T10:48:00"
         ],
         "y": [
          1,
          8,
          10,
          1,
          12,
          7,
          1,
          9,
          4,
          30,
          2,
          4,
          5,
          7,
          15,
          13,
          48
         ]
        }
       ],
       "layout": {
        "height": 450,
        "hoverlabel": {
         "bgcolor": "white",
         "font": {
          "family": "Rockwell",
          "size": 16
         }
        },
        "legend": {
         "title": {
          "text": "<b>Global Topic Representation"
         }
        },
        "template": {
         "data": {
          "bar": [
           {
            "error_x": {
             "color": "rgb(36,36,36)"
            },
            "error_y": {
             "color": "rgb(36,36,36)"
            },
            "marker": {
             "line": {
              "color": "white",
              "width": 0.5
             },
             "pattern": {
              "fillmode": "overlay",
              "size": 10,
              "solidity": 0.2
             }
            },
            "type": "bar"
           }
          ],
          "barpolar": [
           {
            "marker": {
             "line": {
              "color": "white",
              "width": 0.5
             },
             "pattern": {
              "fillmode": "overlay",
              "size": 10,
              "solidity": 0.2
             }
            },
            "type": "barpolar"
           }
          ],
          "carpet": [
           {
            "aaxis": {
             "endlinecolor": "rgb(36,36,36)",
             "gridcolor": "white",
             "linecolor": "white",
             "minorgridcolor": "white",
             "startlinecolor": "rgb(36,36,36)"
            },
            "baxis": {
             "endlinecolor": "rgb(36,36,36)",
             "gridcolor": "white",
             "linecolor": "white",
             "minorgridcolor": "white",
             "startlinecolor": "rgb(36,36,36)"
            },
            "type": "carpet"
           }
          ],
          "choropleth": [
           {
            "colorbar": {
             "outlinewidth": 1,
             "tickcolor": "rgb(36,36,36)",
             "ticks": "outside"
            },
            "type": "choropleth"
           }
          ],
          "contour": [
           {
            "colorbar": {
             "outlinewidth": 1,
             "tickcolor": "rgb(36,36,36)",
             "ticks": "outside"
            },
            "colorscale": [
             [
              0,
              "#440154"
             ],
             [
              0.1111111111111111,
              "#482878"
             ],
             [
              0.2222222222222222,
              "#3e4989"
             ],
             [
              0.3333333333333333,
              "#31688e"
             ],
             [
              0.4444444444444444,
              "#26828e"
             ],
             [
              0.5555555555555556,
              "#1f9e89"
             ],
             [
              0.6666666666666666,
              "#35b779"
             ],
             [
              0.7777777777777778,
              "#6ece58"
             ],
             [
              0.8888888888888888,
              "#b5de2b"
             ],
             [
              1,
              "#fde725"
             ]
            ],
            "type": "contour"
           }
          ],
          "contourcarpet": [
           {
            "colorbar": {
             "outlinewidth": 1,
             "tickcolor": "rgb(36,36,36)",
             "ticks": "outside"
            },
            "type": "contourcarpet"
           }
          ],
          "heatmap": [
           {
            "colorbar": {
             "outlinewidth": 1,
             "tickcolor": "rgb(36,36,36)",
             "ticks": "outside"
            },
            "colorscale": [
             [
              0,
              "#440154"
             ],
             [
              0.1111111111111111,
              "#482878"
             ],
             [
              0.2222222222222222,
              "#3e4989"
             ],
             [
              0.3333333333333333,
              "#31688e"
             ],
             [
              0.4444444444444444,
              "#26828e"
             ],
             [
              0.5555555555555556,
              "#1f9e89"
             ],
             [
              0.6666666666666666,
              "#35b779"
             ],
             [
              0.7777777777777778,
              "#6ece58"
             ],
             [
              0.8888888888888888,
              "#b5de2b"
             ],
             [
              1,
              "#fde725"
             ]
            ],
            "type": "heatmap"
           }
          ],
          "heatmapgl": [
           {
            "colorbar": {
             "outlinewidth": 1,
             "tickcolor": "rgb(36,36,36)",
             "ticks": "outside"
            },
            "colorscale": [
             [
              0,
              "#440154"
             ],
             [
              0.1111111111111111,
              "#482878"
             ],
             [
              0.2222222222222222,
              "#3e4989"
             ],
             [
              0.3333333333333333,
              "#31688e"
             ],
             [
              0.4444444444444444,
              "#26828e"
             ],
             [
              0.5555555555555556,
              "#1f9e89"
             ],
             [
              0.6666666666666666,
              "#35b779"
             ],
             [
              0.7777777777777778,
              "#6ece58"
             ],
             [
              0.8888888888888888,
              "#b5de2b"
             ],
             [
              1,
              "#fde725"
             ]
            ],
            "type": "heatmapgl"
           }
          ],
          "histogram": [
           {
            "marker": {
             "line": {
              "color": "white",
              "width": 0.6
             }
            },
            "type": "histogram"
           }
          ],
          "histogram2d": [
           {
            "colorbar": {
             "outlinewidth": 1,
             "tickcolor": "rgb(36,36,36)",
             "ticks": "outside"
            },
            "colorscale": [
             [
              0,
              "#440154"
             ],
             [
              0.1111111111111111,
              "#482878"
             ],
             [
              0.2222222222222222,
              "#3e4989"
             ],
             [
              0.3333333333333333,
              "#31688e"
             ],
             [
              0.4444444444444444,
              "#26828e"
             ],
             [
              0.5555555555555556,
              "#1f9e89"
             ],
             [
              0.6666666666666666,
              "#35b779"
             ],
             [
              0.7777777777777778,
              "#6ece58"
             ],
             [
              0.8888888888888888,
              "#b5de2b"
             ],
             [
              1,
              "#fde725"
             ]
            ],
            "type": "histogram2d"
           }
          ],
          "histogram2dcontour": [
           {
            "colorbar": {
             "outlinewidth": 1,
             "tickcolor": "rgb(36,36,36)",
             "ticks": "outside"
            },
            "colorscale": [
             [
              0,
              "#440154"
             ],
             [
              0.1111111111111111,
              "#482878"
             ],
             [
              0.2222222222222222,
              "#3e4989"
             ],
             [
              0.3333333333333333,
              "#31688e"
             ],
             [
              0.4444444444444444,
              "#26828e"
             ],
             [
              0.5555555555555556,
              "#1f9e89"
             ],
             [
              0.6666666666666666,
              "#35b779"
             ],
             [
              0.7777777777777778,
              "#6ece58"
             ],
             [
              0.8888888888888888,
              "#b5de2b"
             ],
             [
              1,
              "#fde725"
             ]
            ],
            "type": "histogram2dcontour"
           }
          ],
          "mesh3d": [
           {
            "colorbar": {
             "outlinewidth": 1,
             "tickcolor": "rgb(36,36,36)",
             "ticks": "outside"
            },
            "type": "mesh3d"
           }
          ],
          "parcoords": [
           {
            "line": {
             "colorbar": {
              "outlinewidth": 1,
              "tickcolor": "rgb(36,36,36)",
              "ticks": "outside"
             }
            },
            "type": "parcoords"
           }
          ],
          "pie": [
           {
            "automargin": true,
            "type": "pie"
           }
          ],
          "scatter": [
           {
            "fillpattern": {
             "fillmode": "overlay",
             "size": 10,
             "solidity": 0.2
            },
            "type": "scatter"
           }
          ],
          "scatter3d": [
           {
            "line": {
             "colorbar": {
              "outlinewidth": 1,
              "tickcolor": "rgb(36,36,36)",
              "ticks": "outside"
             }
            },
            "marker": {
             "colorbar": {
              "outlinewidth": 1,
              "tickcolor": "rgb(36,36,36)",
              "ticks": "outside"
             }
            },
            "type": "scatter3d"
           }
          ],
          "scattercarpet": [
           {
            "marker": {
             "colorbar": {
              "outlinewidth": 1,
              "tickcolor": "rgb(36,36,36)",
              "ticks": "outside"
             }
            },
            "type": "scattercarpet"
           }
          ],
          "scattergeo": [
           {
            "marker": {
             "colorbar": {
              "outlinewidth": 1,
              "tickcolor": "rgb(36,36,36)",
              "ticks": "outside"
             }
            },
            "type": "scattergeo"
           }
          ],
          "scattergl": [
           {
            "marker": {
             "colorbar": {
              "outlinewidth": 1,
              "tickcolor": "rgb(36,36,36)",
              "ticks": "outside"
             }
            },
            "type": "scattergl"
           }
          ],
          "scattermapbox": [
           {
            "marker": {
             "colorbar": {
              "outlinewidth": 1,
              "tickcolor": "rgb(36,36,36)",
              "ticks": "outside"
             }
            },
            "type": "scattermapbox"
           }
          ],
          "scatterpolar": [
           {
            "marker": {
             "colorbar": {
              "outlinewidth": 1,
              "tickcolor": "rgb(36,36,36)",
              "ticks": "outside"
             }
            },
            "type": "scatterpolar"
           }
          ],
          "scatterpolargl": [
           {
            "marker": {
             "colorbar": {
              "outlinewidth": 1,
              "tickcolor": "rgb(36,36,36)",
              "ticks": "outside"
             }
            },
            "type": "scatterpolargl"
           }
          ],
          "scatterternary": [
           {
            "marker": {
             "colorbar": {
              "outlinewidth": 1,
              "tickcolor": "rgb(36,36,36)",
              "ticks": "outside"
             }
            },
            "type": "scatterternary"
           }
          ],
          "surface": [
           {
            "colorbar": {
             "outlinewidth": 1,
             "tickcolor": "rgb(36,36,36)",
             "ticks": "outside"
            },
            "colorscale": [
             [
              0,
              "#440154"
             ],
             [
              0.1111111111111111,
              "#482878"
             ],
             [
              0.2222222222222222,
              "#3e4989"
             ],
             [
              0.3333333333333333,
              "#31688e"
             ],
             [
              0.4444444444444444,
              "#26828e"
             ],
             [
              0.5555555555555556,
              "#1f9e89"
             ],
             [
              0.6666666666666666,
              "#35b779"
             ],
             [
              0.7777777777777778,
              "#6ece58"
             ],
             [
              0.8888888888888888,
              "#b5de2b"
             ],
             [
              1,
              "#fde725"
             ]
            ],
            "type": "surface"
           }
          ],
          "table": [
           {
            "cells": {
             "fill": {
              "color": "rgb(237,237,237)"
             },
             "line": {
              "color": "white"
             }
            },
            "header": {
             "fill": {
              "color": "rgb(217,217,217)"
             },
             "line": {
              "color": "white"
             }
            },
            "type": "table"
           }
          ]
         },
         "layout": {
          "annotationdefaults": {
           "arrowhead": 0,
           "arrowwidth": 1
          },
          "autotypenumbers": "strict",
          "coloraxis": {
           "colorbar": {
            "outlinewidth": 1,
            "tickcolor": "rgb(36,36,36)",
            "ticks": "outside"
           }
          },
          "colorscale": {
           "diverging": [
            [
             0,
             "rgb(103,0,31)"
            ],
            [
             0.1,
             "rgb(178,24,43)"
            ],
            [
             0.2,
             "rgb(214,96,77)"
            ],
            [
             0.3,
             "rgb(244,165,130)"
            ],
            [
             0.4,
             "rgb(253,219,199)"
            ],
            [
             0.5,
             "rgb(247,247,247)"
            ],
            [
             0.6,
             "rgb(209,229,240)"
            ],
            [
             0.7,
             "rgb(146,197,222)"
            ],
            [
             0.8,
             "rgb(67,147,195)"
            ],
            [
             0.9,
             "rgb(33,102,172)"
            ],
            [
             1,
             "rgb(5,48,97)"
            ]
           ],
           "sequential": [
            [
             0,
             "#440154"
            ],
            [
             0.1111111111111111,
             "#482878"
            ],
            [
             0.2222222222222222,
             "#3e4989"
            ],
            [
             0.3333333333333333,
             "#31688e"
            ],
            [
             0.4444444444444444,
             "#26828e"
            ],
            [
             0.5555555555555556,
             "#1f9e89"
            ],
            [
             0.6666666666666666,
             "#35b779"
            ],
            [
             0.7777777777777778,
             "#6ece58"
            ],
            [
             0.8888888888888888,
             "#b5de2b"
            ],
            [
             1,
             "#fde725"
            ]
           ],
           "sequentialminus": [
            [
             0,
             "#440154"
            ],
            [
             0.1111111111111111,
             "#482878"
            ],
            [
             0.2222222222222222,
             "#3e4989"
            ],
            [
             0.3333333333333333,
             "#31688e"
            ],
            [
             0.4444444444444444,
             "#26828e"
            ],
            [
             0.5555555555555556,
             "#1f9e89"
            ],
            [
             0.6666666666666666,
             "#35b779"
            ],
            [
             0.7777777777777778,
             "#6ece58"
            ],
            [
             0.8888888888888888,
             "#b5de2b"
            ],
            [
             1,
             "#fde725"
            ]
           ]
          },
          "colorway": [
           "#1F77B4",
           "#FF7F0E",
           "#2CA02C",
           "#D62728",
           "#9467BD",
           "#8C564B",
           "#E377C2",
           "#7F7F7F",
           "#BCBD22",
           "#17BECF"
          ],
          "font": {
           "color": "rgb(36,36,36)"
          },
          "geo": {
           "bgcolor": "white",
           "lakecolor": "white",
           "landcolor": "white",
           "showlakes": true,
           "showland": true,
           "subunitcolor": "white"
          },
          "hoverlabel": {
           "align": "left"
          },
          "hovermode": "closest",
          "mapbox": {
           "style": "light"
          },
          "paper_bgcolor": "white",
          "plot_bgcolor": "white",
          "polar": {
           "angularaxis": {
            "gridcolor": "rgb(232,232,232)",
            "linecolor": "rgb(36,36,36)",
            "showgrid": false,
            "showline": true,
            "ticks": "outside"
           },
           "bgcolor": "white",
           "radialaxis": {
            "gridcolor": "rgb(232,232,232)",
            "linecolor": "rgb(36,36,36)",
            "showgrid": false,
            "showline": true,
            "ticks": "outside"
           }
          },
          "scene": {
           "xaxis": {
            "backgroundcolor": "white",
            "gridcolor": "rgb(232,232,232)",
            "gridwidth": 2,
            "linecolor": "rgb(36,36,36)",
            "showbackground": true,
            "showgrid": false,
            "showline": true,
            "ticks": "outside",
            "zeroline": false,
            "zerolinecolor": "rgb(36,36,36)"
           },
           "yaxis": {
            "backgroundcolor": "white",
            "gridcolor": "rgb(232,232,232)",
            "gridwidth": 2,
            "linecolor": "rgb(36,36,36)",
            "showbackground": true,
            "showgrid": false,
            "showline": true,
            "ticks": "outside",
            "zeroline": false,
            "zerolinecolor": "rgb(36,36,36)"
           },
           "zaxis": {
            "backgroundcolor": "white",
            "gridcolor": "rgb(232,232,232)",
            "gridwidth": 2,
            "linecolor": "rgb(36,36,36)",
            "showbackground": true,
            "showgrid": false,
            "showline": true,
            "ticks": "outside",
            "zeroline": false,
            "zerolinecolor": "rgb(36,36,36)"
           }
          },
          "shapedefaults": {
           "fillcolor": "black",
           "line": {
            "width": 0
           },
           "opacity": 0.3
          },
          "ternary": {
           "aaxis": {
            "gridcolor": "rgb(232,232,232)",
            "linecolor": "rgb(36,36,36)",
            "showgrid": false,
            "showline": true,
            "ticks": "outside"
           },
           "baxis": {
            "gridcolor": "rgb(232,232,232)",
            "linecolor": "rgb(36,36,36)",
            "showgrid": false,
            "showline": true,
            "ticks": "outside"
           },
           "bgcolor": "white",
           "caxis": {
            "gridcolor": "rgb(232,232,232)",
            "linecolor": "rgb(36,36,36)",
            "showgrid": false,
            "showline": true,
            "ticks": "outside"
           }
          },
          "title": {
           "x": 0.05
          },
          "xaxis": {
           "automargin": true,
           "gridcolor": "rgb(232,232,232)",
           "linecolor": "rgb(36,36,36)",
           "showgrid": false,
           "showline": true,
           "ticks": "outside",
           "title": {
            "standoff": 15
           },
           "zeroline": false,
           "zerolinecolor": "rgb(36,36,36)"
          },
          "yaxis": {
           "automargin": true,
           "gridcolor": "rgb(232,232,232)",
           "linecolor": "rgb(36,36,36)",
           "showgrid": false,
           "showline": true,
           "ticks": "outside",
           "title": {
            "standoff": 15
           },
           "zeroline": false,
           "zerolinecolor": "rgb(36,36,36)"
          }
         }
        },
        "title": {
         "font": {
          "color": "Black",
          "size": 22
         },
         "text": "<b>Topics over Time</b>",
         "x": 0.4,
         "xanchor": "center",
         "y": 0.95,
         "yanchor": "top"
        },
        "width": 1250,
        "xaxis": {
         "showgrid": true
        },
        "yaxis": {
         "showgrid": true,
         "title": {
          "text": "Frequency"
         }
        }
       }
      },
      "text/html": [
       "<div>                            <div id=\"ee98b3f6-ee03-41a0-a122-91272de3431e\" class=\"plotly-graph-div\" style=\"height:450px; width:1250px;\"></div>            <script type=\"text/javascript\">                require([\"plotly\"], function(Plotly) {                    window.PLOTLYENV=window.PLOTLYENV || {};                                    if (document.getElementById(\"ee98b3f6-ee03-41a0-a122-91272de3431e\")) {                    Plotly.newPlot(                        \"ee98b3f6-ee03-41a0-a122-91272de3431e\",                        [{\"hoverinfo\":\"text\",\"hovertext\":[\"<b>Topic 0</b><br>Words: tem, bom, neko, stvari, sedaj\",\"<b>Topic 0</b><br>Words: bleda, lokacijskega, hidroelektrarne, revizijske, bom\",\"<b>Topic 0</b><br>Words: romske, mladoletnikov, sod, seveda, zobozdravnik\",\"<b>Topic 0</b><br>Words: seveda, ko, tem, potem, samo\",\"<b>Topic 0</b><br>Words: dobi\\u010dku, zaposlenih, zakon, ta, tablicah\",\"<b>Topic 0</b><br>Words: minister, koncesij, bil, tukaj, ta\",\"<b>Topic 0</b><br>Words: pokrajine, potem, samo, gospod, seveda\",\"<b>Topic 0</b><br>Words: danes, zelo, tem, leta, so\",\"<b>Topic 0</b><br>Words: ta, na\\u010din, bil, mislim, predsednik\",\"<b>Topic 0</b><br>Words: zakon, potem, samo, zelo, vlade\",\"<b>Topic 0</b><br>Words: ta, danes, vlade, bo, bil\",\"<b>Topic 0</b><br>Words: tem, komisija, \\u010das, bom, bo\",\"<b>Topic 0</b><br>Words: bom, ministra, danes, ta, tukaj\",\"<b>Topic 0</b><br>Words: mi, zdaj, bom, bank, tem\",\"<b>Topic 0</b><br>Words: sem, potem, naprej, mislim, imamo\",\"<b>Topic 0</b><br>Words: ministrica, vi, gospa, bom, potem\",\"<b>Topic 0</b><br>Words: nlb, potem, sem, ta, boste\",\"<b>Topic 0</b><br>Words: sem, zdaj, potem, vem, sodi\\u0161\\u010de\",\"<b>Topic 0</b><br>Words: ventilatorjev, minister, bom, vem, danes\",\"<b>Topic 0</b><br>Words: minister, vi, jaz, zdaj, potem\"],\"marker\":{\"color\":\"#E69F00\"},\"mode\":\"lines\",\"name\":\"0_sem_potem_tem_samo\",\"x\":[\"2000-11-08T04:32:09.600000\",\"2001-12-11T13:12:00\",\"2003-01-06T02:24:00\",\"2004-01-31T15:36:00\",\"2005-02-25T04:48:00\",\"2006-03-22T18:00:00\",\"2007-04-17T07:12:00\",\"2008-05-11T20:24:00\",\"2009-06-06T09:36:00\",\"2010-07-01T22:48:00\",\"2011-07-27T12:00:00\",\"2012-08-21T01:12:00\",\"2013-09-15T14:24:00\",\"2014-10-11T03:36:00\",\"2015-11-05T16:48:00\",\"2016-11-30T06:00:00\",\"2017-12-25T19:12:00\",\"2019-01-20T08:24:00\",\"2020-02-14T21:36:00\",\"2021-03-11T10:48:00\"],\"y\":[21,19,22,41,39,62,47,40,44,46,28,39,70,57,82,52,34,45,60,68],\"type\":\"scatter\"},{\"hoverinfo\":\"text\",\"hovertext\":[\"<b>Topic 1</b><br>Words: slovenije, kandidat, inflacije, dr, france\",\"<b>Topic 1</b><br>Words: hranilnih, hks, slovenije, bank, emu\",\"<b>Topic 1</b><br>Words: sib, boraka, prijateljskih, monopolistov, enron\",\"<b>Topic 1</b><br>Words: sib, energetika, slovenije, 2001, izdaji\",\"<b>Topic 1</b><br>Words: uni\\u010dujete, samostojnosti, zaupanja, neto\\u010dna, banko\",\"<b>Topic 1</b><br>Words: slovenije, centralne, rant, bank, ranta\",\"<b>Topic 1</b><br>Words: guvernerja, slovenije, dr, delnic, preglednosti\",\"<b>Topic 1</b><br>Words: gigavatnih, dele\\u017ea, energije, glasovalnih, banki\",\"<b>Topic 1</b><br>Words: lhb, jamstvo, slovenije, guvernerja, mednarodnem\",\"<b>Topic 1</b><br>Words: tveganja, nagrajevanja, ban\\u010dni\\u0161tvu, register, evra\",\"<b>Topic 1</b><br>Words: kbc, poro\\u0161tvu, dokapitalizacije, lastnik, sistema\",\"<b>Topic 1</b><br>Words: bank, slovenije, slabih, bo, ta\",\"<b>Topic 1</b><br>Words: slovenije, odgovornost, ban\\u010dni\\u0161tvu, guvernerja, davkopla\\u010devalci\",\"<b>Topic 1</b><br>Words: bank, slovenije, sistema, guverner, 2013\",\"<b>Topic 1</b><br>Words: slovenije, centralne, sdh, guverner, ban\\u010dni\\u0161tvu\",\"<b>Topic 1</b><br>Words: nlb, slovenije, sdh, sodi\\u0161\\u010de, zavez\",\"<b>Topic 1</b><br>Words: ljubljanske, nove, nlb, bank, delnico\",\"<b>Topic 1</b><br>Words: kvalificiranih, banki, luknje, abanka, slovenije\",\"<b>Topic 1</b><br>Words: dutb, bank, slovenije, kriptovaluto, profesorica\",\"<b>Topic 1</b><br>Words: bank, jamstva, vlog, slovenije, nadzora\"],\"marker\":{\"color\":\"#56B4E9\"},\"mode\":\"lines\",\"name\":\"1_bank_slovenije_sistema_guverner\",\"x\":[\"2000-11-08T04:32:09.600000\",\"2001-12-11T13:12:00\",\"2003-01-06T02:24:00\",\"2004-01-31T15:36:00\",\"2005-02-25T04:48:00\",\"2006-03-22T18:00:00\",\"2007-04-17T07:12:00\",\"2008-05-11T20:24:00\",\"2009-06-06T09:36:00\",\"2010-07-01T22:48:00\",\"2011-07-27T12:00:00\",\"2012-08-21T01:12:00\",\"2013-09-15T14:24:00\",\"2014-10-11T03:36:00\",\"2015-11-05T16:48:00\",\"2016-11-30T06:00:00\",\"2017-12-25T19:12:00\",\"2019-01-20T08:24:00\",\"2020-02-14T21:36:00\",\"2021-03-11T10:48:00\"],\"y\":[5,4,3,4,1,24,12,10,14,23,9,38,55,82,50,36,28,25,7,28],\"type\":\"scatter\"},{\"hoverinfo\":\"text\",\"hovertext\":[\"<b>Topic 2</b><br>Words: monopole, oprostitve, 31, prevoza, odseku\",\"<b>Topic 2</b><br>Words: prometa, prometu, infrastrukture, varnosti, slovenskih\",\"<b>Topic 2</b><br>Words: kerozin, vro\\u010ditvi, zastarelost, 35, nepremi\\u010dnini\",\"<b>Topic 2</b><br>Words: potnikov, pogodbeni, linijskih, avtobusne, vozi\",\"<b>Topic 2</b><br>Words: avtocest, mobilnih, po\\u010ditkih, cestnine, tahografov\",\"<b>Topic 2</b><br>Words: prometu, \\u017eeleznicah, vozni, infrastrukture, letali\\u0161\\u010da\",\"<b>Topic 2</b><br>Words: cestah, varnosti, \\u017eelezni\\u0161kega, cestnine, prometnem\",\"<b>Topic 2</b><br>Words: cestninjenja, vinjete, cestninski, diskriminatornosti, uvedbo\",\"<b>Topic 2</b><br>Words: abc, \\u017eelezni\\u0161kem, cestninjenja, upravljavec, slovenske\",\"<b>Topic 2</b><br>Words: prometu, varnosti, geodetske, zakona, slovenske\",\"<b>Topic 2</b><br>Words: its, sistemov, presojevalcev, prometa, vmesniki\",\"<b>Topic 2</b><br>Words: prometu, prevozov, agencije, varnost, infrastrukture\",\"<b>Topic 2</b><br>Words: vino, odmorov, dovoljenjih, avtomatskim, geodetske\",\"<b>Topic 2</b><br>Words: prometu, infrastrukture, \\u017eelezni\\u0161ke, prometa, direktive\",\"<b>Topic 2</b><br>Words: po\\u010ditkih, tahografov, prometu, mobilnih, greben\\u0161ek\",\"<b>Topic 2</b><br>Words: vozila, prometu, interoperabilnosti, infrastrukturo, dovoljenja\",\"<b>Topic 2</b><br>Words: prometu, po\\u0161kodovanih, odstranjevanja, vina, prometa\",\"<b>Topic 2</b><br>Words: prevozov, c1, gasilskih, prometu, kategorije\",\"<b>Topic 2</b><br>Words: izpita, avtomatskim, voznikih, d1, kategorije\",\"<b>Topic 2</b><br>Words: infrastrukture, \\u017eelezni\\u0161ke, prometu, taksi, varnosti\"],\"marker\":{\"color\":\"#009E73\"},\"mode\":\"lines\",\"name\":\"2_prometu_infrastrukture_cestninjenja_va...\",\"x\":[\"2000-11-08T04:32:09.600000\",\"2001-12-11T13:12:00\",\"2003-01-06T02:24:00\",\"2004-01-31T15:36:00\",\"2005-02-25T04:48:00\",\"2006-03-22T18:00:00\",\"2007-04-17T07:12:00\",\"2008-05-11T20:24:00\",\"2009-06-06T09:36:00\",\"2010-07-01T22:48:00\",\"2011-07-27T12:00:00\",\"2012-08-21T01:12:00\",\"2013-09-15T14:24:00\",\"2014-10-11T03:36:00\",\"2015-11-05T16:48:00\",\"2016-11-30T06:00:00\",\"2017-12-25T19:12:00\",\"2019-01-20T08:24:00\",\"2020-02-14T21:36:00\",\"2021-03-11T10:48:00\"],\"y\":[11,13,2,8,30,24,27,27,62,36,6,28,22,33,15,20,17,21,16,27],\"type\":\"scatter\"},{\"hoverinfo\":\"text\",\"hovertext\":[\"<b>Topic 3</b><br>Words: lastnine, odlo\\u010db, prodajalne, varovana, sodipla\",\"<b>Topic 3</b><br>Words: he, elektrarne, ibe, predinvesticijsko, 2001\",\"<b>Topic 3</b><br>Words: avtocest, volilni, darsa, zakon, mogo\\u010de\",\"<b>Topic 3</b><br>Words: jezik, 000, republike, seveda, \\u017eensk\",\"<b>Topic 3</b><br>Words: zakon, spolov, osebnih, papirjev, 000\",\"<b>Topic 3</b><br>Words: amandmajema, mesecev, prepovedih, progami, bom\",\"<b>Topic 3</b><br>Words: peticija, novinarjev, nih\\u010de, kovanec, slovenija\",\"<b>Topic 3</b><br>Words: ozs, potne, tarife, izsiljevanje, nacionalne\",\"<b>Topic 3</b><br>Words: zlahka, potro\\u0161niku, rabi, srebro, sloven\\u0161\\u010dino\",\"<b>Topic 3</b><br>Words: poro\\u0161tvo, visokokvalificirani, zakon, tem, valute\",\"<b>Topic 3</b><br>Words: kmetijska, entropije, amnestijo, investicijskih, sindrom\",\"<b>Topic 3</b><br>Words: volilne, prebivali\\u0161\\u010da, voliti, regulatornega, evropske\",\"<b>Topic 3</b><br>Words: parlament, evropske, unije, notarja, vizumskih\",\"<b>Topic 3</b><br>Words: imuniteta, kandidata, zakona, hrva\\u0161kih, evropske\",\"<b>Topic 3</b><br>Words: rtv, kreditov, koliko, bomo, dimnikarskih\",\"<b>Topic 3</b><br>Words: parlament, pasivne, red, zakon, bomo\",\"<b>Topic 3</b><br>Words: delodajalcev, po\\u0161kodb, potovanj, pokojninskega, leitner\",\"<b>Topic 3</b><br>Words: koncesije, odvetni\\u0161tvu, poklica, olaj\\u0161anje, direktive\",\"<b>Topic 3</b><br>Words: \\u017eivali, univerzalne, september, vojska, po\\u0161tnih\",\"<b>Topic 3</b><br>Words: snav, zakon, verbalni, smrt, 116\"],\"marker\":{\"color\":\"#F0E442\"},\"mode\":\"lines\",\"name\":\"3_evropske_bomo_unije_hvala\",\"x\":[\"2000-11-08T04:32:09.600000\",\"2001-12-11T13:12:00\",\"2003-01-06T02:24:00\",\"2004-01-31T15:36:00\",\"2005-02-25T04:48:00\",\"2006-03-22T18:00:00\",\"2007-04-17T07:12:00\",\"2008-05-11T20:24:00\",\"2009-06-06T09:36:00\",\"2010-07-01T22:48:00\",\"2011-07-27T12:00:00\",\"2012-08-21T01:12:00\",\"2013-09-15T14:24:00\",\"2014-10-11T03:36:00\",\"2015-11-05T16:48:00\",\"2016-11-30T06:00:00\",\"2017-12-25T19:12:00\",\"2019-01-20T08:24:00\",\"2020-02-14T21:36:00\",\"2021-03-11T10:48:00\"],\"y\":[16,11,15,33,22,16,22,14,22,19,8,11,22,15,15,23,6,21,11,23],\"type\":\"scatter\"},{\"hoverinfo\":\"text\",\"hovertext\":[\"<b>Topic 4</b><br>Words: delovni, toba\\u010dnih, stavke, nadur, zdravni\\u0161tvo\",\"<b>Topic 4</b><br>Words: zdravnikov, delovni, kozmeti\\u010dnega, diplomirane, naslov\",\"<b>Topic 4</b><br>Words: kebra, sester, zdravstvenega, raka, reformo\",\"<b>Topic 4</b><br>Words: specializiranih, zdravje, dostopnost, prodajalnah, recept\",\"<b>Topic 4</b><br>Words: akcij, zdravje, kri\\u017e, rde\\u010di, kakovosti\",\"<b>Topic 4</b><br>Words: zdravil, dejavnosti, kakovosti, tkiva, celice\",\"<b>Topic 4</b><br>Words: zdravil, zdravstvenega, sekundarijat, neprekinjene, razvrstitve\",\"<b>Topic 4</b><br>Words: presaditev, darovalcev, ledvic, pripomo\\u010dke, medicinski\",\"<b>Topic 4</b><br>Words: specialist, dentalne, zdravstvenega, prebivalcev, valorizacijo\",\"<b>Topic 4</b><br>Words: cigarete, tro\\u0161arin, prikraj\\u0161ani, licenc, drobnoprodajne\",\"<b>Topic 4</b><br>Words: sodnikov, italiji, laboratorijske, nem\\u010diji, neodvisnosti\",\"<b>Topic 4</b><br>Words: zdravili, zdravje, ponarejenih, laboratorija, lekarne\",\"<b>Topic 4</b><br>Words: presaditev, smrti, \\u010dlove\\u0161kega, darovanja, tkiv\",\"<b>Topic 4</b><br>Words: koncesije, javno, zdravstvenega, ukc, specializacij\",\"<b>Topic 4</b><br>Words: \\u010dakalnih, dejavnosti, ukc, zdravstva, ministrice\",\"<b>Topic 4</b><br>Words: kb1909, medical, pri\\u010danje, sum, mark\",\"<b>Topic 4</b><br>Words: medicini, sestre, humani, negi, ovojnini\",\"<b>Topic 4</b><br>Words: odpornost, epidemije, 19, na\\u010drt, zdravje\",\"<b>Topic 4</b><br>Words: zdravje, kemofarmacija, salus, epidemije, lekarni\\u0161ke\"],\"marker\":{\"color\":\"#D55E00\"},\"mode\":\"lines\",\"name\":\"4_zdravil_dejavnosti_zdravnikov_ministri...\",\"x\":[\"2001-12-11T13:12:00\",\"2003-01-06T02:24:00\",\"2004-01-31T15:36:00\",\"2005-02-25T04:48:00\",\"2006-03-22T18:00:00\",\"2007-04-17T07:12:00\",\"2008-05-11T20:24:00\",\"2009-06-06T09:36:00\",\"2010-07-01T22:48:00\",\"2011-07-27T12:00:00\",\"2012-08-21T01:12:00\",\"2013-09-15T14:24:00\",\"2014-10-11T03:36:00\",\"2015-11-05T16:48:00\",\"2016-11-30T06:00:00\",\"2017-12-25T19:12:00\",\"2019-01-20T08:24:00\",\"2020-02-14T21:36:00\",\"2021-03-11T10:48:00\"],\"y\":[9,17,8,22,15,31,14,10,6,16,4,33,9,11,33,1,10,36,49],\"type\":\"scatter\"},{\"hoverinfo\":\"text\",\"hovertext\":[\"<b>Topic 5</b><br>Words: prostor, odpadkov, hidroelektrarne, na\\u010drta, \\u017eivalskih\",\"<b>Topic 5</b><br>Words: celuloze, voda, plinov, vipap, lovstva\",\"<b>Topic 5</b><br>Words: 2000, eles, megavatov, planov, okolja\",\"<b>Topic 5</b><br>Words: 2000, pravicami, vplivov, okoljskih, voda\",\"<b>Topic 5</b><br>Words: vplivov, po\\u010dasna, neodlo\\u010den, uradno, kanalizacijskih\",\"<b>Topic 5</b><br>Words: koordinira, toplogrednih, kemikalije, zmanj\\u0161evanju, motornih\",\"<b>Topic 5</b><br>Words: prostor, obmo\\u010djih, poplavne, ogro\\u017eenosti, okoljske\",\"<b>Topic 5</b><br>Words: okolje, plinskih, tr\\u017ea\\u0161kem, italijanske, terminal\",\"<b>Topic 5</b><br>Words: vre\\u010dke, plasti\\u010dne, nakupovalnih, prostor, onesna\\u017eevanje\",\"<b>Topic 5</b><br>Words: plinskih, italija, vplivov, tr\\u017ea\\u0161kem, poplavne\",\"<b>Topic 5</b><br>Words: investicija, nip, termoelektrarne, takrat, lignita\",\"<b>Topic 5</b><br>Words: \\u010debeljih, vre\\u010dk, okolje, vode, zasavci\",\"<b>Topic 5</b><br>Words: voda, naprave, dovoljenja, neizpolnitev, terminala\",\"<b>Topic 5</b><br>Words: okoljevarstvenega, pitne, dovoljenja, voda, ustavo\",\"<b>Topic 5</b><br>Words: vre\\u010dke, odpadkov, blok, termoelektrarne, plastike\",\"<b>Topic 5</b><br>Words: hidroelektrarn, izgradnje, vplivov, sodo, prostor\",\"<b>Topic 5</b><br>Words: projekt, mestna, jaspers, kanalizacijski, c0\",\"<b>Topic 5</b><br>Words: odpadkov, plina, trgovanja, embala\\u017ee, \\u0161o\\u0161tanj\",\"<b>Topic 5</b><br>Words: enkratno, plastike, okolje, uporabo, direktive\"],\"marker\":{\"color\":\"#0072B2\"},\"mode\":\"lines\",\"name\":\"5_odpadkov_voda_prostor_2000\",\"x\":[\"2001-12-11T13:12:00\",\"2003-01-06T02:24:00\",\"2004-01-31T15:36:00\",\"2005-02-25T04:48:00\",\"2006-03-22T18:00:00\",\"2007-04-17T07:12:00\",\"2008-05-11T20:24:00\",\"2009-06-06T09:36:00\",\"2010-07-01T22:48:00\",\"2011-07-27T12:00:00\",\"2012-08-21T01:12:00\",\"2013-09-15T14:24:00\",\"2014-10-11T03:36:00\",\"2015-11-05T16:48:00\",\"2016-11-30T06:00:00\",\"2017-12-25T19:12:00\",\"2019-01-20T08:24:00\",\"2020-02-14T21:36:00\",\"2021-03-11T10:48:00\"],\"y\":[3,25,21,10,7,3,21,38,15,8,4,9,21,40,12,7,9,21,39],\"type\":\"scatter\"},{\"hoverinfo\":\"text\",\"hovertext\":[\"<b>Topic 6</b><br>Words: evroskeptiki, pcp, knjigah, pogajanjem, gasilske\",\"<b>Topic 6</b><br>Words: razvoja, slovenija, regionalnih, unije, evrope\",\"<b>Topic 6</b><br>Words: nuklearni, komisarjev, spo\\u0161tovali, mlekom, konference\",\"<b>Topic 6</b><br>Words: ministri, slovenija, porivajo, solze, prednostne\",\"<b>Topic 6</b><br>Words: slovenija, usmeritvah, regije, deklaracije, uniji\",\"<b>Topic 6</b><br>Words: predsedovanje, slovenija, evropski, uniji, bo\",\"<b>Topic 6</b><br>Words: evropski, predsedovanje, \\u017eal, slovenija, oceni\",\"<b>Topic 6</b><br>Words: predsedovanja, unije, slovenija, bomo, vinjet\",\"<b>Topic 6</b><br>Words: poglavju, gozdarstvo, unije, evropske, prehrano\",\"<b>Topic 6</b><br>Words: zahodnem, pokojninske, predsednika, chase, falsificiranje\",\"<b>Topic 6</b><br>Words: zamude, slovenija, prikaz, teh, nem\\u010dija\",\"<b>Topic 6</b><br>Words: dedi\\u010di, politiki, krize, slovenijo, obljubljam\",\"<b>Topic 6</b><br>Words: himni, kitica, developers, bomo, predsednica\",\"<b>Topic 6</b><br>Words: unije, deklaracija, moramo, institucijah, eu\",\"<b>Topic 6</b><br>Words: evrope, unije, seveda, migrante, slovenija\",\"<b>Topic 6</b><br>Words: unije, jaz, deklaracije, evrope, slovenija\",\"<b>Topic 6</b><br>Words: \\u010dakajo, gps, prihodnosti, identiteto, zmage\",\"<b>Topic 6</b><br>Words: unije, \\u0161olo, deklaracije, komisarja, znotraj\",\"<b>Topic 6</b><br>Words: stranka, kaos, general, bitki, \\u0161ibkej\\u0161ih\",\"<b>Topic 6</b><br>Words: deklaracije, odpornost, okrevanje, evropske, unija\"],\"marker\":{\"color\":\"#CC79A7\"},\"mode\":\"lines\",\"name\":\"6_unije_slovenija_republike_bo\",\"x\":[\"2000-11-08T04:32:09.600000\",\"2001-12-11T13:12:00\",\"2003-01-06T02:24:00\",\"2004-01-31T15:36:00\",\"2005-02-25T04:48:00\",\"2006-03-22T18:00:00\",\"2007-04-17T07:12:00\",\"2008-05-11T20:24:00\",\"2009-06-06T09:36:00\",\"2010-07-01T22:48:00\",\"2011-07-27T12:00:00\",\"2012-08-21T01:12:00\",\"2013-09-15T14:24:00\",\"2014-10-11T03:36:00\",\"2015-11-05T16:48:00\",\"2016-11-30T06:00:00\",\"2017-12-25T19:12:00\",\"2019-01-20T08:24:00\",\"2020-02-14T21:36:00\",\"2021-03-11T10:48:00\"],\"y\":[3,8,5,10,10,17,21,13,7,7,10,10,12,17,17,15,12,11,2,17],\"type\":\"scatter\"},{\"hoverinfo\":\"text\",\"hovertext\":[\"<b>Topic 7</b><br>Words: 2002, sku\\u0161amo, zadnjem, sorazmerno, prora\\u010dunske\",\"<b>Topic 7</b><br>Words: prora\\u010duna, povedal, p\\u0161enice, ob\\u010dinam, planirati\",\"<b>Topic 7</b><br>Words: 2005, milijard, rast, politike, evropsko\",\"<b>Topic 7</b><br>Words: preizku\\u0161nja, 2007, neznank, rebalansa, negotovosti\",\"<b>Topic 7</b><br>Words: pojasnite, milijonov, minusa, 2006, ob\\u010dinam\",\"<b>Topic 7</b><br>Words: 2009, inflacijo, o\\u010ditno, letu, politiko\",\"<b>Topic 7</b><br>Words: prora\\u010duna, milijonov, letu, telekomunikacijsko, rebalans\",\"<b>Topic 7</b><br>Words: evrov, milijonov, krizo, 2008, rebalansom\",\"<b>Topic 7</b><br>Words: milijonov, investicije, rast, prora\\u010dunu, krize\",\"<b>Topic 7</b><br>Words: 2012, evrov, milijonov, bdp, rast\",\"<b>Topic 7</b><br>Words: rebalans, evrov, milijonov, investicije, prora\\u010dunu\",\"<b>Topic 7</b><br>Words: 2014, prora\\u010dunu, letu, primanjkljaj, predsednica\",\"<b>Topic 7</b><br>Words: pravilo, fiskalne, bdp, politike, 2015\",\"<b>Topic 7</b><br>Words: 2017, prora\\u010dunu, milijonov, evrov, bdp\",\"<b>Topic 7</b><br>Words: 2019, pravilu, rast, milijonov, sektorja\",\"<b>Topic 7</b><br>Words: 2019, strukturno, inovativno, pospe\\u0161uje, transferjev\",\"<b>Topic 7</b><br>Words: milijonov, 2019, letu, rebalans, dr\\u017eava\",\"<b>Topic 7</b><br>Words: bdp, milijarde, evrov, rast, rebalans\",\"<b>Topic 7</b><br>Words: 2022, milijonov, letu, evrov, covid\"],\"marker\":{\"color\":\"#E69F00\"},\"mode\":\"lines\",\"name\":\"7_milijonov_prora\\u010dunu_evrov_rast\",\"x\":[\"2000-11-08T04:32:09.600000\",\"2001-12-11T13:12:00\",\"2003-01-06T02:24:00\",\"2005-02-25T04:48:00\",\"2006-03-22T18:00:00\",\"2007-04-17T07:12:00\",\"2008-05-11T20:24:00\",\"2009-06-06T09:36:00\",\"2010-07-01T22:48:00\",\"2011-07-27T12:00:00\",\"2012-08-21T01:12:00\",\"2013-09-15T14:24:00\",\"2014-10-11T03:36:00\",\"2015-11-05T16:48:00\",\"2016-11-30T06:00:00\",\"2017-12-25T19:12:00\",\"2019-01-20T08:24:00\",\"2020-02-14T21:36:00\",\"2021-03-11T10:48:00\"],\"y\":[3,2,2,3,4,10,10,8,15,5,13,14,16,27,14,6,11,14,25],\"type\":\"scatter\"},{\"hoverinfo\":\"text\",\"hovertext\":[\"<b>Topic 8</b><br>Words: gso, poglavje, okolje, tehnologije, \\u010dloveka\",\"<b>Topic 8</b><br>Words: kmetijstvo, gozdov, nezazidana, pode\\u017eelja, kvote\",\"<b>Topic 8</b><br>Words: zdravju, kmetijsko, eko, provokacija, odlo\\u010db\",\"<b>Topic 8</b><br>Words: fitofarmacevtskih, organizmov, pode\\u017eelja, spremenjenih, prehrano\",\"<b>Topic 8</b><br>Words: administriranja, starman, deregulacijo, nesporazuma, podatke\",\"<b>Topic 8</b><br>Words: biocidnih, jarc, gozdarstvo, proizvodov, prehrano\",\"<b>Topic 8</b><br>Words: konkurence, pekovskih, kruha, za\\u0161\\u010ditilo, 82\",\"<b>Topic 8</b><br>Words: organizmov, sorte, semenskega, tr\\u017eenje, materialu\",\"<b>Topic 8</b><br>Words: generi\\u010dne, proizvodov, ambrozije, zadrugah, gozdarstvo\",\"<b>Topic 8</b><br>Words: kmetijskih, gensko, pralni, knjigovodstvo, bioplin\",\"<b>Topic 8</b><br>Words: me\\u0161anic, reprodukcijskem, gozdnem, semenskih, prehrano\",\"<b>Topic 8</b><br>Words: fitofarmacevtskih, gozdovih, lesa, \\u017eivil, varno\",\"<b>Topic 8</b><br>Words: lesa, biocidnih, kazni, vinu, kmetijstva\",\"<b>Topic 8</b><br>Words: genocid, kljubovali, kmetijstvo, organizmov, se\\u010dnje\",\"<b>Topic 8</b><br>Words: kislin, transma\\u0161\\u010dobami, koeficienta, u\\u017eivanje, bolezni\",\"<b>Topic 8</b><br>Words: trans, \\u017eivilih, deklaracije, copy, paste\",\"<b>Topic 8</b><br>Words: hrano, ob\\u010dani, ob\\u010dini, aplikacij, \\u0161ibkej\\u0161e\",\"<b>Topic 8</b><br>Words: 2027, perspektiva, spomladanskem, po\\u010dasi, kmetijstvo\",\"<b>Topic 8</b><br>Words: verigi, nepo\\u0161tene, semen, izobra\\u017eevalnih, \\u017eivilskimi\",\"<b>Topic 8</b><br>Words: kmetijstvu, \\u010debelarji, samooskrbe, verigi, politike\"],\"marker\":{\"color\":\"#56B4E9\"},\"mode\":\"lines\",\"name\":\"8_kmetijstvo_fitofarmacevtskih_pode\\u017eelja...\",\"x\":[\"2000-11-08T04:32:09.600000\",\"2001-12-11T13:12:00\",\"2003-01-06T02:24:00\",\"2004-01-31T15:36:00\",\"2005-02-25T04:48:00\",\"2006-03-22T18:00:00\",\"2007-04-17T07:12:00\",\"2008-05-11T20:24:00\",\"2009-06-06T09:36:00\",\"2010-07-01T22:48:00\",\"2011-07-27T12:00:00\",\"2012-08-21T01:12:00\",\"2013-09-15T14:24:00\",\"2014-10-11T03:36:00\",\"2015-11-05T16:48:00\",\"2016-11-30T06:00:00\",\"2017-12-25T19:12:00\",\"2019-01-20T08:24:00\",\"2020-02-14T21:36:00\",\"2021-03-11T10:48:00\"],\"y\":[4,9,8,15,1,11,2,18,20,8,16,22,13,9,8,11,2,1,4,5],\"type\":\"scatter\"},{\"hoverinfo\":\"text\",\"hovertext\":[\"<b>Topic 9</b><br>Words: medijsko, energijo, ostane, mi\\u0161i\\u010dne, prepulzivno\",\"<b>Topic 9</b><br>Words: plina, trga, elektrarne, novost, kolonija\",\"<b>Topic 9</b><br>Words: plina, u\\u010dinkovitosti, zanesljivost, cene, stavbe\",\"<b>Topic 9</b><br>Words: trajnostne, ogrevanju, obljubljeni, elektriki, obnovljene\",\"<b>Topic 9</b><br>Words: elektri\\u010dno, megavatov, rabe, podpor, proizvajalcem\",\"<b>Topic 9</b><br>Words: obnovljive, podnebne, vozila, na\\u010drt, rabe\",\"<b>Topic 9</b><br>Words: energetsko, \\u0161ola, ekovsebine, soorganizaciji, pestrost\",\"<b>Topic 9</b><br>Words: hidroelektrarni, operaterja, elektri\\u010dno, ljudski, izkori\\u0161\\u010danje\",\"<b>Topic 9</b><br>Words: skladi\\u0161\\u010denje, fotovoltaiko, naftnimi, hidroelektrarn, nepredvidenih\",\"<b>Topic 9</b><br>Words: energetsko, virov, toplote, koncept, stavbe\",\"<b>Topic 9</b><br>Words: agencije, energetskih, novozaposlenih, 2015, stavb\",\"<b>Topic 9</b><br>Words: agencija, energetskega, finan\\u010dnemu, na\\u010drt, 399\",\"<b>Topic 9</b><br>Words: agencije, lobi, cirkovce, energetski, programa\",\"<b>Topic 9</b><br>Words: save, elektrarn, vodnega, koncept, gradnjo\",\"<b>Topic 9</b><br>Words: stavb, elektri\\u010dno, obnovljive, toplote, regulacije\",\"<b>Topic 9</b><br>Words: obnovljivih, u\\u010dinkovitosti, 2030, prenosne, plina\",\"<b>Topic 9</b><br>Words: elektri\\u010dno, rabe, cene, samooskrbo, toplote\"],\"marker\":{\"color\":\"#009E73\"},\"mode\":\"lines\",\"name\":\"9_virov_elektri\\u010dno_stavb_rabe\",\"x\":[\"2003-01-06T02:24:00\",\"2004-01-31T15:36:00\",\"2006-03-22T18:00:00\",\"2007-04-17T07:12:00\",\"2008-05-11T20:24:00\",\"2009-06-06T09:36:00\",\"2010-07-01T22:48:00\",\"2011-07-27T12:00:00\",\"2012-08-21T01:12:00\",\"2013-09-15T14:24:00\",\"2014-10-11T03:36:00\",\"2015-11-05T16:48:00\",\"2016-11-30T06:00:00\",\"2017-12-25T19:12:00\",\"2019-01-20T08:24:00\",\"2020-02-14T21:36:00\",\"2021-03-11T10:48:00\"],\"y\":[1,8,10,1,12,7,1,9,4,30,2,4,5,7,15,13,48],\"type\":\"scatter\"}],                        {\"template\":{\"data\":{\"barpolar\":[{\"marker\":{\"line\":{\"color\":\"white\",\"width\":0.5},\"pattern\":{\"fillmode\":\"overlay\",\"size\":10,\"solidity\":0.2}},\"type\":\"barpolar\"}],\"bar\":[{\"error_x\":{\"color\":\"rgb(36,36,36)\"},\"error_y\":{\"color\":\"rgb(36,36,36)\"},\"marker\":{\"line\":{\"color\":\"white\",\"width\":0.5},\"pattern\":{\"fillmode\":\"overlay\",\"size\":10,\"solidity\":0.2}},\"type\":\"bar\"}],\"carpet\":[{\"aaxis\":{\"endlinecolor\":\"rgb(36,36,36)\",\"gridcolor\":\"white\",\"linecolor\":\"white\",\"minorgridcolor\":\"white\",\"startlinecolor\":\"rgb(36,36,36)\"},\"baxis\":{\"endlinecolor\":\"rgb(36,36,36)\",\"gridcolor\":\"white\",\"linecolor\":\"white\",\"minorgridcolor\":\"white\",\"startlinecolor\":\"rgb(36,36,36)\"},\"type\":\"carpet\"}],\"choropleth\":[{\"colorbar\":{\"outlinewidth\":1,\"tickcolor\":\"rgb(36,36,36)\",\"ticks\":\"outside\"},\"type\":\"choropleth\"}],\"contourcarpet\":[{\"colorbar\":{\"outlinewidth\":1,\"tickcolor\":\"rgb(36,36,36)\",\"ticks\":\"outside\"},\"type\":\"contourcarpet\"}],\"contour\":[{\"colorbar\":{\"outlinewidth\":1,\"tickcolor\":\"rgb(36,36,36)\",\"ticks\":\"outside\"},\"colorscale\":[[0.0,\"#440154\"],[0.1111111111111111,\"#482878\"],[0.2222222222222222,\"#3e4989\"],[0.3333333333333333,\"#31688e\"],[0.4444444444444444,\"#26828e\"],[0.5555555555555556,\"#1f9e89\"],[0.6666666666666666,\"#35b779\"],[0.7777777777777778,\"#6ece58\"],[0.8888888888888888,\"#b5de2b\"],[1.0,\"#fde725\"]],\"type\":\"contour\"}],\"heatmapgl\":[{\"colorbar\":{\"outlinewidth\":1,\"tickcolor\":\"rgb(36,36,36)\",\"ticks\":\"outside\"},\"colorscale\":[[0.0,\"#440154\"],[0.1111111111111111,\"#482878\"],[0.2222222222222222,\"#3e4989\"],[0.3333333333333333,\"#31688e\"],[0.4444444444444444,\"#26828e\"],[0.5555555555555556,\"#1f9e89\"],[0.6666666666666666,\"#35b779\"],[0.7777777777777778,\"#6ece58\"],[0.8888888888888888,\"#b5de2b\"],[1.0,\"#fde725\"]],\"type\":\"heatmapgl\"}],\"heatmap\":[{\"colorbar\":{\"outlinewidth\":1,\"tickcolor\":\"rgb(36,36,36)\",\"ticks\":\"outside\"},\"colorscale\":[[0.0,\"#440154\"],[0.1111111111111111,\"#482878\"],[0.2222222222222222,\"#3e4989\"],[0.3333333333333333,\"#31688e\"],[0.4444444444444444,\"#26828e\"],[0.5555555555555556,\"#1f9e89\"],[0.6666666666666666,\"#35b779\"],[0.7777777777777778,\"#6ece58\"],[0.8888888888888888,\"#b5de2b\"],[1.0,\"#fde725\"]],\"type\":\"heatmap\"}],\"histogram2dcontour\":[{\"colorbar\":{\"outlinewidth\":1,\"tickcolor\":\"rgb(36,36,36)\",\"ticks\":\"outside\"},\"colorscale\":[[0.0,\"#440154\"],[0.1111111111111111,\"#482878\"],[0.2222222222222222,\"#3e4989\"],[0.3333333333333333,\"#31688e\"],[0.4444444444444444,\"#26828e\"],[0.5555555555555556,\"#1f9e89\"],[0.6666666666666666,\"#35b779\"],[0.7777777777777778,\"#6ece58\"],[0.8888888888888888,\"#b5de2b\"],[1.0,\"#fde725\"]],\"type\":\"histogram2dcontour\"}],\"histogram2d\":[{\"colorbar\":{\"outlinewidth\":1,\"tickcolor\":\"rgb(36,36,36)\",\"ticks\":\"outside\"},\"colorscale\":[[0.0,\"#440154\"],[0.1111111111111111,\"#482878\"],[0.2222222222222222,\"#3e4989\"],[0.3333333333333333,\"#31688e\"],[0.4444444444444444,\"#26828e\"],[0.5555555555555556,\"#1f9e89\"],[0.6666666666666666,\"#35b779\"],[0.7777777777777778,\"#6ece58\"],[0.8888888888888888,\"#b5de2b\"],[1.0,\"#fde725\"]],\"type\":\"histogram2d\"}],\"histogram\":[{\"marker\":{\"line\":{\"color\":\"white\",\"width\":0.6}},\"type\":\"histogram\"}],\"mesh3d\":[{\"colorbar\":{\"outlinewidth\":1,\"tickcolor\":\"rgb(36,36,36)\",\"ticks\":\"outside\"},\"type\":\"mesh3d\"}],\"parcoords\":[{\"line\":{\"colorbar\":{\"outlinewidth\":1,\"tickcolor\":\"rgb(36,36,36)\",\"ticks\":\"outside\"}},\"type\":\"parcoords\"}],\"pie\":[{\"automargin\":true,\"type\":\"pie\"}],\"scatter3d\":[{\"line\":{\"colorbar\":{\"outlinewidth\":1,\"tickcolor\":\"rgb(36,36,36)\",\"ticks\":\"outside\"}},\"marker\":{\"colorbar\":{\"outlinewidth\":1,\"tickcolor\":\"rgb(36,36,36)\",\"ticks\":\"outside\"}},\"type\":\"scatter3d\"}],\"scattercarpet\":[{\"marker\":{\"colorbar\":{\"outlinewidth\":1,\"tickcolor\":\"rgb(36,36,36)\",\"ticks\":\"outside\"}},\"type\":\"scattercarpet\"}],\"scattergeo\":[{\"marker\":{\"colorbar\":{\"outlinewidth\":1,\"tickcolor\":\"rgb(36,36,36)\",\"ticks\":\"outside\"}},\"type\":\"scattergeo\"}],\"scattergl\":[{\"marker\":{\"colorbar\":{\"outlinewidth\":1,\"tickcolor\":\"rgb(36,36,36)\",\"ticks\":\"outside\"}},\"type\":\"scattergl\"}],\"scattermapbox\":[{\"marker\":{\"colorbar\":{\"outlinewidth\":1,\"tickcolor\":\"rgb(36,36,36)\",\"ticks\":\"outside\"}},\"type\":\"scattermapbox\"}],\"scatterpolargl\":[{\"marker\":{\"colorbar\":{\"outlinewidth\":1,\"tickcolor\":\"rgb(36,36,36)\",\"ticks\":\"outside\"}},\"type\":\"scatterpolargl\"}],\"scatterpolar\":[{\"marker\":{\"colorbar\":{\"outlinewidth\":1,\"tickcolor\":\"rgb(36,36,36)\",\"ticks\":\"outside\"}},\"type\":\"scatterpolar\"}],\"scatter\":[{\"fillpattern\":{\"fillmode\":\"overlay\",\"size\":10,\"solidity\":0.2},\"type\":\"scatter\"}],\"scatterternary\":[{\"marker\":{\"colorbar\":{\"outlinewidth\":1,\"tickcolor\":\"rgb(36,36,36)\",\"ticks\":\"outside\"}},\"type\":\"scatterternary\"}],\"surface\":[{\"colorbar\":{\"outlinewidth\":1,\"tickcolor\":\"rgb(36,36,36)\",\"ticks\":\"outside\"},\"colorscale\":[[0.0,\"#440154\"],[0.1111111111111111,\"#482878\"],[0.2222222222222222,\"#3e4989\"],[0.3333333333333333,\"#31688e\"],[0.4444444444444444,\"#26828e\"],[0.5555555555555556,\"#1f9e89\"],[0.6666666666666666,\"#35b779\"],[0.7777777777777778,\"#6ece58\"],[0.8888888888888888,\"#b5de2b\"],[1.0,\"#fde725\"]],\"type\":\"surface\"}],\"table\":[{\"cells\":{\"fill\":{\"color\":\"rgb(237,237,237)\"},\"line\":{\"color\":\"white\"}},\"header\":{\"fill\":{\"color\":\"rgb(217,217,217)\"},\"line\":{\"color\":\"white\"}},\"type\":\"table\"}]},\"layout\":{\"annotationdefaults\":{\"arrowhead\":0,\"arrowwidth\":1},\"autotypenumbers\":\"strict\",\"coloraxis\":{\"colorbar\":{\"outlinewidth\":1,\"tickcolor\":\"rgb(36,36,36)\",\"ticks\":\"outside\"}},\"colorscale\":{\"diverging\":[[0.0,\"rgb(103,0,31)\"],[0.1,\"rgb(178,24,43)\"],[0.2,\"rgb(214,96,77)\"],[0.3,\"rgb(244,165,130)\"],[0.4,\"rgb(253,219,199)\"],[0.5,\"rgb(247,247,247)\"],[0.6,\"rgb(209,229,240)\"],[0.7,\"rgb(146,197,222)\"],[0.8,\"rgb(67,147,195)\"],[0.9,\"rgb(33,102,172)\"],[1.0,\"rgb(5,48,97)\"]],\"sequential\":[[0.0,\"#440154\"],[0.1111111111111111,\"#482878\"],[0.2222222222222222,\"#3e4989\"],[0.3333333333333333,\"#31688e\"],[0.4444444444444444,\"#26828e\"],[0.5555555555555556,\"#1f9e89\"],[0.6666666666666666,\"#35b779\"],[0.7777777777777778,\"#6ece58\"],[0.8888888888888888,\"#b5de2b\"],[1.0,\"#fde725\"]],\"sequentialminus\":[[0.0,\"#440154\"],[0.1111111111111111,\"#482878\"],[0.2222222222222222,\"#3e4989\"],[0.3333333333333333,\"#31688e\"],[0.4444444444444444,\"#26828e\"],[0.5555555555555556,\"#1f9e89\"],[0.6666666666666666,\"#35b779\"],[0.7777777777777778,\"#6ece58\"],[0.8888888888888888,\"#b5de2b\"],[1.0,\"#fde725\"]]},\"colorway\":[\"#1F77B4\",\"#FF7F0E\",\"#2CA02C\",\"#D62728\",\"#9467BD\",\"#8C564B\",\"#E377C2\",\"#7F7F7F\",\"#BCBD22\",\"#17BECF\"],\"font\":{\"color\":\"rgb(36,36,36)\"},\"geo\":{\"bgcolor\":\"white\",\"lakecolor\":\"white\",\"landcolor\":\"white\",\"showlakes\":true,\"showland\":true,\"subunitcolor\":\"white\"},\"hoverlabel\":{\"align\":\"left\"},\"hovermode\":\"closest\",\"mapbox\":{\"style\":\"light\"},\"paper_bgcolor\":\"white\",\"plot_bgcolor\":\"white\",\"polar\":{\"angularaxis\":{\"gridcolor\":\"rgb(232,232,232)\",\"linecolor\":\"rgb(36,36,36)\",\"showgrid\":false,\"showline\":true,\"ticks\":\"outside\"},\"bgcolor\":\"white\",\"radialaxis\":{\"gridcolor\":\"rgb(232,232,232)\",\"linecolor\":\"rgb(36,36,36)\",\"showgrid\":false,\"showline\":true,\"ticks\":\"outside\"}},\"scene\":{\"xaxis\":{\"backgroundcolor\":\"white\",\"gridcolor\":\"rgb(232,232,232)\",\"gridwidth\":2,\"linecolor\":\"rgb(36,36,36)\",\"showbackground\":true,\"showgrid\":false,\"showline\":true,\"ticks\":\"outside\",\"zeroline\":false,\"zerolinecolor\":\"rgb(36,36,36)\"},\"yaxis\":{\"backgroundcolor\":\"white\",\"gridcolor\":\"rgb(232,232,232)\",\"gridwidth\":2,\"linecolor\":\"rgb(36,36,36)\",\"showbackground\":true,\"showgrid\":false,\"showline\":true,\"ticks\":\"outside\",\"zeroline\":false,\"zerolinecolor\":\"rgb(36,36,36)\"},\"zaxis\":{\"backgroundcolor\":\"white\",\"gridcolor\":\"rgb(232,232,232)\",\"gridwidth\":2,\"linecolor\":\"rgb(36,36,36)\",\"showbackground\":true,\"showgrid\":false,\"showline\":true,\"ticks\":\"outside\",\"zeroline\":false,\"zerolinecolor\":\"rgb(36,36,36)\"}},\"shapedefaults\":{\"fillcolor\":\"black\",\"line\":{\"width\":0},\"opacity\":0.3},\"ternary\":{\"aaxis\":{\"gridcolor\":\"rgb(232,232,232)\",\"linecolor\":\"rgb(36,36,36)\",\"showgrid\":false,\"showline\":true,\"ticks\":\"outside\"},\"baxis\":{\"gridcolor\":\"rgb(232,232,232)\",\"linecolor\":\"rgb(36,36,36)\",\"showgrid\":false,\"showline\":true,\"ticks\":\"outside\"},\"bgcolor\":\"white\",\"caxis\":{\"gridcolor\":\"rgb(232,232,232)\",\"linecolor\":\"rgb(36,36,36)\",\"showgrid\":false,\"showline\":true,\"ticks\":\"outside\"}},\"title\":{\"x\":0.05},\"xaxis\":{\"automargin\":true,\"gridcolor\":\"rgb(232,232,232)\",\"linecolor\":\"rgb(36,36,36)\",\"showgrid\":false,\"showline\":true,\"ticks\":\"outside\",\"title\":{\"standoff\":15},\"zeroline\":false,\"zerolinecolor\":\"rgb(36,36,36)\"},\"yaxis\":{\"automargin\":true,\"gridcolor\":\"rgb(232,232,232)\",\"linecolor\":\"rgb(36,36,36)\",\"showgrid\":false,\"showline\":true,\"ticks\":\"outside\",\"title\":{\"standoff\":15},\"zeroline\":false,\"zerolinecolor\":\"rgb(36,36,36)\"}}},\"xaxis\":{\"showgrid\":true},\"yaxis\":{\"showgrid\":true,\"title\":{\"text\":\"Frequency\"}},\"title\":{\"font\":{\"size\":22,\"color\":\"Black\"},\"text\":\"<b>Topics over Time</b>\",\"y\":0.95,\"x\":0.4,\"xanchor\":\"center\",\"yanchor\":\"top\"},\"hoverlabel\":{\"font\":{\"size\":16,\"family\":\"Rockwell\"},\"bgcolor\":\"white\"},\"width\":1250,\"height\":450,\"legend\":{\"title\":{\"text\":\"<b>Global Topic Representation\"}}},                        {\"responsive\": true}                    ).then(function(){\n",
       "                            \n",
       "var gd = document.getElementById('ee98b3f6-ee03-41a0-a122-91272de3431e');\n",
       "var x = new MutationObserver(function (mutations, observer) {{\n",
       "        var display = window.getComputedStyle(gd).display;\n",
       "        if (!display || display === 'none') {{\n",
       "            console.log([gd, 'removed!']);\n",
       "            Plotly.purge(gd);\n",
       "            observer.disconnect();\n",
       "        }}\n",
       "}});\n",
       "\n",
       "// Listen for the removal of the full notebook cells\n",
       "var notebookContainer = gd.closest('#notebook-container');\n",
       "if (notebookContainer) {{\n",
       "    x.observe(notebookContainer, {childList: true});\n",
       "}}\n",
       "\n",
       "// Listen for the clearing of the current output cell\n",
       "var outputEl = gd.closest('.output');\n",
       "if (outputEl) {{\n",
       "    x.observe(outputEl, {childList: true});\n",
       "}}\n",
       "\n",
       "                        })                };                });            </script>        </div>"
      ]
     },
     "metadata": {},
     "output_type": "display_data"
    }
   ],
   "source": [
    "topic_model.visualize_topics_over_time(topics_over_time, top_n_topics=10)\n",
    "#topic_model.visualize_topics_over_time(topics_over_time, topics=[0,18])\n"
   ]
  },
  {
   "attachments": {},
   "cell_type": "markdown",
   "metadata": {},
   "source": [
    "What is interesting about the plot above is that the keywords associated with the topic CHANGE over time! Maybe this could be a useful pointer towards further exploration."
   ]
  },
  {
   "cell_type": "code",
   "execution_count": 117,
   "metadata": {},
   "outputs": [
    {
     "data": {
      "text/html": [
       "<div>\n",
       "<style scoped>\n",
       "    .dataframe tbody tr th:only-of-type {\n",
       "        vertical-align: middle;\n",
       "    }\n",
       "\n",
       "    .dataframe tbody tr th {\n",
       "        vertical-align: top;\n",
       "    }\n",
       "\n",
       "    .dataframe thead th {\n",
       "        text-align: right;\n",
       "    }\n",
       "</style>\n",
       "<table border=\"1\" class=\"dataframe\">\n",
       "  <thead>\n",
       "    <tr style=\"text-align: right;\">\n",
       "      <th></th>\n",
       "      <th>Topic</th>\n",
       "      <th>Words</th>\n",
       "      <th>Frequency</th>\n",
       "      <th>Timestamp</th>\n",
       "      <th>Name</th>\n",
       "    </tr>\n",
       "  </thead>\n",
       "  <tbody>\n",
       "    <tr>\n",
       "      <th>1</th>\n",
       "      <td>0</td>\n",
       "      <td>tem, bom, neko, stvari, sedaj</td>\n",
       "      <td>21</td>\n",
       "      <td>2000-11-08 04:32:09.600</td>\n",
       "      <td>0_sem_potem_tem_samo</td>\n",
       "    </tr>\n",
       "    <tr>\n",
       "      <th>23</th>\n",
       "      <td>0</td>\n",
       "      <td>bleda, lokacijskega, hidroelektrarne, revizijs...</td>\n",
       "      <td>19</td>\n",
       "      <td>2001-12-11 13:12:00.000</td>\n",
       "      <td>0_sem_potem_tem_samo</td>\n",
       "    </tr>\n",
       "    <tr>\n",
       "      <th>49</th>\n",
       "      <td>0</td>\n",
       "      <td>romske, mladoletnikov, sod, seveda, zobozdravnik</td>\n",
       "      <td>22</td>\n",
       "      <td>2003-01-06 02:24:00.000</td>\n",
       "      <td>0_sem_potem_tem_samo</td>\n",
       "    </tr>\n",
       "    <tr>\n",
       "      <th>75</th>\n",
       "      <td>0</td>\n",
       "      <td>seveda, ko, tem, potem, samo</td>\n",
       "      <td>41</td>\n",
       "      <td>2004-01-31 15:36:00.000</td>\n",
       "      <td>0_sem_potem_tem_samo</td>\n",
       "    </tr>\n",
       "    <tr>\n",
       "      <th>105</th>\n",
       "      <td>0</td>\n",
       "      <td>dobičku, zaposlenih, zakon, ta, tablicah</td>\n",
       "      <td>39</td>\n",
       "      <td>2005-02-25 04:48:00.000</td>\n",
       "      <td>0_sem_potem_tem_samo</td>\n",
       "    </tr>\n",
       "    <tr>\n",
       "      <th>132</th>\n",
       "      <td>0</td>\n",
       "      <td>minister, koncesij, bil, tukaj, ta</td>\n",
       "      <td>62</td>\n",
       "      <td>2006-03-22 18:00:00.000</td>\n",
       "      <td>0_sem_potem_tem_samo</td>\n",
       "    </tr>\n",
       "    <tr>\n",
       "      <th>163</th>\n",
       "      <td>0</td>\n",
       "      <td>pokrajine, potem, samo, gospod, seveda</td>\n",
       "      <td>47</td>\n",
       "      <td>2007-04-17 07:12:00.000</td>\n",
       "      <td>0_sem_potem_tem_samo</td>\n",
       "    </tr>\n",
       "    <tr>\n",
       "      <th>195</th>\n",
       "      <td>0</td>\n",
       "      <td>danes, zelo, tem, leta, so</td>\n",
       "      <td>40</td>\n",
       "      <td>2008-05-11 20:24:00.000</td>\n",
       "      <td>0_sem_potem_tem_samo</td>\n",
       "    </tr>\n",
       "    <tr>\n",
       "      <th>223</th>\n",
       "      <td>0</td>\n",
       "      <td>ta, način, bil, mislim, predsednik</td>\n",
       "      <td>44</td>\n",
       "      <td>2009-06-06 09:36:00.000</td>\n",
       "      <td>0_sem_potem_tem_samo</td>\n",
       "    </tr>\n",
       "    <tr>\n",
       "      <th>256</th>\n",
       "      <td>0</td>\n",
       "      <td>zakon, potem, samo, zelo, vlade</td>\n",
       "      <td>46</td>\n",
       "      <td>2010-07-01 22:48:00.000</td>\n",
       "      <td>0_sem_potem_tem_samo</td>\n",
       "    </tr>\n",
       "    <tr>\n",
       "      <th>289</th>\n",
       "      <td>0</td>\n",
       "      <td>ta, danes, vlade, bo, bil</td>\n",
       "      <td>28</td>\n",
       "      <td>2011-07-27 12:00:00.000</td>\n",
       "      <td>0_sem_potem_tem_samo</td>\n",
       "    </tr>\n",
       "    <tr>\n",
       "      <th>315</th>\n",
       "      <td>0</td>\n",
       "      <td>tem, komisija, čas, bom, bo</td>\n",
       "      <td>39</td>\n",
       "      <td>2012-08-21 01:12:00.000</td>\n",
       "      <td>0_sem_potem_tem_samo</td>\n",
       "    </tr>\n",
       "    <tr>\n",
       "      <th>345</th>\n",
       "      <td>0</td>\n",
       "      <td>bom, ministra, danes, ta, tukaj</td>\n",
       "      <td>70</td>\n",
       "      <td>2013-09-15 14:24:00.000</td>\n",
       "      <td>0_sem_potem_tem_samo</td>\n",
       "    </tr>\n",
       "    <tr>\n",
       "      <th>375</th>\n",
       "      <td>0</td>\n",
       "      <td>mi, zdaj, bom, bank, tem</td>\n",
       "      <td>57</td>\n",
       "      <td>2014-10-11 03:36:00.000</td>\n",
       "      <td>0_sem_potem_tem_samo</td>\n",
       "    </tr>\n",
       "    <tr>\n",
       "      <th>407</th>\n",
       "      <td>0</td>\n",
       "      <td>sem, potem, naprej, mislim, imamo</td>\n",
       "      <td>82</td>\n",
       "      <td>2015-11-05 16:48:00.000</td>\n",
       "      <td>0_sem_potem_tem_samo</td>\n",
       "    </tr>\n",
       "    <tr>\n",
       "      <th>439</th>\n",
       "      <td>0</td>\n",
       "      <td>ministrica, vi, gospa, bom, potem</td>\n",
       "      <td>52</td>\n",
       "      <td>2016-11-30 06:00:00.000</td>\n",
       "      <td>0_sem_potem_tem_samo</td>\n",
       "    </tr>\n",
       "    <tr>\n",
       "      <th>470</th>\n",
       "      <td>0</td>\n",
       "      <td>nlb, potem, sem, ta, boste</td>\n",
       "      <td>34</td>\n",
       "      <td>2017-12-25 19:12:00.000</td>\n",
       "      <td>0_sem_potem_tem_samo</td>\n",
       "    </tr>\n",
       "    <tr>\n",
       "      <th>500</th>\n",
       "      <td>0</td>\n",
       "      <td>sem, zdaj, potem, vem, sodišče</td>\n",
       "      <td>45</td>\n",
       "      <td>2019-01-20 08:24:00.000</td>\n",
       "      <td>0_sem_potem_tem_samo</td>\n",
       "    </tr>\n",
       "    <tr>\n",
       "      <th>533</th>\n",
       "      <td>0</td>\n",
       "      <td>ventilatorjev, minister, bom, vem, danes</td>\n",
       "      <td>60</td>\n",
       "      <td>2020-02-14 21:36:00.000</td>\n",
       "      <td>0_sem_potem_tem_samo</td>\n",
       "    </tr>\n",
       "    <tr>\n",
       "      <th>563</th>\n",
       "      <td>0</td>\n",
       "      <td>minister, vi, jaz, zdaj, potem</td>\n",
       "      <td>68</td>\n",
       "      <td>2021-03-11 10:48:00.000</td>\n",
       "      <td>0_sem_potem_tem_samo</td>\n",
       "    </tr>\n",
       "  </tbody>\n",
       "</table>\n",
       "</div>"
      ],
      "text/plain": [
       "     Topic                                              Words  Frequency  \\\n",
       "1        0                      tem, bom, neko, stvari, sedaj         21   \n",
       "23       0  bleda, lokacijskega, hidroelektrarne, revizijs...         19   \n",
       "49       0   romske, mladoletnikov, sod, seveda, zobozdravnik         22   \n",
       "75       0                       seveda, ko, tem, potem, samo         41   \n",
       "105      0           dobičku, zaposlenih, zakon, ta, tablicah         39   \n",
       "132      0                 minister, koncesij, bil, tukaj, ta         62   \n",
       "163      0             pokrajine, potem, samo, gospod, seveda         47   \n",
       "195      0                         danes, zelo, tem, leta, so         40   \n",
       "223      0                 ta, način, bil, mislim, predsednik         44   \n",
       "256      0                    zakon, potem, samo, zelo, vlade         46   \n",
       "289      0                          ta, danes, vlade, bo, bil         28   \n",
       "315      0                        tem, komisija, čas, bom, bo         39   \n",
       "345      0                    bom, ministra, danes, ta, tukaj         70   \n",
       "375      0                           mi, zdaj, bom, bank, tem         57   \n",
       "407      0                  sem, potem, naprej, mislim, imamo         82   \n",
       "439      0                  ministrica, vi, gospa, bom, potem         52   \n",
       "470      0                         nlb, potem, sem, ta, boste         34   \n",
       "500      0                     sem, zdaj, potem, vem, sodišče         45   \n",
       "533      0           ventilatorjev, minister, bom, vem, danes         60   \n",
       "563      0                     minister, vi, jaz, zdaj, potem         68   \n",
       "\n",
       "                  Timestamp                  Name  \n",
       "1   2000-11-08 04:32:09.600  0_sem_potem_tem_samo  \n",
       "23  2001-12-11 13:12:00.000  0_sem_potem_tem_samo  \n",
       "49  2003-01-06 02:24:00.000  0_sem_potem_tem_samo  \n",
       "75  2004-01-31 15:36:00.000  0_sem_potem_tem_samo  \n",
       "105 2005-02-25 04:48:00.000  0_sem_potem_tem_samo  \n",
       "132 2006-03-22 18:00:00.000  0_sem_potem_tem_samo  \n",
       "163 2007-04-17 07:12:00.000  0_sem_potem_tem_samo  \n",
       "195 2008-05-11 20:24:00.000  0_sem_potem_tem_samo  \n",
       "223 2009-06-06 09:36:00.000  0_sem_potem_tem_samo  \n",
       "256 2010-07-01 22:48:00.000  0_sem_potem_tem_samo  \n",
       "289 2011-07-27 12:00:00.000  0_sem_potem_tem_samo  \n",
       "315 2012-08-21 01:12:00.000  0_sem_potem_tem_samo  \n",
       "345 2013-09-15 14:24:00.000  0_sem_potem_tem_samo  \n",
       "375 2014-10-11 03:36:00.000  0_sem_potem_tem_samo  \n",
       "407 2015-11-05 16:48:00.000  0_sem_potem_tem_samo  \n",
       "439 2016-11-30 06:00:00.000  0_sem_potem_tem_samo  \n",
       "470 2017-12-25 19:12:00.000  0_sem_potem_tem_samo  \n",
       "500 2019-01-20 08:24:00.000  0_sem_potem_tem_samo  \n",
       "533 2020-02-14 21:36:00.000  0_sem_potem_tem_samo  \n",
       "563 2021-03-11 10:48:00.000  0_sem_potem_tem_samo  "
      ]
     },
     "execution_count": 117,
     "metadata": {},
     "output_type": "execute_result"
    }
   ],
   "source": [
    "# Brexit\n",
    "topics_over_time[topics_over_time['Topic'] == 0]"
   ]
  },
  {
   "cell_type": "code",
   "execution_count": 118,
   "metadata": {},
   "outputs": [
    {
     "data": {
      "application/vnd.plotly.v1+json": {
       "config": {
        "plotlyServerURL": "https://plot.ly"
       },
       "data": [
        {
         "marker": {
          "color": "#D55E00"
         },
         "orientation": "h",
         "type": "bar",
         "x": [
          0.13792187028392167,
          0.14065838517566123,
          0.14148477097277123,
          0.1419655758074244,
          0.1421821039111119,
          0.14290076685925213,
          0.14475151773530856,
          0.14813208720755933,
          0.15319672597139558,
          0.16380390701222877
         ],
         "xaxis": "x",
         "y": [
          "bil  ",
          "minister  ",
          "mislim  ",
          "danes  ",
          "so  ",
          "lahko  ",
          "samo  ",
          "tem  ",
          "potem  ",
          "sem  "
         ],
         "yaxis": "y"
        },
        {
         "marker": {
          "color": "#0072B2"
         },
         "orientation": "h",
         "type": "bar",
         "x": [
          0.14020278342923045,
          0.14126772064420856,
          0.14300175178512875,
          0.14370598319964353,
          0.14430623422763236,
          0.148552909716325,
          0.15302931676714482,
          0.1816584709041374,
          0.24164264752036066,
          0.2864096844103744
         ],
         "xaxis": "x2",
         "y": [
          "ta  ",
          "lahko  ",
          "2013  ",
          "evrov  ",
          "sanacije  ",
          "odgovornost  ",
          "guverner  ",
          "sistema  ",
          "slovenije  ",
          "bank  "
         ],
         "yaxis": "y2"
        },
        {
         "marker": {
          "color": "#CC79A7"
         },
         "orientation": "h",
         "type": "bar",
         "x": [
          0.15832653924251572,
          0.15929009589472487,
          0.1616294482581067,
          0.1620879672344952,
          0.16827805614216215,
          0.18979446052066593,
          0.19494746768050075,
          0.20268078409243456,
          0.22106115316522765,
          0.26133689270766014
         ],
         "xaxis": "x3",
         "y": [
          "vinjet  ",
          "motornih  ",
          "predlog  ",
          "železniško  ",
          "slovenskih  ",
          "zakona  ",
          "varnosti  ",
          "cestninjenja  ",
          "infrastrukture  ",
          "prometu  "
         ],
         "yaxis": "y3"
        },
        {
         "marker": {
          "color": "#E69F00"
         },
         "orientation": "h",
         "type": "bar",
         "x": [
          0.1356443877187098,
          0.13779009336154263,
          0.13902521887927743,
          0.14108252618722855,
          0.14132857439534252,
          0.1422787536785793,
          0.14350097407922896,
          0.1436628072964296,
          0.14773221941412595,
          0.14944248589611267
         ],
         "xaxis": "x4",
         "y": [
          "volilne  ",
          "pravice  ",
          "bo  ",
          "sloveniji  ",
          "direktive  ",
          "tem  ",
          "hvala  ",
          "unije  ",
          "bomo  ",
          "evropske  "
         ],
         "yaxis": "y4"
        },
        {
         "marker": {
          "color": "#56B4E9"
         },
         "orientation": "h",
         "type": "bar",
         "x": [
          0.1463249359911277,
          0.14894471762151892,
          0.15143170636647604,
          0.15599983862014002,
          0.15769216508844763,
          0.16385157074075082,
          0.16674706855937887,
          0.1815677071582013,
          0.18631090397957953,
          0.29646506954736324
         ],
         "xaxis": "x5",
         "y": [
          "lekarn  ",
          "zavodov  ",
          "zdravljenja  ",
          "tobačnih  ",
          "zakona  ",
          "zdravstva  ",
          "ministrica  ",
          "zdravnikov  ",
          "dejavnosti  ",
          "zdravil  "
         ],
         "yaxis": "y5"
        },
        {
         "marker": {
          "color": "#009E73"
         },
         "orientation": "h",
         "type": "bar",
         "x": [
          0.1558701809694086,
          0.15838066713079452,
          0.15919942578514898,
          0.15990315451613296,
          0.17024199784722815,
          0.18015130756134362,
          0.19349657846191626,
          0.19450043041499196,
          0.19657464299710067,
          0.22563006575928352
         ],
         "xaxis": "x6",
         "y": [
          "nature  ",
          "direktive  ",
          "terminalov  ",
          "embalaže  ",
          "pitne  ",
          "vplivov  ",
          "2000  ",
          "prostor  ",
          "voda  ",
          "odpadkov  "
         ],
         "yaxis": "y6"
        },
        {
         "marker": {
          "color": "#F0E442"
         },
         "orientation": "h",
         "type": "bar",
         "x": [
          0.1394741882380296,
          0.1398090477444691,
          0.14357254089292446,
          0.14647910542026976,
          0.14677187162175862,
          0.14905323471825235,
          0.14917325774641718,
          0.1507307866995911,
          0.17699128232973158,
          0.18686555671559427
         ],
         "xaxis": "x7",
         "y": [
          "tem  ",
          "danes  ",
          "evrope  ",
          "deklaracija  ",
          "vlade  ",
          "bomo  ",
          "bo  ",
          "republike  ",
          "slovenija  ",
          "unije  "
         ],
         "yaxis": "y7"
        },
        {
         "marker": {
          "color": "#D55E00"
         },
         "orientation": "h",
         "type": "bar",
         "x": [
          0.1498103855531383,
          0.15383846551285496,
          0.15543557054027338,
          0.15916437403863087,
          0.16291540054574086,
          0.17270974344273454,
          0.1740468492259149,
          0.18608266010028665,
          0.18853815638385157,
          0.20748063081529
         ],
         "xaxis": "x8",
         "y": [
          "bo  ",
          "2022  ",
          "javnih  ",
          "sektorja  ",
          "investicije  ",
          "rebalans  ",
          "rast  ",
          "evrov  ",
          "proračunu  ",
          "milijonov  "
         ],
         "yaxis": "y8"
        },
        {
         "marker": {
          "color": "#0072B2"
         },
         "orientation": "h",
         "type": "bar",
         "x": [
          0.17650818645981844,
          0.1788287324692366,
          0.1789265062625917,
          0.18181214805377158,
          0.18526827706267507,
          0.18549489195675423,
          0.20316485726257125,
          0.20482326934528203,
          0.21016600183304435,
          0.27600692369664415
         ],
         "xaxis": "x9",
         "y": [
          "spremenjenimi  ",
          "lesa  ",
          "biocidnih  ",
          "proizvodov  ",
          "organizmi  ",
          "gozdov  ",
          "prehrano  ",
          "podeželja  ",
          "fitofarmacevtskih  ",
          "kmetijstvo  "
         ],
         "yaxis": "y9"
        },
        {
         "marker": {
          "color": "#CC79A7"
         },
         "orientation": "h",
         "type": "bar",
         "x": [
          0.1735982552594899,
          0.19038613933321089,
          0.1905256487254558,
          0.20019702399905592,
          0.20251889493106445,
          0.20528304458117097,
          0.22302977428122805,
          0.22576481869946158,
          0.24747531349382343,
          0.30999684861342197
         ],
         "xaxis": "x10",
         "y": [
          "zakona  ",
          "učinkovitosti  ",
          "cene  ",
          "obnovljive  ",
          "plina  ",
          "toplote  ",
          "rabe  ",
          "stavb  ",
          "električno  ",
          "virov  "
         ],
         "yaxis": "y10"
        }
       ],
       "layout": {
        "annotations": [
         {
          "font": {
           "size": 16
          },
          "showarrow": false,
          "text": "Topic 0",
          "x": 0.0875,
          "xanchor": "center",
          "xref": "paper",
          "y": 1,
          "yanchor": "bottom",
          "yref": "paper"
         },
         {
          "font": {
           "size": 16
          },
          "showarrow": false,
          "text": "Topic 1",
          "x": 0.36250000000000004,
          "xanchor": "center",
          "xref": "paper",
          "y": 1,
          "yanchor": "bottom",
          "yref": "paper"
         },
         {
          "font": {
           "size": 16
          },
          "showarrow": false,
          "text": "Topic 2",
          "x": 0.6375000000000001,
          "xanchor": "center",
          "xref": "paper",
          "y": 1,
          "yanchor": "bottom",
          "yref": "paper"
         },
         {
          "font": {
           "size": 16
          },
          "showarrow": false,
          "text": "Topic 3",
          "x": 0.9125,
          "xanchor": "center",
          "xref": "paper",
          "y": 1,
          "yanchor": "bottom",
          "yref": "paper"
         },
         {
          "font": {
           "size": 16
          },
          "showarrow": false,
          "text": "Topic 4",
          "x": 0.0875,
          "xanchor": "center",
          "xref": "paper",
          "y": 0.6222222222222222,
          "yanchor": "bottom",
          "yref": "paper"
         },
         {
          "font": {
           "size": 16
          },
          "showarrow": false,
          "text": "Topic 5",
          "x": 0.36250000000000004,
          "xanchor": "center",
          "xref": "paper",
          "y": 0.6222222222222222,
          "yanchor": "bottom",
          "yref": "paper"
         },
         {
          "font": {
           "size": 16
          },
          "showarrow": false,
          "text": "Topic 6",
          "x": 0.6375000000000001,
          "xanchor": "center",
          "xref": "paper",
          "y": 0.6222222222222222,
          "yanchor": "bottom",
          "yref": "paper"
         },
         {
          "font": {
           "size": 16
          },
          "showarrow": false,
          "text": "Topic 7",
          "x": 0.9125,
          "xanchor": "center",
          "xref": "paper",
          "y": 0.6222222222222222,
          "yanchor": "bottom",
          "yref": "paper"
         },
         {
          "font": {
           "size": 16
          },
          "showarrow": false,
          "text": "Topic 8",
          "x": 0.0875,
          "xanchor": "center",
          "xref": "paper",
          "y": 0.24444444444444446,
          "yanchor": "bottom",
          "yref": "paper"
         },
         {
          "font": {
           "size": 16
          },
          "showarrow": false,
          "text": "Topic 9",
          "x": 0.36250000000000004,
          "xanchor": "center",
          "xref": "paper",
          "y": 0.24444444444444446,
          "yanchor": "bottom",
          "yref": "paper"
         }
        ],
        "height": 990,
        "hoverlabel": {
         "bgcolor": "white",
         "font": {
          "family": "Rockwell",
          "size": 16
         }
        },
        "showlegend": false,
        "template": {
         "data": {
          "bar": [
           {
            "error_x": {
             "color": "#2a3f5f"
            },
            "error_y": {
             "color": "#2a3f5f"
            },
            "marker": {
             "line": {
              "color": "white",
              "width": 0.5
             },
             "pattern": {
              "fillmode": "overlay",
              "size": 10,
              "solidity": 0.2
             }
            },
            "type": "bar"
           }
          ],
          "barpolar": [
           {
            "marker": {
             "line": {
              "color": "white",
              "width": 0.5
             },
             "pattern": {
              "fillmode": "overlay",
              "size": 10,
              "solidity": 0.2
             }
            },
            "type": "barpolar"
           }
          ],
          "carpet": [
           {
            "aaxis": {
             "endlinecolor": "#2a3f5f",
             "gridcolor": "#C8D4E3",
             "linecolor": "#C8D4E3",
             "minorgridcolor": "#C8D4E3",
             "startlinecolor": "#2a3f5f"
            },
            "baxis": {
             "endlinecolor": "#2a3f5f",
             "gridcolor": "#C8D4E3",
             "linecolor": "#C8D4E3",
             "minorgridcolor": "#C8D4E3",
             "startlinecolor": "#2a3f5f"
            },
            "type": "carpet"
           }
          ],
          "choropleth": [
           {
            "colorbar": {
             "outlinewidth": 0,
             "ticks": ""
            },
            "type": "choropleth"
           }
          ],
          "contour": [
           {
            "colorbar": {
             "outlinewidth": 0,
             "ticks": ""
            },
            "colorscale": [
             [
              0,
              "#0d0887"
             ],
             [
              0.1111111111111111,
              "#46039f"
             ],
             [
              0.2222222222222222,
              "#7201a8"
             ],
             [
              0.3333333333333333,
              "#9c179e"
             ],
             [
              0.4444444444444444,
              "#bd3786"
             ],
             [
              0.5555555555555556,
              "#d8576b"
             ],
             [
              0.6666666666666666,
              "#ed7953"
             ],
             [
              0.7777777777777778,
              "#fb9f3a"
             ],
             [
              0.8888888888888888,
              "#fdca26"
             ],
             [
              1,
              "#f0f921"
             ]
            ],
            "type": "contour"
           }
          ],
          "contourcarpet": [
           {
            "colorbar": {
             "outlinewidth": 0,
             "ticks": ""
            },
            "type": "contourcarpet"
           }
          ],
          "heatmap": [
           {
            "colorbar": {
             "outlinewidth": 0,
             "ticks": ""
            },
            "colorscale": [
             [
              0,
              "#0d0887"
             ],
             [
              0.1111111111111111,
              "#46039f"
             ],
             [
              0.2222222222222222,
              "#7201a8"
             ],
             [
              0.3333333333333333,
              "#9c179e"
             ],
             [
              0.4444444444444444,
              "#bd3786"
             ],
             [
              0.5555555555555556,
              "#d8576b"
             ],
             [
              0.6666666666666666,
              "#ed7953"
             ],
             [
              0.7777777777777778,
              "#fb9f3a"
             ],
             [
              0.8888888888888888,
              "#fdca26"
             ],
             [
              1,
              "#f0f921"
             ]
            ],
            "type": "heatmap"
           }
          ],
          "heatmapgl": [
           {
            "colorbar": {
             "outlinewidth": 0,
             "ticks": ""
            },
            "colorscale": [
             [
              0,
              "#0d0887"
             ],
             [
              0.1111111111111111,
              "#46039f"
             ],
             [
              0.2222222222222222,
              "#7201a8"
             ],
             [
              0.3333333333333333,
              "#9c179e"
             ],
             [
              0.4444444444444444,
              "#bd3786"
             ],
             [
              0.5555555555555556,
              "#d8576b"
             ],
             [
              0.6666666666666666,
              "#ed7953"
             ],
             [
              0.7777777777777778,
              "#fb9f3a"
             ],
             [
              0.8888888888888888,
              "#fdca26"
             ],
             [
              1,
              "#f0f921"
             ]
            ],
            "type": "heatmapgl"
           }
          ],
          "histogram": [
           {
            "marker": {
             "pattern": {
              "fillmode": "overlay",
              "size": 10,
              "solidity": 0.2
             }
            },
            "type": "histogram"
           }
          ],
          "histogram2d": [
           {
            "colorbar": {
             "outlinewidth": 0,
             "ticks": ""
            },
            "colorscale": [
             [
              0,
              "#0d0887"
             ],
             [
              0.1111111111111111,
              "#46039f"
             ],
             [
              0.2222222222222222,
              "#7201a8"
             ],
             [
              0.3333333333333333,
              "#9c179e"
             ],
             [
              0.4444444444444444,
              "#bd3786"
             ],
             [
              0.5555555555555556,
              "#d8576b"
             ],
             [
              0.6666666666666666,
              "#ed7953"
             ],
             [
              0.7777777777777778,
              "#fb9f3a"
             ],
             [
              0.8888888888888888,
              "#fdca26"
             ],
             [
              1,
              "#f0f921"
             ]
            ],
            "type": "histogram2d"
           }
          ],
          "histogram2dcontour": [
           {
            "colorbar": {
             "outlinewidth": 0,
             "ticks": ""
            },
            "colorscale": [
             [
              0,
              "#0d0887"
             ],
             [
              0.1111111111111111,
              "#46039f"
             ],
             [
              0.2222222222222222,
              "#7201a8"
             ],
             [
              0.3333333333333333,
              "#9c179e"
             ],
             [
              0.4444444444444444,
              "#bd3786"
             ],
             [
              0.5555555555555556,
              "#d8576b"
             ],
             [
              0.6666666666666666,
              "#ed7953"
             ],
             [
              0.7777777777777778,
              "#fb9f3a"
             ],
             [
              0.8888888888888888,
              "#fdca26"
             ],
             [
              1,
              "#f0f921"
             ]
            ],
            "type": "histogram2dcontour"
           }
          ],
          "mesh3d": [
           {
            "colorbar": {
             "outlinewidth": 0,
             "ticks": ""
            },
            "type": "mesh3d"
           }
          ],
          "parcoords": [
           {
            "line": {
             "colorbar": {
              "outlinewidth": 0,
              "ticks": ""
             }
            },
            "type": "parcoords"
           }
          ],
          "pie": [
           {
            "automargin": true,
            "type": "pie"
           }
          ],
          "scatter": [
           {
            "fillpattern": {
             "fillmode": "overlay",
             "size": 10,
             "solidity": 0.2
            },
            "type": "scatter"
           }
          ],
          "scatter3d": [
           {
            "line": {
             "colorbar": {
              "outlinewidth": 0,
              "ticks": ""
             }
            },
            "marker": {
             "colorbar": {
              "outlinewidth": 0,
              "ticks": ""
             }
            },
            "type": "scatter3d"
           }
          ],
          "scattercarpet": [
           {
            "marker": {
             "colorbar": {
              "outlinewidth": 0,
              "ticks": ""
             }
            },
            "type": "scattercarpet"
           }
          ],
          "scattergeo": [
           {
            "marker": {
             "colorbar": {
              "outlinewidth": 0,
              "ticks": ""
             }
            },
            "type": "scattergeo"
           }
          ],
          "scattergl": [
           {
            "marker": {
             "colorbar": {
              "outlinewidth": 0,
              "ticks": ""
             }
            },
            "type": "scattergl"
           }
          ],
          "scattermapbox": [
           {
            "marker": {
             "colorbar": {
              "outlinewidth": 0,
              "ticks": ""
             }
            },
            "type": "scattermapbox"
           }
          ],
          "scatterpolar": [
           {
            "marker": {
             "colorbar": {
              "outlinewidth": 0,
              "ticks": ""
             }
            },
            "type": "scatterpolar"
           }
          ],
          "scatterpolargl": [
           {
            "marker": {
             "colorbar": {
              "outlinewidth": 0,
              "ticks": ""
             }
            },
            "type": "scatterpolargl"
           }
          ],
          "scatterternary": [
           {
            "marker": {
             "colorbar": {
              "outlinewidth": 0,
              "ticks": ""
             }
            },
            "type": "scatterternary"
           }
          ],
          "surface": [
           {
            "colorbar": {
             "outlinewidth": 0,
             "ticks": ""
            },
            "colorscale": [
             [
              0,
              "#0d0887"
             ],
             [
              0.1111111111111111,
              "#46039f"
             ],
             [
              0.2222222222222222,
              "#7201a8"
             ],
             [
              0.3333333333333333,
              "#9c179e"
             ],
             [
              0.4444444444444444,
              "#bd3786"
             ],
             [
              0.5555555555555556,
              "#d8576b"
             ],
             [
              0.6666666666666666,
              "#ed7953"
             ],
             [
              0.7777777777777778,
              "#fb9f3a"
             ],
             [
              0.8888888888888888,
              "#fdca26"
             ],
             [
              1,
              "#f0f921"
             ]
            ],
            "type": "surface"
           }
          ],
          "table": [
           {
            "cells": {
             "fill": {
              "color": "#EBF0F8"
             },
             "line": {
              "color": "white"
             }
            },
            "header": {
             "fill": {
              "color": "#C8D4E3"
             },
             "line": {
              "color": "white"
             }
            },
            "type": "table"
           }
          ]
         },
         "layout": {
          "annotationdefaults": {
           "arrowcolor": "#2a3f5f",
           "arrowhead": 0,
           "arrowwidth": 1
          },
          "autotypenumbers": "strict",
          "coloraxis": {
           "colorbar": {
            "outlinewidth": 0,
            "ticks": ""
           }
          },
          "colorscale": {
           "diverging": [
            [
             0,
             "#8e0152"
            ],
            [
             0.1,
             "#c51b7d"
            ],
            [
             0.2,
             "#de77ae"
            ],
            [
             0.3,
             "#f1b6da"
            ],
            [
             0.4,
             "#fde0ef"
            ],
            [
             0.5,
             "#f7f7f7"
            ],
            [
             0.6,
             "#e6f5d0"
            ],
            [
             0.7,
             "#b8e186"
            ],
            [
             0.8,
             "#7fbc41"
            ],
            [
             0.9,
             "#4d9221"
            ],
            [
             1,
             "#276419"
            ]
           ],
           "sequential": [
            [
             0,
             "#0d0887"
            ],
            [
             0.1111111111111111,
             "#46039f"
            ],
            [
             0.2222222222222222,
             "#7201a8"
            ],
            [
             0.3333333333333333,
             "#9c179e"
            ],
            [
             0.4444444444444444,
             "#bd3786"
            ],
            [
             0.5555555555555556,
             "#d8576b"
            ],
            [
             0.6666666666666666,
             "#ed7953"
            ],
            [
             0.7777777777777778,
             "#fb9f3a"
            ],
            [
             0.8888888888888888,
             "#fdca26"
            ],
            [
             1,
             "#f0f921"
            ]
           ],
           "sequentialminus": [
            [
             0,
             "#0d0887"
            ],
            [
             0.1111111111111111,
             "#46039f"
            ],
            [
             0.2222222222222222,
             "#7201a8"
            ],
            [
             0.3333333333333333,
             "#9c179e"
            ],
            [
             0.4444444444444444,
             "#bd3786"
            ],
            [
             0.5555555555555556,
             "#d8576b"
            ],
            [
             0.6666666666666666,
             "#ed7953"
            ],
            [
             0.7777777777777778,
             "#fb9f3a"
            ],
            [
             0.8888888888888888,
             "#fdca26"
            ],
            [
             1,
             "#f0f921"
            ]
           ]
          },
          "colorway": [
           "#636efa",
           "#EF553B",
           "#00cc96",
           "#ab63fa",
           "#FFA15A",
           "#19d3f3",
           "#FF6692",
           "#B6E880",
           "#FF97FF",
           "#FECB52"
          ],
          "font": {
           "color": "#2a3f5f"
          },
          "geo": {
           "bgcolor": "white",
           "lakecolor": "white",
           "landcolor": "white",
           "showlakes": true,
           "showland": true,
           "subunitcolor": "#C8D4E3"
          },
          "hoverlabel": {
           "align": "left"
          },
          "hovermode": "closest",
          "mapbox": {
           "style": "light"
          },
          "paper_bgcolor": "white",
          "plot_bgcolor": "white",
          "polar": {
           "angularaxis": {
            "gridcolor": "#EBF0F8",
            "linecolor": "#EBF0F8",
            "ticks": ""
           },
           "bgcolor": "white",
           "radialaxis": {
            "gridcolor": "#EBF0F8",
            "linecolor": "#EBF0F8",
            "ticks": ""
           }
          },
          "scene": {
           "xaxis": {
            "backgroundcolor": "white",
            "gridcolor": "#DFE8F3",
            "gridwidth": 2,
            "linecolor": "#EBF0F8",
            "showbackground": true,
            "ticks": "",
            "zerolinecolor": "#EBF0F8"
           },
           "yaxis": {
            "backgroundcolor": "white",
            "gridcolor": "#DFE8F3",
            "gridwidth": 2,
            "linecolor": "#EBF0F8",
            "showbackground": true,
            "ticks": "",
            "zerolinecolor": "#EBF0F8"
           },
           "zaxis": {
            "backgroundcolor": "white",
            "gridcolor": "#DFE8F3",
            "gridwidth": 2,
            "linecolor": "#EBF0F8",
            "showbackground": true,
            "ticks": "",
            "zerolinecolor": "#EBF0F8"
           }
          },
          "shapedefaults": {
           "line": {
            "color": "#2a3f5f"
           }
          },
          "ternary": {
           "aaxis": {
            "gridcolor": "#DFE8F3",
            "linecolor": "#A2B1C6",
            "ticks": ""
           },
           "baxis": {
            "gridcolor": "#DFE8F3",
            "linecolor": "#A2B1C6",
            "ticks": ""
           },
           "bgcolor": "white",
           "caxis": {
            "gridcolor": "#DFE8F3",
            "linecolor": "#A2B1C6",
            "ticks": ""
           }
          },
          "title": {
           "x": 0.05
          },
          "xaxis": {
           "automargin": true,
           "gridcolor": "#EBF0F8",
           "linecolor": "#EBF0F8",
           "ticks": "",
           "title": {
            "standoff": 15
           },
           "zerolinecolor": "#EBF0F8",
           "zerolinewidth": 2
          },
          "yaxis": {
           "automargin": true,
           "gridcolor": "#EBF0F8",
           "linecolor": "#EBF0F8",
           "ticks": "",
           "title": {
            "standoff": 15
           },
           "zerolinecolor": "#EBF0F8",
           "zerolinewidth": 2
          }
         }
        },
        "title": {
         "font": {
          "color": "Black",
          "size": 22
         },
         "text": "Topic Word Scores",
         "x": 0.5,
         "xanchor": "center",
         "yanchor": "top"
        },
        "width": 1320,
        "xaxis": {
         "anchor": "y",
         "domain": [
          0,
          0.175
         ],
         "showgrid": true
        },
        "xaxis10": {
         "anchor": "y10",
         "domain": [
          0.275,
          0.45
         ],
         "showgrid": true
        },
        "xaxis11": {
         "anchor": "y11",
         "domain": [
          0.55,
          0.7250000000000001
         ],
         "showgrid": true
        },
        "xaxis12": {
         "anchor": "y12",
         "domain": [
          0.825,
          1
         ],
         "showgrid": true
        },
        "xaxis2": {
         "anchor": "y2",
         "domain": [
          0.275,
          0.45
         ],
         "showgrid": true
        },
        "xaxis3": {
         "anchor": "y3",
         "domain": [
          0.55,
          0.7250000000000001
         ],
         "showgrid": true
        },
        "xaxis4": {
         "anchor": "y4",
         "domain": [
          0.825,
          1
         ],
         "showgrid": true
        },
        "xaxis5": {
         "anchor": "y5",
         "domain": [
          0,
          0.175
         ],
         "showgrid": true
        },
        "xaxis6": {
         "anchor": "y6",
         "domain": [
          0.275,
          0.45
         ],
         "showgrid": true
        },
        "xaxis7": {
         "anchor": "y7",
         "domain": [
          0.55,
          0.7250000000000001
         ],
         "showgrid": true
        },
        "xaxis8": {
         "anchor": "y8",
         "domain": [
          0.825,
          1
         ],
         "showgrid": true
        },
        "xaxis9": {
         "anchor": "y9",
         "domain": [
          0,
          0.175
         ],
         "showgrid": true
        },
        "yaxis": {
         "anchor": "x",
         "domain": [
          0.7555555555555555,
          1
         ],
         "showgrid": true
        },
        "yaxis10": {
         "anchor": "x10",
         "domain": [
          0,
          0.24444444444444446
         ],
         "showgrid": true
        },
        "yaxis11": {
         "anchor": "x11",
         "domain": [
          0,
          0.24444444444444446
         ],
         "showgrid": true
        },
        "yaxis12": {
         "anchor": "x12",
         "domain": [
          0,
          0.24444444444444446
         ],
         "showgrid": true
        },
        "yaxis2": {
         "anchor": "x2",
         "domain": [
          0.7555555555555555,
          1
         ],
         "showgrid": true
        },
        "yaxis3": {
         "anchor": "x3",
         "domain": [
          0.7555555555555555,
          1
         ],
         "showgrid": true
        },
        "yaxis4": {
         "anchor": "x4",
         "domain": [
          0.7555555555555555,
          1
         ],
         "showgrid": true
        },
        "yaxis5": {
         "anchor": "x5",
         "domain": [
          0.37777777777777777,
          0.6222222222222222
         ],
         "showgrid": true
        },
        "yaxis6": {
         "anchor": "x6",
         "domain": [
          0.37777777777777777,
          0.6222222222222222
         ],
         "showgrid": true
        },
        "yaxis7": {
         "anchor": "x7",
         "domain": [
          0.37777777777777777,
          0.6222222222222222
         ],
         "showgrid": true
        },
        "yaxis8": {
         "anchor": "x8",
         "domain": [
          0.37777777777777777,
          0.6222222222222222
         ],
         "showgrid": true
        },
        "yaxis9": {
         "anchor": "x9",
         "domain": [
          0,
          0.24444444444444446
         ],
         "showgrid": true
        }
       }
      },
      "text/html": [
       "<div>                            <div id=\"3e45f97f-eef5-48f0-93e8-253dee1844cb\" class=\"plotly-graph-div\" style=\"height:990px; width:1320px;\"></div>            <script type=\"text/javascript\">                require([\"plotly\"], function(Plotly) {                    window.PLOTLYENV=window.PLOTLYENV || {};                                    if (document.getElementById(\"3e45f97f-eef5-48f0-93e8-253dee1844cb\")) {                    Plotly.newPlot(                        \"3e45f97f-eef5-48f0-93e8-253dee1844cb\",                        [{\"marker\":{\"color\":\"#D55E00\"},\"orientation\":\"h\",\"x\":[0.13792187028392167,0.14065838517566123,0.14148477097277123,0.1419655758074244,0.1421821039111119,0.14290076685925213,0.14475151773530856,0.14813208720755933,0.15319672597139558,0.16380390701222877],\"y\":[\"bil  \",\"minister  \",\"mislim  \",\"danes  \",\"so  \",\"lahko  \",\"samo  \",\"tem  \",\"potem  \",\"sem  \"],\"type\":\"bar\",\"xaxis\":\"x\",\"yaxis\":\"y\"},{\"marker\":{\"color\":\"#0072B2\"},\"orientation\":\"h\",\"x\":[0.14020278342923045,0.14126772064420856,0.14300175178512875,0.14370598319964353,0.14430623422763236,0.148552909716325,0.15302931676714482,0.1816584709041374,0.24164264752036066,0.2864096844103744],\"y\":[\"ta  \",\"lahko  \",\"2013  \",\"evrov  \",\"sanacije  \",\"odgovornost  \",\"guverner  \",\"sistema  \",\"slovenije  \",\"bank  \"],\"type\":\"bar\",\"xaxis\":\"x2\",\"yaxis\":\"y2\"},{\"marker\":{\"color\":\"#CC79A7\"},\"orientation\":\"h\",\"x\":[0.15832653924251572,0.15929009589472487,0.1616294482581067,0.1620879672344952,0.16827805614216215,0.18979446052066593,0.19494746768050075,0.20268078409243456,0.22106115316522765,0.26133689270766014],\"y\":[\"vinjet  \",\"motornih  \",\"predlog  \",\"\\u017eelezni\\u0161ko  \",\"slovenskih  \",\"zakona  \",\"varnosti  \",\"cestninjenja  \",\"infrastrukture  \",\"prometu  \"],\"type\":\"bar\",\"xaxis\":\"x3\",\"yaxis\":\"y3\"},{\"marker\":{\"color\":\"#E69F00\"},\"orientation\":\"h\",\"x\":[0.1356443877187098,0.13779009336154263,0.13902521887927743,0.14108252618722855,0.14132857439534252,0.1422787536785793,0.14350097407922896,0.1436628072964296,0.14773221941412595,0.14944248589611267],\"y\":[\"volilne  \",\"pravice  \",\"bo  \",\"sloveniji  \",\"direktive  \",\"tem  \",\"hvala  \",\"unije  \",\"bomo  \",\"evropske  \"],\"type\":\"bar\",\"xaxis\":\"x4\",\"yaxis\":\"y4\"},{\"marker\":{\"color\":\"#56B4E9\"},\"orientation\":\"h\",\"x\":[0.1463249359911277,0.14894471762151892,0.15143170636647604,0.15599983862014002,0.15769216508844763,0.16385157074075082,0.16674706855937887,0.1815677071582013,0.18631090397957953,0.29646506954736324],\"y\":[\"lekarn  \",\"zavodov  \",\"zdravljenja  \",\"toba\\u010dnih  \",\"zakona  \",\"zdravstva  \",\"ministrica  \",\"zdravnikov  \",\"dejavnosti  \",\"zdravil  \"],\"type\":\"bar\",\"xaxis\":\"x5\",\"yaxis\":\"y5\"},{\"marker\":{\"color\":\"#009E73\"},\"orientation\":\"h\",\"x\":[0.1558701809694086,0.15838066713079452,0.15919942578514898,0.15990315451613296,0.17024199784722815,0.18015130756134362,0.19349657846191626,0.19450043041499196,0.19657464299710067,0.22563006575928352],\"y\":[\"nature  \",\"direktive  \",\"terminalov  \",\"embala\\u017ee  \",\"pitne  \",\"vplivov  \",\"2000  \",\"prostor  \",\"voda  \",\"odpadkov  \"],\"type\":\"bar\",\"xaxis\":\"x6\",\"yaxis\":\"y6\"},{\"marker\":{\"color\":\"#F0E442\"},\"orientation\":\"h\",\"x\":[0.1394741882380296,0.1398090477444691,0.14357254089292446,0.14647910542026976,0.14677187162175862,0.14905323471825235,0.14917325774641718,0.1507307866995911,0.17699128232973158,0.18686555671559427],\"y\":[\"tem  \",\"danes  \",\"evrope  \",\"deklaracija  \",\"vlade  \",\"bomo  \",\"bo  \",\"republike  \",\"slovenija  \",\"unije  \"],\"type\":\"bar\",\"xaxis\":\"x7\",\"yaxis\":\"y7\"},{\"marker\":{\"color\":\"#D55E00\"},\"orientation\":\"h\",\"x\":[0.1498103855531383,0.15383846551285496,0.15543557054027338,0.15916437403863087,0.16291540054574086,0.17270974344273454,0.1740468492259149,0.18608266010028665,0.18853815638385157,0.20748063081529],\"y\":[\"bo  \",\"2022  \",\"javnih  \",\"sektorja  \",\"investicije  \",\"rebalans  \",\"rast  \",\"evrov  \",\"prora\\u010dunu  \",\"milijonov  \"],\"type\":\"bar\",\"xaxis\":\"x8\",\"yaxis\":\"y8\"},{\"marker\":{\"color\":\"#0072B2\"},\"orientation\":\"h\",\"x\":[0.17650818645981844,0.1788287324692366,0.1789265062625917,0.18181214805377158,0.18526827706267507,0.18549489195675423,0.20316485726257125,0.20482326934528203,0.21016600183304435,0.27600692369664415],\"y\":[\"spremenjenimi  \",\"lesa  \",\"biocidnih  \",\"proizvodov  \",\"organizmi  \",\"gozdov  \",\"prehrano  \",\"pode\\u017eelja  \",\"fitofarmacevtskih  \",\"kmetijstvo  \"],\"type\":\"bar\",\"xaxis\":\"x9\",\"yaxis\":\"y9\"},{\"marker\":{\"color\":\"#CC79A7\"},\"orientation\":\"h\",\"x\":[0.1735982552594899,0.19038613933321089,0.1905256487254558,0.20019702399905592,0.20251889493106445,0.20528304458117097,0.22302977428122805,0.22576481869946158,0.24747531349382343,0.30999684861342197],\"y\":[\"zakona  \",\"u\\u010dinkovitosti  \",\"cene  \",\"obnovljive  \",\"plina  \",\"toplote  \",\"rabe  \",\"stavb  \",\"elektri\\u010dno  \",\"virov  \"],\"type\":\"bar\",\"xaxis\":\"x10\",\"yaxis\":\"y10\"}],                        {\"template\":{\"data\":{\"barpolar\":[{\"marker\":{\"line\":{\"color\":\"white\",\"width\":0.5},\"pattern\":{\"fillmode\":\"overlay\",\"size\":10,\"solidity\":0.2}},\"type\":\"barpolar\"}],\"bar\":[{\"error_x\":{\"color\":\"#2a3f5f\"},\"error_y\":{\"color\":\"#2a3f5f\"},\"marker\":{\"line\":{\"color\":\"white\",\"width\":0.5},\"pattern\":{\"fillmode\":\"overlay\",\"size\":10,\"solidity\":0.2}},\"type\":\"bar\"}],\"carpet\":[{\"aaxis\":{\"endlinecolor\":\"#2a3f5f\",\"gridcolor\":\"#C8D4E3\",\"linecolor\":\"#C8D4E3\",\"minorgridcolor\":\"#C8D4E3\",\"startlinecolor\":\"#2a3f5f\"},\"baxis\":{\"endlinecolor\":\"#2a3f5f\",\"gridcolor\":\"#C8D4E3\",\"linecolor\":\"#C8D4E3\",\"minorgridcolor\":\"#C8D4E3\",\"startlinecolor\":\"#2a3f5f\"},\"type\":\"carpet\"}],\"choropleth\":[{\"colorbar\":{\"outlinewidth\":0,\"ticks\":\"\"},\"type\":\"choropleth\"}],\"contourcarpet\":[{\"colorbar\":{\"outlinewidth\":0,\"ticks\":\"\"},\"type\":\"contourcarpet\"}],\"contour\":[{\"colorbar\":{\"outlinewidth\":0,\"ticks\":\"\"},\"colorscale\":[[0.0,\"#0d0887\"],[0.1111111111111111,\"#46039f\"],[0.2222222222222222,\"#7201a8\"],[0.3333333333333333,\"#9c179e\"],[0.4444444444444444,\"#bd3786\"],[0.5555555555555556,\"#d8576b\"],[0.6666666666666666,\"#ed7953\"],[0.7777777777777778,\"#fb9f3a\"],[0.8888888888888888,\"#fdca26\"],[1.0,\"#f0f921\"]],\"type\":\"contour\"}],\"heatmapgl\":[{\"colorbar\":{\"outlinewidth\":0,\"ticks\":\"\"},\"colorscale\":[[0.0,\"#0d0887\"],[0.1111111111111111,\"#46039f\"],[0.2222222222222222,\"#7201a8\"],[0.3333333333333333,\"#9c179e\"],[0.4444444444444444,\"#bd3786\"],[0.5555555555555556,\"#d8576b\"],[0.6666666666666666,\"#ed7953\"],[0.7777777777777778,\"#fb9f3a\"],[0.8888888888888888,\"#fdca26\"],[1.0,\"#f0f921\"]],\"type\":\"heatmapgl\"}],\"heatmap\":[{\"colorbar\":{\"outlinewidth\":0,\"ticks\":\"\"},\"colorscale\":[[0.0,\"#0d0887\"],[0.1111111111111111,\"#46039f\"],[0.2222222222222222,\"#7201a8\"],[0.3333333333333333,\"#9c179e\"],[0.4444444444444444,\"#bd3786\"],[0.5555555555555556,\"#d8576b\"],[0.6666666666666666,\"#ed7953\"],[0.7777777777777778,\"#fb9f3a\"],[0.8888888888888888,\"#fdca26\"],[1.0,\"#f0f921\"]],\"type\":\"heatmap\"}],\"histogram2dcontour\":[{\"colorbar\":{\"outlinewidth\":0,\"ticks\":\"\"},\"colorscale\":[[0.0,\"#0d0887\"],[0.1111111111111111,\"#46039f\"],[0.2222222222222222,\"#7201a8\"],[0.3333333333333333,\"#9c179e\"],[0.4444444444444444,\"#bd3786\"],[0.5555555555555556,\"#d8576b\"],[0.6666666666666666,\"#ed7953\"],[0.7777777777777778,\"#fb9f3a\"],[0.8888888888888888,\"#fdca26\"],[1.0,\"#f0f921\"]],\"type\":\"histogram2dcontour\"}],\"histogram2d\":[{\"colorbar\":{\"outlinewidth\":0,\"ticks\":\"\"},\"colorscale\":[[0.0,\"#0d0887\"],[0.1111111111111111,\"#46039f\"],[0.2222222222222222,\"#7201a8\"],[0.3333333333333333,\"#9c179e\"],[0.4444444444444444,\"#bd3786\"],[0.5555555555555556,\"#d8576b\"],[0.6666666666666666,\"#ed7953\"],[0.7777777777777778,\"#fb9f3a\"],[0.8888888888888888,\"#fdca26\"],[1.0,\"#f0f921\"]],\"type\":\"histogram2d\"}],\"histogram\":[{\"marker\":{\"pattern\":{\"fillmode\":\"overlay\",\"size\":10,\"solidity\":0.2}},\"type\":\"histogram\"}],\"mesh3d\":[{\"colorbar\":{\"outlinewidth\":0,\"ticks\":\"\"},\"type\":\"mesh3d\"}],\"parcoords\":[{\"line\":{\"colorbar\":{\"outlinewidth\":0,\"ticks\":\"\"}},\"type\":\"parcoords\"}],\"pie\":[{\"automargin\":true,\"type\":\"pie\"}],\"scatter3d\":[{\"line\":{\"colorbar\":{\"outlinewidth\":0,\"ticks\":\"\"}},\"marker\":{\"colorbar\":{\"outlinewidth\":0,\"ticks\":\"\"}},\"type\":\"scatter3d\"}],\"scattercarpet\":[{\"marker\":{\"colorbar\":{\"outlinewidth\":0,\"ticks\":\"\"}},\"type\":\"scattercarpet\"}],\"scattergeo\":[{\"marker\":{\"colorbar\":{\"outlinewidth\":0,\"ticks\":\"\"}},\"type\":\"scattergeo\"}],\"scattergl\":[{\"marker\":{\"colorbar\":{\"outlinewidth\":0,\"ticks\":\"\"}},\"type\":\"scattergl\"}],\"scattermapbox\":[{\"marker\":{\"colorbar\":{\"outlinewidth\":0,\"ticks\":\"\"}},\"type\":\"scattermapbox\"}],\"scatterpolargl\":[{\"marker\":{\"colorbar\":{\"outlinewidth\":0,\"ticks\":\"\"}},\"type\":\"scatterpolargl\"}],\"scatterpolar\":[{\"marker\":{\"colorbar\":{\"outlinewidth\":0,\"ticks\":\"\"}},\"type\":\"scatterpolar\"}],\"scatter\":[{\"fillpattern\":{\"fillmode\":\"overlay\",\"size\":10,\"solidity\":0.2},\"type\":\"scatter\"}],\"scatterternary\":[{\"marker\":{\"colorbar\":{\"outlinewidth\":0,\"ticks\":\"\"}},\"type\":\"scatterternary\"}],\"surface\":[{\"colorbar\":{\"outlinewidth\":0,\"ticks\":\"\"},\"colorscale\":[[0.0,\"#0d0887\"],[0.1111111111111111,\"#46039f\"],[0.2222222222222222,\"#7201a8\"],[0.3333333333333333,\"#9c179e\"],[0.4444444444444444,\"#bd3786\"],[0.5555555555555556,\"#d8576b\"],[0.6666666666666666,\"#ed7953\"],[0.7777777777777778,\"#fb9f3a\"],[0.8888888888888888,\"#fdca26\"],[1.0,\"#f0f921\"]],\"type\":\"surface\"}],\"table\":[{\"cells\":{\"fill\":{\"color\":\"#EBF0F8\"},\"line\":{\"color\":\"white\"}},\"header\":{\"fill\":{\"color\":\"#C8D4E3\"},\"line\":{\"color\":\"white\"}},\"type\":\"table\"}]},\"layout\":{\"annotationdefaults\":{\"arrowcolor\":\"#2a3f5f\",\"arrowhead\":0,\"arrowwidth\":1},\"autotypenumbers\":\"strict\",\"coloraxis\":{\"colorbar\":{\"outlinewidth\":0,\"ticks\":\"\"}},\"colorscale\":{\"diverging\":[[0,\"#8e0152\"],[0.1,\"#c51b7d\"],[0.2,\"#de77ae\"],[0.3,\"#f1b6da\"],[0.4,\"#fde0ef\"],[0.5,\"#f7f7f7\"],[0.6,\"#e6f5d0\"],[0.7,\"#b8e186\"],[0.8,\"#7fbc41\"],[0.9,\"#4d9221\"],[1,\"#276419\"]],\"sequential\":[[0.0,\"#0d0887\"],[0.1111111111111111,\"#46039f\"],[0.2222222222222222,\"#7201a8\"],[0.3333333333333333,\"#9c179e\"],[0.4444444444444444,\"#bd3786\"],[0.5555555555555556,\"#d8576b\"],[0.6666666666666666,\"#ed7953\"],[0.7777777777777778,\"#fb9f3a\"],[0.8888888888888888,\"#fdca26\"],[1.0,\"#f0f921\"]],\"sequentialminus\":[[0.0,\"#0d0887\"],[0.1111111111111111,\"#46039f\"],[0.2222222222222222,\"#7201a8\"],[0.3333333333333333,\"#9c179e\"],[0.4444444444444444,\"#bd3786\"],[0.5555555555555556,\"#d8576b\"],[0.6666666666666666,\"#ed7953\"],[0.7777777777777778,\"#fb9f3a\"],[0.8888888888888888,\"#fdca26\"],[1.0,\"#f0f921\"]]},\"colorway\":[\"#636efa\",\"#EF553B\",\"#00cc96\",\"#ab63fa\",\"#FFA15A\",\"#19d3f3\",\"#FF6692\",\"#B6E880\",\"#FF97FF\",\"#FECB52\"],\"font\":{\"color\":\"#2a3f5f\"},\"geo\":{\"bgcolor\":\"white\",\"lakecolor\":\"white\",\"landcolor\":\"white\",\"showlakes\":true,\"showland\":true,\"subunitcolor\":\"#C8D4E3\"},\"hoverlabel\":{\"align\":\"left\"},\"hovermode\":\"closest\",\"mapbox\":{\"style\":\"light\"},\"paper_bgcolor\":\"white\",\"plot_bgcolor\":\"white\",\"polar\":{\"angularaxis\":{\"gridcolor\":\"#EBF0F8\",\"linecolor\":\"#EBF0F8\",\"ticks\":\"\"},\"bgcolor\":\"white\",\"radialaxis\":{\"gridcolor\":\"#EBF0F8\",\"linecolor\":\"#EBF0F8\",\"ticks\":\"\"}},\"scene\":{\"xaxis\":{\"backgroundcolor\":\"white\",\"gridcolor\":\"#DFE8F3\",\"gridwidth\":2,\"linecolor\":\"#EBF0F8\",\"showbackground\":true,\"ticks\":\"\",\"zerolinecolor\":\"#EBF0F8\"},\"yaxis\":{\"backgroundcolor\":\"white\",\"gridcolor\":\"#DFE8F3\",\"gridwidth\":2,\"linecolor\":\"#EBF0F8\",\"showbackground\":true,\"ticks\":\"\",\"zerolinecolor\":\"#EBF0F8\"},\"zaxis\":{\"backgroundcolor\":\"white\",\"gridcolor\":\"#DFE8F3\",\"gridwidth\":2,\"linecolor\":\"#EBF0F8\",\"showbackground\":true,\"ticks\":\"\",\"zerolinecolor\":\"#EBF0F8\"}},\"shapedefaults\":{\"line\":{\"color\":\"#2a3f5f\"}},\"ternary\":{\"aaxis\":{\"gridcolor\":\"#DFE8F3\",\"linecolor\":\"#A2B1C6\",\"ticks\":\"\"},\"baxis\":{\"gridcolor\":\"#DFE8F3\",\"linecolor\":\"#A2B1C6\",\"ticks\":\"\"},\"bgcolor\":\"white\",\"caxis\":{\"gridcolor\":\"#DFE8F3\",\"linecolor\":\"#A2B1C6\",\"ticks\":\"\"}},\"title\":{\"x\":0.05},\"xaxis\":{\"automargin\":true,\"gridcolor\":\"#EBF0F8\",\"linecolor\":\"#EBF0F8\",\"ticks\":\"\",\"title\":{\"standoff\":15},\"zerolinecolor\":\"#EBF0F8\",\"zerolinewidth\":2},\"yaxis\":{\"automargin\":true,\"gridcolor\":\"#EBF0F8\",\"linecolor\":\"#EBF0F8\",\"ticks\":\"\",\"title\":{\"standoff\":15},\"zerolinecolor\":\"#EBF0F8\",\"zerolinewidth\":2}}},\"xaxis\":{\"anchor\":\"y\",\"domain\":[0.0,0.175],\"showgrid\":true},\"yaxis\":{\"anchor\":\"x\",\"domain\":[0.7555555555555555,1.0],\"showgrid\":true},\"xaxis2\":{\"anchor\":\"y2\",\"domain\":[0.275,0.45],\"showgrid\":true},\"yaxis2\":{\"anchor\":\"x2\",\"domain\":[0.7555555555555555,1.0],\"showgrid\":true},\"xaxis3\":{\"anchor\":\"y3\",\"domain\":[0.55,0.7250000000000001],\"showgrid\":true},\"yaxis3\":{\"anchor\":\"x3\",\"domain\":[0.7555555555555555,1.0],\"showgrid\":true},\"xaxis4\":{\"anchor\":\"y4\",\"domain\":[0.825,1.0],\"showgrid\":true},\"yaxis4\":{\"anchor\":\"x4\",\"domain\":[0.7555555555555555,1.0],\"showgrid\":true},\"xaxis5\":{\"anchor\":\"y5\",\"domain\":[0.0,0.175],\"showgrid\":true},\"yaxis5\":{\"anchor\":\"x5\",\"domain\":[0.37777777777777777,0.6222222222222222],\"showgrid\":true},\"xaxis6\":{\"anchor\":\"y6\",\"domain\":[0.275,0.45],\"showgrid\":true},\"yaxis6\":{\"anchor\":\"x6\",\"domain\":[0.37777777777777777,0.6222222222222222],\"showgrid\":true},\"xaxis7\":{\"anchor\":\"y7\",\"domain\":[0.55,0.7250000000000001],\"showgrid\":true},\"yaxis7\":{\"anchor\":\"x7\",\"domain\":[0.37777777777777777,0.6222222222222222],\"showgrid\":true},\"xaxis8\":{\"anchor\":\"y8\",\"domain\":[0.825,1.0],\"showgrid\":true},\"yaxis8\":{\"anchor\":\"x8\",\"domain\":[0.37777777777777777,0.6222222222222222],\"showgrid\":true},\"xaxis9\":{\"anchor\":\"y9\",\"domain\":[0.0,0.175],\"showgrid\":true},\"yaxis9\":{\"anchor\":\"x9\",\"domain\":[0.0,0.24444444444444446],\"showgrid\":true},\"xaxis10\":{\"anchor\":\"y10\",\"domain\":[0.275,0.45],\"showgrid\":true},\"yaxis10\":{\"anchor\":\"x10\",\"domain\":[0.0,0.24444444444444446],\"showgrid\":true},\"xaxis11\":{\"anchor\":\"y11\",\"domain\":[0.55,0.7250000000000001],\"showgrid\":true},\"yaxis11\":{\"anchor\":\"x11\",\"domain\":[0.0,0.24444444444444446],\"showgrid\":true},\"xaxis12\":{\"anchor\":\"y12\",\"domain\":[0.825,1.0],\"showgrid\":true},\"yaxis12\":{\"anchor\":\"x12\",\"domain\":[0.0,0.24444444444444446],\"showgrid\":true},\"annotations\":[{\"font\":{\"size\":16},\"showarrow\":false,\"text\":\"Topic 0\",\"x\":0.0875,\"xanchor\":\"center\",\"xref\":\"paper\",\"y\":1.0,\"yanchor\":\"bottom\",\"yref\":\"paper\"},{\"font\":{\"size\":16},\"showarrow\":false,\"text\":\"Topic 1\",\"x\":0.36250000000000004,\"xanchor\":\"center\",\"xref\":\"paper\",\"y\":1.0,\"yanchor\":\"bottom\",\"yref\":\"paper\"},{\"font\":{\"size\":16},\"showarrow\":false,\"text\":\"Topic 2\",\"x\":0.6375000000000001,\"xanchor\":\"center\",\"xref\":\"paper\",\"y\":1.0,\"yanchor\":\"bottom\",\"yref\":\"paper\"},{\"font\":{\"size\":16},\"showarrow\":false,\"text\":\"Topic 3\",\"x\":0.9125,\"xanchor\":\"center\",\"xref\":\"paper\",\"y\":1.0,\"yanchor\":\"bottom\",\"yref\":\"paper\"},{\"font\":{\"size\":16},\"showarrow\":false,\"text\":\"Topic 4\",\"x\":0.0875,\"xanchor\":\"center\",\"xref\":\"paper\",\"y\":0.6222222222222222,\"yanchor\":\"bottom\",\"yref\":\"paper\"},{\"font\":{\"size\":16},\"showarrow\":false,\"text\":\"Topic 5\",\"x\":0.36250000000000004,\"xanchor\":\"center\",\"xref\":\"paper\",\"y\":0.6222222222222222,\"yanchor\":\"bottom\",\"yref\":\"paper\"},{\"font\":{\"size\":16},\"showarrow\":false,\"text\":\"Topic 6\",\"x\":0.6375000000000001,\"xanchor\":\"center\",\"xref\":\"paper\",\"y\":0.6222222222222222,\"yanchor\":\"bottom\",\"yref\":\"paper\"},{\"font\":{\"size\":16},\"showarrow\":false,\"text\":\"Topic 7\",\"x\":0.9125,\"xanchor\":\"center\",\"xref\":\"paper\",\"y\":0.6222222222222222,\"yanchor\":\"bottom\",\"yref\":\"paper\"},{\"font\":{\"size\":16},\"showarrow\":false,\"text\":\"Topic 8\",\"x\":0.0875,\"xanchor\":\"center\",\"xref\":\"paper\",\"y\":0.24444444444444446,\"yanchor\":\"bottom\",\"yref\":\"paper\"},{\"font\":{\"size\":16},\"showarrow\":false,\"text\":\"Topic 9\",\"x\":0.36250000000000004,\"xanchor\":\"center\",\"xref\":\"paper\",\"y\":0.24444444444444446,\"yanchor\":\"bottom\",\"yref\":\"paper\"}],\"title\":{\"font\":{\"size\":22,\"color\":\"Black\"},\"text\":\"Topic Word Scores\",\"x\":0.5,\"xanchor\":\"center\",\"yanchor\":\"top\"},\"hoverlabel\":{\"font\":{\"size\":16,\"family\":\"Rockwell\"},\"bgcolor\":\"white\"},\"showlegend\":false,\"width\":1320,\"height\":990},                        {\"responsive\": true}                    ).then(function(){\n",
       "                            \n",
       "var gd = document.getElementById('3e45f97f-eef5-48f0-93e8-253dee1844cb');\n",
       "var x = new MutationObserver(function (mutations, observer) {{\n",
       "        var display = window.getComputedStyle(gd).display;\n",
       "        if (!display || display === 'none') {{\n",
       "            console.log([gd, 'removed!']);\n",
       "            Plotly.purge(gd);\n",
       "            observer.disconnect();\n",
       "        }}\n",
       "}});\n",
       "\n",
       "// Listen for the removal of the full notebook cells\n",
       "var notebookContainer = gd.closest('#notebook-container');\n",
       "if (notebookContainer) {{\n",
       "    x.observe(notebookContainer, {childList: true});\n",
       "}}\n",
       "\n",
       "// Listen for the clearing of the current output cell\n",
       "var outputEl = gd.closest('.output');\n",
       "if (outputEl) {{\n",
       "    x.observe(outputEl, {childList: true});\n",
       "}}\n",
       "\n",
       "                        })                };                });            </script>        </div>"
      ]
     },
     "metadata": {},
     "output_type": "display_data"
    }
   ],
   "source": [
    "topic_word_scores = topic_model.visualize_barchart(width=330, height=330, top_n_topics=10, n_words=10)\n",
    "topic_word_scores.write_image(f\"{OUTPUT_PATH}{THEME}_topic_keywords.png\")\n",
    "topic_word_scores"
   ]
  },
  {
   "attachments": {},
   "cell_type": "markdown",
   "metadata": {},
   "source": [
    "# Word Clouds"
   ]
  },
  {
   "cell_type": "code",
   "execution_count": 119,
   "metadata": {},
   "outputs": [
    {
     "data": {
      "image/png": "[encoded data removed]",
      "text/plain": [
       "<Figure size 640x480 with 1 Axes>"
      ]
     },
     "metadata": {},
     "output_type": "display_data"
    }
   ],
   "source": [
    "from wordcloud import WordCloud\n",
    "import matplotlib.pyplot as plt\n",
    "\n",
    "def create_wordcloud(model, topic):\n",
    "    text = {word: value for word, value in model.get_topic(topic)}\n",
    "    wc = WordCloud(background_color=\"white\", max_words=1000)\n",
    "    wc.generate_from_frequencies(text)\n",
    "    plt.imshow(wc, interpolation=\"bilinear\")\n",
    "    plt.axis(\"off\")\n",
    "    plt.show()\n",
    "\n",
    "# Show wordcloud\n",
    "create_wordcloud(topic_model, topic=0)"
   ]
  },
  {
   "cell_type": "code",
   "execution_count": 120,
   "metadata": {},
   "outputs": [
    {
     "data": {
      "application/vnd.plotly.v1+json": {
       "config": {
        "plotlyServerURL": "https://plot.ly"
       },
       "data": [
        {
         "coloraxis": "coloraxis",
         "hovertemplate": "x: %{x}<br>y: %{y}<br>Similarity Score: %{z}<extra></extra>",
         "name": "0",
         "type": "heatmap",
         "x": [
          "0_sem_potem_tem",
          "1_bank_slovenije_sistema",
          "2_prometu_infrastrukture_ce...",
          "3_evropske_bomo_unije",
          "6_unije_slovenija_republike",
          "7_milijonov_proračunu_evrov",
          "4_zdravil_dejavnosti_zdravn...",
          "5_odpadkov_voda_prostor",
          "9_virov_električno_stavb",
          "8_kmetijstvo_fitofarmacevts..."
         ],
         "xaxis": "x",
         "y": [
          "0_sem_potem_tem",
          "1_bank_slovenije_sistema",
          "2_prometu_infrastrukture_ce...",
          "3_evropske_bomo_unije",
          "6_unije_slovenija_republike",
          "7_milijonov_proračunu_evrov",
          "4_zdravil_dejavnosti_zdravn...",
          "5_odpadkov_voda_prostor",
          "9_virov_električno_stavb",
          "8_kmetijstvo_fitofarmacevts..."
         ],
         "yaxis": "y",
         "z": [
          [
           1.0000000000000002,
           0.7454918404982727,
           0.7408948135502647,
           0.8117450953068228,
           0.7680253904443685,
           0.7001740607226535,
           0.6683143734278997,
           0.6947872361163782,
           0.6838170438569438,
           0.5766907058277971
          ],
          [
           0.7454918404982727,
           0.9999999999999999,
           0.8321410369420765,
           0.8570227861653944,
           0.8537699447240646,
           0.820010238463808,
           0.6717745170867232,
           0.7567101750532546,
           0.7599679048686591,
           0.6187611517873718
          ],
          [
           0.7408948135502647,
           0.8321410369420765,
           0.9999999999999994,
           0.8273010506179228,
           0.7958784048507261,
           0.7916636942661786,
           0.6827155993155063,
           0.7945135732779722,
           0.8050949724673324,
           0.6591032424239516
          ],
          [
           0.8117450953068228,
           0.8570227861653944,
           0.8273010506179228,
           1,
           0.9510161460211854,
           0.7789178033292947,
           0.6707836263050713,
           0.7445509501067515,
           0.7445409322860369,
           0.6380053605604337
          ],
          [
           0.7680253904443685,
           0.8537699447240646,
           0.7958784048507261,
           0.9510161460211854,
           1,
           0.7756838913001431,
           0.6389907689724897,
           0.7091669441544148,
           0.7159125176713773,
           0.6160600331892732
          ],
          [
           0.7001740607226535,
           0.820010238463808,
           0.7916636942661786,
           0.7789178033292947,
           0.7756838913001431,
           0.9999999999999996,
           0.6394304061393263,
           0.7817638395658835,
           0.7807325823363587,
           0.6585991592805098
          ],
          [
           0.6683143734278997,
           0.6717745170867232,
           0.6827155993155063,
           0.6707836263050713,
           0.6389907689724897,
           0.6394304061393263,
           1,
           0.6892303976686756,
           0.6967912025914368,
           0.6537239781733348
          ],
          [
           0.6947872361163782,
           0.7567101750532546,
           0.7945135732779722,
           0.7445509501067515,
           0.7091669441544148,
           0.7817638395658835,
           0.6892303976686756,
           1.0000000000000002,
           0.8404384059090912,
           0.7574530441101166
          ],
          [
           0.6838170438569438,
           0.7599679048686591,
           0.8050949724673324,
           0.7445409322860369,
           0.7159125176713773,
           0.7807325823363587,
           0.6967912025914368,
           0.8404384059090912,
           1.0000000000000002,
           0.7110562531139569
          ],
          [
           0.5766907058277971,
           0.6187611517873718,
           0.6591032424239516,
           0.6380053605604337,
           0.6160600331892732,
           0.6585991592805098,
           0.6537239781733348,
           0.7574530441101166,
           0.7110562531139569,
           1
          ]
         ]
        }
       ],
       "layout": {
        "coloraxis": {
         "colorbar": {
          "title": {
           "text": "Similarity Score"
          }
         },
         "colorscale": [
          [
           0,
           "rgb(247,252,240)"
          ],
          [
           0.125,
           "rgb(224,243,219)"
          ],
          [
           0.25,
           "rgb(204,235,197)"
          ],
          [
           0.375,
           "rgb(168,221,181)"
          ],
          [
           0.5,
           "rgb(123,204,196)"
          ],
          [
           0.625,
           "rgb(78,179,211)"
          ],
          [
           0.75,
           "rgb(43,140,190)"
          ],
          [
           0.875,
           "rgb(8,104,172)"
          ],
          [
           1,
           "rgb(8,64,129)"
          ]
         ]
        },
        "height": 800,
        "hoverlabel": {
         "bgcolor": "white",
         "font": {
          "family": "Rockwell",
          "size": 16
         }
        },
        "legend": {
         "title": {
          "text": "Trend"
         }
        },
        "margin": {
         "t": 60
        },
        "showlegend": true,
        "template": {
         "data": {
          "bar": [
           {
            "error_x": {
             "color": "#2a3f5f"
            },
            "error_y": {
             "color": "#2a3f5f"
            },
            "marker": {
             "line": {
              "color": "#E5ECF6",
              "width": 0.5
             },
             "pattern": {
              "fillmode": "overlay",
              "size": 10,
              "solidity": 0.2
             }
            },
            "type": "bar"
           }
          ],
          "barpolar": [
           {
            "marker": {
             "line": {
              "color": "#E5ECF6",
              "width": 0.5
             },
             "pattern": {
              "fillmode": "overlay",
              "size": 10,
              "solidity": 0.2
             }
            },
            "type": "barpolar"
           }
          ],
          "carpet": [
           {
            "aaxis": {
             "endlinecolor": "#2a3f5f",
             "gridcolor": "white",
             "linecolor": "white",
             "minorgridcolor": "white",
             "startlinecolor": "#2a3f5f"
            },
            "baxis": {
             "endlinecolor": "#2a3f5f",
             "gridcolor": "white",
             "linecolor": "white",
             "minorgridcolor": "white",
             "startlinecolor": "#2a3f5f"
            },
            "type": "carpet"
           }
          ],
          "choropleth": [
           {
            "colorbar": {
             "outlinewidth": 0,
             "ticks": ""
            },
            "type": "choropleth"
           }
          ],
          "contour": [
           {
            "colorbar": {
             "outlinewidth": 0,
             "ticks": ""
            },
            "colorscale": [
             [
              0,
              "#0d0887"
             ],
             [
              0.1111111111111111,
              "#46039f"
             ],
             [
              0.2222222222222222,
              "#7201a8"
             ],
             [
              0.3333333333333333,
              "#9c179e"
             ],
             [
              0.4444444444444444,
              "#bd3786"
             ],
             [
              0.5555555555555556,
              "#d8576b"
             ],
             [
              0.6666666666666666,
              "#ed7953"
             ],
             [
              0.7777777777777778,
              "#fb9f3a"
             ],
             [
              0.8888888888888888,
              "#fdca26"
             ],
             [
              1,
              "#f0f921"
             ]
            ],
            "type": "contour"
           }
          ],
          "contourcarpet": [
           {
            "colorbar": {
             "outlinewidth": 0,
             "ticks": ""
            },
            "type": "contourcarpet"
           }
          ],
          "heatmap": [
           {
            "colorbar": {
             "outlinewidth": 0,
             "ticks": ""
            },
            "colorscale": [
             [
              0,
              "#0d0887"
             ],
             [
              0.1111111111111111,
              "#46039f"
             ],
             [
              0.2222222222222222,
              "#7201a8"
             ],
             [
              0.3333333333333333,
              "#9c179e"
             ],
             [
              0.4444444444444444,
              "#bd3786"
             ],
             [
              0.5555555555555556,
              "#d8576b"
             ],
             [
              0.6666666666666666,
              "#ed7953"
             ],
             [
              0.7777777777777778,
              "#fb9f3a"
             ],
             [
              0.8888888888888888,
              "#fdca26"
             ],
             [
              1,
              "#f0f921"
             ]
            ],
            "type": "heatmap"
           }
          ],
          "heatmapgl": [
           {
            "colorbar": {
             "outlinewidth": 0,
             "ticks": ""
            },
            "colorscale": [
             [
              0,
              "#0d0887"
             ],
             [
              0.1111111111111111,
              "#46039f"
             ],
             [
              0.2222222222222222,
              "#7201a8"
             ],
             [
              0.3333333333333333,
              "#9c179e"
             ],
             [
              0.4444444444444444,
              "#bd3786"
             ],
             [
              0.5555555555555556,
              "#d8576b"
             ],
             [
              0.6666666666666666,
              "#ed7953"
             ],
             [
              0.7777777777777778,
              "#fb9f3a"
             ],
             [
              0.8888888888888888,
              "#fdca26"
             ],
             [
              1,
              "#f0f921"
             ]
            ],
            "type": "heatmapgl"
           }
          ],
          "histogram": [
           {
            "marker": {
             "pattern": {
              "fillmode": "overlay",
              "size": 10,
              "solidity": 0.2
             }
            },
            "type": "histogram"
           }
          ],
          "histogram2d": [
           {
            "colorbar": {
             "outlinewidth": 0,
             "ticks": ""
            },
            "colorscale": [
             [
              0,
              "#0d0887"
             ],
             [
              0.1111111111111111,
              "#46039f"
             ],
             [
              0.2222222222222222,
              "#7201a8"
             ],
             [
              0.3333333333333333,
              "#9c179e"
             ],
             [
              0.4444444444444444,
              "#bd3786"
             ],
             [
              0.5555555555555556,
              "#d8576b"
             ],
             [
              0.6666666666666666,
              "#ed7953"
             ],
             [
              0.7777777777777778,
              "#fb9f3a"
             ],
             [
              0.8888888888888888,
              "#fdca26"
             ],
             [
              1,
              "#f0f921"
             ]
            ],
            "type": "histogram2d"
           }
          ],
          "histogram2dcontour": [
           {
            "colorbar": {
             "outlinewidth": 0,
             "ticks": ""
            },
            "colorscale": [
             [
              0,
              "#0d0887"
             ],
             [
              0.1111111111111111,
              "#46039f"
             ],
             [
              0.2222222222222222,
              "#7201a8"
             ],
             [
              0.3333333333333333,
              "#9c179e"
             ],
             [
              0.4444444444444444,
              "#bd3786"
             ],
             [
              0.5555555555555556,
              "#d8576b"
             ],
             [
              0.6666666666666666,
              "#ed7953"
             ],
             [
              0.7777777777777778,
              "#fb9f3a"
             ],
             [
              0.8888888888888888,
              "#fdca26"
             ],
             [
              1,
              "#f0f921"
             ]
            ],
            "type": "histogram2dcontour"
           }
          ],
          "mesh3d": [
           {
            "colorbar": {
             "outlinewidth": 0,
             "ticks": ""
            },
            "type": "mesh3d"
           }
          ],
          "parcoords": [
           {
            "line": {
             "colorbar": {
              "outlinewidth": 0,
              "ticks": ""
             }
            },
            "type": "parcoords"
           }
          ],
          "pie": [
           {
            "automargin": true,
            "type": "pie"
           }
          ],
          "scatter": [
           {
            "fillpattern": {
             "fillmode": "overlay",
             "size": 10,
             "solidity": 0.2
            },
            "type": "scatter"
           }
          ],
          "scatter3d": [
           {
            "line": {
             "colorbar": {
              "outlinewidth": 0,
              "ticks": ""
             }
            },
            "marker": {
             "colorbar": {
              "outlinewidth": 0,
              "ticks": ""
             }
            },
            "type": "scatter3d"
           }
          ],
          "scattercarpet": [
           {
            "marker": {
             "colorbar": {
              "outlinewidth": 0,
              "ticks": ""
             }
            },
            "type": "scattercarpet"
           }
          ],
          "scattergeo": [
           {
            "marker": {
             "colorbar": {
              "outlinewidth": 0,
              "ticks": ""
             }
            },
            "type": "scattergeo"
           }
          ],
          "scattergl": [
           {
            "marker": {
             "colorbar": {
              "outlinewidth": 0,
              "ticks": ""
             }
            },
            "type": "scattergl"
           }
          ],
          "scattermapbox": [
           {
            "marker": {
             "colorbar": {
              "outlinewidth": 0,
              "ticks": ""
             }
            },
            "type": "scattermapbox"
           }
          ],
          "scatterpolar": [
           {
            "marker": {
             "colorbar": {
              "outlinewidth": 0,
              "ticks": ""
             }
            },
            "type": "scatterpolar"
           }
          ],
          "scatterpolargl": [
           {
            "marker": {
             "colorbar": {
              "outlinewidth": 0,
              "ticks": ""
             }
            },
            "type": "scatterpolargl"
           }
          ],
          "scatterternary": [
           {
            "marker": {
             "colorbar": {
              "outlinewidth": 0,
              "ticks": ""
             }
            },
            "type": "scatterternary"
           }
          ],
          "surface": [
           {
            "colorbar": {
             "outlinewidth": 0,
             "ticks": ""
            },
            "colorscale": [
             [
              0,
              "#0d0887"
             ],
             [
              0.1111111111111111,
              "#46039f"
             ],
             [
              0.2222222222222222,
              "#7201a8"
             ],
             [
              0.3333333333333333,
              "#9c179e"
             ],
             [
              0.4444444444444444,
              "#bd3786"
             ],
             [
              0.5555555555555556,
              "#d8576b"
             ],
             [
              0.6666666666666666,
              "#ed7953"
             ],
             [
              0.7777777777777778,
              "#fb9f3a"
             ],
             [
              0.8888888888888888,
              "#fdca26"
             ],
             [
              1,
              "#f0f921"
             ]
            ],
            "type": "surface"
           }
          ],
          "table": [
           {
            "cells": {
             "fill": {
              "color": "#EBF0F8"
             },
             "line": {
              "color": "white"
             }
            },
            "header": {
             "fill": {
              "color": "#C8D4E3"
             },
             "line": {
              "color": "white"
             }
            },
            "type": "table"
           }
          ]
         },
         "layout": {
          "annotationdefaults": {
           "arrowcolor": "#2a3f5f",
           "arrowhead": 0,
           "arrowwidth": 1
          },
          "autotypenumbers": "strict",
          "coloraxis": {
           "colorbar": {
            "outlinewidth": 0,
            "ticks": ""
           }
          },
          "colorscale": {
           "diverging": [
            [
             0,
             "#8e0152"
            ],
            [
             0.1,
             "#c51b7d"
            ],
            [
             0.2,
             "#de77ae"
            ],
            [
             0.3,
             "#f1b6da"
            ],
            [
             0.4,
             "#fde0ef"
            ],
            [
             0.5,
             "#f7f7f7"
            ],
            [
             0.6,
             "#e6f5d0"
            ],
            [
             0.7,
             "#b8e186"
            ],
            [
             0.8,
             "#7fbc41"
            ],
            [
             0.9,
             "#4d9221"
            ],
            [
             1,
             "#276419"
            ]
           ],
           "sequential": [
            [
             0,
             "#0d0887"
            ],
            [
             0.1111111111111111,
             "#46039f"
            ],
            [
             0.2222222222222222,
             "#7201a8"
            ],
            [
             0.3333333333333333,
             "#9c179e"
            ],
            [
             0.4444444444444444,
             "#bd3786"
            ],
            [
             0.5555555555555556,
             "#d8576b"
            ],
            [
             0.6666666666666666,
             "#ed7953"
            ],
            [
             0.7777777777777778,
             "#fb9f3a"
            ],
            [
             0.8888888888888888,
             "#fdca26"
            ],
            [
             1,
             "#f0f921"
            ]
           ],
           "sequentialminus": [
            [
             0,
             "#0d0887"
            ],
            [
             0.1111111111111111,
             "#46039f"
            ],
            [
             0.2222222222222222,
             "#7201a8"
            ],
            [
             0.3333333333333333,
             "#9c179e"
            ],
            [
             0.4444444444444444,
             "#bd3786"
            ],
            [
             0.5555555555555556,
             "#d8576b"
            ],
            [
             0.6666666666666666,
             "#ed7953"
            ],
            [
             0.7777777777777778,
             "#fb9f3a"
            ],
            [
             0.8888888888888888,
             "#fdca26"
            ],
            [
             1,
             "#f0f921"
            ]
           ]
          },
          "colorway": [
           "#636efa",
           "#EF553B",
           "#00cc96",
           "#ab63fa",
           "#FFA15A",
           "#19d3f3",
           "#FF6692",
           "#B6E880",
           "#FF97FF",
           "#FECB52"
          ],
          "font": {
           "color": "#2a3f5f"
          },
          "geo": {
           "bgcolor": "white",
           "lakecolor": "white",
           "landcolor": "#E5ECF6",
           "showlakes": true,
           "showland": true,
           "subunitcolor": "white"
          },
          "hoverlabel": {
           "align": "left"
          },
          "hovermode": "closest",
          "mapbox": {
           "style": "light"
          },
          "paper_bgcolor": "white",
          "plot_bgcolor": "#E5ECF6",
          "polar": {
           "angularaxis": {
            "gridcolor": "white",
            "linecolor": "white",
            "ticks": ""
           },
           "bgcolor": "#E5ECF6",
           "radialaxis": {
            "gridcolor": "white",
            "linecolor": "white",
            "ticks": ""
           }
          },
          "scene": {
           "xaxis": {
            "backgroundcolor": "#E5ECF6",
            "gridcolor": "white",
            "gridwidth": 2,
            "linecolor": "white",
            "showbackground": true,
            "ticks": "",
            "zerolinecolor": "white"
           },
           "yaxis": {
            "backgroundcolor": "#E5ECF6",
            "gridcolor": "white",
            "gridwidth": 2,
            "linecolor": "white",
            "showbackground": true,
            "ticks": "",
            "zerolinecolor": "white"
           },
           "zaxis": {
            "backgroundcolor": "#E5ECF6",
            "gridcolor": "white",
            "gridwidth": 2,
            "linecolor": "white",
            "showbackground": true,
            "ticks": "",
            "zerolinecolor": "white"
           }
          },
          "shapedefaults": {
           "line": {
            "color": "#2a3f5f"
           }
          },
          "ternary": {
           "aaxis": {
            "gridcolor": "white",
            "linecolor": "white",
            "ticks": ""
           },
           "baxis": {
            "gridcolor": "white",
            "linecolor": "white",
            "ticks": ""
           },
           "bgcolor": "#E5ECF6",
           "caxis": {
            "gridcolor": "white",
            "linecolor": "white",
            "ticks": ""
           }
          },
          "title": {
           "x": 0.05
          },
          "xaxis": {
           "automargin": true,
           "gridcolor": "white",
           "linecolor": "white",
           "ticks": "",
           "title": {
            "standoff": 15
           },
           "zerolinecolor": "white",
           "zerolinewidth": 2
          },
          "yaxis": {
           "automargin": true,
           "gridcolor": "white",
           "linecolor": "white",
           "ticks": "",
           "title": {
            "standoff": 15
           },
           "zerolinecolor": "white",
           "zerolinewidth": 2
          }
         }
        },
        "title": {
         "font": {
          "color": "Black",
          "size": 22
         },
         "text": "<b>Similarity Matrix</b>",
         "x": 0.55,
         "xanchor": "center",
         "y": 0.95,
         "yanchor": "top"
        },
        "width": 800,
        "xaxis": {
         "anchor": "y",
         "constrain": "domain",
         "domain": [
          0,
          1
         ],
         "scaleanchor": "y"
        },
        "yaxis": {
         "anchor": "x",
         "autorange": "reversed",
         "constrain": "domain",
         "domain": [
          0,
          1
         ]
        }
       }
      },
      "text/html": [
       "<div>                            <div id=\"3497f92d-de8c-44c8-96fa-dd0983dd1e79\" class=\"plotly-graph-div\" style=\"height:800px; width:800px;\"></div>            <script type=\"text/javascript\">                require([\"plotly\"], function(Plotly) {                    window.PLOTLYENV=window.PLOTLYENV || {};                                    if (document.getElementById(\"3497f92d-de8c-44c8-96fa-dd0983dd1e79\")) {                    Plotly.newPlot(                        \"3497f92d-de8c-44c8-96fa-dd0983dd1e79\",                        [{\"coloraxis\":\"coloraxis\",\"name\":\"0\",\"x\":[\"0_sem_potem_tem\",\"1_bank_slovenije_sistema\",\"2_prometu_infrastrukture_ce...\",\"3_evropske_bomo_unije\",\"6_unije_slovenija_republike\",\"7_milijonov_prora\\u010dunu_evrov\",\"4_zdravil_dejavnosti_zdravn...\",\"5_odpadkov_voda_prostor\",\"9_virov_elektri\\u010dno_stavb\",\"8_kmetijstvo_fitofarmacevts...\"],\"y\":[\"0_sem_potem_tem\",\"1_bank_slovenije_sistema\",\"2_prometu_infrastrukture_ce...\",\"3_evropske_bomo_unije\",\"6_unije_slovenija_republike\",\"7_milijonov_prora\\u010dunu_evrov\",\"4_zdravil_dejavnosti_zdravn...\",\"5_odpadkov_voda_prostor\",\"9_virov_elektri\\u010dno_stavb\",\"8_kmetijstvo_fitofarmacevts...\"],\"z\":[[1.0000000000000002,0.7454918404982727,0.7408948135502647,0.8117450953068228,0.7680253904443685,0.7001740607226535,0.6683143734278997,0.6947872361163782,0.6838170438569438,0.5766907058277971],[0.7454918404982727,0.9999999999999999,0.8321410369420765,0.8570227861653944,0.8537699447240646,0.820010238463808,0.6717745170867232,0.7567101750532546,0.7599679048686591,0.6187611517873718],[0.7408948135502647,0.8321410369420765,0.9999999999999994,0.8273010506179228,0.7958784048507261,0.7916636942661786,0.6827155993155063,0.7945135732779722,0.8050949724673324,0.6591032424239516],[0.8117450953068228,0.8570227861653944,0.8273010506179228,1.0,0.9510161460211854,0.7789178033292947,0.6707836263050713,0.7445509501067515,0.7445409322860369,0.6380053605604337],[0.7680253904443685,0.8537699447240646,0.7958784048507261,0.9510161460211854,1.0,0.7756838913001431,0.6389907689724897,0.7091669441544148,0.7159125176713773,0.6160600331892732],[0.7001740607226535,0.820010238463808,0.7916636942661786,0.7789178033292947,0.7756838913001431,0.9999999999999996,0.6394304061393263,0.7817638395658835,0.7807325823363587,0.6585991592805098],[0.6683143734278997,0.6717745170867232,0.6827155993155063,0.6707836263050713,0.6389907689724897,0.6394304061393263,1.0,0.6892303976686756,0.6967912025914368,0.6537239781733348],[0.6947872361163782,0.7567101750532546,0.7945135732779722,0.7445509501067515,0.7091669441544148,0.7817638395658835,0.6892303976686756,1.0000000000000002,0.8404384059090912,0.7574530441101166],[0.6838170438569438,0.7599679048686591,0.8050949724673324,0.7445409322860369,0.7159125176713773,0.7807325823363587,0.6967912025914368,0.8404384059090912,1.0000000000000002,0.7110562531139569],[0.5766907058277971,0.6187611517873718,0.6591032424239516,0.6380053605604337,0.6160600331892732,0.6585991592805098,0.6537239781733348,0.7574530441101166,0.7110562531139569,1.0]],\"type\":\"heatmap\",\"xaxis\":\"x\",\"yaxis\":\"y\",\"hovertemplate\":\"x: %{x}<br>y: %{y}<br>Similarity Score: %{z}<extra></extra>\"}],                        {\"template\":{\"data\":{\"histogram2dcontour\":[{\"type\":\"histogram2dcontour\",\"colorbar\":{\"outlinewidth\":0,\"ticks\":\"\"},\"colorscale\":[[0.0,\"#0d0887\"],[0.1111111111111111,\"#46039f\"],[0.2222222222222222,\"#7201a8\"],[0.3333333333333333,\"#9c179e\"],[0.4444444444444444,\"#bd3786\"],[0.5555555555555556,\"#d8576b\"],[0.6666666666666666,\"#ed7953\"],[0.7777777777777778,\"#fb9f3a\"],[0.8888888888888888,\"#fdca26\"],[1.0,\"#f0f921\"]]}],\"choropleth\":[{\"type\":\"choropleth\",\"colorbar\":{\"outlinewidth\":0,\"ticks\":\"\"}}],\"histogram2d\":[{\"type\":\"histogram2d\",\"colorbar\":{\"outlinewidth\":0,\"ticks\":\"\"},\"colorscale\":[[0.0,\"#0d0887\"],[0.1111111111111111,\"#46039f\"],[0.2222222222222222,\"#7201a8\"],[0.3333333333333333,\"#9c179e\"],[0.4444444444444444,\"#bd3786\"],[0.5555555555555556,\"#d8576b\"],[0.6666666666666666,\"#ed7953\"],[0.7777777777777778,\"#fb9f3a\"],[0.8888888888888888,\"#fdca26\"],[1.0,\"#f0f921\"]]}],\"heatmap\":[{\"type\":\"heatmap\",\"colorbar\":{\"outlinewidth\":0,\"ticks\":\"\"},\"colorscale\":[[0.0,\"#0d0887\"],[0.1111111111111111,\"#46039f\"],[0.2222222222222222,\"#7201a8\"],[0.3333333333333333,\"#9c179e\"],[0.4444444444444444,\"#bd3786\"],[0.5555555555555556,\"#d8576b\"],[0.6666666666666666,\"#ed7953\"],[0.7777777777777778,\"#fb9f3a\"],[0.8888888888888888,\"#fdca26\"],[1.0,\"#f0f921\"]]}],\"heatmapgl\":[{\"type\":\"heatmapgl\",\"colorbar\":{\"outlinewidth\":0,\"ticks\":\"\"},\"colorscale\":[[0.0,\"#0d0887\"],[0.1111111111111111,\"#46039f\"],[0.2222222222222222,\"#7201a8\"],[0.3333333333333333,\"#9c179e\"],[0.4444444444444444,\"#bd3786\"],[0.5555555555555556,\"#d8576b\"],[0.6666666666666666,\"#ed7953\"],[0.7777777777777778,\"#fb9f3a\"],[0.8888888888888888,\"#fdca26\"],[1.0,\"#f0f921\"]]}],\"contourcarpet\":[{\"type\":\"contourcarpet\",\"colorbar\":{\"outlinewidth\":0,\"ticks\":\"\"}}],\"contour\":[{\"type\":\"contour\",\"colorbar\":{\"outlinewidth\":0,\"ticks\":\"\"},\"colorscale\":[[0.0,\"#0d0887\"],[0.1111111111111111,\"#46039f\"],[0.2222222222222222,\"#7201a8\"],[0.3333333333333333,\"#9c179e\"],[0.4444444444444444,\"#bd3786\"],[0.5555555555555556,\"#d8576b\"],[0.6666666666666666,\"#ed7953\"],[0.7777777777777778,\"#fb9f3a\"],[0.8888888888888888,\"#fdca26\"],[1.0,\"#f0f921\"]]}],\"surface\":[{\"type\":\"surface\",\"colorbar\":{\"outlinewidth\":0,\"ticks\":\"\"},\"colorscale\":[[0.0,\"#0d0887\"],[0.1111111111111111,\"#46039f\"],[0.2222222222222222,\"#7201a8\"],[0.3333333333333333,\"#9c179e\"],[0.4444444444444444,\"#bd3786\"],[0.5555555555555556,\"#d8576b\"],[0.6666666666666666,\"#ed7953\"],[0.7777777777777778,\"#fb9f3a\"],[0.8888888888888888,\"#fdca26\"],[1.0,\"#f0f921\"]]}],\"mesh3d\":[{\"type\":\"mesh3d\",\"colorbar\":{\"outlinewidth\":0,\"ticks\":\"\"}}],\"scatter\":[{\"fillpattern\":{\"fillmode\":\"overlay\",\"size\":10,\"solidity\":0.2},\"type\":\"scatter\"}],\"parcoords\":[{\"type\":\"parcoords\",\"line\":{\"colorbar\":{\"outlinewidth\":0,\"ticks\":\"\"}}}],\"scatterpolargl\":[{\"type\":\"scatterpolargl\",\"marker\":{\"colorbar\":{\"outlinewidth\":0,\"ticks\":\"\"}}}],\"bar\":[{\"error_x\":{\"color\":\"#2a3f5f\"},\"error_y\":{\"color\":\"#2a3f5f\"},\"marker\":{\"line\":{\"color\":\"#E5ECF6\",\"width\":0.5},\"pattern\":{\"fillmode\":\"overlay\",\"size\":10,\"solidity\":0.2}},\"type\":\"bar\"}],\"scattergeo\":[{\"type\":\"scattergeo\",\"marker\":{\"colorbar\":{\"outlinewidth\":0,\"ticks\":\"\"}}}],\"scatterpolar\":[{\"type\":\"scatterpolar\",\"marker\":{\"colorbar\":{\"outlinewidth\":0,\"ticks\":\"\"}}}],\"histogram\":[{\"marker\":{\"pattern\":{\"fillmode\":\"overlay\",\"size\":10,\"solidity\":0.2}},\"type\":\"histogram\"}],\"scattergl\":[{\"type\":\"scattergl\",\"marker\":{\"colorbar\":{\"outlinewidth\":0,\"ticks\":\"\"}}}],\"scatter3d\":[{\"type\":\"scatter3d\",\"line\":{\"colorbar\":{\"outlinewidth\":0,\"ticks\":\"\"}},\"marker\":{\"colorbar\":{\"outlinewidth\":0,\"ticks\":\"\"}}}],\"scattermapbox\":[{\"type\":\"scattermapbox\",\"marker\":{\"colorbar\":{\"outlinewidth\":0,\"ticks\":\"\"}}}],\"scatterternary\":[{\"type\":\"scatterternary\",\"marker\":{\"colorbar\":{\"outlinewidth\":0,\"ticks\":\"\"}}}],\"scattercarpet\":[{\"type\":\"scattercarpet\",\"marker\":{\"colorbar\":{\"outlinewidth\":0,\"ticks\":\"\"}}}],\"carpet\":[{\"aaxis\":{\"endlinecolor\":\"#2a3f5f\",\"gridcolor\":\"white\",\"linecolor\":\"white\",\"minorgridcolor\":\"white\",\"startlinecolor\":\"#2a3f5f\"},\"baxis\":{\"endlinecolor\":\"#2a3f5f\",\"gridcolor\":\"white\",\"linecolor\":\"white\",\"minorgridcolor\":\"white\",\"startlinecolor\":\"#2a3f5f\"},\"type\":\"carpet\"}],\"table\":[{\"cells\":{\"fill\":{\"color\":\"#EBF0F8\"},\"line\":{\"color\":\"white\"}},\"header\":{\"fill\":{\"color\":\"#C8D4E3\"},\"line\":{\"color\":\"white\"}},\"type\":\"table\"}],\"barpolar\":[{\"marker\":{\"line\":{\"color\":\"#E5ECF6\",\"width\":0.5},\"pattern\":{\"fillmode\":\"overlay\",\"size\":10,\"solidity\":0.2}},\"type\":\"barpolar\"}],\"pie\":[{\"automargin\":true,\"type\":\"pie\"}]},\"layout\":{\"autotypenumbers\":\"strict\",\"colorway\":[\"#636efa\",\"#EF553B\",\"#00cc96\",\"#ab63fa\",\"#FFA15A\",\"#19d3f3\",\"#FF6692\",\"#B6E880\",\"#FF97FF\",\"#FECB52\"],\"font\":{\"color\":\"#2a3f5f\"},\"hovermode\":\"closest\",\"hoverlabel\":{\"align\":\"left\"},\"paper_bgcolor\":\"white\",\"plot_bgcolor\":\"#E5ECF6\",\"polar\":{\"bgcolor\":\"#E5ECF6\",\"angularaxis\":{\"gridcolor\":\"white\",\"linecolor\":\"white\",\"ticks\":\"\"},\"radialaxis\":{\"gridcolor\":\"white\",\"linecolor\":\"white\",\"ticks\":\"\"}},\"ternary\":{\"bgcolor\":\"#E5ECF6\",\"aaxis\":{\"gridcolor\":\"white\",\"linecolor\":\"white\",\"ticks\":\"\"},\"baxis\":{\"gridcolor\":\"white\",\"linecolor\":\"white\",\"ticks\":\"\"},\"caxis\":{\"gridcolor\":\"white\",\"linecolor\":\"white\",\"ticks\":\"\"}},\"coloraxis\":{\"colorbar\":{\"outlinewidth\":0,\"ticks\":\"\"}},\"colorscale\":{\"sequential\":[[0.0,\"#0d0887\"],[0.1111111111111111,\"#46039f\"],[0.2222222222222222,\"#7201a8\"],[0.3333333333333333,\"#9c179e\"],[0.4444444444444444,\"#bd3786\"],[0.5555555555555556,\"#d8576b\"],[0.6666666666666666,\"#ed7953\"],[0.7777777777777778,\"#fb9f3a\"],[0.8888888888888888,\"#fdca26\"],[1.0,\"#f0f921\"]],\"sequentialminus\":[[0.0,\"#0d0887\"],[0.1111111111111111,\"#46039f\"],[0.2222222222222222,\"#7201a8\"],[0.3333333333333333,\"#9c179e\"],[0.4444444444444444,\"#bd3786\"],[0.5555555555555556,\"#d8576b\"],[0.6666666666666666,\"#ed7953\"],[0.7777777777777778,\"#fb9f3a\"],[0.8888888888888888,\"#fdca26\"],[1.0,\"#f0f921\"]],\"diverging\":[[0,\"#8e0152\"],[0.1,\"#c51b7d\"],[0.2,\"#de77ae\"],[0.3,\"#f1b6da\"],[0.4,\"#fde0ef\"],[0.5,\"#f7f7f7\"],[0.6,\"#e6f5d0\"],[0.7,\"#b8e186\"],[0.8,\"#7fbc41\"],[0.9,\"#4d9221\"],[1,\"#276419\"]]},\"xaxis\":{\"gridcolor\":\"white\",\"linecolor\":\"white\",\"ticks\":\"\",\"title\":{\"standoff\":15},\"zerolinecolor\":\"white\",\"automargin\":true,\"zerolinewidth\":2},\"yaxis\":{\"gridcolor\":\"white\",\"linecolor\":\"white\",\"ticks\":\"\",\"title\":{\"standoff\":15},\"zerolinecolor\":\"white\",\"automargin\":true,\"zerolinewidth\":2},\"scene\":{\"xaxis\":{\"backgroundcolor\":\"#E5ECF6\",\"gridcolor\":\"white\",\"linecolor\":\"white\",\"showbackground\":true,\"ticks\":\"\",\"zerolinecolor\":\"white\",\"gridwidth\":2},\"yaxis\":{\"backgroundcolor\":\"#E5ECF6\",\"gridcolor\":\"white\",\"linecolor\":\"white\",\"showbackground\":true,\"ticks\":\"\",\"zerolinecolor\":\"white\",\"gridwidth\":2},\"zaxis\":{\"backgroundcolor\":\"#E5ECF6\",\"gridcolor\":\"white\",\"linecolor\":\"white\",\"showbackground\":true,\"ticks\":\"\",\"zerolinecolor\":\"white\",\"gridwidth\":2}},\"shapedefaults\":{\"line\":{\"color\":\"#2a3f5f\"}},\"annotationdefaults\":{\"arrowcolor\":\"#2a3f5f\",\"arrowhead\":0,\"arrowwidth\":1},\"geo\":{\"bgcolor\":\"white\",\"landcolor\":\"#E5ECF6\",\"subunitcolor\":\"white\",\"showland\":true,\"showlakes\":true,\"lakecolor\":\"white\"},\"title\":{\"x\":0.05},\"mapbox\":{\"style\":\"light\"}}},\"xaxis\":{\"anchor\":\"y\",\"domain\":[0.0,1.0],\"scaleanchor\":\"y\",\"constrain\":\"domain\"},\"yaxis\":{\"anchor\":\"x\",\"domain\":[0.0,1.0],\"autorange\":\"reversed\",\"constrain\":\"domain\"},\"coloraxis\":{\"colorbar\":{\"title\":{\"text\":\"Similarity Score\"}},\"colorscale\":[[0.0,\"rgb(247,252,240)\"],[0.125,\"rgb(224,243,219)\"],[0.25,\"rgb(204,235,197)\"],[0.375,\"rgb(168,221,181)\"],[0.5,\"rgb(123,204,196)\"],[0.625,\"rgb(78,179,211)\"],[0.75,\"rgb(43,140,190)\"],[0.875,\"rgb(8,104,172)\"],[1.0,\"rgb(8,64,129)\"]]},\"margin\":{\"t\":60},\"title\":{\"font\":{\"size\":22,\"color\":\"Black\"},\"text\":\"<b>Similarity Matrix</b>\",\"y\":0.95,\"x\":0.55,\"xanchor\":\"center\",\"yanchor\":\"top\"},\"hoverlabel\":{\"font\":{\"size\":16,\"family\":\"Rockwell\"},\"bgcolor\":\"white\"},\"width\":800,\"height\":800,\"showlegend\":true,\"legend\":{\"title\":{\"text\":\"Trend\"}}},                        {\"responsive\": true}                    ).then(function(){\n",
       "                            \n",
       "var gd = document.getElementById('3497f92d-de8c-44c8-96fa-dd0983dd1e79');\n",
       "var x = new MutationObserver(function (mutations, observer) {{\n",
       "        var display = window.getComputedStyle(gd).display;\n",
       "        if (!display || display === 'none') {{\n",
       "            console.log([gd, 'removed!']);\n",
       "            Plotly.purge(gd);\n",
       "            observer.disconnect();\n",
       "        }}\n",
       "}});\n",
       "\n",
       "// Listen for the removal of the full notebook cells\n",
       "var notebookContainer = gd.closest('#notebook-container');\n",
       "if (notebookContainer) {{\n",
       "    x.observe(notebookContainer, {childList: true});\n",
       "}}\n",
       "\n",
       "// Listen for the clearing of the current output cell\n",
       "var outputEl = gd.closest('.output');\n",
       "if (outputEl) {{\n",
       "    x.observe(outputEl, {childList: true});\n",
       "}}\n",
       "\n",
       "                        })                };                });            </script>        </div>"
      ]
     },
     "metadata": {},
     "output_type": "display_data"
    }
   ],
   "source": [
    "topic_model.visualize_heatmap(n_clusters=5, top_n_topics=10)"
   ]
  },
  {
   "attachments": {},
   "cell_type": "markdown",
   "metadata": {},
   "source": [
    "For the top 10 topics, get the percentage of Labour speeches and Conservative speeches. Include the keywords related to the topic."
   ]
  },
  {
   "cell_type": "code",
   "execution_count": 121,
   "metadata": {},
   "outputs": [
    {
     "data": {
      "text/plain": [
       "['sem',\n",
       " 'potem',\n",
       " 'tem',\n",
       " 'samo',\n",
       " 'lahko',\n",
       " 'so',\n",
       " 'danes',\n",
       " 'mislim',\n",
       " 'minister',\n",
       " 'bil']"
      ]
     },
     "execution_count": 121,
     "metadata": {},
     "output_type": "execute_result"
    }
   ],
   "source": [
    "def get_keywords(topic):\n",
    "    return [word for word, _ in topic_model.get_topic(topic)]\n",
    "get_keywords(0)"
   ]
  },
  {
   "cell_type": "code",
   "execution_count": 122,
   "metadata": {},
   "outputs": [
    {
     "ename": "TypeError",
     "evalue": "bad operand type for unary ~: 'float'",
     "output_type": "error",
     "traceback": [
      "\u001b[0;31m---------------------------------------------------------------------------\u001b[0m",
      "\u001b[0;31mTypeError\u001b[0m                                 Traceback (most recent call last)",
      "Cell \u001b[0;32mIn[122], line 7\u001b[0m\n\u001b[1;32m      5\u001b[0m speech_topic_party \u001b[39m=\u001b[39m speech_topic_party[speech_topic_party[\u001b[39m'\u001b[39m\u001b[39mtopic\u001b[39m\u001b[39m'\u001b[39m] \u001b[39m<\u001b[39m \u001b[39m10\u001b[39m]\n\u001b[1;32m      6\u001b[0m \u001b[39m# Set the party name to 'OTHER' if the party name does not contain 'CON', 'LAB' or 'SNP'\u001b[39;00m\n\u001b[0;32m----> 7\u001b[0m speech_topic_party\u001b[39m.\u001b[39mloc[\u001b[39m~\u001b[39;49mspeech_topic_party[\u001b[39m'\u001b[39;49m\u001b[39mparty\u001b[39;49m\u001b[39m'\u001b[39;49m]\u001b[39m.\u001b[39;49mstr\u001b[39m.\u001b[39;49mcontains(\u001b[39m'\u001b[39;49m\u001b[39mCON|LAB|SNP\u001b[39;49m\u001b[39m'\u001b[39;49m), \u001b[39m'\u001b[39m\u001b[39mparty\u001b[39m\u001b[39m'\u001b[39m] \u001b[39m=\u001b[39m \u001b[39m'\u001b[39m\u001b[39mOTHER\u001b[39m\u001b[39m'\u001b[39m\n\u001b[1;32m      8\u001b[0m \u001b[39m# Set the party name to CON if the party name contains 'CON'\u001b[39;00m\n\u001b[1;32m      9\u001b[0m speech_topic_party\u001b[39m.\u001b[39mloc[speech_topic_party[\u001b[39m'\u001b[39m\u001b[39mparty\u001b[39m\u001b[39m'\u001b[39m]\u001b[39m.\u001b[39mstr\u001b[39m.\u001b[39mcontains(\u001b[39m'\u001b[39m\u001b[39mCON\u001b[39m\u001b[39m'\u001b[39m), \u001b[39m'\u001b[39m\u001b[39mparty\u001b[39m\u001b[39m'\u001b[39m] \u001b[39m=\u001b[39m \u001b[39m'\u001b[39m\u001b[39mCON\u001b[39m\u001b[39m'\u001b[39m\n",
      "File \u001b[0;32m~/miniconda3/envs/rapids-23.06/lib/python3.10/site-packages/pandas/core/generic.py:1522\u001b[0m, in \u001b[0;36mNDFrame.__invert__\u001b[0;34m(self)\u001b[0m\n\u001b[1;32m   1518\u001b[0m \u001b[39mif\u001b[39;00m \u001b[39mnot\u001b[39;00m \u001b[39mself\u001b[39m\u001b[39m.\u001b[39msize:\n\u001b[1;32m   1519\u001b[0m     \u001b[39m# inv fails with 0 len\u001b[39;00m\n\u001b[1;32m   1520\u001b[0m     \u001b[39mreturn\u001b[39;00m \u001b[39mself\u001b[39m\n\u001b[0;32m-> 1522\u001b[0m new_data \u001b[39m=\u001b[39m \u001b[39mself\u001b[39;49m\u001b[39m.\u001b[39;49m_mgr\u001b[39m.\u001b[39;49mapply(operator\u001b[39m.\u001b[39;49minvert)\n\u001b[1;32m   1523\u001b[0m \u001b[39mreturn\u001b[39;00m \u001b[39mself\u001b[39m\u001b[39m.\u001b[39m_constructor(new_data)\u001b[39m.\u001b[39m__finalize__(\u001b[39mself\u001b[39m, method\u001b[39m=\u001b[39m\u001b[39m\"\u001b[39m\u001b[39m__invert__\u001b[39m\u001b[39m\"\u001b[39m)\n",
      "File \u001b[0;32m~/miniconda3/envs/rapids-23.06/lib/python3.10/site-packages/pandas/core/internals/managers.py:350\u001b[0m, in \u001b[0;36mBaseBlockManager.apply\u001b[0;34m(self, f, align_keys, ignore_failures, **kwargs)\u001b[0m\n\u001b[1;32m    348\u001b[0m \u001b[39mtry\u001b[39;00m:\n\u001b[1;32m    349\u001b[0m     \u001b[39mif\u001b[39;00m \u001b[39mcallable\u001b[39m(f):\n\u001b[0;32m--> 350\u001b[0m         applied \u001b[39m=\u001b[39m b\u001b[39m.\u001b[39;49mapply(f, \u001b[39m*\u001b[39;49m\u001b[39m*\u001b[39;49mkwargs)\n\u001b[1;32m    351\u001b[0m     \u001b[39melse\u001b[39;00m:\n\u001b[1;32m    352\u001b[0m         applied \u001b[39m=\u001b[39m \u001b[39mgetattr\u001b[39m(b, f)(\u001b[39m*\u001b[39m\u001b[39m*\u001b[39mkwargs)\n",
      "File \u001b[0;32m~/miniconda3/envs/rapids-23.06/lib/python3.10/site-packages/pandas/core/internals/blocks.py:351\u001b[0m, in \u001b[0;36mBlock.apply\u001b[0;34m(self, func, **kwargs)\u001b[0m\n\u001b[1;32m    345\u001b[0m \u001b[39m@final\u001b[39m\n\u001b[1;32m    346\u001b[0m \u001b[39mdef\u001b[39;00m \u001b[39mapply\u001b[39m(\u001b[39mself\u001b[39m, func, \u001b[39m*\u001b[39m\u001b[39m*\u001b[39mkwargs) \u001b[39m-\u001b[39m\u001b[39m>\u001b[39m \u001b[39mlist\u001b[39m[Block]:\n\u001b[1;32m    347\u001b[0m \u001b[39m    \u001b[39m\u001b[39m\"\"\"\u001b[39;00m\n\u001b[1;32m    348\u001b[0m \u001b[39m    apply the function to my values; return a block if we are not\u001b[39;00m\n\u001b[1;32m    349\u001b[0m \u001b[39m    one\u001b[39;00m\n\u001b[1;32m    350\u001b[0m \u001b[39m    \"\"\"\u001b[39;00m\n\u001b[0;32m--> 351\u001b[0m     result \u001b[39m=\u001b[39m func(\u001b[39mself\u001b[39;49m\u001b[39m.\u001b[39;49mvalues, \u001b[39m*\u001b[39;49m\u001b[39m*\u001b[39;49mkwargs)\n\u001b[1;32m    353\u001b[0m     \u001b[39mreturn\u001b[39;00m \u001b[39mself\u001b[39m\u001b[39m.\u001b[39m_split_op_result(result)\n",
      "\u001b[0;31mTypeError\u001b[0m: bad operand type for unary ~: 'float'"
     ]
    }
   ],
   "source": [
    "speech_topic_party = pd.DataFrame({'topic': new_topics, 'party': df['Speaker_party']})\n",
    "# Remove the noise topic\n",
    "speech_topic_party = speech_topic_party[speech_topic_party['topic'] != -1]\n",
    "# Remove topics > 10\n",
    "speech_topic_party = speech_topic_party[speech_topic_party['topic'] < 10]\n",
    "# Set the party name to 'OTHER' if the party name does not contain 'CON', 'LAB' or 'SNP'\n",
    "speech_topic_party.loc[~speech_topic_party['party'].str.contains('CON|LAB|SNP'), 'party'] = 'OTHER'\n",
    "# Set the party name to CON if the party name contains 'CON'\n",
    "speech_topic_party.loc[speech_topic_party['party'].str.contains('CON'), 'party'] = 'CON'\n",
    "# Set the party name to SNP if the party name contains 'SNP'\n",
    "speech_topic_party.loc[speech_topic_party['party'].str.contains('SNP'), 'party'] = 'SNP'\n",
    "# Group by party and topic\n",
    "speech_topic_party = speech_topic_party.groupby(['topic', 'party']).size().reset_index(name='counts')\n",
    "# Pivot the dataframe\n",
    "speech_topic_party = speech_topic_party.pivot(index='topic', columns='party', values='counts').fillna(0)\n",
    "speech_topic_party.to_csv(f\"{OUTPUT_PATH}{THEME}_speeches_topic_party.csv\")\n",
    "speech_topic_party"
   ]
  },
  {
   "cell_type": "code",
   "execution_count": null,
   "metadata": {},
   "outputs": [
    {
     "data": {
      "text/html": [
       "<div>\n",
       "<style scoped>\n",
       "    .dataframe tbody tr th:only-of-type {\n",
       "        vertical-align: middle;\n",
       "    }\n",
       "\n",
       "    .dataframe tbody tr th {\n",
       "        vertical-align: top;\n",
       "    }\n",
       "\n",
       "    .dataframe thead th {\n",
       "        text-align: right;\n",
       "    }\n",
       "</style>\n",
       "<table border=\"1\" class=\"dataframe\">\n",
       "  <thead>\n",
       "    <tr style=\"text-align: right;\">\n",
       "      <th>party</th>\n",
       "      <th>CON</th>\n",
       "      <th>LAB</th>\n",
       "      <th>LAB;I</th>\n",
       "      <th>OTHER</th>\n",
       "      <th>SNP</th>\n",
       "    </tr>\n",
       "    <tr>\n",
       "      <th>topic</th>\n",
       "      <th></th>\n",
       "      <th></th>\n",
       "      <th></th>\n",
       "      <th></th>\n",
       "      <th></th>\n",
       "    </tr>\n",
       "  </thead>\n",
       "  <tbody>\n",
       "    <tr>\n",
       "      <th>0</th>\n",
       "      <td>23.5</td>\n",
       "      <td>22.1</td>\n",
       "      <td>55.6</td>\n",
       "      <td>29.6</td>\n",
       "      <td>28.9</td>\n",
       "    </tr>\n",
       "    <tr>\n",
       "      <th>1</th>\n",
       "      <td>14.3</td>\n",
       "      <td>12.0</td>\n",
       "      <td>11.1</td>\n",
       "      <td>17.8</td>\n",
       "      <td>14.7</td>\n",
       "    </tr>\n",
       "    <tr>\n",
       "      <th>2</th>\n",
       "      <td>15.6</td>\n",
       "      <td>12.7</td>\n",
       "      <td>0.0</td>\n",
       "      <td>11.2</td>\n",
       "      <td>13.4</td>\n",
       "    </tr>\n",
       "    <tr>\n",
       "      <th>3</th>\n",
       "      <td>9.0</td>\n",
       "      <td>12.0</td>\n",
       "      <td>0.0</td>\n",
       "      <td>3.8</td>\n",
       "      <td>3.7</td>\n",
       "    </tr>\n",
       "    <tr>\n",
       "      <th>4</th>\n",
       "      <td>8.2</td>\n",
       "      <td>6.5</td>\n",
       "      <td>0.0</td>\n",
       "      <td>5.6</td>\n",
       "      <td>7.2</td>\n",
       "    </tr>\n",
       "    <tr>\n",
       "      <th>5</th>\n",
       "      <td>6.6</td>\n",
       "      <td>6.5</td>\n",
       "      <td>0.0</td>\n",
       "      <td>7.4</td>\n",
       "      <td>5.1</td>\n",
       "    </tr>\n",
       "    <tr>\n",
       "      <th>6</th>\n",
       "      <td>6.2</td>\n",
       "      <td>8.8</td>\n",
       "      <td>22.2</td>\n",
       "      <td>5.6</td>\n",
       "      <td>11.0</td>\n",
       "    </tr>\n",
       "    <tr>\n",
       "      <th>7</th>\n",
       "      <td>5.4</td>\n",
       "      <td>4.2</td>\n",
       "      <td>0.0</td>\n",
       "      <td>6.8</td>\n",
       "      <td>2.9</td>\n",
       "    </tr>\n",
       "    <tr>\n",
       "      <th>8</th>\n",
       "      <td>5.2</td>\n",
       "      <td>8.9</td>\n",
       "      <td>11.1</td>\n",
       "      <td>6.8</td>\n",
       "      <td>9.6</td>\n",
       "    </tr>\n",
       "    <tr>\n",
       "      <th>9</th>\n",
       "      <td>6.2</td>\n",
       "      <td>6.4</td>\n",
       "      <td>0.0</td>\n",
       "      <td>5.3</td>\n",
       "      <td>3.5</td>\n",
       "    </tr>\n",
       "  </tbody>\n",
       "</table>\n",
       "</div>"
      ],
      "text/plain": [
       "party   CON   LAB  LAB;I  OTHER   SNP\n",
       "topic                                \n",
       "0      23.5  22.1   55.6   29.6  28.9\n",
       "1      14.3  12.0   11.1   17.8  14.7\n",
       "2      15.6  12.7    0.0   11.2  13.4\n",
       "3       9.0  12.0    0.0    3.8   3.7\n",
       "4       8.2   6.5    0.0    5.6   7.2\n",
       "5       6.6   6.5    0.0    7.4   5.1\n",
       "6       6.2   8.8   22.2    5.6  11.0\n",
       "7       5.4   4.2    0.0    6.8   2.9\n",
       "8       5.2   8.9   11.1    6.8   9.6\n",
       "9       6.2   6.4    0.0    5.3   3.5"
      ]
     },
     "execution_count": 97,
     "metadata": {},
     "output_type": "execute_result"
    }
   ],
   "source": [
    "# For each topic, divide the count of speeches by the total count of speeches per party\n",
    "percentages = speech_topic_party.div(speech_topic_party.sum(axis=0), axis=1)\n",
    "# Multiply by 100 to get percentages and round to 1 decimal\n",
    "percentages = (percentages * 100).round(1)\n",
    "percentages.reset_index()\n",
    "percentages"
   ]
  },
  {
   "cell_type": "code",
   "execution_count": null,
   "metadata": {},
   "outputs": [
    {
     "data": {
      "text/html": [
       "<div>\n",
       "<style scoped>\n",
       "    .dataframe tbody tr th:only-of-type {\n",
       "        vertical-align: middle;\n",
       "    }\n",
       "\n",
       "    .dataframe tbody tr th {\n",
       "        vertical-align: top;\n",
       "    }\n",
       "\n",
       "    .dataframe thead th {\n",
       "        text-align: right;\n",
       "    }\n",
       "</style>\n",
       "<table border=\"1\" class=\"dataframe\">\n",
       "  <thead>\n",
       "    <tr style=\"text-align: right;\">\n",
       "      <th>party</th>\n",
       "      <th>CON</th>\n",
       "      <th>LAB</th>\n",
       "      <th>LAB;I</th>\n",
       "      <th>OTHER</th>\n",
       "      <th>SNP</th>\n",
       "      <th>keywords</th>\n",
       "    </tr>\n",
       "    <tr>\n",
       "      <th>topic</th>\n",
       "      <th></th>\n",
       "      <th></th>\n",
       "      <th></th>\n",
       "      <th></th>\n",
       "      <th></th>\n",
       "      <th></th>\n",
       "    </tr>\n",
       "  </thead>\n",
       "  <tbody>\n",
       "    <tr>\n",
       "      <th>0</th>\n",
       "      <td>23.5</td>\n",
       "      <td>22.1</td>\n",
       "      <td>55.6</td>\n",
       "      <td>29.6</td>\n",
       "      <td>28.9</td>\n",
       "      <td>[action, chilcot, chemical, airstrikes, prime,...</td>\n",
       "    </tr>\n",
       "    <tr>\n",
       "      <th>1</th>\n",
       "      <td>14.3</td>\n",
       "      <td>12.0</td>\n",
       "      <td>11.1</td>\n",
       "      <td>17.8</td>\n",
       "      <td>14.7</td>\n",
       "      <td>[veterans, aged, covenant, royal, somme, 1st, ...</td>\n",
       "    </tr>\n",
       "    <tr>\n",
       "      <th>2</th>\n",
       "      <td>15.6</td>\n",
       "      <td>12.7</td>\n",
       "      <td>0.0</td>\n",
       "      <td>11.2</td>\n",
       "      <td>13.4</td>\n",
       "      <td>[invasion, aggression, crimea, president, krem...</td>\n",
       "    </tr>\n",
       "    <tr>\n",
       "      <th>3</th>\n",
       "      <td>9.0</td>\n",
       "      <td>12.0</td>\n",
       "      <td>0.0</td>\n",
       "      <td>3.8</td>\n",
       "      <td>3.7</td>\n",
       "      <td>[officers, prisons, frontline, cuts, youth, an...</td>\n",
       "    </tr>\n",
       "    <tr>\n",
       "      <th>4</th>\n",
       "      <td>8.2</td>\n",
       "      <td>6.5</td>\n",
       "      <td>0.0</td>\n",
       "      <td>5.6</td>\n",
       "      <td>7.2</td>\n",
       "      <td>[ajax, review, security, space, programme, exp...</td>\n",
       "    </tr>\n",
       "    <tr>\n",
       "      <th>5</th>\n",
       "      <td>6.6</td>\n",
       "      <td>6.5</td>\n",
       "      <td>0.0</td>\n",
       "      <td>7.4</td>\n",
       "      <td>5.1</td>\n",
       "      <td>[read, presentation, 57, printed, constituency...</td>\n",
       "    </tr>\n",
       "    <tr>\n",
       "      <th>6</th>\n",
       "      <td>6.2</td>\n",
       "      <td>8.8</td>\n",
       "      <td>22.2</td>\n",
       "      <td>5.6</td>\n",
       "      <td>11.0</td>\n",
       "      <td>[yemen, arms, ceasefire, sales, hodeidah, clus...</td>\n",
       "    </tr>\n",
       "    <tr>\n",
       "      <th>7</th>\n",
       "      <td>5.4</td>\n",
       "      <td>4.2</td>\n",
       "      <td>0.0</td>\n",
       "      <td>6.8</td>\n",
       "      <td>2.9</td>\n",
       "      <td>[rwanda, trade, amendment, yazidi, human, arme...</td>\n",
       "    </tr>\n",
       "    <tr>\n",
       "      <th>8</th>\n",
       "      <td>5.2</td>\n",
       "      <td>8.9</td>\n",
       "      <td>11.1</td>\n",
       "      <td>6.8</td>\n",
       "      <td>9.6</td>\n",
       "      <td>[chancellor, universal, billion, income, growt...</td>\n",
       "    </tr>\n",
       "    <tr>\n",
       "      <th>9</th>\n",
       "      <td>6.2</td>\n",
       "      <td>6.4</td>\n",
       "      <td>0.0</td>\n",
       "      <td>5.3</td>\n",
       "      <td>3.5</td>\n",
       "      <td>[capita, flexible, reserves, trained, hc, acco...</td>\n",
       "    </tr>\n",
       "  </tbody>\n",
       "</table>\n",
       "</div>"
      ],
      "text/plain": [
       "party   CON   LAB  LAB;I  OTHER   SNP  \\\n",
       "topic                                   \n",
       "0      23.5  22.1   55.6   29.6  28.9   \n",
       "1      14.3  12.0   11.1   17.8  14.7   \n",
       "2      15.6  12.7    0.0   11.2  13.4   \n",
       "3       9.0  12.0    0.0    3.8   3.7   \n",
       "4       8.2   6.5    0.0    5.6   7.2   \n",
       "5       6.6   6.5    0.0    7.4   5.1   \n",
       "6       6.2   8.8   22.2    5.6  11.0   \n",
       "7       5.4   4.2    0.0    6.8   2.9   \n",
       "8       5.2   8.9   11.1    6.8   9.6   \n",
       "9       6.2   6.4    0.0    5.3   3.5   \n",
       "\n",
       "party                                           keywords  \n",
       "topic                                                     \n",
       "0      [action, chilcot, chemical, airstrikes, prime,...  \n",
       "1      [veterans, aged, covenant, royal, somme, 1st, ...  \n",
       "2      [invasion, aggression, crimea, president, krem...  \n",
       "3      [officers, prisons, frontline, cuts, youth, an...  \n",
       "4      [ajax, review, security, space, programme, exp...  \n",
       "5      [read, presentation, 57, printed, constituency...  \n",
       "6      [yemen, arms, ceasefire, sales, hodeidah, clus...  \n",
       "7      [rwanda, trade, amendment, yazidi, human, arme...  \n",
       "8      [chancellor, universal, billion, income, growt...  \n",
       "9      [capita, flexible, reserves, trained, hc, acco...  "
      ]
     },
     "execution_count": 98,
     "metadata": {},
     "output_type": "execute_result"
    }
   ],
   "source": [
    "# Reset the index to get the topic column back and add a new column 'keywords'\n",
    "percentages = percentages.reset_index()\n",
    "percentages['keywords'] = percentages['topic'].apply(lambda x: get_keywords(x))\n",
    "percentages = percentages.set_index('topic')\n",
    "percentages.to_csv(f'{OUTPUT_PATH}{THEME}_percentages.csv')\n",
    "percentages"
   ]
  },
  {
   "cell_type": "code",
   "execution_count": null,
   "metadata": {},
   "outputs": [
    {
     "data": {
      "text/html": [
       "<div>\n",
       "<style scoped>\n",
       "    .dataframe tbody tr th:only-of-type {\n",
       "        vertical-align: middle;\n",
       "    }\n",
       "\n",
       "    .dataframe tbody tr th {\n",
       "        vertical-align: top;\n",
       "    }\n",
       "\n",
       "    .dataframe thead th {\n",
       "        text-align: right;\n",
       "    }\n",
       "</style>\n",
       "<table border=\"1\" class=\"dataframe\">\n",
       "  <thead>\n",
       "    <tr style=\"text-align: right;\">\n",
       "      <th>party</th>\n",
       "      <th>topic</th>\n",
       "      <th>CON</th>\n",
       "      <th>LAB</th>\n",
       "      <th>LAB;I</th>\n",
       "      <th>OTHER</th>\n",
       "      <th>SNP</th>\n",
       "    </tr>\n",
       "  </thead>\n",
       "  <tbody>\n",
       "    <tr>\n",
       "      <th>0</th>\n",
       "      <td>0</td>\n",
       "      <td>57.8</td>\n",
       "      <td>25.5</td>\n",
       "      <td>0.3</td>\n",
       "      <td>5.8</td>\n",
       "      <td>10.6</td>\n",
       "    </tr>\n",
       "    <tr>\n",
       "      <th>1</th>\n",
       "      <td>1</td>\n",
       "      <td>60.6</td>\n",
       "      <td>23.9</td>\n",
       "      <td>0.1</td>\n",
       "      <td>6.1</td>\n",
       "      <td>9.3</td>\n",
       "    </tr>\n",
       "    <tr>\n",
       "      <th>2</th>\n",
       "      <td>2</td>\n",
       "      <td>63.7</td>\n",
       "      <td>24.5</td>\n",
       "      <td>0.0</td>\n",
       "      <td>3.7</td>\n",
       "      <td>8.2</td>\n",
       "    </tr>\n",
       "    <tr>\n",
       "      <th>3</th>\n",
       "      <td>3</td>\n",
       "      <td>57.9</td>\n",
       "      <td>36.6</td>\n",
       "      <td>0.0</td>\n",
       "      <td>2.0</td>\n",
       "      <td>3.5</td>\n",
       "    </tr>\n",
       "    <tr>\n",
       "      <th>4</th>\n",
       "      <td>4</td>\n",
       "      <td>64.2</td>\n",
       "      <td>23.9</td>\n",
       "      <td>0.0</td>\n",
       "      <td>3.5</td>\n",
       "      <td>8.4</td>\n",
       "    </tr>\n",
       "    <tr>\n",
       "      <th>5</th>\n",
       "      <td>5</td>\n",
       "      <td>59.9</td>\n",
       "      <td>27.8</td>\n",
       "      <td>0.0</td>\n",
       "      <td>5.4</td>\n",
       "      <td>6.9</td>\n",
       "    </tr>\n",
       "    <tr>\n",
       "      <th>6</th>\n",
       "      <td>6</td>\n",
       "      <td>49.9</td>\n",
       "      <td>33.0</td>\n",
       "      <td>0.4</td>\n",
       "      <td>3.6</td>\n",
       "      <td>13.1</td>\n",
       "    </tr>\n",
       "    <tr>\n",
       "      <th>7</th>\n",
       "      <td>7</td>\n",
       "      <td>64.4</td>\n",
       "      <td>23.9</td>\n",
       "      <td>0.0</td>\n",
       "      <td>6.6</td>\n",
       "      <td>5.1</td>\n",
       "    </tr>\n",
       "    <tr>\n",
       "      <th>8</th>\n",
       "      <td>8</td>\n",
       "      <td>45.6</td>\n",
       "      <td>36.8</td>\n",
       "      <td>0.2</td>\n",
       "      <td>4.8</td>\n",
       "      <td>12.6</td>\n",
       "    </tr>\n",
       "    <tr>\n",
       "      <th>9</th>\n",
       "      <td>9</td>\n",
       "      <td>61.2</td>\n",
       "      <td>29.4</td>\n",
       "      <td>0.0</td>\n",
       "      <td>4.2</td>\n",
       "      <td>5.1</td>\n",
       "    </tr>\n",
       "  </tbody>\n",
       "</table>\n",
       "</div>"
      ],
      "text/plain": [
       "party  topic   CON   LAB  LAB;I  OTHER   SNP\n",
       "0          0  57.8  25.5    0.3    5.8  10.6\n",
       "1          1  60.6  23.9    0.1    6.1   9.3\n",
       "2          2  63.7  24.5    0.0    3.7   8.2\n",
       "3          3  57.9  36.6    0.0    2.0   3.5\n",
       "4          4  64.2  23.9    0.0    3.5   8.4\n",
       "5          5  59.9  27.8    0.0    5.4   6.9\n",
       "6          6  49.9  33.0    0.4    3.6  13.1\n",
       "7          7  64.4  23.9    0.0    6.6   5.1\n",
       "8          8  45.6  36.8    0.2    4.8  12.6\n",
       "9          9  61.2  29.4    0.0    4.2   5.1"
      ]
     },
     "execution_count": 99,
     "metadata": {},
     "output_type": "execute_result"
    }
   ],
   "source": [
    "# For each topic, divide the count of speeches by the total count of speeches per party\n",
    "percentages_per_row = speech_topic_party.div(speech_topic_party.sum(axis=1), axis=0)\n",
    "# Multiply by 100 to get percentages and round to 1 decimal\n",
    "percentages_per_row = (percentages_per_row * 100).round(1)\n",
    "percentages_per_row.to_csv(f'{OUTPUT_PATH}{THEME}_percentages_per_row.csv')\n",
    "percentages_per_row.reset_index()"
   ]
  },
  {
   "attachments": {},
   "cell_type": "markdown",
   "metadata": {},
   "source": [
    "Calculate mean sentiment for each topic per party"
   ]
  },
  {
   "cell_type": "code",
   "execution_count": null,
   "metadata": {},
   "outputs": [
    {
     "data": {
      "text/html": [
       "<div>\n",
       "<style scoped>\n",
       "    .dataframe tbody tr th:only-of-type {\n",
       "        vertical-align: middle;\n",
       "    }\n",
       "\n",
       "    .dataframe tbody tr th {\n",
       "        vertical-align: top;\n",
       "    }\n",
       "\n",
       "    .dataframe thead th {\n",
       "        text-align: right;\n",
       "    }\n",
       "</style>\n",
       "<table border=\"1\" class=\"dataframe\">\n",
       "  <thead>\n",
       "    <tr style=\"text-align: right;\">\n",
       "      <th>party</th>\n",
       "      <th>CON</th>\n",
       "      <th>LAB</th>\n",
       "      <th>LAB;I</th>\n",
       "      <th>OTHER</th>\n",
       "      <th>SNP</th>\n",
       "    </tr>\n",
       "    <tr>\n",
       "      <th>topic</th>\n",
       "      <th></th>\n",
       "      <th></th>\n",
       "      <th></th>\n",
       "      <th></th>\n",
       "      <th></th>\n",
       "    </tr>\n",
       "  </thead>\n",
       "  <tbody>\n",
       "    <tr>\n",
       "      <th>0</th>\n",
       "      <td>-0.103555</td>\n",
       "      <td>-0.288387</td>\n",
       "      <td>-0.453979</td>\n",
       "      <td>-0.297226</td>\n",
       "      <td>-0.369158</td>\n",
       "    </tr>\n",
       "    <tr>\n",
       "      <th>1</th>\n",
       "      <td>0.249124</td>\n",
       "      <td>0.094287</td>\n",
       "      <td>-0.561523</td>\n",
       "      <td>0.131890</td>\n",
       "      <td>0.007525</td>\n",
       "    </tr>\n",
       "    <tr>\n",
       "      <th>2</th>\n",
       "      <td>-0.134097</td>\n",
       "      <td>-0.317031</td>\n",
       "      <td>0.000000</td>\n",
       "      <td>-0.300507</td>\n",
       "      <td>-0.231586</td>\n",
       "    </tr>\n",
       "    <tr>\n",
       "      <th>3</th>\n",
       "      <td>0.166552</td>\n",
       "      <td>-0.388674</td>\n",
       "      <td>0.000000</td>\n",
       "      <td>0.067167</td>\n",
       "      <td>-0.191340</td>\n",
       "    </tr>\n",
       "    <tr>\n",
       "      <th>4</th>\n",
       "      <td>0.144165</td>\n",
       "      <td>-0.198772</td>\n",
       "      <td>0.000000</td>\n",
       "      <td>-0.283788</td>\n",
       "      <td>-0.142760</td>\n",
       "    </tr>\n",
       "    <tr>\n",
       "      <th>5</th>\n",
       "      <td>0.416654</td>\n",
       "      <td>0.289754</td>\n",
       "      <td>0.000000</td>\n",
       "      <td>0.271197</td>\n",
       "      <td>0.337006</td>\n",
       "    </tr>\n",
       "    <tr>\n",
       "      <th>6</th>\n",
       "      <td>-0.055156</td>\n",
       "      <td>-0.310781</td>\n",
       "      <td>-0.318909</td>\n",
       "      <td>-0.239646</td>\n",
       "      <td>-0.400558</td>\n",
       "    </tr>\n",
       "    <tr>\n",
       "      <th>7</th>\n",
       "      <td>-0.104778</td>\n",
       "      <td>-0.244251</td>\n",
       "      <td>0.000000</td>\n",
       "      <td>0.079727</td>\n",
       "      <td>-0.133543</td>\n",
       "    </tr>\n",
       "    <tr>\n",
       "      <th>8</th>\n",
       "      <td>0.119953</td>\n",
       "      <td>-0.356855</td>\n",
       "      <td>-0.918945</td>\n",
       "      <td>-0.201761</td>\n",
       "      <td>-0.279451</td>\n",
       "    </tr>\n",
       "    <tr>\n",
       "      <th>9</th>\n",
       "      <td>0.192362</td>\n",
       "      <td>-0.445749</td>\n",
       "      <td>0.000000</td>\n",
       "      <td>-0.036899</td>\n",
       "      <td>-0.308133</td>\n",
       "    </tr>\n",
       "  </tbody>\n",
       "</table>\n",
       "</div>"
      ],
      "text/plain": [
       "party       CON       LAB     LAB;I     OTHER       SNP\n",
       "topic                                                  \n",
       "0     -0.103555 -0.288387 -0.453979 -0.297226 -0.369158\n",
       "1      0.249124  0.094287 -0.561523  0.131890  0.007525\n",
       "2     -0.134097 -0.317031  0.000000 -0.300507 -0.231586\n",
       "3      0.166552 -0.388674  0.000000  0.067167 -0.191340\n",
       "4      0.144165 -0.198772  0.000000 -0.283788 -0.142760\n",
       "5      0.416654  0.289754  0.000000  0.271197  0.337006\n",
       "6     -0.055156 -0.310781 -0.318909 -0.239646 -0.400558\n",
       "7     -0.104778 -0.244251  0.000000  0.079727 -0.133543\n",
       "8      0.119953 -0.356855 -0.918945 -0.201761 -0.279451\n",
       "9      0.192362 -0.445749  0.000000 -0.036899 -0.308133"
      ]
     },
     "execution_count": 100,
     "metadata": {},
     "output_type": "execute_result"
    }
   ],
   "source": [
    "sentiment_topic_party = pd.DataFrame({'topic': new_topics, 'party': df['Speaker_party'], 'sentiment': df['sentiment']})\n",
    "# Remove the noise topic\n",
    "sentiment_topic_party = sentiment_topic_party[sentiment_topic_party['topic'] != -1]\n",
    "# Remove topics > 10\n",
    "sentiment_topic_party = sentiment_topic_party[sentiment_topic_party['topic'] < 10]\n",
    "# Set the party name to 'OTHER' if the party name does not contain 'CON', 'LAB' or 'SNP'\n",
    "sentiment_topic_party.loc[~sentiment_topic_party['party'].str.contains('CON|LAB|SNP'), 'party'] = 'OTHER'\n",
    "# Set the party name to CON if the party name contains 'CON'\n",
    "sentiment_topic_party.loc[sentiment_topic_party['party'].str.contains('CON'), 'party'] = 'CON'\n",
    "# Set the party name to SNP if the party name contains 'SNP'\n",
    "sentiment_topic_party.loc[sentiment_topic_party['party'].str.contains('SNP'), 'party'] = 'SNP'\n",
    "# Group by party and topic and take the average sentiment\n",
    "sentiment_topic_party = sentiment_topic_party.groupby(['topic', 'party']).mean().reset_index()\n",
    "# speech_topic_party = speech_topic_party.groupby(['topic', 'party']).size().reset_index(name='counts')\n",
    "# Pivot the dataframe\n",
    "sentiment_topic_party = sentiment_topic_party.pivot(index='topic', columns='party', values='sentiment').fillna(0)\n",
    "sentiment_topic_party.to_csv(f'{OUTPUT_PATH}{THEME}_sentiment.csv')\n",
    "sentiment_topic_party"
   ]
  }
 ],
 "metadata": {
  "kernelspec": {
   "display_name": "rapids-23.06",
   "language": "python",
   "name": "python3"
  },
  "language_info": {
   "codemirror_mode": {
    "name": "ipython",
    "version": 3
   },
   "file_extension": ".py",
   "mimetype": "text/x-python",
   "name": "python",
   "nbconvert_exporter": "python",
   "pygments_lexer": "ipython3",
   "version": "3.10.11"
  },
  "orig_nbformat": 4
 },
 "nbformat": 4,
 "nbformat_minor": 2
}
