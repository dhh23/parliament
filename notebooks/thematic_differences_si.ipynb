{
 "cells": [
  {
   "attachments": {},
   "cell_type": "markdown",
   "metadata": {},
   "source": [
    "# Thematic differences (Slovenia)\n",
    "\n",
    "DHH23 Parliament group\n",
    "\n",
    "Author: Pontus H."
   ]
  },
  {
   "cell_type": "code",
   "execution_count": 182,
   "metadata": {},
   "outputs": [],
   "source": [
    "# Set the theme here\n",
    "THEME = 'healthcare_SI'\n",
    "# Set the output path for the CSV:s and keyword figure\n",
    "OUTPUT_PATH = '../thematic_differences/'"
   ]
  },
  {
   "cell_type": "code",
   "execution_count": 183,
   "metadata": {},
   "outputs": [],
   "source": [
    "from cuml.manifold import UMAP\n",
    "from cuml.cluster.hdbscan import HDBSCAN\n",
    "from sentence_transformers import SentenceTransformer\n",
    "from sklearn.feature_extraction.text import CountVectorizer\n",
    "from sklearn.cluster import KMeans\n",
    "\n",
    "from bertopic import BERTopic\n",
    "from bertopic.representation import KeyBERTInspired, MaximalMarginalRelevance\n",
    "from bertopic.vectorizers import ClassTfidfTransformer\n",
    "\n",
    "import pandas as pd"
   ]
  },
  {
   "cell_type": "code",
   "execution_count": 184,
   "metadata": {},
   "outputs": [],
   "source": [
    "# Optional stopwords\n",
    "with open('../data/stopwords-si.txt', 'r', encoding='utf-8') as f:\n",
    "    stopwords = f.read().splitlines()"
   ]
  },
  {
   "attachments": {},
   "cell_type": "markdown",
   "metadata": {},
   "source": [
    "Set up the BERTopic pipeline"
   ]
  },
  {
   "cell_type": "code",
   "execution_count": 185,
   "metadata": {},
   "outputs": [],
   "source": [
    "# Parameters\n",
    "HDBSCAN_MIN_CLUSTER_SIZE = 50\n",
    "HDBSCAN_MIN_SAMPLES = 1\n",
    "HDBSCAN_CLUSTER_SELECTION_EPSILON = 0\n",
    "\n",
    "# Step 1 - Extract embeddings\n",
    "# embedding_model = SentenceTransformer('all-MiniLM-L6-v2') # English\n",
    "embedding_model = SentenceTransformer('paraphrase-multilingual-mpnet-base-v2') # Other languages\n",
    "\n",
    "# Step 2 - Reduce dimensionality\n",
    "umap_model = UMAP(n_neighbors=15, n_components=10, min_dist=0.0, metric='cosine', random_state=42)\n",
    "\n",
    "# Step 3 - Cluster reduced embeddings\n",
    "hdbscan_model = HDBSCAN(\n",
    "    min_cluster_size=HDBSCAN_MIN_CLUSTER_SIZE,\n",
    "    min_samples=HDBSCAN_MIN_SAMPLES,\n",
    "    cluster_selection_epsilon=HDBSCAN_CLUSTER_SELECTION_EPSILON,\n",
    "    metric='euclidean',\n",
    "    cluster_selection_method='eom',\n",
    "    prediction_data=True,)\n",
    "\n",
    "# Step 3 - Cluster reduced embeddings with KMeans\n",
    "# hdbscan_model = KMeans(n_clusters=100, random_state=42)\n",
    "\n",
    "# Step 4 - Tokenize topics\n",
    "# vectorizer_model = CountVectorizer(stop_words=\"english\") # English\n",
    "vectorizer_model = CountVectorizer(stop_words=stopwords) # Other languages\n",
    "\n",
    "# Step 5 - Create topic representation\n",
    "ctfidf_model = ClassTfidfTransformer(reduce_frequent_words=True)\n",
    "\n",
    "# Step 6 - (Optional) Fine-tune topic representations with \n",
    "# a `bertopic.representation` model\n",
    "# representation_model = KeyBERTInspired()\n",
    "representation_model = MaximalMarginalRelevance(diversity=0.8)\n",
    "\n",
    "# All steps together\n",
    "topic_model = BERTopic(\n",
    "  embedding_model=embedding_model,          # Step 1 - Extract embeddings\n",
    "  umap_model=umap_model,                    # Step 2 - Reduce dimensionality\n",
    "  hdbscan_model=hdbscan_model,              # Step 3 - Cluster reduced embeddings\n",
    "  vectorizer_model=vectorizer_model,        # Step 4 - Tokenize topics\n",
    "  ctfidf_model=ctfidf_model,                # Step 5 - Extract topic words\n",
    "  representation_model=representation_model, # Step 6 - (Optional) Fine-tune topic representations\n",
    "  #nr_topics=\"25\",\n",
    "  calculate_probabilities=True,\n",
    "  n_gram_range=(1, 3)\n",
    ")"
   ]
  },
  {
   "cell_type": "code",
   "execution_count": 186,
   "metadata": {},
   "outputs": [
    {
     "data": {
      "text/html": [
       "<div>\n",
       "<style scoped>\n",
       "    .dataframe tbody tr th:only-of-type {\n",
       "        vertical-align: middle;\n",
       "    }\n",
       "\n",
       "    .dataframe tbody tr th {\n",
       "        vertical-align: top;\n",
       "    }\n",
       "\n",
       "    .dataframe thead th {\n",
       "        text-align: right;\n",
       "    }\n",
       "</style>\n",
       "<table border=\"1\" class=\"dataframe\">\n",
       "  <thead>\n",
       "    <tr style=\"text-align: right;\">\n",
       "      <th></th>\n",
       "      <th>ID</th>\n",
       "      <th>Title</th>\n",
       "      <th>Date</th>\n",
       "      <th>Body</th>\n",
       "      <th>Term</th>\n",
       "      <th>Session</th>\n",
       "      <th>Meeting</th>\n",
       "      <th>Sitting</th>\n",
       "      <th>Agenda</th>\n",
       "      <th>Subcorpus</th>\n",
       "      <th>...</th>\n",
       "      <th>Speaker_party</th>\n",
       "      <th>Speaker_party_name</th>\n",
       "      <th>Party_status</th>\n",
       "      <th>Speaker_name</th>\n",
       "      <th>Speaker_gender</th>\n",
       "      <th>Speaker_birth</th>\n",
       "      <th>speech</th>\n",
       "      <th>speech_split</th>\n",
       "      <th>sentiment</th>\n",
       "      <th>speech_length</th>\n",
       "    </tr>\n",
       "  </thead>\n",
       "  <tbody>\n",
       "    <tr>\n",
       "      <th>0</th>\n",
       "      <td>ParlaMint-SI_2017-07-10-SDZ7-Redna-32.u28</td>\n",
       "      <td>Minutes of the National Assembly of the Republ...</td>\n",
       "      <td>2017-07-10</td>\n",
       "      <td>Lower house</td>\n",
       "      <td>7</td>\n",
       "      <td>NaN</td>\n",
       "      <td>32</td>\n",
       "      <td>NaN</td>\n",
       "      <td>NaN</td>\n",
       "      <td>Reference</td>\n",
       "      <td>...</td>\n",
       "      <td>SDS</td>\n",
       "      <td>Slovenska demokratska stranka</td>\n",
       "      <td>Opposition</td>\n",
       "      <td>Godec, Jelka</td>\n",
       "      <td>F</td>\n",
       "      <td>1969</td>\n",
       "      <td>Najlepša hvala za besedo. Spoštovani predsedni...</td>\n",
       "      <td>Spoštovani predsednik Vlade, tako kot branite...</td>\n",
       "      <td>-0.746094</td>\n",
       "      <td>2519</td>\n",
       "    </tr>\n",
       "    <tr>\n",
       "      <th>1</th>\n",
       "      <td>ParlaMint-SI_2017-07-10-SDZ7-Redna-32.u30</td>\n",
       "      <td>Minutes of the National Assembly of the Republ...</td>\n",
       "      <td>2017-07-10</td>\n",
       "      <td>Lower house</td>\n",
       "      <td>7</td>\n",
       "      <td>NaN</td>\n",
       "      <td>32</td>\n",
       "      <td>NaN</td>\n",
       "      <td>NaN</td>\n",
       "      <td>Reference</td>\n",
       "      <td>...</td>\n",
       "      <td>SMC</td>\n",
       "      <td>Stranka modernega centra</td>\n",
       "      <td>Coalition</td>\n",
       "      <td>Cerar, Miro</td>\n",
       "      <td>M</td>\n",
       "      <td>1963</td>\n",
       "      <td>Hvala lepa. Vsi vemo, spoštovana poslanka Gode...</td>\n",
       "      <td>Vsi vemo, spoštovana poslanka Godec, da je va...</td>\n",
       "      <td>0.251953</td>\n",
       "      <td>4370</td>\n",
       "    </tr>\n",
       "    <tr>\n",
       "      <th>2</th>\n",
       "      <td>ParlaMint-SI_2017-07-10-SDZ7-Redna-32.u32</td>\n",
       "      <td>Minutes of the National Assembly of the Republ...</td>\n",
       "      <td>2017-07-10</td>\n",
       "      <td>Lower house</td>\n",
       "      <td>7</td>\n",
       "      <td>NaN</td>\n",
       "      <td>32</td>\n",
       "      <td>NaN</td>\n",
       "      <td>NaN</td>\n",
       "      <td>Reference</td>\n",
       "      <td>...</td>\n",
       "      <td>SDS</td>\n",
       "      <td>Slovenska demokratska stranka</td>\n",
       "      <td>Opposition</td>\n",
       "      <td>Godec, Jelka</td>\n",
       "      <td>F</td>\n",
       "      <td>1969</td>\n",
       "      <td>Spoštovani predsednik Vlade, jaz ne vem, kdo v...</td>\n",
       "      <td>Vse, kar ste zdajle povedali, je v bistvu tra...</td>\n",
       "      <td>-0.967773</td>\n",
       "      <td>1977</td>\n",
       "    </tr>\n",
       "    <tr>\n",
       "      <th>3</th>\n",
       "      <td>ParlaMint-SI_2017-07-10-SDZ7-Redna-32.u36</td>\n",
       "      <td>Minutes of the National Assembly of the Republ...</td>\n",
       "      <td>2017-07-10</td>\n",
       "      <td>Lower house</td>\n",
       "      <td>7</td>\n",
       "      <td>NaN</td>\n",
       "      <td>32</td>\n",
       "      <td>NaN</td>\n",
       "      <td>NaN</td>\n",
       "      <td>Reference</td>\n",
       "      <td>...</td>\n",
       "      <td>SMC</td>\n",
       "      <td>Stranka modernega centra</td>\n",
       "      <td>Coalition</td>\n",
       "      <td>Cerar, Miro</td>\n",
       "      <td>M</td>\n",
       "      <td>1963</td>\n",
       "      <td>Mislim, da bo ona odgovorila na vsa ta vaša vp...</td>\n",
       "      <td>Bi pa nekaj povedal. Naša država se je pred l...</td>\n",
       "      <td>-1.000000</td>\n",
       "      <td>1902</td>\n",
       "    </tr>\n",
       "    <tr>\n",
       "      <th>4</th>\n",
       "      <td>ParlaMint-SI_2017-07-10-SDZ7-Redna-32.u38</td>\n",
       "      <td>Minutes of the National Assembly of the Republ...</td>\n",
       "      <td>2017-07-10</td>\n",
       "      <td>Lower house</td>\n",
       "      <td>7</td>\n",
       "      <td>NaN</td>\n",
       "      <td>32</td>\n",
       "      <td>NaN</td>\n",
       "      <td>NaN</td>\n",
       "      <td>Reference</td>\n",
       "      <td>...</td>\n",
       "      <td>SDS</td>\n",
       "      <td>Slovenska demokratska stranka</td>\n",
       "      <td>Opposition</td>\n",
       "      <td>Godec, Jelka</td>\n",
       "      <td>F</td>\n",
       "      <td>1969</td>\n",
       "      <td>Glede na to, da je predsednik Vlade pravkar de...</td>\n",
       "      <td>Predsednik Vlade, jaz pa vam lahko zdaj zelo ...</td>\n",
       "      <td>-0.625488</td>\n",
       "      <td>2165</td>\n",
       "    </tr>\n",
       "  </tbody>\n",
       "</table>\n",
       "<p>5 rows × 23 columns</p>\n",
       "</div>"
      ],
      "text/plain": [
       "                                          ID  \\\n",
       "0  ParlaMint-SI_2017-07-10-SDZ7-Redna-32.u28   \n",
       "1  ParlaMint-SI_2017-07-10-SDZ7-Redna-32.u30   \n",
       "2  ParlaMint-SI_2017-07-10-SDZ7-Redna-32.u32   \n",
       "3  ParlaMint-SI_2017-07-10-SDZ7-Redna-32.u36   \n",
       "4  ParlaMint-SI_2017-07-10-SDZ7-Redna-32.u38   \n",
       "\n",
       "                                               Title        Date         Body  \\\n",
       "0  Minutes of the National Assembly of the Republ...  2017-07-10  Lower house   \n",
       "1  Minutes of the National Assembly of the Republ...  2017-07-10  Lower house   \n",
       "2  Minutes of the National Assembly of the Republ...  2017-07-10  Lower house   \n",
       "3  Minutes of the National Assembly of the Republ...  2017-07-10  Lower house   \n",
       "4  Minutes of the National Assembly of the Republ...  2017-07-10  Lower house   \n",
       "\n",
       "   Term  Session  Meeting  Sitting  Agenda  Subcorpus  ... Speaker_party  \\\n",
       "0     7      NaN       32      NaN     NaN  Reference  ...           SDS   \n",
       "1     7      NaN       32      NaN     NaN  Reference  ...           SMC   \n",
       "2     7      NaN       32      NaN     NaN  Reference  ...           SDS   \n",
       "3     7      NaN       32      NaN     NaN  Reference  ...           SMC   \n",
       "4     7      NaN       32      NaN     NaN  Reference  ...           SDS   \n",
       "\n",
       "              Speaker_party_name Party_status  Speaker_name Speaker_gender  \\\n",
       "0  Slovenska demokratska stranka   Opposition  Godec, Jelka              F   \n",
       "1       Stranka modernega centra    Coalition   Cerar, Miro              M   \n",
       "2  Slovenska demokratska stranka   Opposition  Godec, Jelka              F   \n",
       "3       Stranka modernega centra    Coalition   Cerar, Miro              M   \n",
       "4  Slovenska demokratska stranka   Opposition  Godec, Jelka              F   \n",
       "\n",
       "  Speaker_birth                                             speech  \\\n",
       "0          1969  Najlepša hvala za besedo. Spoštovani predsedni...   \n",
       "1          1963  Hvala lepa. Vsi vemo, spoštovana poslanka Gode...   \n",
       "2          1969  Spoštovani predsednik Vlade, jaz ne vem, kdo v...   \n",
       "3          1963  Mislim, da bo ona odgovorila na vsa ta vaša vp...   \n",
       "4          1969  Glede na to, da je predsednik Vlade pravkar de...   \n",
       "\n",
       "                                        speech_split sentiment speech_length  \n",
       "0   Spoštovani predsednik Vlade, tako kot branite... -0.746094          2519  \n",
       "1   Vsi vemo, spoštovana poslanka Godec, da je va...  0.251953          4370  \n",
       "2   Vse, kar ste zdajle povedali, je v bistvu tra... -0.967773          1977  \n",
       "3   Bi pa nekaj povedal. Naša država se je pred l... -1.000000          1902  \n",
       "4   Predsednik Vlade, jaz pa vam lahko zdaj zelo ... -0.625488          2165  \n",
       "\n",
       "[5 rows x 23 columns]"
      ]
     },
     "execution_count": 186,
     "metadata": {},
     "output_type": "execute_result"
    }
   ],
   "source": [
    "df = pd.read_csv(f'../data/{THEME}.csv')\n",
    "df.head()"
   ]
  },
  {
   "cell_type": "code",
   "execution_count": 187,
   "metadata": {},
   "outputs": [
    {
     "data": {
      "text/plain": [
       "count     13789\n",
       "unique       24\n",
       "top         SDS\n",
       "freq       3232\n",
       "Name: Speaker_party, dtype: object"
      ]
     },
     "execution_count": 187,
     "metadata": {},
     "output_type": "execute_result"
    }
   ],
   "source": [
    "df['Speaker_party'].describe()"
   ]
  },
  {
   "cell_type": "code",
   "execution_count": 188,
   "metadata": {},
   "outputs": [],
   "source": [
    "# Reference running time for this cell: 4min 00s\n",
    "topics, probs = topic_model.fit_transform(df['speech'])\n"
   ]
  },
  {
   "cell_type": "code",
   "execution_count": 189,
   "metadata": {},
   "outputs": [],
   "source": [
    "# Reduce outliers\n",
    "new_topics = topic_model.reduce_outliers(df['speech'], topics, strategy=\"c-tf-idf\", threshold=0.1)"
   ]
  },
  {
   "cell_type": "code",
   "execution_count": 190,
   "metadata": {},
   "outputs": [
    {
     "data": {
      "text/plain": [
       " 0     4311\n",
       " 1     2172\n",
       " 2      697\n",
       " 3      595\n",
       " 5      577\n",
       " 7      518\n",
       " 10     498\n",
       " 4      493\n",
       " 6      487\n",
       " 9      338\n",
       " 8      322\n",
       "-1      287\n",
       " 11     214\n",
       " 14     208\n",
       " 13     197\n",
       " 12     170\n",
       " 15     169\n",
       " 29     157\n",
       " 16     154\n",
       " 28     141\n",
       " 26     134\n",
       " 27     125\n",
       " 19     123\n",
       " 18     111\n",
       " 21     110\n",
       " 23      99\n",
       " 20      97\n",
       " 25      95\n",
       " 24      93\n",
       " 22      91\n",
       " 17      86\n",
       "dtype: int64"
      ]
     },
     "execution_count": 190,
     "metadata": {},
     "output_type": "execute_result"
    }
   ],
   "source": [
    "pd.Series(new_topics).value_counts()"
   ]
  },
  {
   "cell_type": "code",
   "execution_count": 191,
   "metadata": {},
   "outputs": [],
   "source": [
    "#topic_model.save(f\"../data/topic_model_epsilon{HDBSCAN_CLUSTER_SELECTION_EPSILON}_clustersize{HDBSCAN_MIN_CLUSTER_SIZE}.bin\")"
   ]
  },
  {
   "cell_type": "code",
   "execution_count": 192,
   "metadata": {},
   "outputs": [],
   "source": [
    "#topic_model = BERTopic.load(\"../data/topic_model_epsilon0_clustersize50.bin\")"
   ]
  },
  {
   "cell_type": "code",
   "execution_count": 193,
   "metadata": {},
   "outputs": [
    {
     "name": "stdout",
     "output_type": "stream",
     "text": [
      "Number of topics before: 31\n",
      "Number of topics before: 31\n"
     ]
    }
   ],
   "source": [
    "# Number of topics\n",
    "print(f\"Number of topics before: {len(pd.Series(topics).unique())}\")\n",
    "print(f\"Number of topics before: {len(pd.Series(new_topics).unique())}\")"
   ]
  },
  {
   "cell_type": "code",
   "execution_count": 194,
   "metadata": {},
   "outputs": [
    {
     "data": {
      "text/plain": [
       "-1     4888\n",
       " 8     3438\n",
       " 18    1209\n",
       " 7      562\n",
       " 6      390\n",
       " 22     379\n",
       " 25     337\n",
       " 23     328\n",
       " 28     246\n",
       " 16     208\n",
       " 9      188\n",
       " 26     182\n",
       " 0      145\n",
       " 11     130\n",
       " 5      112\n",
       " 24     109\n",
       " 21     108\n",
       " 12      91\n",
       " 19      78\n",
       " 1       77\n",
       " 15      77\n",
       " 14      69\n",
       " 10      68\n",
       " 13      64\n",
       " 3       58\n",
       " 2       57\n",
       " 27      56\n",
       " 29      56\n",
       " 20      56\n",
       " 17      52\n",
       " 4       51\n",
       "dtype: int64"
      ]
     },
     "execution_count": 194,
     "metadata": {},
     "output_type": "execute_result"
    }
   ],
   "source": [
    "# The count of speeches per topic. -1 is the noise(outlier) topic\n",
    "pd.Series(topic_model.hdbscan_model.labels_).value_counts()"
   ]
  },
  {
   "cell_type": "code",
   "execution_count": 195,
   "metadata": {},
   "outputs": [
    {
     "data": {
      "application/vnd.plotly.v1+json": {
       "config": {
        "plotlyServerURL": "https://plot.ly"
       },
       "data": [
        {
         "customdata": [
          [
           0,
           "zdravil | hvala | zdravstva | storitev | sistem",
           3438
          ],
          [
           1,
           "sem | potem | tem | danes | samo",
           1209
          ],
          [
           2,
           "19 | epidemijo | cepljenje | vlada | širjenja",
           562
          ],
          [
           3,
           "šole | potrebami | posebnimi | otroci | družine",
           390
          ],
          [
           4,
           "evropske | unije | tem | bo | države",
           379
          ],
          [
           5,
           "evrov | rast | milijonov | 2007 | bo",
           337
          ],
          [
           6,
           "bo | sloveniji | stranke | so | gre",
           328
          ],
          [
           7,
           "milijonov | letu | evrov | rast | rebalans",
           246
          ],
          [
           8,
           "zapora | referendum | sankcij | sodnikov | državni",
           208
          ],
          [
           9,
           "poročilu | pravice | opozarja | priporočila | peticije",
           188
          ],
          [
           10,
           "evrov | pokojninskem | plače | minimalne | zakona",
           182
          ],
          [
           11,
           "izpostavljenosti | obolelih | proizvodnje | prahu | odškodnin",
           145
          ],
          [
           12,
           "čebele | živali | fitofarmacevtskih | vino | hrane",
           130
          ],
          [
           13,
           "korupcije | zdravstvu | preprečevanje | komisije | javnih",
           112
          ],
          [
           14,
           "plače | dodano | davkov | vrednost | evrov",
           109
          ],
          [
           15,
           "dolgotrajne | pokojninske | domu | 65 | invalidsko",
           108
          ],
          [
           16,
           "vojske | pripadnikov | 780 | orožje | slovenski",
           91
          ],
          [
           17,
           "ministra | vlade | gospod | kandidatka | boste",
           78
          ],
          [
           18,
           "psov | veterinarstvu | spričevala | bolezni | kužnih",
           77
          ],
          [
           19,
           "gasilcev | gasilske | zaščite | nesrečami | operativne",
           77
          ],
          [
           20,
           "pitne | voda | promet | sloveniji | izgradnje",
           69
          ],
          [
           21,
           "prometu | nesreč | dovoljenja | varnosti | voznikih",
           68
          ],
          [
           22,
           "anhovo | dolini | prostor | cementarne | benzen",
           64
          ],
          [
           23,
           "tobačnih | trošarin | embalaže | vina | dima",
           58
          ],
          [
           24,
           "kislin | maščobe | prehranskih | ustreznosti | transmaščob",
           57
          ],
          [
           25,
           "občanov | domovi | pokojnine | upokojencev | dolgotrajno",
           56
          ],
          [
           26,
           "sindikatov | brezposelnosti | zakona | študentov | delovnih",
           56
          ],
          [
           27,
           "davkov | evrov | kapitala | olajšava | plače",
           56
          ],
          [
           28,
           "odsotnost | izplačuje | poškodb | bolniške | zavarovanje",
           52
          ],
          [
           29,
           "občine | ustanovitev | pokrajine | samouprave | koroška",
           51
          ]
         ],
         "hovertemplate": "<b>Topic %{customdata[0]}</b><br>%{customdata[1]}<br>Size: %{customdata[2]}",
         "legendgroup": "",
         "marker": {
          "color": "#B0BEC5",
          "line": {
           "color": "DarkSlateGrey",
           "width": 2
          },
          "size": [
           3438,
           1209,
           562,
           390,
           379,
           337,
           328,
           246,
           208,
           188,
           182,
           145,
           130,
           112,
           109,
           108,
           91,
           78,
           77,
           77,
           69,
           68,
           64,
           58,
           57,
           56,
           56,
           56,
           52,
           51
          ],
          "sizemode": "area",
          "sizeref": 2.14875,
          "symbol": "circle"
         },
         "mode": "markers",
         "name": "",
         "orientation": "v",
         "showlegend": false,
         "type": "scatter",
         "x": [
          11.443933486938477,
          11.67400074005127,
          12.120089530944824,
          12.134359359741211,
          11.888679504394531,
          10.2816743850708,
          11.249532699584961,
          10.885978698730469,
          11.420692443847656,
          11.682821273803711,
          17.37128448486328,
          17.540882110595703,
          9.576476097106934,
          11.831134796142578,
          17.878421783447266,
          16.0358829498291,
          10.846712112426758,
          11.221983909606934,
          9.580451011657715,
          18.03805160522461,
          9.07288932800293,
          17.973743438720703,
          8.987776756286621,
          18.251453399658203,
          9.781832695007324,
          15.793191909790039,
          16.95077896118164,
          18.012468338012695,
          16.763301849365234,
          17.340312957763672
         ],
         "xaxis": "x",
         "y": [
          -1.6245547533035278,
          -1.779757022857666,
          -1.5795692205429077,
          -1.9526019096374512,
          -1.200158953666687,
          9.015365600585938,
          0.21661706268787384,
          9.281094551086426,
          -0.1673903614282608,
          0.5538316965103149,
          -9.770544052124023,
          -9.91989517211914,
          8.961852073669434,
          0.6548132300376892,
          -10.486995697021484,
          -10.843722343444824,
          9.211274147033691,
          0.01145119033753872,
          9.385775566101074,
          -9.510103225708008,
          9.686651229858398,
          -9.327459335327148,
          9.826504707336426,
          -10.843177795410156,
          9.116482734680176,
          -11.04844856262207,
          -9.70933723449707,
          -10.6823091506958,
          -9.647445678710938,
          -10.211121559143066
         ],
         "yaxis": "y"
        }
       ],
       "layout": {
        "annotations": [
         {
          "showarrow": false,
          "text": "D1",
          "x": 7.639610242843628,
          "y": -0.7026177167892449,
          "yshift": 10
         },
         {
          "showarrow": false,
          "text": "D2",
          "x": 14.31439082622528,
          "xshift": 10,
          "y": 11.30048041343689
         }
        ],
        "height": 650,
        "hoverlabel": {
         "bgcolor": "white",
         "font": {
          "family": "Rockwell",
          "size": 16
         }
        },
        "legend": {
         "itemsizing": "constant",
         "tracegroupgap": 0
        },
        "margin": {
         "t": 60
        },
        "shapes": [
         {
          "line": {
           "color": "#CFD8DC",
           "width": 2
          },
          "type": "line",
          "x0": 14.31439082622528,
          "x1": 14.31439082622528,
          "y0": -12.70571584701538,
          "y1": 11.30048041343689
         },
         {
          "line": {
           "color": "#9E9E9E",
           "width": 2
          },
          "type": "line",
          "x0": 7.639610242843628,
          "x1": 20.989171409606932,
          "y0": -0.7026177167892449,
          "y1": -0.7026177167892449
         }
        ],
        "sliders": [
         {
          "active": 0,
          "pad": {
           "t": 50
          },
          "steps": [
           {
            "args": [
             {
              "marker.color": [
               [
                "red",
                "#B0BEC5",
                "#B0BEC5",
                "#B0BEC5",
                "#B0BEC5",
                "#B0BEC5",
                "#B0BEC5",
                "#B0BEC5",
                "#B0BEC5",
                "#B0BEC5",
                "#B0BEC5",
                "#B0BEC5",
                "#B0BEC5",
                "#B0BEC5",
                "#B0BEC5",
                "#B0BEC5",
                "#B0BEC5",
                "#B0BEC5",
                "#B0BEC5",
                "#B0BEC5",
                "#B0BEC5",
                "#B0BEC5",
                "#B0BEC5",
                "#B0BEC5",
                "#B0BEC5",
                "#B0BEC5",
                "#B0BEC5",
                "#B0BEC5",
                "#B0BEC5",
                "#B0BEC5"
               ]
              ]
             }
            ],
            "label": "Topic 0",
            "method": "update"
           },
           {
            "args": [
             {
              "marker.color": [
               [
                "#B0BEC5",
                "red",
                "#B0BEC5",
                "#B0BEC5",
                "#B0BEC5",
                "#B0BEC5",
                "#B0BEC5",
                "#B0BEC5",
                "#B0BEC5",
                "#B0BEC5",
                "#B0BEC5",
                "#B0BEC5",
                "#B0BEC5",
                "#B0BEC5",
                "#B0BEC5",
                "#B0BEC5",
                "#B0BEC5",
                "#B0BEC5",
                "#B0BEC5",
                "#B0BEC5",
                "#B0BEC5",
                "#B0BEC5",
                "#B0BEC5",
                "#B0BEC5",
                "#B0BEC5",
                "#B0BEC5",
                "#B0BEC5",
                "#B0BEC5",
                "#B0BEC5",
                "#B0BEC5"
               ]
              ]
             }
            ],
            "label": "Topic 1",
            "method": "update"
           },
           {
            "args": [
             {
              "marker.color": [
               [
                "#B0BEC5",
                "#B0BEC5",
                "red",
                "#B0BEC5",
                "#B0BEC5",
                "#B0BEC5",
                "#B0BEC5",
                "#B0BEC5",
                "#B0BEC5",
                "#B0BEC5",
                "#B0BEC5",
                "#B0BEC5",
                "#B0BEC5",
                "#B0BEC5",
                "#B0BEC5",
                "#B0BEC5",
                "#B0BEC5",
                "#B0BEC5",
                "#B0BEC5",
                "#B0BEC5",
                "#B0BEC5",
                "#B0BEC5",
                "#B0BEC5",
                "#B0BEC5",
                "#B0BEC5",
                "#B0BEC5",
                "#B0BEC5",
                "#B0BEC5",
                "#B0BEC5",
                "#B0BEC5"
               ]
              ]
             }
            ],
            "label": "Topic 2",
            "method": "update"
           },
           {
            "args": [
             {
              "marker.color": [
               [
                "#B0BEC5",
                "#B0BEC5",
                "#B0BEC5",
                "red",
                "#B0BEC5",
                "#B0BEC5",
                "#B0BEC5",
                "#B0BEC5",
                "#B0BEC5",
                "#B0BEC5",
                "#B0BEC5",
                "#B0BEC5",
                "#B0BEC5",
                "#B0BEC5",
                "#B0BEC5",
                "#B0BEC5",
                "#B0BEC5",
                "#B0BEC5",
                "#B0BEC5",
                "#B0BEC5",
                "#B0BEC5",
                "#B0BEC5",
                "#B0BEC5",
                "#B0BEC5",
                "#B0BEC5",
                "#B0BEC5",
                "#B0BEC5",
                "#B0BEC5",
                "#B0BEC5",
                "#B0BEC5"
               ]
              ]
             }
            ],
            "label": "Topic 3",
            "method": "update"
           },
           {
            "args": [
             {
              "marker.color": [
               [
                "#B0BEC5",
                "#B0BEC5",
                "#B0BEC5",
                "#B0BEC5",
                "red",
                "#B0BEC5",
                "#B0BEC5",
                "#B0BEC5",
                "#B0BEC5",
                "#B0BEC5",
                "#B0BEC5",
                "#B0BEC5",
                "#B0BEC5",
                "#B0BEC5",
                "#B0BEC5",
                "#B0BEC5",
                "#B0BEC5",
                "#B0BEC5",
                "#B0BEC5",
                "#B0BEC5",
                "#B0BEC5",
                "#B0BEC5",
                "#B0BEC5",
                "#B0BEC5",
                "#B0BEC5",
                "#B0BEC5",
                "#B0BEC5",
                "#B0BEC5",
                "#B0BEC5",
                "#B0BEC5"
               ]
              ]
             }
            ],
            "label": "Topic 4",
            "method": "update"
           },
           {
            "args": [
             {
              "marker.color": [
               [
                "#B0BEC5",
                "#B0BEC5",
                "#B0BEC5",
                "#B0BEC5",
                "#B0BEC5",
                "red",
                "#B0BEC5",
                "#B0BEC5",
                "#B0BEC5",
                "#B0BEC5",
                "#B0BEC5",
                "#B0BEC5",
                "#B0BEC5",
                "#B0BEC5",
                "#B0BEC5",
                "#B0BEC5",
                "#B0BEC5",
                "#B0BEC5",
                "#B0BEC5",
                "#B0BEC5",
                "#B0BEC5",
                "#B0BEC5",
                "#B0BEC5",
                "#B0BEC5",
                "#B0BEC5",
                "#B0BEC5",
                "#B0BEC5",
                "#B0BEC5",
                "#B0BEC5",
                "#B0BEC5"
               ]
              ]
             }
            ],
            "label": "Topic 5",
            "method": "update"
           },
           {
            "args": [
             {
              "marker.color": [
               [
                "#B0BEC5",
                "#B0BEC5",
                "#B0BEC5",
                "#B0BEC5",
                "#B0BEC5",
                "#B0BEC5",
                "red",
                "#B0BEC5",
                "#B0BEC5",
                "#B0BEC5",
                "#B0BEC5",
                "#B0BEC5",
                "#B0BEC5",
                "#B0BEC5",
                "#B0BEC5",
                "#B0BEC5",
                "#B0BEC5",
                "#B0BEC5",
                "#B0BEC5",
                "#B0BEC5",
                "#B0BEC5",
                "#B0BEC5",
                "#B0BEC5",
                "#B0BEC5",
                "#B0BEC5",
                "#B0BEC5",
                "#B0BEC5",
                "#B0BEC5",
                "#B0BEC5",
                "#B0BEC5"
               ]
              ]
             }
            ],
            "label": "Topic 6",
            "method": "update"
           },
           {
            "args": [
             {
              "marker.color": [
               [
                "#B0BEC5",
                "#B0BEC5",
                "#B0BEC5",
                "#B0BEC5",
                "#B0BEC5",
                "#B0BEC5",
                "#B0BEC5",
                "red",
                "#B0BEC5",
                "#B0BEC5",
                "#B0BEC5",
                "#B0BEC5",
                "#B0BEC5",
                "#B0BEC5",
                "#B0BEC5",
                "#B0BEC5",
                "#B0BEC5",
                "#B0BEC5",
                "#B0BEC5",
                "#B0BEC5",
                "#B0BEC5",
                "#B0BEC5",
                "#B0BEC5",
                "#B0BEC5",
                "#B0BEC5",
                "#B0BEC5",
                "#B0BEC5",
                "#B0BEC5",
                "#B0BEC5",
                "#B0BEC5"
               ]
              ]
             }
            ],
            "label": "Topic 7",
            "method": "update"
           },
           {
            "args": [
             {
              "marker.color": [
               [
                "#B0BEC5",
                "#B0BEC5",
                "#B0BEC5",
                "#B0BEC5",
                "#B0BEC5",
                "#B0BEC5",
                "#B0BEC5",
                "#B0BEC5",
                "red",
                "#B0BEC5",
                "#B0BEC5",
                "#B0BEC5",
                "#B0BEC5",
                "#B0BEC5",
                "#B0BEC5",
                "#B0BEC5",
                "#B0BEC5",
                "#B0BEC5",
                "#B0BEC5",
                "#B0BEC5",
                "#B0BEC5",
                "#B0BEC5",
                "#B0BEC5",
                "#B0BEC5",
                "#B0BEC5",
                "#B0BEC5",
                "#B0BEC5",
                "#B0BEC5",
                "#B0BEC5",
                "#B0BEC5"
               ]
              ]
             }
            ],
            "label": "Topic 8",
            "method": "update"
           },
           {
            "args": [
             {
              "marker.color": [
               [
                "#B0BEC5",
                "#B0BEC5",
                "#B0BEC5",
                "#B0BEC5",
                "#B0BEC5",
                "#B0BEC5",
                "#B0BEC5",
                "#B0BEC5",
                "#B0BEC5",
                "red",
                "#B0BEC5",
                "#B0BEC5",
                "#B0BEC5",
                "#B0BEC5",
                "#B0BEC5",
                "#B0BEC5",
                "#B0BEC5",
                "#B0BEC5",
                "#B0BEC5",
                "#B0BEC5",
                "#B0BEC5",
                "#B0BEC5",
                "#B0BEC5",
                "#B0BEC5",
                "#B0BEC5",
                "#B0BEC5",
                "#B0BEC5",
                "#B0BEC5",
                "#B0BEC5",
                "#B0BEC5"
               ]
              ]
             }
            ],
            "label": "Topic 9",
            "method": "update"
           },
           {
            "args": [
             {
              "marker.color": [
               [
                "#B0BEC5",
                "#B0BEC5",
                "#B0BEC5",
                "#B0BEC5",
                "#B0BEC5",
                "#B0BEC5",
                "#B0BEC5",
                "#B0BEC5",
                "#B0BEC5",
                "#B0BEC5",
                "red",
                "#B0BEC5",
                "#B0BEC5",
                "#B0BEC5",
                "#B0BEC5",
                "#B0BEC5",
                "#B0BEC5",
                "#B0BEC5",
                "#B0BEC5",
                "#B0BEC5",
                "#B0BEC5",
                "#B0BEC5",
                "#B0BEC5",
                "#B0BEC5",
                "#B0BEC5",
                "#B0BEC5",
                "#B0BEC5",
                "#B0BEC5",
                "#B0BEC5",
                "#B0BEC5"
               ]
              ]
             }
            ],
            "label": "Topic 10",
            "method": "update"
           },
           {
            "args": [
             {
              "marker.color": [
               [
                "#B0BEC5",
                "#B0BEC5",
                "#B0BEC5",
                "#B0BEC5",
                "#B0BEC5",
                "#B0BEC5",
                "#B0BEC5",
                "#B0BEC5",
                "#B0BEC5",
                "#B0BEC5",
                "#B0BEC5",
                "red",
                "#B0BEC5",
                "#B0BEC5",
                "#B0BEC5",
                "#B0BEC5",
                "#B0BEC5",
                "#B0BEC5",
                "#B0BEC5",
                "#B0BEC5",
                "#B0BEC5",
                "#B0BEC5",
                "#B0BEC5",
                "#B0BEC5",
                "#B0BEC5",
                "#B0BEC5",
                "#B0BEC5",
                "#B0BEC5",
                "#B0BEC5",
                "#B0BEC5"
               ]
              ]
             }
            ],
            "label": "Topic 11",
            "method": "update"
           },
           {
            "args": [
             {
              "marker.color": [
               [
                "#B0BEC5",
                "#B0BEC5",
                "#B0BEC5",
                "#B0BEC5",
                "#B0BEC5",
                "#B0BEC5",
                "#B0BEC5",
                "#B0BEC5",
                "#B0BEC5",
                "#B0BEC5",
                "#B0BEC5",
                "#B0BEC5",
                "red",
                "#B0BEC5",
                "#B0BEC5",
                "#B0BEC5",
                "#B0BEC5",
                "#B0BEC5",
                "#B0BEC5",
                "#B0BEC5",
                "#B0BEC5",
                "#B0BEC5",
                "#B0BEC5",
                "#B0BEC5",
                "#B0BEC5",
                "#B0BEC5",
                "#B0BEC5",
                "#B0BEC5",
                "#B0BEC5",
                "#B0BEC5"
               ]
              ]
             }
            ],
            "label": "Topic 12",
            "method": "update"
           },
           {
            "args": [
             {
              "marker.color": [
               [
                "#B0BEC5",
                "#B0BEC5",
                "#B0BEC5",
                "#B0BEC5",
                "#B0BEC5",
                "#B0BEC5",
                "#B0BEC5",
                "#B0BEC5",
                "#B0BEC5",
                "#B0BEC5",
                "#B0BEC5",
                "#B0BEC5",
                "#B0BEC5",
                "red",
                "#B0BEC5",
                "#B0BEC5",
                "#B0BEC5",
                "#B0BEC5",
                "#B0BEC5",
                "#B0BEC5",
                "#B0BEC5",
                "#B0BEC5",
                "#B0BEC5",
                "#B0BEC5",
                "#B0BEC5",
                "#B0BEC5",
                "#B0BEC5",
                "#B0BEC5",
                "#B0BEC5",
                "#B0BEC5"
               ]
              ]
             }
            ],
            "label": "Topic 13",
            "method": "update"
           },
           {
            "args": [
             {
              "marker.color": [
               [
                "#B0BEC5",
                "#B0BEC5",
                "#B0BEC5",
                "#B0BEC5",
                "#B0BEC5",
                "#B0BEC5",
                "#B0BEC5",
                "#B0BEC5",
                "#B0BEC5",
                "#B0BEC5",
                "#B0BEC5",
                "#B0BEC5",
                "#B0BEC5",
                "#B0BEC5",
                "red",
                "#B0BEC5",
                "#B0BEC5",
                "#B0BEC5",
                "#B0BEC5",
                "#B0BEC5",
                "#B0BEC5",
                "#B0BEC5",
                "#B0BEC5",
                "#B0BEC5",
                "#B0BEC5",
                "#B0BEC5",
                "#B0BEC5",
                "#B0BEC5",
                "#B0BEC5",
                "#B0BEC5"
               ]
              ]
             }
            ],
            "label": "Topic 14",
            "method": "update"
           },
           {
            "args": [
             {
              "marker.color": [
               [
                "#B0BEC5",
                "#B0BEC5",
                "#B0BEC5",
                "#B0BEC5",
                "#B0BEC5",
                "#B0BEC5",
                "#B0BEC5",
                "#B0BEC5",
                "#B0BEC5",
                "#B0BEC5",
                "#B0BEC5",
                "#B0BEC5",
                "#B0BEC5",
                "#B0BEC5",
                "#B0BEC5",
                "red",
                "#B0BEC5",
                "#B0BEC5",
                "#B0BEC5",
                "#B0BEC5",
                "#B0BEC5",
                "#B0BEC5",
                "#B0BEC5",
                "#B0BEC5",
                "#B0BEC5",
                "#B0BEC5",
                "#B0BEC5",
                "#B0BEC5",
                "#B0BEC5",
                "#B0BEC5"
               ]
              ]
             }
            ],
            "label": "Topic 15",
            "method": "update"
           },
           {
            "args": [
             {
              "marker.color": [
               [
                "#B0BEC5",
                "#B0BEC5",
                "#B0BEC5",
                "#B0BEC5",
                "#B0BEC5",
                "#B0BEC5",
                "#B0BEC5",
                "#B0BEC5",
                "#B0BEC5",
                "#B0BEC5",
                "#B0BEC5",
                "#B0BEC5",
                "#B0BEC5",
                "#B0BEC5",
                "#B0BEC5",
                "#B0BEC5",
                "red",
                "#B0BEC5",
                "#B0BEC5",
                "#B0BEC5",
                "#B0BEC5",
                "#B0BEC5",
                "#B0BEC5",
                "#B0BEC5",
                "#B0BEC5",
                "#B0BEC5",
                "#B0BEC5",
                "#B0BEC5",
                "#B0BEC5",
                "#B0BEC5"
               ]
              ]
             }
            ],
            "label": "Topic 16",
            "method": "update"
           },
           {
            "args": [
             {
              "marker.color": [
               [
                "#B0BEC5",
                "#B0BEC5",
                "#B0BEC5",
                "#B0BEC5",
                "#B0BEC5",
                "#B0BEC5",
                "#B0BEC5",
                "#B0BEC5",
                "#B0BEC5",
                "#B0BEC5",
                "#B0BEC5",
                "#B0BEC5",
                "#B0BEC5",
                "#B0BEC5",
                "#B0BEC5",
                "#B0BEC5",
                "#B0BEC5",
                "red",
                "#B0BEC5",
                "#B0BEC5",
                "#B0BEC5",
                "#B0BEC5",
                "#B0BEC5",
                "#B0BEC5",
                "#B0BEC5",
                "#B0BEC5",
                "#B0BEC5",
                "#B0BEC5",
                "#B0BEC5",
                "#B0BEC5"
               ]
              ]
             }
            ],
            "label": "Topic 17",
            "method": "update"
           },
           {
            "args": [
             {
              "marker.color": [
               [
                "#B0BEC5",
                "#B0BEC5",
                "#B0BEC5",
                "#B0BEC5",
                "#B0BEC5",
                "#B0BEC5",
                "#B0BEC5",
                "#B0BEC5",
                "#B0BEC5",
                "#B0BEC5",
                "#B0BEC5",
                "#B0BEC5",
                "#B0BEC5",
                "#B0BEC5",
                "#B0BEC5",
                "#B0BEC5",
                "#B0BEC5",
                "#B0BEC5",
                "red",
                "#B0BEC5",
                "#B0BEC5",
                "#B0BEC5",
                "#B0BEC5",
                "#B0BEC5",
                "#B0BEC5",
                "#B0BEC5",
                "#B0BEC5",
                "#B0BEC5",
                "#B0BEC5",
                "#B0BEC5"
               ]
              ]
             }
            ],
            "label": "Topic 18",
            "method": "update"
           },
           {
            "args": [
             {
              "marker.color": [
               [
                "#B0BEC5",
                "#B0BEC5",
                "#B0BEC5",
                "#B0BEC5",
                "#B0BEC5",
                "#B0BEC5",
                "#B0BEC5",
                "#B0BEC5",
                "#B0BEC5",
                "#B0BEC5",
                "#B0BEC5",
                "#B0BEC5",
                "#B0BEC5",
                "#B0BEC5",
                "#B0BEC5",
                "#B0BEC5",
                "#B0BEC5",
                "#B0BEC5",
                "#B0BEC5",
                "red",
                "#B0BEC5",
                "#B0BEC5",
                "#B0BEC5",
                "#B0BEC5",
                "#B0BEC5",
                "#B0BEC5",
                "#B0BEC5",
                "#B0BEC5",
                "#B0BEC5",
                "#B0BEC5"
               ]
              ]
             }
            ],
            "label": "Topic 19",
            "method": "update"
           },
           {
            "args": [
             {
              "marker.color": [
               [
                "#B0BEC5",
                "#B0BEC5",
                "#B0BEC5",
                "#B0BEC5",
                "#B0BEC5",
                "#B0BEC5",
                "#B0BEC5",
                "#B0BEC5",
                "#B0BEC5",
                "#B0BEC5",
                "#B0BEC5",
                "#B0BEC5",
                "#B0BEC5",
                "#B0BEC5",
                "#B0BEC5",
                "#B0BEC5",
                "#B0BEC5",
                "#B0BEC5",
                "#B0BEC5",
                "#B0BEC5",
                "red",
                "#B0BEC5",
                "#B0BEC5",
                "#B0BEC5",
                "#B0BEC5",
                "#B0BEC5",
                "#B0BEC5",
                "#B0BEC5",
                "#B0BEC5",
                "#B0BEC5"
               ]
              ]
             }
            ],
            "label": "Topic 20",
            "method": "update"
           },
           {
            "args": [
             {
              "marker.color": [
               [
                "#B0BEC5",
                "#B0BEC5",
                "#B0BEC5",
                "#B0BEC5",
                "#B0BEC5",
                "#B0BEC5",
                "#B0BEC5",
                "#B0BEC5",
                "#B0BEC5",
                "#B0BEC5",
                "#B0BEC5",
                "#B0BEC5",
                "#B0BEC5",
                "#B0BEC5",
                "#B0BEC5",
                "#B0BEC5",
                "#B0BEC5",
                "#B0BEC5",
                "#B0BEC5",
                "#B0BEC5",
                "#B0BEC5",
                "red",
                "#B0BEC5",
                "#B0BEC5",
                "#B0BEC5",
                "#B0BEC5",
                "#B0BEC5",
                "#B0BEC5",
                "#B0BEC5",
                "#B0BEC5"
               ]
              ]
             }
            ],
            "label": "Topic 21",
            "method": "update"
           },
           {
            "args": [
             {
              "marker.color": [
               [
                "#B0BEC5",
                "#B0BEC5",
                "#B0BEC5",
                "#B0BEC5",
                "#B0BEC5",
                "#B0BEC5",
                "#B0BEC5",
                "#B0BEC5",
                "#B0BEC5",
                "#B0BEC5",
                "#B0BEC5",
                "#B0BEC5",
                "#B0BEC5",
                "#B0BEC5",
                "#B0BEC5",
                "#B0BEC5",
                "#B0BEC5",
                "#B0BEC5",
                "#B0BEC5",
                "#B0BEC5",
                "#B0BEC5",
                "#B0BEC5",
                "red",
                "#B0BEC5",
                "#B0BEC5",
                "#B0BEC5",
                "#B0BEC5",
                "#B0BEC5",
                "#B0BEC5",
                "#B0BEC5"
               ]
              ]
             }
            ],
            "label": "Topic 22",
            "method": "update"
           },
           {
            "args": [
             {
              "marker.color": [
               [
                "#B0BEC5",
                "#B0BEC5",
                "#B0BEC5",
                "#B0BEC5",
                "#B0BEC5",
                "#B0BEC5",
                "#B0BEC5",
                "#B0BEC5",
                "#B0BEC5",
                "#B0BEC5",
                "#B0BEC5",
                "#B0BEC5",
                "#B0BEC5",
                "#B0BEC5",
                "#B0BEC5",
                "#B0BEC5",
                "#B0BEC5",
                "#B0BEC5",
                "#B0BEC5",
                "#B0BEC5",
                "#B0BEC5",
                "#B0BEC5",
                "#B0BEC5",
                "red",
                "#B0BEC5",
                "#B0BEC5",
                "#B0BEC5",
                "#B0BEC5",
                "#B0BEC5",
                "#B0BEC5"
               ]
              ]
             }
            ],
            "label": "Topic 23",
            "method": "update"
           },
           {
            "args": [
             {
              "marker.color": [
               [
                "#B0BEC5",
                "#B0BEC5",
                "#B0BEC5",
                "#B0BEC5",
                "#B0BEC5",
                "#B0BEC5",
                "#B0BEC5",
                "#B0BEC5",
                "#B0BEC5",
                "#B0BEC5",
                "#B0BEC5",
                "#B0BEC5",
                "#B0BEC5",
                "#B0BEC5",
                "#B0BEC5",
                "#B0BEC5",
                "#B0BEC5",
                "#B0BEC5",
                "#B0BEC5",
                "#B0BEC5",
                "#B0BEC5",
                "#B0BEC5",
                "#B0BEC5",
                "#B0BEC5",
                "red",
                "#B0BEC5",
                "#B0BEC5",
                "#B0BEC5",
                "#B0BEC5",
                "#B0BEC5"
               ]
              ]
             }
            ],
            "label": "Topic 24",
            "method": "update"
           },
           {
            "args": [
             {
              "marker.color": [
               [
                "#B0BEC5",
                "#B0BEC5",
                "#B0BEC5",
                "#B0BEC5",
                "#B0BEC5",
                "#B0BEC5",
                "#B0BEC5",
                "#B0BEC5",
                "#B0BEC5",
                "#B0BEC5",
                "#B0BEC5",
                "#B0BEC5",
                "#B0BEC5",
                "#B0BEC5",
                "#B0BEC5",
                "#B0BEC5",
                "#B0BEC5",
                "#B0BEC5",
                "#B0BEC5",
                "#B0BEC5",
                "#B0BEC5",
                "#B0BEC5",
                "#B0BEC5",
                "#B0BEC5",
                "#B0BEC5",
                "red",
                "#B0BEC5",
                "#B0BEC5",
                "#B0BEC5",
                "#B0BEC5"
               ]
              ]
             }
            ],
            "label": "Topic 25",
            "method": "update"
           },
           {
            "args": [
             {
              "marker.color": [
               [
                "#B0BEC5",
                "#B0BEC5",
                "#B0BEC5",
                "#B0BEC5",
                "#B0BEC5",
                "#B0BEC5",
                "#B0BEC5",
                "#B0BEC5",
                "#B0BEC5",
                "#B0BEC5",
                "#B0BEC5",
                "#B0BEC5",
                "#B0BEC5",
                "#B0BEC5",
                "#B0BEC5",
                "#B0BEC5",
                "#B0BEC5",
                "#B0BEC5",
                "#B0BEC5",
                "#B0BEC5",
                "#B0BEC5",
                "#B0BEC5",
                "#B0BEC5",
                "#B0BEC5",
                "#B0BEC5",
                "#B0BEC5",
                "red",
                "#B0BEC5",
                "#B0BEC5",
                "#B0BEC5"
               ]
              ]
             }
            ],
            "label": "Topic 26",
            "method": "update"
           },
           {
            "args": [
             {
              "marker.color": [
               [
                "#B0BEC5",
                "#B0BEC5",
                "#B0BEC5",
                "#B0BEC5",
                "#B0BEC5",
                "#B0BEC5",
                "#B0BEC5",
                "#B0BEC5",
                "#B0BEC5",
                "#B0BEC5",
                "#B0BEC5",
                "#B0BEC5",
                "#B0BEC5",
                "#B0BEC5",
                "#B0BEC5",
                "#B0BEC5",
                "#B0BEC5",
                "#B0BEC5",
                "#B0BEC5",
                "#B0BEC5",
                "#B0BEC5",
                "#B0BEC5",
                "#B0BEC5",
                "#B0BEC5",
                "#B0BEC5",
                "#B0BEC5",
                "#B0BEC5",
                "red",
                "#B0BEC5",
                "#B0BEC5"
               ]
              ]
             }
            ],
            "label": "Topic 27",
            "method": "update"
           },
           {
            "args": [
             {
              "marker.color": [
               [
                "#B0BEC5",
                "#B0BEC5",
                "#B0BEC5",
                "#B0BEC5",
                "#B0BEC5",
                "#B0BEC5",
                "#B0BEC5",
                "#B0BEC5",
                "#B0BEC5",
                "#B0BEC5",
                "#B0BEC5",
                "#B0BEC5",
                "#B0BEC5",
                "#B0BEC5",
                "#B0BEC5",
                "#B0BEC5",
                "#B0BEC5",
                "#B0BEC5",
                "#B0BEC5",
                "#B0BEC5",
                "#B0BEC5",
                "#B0BEC5",
                "#B0BEC5",
                "#B0BEC5",
                "#B0BEC5",
                "#B0BEC5",
                "#B0BEC5",
                "#B0BEC5",
                "red",
                "#B0BEC5"
               ]
              ]
             }
            ],
            "label": "Topic 28",
            "method": "update"
           },
           {
            "args": [
             {
              "marker.color": [
               [
                "#B0BEC5",
                "#B0BEC5",
                "#B0BEC5",
                "#B0BEC5",
                "#B0BEC5",
                "#B0BEC5",
                "#B0BEC5",
                "#B0BEC5",
                "#B0BEC5",
                "#B0BEC5",
                "#B0BEC5",
                "#B0BEC5",
                "#B0BEC5",
                "#B0BEC5",
                "#B0BEC5",
                "#B0BEC5",
                "#B0BEC5",
                "#B0BEC5",
                "#B0BEC5",
                "#B0BEC5",
                "#B0BEC5",
                "#B0BEC5",
                "#B0BEC5",
                "#B0BEC5",
                "#B0BEC5",
                "#B0BEC5",
                "#B0BEC5",
                "#B0BEC5",
                "#B0BEC5",
                "red"
               ]
              ]
             }
            ],
            "label": "Topic 29",
            "method": "update"
           }
          ]
         }
        ],
        "template": {
         "data": {
          "bar": [
           {
            "error_x": {
             "color": "rgb(36,36,36)"
            },
            "error_y": {
             "color": "rgb(36,36,36)"
            },
            "marker": {
             "line": {
              "color": "white",
              "width": 0.5
             },
             "pattern": {
              "fillmode": "overlay",
              "size": 10,
              "solidity": 0.2
             }
            },
            "type": "bar"
           }
          ],
          "barpolar": [
           {
            "marker": {
             "line": {
              "color": "white",
              "width": 0.5
             },
             "pattern": {
              "fillmode": "overlay",
              "size": 10,
              "solidity": 0.2
             }
            },
            "type": "barpolar"
           }
          ],
          "carpet": [
           {
            "aaxis": {
             "endlinecolor": "rgb(36,36,36)",
             "gridcolor": "white",
             "linecolor": "white",
             "minorgridcolor": "white",
             "startlinecolor": "rgb(36,36,36)"
            },
            "baxis": {
             "endlinecolor": "rgb(36,36,36)",
             "gridcolor": "white",
             "linecolor": "white",
             "minorgridcolor": "white",
             "startlinecolor": "rgb(36,36,36)"
            },
            "type": "carpet"
           }
          ],
          "choropleth": [
           {
            "colorbar": {
             "outlinewidth": 1,
             "tickcolor": "rgb(36,36,36)",
             "ticks": "outside"
            },
            "type": "choropleth"
           }
          ],
          "contour": [
           {
            "colorbar": {
             "outlinewidth": 1,
             "tickcolor": "rgb(36,36,36)",
             "ticks": "outside"
            },
            "colorscale": [
             [
              0,
              "#440154"
             ],
             [
              0.1111111111111111,
              "#482878"
             ],
             [
              0.2222222222222222,
              "#3e4989"
             ],
             [
              0.3333333333333333,
              "#31688e"
             ],
             [
              0.4444444444444444,
              "#26828e"
             ],
             [
              0.5555555555555556,
              "#1f9e89"
             ],
             [
              0.6666666666666666,
              "#35b779"
             ],
             [
              0.7777777777777778,
              "#6ece58"
             ],
             [
              0.8888888888888888,
              "#b5de2b"
             ],
             [
              1,
              "#fde725"
             ]
            ],
            "type": "contour"
           }
          ],
          "contourcarpet": [
           {
            "colorbar": {
             "outlinewidth": 1,
             "tickcolor": "rgb(36,36,36)",
             "ticks": "outside"
            },
            "type": "contourcarpet"
           }
          ],
          "heatmap": [
           {
            "colorbar": {
             "outlinewidth": 1,
             "tickcolor": "rgb(36,36,36)",
             "ticks": "outside"
            },
            "colorscale": [
             [
              0,
              "#440154"
             ],
             [
              0.1111111111111111,
              "#482878"
             ],
             [
              0.2222222222222222,
              "#3e4989"
             ],
             [
              0.3333333333333333,
              "#31688e"
             ],
             [
              0.4444444444444444,
              "#26828e"
             ],
             [
              0.5555555555555556,
              "#1f9e89"
             ],
             [
              0.6666666666666666,
              "#35b779"
             ],
             [
              0.7777777777777778,
              "#6ece58"
             ],
             [
              0.8888888888888888,
              "#b5de2b"
             ],
             [
              1,
              "#fde725"
             ]
            ],
            "type": "heatmap"
           }
          ],
          "heatmapgl": [
           {
            "colorbar": {
             "outlinewidth": 1,
             "tickcolor": "rgb(36,36,36)",
             "ticks": "outside"
            },
            "colorscale": [
             [
              0,
              "#440154"
             ],
             [
              0.1111111111111111,
              "#482878"
             ],
             [
              0.2222222222222222,
              "#3e4989"
             ],
             [
              0.3333333333333333,
              "#31688e"
             ],
             [
              0.4444444444444444,
              "#26828e"
             ],
             [
              0.5555555555555556,
              "#1f9e89"
             ],
             [
              0.6666666666666666,
              "#35b779"
             ],
             [
              0.7777777777777778,
              "#6ece58"
             ],
             [
              0.8888888888888888,
              "#b5de2b"
             ],
             [
              1,
              "#fde725"
             ]
            ],
            "type": "heatmapgl"
           }
          ],
          "histogram": [
           {
            "marker": {
             "line": {
              "color": "white",
              "width": 0.6
             }
            },
            "type": "histogram"
           }
          ],
          "histogram2d": [
           {
            "colorbar": {
             "outlinewidth": 1,
             "tickcolor": "rgb(36,36,36)",
             "ticks": "outside"
            },
            "colorscale": [
             [
              0,
              "#440154"
             ],
             [
              0.1111111111111111,
              "#482878"
             ],
             [
              0.2222222222222222,
              "#3e4989"
             ],
             [
              0.3333333333333333,
              "#31688e"
             ],
             [
              0.4444444444444444,
              "#26828e"
             ],
             [
              0.5555555555555556,
              "#1f9e89"
             ],
             [
              0.6666666666666666,
              "#35b779"
             ],
             [
              0.7777777777777778,
              "#6ece58"
             ],
             [
              0.8888888888888888,
              "#b5de2b"
             ],
             [
              1,
              "#fde725"
             ]
            ],
            "type": "histogram2d"
           }
          ],
          "histogram2dcontour": [
           {
            "colorbar": {
             "outlinewidth": 1,
             "tickcolor": "rgb(36,36,36)",
             "ticks": "outside"
            },
            "colorscale": [
             [
              0,
              "#440154"
             ],
             [
              0.1111111111111111,
              "#482878"
             ],
             [
              0.2222222222222222,
              "#3e4989"
             ],
             [
              0.3333333333333333,
              "#31688e"
             ],
             [
              0.4444444444444444,
              "#26828e"
             ],
             [
              0.5555555555555556,
              "#1f9e89"
             ],
             [
              0.6666666666666666,
              "#35b779"
             ],
             [
              0.7777777777777778,
              "#6ece58"
             ],
             [
              0.8888888888888888,
              "#b5de2b"
             ],
             [
              1,
              "#fde725"
             ]
            ],
            "type": "histogram2dcontour"
           }
          ],
          "mesh3d": [
           {
            "colorbar": {
             "outlinewidth": 1,
             "tickcolor": "rgb(36,36,36)",
             "ticks": "outside"
            },
            "type": "mesh3d"
           }
          ],
          "parcoords": [
           {
            "line": {
             "colorbar": {
              "outlinewidth": 1,
              "tickcolor": "rgb(36,36,36)",
              "ticks": "outside"
             }
            },
            "type": "parcoords"
           }
          ],
          "pie": [
           {
            "automargin": true,
            "type": "pie"
           }
          ],
          "scatter": [
           {
            "fillpattern": {
             "fillmode": "overlay",
             "size": 10,
             "solidity": 0.2
            },
            "type": "scatter"
           }
          ],
          "scatter3d": [
           {
            "line": {
             "colorbar": {
              "outlinewidth": 1,
              "tickcolor": "rgb(36,36,36)",
              "ticks": "outside"
             }
            },
            "marker": {
             "colorbar": {
              "outlinewidth": 1,
              "tickcolor": "rgb(36,36,36)",
              "ticks": "outside"
             }
            },
            "type": "scatter3d"
           }
          ],
          "scattercarpet": [
           {
            "marker": {
             "colorbar": {
              "outlinewidth": 1,
              "tickcolor": "rgb(36,36,36)",
              "ticks": "outside"
             }
            },
            "type": "scattercarpet"
           }
          ],
          "scattergeo": [
           {
            "marker": {
             "colorbar": {
              "outlinewidth": 1,
              "tickcolor": "rgb(36,36,36)",
              "ticks": "outside"
             }
            },
            "type": "scattergeo"
           }
          ],
          "scattergl": [
           {
            "marker": {
             "colorbar": {
              "outlinewidth": 1,
              "tickcolor": "rgb(36,36,36)",
              "ticks": "outside"
             }
            },
            "type": "scattergl"
           }
          ],
          "scattermapbox": [
           {
            "marker": {
             "colorbar": {
              "outlinewidth": 1,
              "tickcolor": "rgb(36,36,36)",
              "ticks": "outside"
             }
            },
            "type": "scattermapbox"
           }
          ],
          "scatterpolar": [
           {
            "marker": {
             "colorbar": {
              "outlinewidth": 1,
              "tickcolor": "rgb(36,36,36)",
              "ticks": "outside"
             }
            },
            "type": "scatterpolar"
           }
          ],
          "scatterpolargl": [
           {
            "marker": {
             "colorbar": {
              "outlinewidth": 1,
              "tickcolor": "rgb(36,36,36)",
              "ticks": "outside"
             }
            },
            "type": "scatterpolargl"
           }
          ],
          "scatterternary": [
           {
            "marker": {
             "colorbar": {
              "outlinewidth": 1,
              "tickcolor": "rgb(36,36,36)",
              "ticks": "outside"
             }
            },
            "type": "scatterternary"
           }
          ],
          "surface": [
           {
            "colorbar": {
             "outlinewidth": 1,
             "tickcolor": "rgb(36,36,36)",
             "ticks": "outside"
            },
            "colorscale": [
             [
              0,
              "#440154"
             ],
             [
              0.1111111111111111,
              "#482878"
             ],
             [
              0.2222222222222222,
              "#3e4989"
             ],
             [
              0.3333333333333333,
              "#31688e"
             ],
             [
              0.4444444444444444,
              "#26828e"
             ],
             [
              0.5555555555555556,
              "#1f9e89"
             ],
             [
              0.6666666666666666,
              "#35b779"
             ],
             [
              0.7777777777777778,
              "#6ece58"
             ],
             [
              0.8888888888888888,
              "#b5de2b"
             ],
             [
              1,
              "#fde725"
             ]
            ],
            "type": "surface"
           }
          ],
          "table": [
           {
            "cells": {
             "fill": {
              "color": "rgb(237,237,237)"
             },
             "line": {
              "color": "white"
             }
            },
            "header": {
             "fill": {
              "color": "rgb(217,217,217)"
             },
             "line": {
              "color": "white"
             }
            },
            "type": "table"
           }
          ]
         },
         "layout": {
          "annotationdefaults": {
           "arrowhead": 0,
           "arrowwidth": 1
          },
          "autotypenumbers": "strict",
          "coloraxis": {
           "colorbar": {
            "outlinewidth": 1,
            "tickcolor": "rgb(36,36,36)",
            "ticks": "outside"
           }
          },
          "colorscale": {
           "diverging": [
            [
             0,
             "rgb(103,0,31)"
            ],
            [
             0.1,
             "rgb(178,24,43)"
            ],
            [
             0.2,
             "rgb(214,96,77)"
            ],
            [
             0.3,
             "rgb(244,165,130)"
            ],
            [
             0.4,
             "rgb(253,219,199)"
            ],
            [
             0.5,
             "rgb(247,247,247)"
            ],
            [
             0.6,
             "rgb(209,229,240)"
            ],
            [
             0.7,
             "rgb(146,197,222)"
            ],
            [
             0.8,
             "rgb(67,147,195)"
            ],
            [
             0.9,
             "rgb(33,102,172)"
            ],
            [
             1,
             "rgb(5,48,97)"
            ]
           ],
           "sequential": [
            [
             0,
             "#440154"
            ],
            [
             0.1111111111111111,
             "#482878"
            ],
            [
             0.2222222222222222,
             "#3e4989"
            ],
            [
             0.3333333333333333,
             "#31688e"
            ],
            [
             0.4444444444444444,
             "#26828e"
            ],
            [
             0.5555555555555556,
             "#1f9e89"
            ],
            [
             0.6666666666666666,
             "#35b779"
            ],
            [
             0.7777777777777778,
             "#6ece58"
            ],
            [
             0.8888888888888888,
             "#b5de2b"
            ],
            [
             1,
             "#fde725"
            ]
           ],
           "sequentialminus": [
            [
             0,
             "#440154"
            ],
            [
             0.1111111111111111,
             "#482878"
            ],
            [
             0.2222222222222222,
             "#3e4989"
            ],
            [
             0.3333333333333333,
             "#31688e"
            ],
            [
             0.4444444444444444,
             "#26828e"
            ],
            [
             0.5555555555555556,
             "#1f9e89"
            ],
            [
             0.6666666666666666,
             "#35b779"
            ],
            [
             0.7777777777777778,
             "#6ece58"
            ],
            [
             0.8888888888888888,
             "#b5de2b"
            ],
            [
             1,
             "#fde725"
            ]
           ]
          },
          "colorway": [
           "#1F77B4",
           "#FF7F0E",
           "#2CA02C",
           "#D62728",
           "#9467BD",
           "#8C564B",
           "#E377C2",
           "#7F7F7F",
           "#BCBD22",
           "#17BECF"
          ],
          "font": {
           "color": "rgb(36,36,36)"
          },
          "geo": {
           "bgcolor": "white",
           "lakecolor": "white",
           "landcolor": "white",
           "showlakes": true,
           "showland": true,
           "subunitcolor": "white"
          },
          "hoverlabel": {
           "align": "left"
          },
          "hovermode": "closest",
          "mapbox": {
           "style": "light"
          },
          "paper_bgcolor": "white",
          "plot_bgcolor": "white",
          "polar": {
           "angularaxis": {
            "gridcolor": "rgb(232,232,232)",
            "linecolor": "rgb(36,36,36)",
            "showgrid": false,
            "showline": true,
            "ticks": "outside"
           },
           "bgcolor": "white",
           "radialaxis": {
            "gridcolor": "rgb(232,232,232)",
            "linecolor": "rgb(36,36,36)",
            "showgrid": false,
            "showline": true,
            "ticks": "outside"
           }
          },
          "scene": {
           "xaxis": {
            "backgroundcolor": "white",
            "gridcolor": "rgb(232,232,232)",
            "gridwidth": 2,
            "linecolor": "rgb(36,36,36)",
            "showbackground": true,
            "showgrid": false,
            "showline": true,
            "ticks": "outside",
            "zeroline": false,
            "zerolinecolor": "rgb(36,36,36)"
           },
           "yaxis": {
            "backgroundcolor": "white",
            "gridcolor": "rgb(232,232,232)",
            "gridwidth": 2,
            "linecolor": "rgb(36,36,36)",
            "showbackground": true,
            "showgrid": false,
            "showline": true,
            "ticks": "outside",
            "zeroline": false,
            "zerolinecolor": "rgb(36,36,36)"
           },
           "zaxis": {
            "backgroundcolor": "white",
            "gridcolor": "rgb(232,232,232)",
            "gridwidth": 2,
            "linecolor": "rgb(36,36,36)",
            "showbackground": true,
            "showgrid": false,
            "showline": true,
            "ticks": "outside",
            "zeroline": false,
            "zerolinecolor": "rgb(36,36,36)"
           }
          },
          "shapedefaults": {
           "fillcolor": "black",
           "line": {
            "width": 0
           },
           "opacity": 0.3
          },
          "ternary": {
           "aaxis": {
            "gridcolor": "rgb(232,232,232)",
            "linecolor": "rgb(36,36,36)",
            "showgrid": false,
            "showline": true,
            "ticks": "outside"
           },
           "baxis": {
            "gridcolor": "rgb(232,232,232)",
            "linecolor": "rgb(36,36,36)",
            "showgrid": false,
            "showline": true,
            "ticks": "outside"
           },
           "bgcolor": "white",
           "caxis": {
            "gridcolor": "rgb(232,232,232)",
            "linecolor": "rgb(36,36,36)",
            "showgrid": false,
            "showline": true,
            "ticks": "outside"
           }
          },
          "title": {
           "x": 0.05
          },
          "xaxis": {
           "automargin": true,
           "gridcolor": "rgb(232,232,232)",
           "linecolor": "rgb(36,36,36)",
           "showgrid": false,
           "showline": true,
           "ticks": "outside",
           "title": {
            "standoff": 15
           },
           "zeroline": false,
           "zerolinecolor": "rgb(36,36,36)"
          },
          "yaxis": {
           "automargin": true,
           "gridcolor": "rgb(232,232,232)",
           "linecolor": "rgb(36,36,36)",
           "showgrid": false,
           "showline": true,
           "ticks": "outside",
           "title": {
            "standoff": 15
           },
           "zeroline": false,
           "zerolinecolor": "rgb(36,36,36)"
          }
         }
        },
        "title": {
         "font": {
          "color": "Black",
          "size": 22
         },
         "text": "<b>Intertopic Distance Map</b>",
         "x": 0.5,
         "xanchor": "center",
         "y": 0.95,
         "yanchor": "top"
        },
        "width": 650,
        "xaxis": {
         "anchor": "y",
         "domain": [
          0,
          1
         ],
         "range": [
          7.639610242843628,
          20.989171409606932
         ],
         "title": {
          "text": ""
         },
         "visible": false
        },
        "yaxis": {
         "anchor": "x",
         "domain": [
          0,
          1
         ],
         "range": [
          -12.70571584701538,
          11.30048041343689
         ],
         "title": {
          "text": ""
         },
         "visible": false
        }
       }
      },
      "text/html": [
       "<div>                            <div id=\"c8c59446-ade7-476e-bc27-92e0b94311c5\" class=\"plotly-graph-div\" style=\"height:650px; width:650px;\"></div>            <script type=\"text/javascript\">                require([\"plotly\"], function(Plotly) {                    window.PLOTLYENV=window.PLOTLYENV || {};                                    if (document.getElementById(\"c8c59446-ade7-476e-bc27-92e0b94311c5\")) {                    Plotly.newPlot(                        \"c8c59446-ade7-476e-bc27-92e0b94311c5\",                        [{\"customdata\":[[0,\"zdravil | hvala | zdravstva | storitev | sistem\",3438],[1,\"sem | potem | tem | danes | samo\",1209],[2,\"19 | epidemijo | cepljenje | vlada | \\u0161irjenja\",562],[3,\"\\u0161ole | potrebami | posebnimi | otroci | dru\\u017eine\",390],[4,\"evropske | unije | tem | bo | dr\\u017eave\",379],[5,\"evrov | rast | milijonov | 2007 | bo\",337],[6,\"bo | sloveniji | stranke | so | gre\",328],[7,\"milijonov | letu | evrov | rast | rebalans\",246],[8,\"zapora | referendum | sankcij | sodnikov | dr\\u017eavni\",208],[9,\"poro\\u010dilu | pravice | opozarja | priporo\\u010dila | peticije\",188],[10,\"evrov | pokojninskem | pla\\u010de | minimalne | zakona\",182],[11,\"izpostavljenosti | obolelih | proizvodnje | prahu | od\\u0161kodnin\",145],[12,\"\\u010debele | \\u017eivali | fitofarmacevtskih | vino | hrane\",130],[13,\"korupcije | zdravstvu | prepre\\u010devanje | komisije | javnih\",112],[14,\"pla\\u010de | dodano | davkov | vrednost | evrov\",109],[15,\"dolgotrajne | pokojninske | domu | 65 | invalidsko\",108],[16,\"vojske | pripadnikov | 780 | oro\\u017eje | slovenski\",91],[17,\"ministra | vlade | gospod | kandidatka | boste\",78],[18,\"psov | veterinarstvu | spri\\u010devala | bolezni | ku\\u017enih\",77],[19,\"gasilcev | gasilske | za\\u0161\\u010dite | nesre\\u010dami | operativne\",77],[20,\"pitne | voda | promet | sloveniji | izgradnje\",69],[21,\"prometu | nesre\\u010d | dovoljenja | varnosti | voznikih\",68],[22,\"anhovo | dolini | prostor | cementarne | benzen\",64],[23,\"toba\\u010dnih | tro\\u0161arin | embala\\u017ee | vina | dima\",58],[24,\"kislin | ma\\u0161\\u010dobe | prehranskih | ustreznosti | transma\\u0161\\u010dob\",57],[25,\"ob\\u010danov | domovi | pokojnine | upokojencev | dolgotrajno\",56],[26,\"sindikatov | brezposelnosti | zakona | \\u0161tudentov | delovnih\",56],[27,\"davkov | evrov | kapitala | olaj\\u0161ava | pla\\u010de\",56],[28,\"odsotnost | izpla\\u010duje | po\\u0161kodb | bolni\\u0161ke | zavarovanje\",52],[29,\"ob\\u010dine | ustanovitev | pokrajine | samouprave | koro\\u0161ka\",51]],\"hovertemplate\":\"<b>Topic %{customdata[0]}</b><br>%{customdata[1]}<br>Size: %{customdata[2]}\",\"legendgroup\":\"\",\"marker\":{\"color\":\"#B0BEC5\",\"size\":[3438,1209,562,390,379,337,328,246,208,188,182,145,130,112,109,108,91,78,77,77,69,68,64,58,57,56,56,56,52,51],\"sizemode\":\"area\",\"sizeref\":2.14875,\"symbol\":\"circle\",\"line\":{\"color\":\"DarkSlateGrey\",\"width\":2}},\"mode\":\"markers\",\"name\":\"\",\"orientation\":\"v\",\"showlegend\":false,\"x\":[11.443933486938477,11.67400074005127,12.120089530944824,12.134359359741211,11.888679504394531,10.2816743850708,11.249532699584961,10.885978698730469,11.420692443847656,11.682821273803711,17.37128448486328,17.540882110595703,9.576476097106934,11.831134796142578,17.878421783447266,16.0358829498291,10.846712112426758,11.221983909606934,9.580451011657715,18.03805160522461,9.07288932800293,17.973743438720703,8.987776756286621,18.251453399658203,9.781832695007324,15.793191909790039,16.95077896118164,18.012468338012695,16.763301849365234,17.340312957763672],\"xaxis\":\"x\",\"y\":[-1.6245547533035278,-1.779757022857666,-1.5795692205429077,-1.9526019096374512,-1.200158953666687,9.015365600585938,0.21661706268787384,9.281094551086426,-0.1673903614282608,0.5538316965103149,-9.770544052124023,-9.91989517211914,8.961852073669434,0.6548132300376892,-10.486995697021484,-10.843722343444824,9.211274147033691,0.01145119033753872,9.385775566101074,-9.510103225708008,9.686651229858398,-9.327459335327148,9.826504707336426,-10.843177795410156,9.116482734680176,-11.04844856262207,-9.70933723449707,-10.6823091506958,-9.647445678710938,-10.211121559143066],\"yaxis\":\"y\",\"type\":\"scatter\"}],                        {\"template\":{\"data\":{\"barpolar\":[{\"marker\":{\"line\":{\"color\":\"white\",\"width\":0.5},\"pattern\":{\"fillmode\":\"overlay\",\"size\":10,\"solidity\":0.2}},\"type\":\"barpolar\"}],\"bar\":[{\"error_x\":{\"color\":\"rgb(36,36,36)\"},\"error_y\":{\"color\":\"rgb(36,36,36)\"},\"marker\":{\"line\":{\"color\":\"white\",\"width\":0.5},\"pattern\":{\"fillmode\":\"overlay\",\"size\":10,\"solidity\":0.2}},\"type\":\"bar\"}],\"carpet\":[{\"aaxis\":{\"endlinecolor\":\"rgb(36,36,36)\",\"gridcolor\":\"white\",\"linecolor\":\"white\",\"minorgridcolor\":\"white\",\"startlinecolor\":\"rgb(36,36,36)\"},\"baxis\":{\"endlinecolor\":\"rgb(36,36,36)\",\"gridcolor\":\"white\",\"linecolor\":\"white\",\"minorgridcolor\":\"white\",\"startlinecolor\":\"rgb(36,36,36)\"},\"type\":\"carpet\"}],\"choropleth\":[{\"colorbar\":{\"outlinewidth\":1,\"tickcolor\":\"rgb(36,36,36)\",\"ticks\":\"outside\"},\"type\":\"choropleth\"}],\"contourcarpet\":[{\"colorbar\":{\"outlinewidth\":1,\"tickcolor\":\"rgb(36,36,36)\",\"ticks\":\"outside\"},\"type\":\"contourcarpet\"}],\"contour\":[{\"colorbar\":{\"outlinewidth\":1,\"tickcolor\":\"rgb(36,36,36)\",\"ticks\":\"outside\"},\"colorscale\":[[0.0,\"#440154\"],[0.1111111111111111,\"#482878\"],[0.2222222222222222,\"#3e4989\"],[0.3333333333333333,\"#31688e\"],[0.4444444444444444,\"#26828e\"],[0.5555555555555556,\"#1f9e89\"],[0.6666666666666666,\"#35b779\"],[0.7777777777777778,\"#6ece58\"],[0.8888888888888888,\"#b5de2b\"],[1.0,\"#fde725\"]],\"type\":\"contour\"}],\"heatmapgl\":[{\"colorbar\":{\"outlinewidth\":1,\"tickcolor\":\"rgb(36,36,36)\",\"ticks\":\"outside\"},\"colorscale\":[[0.0,\"#440154\"],[0.1111111111111111,\"#482878\"],[0.2222222222222222,\"#3e4989\"],[0.3333333333333333,\"#31688e\"],[0.4444444444444444,\"#26828e\"],[0.5555555555555556,\"#1f9e89\"],[0.6666666666666666,\"#35b779\"],[0.7777777777777778,\"#6ece58\"],[0.8888888888888888,\"#b5de2b\"],[1.0,\"#fde725\"]],\"type\":\"heatmapgl\"}],\"heatmap\":[{\"colorbar\":{\"outlinewidth\":1,\"tickcolor\":\"rgb(36,36,36)\",\"ticks\":\"outside\"},\"colorscale\":[[0.0,\"#440154\"],[0.1111111111111111,\"#482878\"],[0.2222222222222222,\"#3e4989\"],[0.3333333333333333,\"#31688e\"],[0.4444444444444444,\"#26828e\"],[0.5555555555555556,\"#1f9e89\"],[0.6666666666666666,\"#35b779\"],[0.7777777777777778,\"#6ece58\"],[0.8888888888888888,\"#b5de2b\"],[1.0,\"#fde725\"]],\"type\":\"heatmap\"}],\"histogram2dcontour\":[{\"colorbar\":{\"outlinewidth\":1,\"tickcolor\":\"rgb(36,36,36)\",\"ticks\":\"outside\"},\"colorscale\":[[0.0,\"#440154\"],[0.1111111111111111,\"#482878\"],[0.2222222222222222,\"#3e4989\"],[0.3333333333333333,\"#31688e\"],[0.4444444444444444,\"#26828e\"],[0.5555555555555556,\"#1f9e89\"],[0.6666666666666666,\"#35b779\"],[0.7777777777777778,\"#6ece58\"],[0.8888888888888888,\"#b5de2b\"],[1.0,\"#fde725\"]],\"type\":\"histogram2dcontour\"}],\"histogram2d\":[{\"colorbar\":{\"outlinewidth\":1,\"tickcolor\":\"rgb(36,36,36)\",\"ticks\":\"outside\"},\"colorscale\":[[0.0,\"#440154\"],[0.1111111111111111,\"#482878\"],[0.2222222222222222,\"#3e4989\"],[0.3333333333333333,\"#31688e\"],[0.4444444444444444,\"#26828e\"],[0.5555555555555556,\"#1f9e89\"],[0.6666666666666666,\"#35b779\"],[0.7777777777777778,\"#6ece58\"],[0.8888888888888888,\"#b5de2b\"],[1.0,\"#fde725\"]],\"type\":\"histogram2d\"}],\"histogram\":[{\"marker\":{\"line\":{\"color\":\"white\",\"width\":0.6}},\"type\":\"histogram\"}],\"mesh3d\":[{\"colorbar\":{\"outlinewidth\":1,\"tickcolor\":\"rgb(36,36,36)\",\"ticks\":\"outside\"},\"type\":\"mesh3d\"}],\"parcoords\":[{\"line\":{\"colorbar\":{\"outlinewidth\":1,\"tickcolor\":\"rgb(36,36,36)\",\"ticks\":\"outside\"}},\"type\":\"parcoords\"}],\"pie\":[{\"automargin\":true,\"type\":\"pie\"}],\"scatter3d\":[{\"line\":{\"colorbar\":{\"outlinewidth\":1,\"tickcolor\":\"rgb(36,36,36)\",\"ticks\":\"outside\"}},\"marker\":{\"colorbar\":{\"outlinewidth\":1,\"tickcolor\":\"rgb(36,36,36)\",\"ticks\":\"outside\"}},\"type\":\"scatter3d\"}],\"scattercarpet\":[{\"marker\":{\"colorbar\":{\"outlinewidth\":1,\"tickcolor\":\"rgb(36,36,36)\",\"ticks\":\"outside\"}},\"type\":\"scattercarpet\"}],\"scattergeo\":[{\"marker\":{\"colorbar\":{\"outlinewidth\":1,\"tickcolor\":\"rgb(36,36,36)\",\"ticks\":\"outside\"}},\"type\":\"scattergeo\"}],\"scattergl\":[{\"marker\":{\"colorbar\":{\"outlinewidth\":1,\"tickcolor\":\"rgb(36,36,36)\",\"ticks\":\"outside\"}},\"type\":\"scattergl\"}],\"scattermapbox\":[{\"marker\":{\"colorbar\":{\"outlinewidth\":1,\"tickcolor\":\"rgb(36,36,36)\",\"ticks\":\"outside\"}},\"type\":\"scattermapbox\"}],\"scatterpolargl\":[{\"marker\":{\"colorbar\":{\"outlinewidth\":1,\"tickcolor\":\"rgb(36,36,36)\",\"ticks\":\"outside\"}},\"type\":\"scatterpolargl\"}],\"scatterpolar\":[{\"marker\":{\"colorbar\":{\"outlinewidth\":1,\"tickcolor\":\"rgb(36,36,36)\",\"ticks\":\"outside\"}},\"type\":\"scatterpolar\"}],\"scatter\":[{\"fillpattern\":{\"fillmode\":\"overlay\",\"size\":10,\"solidity\":0.2},\"type\":\"scatter\"}],\"scatterternary\":[{\"marker\":{\"colorbar\":{\"outlinewidth\":1,\"tickcolor\":\"rgb(36,36,36)\",\"ticks\":\"outside\"}},\"type\":\"scatterternary\"}],\"surface\":[{\"colorbar\":{\"outlinewidth\":1,\"tickcolor\":\"rgb(36,36,36)\",\"ticks\":\"outside\"},\"colorscale\":[[0.0,\"#440154\"],[0.1111111111111111,\"#482878\"],[0.2222222222222222,\"#3e4989\"],[0.3333333333333333,\"#31688e\"],[0.4444444444444444,\"#26828e\"],[0.5555555555555556,\"#1f9e89\"],[0.6666666666666666,\"#35b779\"],[0.7777777777777778,\"#6ece58\"],[0.8888888888888888,\"#b5de2b\"],[1.0,\"#fde725\"]],\"type\":\"surface\"}],\"table\":[{\"cells\":{\"fill\":{\"color\":\"rgb(237,237,237)\"},\"line\":{\"color\":\"white\"}},\"header\":{\"fill\":{\"color\":\"rgb(217,217,217)\"},\"line\":{\"color\":\"white\"}},\"type\":\"table\"}]},\"layout\":{\"annotationdefaults\":{\"arrowhead\":0,\"arrowwidth\":1},\"autotypenumbers\":\"strict\",\"coloraxis\":{\"colorbar\":{\"outlinewidth\":1,\"tickcolor\":\"rgb(36,36,36)\",\"ticks\":\"outside\"}},\"colorscale\":{\"diverging\":[[0.0,\"rgb(103,0,31)\"],[0.1,\"rgb(178,24,43)\"],[0.2,\"rgb(214,96,77)\"],[0.3,\"rgb(244,165,130)\"],[0.4,\"rgb(253,219,199)\"],[0.5,\"rgb(247,247,247)\"],[0.6,\"rgb(209,229,240)\"],[0.7,\"rgb(146,197,222)\"],[0.8,\"rgb(67,147,195)\"],[0.9,\"rgb(33,102,172)\"],[1.0,\"rgb(5,48,97)\"]],\"sequential\":[[0.0,\"#440154\"],[0.1111111111111111,\"#482878\"],[0.2222222222222222,\"#3e4989\"],[0.3333333333333333,\"#31688e\"],[0.4444444444444444,\"#26828e\"],[0.5555555555555556,\"#1f9e89\"],[0.6666666666666666,\"#35b779\"],[0.7777777777777778,\"#6ece58\"],[0.8888888888888888,\"#b5de2b\"],[1.0,\"#fde725\"]],\"sequentialminus\":[[0.0,\"#440154\"],[0.1111111111111111,\"#482878\"],[0.2222222222222222,\"#3e4989\"],[0.3333333333333333,\"#31688e\"],[0.4444444444444444,\"#26828e\"],[0.5555555555555556,\"#1f9e89\"],[0.6666666666666666,\"#35b779\"],[0.7777777777777778,\"#6ece58\"],[0.8888888888888888,\"#b5de2b\"],[1.0,\"#fde725\"]]},\"colorway\":[\"#1F77B4\",\"#FF7F0E\",\"#2CA02C\",\"#D62728\",\"#9467BD\",\"#8C564B\",\"#E377C2\",\"#7F7F7F\",\"#BCBD22\",\"#17BECF\"],\"font\":{\"color\":\"rgb(36,36,36)\"},\"geo\":{\"bgcolor\":\"white\",\"lakecolor\":\"white\",\"landcolor\":\"white\",\"showlakes\":true,\"showland\":true,\"subunitcolor\":\"white\"},\"hoverlabel\":{\"align\":\"left\"},\"hovermode\":\"closest\",\"mapbox\":{\"style\":\"light\"},\"paper_bgcolor\":\"white\",\"plot_bgcolor\":\"white\",\"polar\":{\"angularaxis\":{\"gridcolor\":\"rgb(232,232,232)\",\"linecolor\":\"rgb(36,36,36)\",\"showgrid\":false,\"showline\":true,\"ticks\":\"outside\"},\"bgcolor\":\"white\",\"radialaxis\":{\"gridcolor\":\"rgb(232,232,232)\",\"linecolor\":\"rgb(36,36,36)\",\"showgrid\":false,\"showline\":true,\"ticks\":\"outside\"}},\"scene\":{\"xaxis\":{\"backgroundcolor\":\"white\",\"gridcolor\":\"rgb(232,232,232)\",\"gridwidth\":2,\"linecolor\":\"rgb(36,36,36)\",\"showbackground\":true,\"showgrid\":false,\"showline\":true,\"ticks\":\"outside\",\"zeroline\":false,\"zerolinecolor\":\"rgb(36,36,36)\"},\"yaxis\":{\"backgroundcolor\":\"white\",\"gridcolor\":\"rgb(232,232,232)\",\"gridwidth\":2,\"linecolor\":\"rgb(36,36,36)\",\"showbackground\":true,\"showgrid\":false,\"showline\":true,\"ticks\":\"outside\",\"zeroline\":false,\"zerolinecolor\":\"rgb(36,36,36)\"},\"zaxis\":{\"backgroundcolor\":\"white\",\"gridcolor\":\"rgb(232,232,232)\",\"gridwidth\":2,\"linecolor\":\"rgb(36,36,36)\",\"showbackground\":true,\"showgrid\":false,\"showline\":true,\"ticks\":\"outside\",\"zeroline\":false,\"zerolinecolor\":\"rgb(36,36,36)\"}},\"shapedefaults\":{\"fillcolor\":\"black\",\"line\":{\"width\":0},\"opacity\":0.3},\"ternary\":{\"aaxis\":{\"gridcolor\":\"rgb(232,232,232)\",\"linecolor\":\"rgb(36,36,36)\",\"showgrid\":false,\"showline\":true,\"ticks\":\"outside\"},\"baxis\":{\"gridcolor\":\"rgb(232,232,232)\",\"linecolor\":\"rgb(36,36,36)\",\"showgrid\":false,\"showline\":true,\"ticks\":\"outside\"},\"bgcolor\":\"white\",\"caxis\":{\"gridcolor\":\"rgb(232,232,232)\",\"linecolor\":\"rgb(36,36,36)\",\"showgrid\":false,\"showline\":true,\"ticks\":\"outside\"}},\"title\":{\"x\":0.05},\"xaxis\":{\"automargin\":true,\"gridcolor\":\"rgb(232,232,232)\",\"linecolor\":\"rgb(36,36,36)\",\"showgrid\":false,\"showline\":true,\"ticks\":\"outside\",\"title\":{\"standoff\":15},\"zeroline\":false,\"zerolinecolor\":\"rgb(36,36,36)\"},\"yaxis\":{\"automargin\":true,\"gridcolor\":\"rgb(232,232,232)\",\"linecolor\":\"rgb(36,36,36)\",\"showgrid\":false,\"showline\":true,\"ticks\":\"outside\",\"title\":{\"standoff\":15},\"zeroline\":false,\"zerolinecolor\":\"rgb(36,36,36)\"}}},\"xaxis\":{\"anchor\":\"y\",\"domain\":[0.0,1.0],\"title\":{\"text\":\"\"},\"visible\":false,\"range\":[7.639610242843628,20.989171409606932]},\"yaxis\":{\"anchor\":\"x\",\"domain\":[0.0,1.0],\"title\":{\"text\":\"\"},\"visible\":false,\"range\":[-12.70571584701538,11.30048041343689]},\"legend\":{\"tracegroupgap\":0,\"itemsizing\":\"constant\"},\"margin\":{\"t\":60},\"title\":{\"font\":{\"size\":22,\"color\":\"Black\"},\"text\":\"<b>Intertopic Distance Map</b>\",\"y\":0.95,\"x\":0.5,\"xanchor\":\"center\",\"yanchor\":\"top\"},\"hoverlabel\":{\"font\":{\"size\":16,\"family\":\"Rockwell\"},\"bgcolor\":\"white\"},\"width\":650,\"height\":650,\"sliders\":[{\"active\":0,\"pad\":{\"t\":50},\"steps\":[{\"args\":[{\"marker.color\":[[\"red\",\"#B0BEC5\",\"#B0BEC5\",\"#B0BEC5\",\"#B0BEC5\",\"#B0BEC5\",\"#B0BEC5\",\"#B0BEC5\",\"#B0BEC5\",\"#B0BEC5\",\"#B0BEC5\",\"#B0BEC5\",\"#B0BEC5\",\"#B0BEC5\",\"#B0BEC5\",\"#B0BEC5\",\"#B0BEC5\",\"#B0BEC5\",\"#B0BEC5\",\"#B0BEC5\",\"#B0BEC5\",\"#B0BEC5\",\"#B0BEC5\",\"#B0BEC5\",\"#B0BEC5\",\"#B0BEC5\",\"#B0BEC5\",\"#B0BEC5\",\"#B0BEC5\",\"#B0BEC5\"]]}],\"label\":\"Topic 0\",\"method\":\"update\"},{\"args\":[{\"marker.color\":[[\"#B0BEC5\",\"red\",\"#B0BEC5\",\"#B0BEC5\",\"#B0BEC5\",\"#B0BEC5\",\"#B0BEC5\",\"#B0BEC5\",\"#B0BEC5\",\"#B0BEC5\",\"#B0BEC5\",\"#B0BEC5\",\"#B0BEC5\",\"#B0BEC5\",\"#B0BEC5\",\"#B0BEC5\",\"#B0BEC5\",\"#B0BEC5\",\"#B0BEC5\",\"#B0BEC5\",\"#B0BEC5\",\"#B0BEC5\",\"#B0BEC5\",\"#B0BEC5\",\"#B0BEC5\",\"#B0BEC5\",\"#B0BEC5\",\"#B0BEC5\",\"#B0BEC5\",\"#B0BEC5\"]]}],\"label\":\"Topic 1\",\"method\":\"update\"},{\"args\":[{\"marker.color\":[[\"#B0BEC5\",\"#B0BEC5\",\"red\",\"#B0BEC5\",\"#B0BEC5\",\"#B0BEC5\",\"#B0BEC5\",\"#B0BEC5\",\"#B0BEC5\",\"#B0BEC5\",\"#B0BEC5\",\"#B0BEC5\",\"#B0BEC5\",\"#B0BEC5\",\"#B0BEC5\",\"#B0BEC5\",\"#B0BEC5\",\"#B0BEC5\",\"#B0BEC5\",\"#B0BEC5\",\"#B0BEC5\",\"#B0BEC5\",\"#B0BEC5\",\"#B0BEC5\",\"#B0BEC5\",\"#B0BEC5\",\"#B0BEC5\",\"#B0BEC5\",\"#B0BEC5\",\"#B0BEC5\"]]}],\"label\":\"Topic 2\",\"method\":\"update\"},{\"args\":[{\"marker.color\":[[\"#B0BEC5\",\"#B0BEC5\",\"#B0BEC5\",\"red\",\"#B0BEC5\",\"#B0BEC5\",\"#B0BEC5\",\"#B0BEC5\",\"#B0BEC5\",\"#B0BEC5\",\"#B0BEC5\",\"#B0BEC5\",\"#B0BEC5\",\"#B0BEC5\",\"#B0BEC5\",\"#B0BEC5\",\"#B0BEC5\",\"#B0BEC5\",\"#B0BEC5\",\"#B0BEC5\",\"#B0BEC5\",\"#B0BEC5\",\"#B0BEC5\",\"#B0BEC5\",\"#B0BEC5\",\"#B0BEC5\",\"#B0BEC5\",\"#B0BEC5\",\"#B0BEC5\",\"#B0BEC5\"]]}],\"label\":\"Topic 3\",\"method\":\"update\"},{\"args\":[{\"marker.color\":[[\"#B0BEC5\",\"#B0BEC5\",\"#B0BEC5\",\"#B0BEC5\",\"red\",\"#B0BEC5\",\"#B0BEC5\",\"#B0BEC5\",\"#B0BEC5\",\"#B0BEC5\",\"#B0BEC5\",\"#B0BEC5\",\"#B0BEC5\",\"#B0BEC5\",\"#B0BEC5\",\"#B0BEC5\",\"#B0BEC5\",\"#B0BEC5\",\"#B0BEC5\",\"#B0BEC5\",\"#B0BEC5\",\"#B0BEC5\",\"#B0BEC5\",\"#B0BEC5\",\"#B0BEC5\",\"#B0BEC5\",\"#B0BEC5\",\"#B0BEC5\",\"#B0BEC5\",\"#B0BEC5\"]]}],\"label\":\"Topic 4\",\"method\":\"update\"},{\"args\":[{\"marker.color\":[[\"#B0BEC5\",\"#B0BEC5\",\"#B0BEC5\",\"#B0BEC5\",\"#B0BEC5\",\"red\",\"#B0BEC5\",\"#B0BEC5\",\"#B0BEC5\",\"#B0BEC5\",\"#B0BEC5\",\"#B0BEC5\",\"#B0BEC5\",\"#B0BEC5\",\"#B0BEC5\",\"#B0BEC5\",\"#B0BEC5\",\"#B0BEC5\",\"#B0BEC5\",\"#B0BEC5\",\"#B0BEC5\",\"#B0BEC5\",\"#B0BEC5\",\"#B0BEC5\",\"#B0BEC5\",\"#B0BEC5\",\"#B0BEC5\",\"#B0BEC5\",\"#B0BEC5\",\"#B0BEC5\"]]}],\"label\":\"Topic 5\",\"method\":\"update\"},{\"args\":[{\"marker.color\":[[\"#B0BEC5\",\"#B0BEC5\",\"#B0BEC5\",\"#B0BEC5\",\"#B0BEC5\",\"#B0BEC5\",\"red\",\"#B0BEC5\",\"#B0BEC5\",\"#B0BEC5\",\"#B0BEC5\",\"#B0BEC5\",\"#B0BEC5\",\"#B0BEC5\",\"#B0BEC5\",\"#B0BEC5\",\"#B0BEC5\",\"#B0BEC5\",\"#B0BEC5\",\"#B0BEC5\",\"#B0BEC5\",\"#B0BEC5\",\"#B0BEC5\",\"#B0BEC5\",\"#B0BEC5\",\"#B0BEC5\",\"#B0BEC5\",\"#B0BEC5\",\"#B0BEC5\",\"#B0BEC5\"]]}],\"label\":\"Topic 6\",\"method\":\"update\"},{\"args\":[{\"marker.color\":[[\"#B0BEC5\",\"#B0BEC5\",\"#B0BEC5\",\"#B0BEC5\",\"#B0BEC5\",\"#B0BEC5\",\"#B0BEC5\",\"red\",\"#B0BEC5\",\"#B0BEC5\",\"#B0BEC5\",\"#B0BEC5\",\"#B0BEC5\",\"#B0BEC5\",\"#B0BEC5\",\"#B0BEC5\",\"#B0BEC5\",\"#B0BEC5\",\"#B0BEC5\",\"#B0BEC5\",\"#B0BEC5\",\"#B0BEC5\",\"#B0BEC5\",\"#B0BEC5\",\"#B0BEC5\",\"#B0BEC5\",\"#B0BEC5\",\"#B0BEC5\",\"#B0BEC5\",\"#B0BEC5\"]]}],\"label\":\"Topic 7\",\"method\":\"update\"},{\"args\":[{\"marker.color\":[[\"#B0BEC5\",\"#B0BEC5\",\"#B0BEC5\",\"#B0BEC5\",\"#B0BEC5\",\"#B0BEC5\",\"#B0BEC5\",\"#B0BEC5\",\"red\",\"#B0BEC5\",\"#B0BEC5\",\"#B0BEC5\",\"#B0BEC5\",\"#B0BEC5\",\"#B0BEC5\",\"#B0BEC5\",\"#B0BEC5\",\"#B0BEC5\",\"#B0BEC5\",\"#B0BEC5\",\"#B0BEC5\",\"#B0BEC5\",\"#B0BEC5\",\"#B0BEC5\",\"#B0BEC5\",\"#B0BEC5\",\"#B0BEC5\",\"#B0BEC5\",\"#B0BEC5\",\"#B0BEC5\"]]}],\"label\":\"Topic 8\",\"method\":\"update\"},{\"args\":[{\"marker.color\":[[\"#B0BEC5\",\"#B0BEC5\",\"#B0BEC5\",\"#B0BEC5\",\"#B0BEC5\",\"#B0BEC5\",\"#B0BEC5\",\"#B0BEC5\",\"#B0BEC5\",\"red\",\"#B0BEC5\",\"#B0BEC5\",\"#B0BEC5\",\"#B0BEC5\",\"#B0BEC5\",\"#B0BEC5\",\"#B0BEC5\",\"#B0BEC5\",\"#B0BEC5\",\"#B0BEC5\",\"#B0BEC5\",\"#B0BEC5\",\"#B0BEC5\",\"#B0BEC5\",\"#B0BEC5\",\"#B0BEC5\",\"#B0BEC5\",\"#B0BEC5\",\"#B0BEC5\",\"#B0BEC5\"]]}],\"label\":\"Topic 9\",\"method\":\"update\"},{\"args\":[{\"marker.color\":[[\"#B0BEC5\",\"#B0BEC5\",\"#B0BEC5\",\"#B0BEC5\",\"#B0BEC5\",\"#B0BEC5\",\"#B0BEC5\",\"#B0BEC5\",\"#B0BEC5\",\"#B0BEC5\",\"red\",\"#B0BEC5\",\"#B0BEC5\",\"#B0BEC5\",\"#B0BEC5\",\"#B0BEC5\",\"#B0BEC5\",\"#B0BEC5\",\"#B0BEC5\",\"#B0BEC5\",\"#B0BEC5\",\"#B0BEC5\",\"#B0BEC5\",\"#B0BEC5\",\"#B0BEC5\",\"#B0BEC5\",\"#B0BEC5\",\"#B0BEC5\",\"#B0BEC5\",\"#B0BEC5\"]]}],\"label\":\"Topic 10\",\"method\":\"update\"},{\"args\":[{\"marker.color\":[[\"#B0BEC5\",\"#B0BEC5\",\"#B0BEC5\",\"#B0BEC5\",\"#B0BEC5\",\"#B0BEC5\",\"#B0BEC5\",\"#B0BEC5\",\"#B0BEC5\",\"#B0BEC5\",\"#B0BEC5\",\"red\",\"#B0BEC5\",\"#B0BEC5\",\"#B0BEC5\",\"#B0BEC5\",\"#B0BEC5\",\"#B0BEC5\",\"#B0BEC5\",\"#B0BEC5\",\"#B0BEC5\",\"#B0BEC5\",\"#B0BEC5\",\"#B0BEC5\",\"#B0BEC5\",\"#B0BEC5\",\"#B0BEC5\",\"#B0BEC5\",\"#B0BEC5\",\"#B0BEC5\"]]}],\"label\":\"Topic 11\",\"method\":\"update\"},{\"args\":[{\"marker.color\":[[\"#B0BEC5\",\"#B0BEC5\",\"#B0BEC5\",\"#B0BEC5\",\"#B0BEC5\",\"#B0BEC5\",\"#B0BEC5\",\"#B0BEC5\",\"#B0BEC5\",\"#B0BEC5\",\"#B0BEC5\",\"#B0BEC5\",\"red\",\"#B0BEC5\",\"#B0BEC5\",\"#B0BEC5\",\"#B0BEC5\",\"#B0BEC5\",\"#B0BEC5\",\"#B0BEC5\",\"#B0BEC5\",\"#B0BEC5\",\"#B0BEC5\",\"#B0BEC5\",\"#B0BEC5\",\"#B0BEC5\",\"#B0BEC5\",\"#B0BEC5\",\"#B0BEC5\",\"#B0BEC5\"]]}],\"label\":\"Topic 12\",\"method\":\"update\"},{\"args\":[{\"marker.color\":[[\"#B0BEC5\",\"#B0BEC5\",\"#B0BEC5\",\"#B0BEC5\",\"#B0BEC5\",\"#B0BEC5\",\"#B0BEC5\",\"#B0BEC5\",\"#B0BEC5\",\"#B0BEC5\",\"#B0BEC5\",\"#B0BEC5\",\"#B0BEC5\",\"red\",\"#B0BEC5\",\"#B0BEC5\",\"#B0BEC5\",\"#B0BEC5\",\"#B0BEC5\",\"#B0BEC5\",\"#B0BEC5\",\"#B0BEC5\",\"#B0BEC5\",\"#B0BEC5\",\"#B0BEC5\",\"#B0BEC5\",\"#B0BEC5\",\"#B0BEC5\",\"#B0BEC5\",\"#B0BEC5\"]]}],\"label\":\"Topic 13\",\"method\":\"update\"},{\"args\":[{\"marker.color\":[[\"#B0BEC5\",\"#B0BEC5\",\"#B0BEC5\",\"#B0BEC5\",\"#B0BEC5\",\"#B0BEC5\",\"#B0BEC5\",\"#B0BEC5\",\"#B0BEC5\",\"#B0BEC5\",\"#B0BEC5\",\"#B0BEC5\",\"#B0BEC5\",\"#B0BEC5\",\"red\",\"#B0BEC5\",\"#B0BEC5\",\"#B0BEC5\",\"#B0BEC5\",\"#B0BEC5\",\"#B0BEC5\",\"#B0BEC5\",\"#B0BEC5\",\"#B0BEC5\",\"#B0BEC5\",\"#B0BEC5\",\"#B0BEC5\",\"#B0BEC5\",\"#B0BEC5\",\"#B0BEC5\"]]}],\"label\":\"Topic 14\",\"method\":\"update\"},{\"args\":[{\"marker.color\":[[\"#B0BEC5\",\"#B0BEC5\",\"#B0BEC5\",\"#B0BEC5\",\"#B0BEC5\",\"#B0BEC5\",\"#B0BEC5\",\"#B0BEC5\",\"#B0BEC5\",\"#B0BEC5\",\"#B0BEC5\",\"#B0BEC5\",\"#B0BEC5\",\"#B0BEC5\",\"#B0BEC5\",\"red\",\"#B0BEC5\",\"#B0BEC5\",\"#B0BEC5\",\"#B0BEC5\",\"#B0BEC5\",\"#B0BEC5\",\"#B0BEC5\",\"#B0BEC5\",\"#B0BEC5\",\"#B0BEC5\",\"#B0BEC5\",\"#B0BEC5\",\"#B0BEC5\",\"#B0BEC5\"]]}],\"label\":\"Topic 15\",\"method\":\"update\"},{\"args\":[{\"marker.color\":[[\"#B0BEC5\",\"#B0BEC5\",\"#B0BEC5\",\"#B0BEC5\",\"#B0BEC5\",\"#B0BEC5\",\"#B0BEC5\",\"#B0BEC5\",\"#B0BEC5\",\"#B0BEC5\",\"#B0BEC5\",\"#B0BEC5\",\"#B0BEC5\",\"#B0BEC5\",\"#B0BEC5\",\"#B0BEC5\",\"red\",\"#B0BEC5\",\"#B0BEC5\",\"#B0BEC5\",\"#B0BEC5\",\"#B0BEC5\",\"#B0BEC5\",\"#B0BEC5\",\"#B0BEC5\",\"#B0BEC5\",\"#B0BEC5\",\"#B0BEC5\",\"#B0BEC5\",\"#B0BEC5\"]]}],\"label\":\"Topic 16\",\"method\":\"update\"},{\"args\":[{\"marker.color\":[[\"#B0BEC5\",\"#B0BEC5\",\"#B0BEC5\",\"#B0BEC5\",\"#B0BEC5\",\"#B0BEC5\",\"#B0BEC5\",\"#B0BEC5\",\"#B0BEC5\",\"#B0BEC5\",\"#B0BEC5\",\"#B0BEC5\",\"#B0BEC5\",\"#B0BEC5\",\"#B0BEC5\",\"#B0BEC5\",\"#B0BEC5\",\"red\",\"#B0BEC5\",\"#B0BEC5\",\"#B0BEC5\",\"#B0BEC5\",\"#B0BEC5\",\"#B0BEC5\",\"#B0BEC5\",\"#B0BEC5\",\"#B0BEC5\",\"#B0BEC5\",\"#B0BEC5\",\"#B0BEC5\"]]}],\"label\":\"Topic 17\",\"method\":\"update\"},{\"args\":[{\"marker.color\":[[\"#B0BEC5\",\"#B0BEC5\",\"#B0BEC5\",\"#B0BEC5\",\"#B0BEC5\",\"#B0BEC5\",\"#B0BEC5\",\"#B0BEC5\",\"#B0BEC5\",\"#B0BEC5\",\"#B0BEC5\",\"#B0BEC5\",\"#B0BEC5\",\"#B0BEC5\",\"#B0BEC5\",\"#B0BEC5\",\"#B0BEC5\",\"#B0BEC5\",\"red\",\"#B0BEC5\",\"#B0BEC5\",\"#B0BEC5\",\"#B0BEC5\",\"#B0BEC5\",\"#B0BEC5\",\"#B0BEC5\",\"#B0BEC5\",\"#B0BEC5\",\"#B0BEC5\",\"#B0BEC5\"]]}],\"label\":\"Topic 18\",\"method\":\"update\"},{\"args\":[{\"marker.color\":[[\"#B0BEC5\",\"#B0BEC5\",\"#B0BEC5\",\"#B0BEC5\",\"#B0BEC5\",\"#B0BEC5\",\"#B0BEC5\",\"#B0BEC5\",\"#B0BEC5\",\"#B0BEC5\",\"#B0BEC5\",\"#B0BEC5\",\"#B0BEC5\",\"#B0BEC5\",\"#B0BEC5\",\"#B0BEC5\",\"#B0BEC5\",\"#B0BEC5\",\"#B0BEC5\",\"red\",\"#B0BEC5\",\"#B0BEC5\",\"#B0BEC5\",\"#B0BEC5\",\"#B0BEC5\",\"#B0BEC5\",\"#B0BEC5\",\"#B0BEC5\",\"#B0BEC5\",\"#B0BEC5\"]]}],\"label\":\"Topic 19\",\"method\":\"update\"},{\"args\":[{\"marker.color\":[[\"#B0BEC5\",\"#B0BEC5\",\"#B0BEC5\",\"#B0BEC5\",\"#B0BEC5\",\"#B0BEC5\",\"#B0BEC5\",\"#B0BEC5\",\"#B0BEC5\",\"#B0BEC5\",\"#B0BEC5\",\"#B0BEC5\",\"#B0BEC5\",\"#B0BEC5\",\"#B0BEC5\",\"#B0BEC5\",\"#B0BEC5\",\"#B0BEC5\",\"#B0BEC5\",\"#B0BEC5\",\"red\",\"#B0BEC5\",\"#B0BEC5\",\"#B0BEC5\",\"#B0BEC5\",\"#B0BEC5\",\"#B0BEC5\",\"#B0BEC5\",\"#B0BEC5\",\"#B0BEC5\"]]}],\"label\":\"Topic 20\",\"method\":\"update\"},{\"args\":[{\"marker.color\":[[\"#B0BEC5\",\"#B0BEC5\",\"#B0BEC5\",\"#B0BEC5\",\"#B0BEC5\",\"#B0BEC5\",\"#B0BEC5\",\"#B0BEC5\",\"#B0BEC5\",\"#B0BEC5\",\"#B0BEC5\",\"#B0BEC5\",\"#B0BEC5\",\"#B0BEC5\",\"#B0BEC5\",\"#B0BEC5\",\"#B0BEC5\",\"#B0BEC5\",\"#B0BEC5\",\"#B0BEC5\",\"#B0BEC5\",\"red\",\"#B0BEC5\",\"#B0BEC5\",\"#B0BEC5\",\"#B0BEC5\",\"#B0BEC5\",\"#B0BEC5\",\"#B0BEC5\",\"#B0BEC5\"]]}],\"label\":\"Topic 21\",\"method\":\"update\"},{\"args\":[{\"marker.color\":[[\"#B0BEC5\",\"#B0BEC5\",\"#B0BEC5\",\"#B0BEC5\",\"#B0BEC5\",\"#B0BEC5\",\"#B0BEC5\",\"#B0BEC5\",\"#B0BEC5\",\"#B0BEC5\",\"#B0BEC5\",\"#B0BEC5\",\"#B0BEC5\",\"#B0BEC5\",\"#B0BEC5\",\"#B0BEC5\",\"#B0BEC5\",\"#B0BEC5\",\"#B0BEC5\",\"#B0BEC5\",\"#B0BEC5\",\"#B0BEC5\",\"red\",\"#B0BEC5\",\"#B0BEC5\",\"#B0BEC5\",\"#B0BEC5\",\"#B0BEC5\",\"#B0BEC5\",\"#B0BEC5\"]]}],\"label\":\"Topic 22\",\"method\":\"update\"},{\"args\":[{\"marker.color\":[[\"#B0BEC5\",\"#B0BEC5\",\"#B0BEC5\",\"#B0BEC5\",\"#B0BEC5\",\"#B0BEC5\",\"#B0BEC5\",\"#B0BEC5\",\"#B0BEC5\",\"#B0BEC5\",\"#B0BEC5\",\"#B0BEC5\",\"#B0BEC5\",\"#B0BEC5\",\"#B0BEC5\",\"#B0BEC5\",\"#B0BEC5\",\"#B0BEC5\",\"#B0BEC5\",\"#B0BEC5\",\"#B0BEC5\",\"#B0BEC5\",\"#B0BEC5\",\"red\",\"#B0BEC5\",\"#B0BEC5\",\"#B0BEC5\",\"#B0BEC5\",\"#B0BEC5\",\"#B0BEC5\"]]}],\"label\":\"Topic 23\",\"method\":\"update\"},{\"args\":[{\"marker.color\":[[\"#B0BEC5\",\"#B0BEC5\",\"#B0BEC5\",\"#B0BEC5\",\"#B0BEC5\",\"#B0BEC5\",\"#B0BEC5\",\"#B0BEC5\",\"#B0BEC5\",\"#B0BEC5\",\"#B0BEC5\",\"#B0BEC5\",\"#B0BEC5\",\"#B0BEC5\",\"#B0BEC5\",\"#B0BEC5\",\"#B0BEC5\",\"#B0BEC5\",\"#B0BEC5\",\"#B0BEC5\",\"#B0BEC5\",\"#B0BEC5\",\"#B0BEC5\",\"#B0BEC5\",\"red\",\"#B0BEC5\",\"#B0BEC5\",\"#B0BEC5\",\"#B0BEC5\",\"#B0BEC5\"]]}],\"label\":\"Topic 24\",\"method\":\"update\"},{\"args\":[{\"marker.color\":[[\"#B0BEC5\",\"#B0BEC5\",\"#B0BEC5\",\"#B0BEC5\",\"#B0BEC5\",\"#B0BEC5\",\"#B0BEC5\",\"#B0BEC5\",\"#B0BEC5\",\"#B0BEC5\",\"#B0BEC5\",\"#B0BEC5\",\"#B0BEC5\",\"#B0BEC5\",\"#B0BEC5\",\"#B0BEC5\",\"#B0BEC5\",\"#B0BEC5\",\"#B0BEC5\",\"#B0BEC5\",\"#B0BEC5\",\"#B0BEC5\",\"#B0BEC5\",\"#B0BEC5\",\"#B0BEC5\",\"red\",\"#B0BEC5\",\"#B0BEC5\",\"#B0BEC5\",\"#B0BEC5\"]]}],\"label\":\"Topic 25\",\"method\":\"update\"},{\"args\":[{\"marker.color\":[[\"#B0BEC5\",\"#B0BEC5\",\"#B0BEC5\",\"#B0BEC5\",\"#B0BEC5\",\"#B0BEC5\",\"#B0BEC5\",\"#B0BEC5\",\"#B0BEC5\",\"#B0BEC5\",\"#B0BEC5\",\"#B0BEC5\",\"#B0BEC5\",\"#B0BEC5\",\"#B0BEC5\",\"#B0BEC5\",\"#B0BEC5\",\"#B0BEC5\",\"#B0BEC5\",\"#B0BEC5\",\"#B0BEC5\",\"#B0BEC5\",\"#B0BEC5\",\"#B0BEC5\",\"#B0BEC5\",\"#B0BEC5\",\"red\",\"#B0BEC5\",\"#B0BEC5\",\"#B0BEC5\"]]}],\"label\":\"Topic 26\",\"method\":\"update\"},{\"args\":[{\"marker.color\":[[\"#B0BEC5\",\"#B0BEC5\",\"#B0BEC5\",\"#B0BEC5\",\"#B0BEC5\",\"#B0BEC5\",\"#B0BEC5\",\"#B0BEC5\",\"#B0BEC5\",\"#B0BEC5\",\"#B0BEC5\",\"#B0BEC5\",\"#B0BEC5\",\"#B0BEC5\",\"#B0BEC5\",\"#B0BEC5\",\"#B0BEC5\",\"#B0BEC5\",\"#B0BEC5\",\"#B0BEC5\",\"#B0BEC5\",\"#B0BEC5\",\"#B0BEC5\",\"#B0BEC5\",\"#B0BEC5\",\"#B0BEC5\",\"#B0BEC5\",\"red\",\"#B0BEC5\",\"#B0BEC5\"]]}],\"label\":\"Topic 27\",\"method\":\"update\"},{\"args\":[{\"marker.color\":[[\"#B0BEC5\",\"#B0BEC5\",\"#B0BEC5\",\"#B0BEC5\",\"#B0BEC5\",\"#B0BEC5\",\"#B0BEC5\",\"#B0BEC5\",\"#B0BEC5\",\"#B0BEC5\",\"#B0BEC5\",\"#B0BEC5\",\"#B0BEC5\",\"#B0BEC5\",\"#B0BEC5\",\"#B0BEC5\",\"#B0BEC5\",\"#B0BEC5\",\"#B0BEC5\",\"#B0BEC5\",\"#B0BEC5\",\"#B0BEC5\",\"#B0BEC5\",\"#B0BEC5\",\"#B0BEC5\",\"#B0BEC5\",\"#B0BEC5\",\"#B0BEC5\",\"red\",\"#B0BEC5\"]]}],\"label\":\"Topic 28\",\"method\":\"update\"},{\"args\":[{\"marker.color\":[[\"#B0BEC5\",\"#B0BEC5\",\"#B0BEC5\",\"#B0BEC5\",\"#B0BEC5\",\"#B0BEC5\",\"#B0BEC5\",\"#B0BEC5\",\"#B0BEC5\",\"#B0BEC5\",\"#B0BEC5\",\"#B0BEC5\",\"#B0BEC5\",\"#B0BEC5\",\"#B0BEC5\",\"#B0BEC5\",\"#B0BEC5\",\"#B0BEC5\",\"#B0BEC5\",\"#B0BEC5\",\"#B0BEC5\",\"#B0BEC5\",\"#B0BEC5\",\"#B0BEC5\",\"#B0BEC5\",\"#B0BEC5\",\"#B0BEC5\",\"#B0BEC5\",\"#B0BEC5\",\"red\"]]}],\"label\":\"Topic 29\",\"method\":\"update\"}]}],\"shapes\":[{\"line\":{\"color\":\"#CFD8DC\",\"width\":2},\"type\":\"line\",\"x0\":14.31439082622528,\"x1\":14.31439082622528,\"y0\":-12.70571584701538,\"y1\":11.30048041343689},{\"line\":{\"color\":\"#9E9E9E\",\"width\":2},\"type\":\"line\",\"x0\":7.639610242843628,\"x1\":20.989171409606932,\"y0\":-0.7026177167892449,\"y1\":-0.7026177167892449}],\"annotations\":[{\"showarrow\":false,\"text\":\"D1\",\"x\":7.639610242843628,\"y\":-0.7026177167892449,\"yshift\":10},{\"showarrow\":false,\"text\":\"D2\",\"x\":14.31439082622528,\"xshift\":10,\"y\":11.30048041343689}]},                        {\"responsive\": true}                    ).then(function(){\n",
       "                            \n",
       "var gd = document.getElementById('c8c59446-ade7-476e-bc27-92e0b94311c5');\n",
       "var x = new MutationObserver(function (mutations, observer) {{\n",
       "        var display = window.getComputedStyle(gd).display;\n",
       "        if (!display || display === 'none') {{\n",
       "            console.log([gd, 'removed!']);\n",
       "            Plotly.purge(gd);\n",
       "            observer.disconnect();\n",
       "        }}\n",
       "}});\n",
       "\n",
       "// Listen for the removal of the full notebook cells\n",
       "var notebookContainer = gd.closest('#notebook-container');\n",
       "if (notebookContainer) {{\n",
       "    x.observe(notebookContainer, {childList: true});\n",
       "}}\n",
       "\n",
       "// Listen for the clearing of the current output cell\n",
       "var outputEl = gd.closest('.output');\n",
       "if (outputEl) {{\n",
       "    x.observe(outputEl, {childList: true});\n",
       "}}\n",
       "\n",
       "                        })                };                });            </script>        </div>"
      ]
     },
     "metadata": {},
     "output_type": "display_data"
    }
   ],
   "source": [
    "topic_model.visualize_topics()"
   ]
  },
  {
   "attachments": {},
   "cell_type": "markdown",
   "metadata": {},
   "source": [
    "Topics over time"
   ]
  },
  {
   "cell_type": "code",
   "execution_count": 196,
   "metadata": {},
   "outputs": [],
   "source": [
    "# Reference running time for this cell: 2min 30s\n",
    "topics_over_time = topic_model.topics_over_time(df['speech'], df['Date'].to_list(), nr_bins=20)"
   ]
  },
  {
   "cell_type": "code",
   "execution_count": 197,
   "metadata": {},
   "outputs": [],
   "source": [
    "# Save the topics_over_time dataframe to a feather file\n",
    "#topics_over_time.to_feather(\"../data/topics_over_time.feather\")"
   ]
  },
  {
   "cell_type": "code",
   "execution_count": 198,
   "metadata": {},
   "outputs": [
    {
     "data": {
      "application/vnd.plotly.v1+json": {
       "config": {
        "plotlyServerURL": "https://plot.ly"
       },
       "data": [
        {
         "hoverinfo": "text",
         "hovertext": [
          "<b>Topic 0</b><br>Words: zdravstvenega, vprašanje, zakona, seveda, tem",
          "<b>Topic 0</b><br>Words: hvala, zdravstvenega, jezika, zakona, minister",
          "<b>Topic 0</b><br>Words: zakona, zdravstvenega, ministrstvo, ta, predlog",
          "<b>Topic 0</b><br>Words: minister, kebra, hvala, zavarovanja, zdravstva",
          "<b>Topic 0</b><br>Words: zakona, zavarovanja, vzajemne, zdravstvenega, recepta",
          "<b>Topic 0</b><br>Words: minister, zdravstvenega, gospod, koncesije, miz",
          "<b>Topic 0</b><br>Words: zdravil, storitev, zdravstvenega, lepa, tem",
          "<b>Topic 0</b><br>Words: zdravstvenega, storitev, hvala, tem, vzajemna",
          "<b>Topic 0</b><br>Words: marušič, zdravstva, hvala, bo, storitev",
          "<b>Topic 0</b><br>Words: razlage, zakonodajno, hvala, minister, polnega",
          "<b>Topic 0</b><br>Words: zakona, zdravstvenega, zavarovanja, storitev, hvala",
          "<b>Topic 0</b><br>Words: hospic, hvala, zdravstvu, minister, varstvo",
          "<b>Topic 0</b><br>Words: 105, zdravje, lekarne, hvala, laboratorij",
          "<b>Topic 0</b><br>Words: urgentnih, pravilnika, zavarovanje, zdravje, ministrica",
          "<b>Topic 0</b><br>Words: čakalnih, zdravstva, dejavnosti, koncesije, javno",
          "<b>Topic 0</b><br>Words: ministrica, dejavnosti, storitev, zdravstva, sistem",
          "<b>Topic 0</b><br>Words: ukc, otroške, srčne, sistem, zdravstvenega",
          "<b>Topic 0</b><br>Words: sistem, evrov, hvala, zdravstva, danes",
          "<b>Topic 0</b><br>Words: zdravstva, hvala, sistem, so, bo",
          "<b>Topic 0</b><br>Words: zdravil, dejavnosti, zakon, zdravstva, ta"
         ],
         "marker": {
          "color": "#E69F00"
         },
         "mode": "lines",
         "name": "0_zdravil_hvala_zdravstva_storitev",
         "type": "scatter",
         "x": [
          "2000-11-22T04:52:19.200000",
          "2001-12-24T20:24:00",
          "2003-01-18T16:48:00",
          "2004-02-12T13:12:00",
          "2005-03-08T09:36:00",
          "2006-04-02T06:00:00",
          "2007-04-27T02:24:00",
          "2008-05-20T22:48:00",
          "2009-06-14T19:12:00",
          "2010-07-09T15:36:00",
          "2011-08-03T12:00:00",
          "2012-08-27T08:24:00",
          "2013-09-21T04:48:00",
          "2014-10-16T01:12:00",
          "2015-11-09T21:36:00",
          "2016-12-03T18:00:00",
          "2017-12-28T14:24:00",
          "2019-01-22T10:48:00",
          "2020-02-16T07:12:00",
          "2021-03-12T03:36:00"
         ],
         "y": [
          88,
          146,
          109,
          95,
          247,
          206,
          259,
          130,
          87,
          105,
          61,
          93,
          132,
          193,
          185,
          306,
          118,
          243,
          262,
          373
         ]
        },
        {
         "hoverinfo": "text",
         "hovertext": [
          "<b>Topic 1</b><br>Words: seveda, sekretariat, ženske, filmskem, mnenje",
          "<b>Topic 1</b><br>Words: mogoče, zakon, tem, tu, bom",
          "<b>Topic 1</b><br>Words: naziv, vodovodnih, doktor, bil, ustavno",
          "<b>Topic 1</b><br>Words: vlade, ministra, bil, seveda, gospod",
          "<b>Topic 1</b><br>Words: danes, bom, ta, bil, občin",
          "<b>Topic 1</b><br>Words: mislim, minister, ta, danes, bil",
          "<b>Topic 1</b><br>Words: pokrajine, tem, jaz, zakon, samo",
          "<b>Topic 1</b><br>Words: izbrisanih, ustavnega, bil, ta, kresal",
          "<b>Topic 1</b><br>Words: sem, tem, bil, danes, so",
          "<b>Topic 1</b><br>Words: obrambo, ta, bil, predsedstva, orožja",
          "<b>Topic 1</b><br>Words: počitnice, zimskih, šolstvo, šport, minister",
          "<b>Topic 1</b><br>Words: sodnik, danes, kdo, potem, tem",
          "<b>Topic 1</b><br>Words: tem, poglejte, bo, danes, minister",
          "<b>Topic 1</b><br>Words: mi, zdaj, mislim, potem, danes",
          "<b>Topic 1</b><br>Words: bom, ministrica, potem, imamo, naprej",
          "<b>Topic 1</b><br>Words: ampak, zdaj, ministrica, vi, vem",
          "<b>Topic 1</b><br>Words: sem, potem, zakaj, seveda, bomo",
          "<b>Topic 1</b><br>Words: potem, vem, danes, bomo, kdo",
          "<b>Topic 1</b><br>Words: bom, danes, potem, zdaj, minister",
          "<b>Topic 1</b><br>Words: minister, jaz, potem, vse, danes"
         ],
         "marker": {
          "color": "#56B4E9"
         },
         "mode": "lines",
         "name": "1_sem_potem_tem_danes",
         "type": "scatter",
         "x": [
          "2000-11-22T04:52:19.200000",
          "2001-12-24T20:24:00",
          "2003-01-18T16:48:00",
          "2004-02-12T13:12:00",
          "2005-03-08T09:36:00",
          "2006-04-02T06:00:00",
          "2007-04-27T02:24:00",
          "2008-05-20T22:48:00",
          "2009-06-14T19:12:00",
          "2010-07-09T15:36:00",
          "2011-08-03T12:00:00",
          "2012-08-27T08:24:00",
          "2013-09-21T04:48:00",
          "2014-10-16T01:12:00",
          "2015-11-09T21:36:00",
          "2016-12-03T18:00:00",
          "2017-12-28T14:24:00",
          "2019-01-22T10:48:00",
          "2020-02-16T07:12:00",
          "2021-03-12T03:36:00"
         ],
         "y": [
          25,
          33,
          21,
          36,
          58,
          58,
          66,
          44,
          51,
          50,
          20,
          32,
          60,
          51,
          74,
          78,
          66,
          63,
          156,
          167
         ]
        },
        {
         "hoverinfo": "text",
         "hovertext": [
          "<b>Topic 2</b><br>Words: pregovor, nesrečami, bakterijo, učinkovit, bolnišnice",
          "<b>Topic 2</b><br>Words: biopsij, patologov, ultravozvok, ekzotični, malignom",
          "<b>Topic 2</b><br>Words: histoloških, bolnišničnih, diagnostika, gastroskopija, zakasnitev",
          "<b>Topic 2</b><br>Words: invalidov, okužb, enakopravno, pomilovanje, malteška",
          "<b>Topic 2</b><br>Words: gripe, cepljenja, influence, obvezno, tamiflu",
          "<b>Topic 2</b><br>Words: cepljenje, papiloma, hpv, materničnega, detektive",
          "<b>Topic 2</b><br>Words: bolnišničnih, kajenja, pogostost, vankomicinu, prepovedi",
          "<b>Topic 2</b><br>Words: averzijskimi, tiergarten, auersperge, semantično, shizofrenijo",
          "<b>Topic 2</b><br>Words: prostovoljnost, cepivo, wolfgang, 000, načelo",
          "<b>Topic 2</b><br>Words: bolnišničnih, seminarja, družinski, spolno, prevalenca",
          "<b>Topic 2</b><br>Words: raziskava, cepljene, upokojence, dotaknete, bolnišnicah",
          "<b>Topic 2</b><br>Words: cepljenje, ris, novonaseljeno, rise, samice",
          "<b>Topic 2</b><br>Words: deportiran, študirajoča, mogel, brezupno, pogovarjajmo",
          "<b>Topic 2</b><br>Words: prašnih, strupenih, talijem, samoorganizirale, c104",
          "<b>Topic 2</b><br>Words: ilirska, kemičnih, ubojnih, suma, arhiva",
          "<b>Topic 2</b><br>Words: gospodje, radikalnega, islamu, gospe, imunski",
          "<b>Topic 2</b><br>Words: imunski, govorimo, sodnikov, ribičič, deklaracije",
          "<b>Topic 2</b><br>Words: umre, rakom, bolnišnicah, gluten, vaju",
          "<b>Topic 2</b><br>Words: 19, covid, epidemijo, vlada, cepljenje",
          "<b>Topic 2</b><br>Words: epidemijo, 19, vlada, ukrepi, covida"
         ],
         "marker": {
          "color": "#009E73"
         },
         "mode": "lines",
         "name": "2_19_epidemijo_cepljenje_vlada",
         "type": "scatter",
         "x": [
          "2000-11-22T04:52:19.200000",
          "2001-12-24T20:24:00",
          "2003-01-18T16:48:00",
          "2004-02-12T13:12:00",
          "2005-03-08T09:36:00",
          "2006-04-02T06:00:00",
          "2007-04-27T02:24:00",
          "2008-05-20T22:48:00",
          "2009-06-14T19:12:00",
          "2010-07-09T15:36:00",
          "2011-08-03T12:00:00",
          "2012-08-27T08:24:00",
          "2013-09-21T04:48:00",
          "2014-10-16T01:12:00",
          "2015-11-09T21:36:00",
          "2016-12-03T18:00:00",
          "2017-12-28T14:24:00",
          "2019-01-22T10:48:00",
          "2020-02-16T07:12:00",
          "2021-03-12T03:36:00"
         ],
         "y": [
          4,
          1,
          2,
          3,
          23,
          4,
          3,
          1,
          10,
          3,
          3,
          3,
          2,
          3,
          4,
          5,
          3,
          11,
          275,
          199
         ]
        },
        {
         "hoverinfo": "text",
         "hovertext": [
          "<b>Topic 3</b><br>Words: šoli, oploditve, obmp, biomedicinsko, dopusta",
          "<b>Topic 3</b><br>Words: visokega, šolstva, univerza, program, nacionalni",
          "<b>Topic 3</b><br>Words: mariboru, univerze, policijsko, vrtci, medicinske",
          "<b>Topic 3</b><br>Words: 42, istospolnih, izobraževanje, zavarovanje, staršev",
          "<b>Topic 3</b><br>Words: timss, raziskave, antievropski, otroci, preobremenjenosti",
          "<b>Topic 3</b><br>Words: izobraževanja, univerze, vrtca, odraslih, mariboru",
          "<b>Topic 3</b><br>Words: šole, zasebne, učencev, jezikov, starši",
          "<b>Topic 3</b><br>Words: univerze, statusno, umetniške, šole, podpiramo",
          "<b>Topic 3</b><br>Words: otroka, družinah, usmerjenost, zveze, skupnost",
          "<b>Topic 3</b><br>Words: posebnimi, usmerjanju, zakonu, univerze, sladkorno",
          "<b>Topic 3</b><br>Words: počitnice, istospolnih, 44, očetovstva, pravice",
          "<b>Topic 3</b><br>Words: besede, otrok, emocionalnega, znanja, potrebami",
          "<b>Topic 3</b><br>Words: resolucije, dopusta, starševski, desus, dojenja",
          "<b>Topic 3</b><br>Words: izobraževanja, praktičnega, otrok, vajeniško, pravice",
          "<b>Topic 3</b><br>Words: šole, sodišča, zasebne, zofvi, otroka",
          "<b>Topic 3</b><br>Words: posebnimi, potrebami, izobraževanja, študentje, zgodnje",
          "<b>Topic 3</b><br>Words: politike, rodnost, bogatih, dopusta, dodatka",
          "<b>Topic 3</b><br>Words: šole, zasebne, otroka, razširjeni, program",
          "<b>Topic 3</b><br>Words: posebnimi, potrebami, čustvenimi, vedenjskimi, otrokom",
          "<b>Topic 3</b><br>Words: šole, potrebami, posebnimi, otroka, kustec"
         ],
         "marker": {
          "color": "#F0E442"
         },
         "mode": "lines",
         "name": "3_šole_potrebami_posebnimi_otroci",
         "type": "scatter",
         "x": [
          "2000-11-22T04:52:19.200000",
          "2001-12-24T20:24:00",
          "2003-01-18T16:48:00",
          "2004-02-12T13:12:00",
          "2005-03-08T09:36:00",
          "2006-04-02T06:00:00",
          "2007-04-27T02:24:00",
          "2008-05-20T22:48:00",
          "2009-06-14T19:12:00",
          "2010-07-09T15:36:00",
          "2011-08-03T12:00:00",
          "2012-08-27T08:24:00",
          "2013-09-21T04:48:00",
          "2014-10-16T01:12:00",
          "2015-11-09T21:36:00",
          "2016-12-03T18:00:00",
          "2017-12-28T14:24:00",
          "2019-01-22T10:48:00",
          "2020-02-16T07:12:00",
          "2021-03-12T03:36:00"
         ],
         "y": [
          23,
          14,
          19,
          7,
          6,
          30,
          15,
          6,
          8,
          22,
          14,
          10,
          11,
          19,
          21,
          42,
          11,
          19,
          35,
          58
         ]
        },
        {
         "hoverinfo": "text",
         "hovertext": [
          "<b>Topic 4</b><br>Words: mamić, sežiganje, kmetijstvo, slovenskega, salonitu",
          "<b>Topic 4</b><br>Words: svetu, resolucije, industrija, farmacevtska, ministre",
          "<b>Topic 4</b><br>Words: atenah, slovenija, džuban, unije, sramujete",
          "<b>Topic 4</b><br>Words: vlada, bomo, evropski, države, predsednik",
          "<b>Topic 4</b><br>Words: unije, slovenija, lizbonske, strategije, predsedovanje",
          "<b>Topic 4</b><br>Words: slovenije, sedaj, povedal, rtv, drobniča",
          "<b>Topic 4</b><br>Words: slovenija, novinarjev, vlade, 2007, teh",
          "<b>Topic 4</b><br>Words: slovenija, unije, bomo, bo, vodenje",
          "<b>Topic 4</b><br>Words: ultra, unije, evropske, gospod, zakaj",
          "<b>Topic 4</b><br>Words: volilni, pošti, ustvarjeno, ta, času",
          "<b>Topic 4</b><br>Words: prikaz, rast, bomo, vlade, rebalansa",
          "<b>Topic 4</b><br>Words: podpisov, notranje, odgovornost, sindikata, pozitivne",
          "<b>Topic 4</b><br>Words: bomo, samouprave, bo, lokalne, razvoj",
          "<b>Topic 4</b><br>Words: unije, vlade, tem, meji, danes",
          "<b>Topic 4</b><br>Words: vlada, ampak, bodo, bo, ljudje",
          "<b>Topic 4</b><br>Words: unije, slovenijo, ljudi, uber, kraljestva",
          "<b>Topic 4</b><br>Words: migracije, vlade, slovenijo, države, danes",
          "<b>Topic 4</b><br>Words: migrant, ankete, ubil, slovenija, državnost",
          "<b>Topic 4</b><br>Words: vlada, evropske, države, opreme, ljudi",
          "<b>Topic 4</b><br>Words: minister, vlade, slovenija, kulturi, samozaposlenih"
         ],
         "marker": {
          "color": "#D55E00"
         },
         "mode": "lines",
         "name": "4_evropske_unije_tem_bo",
         "type": "scatter",
         "x": [
          "2000-11-22T04:52:19.200000",
          "2001-12-24T20:24:00",
          "2003-01-18T16:48:00",
          "2004-02-12T13:12:00",
          "2005-03-08T09:36:00",
          "2006-04-02T06:00:00",
          "2007-04-27T02:24:00",
          "2008-05-20T22:48:00",
          "2009-06-14T19:12:00",
          "2010-07-09T15:36:00",
          "2011-08-03T12:00:00",
          "2012-08-27T08:24:00",
          "2013-09-21T04:48:00",
          "2014-10-16T01:12:00",
          "2015-11-09T21:36:00",
          "2016-12-03T18:00:00",
          "2017-12-28T14:24:00",
          "2019-01-22T10:48:00",
          "2020-02-16T07:12:00",
          "2021-03-12T03:36:00"
         ],
         "y": [
          3,
          13,
          4,
          26,
          16,
          10,
          17,
          23,
          12,
          17,
          15,
          9,
          29,
          22,
          16,
          27,
          24,
          9,
          52,
          35
         ]
        },
        {
         "hoverinfo": "text",
         "hovertext": [
          "<b>Topic 5</b><br>Words: 2002, 2003, odstotka, izdatkov, milijard",
          "<b>Topic 5</b><br>Words: 2003, proračunska, klub, liberalne, demokracije",
          "<b>Topic 5</b><br>Words: milijard, kmetijstvo, konvergenčnih, revizijskega, dokončati",
          "<b>Topic 5</b><br>Words: 2003, zaključnega, nacionalne, sodišče, reforme",
          "<b>Topic 5</b><br>Words: 2007, milijard, letu, finance, slovenije",
          "<b>Topic 5</b><br>Words: proračuna, 2007, milijard, slovenije, bdp",
          "<b>Topic 5</b><br>Words: bdp, rast, proračun, 2007, evrov",
          "<b>Topic 5</b><br>Words: proračuna, 2007, rast, cigaret, unije",
          "<b>Topic 5</b><br>Words: proračuna, 2009, slovenije, zagotovo, vlada",
          "<b>Topic 5</b><br>Words: reforma, javnih, milijonov, evropskih, samozaščita",
          "<b>Topic 5</b><br>Words: 2008, debelih, graf, nnnp, proračuna",
          "<b>Topic 5</b><br>Words: proizvoda, 2013, fiskalnega, bank, pravilo",
          "<b>Topic 5</b><br>Words: bank, evrov, slovenije, nepremičnine, bratušek",
          "<b>Topic 5</b><br>Words: 2015, evrov, stop, furs, rast",
          "<b>Topic 5</b><br>Words: 2017, rast, vlada, milijonov, evrov",
          "<b>Topic 5</b><br>Words: finance, evrov, 2019, rast, milijonov",
          "<b>Topic 5</b><br>Words: fiskalnega, bratušek, 2018, zormanov, kriminalitete",
          "<b>Topic 5</b><br>Words: evrov, demokratski, milijonov, slovenski, 2019",
          "<b>Topic 5</b><br>Words: evrov, 2020, milijonov, okrevanje, epidemije",
          "<b>Topic 5</b><br>Words: 2022, evrov, milijonov, proračunov, covid"
         ],
         "marker": {
          "color": "#0072B2"
         },
         "mode": "lines",
         "name": "5_evrov_rast_milijonov_2007",
         "type": "scatter",
         "x": [
          "2000-11-22T04:52:19.200000",
          "2001-12-24T20:24:00",
          "2003-01-18T16:48:00",
          "2004-02-12T13:12:00",
          "2005-03-08T09:36:00",
          "2006-04-02T06:00:00",
          "2007-04-27T02:24:00",
          "2008-05-20T22:48:00",
          "2009-06-14T19:12:00",
          "2010-07-09T15:36:00",
          "2011-08-03T12:00:00",
          "2012-08-27T08:24:00",
          "2013-09-21T04:48:00",
          "2014-10-16T01:12:00",
          "2015-11-09T21:36:00",
          "2016-12-03T18:00:00",
          "2017-12-28T14:24:00",
          "2019-01-22T10:48:00",
          "2020-02-16T07:12:00",
          "2021-03-12T03:36:00"
         ],
         "y": [
          14,
          5,
          6,
          6,
          12,
          20,
          17,
          12,
          23,
          13,
          3,
          9,
          27,
          20,
          43,
          18,
          13,
          16,
          40,
          20
         ]
        },
        {
         "hoverinfo": "text",
         "hovertext": [
          "<b>Topic 6</b><br>Words: sodišči, nasvet, brezplačno, referendum, skd",
          "<b>Topic 6</b><br>Words: državljanstvu, sodišče, slovenskega, watch, kemijske",
          "<b>Topic 6</b><br>Words: referendumskega, statusa, protipravno, 1993, brezposelnih",
          "<b>Topic 6</b><br>Words: metadon, psihiatrijo, program, pride, plačeval",
          "<b>Topic 6</b><br>Words: ustanovitev, slovenije, trgovin, zbor, nacionalni",
          "<b>Topic 6</b><br>Words: 8x8, orožjem, referenduma, slovenije, nakup",
          "<b>Topic 6</b><br>Words: imuniteto, zapora, dosmrtnega, globe, nacionalne",
          "<b>Topic 6</b><br>Words: tarife, odvetniške, sankcij, duševnih, normalno",
          "<b>Topic 6</b><br>Words: mednarodnega, plače, tribunal, badinterijeva, hrvaško",
          "<b>Topic 6</b><br>Words: kazenska, zakon, slovenske, ta, droge",
          "<b>Topic 6</b><br>Words: skupnosti, verski, zvon, protestiram, pozitivni",
          "<b>Topic 6</b><br>Words: kmetijsko, sodišč, sds, članstva, referenduma",
          "<b>Topic 6</b><br>Words: volilne, krediti, pošti, republike, stalnega",
          "<b>Topic 6</b><br>Words: ženskami, nasilja, telekoma, slovenije, odvetnikov",
          "<b>Topic 6</b><br>Words: koalicija, pokopališča, varnosti, seveda, demokratski",
          "<b>Topic 6</b><br>Words: verskih, erdogan, migrantov, politiko, arbitražnega",
          "<b>Topic 6</b><br>Words: poškodbe, podjetnik, malomarnosti, operativnih, regresni",
          "<b>Topic 6</b><br>Words: venezueli, prebivališča, zakona, ljudje, slovenije",
          "<b>Topic 6</b><br>Words: jezika, stroški, tujec, konvencije, bo",
          "<b>Topic 6</b><br>Words: obtožbe, ustavne, sab, business, republike"
         ],
         "marker": {
          "color": "#CC79A7"
         },
         "mode": "lines",
         "name": "6_bo_sloveniji_stranke_so",
         "type": "scatter",
         "x": [
          "2000-11-22T04:52:19.200000",
          "2001-12-24T20:24:00",
          "2003-01-18T16:48:00",
          "2004-02-12T13:12:00",
          "2005-03-08T09:36:00",
          "2006-04-02T06:00:00",
          "2007-04-27T02:24:00",
          "2008-05-20T22:48:00",
          "2009-06-14T19:12:00",
          "2010-07-09T15:36:00",
          "2011-08-03T12:00:00",
          "2012-08-27T08:24:00",
          "2013-09-21T04:48:00",
          "2014-10-16T01:12:00",
          "2015-11-09T21:36:00",
          "2016-12-03T18:00:00",
          "2017-12-28T14:24:00",
          "2019-01-22T10:48:00",
          "2020-02-16T07:12:00",
          "2021-03-12T03:36:00"
         ],
         "y": [
          6,
          12,
          8,
          10,
          20,
          19,
          19,
          9,
          21,
          21,
          8,
          13,
          18,
          13,
          18,
          22,
          7,
          20,
          28,
          36
         ]
        },
        {
         "hoverinfo": "text",
         "hovertext": [
          "<b>Topic 7</b><br>Words: proračunskih, 2003, plače, letu, milijarde",
          "<b>Topic 7</b><br>Words: 2003, proračuna, milijard, km, sit",
          "<b>Topic 7</b><br>Words: 2005, proračuna, milijard, rast, politike",
          "<b>Topic 7</b><br>Words: 710, proračunskih, uspešnosti, nevtralna, planiranje",
          "<b>Topic 7</b><br>Words: milijard, letu, proračunu, rebalans, državnega",
          "<b>Topic 7</b><br>Words: izvrševanjem, cestninah, grasseto, zadolženosti, defektolog",
          "<b>Topic 7</b><br>Words: 2009, letu, politiko, inflacijo, fiskalna",
          "<b>Topic 7</b><br>Words: rebalans, proračun, evrov, krize, 2009",
          "<b>Topic 7</b><br>Words: rebalans, evrov, milijonov, proračunu, rast",
          "<b>Topic 7</b><br>Words: 2011, rast, konsolidacije, gradbeništvo, bdp",
          "<b>Topic 7</b><br>Words: 2012, evrov, bdp, milijonov, podjetij",
          "<b>Topic 7</b><br>Words: milijonov, proračunu, bomo, rebalans, bo",
          "<b>Topic 7</b><br>Words: projektov, fiskalnega, pospešek, pravila, hudičevo",
          "<b>Topic 7</b><br>Words: rast, proračuna, milijonov, kosilo, 2014",
          "<b>Topic 7</b><br>Words: 2016, evrov, milijonov, rast, države",
          "<b>Topic 7</b><br>Words: evrov, rast, letu, 2019, proračunov",
          "<b>Topic 7</b><br>Words: han, nič, intelektualno, pošteno, dvorane",
          "<b>Topic 7</b><br>Words: evrov, 2019, letu, rast, tisoč",
          "<b>Topic 7</b><br>Words: milijonov, evrov, 2021, vlada, rast",
          "<b>Topic 7</b><br>Words: milijonov, evrov, 2022, proračunu, primanjkljaj"
         ],
         "marker": {
          "color": "#E69F00"
         },
         "mode": "lines",
         "name": "7_milijonov_letu_evrov_rast",
         "type": "scatter",
         "x": [
          "2000-11-22T04:52:19.200000",
          "2001-12-24T20:24:00",
          "2003-01-18T16:48:00",
          "2004-02-12T13:12:00",
          "2005-03-08T09:36:00",
          "2006-04-02T06:00:00",
          "2007-04-27T02:24:00",
          "2008-05-20T22:48:00",
          "2009-06-14T19:12:00",
          "2010-07-09T15:36:00",
          "2011-08-03T12:00:00",
          "2012-08-27T08:24:00",
          "2013-09-21T04:48:00",
          "2014-10-16T01:12:00",
          "2015-11-09T21:36:00",
          "2016-12-03T18:00:00",
          "2017-12-28T14:24:00",
          "2019-01-22T10:48:00",
          "2020-02-16T07:12:00",
          "2021-03-12T03:36:00"
         ],
         "y": [
          10,
          5,
          2,
          2,
          8,
          3,
          12,
          9,
          14,
          4,
          4,
          17,
          5,
          9,
          26,
          23,
          5,
          23,
          33,
          32
         ]
        },
        {
         "hoverinfo": "text",
         "hovertext": [
          "<b>Topic 8</b><br>Words: arbitrarno, praznovanj, psiholog, vlog, shodov",
          "<b>Topic 8</b><br>Words: avtobus, svetnikov, hranilne, pcp, spije",
          "<b>Topic 8</b><br>Words: republiki, pravniški, liste, tujec, potrdilo",
          "<b>Topic 8</b><br>Words: klientalizem, silna, izbrisane, 1973, zloraba",
          "<b>Topic 8</b><br>Words: referendumsko, avtobusna, kvadratov, sodnikov, odbora",
          "<b>Topic 8</b><br>Words: detektiv, redarjev, celibat, obsojencev, bolniško",
          "<b>Topic 8</b><br>Words: izpitu, telovadbe, skb, pripravništvo, miličnik",
          "<b>Topic 8</b><br>Words: zapora, kazenskih, sankcij, sodišče, odloča",
          "<b>Topic 8</b><br>Words: sodnikov, plače, preverja, referendum, kumrom",
          "<b>Topic 8</b><br>Words: minister, spremenite, referendum, sodstvo, realnost",
          "<b>Topic 8</b><br>Words: knjižničarstvu, vlaka, turističnega, globami, radar",
          "<b>Topic 8</b><br>Words: pravosodju, kazenskih, sankcij, psihiatričnega, policije",
          "<b>Topic 8</b><br>Words: arhivom, sodniki, sodišče, nedostopnosti, problem",
          "<b>Topic 8</b><br>Words: kazenskih, sankcij, inšpekcijske, gospa, poropat",
          "<b>Topic 8</b><br>Words: ministrica, zapor, odločbe, zasebne, sodišče",
          "<b>Topic 8</b><br>Words: operater, 149, imsi, podatke, catcher",
          "<b>Topic 8</b><br>Words: obsojenca, delavci, nestabilnost, šolo, premiki",
          "<b>Topic 8</b><br>Words: odbora, žrtve, kaznivih, problematiziramo, lovilca",
          "<b>Topic 8</b><br>Words: tožilca, referenduma, zakonodajno, 169, samostojnost",
          "<b>Topic 8</b><br>Words: sodišče, policije, pobudo, vlade, epidemijo"
         ],
         "marker": {
          "color": "#56B4E9"
         },
         "mode": "lines",
         "name": "8_zapora_referendum_sankcij_sodnikov",
         "type": "scatter",
         "x": [
          "2000-11-22T04:52:19.200000",
          "2001-12-24T20:24:00",
          "2003-01-18T16:48:00",
          "2004-02-12T13:12:00",
          "2005-03-08T09:36:00",
          "2006-04-02T06:00:00",
          "2007-04-27T02:24:00",
          "2008-05-20T22:48:00",
          "2009-06-14T19:12:00",
          "2010-07-09T15:36:00",
          "2011-08-03T12:00:00",
          "2012-08-27T08:24:00",
          "2013-09-21T04:48:00",
          "2014-10-16T01:12:00",
          "2015-11-09T21:36:00",
          "2016-12-03T18:00:00",
          "2017-12-28T14:24:00",
          "2019-01-22T10:48:00",
          "2020-02-16T07:12:00",
          "2021-03-12T03:36:00"
         ],
         "y": [
          5,
          6,
          7,
          4,
          22,
          11,
          13,
          12,
          17,
          12,
          3,
          9,
          7,
          17,
          7,
          6,
          4,
          7,
          21,
          18
         ]
        },
        {
         "hoverinfo": "text",
         "hovertext": [
          "<b>Topic 9</b><br>Words: oblačilo, nepopularno, pokopani, zločine, križca",
          "<b>Topic 9</b><br>Words: pravic, poročilo, invalidov, peticije, 2001",
          "<b>Topic 9</b><br>Words: družini, nasilju, pravic, izkušnjo, poročilo",
          "<b>Topic 9</b><br>Words: komisija, korupcije, nepristojno, calvo, 962",
          "<b>Topic 9</b><br>Words: komisije, najsi, preiskave, parlamentarne, obremenjevanje",
          "<b>Topic 9</b><br>Words: poročilo, nasilja, revščine, opozorila, javnosti",
          "<b>Topic 9</b><br>Words: nasilja, peticije, minimalnega, korupciji, komisije",
          "<b>Topic 9</b><br>Words: poročila, peticije, priporočila, varuhinji, sovražnem",
          "<b>Topic 9</b><br>Words: peticije, kriminala, komisije, pravice, priporočila",
          "<b>Topic 9</b><br>Words: poročilo, pravična, 2010, peticije, država",
          "<b>Topic 9</b><br>Words: poročilo, nestrpnosti, 1941, delo, otrok",
          "<b>Topic 9</b><br>Words: človekovih, poročilo, peticije, tožilka, revščine",
          "<b>Topic 9</b><br>Words: poročilo, priporočila, nussdorfer, vedno, sodnih",
          "<b>Topic 9</b><br>Words: poročilu, peticije, delo, 2015, enake",
          "<b>Topic 9</b><br>Words: mark, medical, kb, kršitve, komisija",
          "<b>Topic 9</b><br>Words: poročilo, komisije, človekovih, preiskovalni, pranja",
          "<b>Topic 9</b><br>Words: poročilo, dpm, peticije, kršitev, socialnovarstvenih",
          "<b>Topic 9</b><br>Words: varuh, komisija, 2019, preventivnega, mehanizma",
          "<b>Topic 9</b><br>Words: varuha, poročilo, priporočila, opreme, 2020"
         ],
         "marker": {
          "color": "#009E73"
         },
         "mode": "lines",
         "name": "9_poročilu_pravice_opozarja_priporočila",
         "type": "scatter",
         "x": [
          "2000-11-22T04:52:19.200000",
          "2003-01-18T16:48:00",
          "2004-02-12T13:12:00",
          "2005-03-08T09:36:00",
          "2006-04-02T06:00:00",
          "2007-04-27T02:24:00",
          "2008-05-20T22:48:00",
          "2009-06-14T19:12:00",
          "2010-07-09T15:36:00",
          "2011-08-03T12:00:00",
          "2012-08-27T08:24:00",
          "2013-09-21T04:48:00",
          "2014-10-16T01:12:00",
          "2015-11-09T21:36:00",
          "2016-12-03T18:00:00",
          "2017-12-28T14:24:00",
          "2019-01-22T10:48:00",
          "2020-02-16T07:12:00",
          "2021-03-12T03:36:00"
         ],
         "y": [
          2,
          7,
          6,
          2,
          4,
          11,
          8,
          12,
          7,
          7,
          7,
          9,
          13,
          6,
          16,
          22,
          14,
          17,
          18
         ]
        }
       ],
       "layout": {
        "height": 450,
        "hoverlabel": {
         "bgcolor": "white",
         "font": {
          "family": "Rockwell",
          "size": 16
         }
        },
        "legend": {
         "title": {
          "text": "<b>Global Topic Representation"
         }
        },
        "template": {
         "data": {
          "bar": [
           {
            "error_x": {
             "color": "rgb(36,36,36)"
            },
            "error_y": {
             "color": "rgb(36,36,36)"
            },
            "marker": {
             "line": {
              "color": "white",
              "width": 0.5
             },
             "pattern": {
              "fillmode": "overlay",
              "size": 10,
              "solidity": 0.2
             }
            },
            "type": "bar"
           }
          ],
          "barpolar": [
           {
            "marker": {
             "line": {
              "color": "white",
              "width": 0.5
             },
             "pattern": {
              "fillmode": "overlay",
              "size": 10,
              "solidity": 0.2
             }
            },
            "type": "barpolar"
           }
          ],
          "carpet": [
           {
            "aaxis": {
             "endlinecolor": "rgb(36,36,36)",
             "gridcolor": "white",
             "linecolor": "white",
             "minorgridcolor": "white",
             "startlinecolor": "rgb(36,36,36)"
            },
            "baxis": {
             "endlinecolor": "rgb(36,36,36)",
             "gridcolor": "white",
             "linecolor": "white",
             "minorgridcolor": "white",
             "startlinecolor": "rgb(36,36,36)"
            },
            "type": "carpet"
           }
          ],
          "choropleth": [
           {
            "colorbar": {
             "outlinewidth": 1,
             "tickcolor": "rgb(36,36,36)",
             "ticks": "outside"
            },
            "type": "choropleth"
           }
          ],
          "contour": [
           {
            "colorbar": {
             "outlinewidth": 1,
             "tickcolor": "rgb(36,36,36)",
             "ticks": "outside"
            },
            "colorscale": [
             [
              0,
              "#440154"
             ],
             [
              0.1111111111111111,
              "#482878"
             ],
             [
              0.2222222222222222,
              "#3e4989"
             ],
             [
              0.3333333333333333,
              "#31688e"
             ],
             [
              0.4444444444444444,
              "#26828e"
             ],
             [
              0.5555555555555556,
              "#1f9e89"
             ],
             [
              0.6666666666666666,
              "#35b779"
             ],
             [
              0.7777777777777778,
              "#6ece58"
             ],
             [
              0.8888888888888888,
              "#b5de2b"
             ],
             [
              1,
              "#fde725"
             ]
            ],
            "type": "contour"
           }
          ],
          "contourcarpet": [
           {
            "colorbar": {
             "outlinewidth": 1,
             "tickcolor": "rgb(36,36,36)",
             "ticks": "outside"
            },
            "type": "contourcarpet"
           }
          ],
          "heatmap": [
           {
            "colorbar": {
             "outlinewidth": 1,
             "tickcolor": "rgb(36,36,36)",
             "ticks": "outside"
            },
            "colorscale": [
             [
              0,
              "#440154"
             ],
             [
              0.1111111111111111,
              "#482878"
             ],
             [
              0.2222222222222222,
              "#3e4989"
             ],
             [
              0.3333333333333333,
              "#31688e"
             ],
             [
              0.4444444444444444,
              "#26828e"
             ],
             [
              0.5555555555555556,
              "#1f9e89"
             ],
             [
              0.6666666666666666,
              "#35b779"
             ],
             [
              0.7777777777777778,
              "#6ece58"
             ],
             [
              0.8888888888888888,
              "#b5de2b"
             ],
             [
              1,
              "#fde725"
             ]
            ],
            "type": "heatmap"
           }
          ],
          "heatmapgl": [
           {
            "colorbar": {
             "outlinewidth": 1,
             "tickcolor": "rgb(36,36,36)",
             "ticks": "outside"
            },
            "colorscale": [
             [
              0,
              "#440154"
             ],
             [
              0.1111111111111111,
              "#482878"
             ],
             [
              0.2222222222222222,
              "#3e4989"
             ],
             [
              0.3333333333333333,
              "#31688e"
             ],
             [
              0.4444444444444444,
              "#26828e"
             ],
             [
              0.5555555555555556,
              "#1f9e89"
             ],
             [
              0.6666666666666666,
              "#35b779"
             ],
             [
              0.7777777777777778,
              "#6ece58"
             ],
             [
              0.8888888888888888,
              "#b5de2b"
             ],
             [
              1,
              "#fde725"
             ]
            ],
            "type": "heatmapgl"
           }
          ],
          "histogram": [
           {
            "marker": {
             "line": {
              "color": "white",
              "width": 0.6
             }
            },
            "type": "histogram"
           }
          ],
          "histogram2d": [
           {
            "colorbar": {
             "outlinewidth": 1,
             "tickcolor": "rgb(36,36,36)",
             "ticks": "outside"
            },
            "colorscale": [
             [
              0,
              "#440154"
             ],
             [
              0.1111111111111111,
              "#482878"
             ],
             [
              0.2222222222222222,
              "#3e4989"
             ],
             [
              0.3333333333333333,
              "#31688e"
             ],
             [
              0.4444444444444444,
              "#26828e"
             ],
             [
              0.5555555555555556,
              "#1f9e89"
             ],
             [
              0.6666666666666666,
              "#35b779"
             ],
             [
              0.7777777777777778,
              "#6ece58"
             ],
             [
              0.8888888888888888,
              "#b5de2b"
             ],
             [
              1,
              "#fde725"
             ]
            ],
            "type": "histogram2d"
           }
          ],
          "histogram2dcontour": [
           {
            "colorbar": {
             "outlinewidth": 1,
             "tickcolor": "rgb(36,36,36)",
             "ticks": "outside"
            },
            "colorscale": [
             [
              0,
              "#440154"
             ],
             [
              0.1111111111111111,
              "#482878"
             ],
             [
              0.2222222222222222,
              "#3e4989"
             ],
             [
              0.3333333333333333,
              "#31688e"
             ],
             [
              0.4444444444444444,
              "#26828e"
             ],
             [
              0.5555555555555556,
              "#1f9e89"
             ],
             [
              0.6666666666666666,
              "#35b779"
             ],
             [
              0.7777777777777778,
              "#6ece58"
             ],
             [
              0.8888888888888888,
              "#b5de2b"
             ],
             [
              1,
              "#fde725"
             ]
            ],
            "type": "histogram2dcontour"
           }
          ],
          "mesh3d": [
           {
            "colorbar": {
             "outlinewidth": 1,
             "tickcolor": "rgb(36,36,36)",
             "ticks": "outside"
            },
            "type": "mesh3d"
           }
          ],
          "parcoords": [
           {
            "line": {
             "colorbar": {
              "outlinewidth": 1,
              "tickcolor": "rgb(36,36,36)",
              "ticks": "outside"
             }
            },
            "type": "parcoords"
           }
          ],
          "pie": [
           {
            "automargin": true,
            "type": "pie"
           }
          ],
          "scatter": [
           {
            "fillpattern": {
             "fillmode": "overlay",
             "size": 10,
             "solidity": 0.2
            },
            "type": "scatter"
           }
          ],
          "scatter3d": [
           {
            "line": {
             "colorbar": {
              "outlinewidth": 1,
              "tickcolor": "rgb(36,36,36)",
              "ticks": "outside"
             }
            },
            "marker": {
             "colorbar": {
              "outlinewidth": 1,
              "tickcolor": "rgb(36,36,36)",
              "ticks": "outside"
             }
            },
            "type": "scatter3d"
           }
          ],
          "scattercarpet": [
           {
            "marker": {
             "colorbar": {
              "outlinewidth": 1,
              "tickcolor": "rgb(36,36,36)",
              "ticks": "outside"
             }
            },
            "type": "scattercarpet"
           }
          ],
          "scattergeo": [
           {
            "marker": {
             "colorbar": {
              "outlinewidth": 1,
              "tickcolor": "rgb(36,36,36)",
              "ticks": "outside"
             }
            },
            "type": "scattergeo"
           }
          ],
          "scattergl": [
           {
            "marker": {
             "colorbar": {
              "outlinewidth": 1,
              "tickcolor": "rgb(36,36,36)",
              "ticks": "outside"
             }
            },
            "type": "scattergl"
           }
          ],
          "scattermapbox": [
           {
            "marker": {
             "colorbar": {
              "outlinewidth": 1,
              "tickcolor": "rgb(36,36,36)",
              "ticks": "outside"
             }
            },
            "type": "scattermapbox"
           }
          ],
          "scatterpolar": [
           {
            "marker": {
             "colorbar": {
              "outlinewidth": 1,
              "tickcolor": "rgb(36,36,36)",
              "ticks": "outside"
             }
            },
            "type": "scatterpolar"
           }
          ],
          "scatterpolargl": [
           {
            "marker": {
             "colorbar": {
              "outlinewidth": 1,
              "tickcolor": "rgb(36,36,36)",
              "ticks": "outside"
             }
            },
            "type": "scatterpolargl"
           }
          ],
          "scatterternary": [
           {
            "marker": {
             "colorbar": {
              "outlinewidth": 1,
              "tickcolor": "rgb(36,36,36)",
              "ticks": "outside"
             }
            },
            "type": "scatterternary"
           }
          ],
          "surface": [
           {
            "colorbar": {
             "outlinewidth": 1,
             "tickcolor": "rgb(36,36,36)",
             "ticks": "outside"
            },
            "colorscale": [
             [
              0,
              "#440154"
             ],
             [
              0.1111111111111111,
              "#482878"
             ],
             [
              0.2222222222222222,
              "#3e4989"
             ],
             [
              0.3333333333333333,
              "#31688e"
             ],
             [
              0.4444444444444444,
              "#26828e"
             ],
             [
              0.5555555555555556,
              "#1f9e89"
             ],
             [
              0.6666666666666666,
              "#35b779"
             ],
             [
              0.7777777777777778,
              "#6ece58"
             ],
             [
              0.8888888888888888,
              "#b5de2b"
             ],
             [
              1,
              "#fde725"
             ]
            ],
            "type": "surface"
           }
          ],
          "table": [
           {
            "cells": {
             "fill": {
              "color": "rgb(237,237,237)"
             },
             "line": {
              "color": "white"
             }
            },
            "header": {
             "fill": {
              "color": "rgb(217,217,217)"
             },
             "line": {
              "color": "white"
             }
            },
            "type": "table"
           }
          ]
         },
         "layout": {
          "annotationdefaults": {
           "arrowhead": 0,
           "arrowwidth": 1
          },
          "autotypenumbers": "strict",
          "coloraxis": {
           "colorbar": {
            "outlinewidth": 1,
            "tickcolor": "rgb(36,36,36)",
            "ticks": "outside"
           }
          },
          "colorscale": {
           "diverging": [
            [
             0,
             "rgb(103,0,31)"
            ],
            [
             0.1,
             "rgb(178,24,43)"
            ],
            [
             0.2,
             "rgb(214,96,77)"
            ],
            [
             0.3,
             "rgb(244,165,130)"
            ],
            [
             0.4,
             "rgb(253,219,199)"
            ],
            [
             0.5,
             "rgb(247,247,247)"
            ],
            [
             0.6,
             "rgb(209,229,240)"
            ],
            [
             0.7,
             "rgb(146,197,222)"
            ],
            [
             0.8,
             "rgb(67,147,195)"
            ],
            [
             0.9,
             "rgb(33,102,172)"
            ],
            [
             1,
             "rgb(5,48,97)"
            ]
           ],
           "sequential": [
            [
             0,
             "#440154"
            ],
            [
             0.1111111111111111,
             "#482878"
            ],
            [
             0.2222222222222222,
             "#3e4989"
            ],
            [
             0.3333333333333333,
             "#31688e"
            ],
            [
             0.4444444444444444,
             "#26828e"
            ],
            [
             0.5555555555555556,
             "#1f9e89"
            ],
            [
             0.6666666666666666,
             "#35b779"
            ],
            [
             0.7777777777777778,
             "#6ece58"
            ],
            [
             0.8888888888888888,
             "#b5de2b"
            ],
            [
             1,
             "#fde725"
            ]
           ],
           "sequentialminus": [
            [
             0,
             "#440154"
            ],
            [
             0.1111111111111111,
             "#482878"
            ],
            [
             0.2222222222222222,
             "#3e4989"
            ],
            [
             0.3333333333333333,
             "#31688e"
            ],
            [
             0.4444444444444444,
             "#26828e"
            ],
            [
             0.5555555555555556,
             "#1f9e89"
            ],
            [
             0.6666666666666666,
             "#35b779"
            ],
            [
             0.7777777777777778,
             "#6ece58"
            ],
            [
             0.8888888888888888,
             "#b5de2b"
            ],
            [
             1,
             "#fde725"
            ]
           ]
          },
          "colorway": [
           "#1F77B4",
           "#FF7F0E",
           "#2CA02C",
           "#D62728",
           "#9467BD",
           "#8C564B",
           "#E377C2",
           "#7F7F7F",
           "#BCBD22",
           "#17BECF"
          ],
          "font": {
           "color": "rgb(36,36,36)"
          },
          "geo": {
           "bgcolor": "white",
           "lakecolor": "white",
           "landcolor": "white",
           "showlakes": true,
           "showland": true,
           "subunitcolor": "white"
          },
          "hoverlabel": {
           "align": "left"
          },
          "hovermode": "closest",
          "mapbox": {
           "style": "light"
          },
          "paper_bgcolor": "white",
          "plot_bgcolor": "white",
          "polar": {
           "angularaxis": {
            "gridcolor": "rgb(232,232,232)",
            "linecolor": "rgb(36,36,36)",
            "showgrid": false,
            "showline": true,
            "ticks": "outside"
           },
           "bgcolor": "white",
           "radialaxis": {
            "gridcolor": "rgb(232,232,232)",
            "linecolor": "rgb(36,36,36)",
            "showgrid": false,
            "showline": true,
            "ticks": "outside"
           }
          },
          "scene": {
           "xaxis": {
            "backgroundcolor": "white",
            "gridcolor": "rgb(232,232,232)",
            "gridwidth": 2,
            "linecolor": "rgb(36,36,36)",
            "showbackground": true,
            "showgrid": false,
            "showline": true,
            "ticks": "outside",
            "zeroline": false,
            "zerolinecolor": "rgb(36,36,36)"
           },
           "yaxis": {
            "backgroundcolor": "white",
            "gridcolor": "rgb(232,232,232)",
            "gridwidth": 2,
            "linecolor": "rgb(36,36,36)",
            "showbackground": true,
            "showgrid": false,
            "showline": true,
            "ticks": "outside",
            "zeroline": false,
            "zerolinecolor": "rgb(36,36,36)"
           },
           "zaxis": {
            "backgroundcolor": "white",
            "gridcolor": "rgb(232,232,232)",
            "gridwidth": 2,
            "linecolor": "rgb(36,36,36)",
            "showbackground": true,
            "showgrid": false,
            "showline": true,
            "ticks": "outside",
            "zeroline": false,
            "zerolinecolor": "rgb(36,36,36)"
           }
          },
          "shapedefaults": {
           "fillcolor": "black",
           "line": {
            "width": 0
           },
           "opacity": 0.3
          },
          "ternary": {
           "aaxis": {
            "gridcolor": "rgb(232,232,232)",
            "linecolor": "rgb(36,36,36)",
            "showgrid": false,
            "showline": true,
            "ticks": "outside"
           },
           "baxis": {
            "gridcolor": "rgb(232,232,232)",
            "linecolor": "rgb(36,36,36)",
            "showgrid": false,
            "showline": true,
            "ticks": "outside"
           },
           "bgcolor": "white",
           "caxis": {
            "gridcolor": "rgb(232,232,232)",
            "linecolor": "rgb(36,36,36)",
            "showgrid": false,
            "showline": true,
            "ticks": "outside"
           }
          },
          "title": {
           "x": 0.05
          },
          "xaxis": {
           "automargin": true,
           "gridcolor": "rgb(232,232,232)",
           "linecolor": "rgb(36,36,36)",
           "showgrid": false,
           "showline": true,
           "ticks": "outside",
           "title": {
            "standoff": 15
           },
           "zeroline": false,
           "zerolinecolor": "rgb(36,36,36)"
          },
          "yaxis": {
           "automargin": true,
           "gridcolor": "rgb(232,232,232)",
           "linecolor": "rgb(36,36,36)",
           "showgrid": false,
           "showline": true,
           "ticks": "outside",
           "title": {
            "standoff": 15
           },
           "zeroline": false,
           "zerolinecolor": "rgb(36,36,36)"
          }
         }
        },
        "title": {
         "font": {
          "color": "Black",
          "size": 22
         },
         "text": "<b>Topics over Time</b>",
         "x": 0.4,
         "xanchor": "center",
         "y": 0.95,
         "yanchor": "top"
        },
        "width": 1250,
        "xaxis": {
         "showgrid": true
        },
        "yaxis": {
         "showgrid": true,
         "title": {
          "text": "Frequency"
         }
        }
       }
      },
      "text/html": [
       "<div>                            <div id=\"13ad0f65-cf31-42c8-be91-a9c2a3cdca30\" class=\"plotly-graph-div\" style=\"height:450px; width:1250px;\"></div>            <script type=\"text/javascript\">                require([\"plotly\"], function(Plotly) {                    window.PLOTLYENV=window.PLOTLYENV || {};                                    if (document.getElementById(\"13ad0f65-cf31-42c8-be91-a9c2a3cdca30\")) {                    Plotly.newPlot(                        \"13ad0f65-cf31-42c8-be91-a9c2a3cdca30\",                        [{\"hoverinfo\":\"text\",\"hovertext\":[\"<b>Topic 0</b><br>Words: zdravstvenega, vpra\\u0161anje, zakona, seveda, tem\",\"<b>Topic 0</b><br>Words: hvala, zdravstvenega, jezika, zakona, minister\",\"<b>Topic 0</b><br>Words: zakona, zdravstvenega, ministrstvo, ta, predlog\",\"<b>Topic 0</b><br>Words: minister, kebra, hvala, zavarovanja, zdravstva\",\"<b>Topic 0</b><br>Words: zakona, zavarovanja, vzajemne, zdravstvenega, recepta\",\"<b>Topic 0</b><br>Words: minister, zdravstvenega, gospod, koncesije, miz\",\"<b>Topic 0</b><br>Words: zdravil, storitev, zdravstvenega, lepa, tem\",\"<b>Topic 0</b><br>Words: zdravstvenega, storitev, hvala, tem, vzajemna\",\"<b>Topic 0</b><br>Words: maru\\u0161i\\u010d, zdravstva, hvala, bo, storitev\",\"<b>Topic 0</b><br>Words: razlage, zakonodajno, hvala, minister, polnega\",\"<b>Topic 0</b><br>Words: zakona, zdravstvenega, zavarovanja, storitev, hvala\",\"<b>Topic 0</b><br>Words: hospic, hvala, zdravstvu, minister, varstvo\",\"<b>Topic 0</b><br>Words: 105, zdravje, lekarne, hvala, laboratorij\",\"<b>Topic 0</b><br>Words: urgentnih, pravilnika, zavarovanje, zdravje, ministrica\",\"<b>Topic 0</b><br>Words: \\u010dakalnih, zdravstva, dejavnosti, koncesije, javno\",\"<b>Topic 0</b><br>Words: ministrica, dejavnosti, storitev, zdravstva, sistem\",\"<b>Topic 0</b><br>Words: ukc, otro\\u0161ke, sr\\u010dne, sistem, zdravstvenega\",\"<b>Topic 0</b><br>Words: sistem, evrov, hvala, zdravstva, danes\",\"<b>Topic 0</b><br>Words: zdravstva, hvala, sistem, so, bo\",\"<b>Topic 0</b><br>Words: zdravil, dejavnosti, zakon, zdravstva, ta\"],\"marker\":{\"color\":\"#E69F00\"},\"mode\":\"lines\",\"name\":\"0_zdravil_hvala_zdravstva_storitev\",\"x\":[\"2000-11-22T04:52:19.200000\",\"2001-12-24T20:24:00\",\"2003-01-18T16:48:00\",\"2004-02-12T13:12:00\",\"2005-03-08T09:36:00\",\"2006-04-02T06:00:00\",\"2007-04-27T02:24:00\",\"2008-05-20T22:48:00\",\"2009-06-14T19:12:00\",\"2010-07-09T15:36:00\",\"2011-08-03T12:00:00\",\"2012-08-27T08:24:00\",\"2013-09-21T04:48:00\",\"2014-10-16T01:12:00\",\"2015-11-09T21:36:00\",\"2016-12-03T18:00:00\",\"2017-12-28T14:24:00\",\"2019-01-22T10:48:00\",\"2020-02-16T07:12:00\",\"2021-03-12T03:36:00\"],\"y\":[88,146,109,95,247,206,259,130,87,105,61,93,132,193,185,306,118,243,262,373],\"type\":\"scatter\"},{\"hoverinfo\":\"text\",\"hovertext\":[\"<b>Topic 1</b><br>Words: seveda, sekretariat, \\u017eenske, filmskem, mnenje\",\"<b>Topic 1</b><br>Words: mogo\\u010de, zakon, tem, tu, bom\",\"<b>Topic 1</b><br>Words: naziv, vodovodnih, doktor, bil, ustavno\",\"<b>Topic 1</b><br>Words: vlade, ministra, bil, seveda, gospod\",\"<b>Topic 1</b><br>Words: danes, bom, ta, bil, ob\\u010din\",\"<b>Topic 1</b><br>Words: mislim, minister, ta, danes, bil\",\"<b>Topic 1</b><br>Words: pokrajine, tem, jaz, zakon, samo\",\"<b>Topic 1</b><br>Words: izbrisanih, ustavnega, bil, ta, kresal\",\"<b>Topic 1</b><br>Words: sem, tem, bil, danes, so\",\"<b>Topic 1</b><br>Words: obrambo, ta, bil, predsedstva, oro\\u017eja\",\"<b>Topic 1</b><br>Words: po\\u010ditnice, zimskih, \\u0161olstvo, \\u0161port, minister\",\"<b>Topic 1</b><br>Words: sodnik, danes, kdo, potem, tem\",\"<b>Topic 1</b><br>Words: tem, poglejte, bo, danes, minister\",\"<b>Topic 1</b><br>Words: mi, zdaj, mislim, potem, danes\",\"<b>Topic 1</b><br>Words: bom, ministrica, potem, imamo, naprej\",\"<b>Topic 1</b><br>Words: ampak, zdaj, ministrica, vi, vem\",\"<b>Topic 1</b><br>Words: sem, potem, zakaj, seveda, bomo\",\"<b>Topic 1</b><br>Words: potem, vem, danes, bomo, kdo\",\"<b>Topic 1</b><br>Words: bom, danes, potem, zdaj, minister\",\"<b>Topic 1</b><br>Words: minister, jaz, potem, vse, danes\"],\"marker\":{\"color\":\"#56B4E9\"},\"mode\":\"lines\",\"name\":\"1_sem_potem_tem_danes\",\"x\":[\"2000-11-22T04:52:19.200000\",\"2001-12-24T20:24:00\",\"2003-01-18T16:48:00\",\"2004-02-12T13:12:00\",\"2005-03-08T09:36:00\",\"2006-04-02T06:00:00\",\"2007-04-27T02:24:00\",\"2008-05-20T22:48:00\",\"2009-06-14T19:12:00\",\"2010-07-09T15:36:00\",\"2011-08-03T12:00:00\",\"2012-08-27T08:24:00\",\"2013-09-21T04:48:00\",\"2014-10-16T01:12:00\",\"2015-11-09T21:36:00\",\"2016-12-03T18:00:00\",\"2017-12-28T14:24:00\",\"2019-01-22T10:48:00\",\"2020-02-16T07:12:00\",\"2021-03-12T03:36:00\"],\"y\":[25,33,21,36,58,58,66,44,51,50,20,32,60,51,74,78,66,63,156,167],\"type\":\"scatter\"},{\"hoverinfo\":\"text\",\"hovertext\":[\"<b>Topic 2</b><br>Words: pregovor, nesre\\u010dami, bakterijo, u\\u010dinkovit, bolni\\u0161nice\",\"<b>Topic 2</b><br>Words: biopsij, patologov, ultravozvok, ekzoti\\u010dni, malignom\",\"<b>Topic 2</b><br>Words: histolo\\u0161kih, bolni\\u0161ni\\u010dnih, diagnostika, gastroskopija, zakasnitev\",\"<b>Topic 2</b><br>Words: invalidov, oku\\u017eb, enakopravno, pomilovanje, malte\\u0161ka\",\"<b>Topic 2</b><br>Words: gripe, cepljenja, influence, obvezno, tamiflu\",\"<b>Topic 2</b><br>Words: cepljenje, papiloma, hpv, materni\\u010dnega, detektive\",\"<b>Topic 2</b><br>Words: bolni\\u0161ni\\u010dnih, kajenja, pogostost, vankomicinu, prepovedi\",\"<b>Topic 2</b><br>Words: averzijskimi, tiergarten, auersperge, semanti\\u010dno, shizofrenijo\",\"<b>Topic 2</b><br>Words: prostovoljnost, cepivo, wolfgang, 000, na\\u010delo\",\"<b>Topic 2</b><br>Words: bolni\\u0161ni\\u010dnih, seminarja, dru\\u017einski, spolno, prevalenca\",\"<b>Topic 2</b><br>Words: raziskava, cepljene, upokojence, dotaknete, bolni\\u0161nicah\",\"<b>Topic 2</b><br>Words: cepljenje, ris, novonaseljeno, rise, samice\",\"<b>Topic 2</b><br>Words: deportiran, \\u0161tudirajo\\u010da, mogel, brezupno, pogovarjajmo\",\"<b>Topic 2</b><br>Words: pra\\u0161nih, strupenih, talijem, samoorganizirale, c104\",\"<b>Topic 2</b><br>Words: ilirska, kemi\\u010dnih, ubojnih, suma, arhiva\",\"<b>Topic 2</b><br>Words: gospodje, radikalnega, islamu, gospe, imunski\",\"<b>Topic 2</b><br>Words: imunski, govorimo, sodnikov, ribi\\u010di\\u010d, deklaracije\",\"<b>Topic 2</b><br>Words: umre, rakom, bolni\\u0161nicah, gluten, vaju\",\"<b>Topic 2</b><br>Words: 19, covid, epidemijo, vlada, cepljenje\",\"<b>Topic 2</b><br>Words: epidemijo, 19, vlada, ukrepi, covida\"],\"marker\":{\"color\":\"#009E73\"},\"mode\":\"lines\",\"name\":\"2_19_epidemijo_cepljenje_vlada\",\"x\":[\"2000-11-22T04:52:19.200000\",\"2001-12-24T20:24:00\",\"2003-01-18T16:48:00\",\"2004-02-12T13:12:00\",\"2005-03-08T09:36:00\",\"2006-04-02T06:00:00\",\"2007-04-27T02:24:00\",\"2008-05-20T22:48:00\",\"2009-06-14T19:12:00\",\"2010-07-09T15:36:00\",\"2011-08-03T12:00:00\",\"2012-08-27T08:24:00\",\"2013-09-21T04:48:00\",\"2014-10-16T01:12:00\",\"2015-11-09T21:36:00\",\"2016-12-03T18:00:00\",\"2017-12-28T14:24:00\",\"2019-01-22T10:48:00\",\"2020-02-16T07:12:00\",\"2021-03-12T03:36:00\"],\"y\":[4,1,2,3,23,4,3,1,10,3,3,3,2,3,4,5,3,11,275,199],\"type\":\"scatter\"},{\"hoverinfo\":\"text\",\"hovertext\":[\"<b>Topic 3</b><br>Words: \\u0161oli, oploditve, obmp, biomedicinsko, dopusta\",\"<b>Topic 3</b><br>Words: visokega, \\u0161olstva, univerza, program, nacionalni\",\"<b>Topic 3</b><br>Words: mariboru, univerze, policijsko, vrtci, medicinske\",\"<b>Topic 3</b><br>Words: 42, istospolnih, izobra\\u017eevanje, zavarovanje, star\\u0161ev\",\"<b>Topic 3</b><br>Words: timss, raziskave, antievropski, otroci, preobremenjenosti\",\"<b>Topic 3</b><br>Words: izobra\\u017eevanja, univerze, vrtca, odraslih, mariboru\",\"<b>Topic 3</b><br>Words: \\u0161ole, zasebne, u\\u010dencev, jezikov, star\\u0161i\",\"<b>Topic 3</b><br>Words: univerze, statusno, umetni\\u0161ke, \\u0161ole, podpiramo\",\"<b>Topic 3</b><br>Words: otroka, dru\\u017einah, usmerjenost, zveze, skupnost\",\"<b>Topic 3</b><br>Words: posebnimi, usmerjanju, zakonu, univerze, sladkorno\",\"<b>Topic 3</b><br>Words: po\\u010ditnice, istospolnih, 44, o\\u010detovstva, pravice\",\"<b>Topic 3</b><br>Words: besede, otrok, emocionalnega, znanja, potrebami\",\"<b>Topic 3</b><br>Words: resolucije, dopusta, star\\u0161evski, desus, dojenja\",\"<b>Topic 3</b><br>Words: izobra\\u017eevanja, prakti\\u010dnega, otrok, vajeni\\u0161ko, pravice\",\"<b>Topic 3</b><br>Words: \\u0161ole, sodi\\u0161\\u010da, zasebne, zofvi, otroka\",\"<b>Topic 3</b><br>Words: posebnimi, potrebami, izobra\\u017eevanja, \\u0161tudentje, zgodnje\",\"<b>Topic 3</b><br>Words: politike, rodnost, bogatih, dopusta, dodatka\",\"<b>Topic 3</b><br>Words: \\u0161ole, zasebne, otroka, raz\\u0161irjeni, program\",\"<b>Topic 3</b><br>Words: posebnimi, potrebami, \\u010dustvenimi, vedenjskimi, otrokom\",\"<b>Topic 3</b><br>Words: \\u0161ole, potrebami, posebnimi, otroka, kustec\"],\"marker\":{\"color\":\"#F0E442\"},\"mode\":\"lines\",\"name\":\"3_\\u0161ole_potrebami_posebnimi_otroci\",\"x\":[\"2000-11-22T04:52:19.200000\",\"2001-12-24T20:24:00\",\"2003-01-18T16:48:00\",\"2004-02-12T13:12:00\",\"2005-03-08T09:36:00\",\"2006-04-02T06:00:00\",\"2007-04-27T02:24:00\",\"2008-05-20T22:48:00\",\"2009-06-14T19:12:00\",\"2010-07-09T15:36:00\",\"2011-08-03T12:00:00\",\"2012-08-27T08:24:00\",\"2013-09-21T04:48:00\",\"2014-10-16T01:12:00\",\"2015-11-09T21:36:00\",\"2016-12-03T18:00:00\",\"2017-12-28T14:24:00\",\"2019-01-22T10:48:00\",\"2020-02-16T07:12:00\",\"2021-03-12T03:36:00\"],\"y\":[23,14,19,7,6,30,15,6,8,22,14,10,11,19,21,42,11,19,35,58],\"type\":\"scatter\"},{\"hoverinfo\":\"text\",\"hovertext\":[\"<b>Topic 4</b><br>Words: mami\\u0107, se\\u017eiganje, kmetijstvo, slovenskega, salonitu\",\"<b>Topic 4</b><br>Words: svetu, resolucije, industrija, farmacevtska, ministre\",\"<b>Topic 4</b><br>Words: atenah, slovenija, d\\u017euban, unije, sramujete\",\"<b>Topic 4</b><br>Words: vlada, bomo, evropski, dr\\u017eave, predsednik\",\"<b>Topic 4</b><br>Words: unije, slovenija, lizbonske, strategije, predsedovanje\",\"<b>Topic 4</b><br>Words: slovenije, sedaj, povedal, rtv, drobni\\u010da\",\"<b>Topic 4</b><br>Words: slovenija, novinarjev, vlade, 2007, teh\",\"<b>Topic 4</b><br>Words: slovenija, unije, bomo, bo, vodenje\",\"<b>Topic 4</b><br>Words: ultra, unije, evropske, gospod, zakaj\",\"<b>Topic 4</b><br>Words: volilni, po\\u0161ti, ustvarjeno, ta, \\u010dasu\",\"<b>Topic 4</b><br>Words: prikaz, rast, bomo, vlade, rebalansa\",\"<b>Topic 4</b><br>Words: podpisov, notranje, odgovornost, sindikata, pozitivne\",\"<b>Topic 4</b><br>Words: bomo, samouprave, bo, lokalne, razvoj\",\"<b>Topic 4</b><br>Words: unije, vlade, tem, meji, danes\",\"<b>Topic 4</b><br>Words: vlada, ampak, bodo, bo, ljudje\",\"<b>Topic 4</b><br>Words: unije, slovenijo, ljudi, uber, kraljestva\",\"<b>Topic 4</b><br>Words: migracije, vlade, slovenijo, dr\\u017eave, danes\",\"<b>Topic 4</b><br>Words: migrant, ankete, ubil, slovenija, dr\\u017eavnost\",\"<b>Topic 4</b><br>Words: vlada, evropske, dr\\u017eave, opreme, ljudi\",\"<b>Topic 4</b><br>Words: minister, vlade, slovenija, kulturi, samozaposlenih\"],\"marker\":{\"color\":\"#D55E00\"},\"mode\":\"lines\",\"name\":\"4_evropske_unije_tem_bo\",\"x\":[\"2000-11-22T04:52:19.200000\",\"2001-12-24T20:24:00\",\"2003-01-18T16:48:00\",\"2004-02-12T13:12:00\",\"2005-03-08T09:36:00\",\"2006-04-02T06:00:00\",\"2007-04-27T02:24:00\",\"2008-05-20T22:48:00\",\"2009-06-14T19:12:00\",\"2010-07-09T15:36:00\",\"2011-08-03T12:00:00\",\"2012-08-27T08:24:00\",\"2013-09-21T04:48:00\",\"2014-10-16T01:12:00\",\"2015-11-09T21:36:00\",\"2016-12-03T18:00:00\",\"2017-12-28T14:24:00\",\"2019-01-22T10:48:00\",\"2020-02-16T07:12:00\",\"2021-03-12T03:36:00\"],\"y\":[3,13,4,26,16,10,17,23,12,17,15,9,29,22,16,27,24,9,52,35],\"type\":\"scatter\"},{\"hoverinfo\":\"text\",\"hovertext\":[\"<b>Topic 5</b><br>Words: 2002, 2003, odstotka, izdatkov, milijard\",\"<b>Topic 5</b><br>Words: 2003, prora\\u010dunska, klub, liberalne, demokracije\",\"<b>Topic 5</b><br>Words: milijard, kmetijstvo, konvergen\\u010dnih, revizijskega, dokon\\u010dati\",\"<b>Topic 5</b><br>Words: 2003, zaklju\\u010dnega, nacionalne, sodi\\u0161\\u010de, reforme\",\"<b>Topic 5</b><br>Words: 2007, milijard, letu, finance, slovenije\",\"<b>Topic 5</b><br>Words: prora\\u010duna, 2007, milijard, slovenije, bdp\",\"<b>Topic 5</b><br>Words: bdp, rast, prora\\u010dun, 2007, evrov\",\"<b>Topic 5</b><br>Words: prora\\u010duna, 2007, rast, cigaret, unije\",\"<b>Topic 5</b><br>Words: prora\\u010duna, 2009, slovenije, zagotovo, vlada\",\"<b>Topic 5</b><br>Words: reforma, javnih, milijonov, evropskih, samoza\\u0161\\u010dita\",\"<b>Topic 5</b><br>Words: 2008, debelih, graf, nnnp, prora\\u010duna\",\"<b>Topic 5</b><br>Words: proizvoda, 2013, fiskalnega, bank, pravilo\",\"<b>Topic 5</b><br>Words: bank, evrov, slovenije, nepremi\\u010dnine, bratu\\u0161ek\",\"<b>Topic 5</b><br>Words: 2015, evrov, stop, furs, rast\",\"<b>Topic 5</b><br>Words: 2017, rast, vlada, milijonov, evrov\",\"<b>Topic 5</b><br>Words: finance, evrov, 2019, rast, milijonov\",\"<b>Topic 5</b><br>Words: fiskalnega, bratu\\u0161ek, 2018, zormanov, kriminalitete\",\"<b>Topic 5</b><br>Words: evrov, demokratski, milijonov, slovenski, 2019\",\"<b>Topic 5</b><br>Words: evrov, 2020, milijonov, okrevanje, epidemije\",\"<b>Topic 5</b><br>Words: 2022, evrov, milijonov, prora\\u010dunov, covid\"],\"marker\":{\"color\":\"#0072B2\"},\"mode\":\"lines\",\"name\":\"5_evrov_rast_milijonov_2007\",\"x\":[\"2000-11-22T04:52:19.200000\",\"2001-12-24T20:24:00\",\"2003-01-18T16:48:00\",\"2004-02-12T13:12:00\",\"2005-03-08T09:36:00\",\"2006-04-02T06:00:00\",\"2007-04-27T02:24:00\",\"2008-05-20T22:48:00\",\"2009-06-14T19:12:00\",\"2010-07-09T15:36:00\",\"2011-08-03T12:00:00\",\"2012-08-27T08:24:00\",\"2013-09-21T04:48:00\",\"2014-10-16T01:12:00\",\"2015-11-09T21:36:00\",\"2016-12-03T18:00:00\",\"2017-12-28T14:24:00\",\"2019-01-22T10:48:00\",\"2020-02-16T07:12:00\",\"2021-03-12T03:36:00\"],\"y\":[14,5,6,6,12,20,17,12,23,13,3,9,27,20,43,18,13,16,40,20],\"type\":\"scatter\"},{\"hoverinfo\":\"text\",\"hovertext\":[\"<b>Topic 6</b><br>Words: sodi\\u0161\\u010di, nasvet, brezpla\\u010dno, referendum, skd\",\"<b>Topic 6</b><br>Words: dr\\u017eavljanstvu, sodi\\u0161\\u010de, slovenskega, watch, kemijske\",\"<b>Topic 6</b><br>Words: referendumskega, statusa, protipravno, 1993, brezposelnih\",\"<b>Topic 6</b><br>Words: metadon, psihiatrijo, program, pride, pla\\u010deval\",\"<b>Topic 6</b><br>Words: ustanovitev, slovenije, trgovin, zbor, nacionalni\",\"<b>Topic 6</b><br>Words: 8x8, oro\\u017ejem, referenduma, slovenije, nakup\",\"<b>Topic 6</b><br>Words: imuniteto, zapora, dosmrtnega, globe, nacionalne\",\"<b>Topic 6</b><br>Words: tarife, odvetni\\u0161ke, sankcij, du\\u0161evnih, normalno\",\"<b>Topic 6</b><br>Words: mednarodnega, pla\\u010de, tribunal, badinterijeva, hrva\\u0161ko\",\"<b>Topic 6</b><br>Words: kazenska, zakon, slovenske, ta, droge\",\"<b>Topic 6</b><br>Words: skupnosti, verski, zvon, protestiram, pozitivni\",\"<b>Topic 6</b><br>Words: kmetijsko, sodi\\u0161\\u010d, sds, \\u010dlanstva, referenduma\",\"<b>Topic 6</b><br>Words: volilne, krediti, po\\u0161ti, republike, stalnega\",\"<b>Topic 6</b><br>Words: \\u017eenskami, nasilja, telekoma, slovenije, odvetnikov\",\"<b>Topic 6</b><br>Words: koalicija, pokopali\\u0161\\u010da, varnosti, seveda, demokratski\",\"<b>Topic 6</b><br>Words: verskih, erdogan, migrantov, politiko, arbitra\\u017enega\",\"<b>Topic 6</b><br>Words: po\\u0161kodbe, podjetnik, malomarnosti, operativnih, regresni\",\"<b>Topic 6</b><br>Words: venezueli, prebivali\\u0161\\u010da, zakona, ljudje, slovenije\",\"<b>Topic 6</b><br>Words: jezika, stro\\u0161ki, tujec, konvencije, bo\",\"<b>Topic 6</b><br>Words: obto\\u017ebe, ustavne, sab, business, republike\"],\"marker\":{\"color\":\"#CC79A7\"},\"mode\":\"lines\",\"name\":\"6_bo_sloveniji_stranke_so\",\"x\":[\"2000-11-22T04:52:19.200000\",\"2001-12-24T20:24:00\",\"2003-01-18T16:48:00\",\"2004-02-12T13:12:00\",\"2005-03-08T09:36:00\",\"2006-04-02T06:00:00\",\"2007-04-27T02:24:00\",\"2008-05-20T22:48:00\",\"2009-06-14T19:12:00\",\"2010-07-09T15:36:00\",\"2011-08-03T12:00:00\",\"2012-08-27T08:24:00\",\"2013-09-21T04:48:00\",\"2014-10-16T01:12:00\",\"2015-11-09T21:36:00\",\"2016-12-03T18:00:00\",\"2017-12-28T14:24:00\",\"2019-01-22T10:48:00\",\"2020-02-16T07:12:00\",\"2021-03-12T03:36:00\"],\"y\":[6,12,8,10,20,19,19,9,21,21,8,13,18,13,18,22,7,20,28,36],\"type\":\"scatter\"},{\"hoverinfo\":\"text\",\"hovertext\":[\"<b>Topic 7</b><br>Words: prora\\u010dunskih, 2003, pla\\u010de, letu, milijarde\",\"<b>Topic 7</b><br>Words: 2003, prora\\u010duna, milijard, km, sit\",\"<b>Topic 7</b><br>Words: 2005, prora\\u010duna, milijard, rast, politike\",\"<b>Topic 7</b><br>Words: 710, prora\\u010dunskih, uspe\\u0161nosti, nevtralna, planiranje\",\"<b>Topic 7</b><br>Words: milijard, letu, prora\\u010dunu, rebalans, dr\\u017eavnega\",\"<b>Topic 7</b><br>Words: izvr\\u0161evanjem, cestninah, grasseto, zadol\\u017eenosti, defektolog\",\"<b>Topic 7</b><br>Words: 2009, letu, politiko, inflacijo, fiskalna\",\"<b>Topic 7</b><br>Words: rebalans, prora\\u010dun, evrov, krize, 2009\",\"<b>Topic 7</b><br>Words: rebalans, evrov, milijonov, prora\\u010dunu, rast\",\"<b>Topic 7</b><br>Words: 2011, rast, konsolidacije, gradbeni\\u0161tvo, bdp\",\"<b>Topic 7</b><br>Words: 2012, evrov, bdp, milijonov, podjetij\",\"<b>Topic 7</b><br>Words: milijonov, prora\\u010dunu, bomo, rebalans, bo\",\"<b>Topic 7</b><br>Words: projektov, fiskalnega, pospe\\u0161ek, pravila, hudi\\u010devo\",\"<b>Topic 7</b><br>Words: rast, prora\\u010duna, milijonov, kosilo, 2014\",\"<b>Topic 7</b><br>Words: 2016, evrov, milijonov, rast, dr\\u017eave\",\"<b>Topic 7</b><br>Words: evrov, rast, letu, 2019, prora\\u010dunov\",\"<b>Topic 7</b><br>Words: han, ni\\u010d, intelektualno, po\\u0161teno, dvorane\",\"<b>Topic 7</b><br>Words: evrov, 2019, letu, rast, tiso\\u010d\",\"<b>Topic 7</b><br>Words: milijonov, evrov, 2021, vlada, rast\",\"<b>Topic 7</b><br>Words: milijonov, evrov, 2022, prora\\u010dunu, primanjkljaj\"],\"marker\":{\"color\":\"#E69F00\"},\"mode\":\"lines\",\"name\":\"7_milijonov_letu_evrov_rast\",\"x\":[\"2000-11-22T04:52:19.200000\",\"2001-12-24T20:24:00\",\"2003-01-18T16:48:00\",\"2004-02-12T13:12:00\",\"2005-03-08T09:36:00\",\"2006-04-02T06:00:00\",\"2007-04-27T02:24:00\",\"2008-05-20T22:48:00\",\"2009-06-14T19:12:00\",\"2010-07-09T15:36:00\",\"2011-08-03T12:00:00\",\"2012-08-27T08:24:00\",\"2013-09-21T04:48:00\",\"2014-10-16T01:12:00\",\"2015-11-09T21:36:00\",\"2016-12-03T18:00:00\",\"2017-12-28T14:24:00\",\"2019-01-22T10:48:00\",\"2020-02-16T07:12:00\",\"2021-03-12T03:36:00\"],\"y\":[10,5,2,2,8,3,12,9,14,4,4,17,5,9,26,23,5,23,33,32],\"type\":\"scatter\"},{\"hoverinfo\":\"text\",\"hovertext\":[\"<b>Topic 8</b><br>Words: arbitrarno, praznovanj, psiholog, vlog, shodov\",\"<b>Topic 8</b><br>Words: avtobus, svetnikov, hranilne, pcp, spije\",\"<b>Topic 8</b><br>Words: republiki, pravni\\u0161ki, liste, tujec, potrdilo\",\"<b>Topic 8</b><br>Words: klientalizem, silna, izbrisane, 1973, zloraba\",\"<b>Topic 8</b><br>Words: referendumsko, avtobusna, kvadratov, sodnikov, odbora\",\"<b>Topic 8</b><br>Words: detektiv, redarjev, celibat, obsojencev, bolni\\u0161ko\",\"<b>Topic 8</b><br>Words: izpitu, telovadbe, skb, pripravni\\u0161tvo, mili\\u010dnik\",\"<b>Topic 8</b><br>Words: zapora, kazenskih, sankcij, sodi\\u0161\\u010de, odlo\\u010da\",\"<b>Topic 8</b><br>Words: sodnikov, pla\\u010de, preverja, referendum, kumrom\",\"<b>Topic 8</b><br>Words: minister, spremenite, referendum, sodstvo, realnost\",\"<b>Topic 8</b><br>Words: knji\\u017eni\\u010darstvu, vlaka, turisti\\u010dnega, globami, radar\",\"<b>Topic 8</b><br>Words: pravosodju, kazenskih, sankcij, psihiatri\\u010dnega, policije\",\"<b>Topic 8</b><br>Words: arhivom, sodniki, sodi\\u0161\\u010de, nedostopnosti, problem\",\"<b>Topic 8</b><br>Words: kazenskih, sankcij, in\\u0161pekcijske, gospa, poropat\",\"<b>Topic 8</b><br>Words: ministrica, zapor, odlo\\u010dbe, zasebne, sodi\\u0161\\u010de\",\"<b>Topic 8</b><br>Words: operater, 149, imsi, podatke, catcher\",\"<b>Topic 8</b><br>Words: obsojenca, delavci, nestabilnost, \\u0161olo, premiki\",\"<b>Topic 8</b><br>Words: odbora, \\u017ertve, kaznivih, problematiziramo, lovilca\",\"<b>Topic 8</b><br>Words: to\\u017eilca, referenduma, zakonodajno, 169, samostojnost\",\"<b>Topic 8</b><br>Words: sodi\\u0161\\u010de, policije, pobudo, vlade, epidemijo\"],\"marker\":{\"color\":\"#56B4E9\"},\"mode\":\"lines\",\"name\":\"8_zapora_referendum_sankcij_sodnikov\",\"x\":[\"2000-11-22T04:52:19.200000\",\"2001-12-24T20:24:00\",\"2003-01-18T16:48:00\",\"2004-02-12T13:12:00\",\"2005-03-08T09:36:00\",\"2006-04-02T06:00:00\",\"2007-04-27T02:24:00\",\"2008-05-20T22:48:00\",\"2009-06-14T19:12:00\",\"2010-07-09T15:36:00\",\"2011-08-03T12:00:00\",\"2012-08-27T08:24:00\",\"2013-09-21T04:48:00\",\"2014-10-16T01:12:00\",\"2015-11-09T21:36:00\",\"2016-12-03T18:00:00\",\"2017-12-28T14:24:00\",\"2019-01-22T10:48:00\",\"2020-02-16T07:12:00\",\"2021-03-12T03:36:00\"],\"y\":[5,6,7,4,22,11,13,12,17,12,3,9,7,17,7,6,4,7,21,18],\"type\":\"scatter\"},{\"hoverinfo\":\"text\",\"hovertext\":[\"<b>Topic 9</b><br>Words: obla\\u010dilo, nepopularno, pokopani, zlo\\u010dine, kri\\u017eca\",\"<b>Topic 9</b><br>Words: pravic, poro\\u010dilo, invalidov, peticije, 2001\",\"<b>Topic 9</b><br>Words: dru\\u017eini, nasilju, pravic, izku\\u0161njo, poro\\u010dilo\",\"<b>Topic 9</b><br>Words: komisija, korupcije, nepristojno, calvo, 962\",\"<b>Topic 9</b><br>Words: komisije, najsi, preiskave, parlamentarne, obremenjevanje\",\"<b>Topic 9</b><br>Words: poro\\u010dilo, nasilja, rev\\u0161\\u010dine, opozorila, javnosti\",\"<b>Topic 9</b><br>Words: nasilja, peticije, minimalnega, korupciji, komisije\",\"<b>Topic 9</b><br>Words: poro\\u010dila, peticije, priporo\\u010dila, varuhinji, sovra\\u017enem\",\"<b>Topic 9</b><br>Words: peticije, kriminala, komisije, pravice, priporo\\u010dila\",\"<b>Topic 9</b><br>Words: poro\\u010dilo, pravi\\u010dna, 2010, peticije, dr\\u017eava\",\"<b>Topic 9</b><br>Words: poro\\u010dilo, nestrpnosti, 1941, delo, otrok\",\"<b>Topic 9</b><br>Words: \\u010dlovekovih, poro\\u010dilo, peticije, to\\u017eilka, rev\\u0161\\u010dine\",\"<b>Topic 9</b><br>Words: poro\\u010dilo, priporo\\u010dila, nussdorfer, vedno, sodnih\",\"<b>Topic 9</b><br>Words: poro\\u010dilu, peticije, delo, 2015, enake\",\"<b>Topic 9</b><br>Words: mark, medical, kb, kr\\u0161itve, komisija\",\"<b>Topic 9</b><br>Words: poro\\u010dilo, komisije, \\u010dlovekovih, preiskovalni, pranja\",\"<b>Topic 9</b><br>Words: poro\\u010dilo, dpm, peticije, kr\\u0161itev, socialnovarstvenih\",\"<b>Topic 9</b><br>Words: varuh, komisija, 2019, preventivnega, mehanizma\",\"<b>Topic 9</b><br>Words: varuha, poro\\u010dilo, priporo\\u010dila, opreme, 2020\"],\"marker\":{\"color\":\"#009E73\"},\"mode\":\"lines\",\"name\":\"9_poro\\u010dilu_pravice_opozarja_priporo\\u010dila\",\"x\":[\"2000-11-22T04:52:19.200000\",\"2003-01-18T16:48:00\",\"2004-02-12T13:12:00\",\"2005-03-08T09:36:00\",\"2006-04-02T06:00:00\",\"2007-04-27T02:24:00\",\"2008-05-20T22:48:00\",\"2009-06-14T19:12:00\",\"2010-07-09T15:36:00\",\"2011-08-03T12:00:00\",\"2012-08-27T08:24:00\",\"2013-09-21T04:48:00\",\"2014-10-16T01:12:00\",\"2015-11-09T21:36:00\",\"2016-12-03T18:00:00\",\"2017-12-28T14:24:00\",\"2019-01-22T10:48:00\",\"2020-02-16T07:12:00\",\"2021-03-12T03:36:00\"],\"y\":[2,7,6,2,4,11,8,12,7,7,7,9,13,6,16,22,14,17,18],\"type\":\"scatter\"}],                        {\"template\":{\"data\":{\"barpolar\":[{\"marker\":{\"line\":{\"color\":\"white\",\"width\":0.5},\"pattern\":{\"fillmode\":\"overlay\",\"size\":10,\"solidity\":0.2}},\"type\":\"barpolar\"}],\"bar\":[{\"error_x\":{\"color\":\"rgb(36,36,36)\"},\"error_y\":{\"color\":\"rgb(36,36,36)\"},\"marker\":{\"line\":{\"color\":\"white\",\"width\":0.5},\"pattern\":{\"fillmode\":\"overlay\",\"size\":10,\"solidity\":0.2}},\"type\":\"bar\"}],\"carpet\":[{\"aaxis\":{\"endlinecolor\":\"rgb(36,36,36)\",\"gridcolor\":\"white\",\"linecolor\":\"white\",\"minorgridcolor\":\"white\",\"startlinecolor\":\"rgb(36,36,36)\"},\"baxis\":{\"endlinecolor\":\"rgb(36,36,36)\",\"gridcolor\":\"white\",\"linecolor\":\"white\",\"minorgridcolor\":\"white\",\"startlinecolor\":\"rgb(36,36,36)\"},\"type\":\"carpet\"}],\"choropleth\":[{\"colorbar\":{\"outlinewidth\":1,\"tickcolor\":\"rgb(36,36,36)\",\"ticks\":\"outside\"},\"type\":\"choropleth\"}],\"contourcarpet\":[{\"colorbar\":{\"outlinewidth\":1,\"tickcolor\":\"rgb(36,36,36)\",\"ticks\":\"outside\"},\"type\":\"contourcarpet\"}],\"contour\":[{\"colorbar\":{\"outlinewidth\":1,\"tickcolor\":\"rgb(36,36,36)\",\"ticks\":\"outside\"},\"colorscale\":[[0.0,\"#440154\"],[0.1111111111111111,\"#482878\"],[0.2222222222222222,\"#3e4989\"],[0.3333333333333333,\"#31688e\"],[0.4444444444444444,\"#26828e\"],[0.5555555555555556,\"#1f9e89\"],[0.6666666666666666,\"#35b779\"],[0.7777777777777778,\"#6ece58\"],[0.8888888888888888,\"#b5de2b\"],[1.0,\"#fde725\"]],\"type\":\"contour\"}],\"heatmapgl\":[{\"colorbar\":{\"outlinewidth\":1,\"tickcolor\":\"rgb(36,36,36)\",\"ticks\":\"outside\"},\"colorscale\":[[0.0,\"#440154\"],[0.1111111111111111,\"#482878\"],[0.2222222222222222,\"#3e4989\"],[0.3333333333333333,\"#31688e\"],[0.4444444444444444,\"#26828e\"],[0.5555555555555556,\"#1f9e89\"],[0.6666666666666666,\"#35b779\"],[0.7777777777777778,\"#6ece58\"],[0.8888888888888888,\"#b5de2b\"],[1.0,\"#fde725\"]],\"type\":\"heatmapgl\"}],\"heatmap\":[{\"colorbar\":{\"outlinewidth\":1,\"tickcolor\":\"rgb(36,36,36)\",\"ticks\":\"outside\"},\"colorscale\":[[0.0,\"#440154\"],[0.1111111111111111,\"#482878\"],[0.2222222222222222,\"#3e4989\"],[0.3333333333333333,\"#31688e\"],[0.4444444444444444,\"#26828e\"],[0.5555555555555556,\"#1f9e89\"],[0.6666666666666666,\"#35b779\"],[0.7777777777777778,\"#6ece58\"],[0.8888888888888888,\"#b5de2b\"],[1.0,\"#fde725\"]],\"type\":\"heatmap\"}],\"histogram2dcontour\":[{\"colorbar\":{\"outlinewidth\":1,\"tickcolor\":\"rgb(36,36,36)\",\"ticks\":\"outside\"},\"colorscale\":[[0.0,\"#440154\"],[0.1111111111111111,\"#482878\"],[0.2222222222222222,\"#3e4989\"],[0.3333333333333333,\"#31688e\"],[0.4444444444444444,\"#26828e\"],[0.5555555555555556,\"#1f9e89\"],[0.6666666666666666,\"#35b779\"],[0.7777777777777778,\"#6ece58\"],[0.8888888888888888,\"#b5de2b\"],[1.0,\"#fde725\"]],\"type\":\"histogram2dcontour\"}],\"histogram2d\":[{\"colorbar\":{\"outlinewidth\":1,\"tickcolor\":\"rgb(36,36,36)\",\"ticks\":\"outside\"},\"colorscale\":[[0.0,\"#440154\"],[0.1111111111111111,\"#482878\"],[0.2222222222222222,\"#3e4989\"],[0.3333333333333333,\"#31688e\"],[0.4444444444444444,\"#26828e\"],[0.5555555555555556,\"#1f9e89\"],[0.6666666666666666,\"#35b779\"],[0.7777777777777778,\"#6ece58\"],[0.8888888888888888,\"#b5de2b\"],[1.0,\"#fde725\"]],\"type\":\"histogram2d\"}],\"histogram\":[{\"marker\":{\"line\":{\"color\":\"white\",\"width\":0.6}},\"type\":\"histogram\"}],\"mesh3d\":[{\"colorbar\":{\"outlinewidth\":1,\"tickcolor\":\"rgb(36,36,36)\",\"ticks\":\"outside\"},\"type\":\"mesh3d\"}],\"parcoords\":[{\"line\":{\"colorbar\":{\"outlinewidth\":1,\"tickcolor\":\"rgb(36,36,36)\",\"ticks\":\"outside\"}},\"type\":\"parcoords\"}],\"pie\":[{\"automargin\":true,\"type\":\"pie\"}],\"scatter3d\":[{\"line\":{\"colorbar\":{\"outlinewidth\":1,\"tickcolor\":\"rgb(36,36,36)\",\"ticks\":\"outside\"}},\"marker\":{\"colorbar\":{\"outlinewidth\":1,\"tickcolor\":\"rgb(36,36,36)\",\"ticks\":\"outside\"}},\"type\":\"scatter3d\"}],\"scattercarpet\":[{\"marker\":{\"colorbar\":{\"outlinewidth\":1,\"tickcolor\":\"rgb(36,36,36)\",\"ticks\":\"outside\"}},\"type\":\"scattercarpet\"}],\"scattergeo\":[{\"marker\":{\"colorbar\":{\"outlinewidth\":1,\"tickcolor\":\"rgb(36,36,36)\",\"ticks\":\"outside\"}},\"type\":\"scattergeo\"}],\"scattergl\":[{\"marker\":{\"colorbar\":{\"outlinewidth\":1,\"tickcolor\":\"rgb(36,36,36)\",\"ticks\":\"outside\"}},\"type\":\"scattergl\"}],\"scattermapbox\":[{\"marker\":{\"colorbar\":{\"outlinewidth\":1,\"tickcolor\":\"rgb(36,36,36)\",\"ticks\":\"outside\"}},\"type\":\"scattermapbox\"}],\"scatterpolargl\":[{\"marker\":{\"colorbar\":{\"outlinewidth\":1,\"tickcolor\":\"rgb(36,36,36)\",\"ticks\":\"outside\"}},\"type\":\"scatterpolargl\"}],\"scatterpolar\":[{\"marker\":{\"colorbar\":{\"outlinewidth\":1,\"tickcolor\":\"rgb(36,36,36)\",\"ticks\":\"outside\"}},\"type\":\"scatterpolar\"}],\"scatter\":[{\"fillpattern\":{\"fillmode\":\"overlay\",\"size\":10,\"solidity\":0.2},\"type\":\"scatter\"}],\"scatterternary\":[{\"marker\":{\"colorbar\":{\"outlinewidth\":1,\"tickcolor\":\"rgb(36,36,36)\",\"ticks\":\"outside\"}},\"type\":\"scatterternary\"}],\"surface\":[{\"colorbar\":{\"outlinewidth\":1,\"tickcolor\":\"rgb(36,36,36)\",\"ticks\":\"outside\"},\"colorscale\":[[0.0,\"#440154\"],[0.1111111111111111,\"#482878\"],[0.2222222222222222,\"#3e4989\"],[0.3333333333333333,\"#31688e\"],[0.4444444444444444,\"#26828e\"],[0.5555555555555556,\"#1f9e89\"],[0.6666666666666666,\"#35b779\"],[0.7777777777777778,\"#6ece58\"],[0.8888888888888888,\"#b5de2b\"],[1.0,\"#fde725\"]],\"type\":\"surface\"}],\"table\":[{\"cells\":{\"fill\":{\"color\":\"rgb(237,237,237)\"},\"line\":{\"color\":\"white\"}},\"header\":{\"fill\":{\"color\":\"rgb(217,217,217)\"},\"line\":{\"color\":\"white\"}},\"type\":\"table\"}]},\"layout\":{\"annotationdefaults\":{\"arrowhead\":0,\"arrowwidth\":1},\"autotypenumbers\":\"strict\",\"coloraxis\":{\"colorbar\":{\"outlinewidth\":1,\"tickcolor\":\"rgb(36,36,36)\",\"ticks\":\"outside\"}},\"colorscale\":{\"diverging\":[[0.0,\"rgb(103,0,31)\"],[0.1,\"rgb(178,24,43)\"],[0.2,\"rgb(214,96,77)\"],[0.3,\"rgb(244,165,130)\"],[0.4,\"rgb(253,219,199)\"],[0.5,\"rgb(247,247,247)\"],[0.6,\"rgb(209,229,240)\"],[0.7,\"rgb(146,197,222)\"],[0.8,\"rgb(67,147,195)\"],[0.9,\"rgb(33,102,172)\"],[1.0,\"rgb(5,48,97)\"]],\"sequential\":[[0.0,\"#440154\"],[0.1111111111111111,\"#482878\"],[0.2222222222222222,\"#3e4989\"],[0.3333333333333333,\"#31688e\"],[0.4444444444444444,\"#26828e\"],[0.5555555555555556,\"#1f9e89\"],[0.6666666666666666,\"#35b779\"],[0.7777777777777778,\"#6ece58\"],[0.8888888888888888,\"#b5de2b\"],[1.0,\"#fde725\"]],\"sequentialminus\":[[0.0,\"#440154\"],[0.1111111111111111,\"#482878\"],[0.2222222222222222,\"#3e4989\"],[0.3333333333333333,\"#31688e\"],[0.4444444444444444,\"#26828e\"],[0.5555555555555556,\"#1f9e89\"],[0.6666666666666666,\"#35b779\"],[0.7777777777777778,\"#6ece58\"],[0.8888888888888888,\"#b5de2b\"],[1.0,\"#fde725\"]]},\"colorway\":[\"#1F77B4\",\"#FF7F0E\",\"#2CA02C\",\"#D62728\",\"#9467BD\",\"#8C564B\",\"#E377C2\",\"#7F7F7F\",\"#BCBD22\",\"#17BECF\"],\"font\":{\"color\":\"rgb(36,36,36)\"},\"geo\":{\"bgcolor\":\"white\",\"lakecolor\":\"white\",\"landcolor\":\"white\",\"showlakes\":true,\"showland\":true,\"subunitcolor\":\"white\"},\"hoverlabel\":{\"align\":\"left\"},\"hovermode\":\"closest\",\"mapbox\":{\"style\":\"light\"},\"paper_bgcolor\":\"white\",\"plot_bgcolor\":\"white\",\"polar\":{\"angularaxis\":{\"gridcolor\":\"rgb(232,232,232)\",\"linecolor\":\"rgb(36,36,36)\",\"showgrid\":false,\"showline\":true,\"ticks\":\"outside\"},\"bgcolor\":\"white\",\"radialaxis\":{\"gridcolor\":\"rgb(232,232,232)\",\"linecolor\":\"rgb(36,36,36)\",\"showgrid\":false,\"showline\":true,\"ticks\":\"outside\"}},\"scene\":{\"xaxis\":{\"backgroundcolor\":\"white\",\"gridcolor\":\"rgb(232,232,232)\",\"gridwidth\":2,\"linecolor\":\"rgb(36,36,36)\",\"showbackground\":true,\"showgrid\":false,\"showline\":true,\"ticks\":\"outside\",\"zeroline\":false,\"zerolinecolor\":\"rgb(36,36,36)\"},\"yaxis\":{\"backgroundcolor\":\"white\",\"gridcolor\":\"rgb(232,232,232)\",\"gridwidth\":2,\"linecolor\":\"rgb(36,36,36)\",\"showbackground\":true,\"showgrid\":false,\"showline\":true,\"ticks\":\"outside\",\"zeroline\":false,\"zerolinecolor\":\"rgb(36,36,36)\"},\"zaxis\":{\"backgroundcolor\":\"white\",\"gridcolor\":\"rgb(232,232,232)\",\"gridwidth\":2,\"linecolor\":\"rgb(36,36,36)\",\"showbackground\":true,\"showgrid\":false,\"showline\":true,\"ticks\":\"outside\",\"zeroline\":false,\"zerolinecolor\":\"rgb(36,36,36)\"}},\"shapedefaults\":{\"fillcolor\":\"black\",\"line\":{\"width\":0},\"opacity\":0.3},\"ternary\":{\"aaxis\":{\"gridcolor\":\"rgb(232,232,232)\",\"linecolor\":\"rgb(36,36,36)\",\"showgrid\":false,\"showline\":true,\"ticks\":\"outside\"},\"baxis\":{\"gridcolor\":\"rgb(232,232,232)\",\"linecolor\":\"rgb(36,36,36)\",\"showgrid\":false,\"showline\":true,\"ticks\":\"outside\"},\"bgcolor\":\"white\",\"caxis\":{\"gridcolor\":\"rgb(232,232,232)\",\"linecolor\":\"rgb(36,36,36)\",\"showgrid\":false,\"showline\":true,\"ticks\":\"outside\"}},\"title\":{\"x\":0.05},\"xaxis\":{\"automargin\":true,\"gridcolor\":\"rgb(232,232,232)\",\"linecolor\":\"rgb(36,36,36)\",\"showgrid\":false,\"showline\":true,\"ticks\":\"outside\",\"title\":{\"standoff\":15},\"zeroline\":false,\"zerolinecolor\":\"rgb(36,36,36)\"},\"yaxis\":{\"automargin\":true,\"gridcolor\":\"rgb(232,232,232)\",\"linecolor\":\"rgb(36,36,36)\",\"showgrid\":false,\"showline\":true,\"ticks\":\"outside\",\"title\":{\"standoff\":15},\"zeroline\":false,\"zerolinecolor\":\"rgb(36,36,36)\"}}},\"xaxis\":{\"showgrid\":true},\"yaxis\":{\"showgrid\":true,\"title\":{\"text\":\"Frequency\"}},\"title\":{\"font\":{\"size\":22,\"color\":\"Black\"},\"text\":\"<b>Topics over Time</b>\",\"y\":0.95,\"x\":0.4,\"xanchor\":\"center\",\"yanchor\":\"top\"},\"hoverlabel\":{\"font\":{\"size\":16,\"family\":\"Rockwell\"},\"bgcolor\":\"white\"},\"width\":1250,\"height\":450,\"legend\":{\"title\":{\"text\":\"<b>Global Topic Representation\"}}},                        {\"responsive\": true}                    ).then(function(){\n",
       "                            \n",
       "var gd = document.getElementById('13ad0f65-cf31-42c8-be91-a9c2a3cdca30');\n",
       "var x = new MutationObserver(function (mutations, observer) {{\n",
       "        var display = window.getComputedStyle(gd).display;\n",
       "        if (!display || display === 'none') {{\n",
       "            console.log([gd, 'removed!']);\n",
       "            Plotly.purge(gd);\n",
       "            observer.disconnect();\n",
       "        }}\n",
       "}});\n",
       "\n",
       "// Listen for the removal of the full notebook cells\n",
       "var notebookContainer = gd.closest('#notebook-container');\n",
       "if (notebookContainer) {{\n",
       "    x.observe(notebookContainer, {childList: true});\n",
       "}}\n",
       "\n",
       "// Listen for the clearing of the current output cell\n",
       "var outputEl = gd.closest('.output');\n",
       "if (outputEl) {{\n",
       "    x.observe(outputEl, {childList: true});\n",
       "}}\n",
       "\n",
       "                        })                };                });            </script>        </div>"
      ]
     },
     "metadata": {},
     "output_type": "display_data"
    }
   ],
   "source": [
    "topic_model.visualize_topics_over_time(topics_over_time, top_n_topics=10)\n",
    "#topic_model.visualize_topics_over_time(topics_over_time, topics=[0,18])\n"
   ]
  },
  {
   "attachments": {},
   "cell_type": "markdown",
   "metadata": {},
   "source": [
    "What is interesting about the plot above is that the keywords associated with the topic CHANGE over time! Maybe this could be a useful pointer towards further exploration."
   ]
  },
  {
   "cell_type": "code",
   "execution_count": 199,
   "metadata": {},
   "outputs": [
    {
     "data": {
      "text/html": [
       "<div>\n",
       "<style scoped>\n",
       "    .dataframe tbody tr th:only-of-type {\n",
       "        vertical-align: middle;\n",
       "    }\n",
       "\n",
       "    .dataframe tbody tr th {\n",
       "        vertical-align: top;\n",
       "    }\n",
       "\n",
       "    .dataframe thead th {\n",
       "        text-align: right;\n",
       "    }\n",
       "</style>\n",
       "<table border=\"1\" class=\"dataframe\">\n",
       "  <thead>\n",
       "    <tr style=\"text-align: right;\">\n",
       "      <th></th>\n",
       "      <th>Topic</th>\n",
       "      <th>Words</th>\n",
       "      <th>Frequency</th>\n",
       "      <th>Timestamp</th>\n",
       "      <th>Name</th>\n",
       "    </tr>\n",
       "  </thead>\n",
       "  <tbody>\n",
       "    <tr>\n",
       "      <th>1</th>\n",
       "      <td>0</td>\n",
       "      <td>zdravstvenega, vprašanje, zakona, seveda, tem</td>\n",
       "      <td>88</td>\n",
       "      <td>2000-11-22 04:52:19.200</td>\n",
       "      <td>0_zdravil_hvala_zdravstva_storitev</td>\n",
       "    </tr>\n",
       "    <tr>\n",
       "      <th>27</th>\n",
       "      <td>0</td>\n",
       "      <td>hvala, zdravstvenega, jezika, zakona, minister</td>\n",
       "      <td>146</td>\n",
       "      <td>2001-12-24 20:24:00.000</td>\n",
       "      <td>0_zdravil_hvala_zdravstva_storitev</td>\n",
       "    </tr>\n",
       "    <tr>\n",
       "      <th>52</th>\n",
       "      <td>0</td>\n",
       "      <td>zakona, zdravstvenega, ministrstvo, ta, predlog</td>\n",
       "      <td>109</td>\n",
       "      <td>2003-01-18 16:48:00.000</td>\n",
       "      <td>0_zdravil_hvala_zdravstva_storitev</td>\n",
       "    </tr>\n",
       "    <tr>\n",
       "      <th>77</th>\n",
       "      <td>0</td>\n",
       "      <td>minister, kebra, hvala, zavarovanja, zdravstva</td>\n",
       "      <td>95</td>\n",
       "      <td>2004-02-12 13:12:00.000</td>\n",
       "      <td>0_zdravil_hvala_zdravstva_storitev</td>\n",
       "    </tr>\n",
       "    <tr>\n",
       "      <th>105</th>\n",
       "      <td>0</td>\n",
       "      <td>zakona, zavarovanja, vzajemne, zdravstvenega, ...</td>\n",
       "      <td>247</td>\n",
       "      <td>2005-03-08 09:36:00.000</td>\n",
       "      <td>0_zdravil_hvala_zdravstva_storitev</td>\n",
       "    </tr>\n",
       "    <tr>\n",
       "      <th>134</th>\n",
       "      <td>0</td>\n",
       "      <td>minister, zdravstvenega, gospod, koncesije, miz</td>\n",
       "      <td>206</td>\n",
       "      <td>2006-04-02 06:00:00.000</td>\n",
       "      <td>0_zdravil_hvala_zdravstva_storitev</td>\n",
       "    </tr>\n",
       "    <tr>\n",
       "      <th>161</th>\n",
       "      <td>0</td>\n",
       "      <td>zdravil, storitev, zdravstvenega, lepa, tem</td>\n",
       "      <td>259</td>\n",
       "      <td>2007-04-27 02:24:00.000</td>\n",
       "      <td>0_zdravil_hvala_zdravstva_storitev</td>\n",
       "    </tr>\n",
       "    <tr>\n",
       "      <th>190</th>\n",
       "      <td>0</td>\n",
       "      <td>zdravstvenega, storitev, hvala, tem, vzajemna</td>\n",
       "      <td>130</td>\n",
       "      <td>2008-05-20 22:48:00.000</td>\n",
       "      <td>0_zdravil_hvala_zdravstva_storitev</td>\n",
       "    </tr>\n",
       "    <tr>\n",
       "      <th>211</th>\n",
       "      <td>0</td>\n",
       "      <td>marušič, zdravstva, hvala, bo, storitev</td>\n",
       "      <td>87</td>\n",
       "      <td>2009-06-14 19:12:00.000</td>\n",
       "      <td>0_zdravil_hvala_zdravstva_storitev</td>\n",
       "    </tr>\n",
       "    <tr>\n",
       "      <th>239</th>\n",
       "      <td>0</td>\n",
       "      <td>razlage, zakonodajno, hvala, minister, polnega</td>\n",
       "      <td>105</td>\n",
       "      <td>2010-07-09 15:36:00.000</td>\n",
       "      <td>0_zdravil_hvala_zdravstva_storitev</td>\n",
       "    </tr>\n",
       "    <tr>\n",
       "      <th>264</th>\n",
       "      <td>0</td>\n",
       "      <td>zakona, zdravstvenega, zavarovanja, storitev, ...</td>\n",
       "      <td>61</td>\n",
       "      <td>2011-08-03 12:00:00.000</td>\n",
       "      <td>0_zdravil_hvala_zdravstva_storitev</td>\n",
       "    </tr>\n",
       "    <tr>\n",
       "      <th>288</th>\n",
       "      <td>0</td>\n",
       "      <td>hospic, hvala, zdravstvu, minister, varstvo</td>\n",
       "      <td>93</td>\n",
       "      <td>2012-08-27 08:24:00.000</td>\n",
       "      <td>0_zdravil_hvala_zdravstva_storitev</td>\n",
       "    </tr>\n",
       "    <tr>\n",
       "      <th>312</th>\n",
       "      <td>0</td>\n",
       "      <td>105, zdravje, lekarne, hvala, laboratorij</td>\n",
       "      <td>132</td>\n",
       "      <td>2013-09-21 04:48:00.000</td>\n",
       "      <td>0_zdravil_hvala_zdravstva_storitev</td>\n",
       "    </tr>\n",
       "    <tr>\n",
       "      <th>339</th>\n",
       "      <td>0</td>\n",
       "      <td>urgentnih, pravilnika, zavarovanje, zdravje, m...</td>\n",
       "      <td>193</td>\n",
       "      <td>2014-10-16 01:12:00.000</td>\n",
       "      <td>0_zdravil_hvala_zdravstva_storitev</td>\n",
       "    </tr>\n",
       "    <tr>\n",
       "      <th>363</th>\n",
       "      <td>0</td>\n",
       "      <td>čakalnih, zdravstva, dejavnosti, koncesije, javno</td>\n",
       "      <td>185</td>\n",
       "      <td>2015-11-09 21:36:00.000</td>\n",
       "      <td>0_zdravil_hvala_zdravstva_storitev</td>\n",
       "    </tr>\n",
       "    <tr>\n",
       "      <th>390</th>\n",
       "      <td>0</td>\n",
       "      <td>ministrica, dejavnosti, storitev, zdravstva, s...</td>\n",
       "      <td>306</td>\n",
       "      <td>2016-12-03 18:00:00.000</td>\n",
       "      <td>0_zdravil_hvala_zdravstva_storitev</td>\n",
       "    </tr>\n",
       "    <tr>\n",
       "      <th>420</th>\n",
       "      <td>0</td>\n",
       "      <td>ukc, otroške, srčne, sistem, zdravstvenega</td>\n",
       "      <td>118</td>\n",
       "      <td>2017-12-28 14:24:00.000</td>\n",
       "      <td>0_zdravil_hvala_zdravstva_storitev</td>\n",
       "    </tr>\n",
       "    <tr>\n",
       "      <th>448</th>\n",
       "      <td>0</td>\n",
       "      <td>sistem, evrov, hvala, zdravstva, danes</td>\n",
       "      <td>243</td>\n",
       "      <td>2019-01-22 10:48:00.000</td>\n",
       "      <td>0_zdravil_hvala_zdravstva_storitev</td>\n",
       "    </tr>\n",
       "    <tr>\n",
       "      <th>477</th>\n",
       "      <td>0</td>\n",
       "      <td>zdravstva, hvala, sistem, so, bo</td>\n",
       "      <td>262</td>\n",
       "      <td>2020-02-16 07:12:00.000</td>\n",
       "      <td>0_zdravil_hvala_zdravstva_storitev</td>\n",
       "    </tr>\n",
       "    <tr>\n",
       "      <th>506</th>\n",
       "      <td>0</td>\n",
       "      <td>zdravil, dejavnosti, zakon, zdravstva, ta</td>\n",
       "      <td>373</td>\n",
       "      <td>2021-03-12 03:36:00.000</td>\n",
       "      <td>0_zdravil_hvala_zdravstva_storitev</td>\n",
       "    </tr>\n",
       "  </tbody>\n",
       "</table>\n",
       "</div>"
      ],
      "text/plain": [
       "     Topic                                              Words  Frequency  \\\n",
       "1        0      zdravstvenega, vprašanje, zakona, seveda, tem         88   \n",
       "27       0     hvala, zdravstvenega, jezika, zakona, minister        146   \n",
       "52       0    zakona, zdravstvenega, ministrstvo, ta, predlog        109   \n",
       "77       0     minister, kebra, hvala, zavarovanja, zdravstva         95   \n",
       "105      0  zakona, zavarovanja, vzajemne, zdravstvenega, ...        247   \n",
       "134      0    minister, zdravstvenega, gospod, koncesije, miz        206   \n",
       "161      0        zdravil, storitev, zdravstvenega, lepa, tem        259   \n",
       "190      0      zdravstvenega, storitev, hvala, tem, vzajemna        130   \n",
       "211      0            marušič, zdravstva, hvala, bo, storitev         87   \n",
       "239      0     razlage, zakonodajno, hvala, minister, polnega        105   \n",
       "264      0  zakona, zdravstvenega, zavarovanja, storitev, ...         61   \n",
       "288      0        hospic, hvala, zdravstvu, minister, varstvo         93   \n",
       "312      0          105, zdravje, lekarne, hvala, laboratorij        132   \n",
       "339      0  urgentnih, pravilnika, zavarovanje, zdravje, m...        193   \n",
       "363      0  čakalnih, zdravstva, dejavnosti, koncesije, javno        185   \n",
       "390      0  ministrica, dejavnosti, storitev, zdravstva, s...        306   \n",
       "420      0         ukc, otroške, srčne, sistem, zdravstvenega        118   \n",
       "448      0             sistem, evrov, hvala, zdravstva, danes        243   \n",
       "477      0                   zdravstva, hvala, sistem, so, bo        262   \n",
       "506      0          zdravil, dejavnosti, zakon, zdravstva, ta        373   \n",
       "\n",
       "                  Timestamp                                Name  \n",
       "1   2000-11-22 04:52:19.200  0_zdravil_hvala_zdravstva_storitev  \n",
       "27  2001-12-24 20:24:00.000  0_zdravil_hvala_zdravstva_storitev  \n",
       "52  2003-01-18 16:48:00.000  0_zdravil_hvala_zdravstva_storitev  \n",
       "77  2004-02-12 13:12:00.000  0_zdravil_hvala_zdravstva_storitev  \n",
       "105 2005-03-08 09:36:00.000  0_zdravil_hvala_zdravstva_storitev  \n",
       "134 2006-04-02 06:00:00.000  0_zdravil_hvala_zdravstva_storitev  \n",
       "161 2007-04-27 02:24:00.000  0_zdravil_hvala_zdravstva_storitev  \n",
       "190 2008-05-20 22:48:00.000  0_zdravil_hvala_zdravstva_storitev  \n",
       "211 2009-06-14 19:12:00.000  0_zdravil_hvala_zdravstva_storitev  \n",
       "239 2010-07-09 15:36:00.000  0_zdravil_hvala_zdravstva_storitev  \n",
       "264 2011-08-03 12:00:00.000  0_zdravil_hvala_zdravstva_storitev  \n",
       "288 2012-08-27 08:24:00.000  0_zdravil_hvala_zdravstva_storitev  \n",
       "312 2013-09-21 04:48:00.000  0_zdravil_hvala_zdravstva_storitev  \n",
       "339 2014-10-16 01:12:00.000  0_zdravil_hvala_zdravstva_storitev  \n",
       "363 2015-11-09 21:36:00.000  0_zdravil_hvala_zdravstva_storitev  \n",
       "390 2016-12-03 18:00:00.000  0_zdravil_hvala_zdravstva_storitev  \n",
       "420 2017-12-28 14:24:00.000  0_zdravil_hvala_zdravstva_storitev  \n",
       "448 2019-01-22 10:48:00.000  0_zdravil_hvala_zdravstva_storitev  \n",
       "477 2020-02-16 07:12:00.000  0_zdravil_hvala_zdravstva_storitev  \n",
       "506 2021-03-12 03:36:00.000  0_zdravil_hvala_zdravstva_storitev  "
      ]
     },
     "execution_count": 199,
     "metadata": {},
     "output_type": "execute_result"
    }
   ],
   "source": [
    "# Brexit\n",
    "topics_over_time[topics_over_time['Topic'] == 0]"
   ]
  },
  {
   "cell_type": "code",
   "execution_count": 200,
   "metadata": {},
   "outputs": [
    {
     "data": {
      "application/vnd.plotly.v1+json": {
       "config": {
        "plotlyServerURL": "https://plot.ly"
       },
       "data": [
        {
         "marker": {
          "color": "#D55E00"
         },
         "orientation": "h",
         "type": "bar",
         "x": [
          0.1397029341851329,
          0.14315912273229514,
          0.1446456968665791,
          0.1448072631003933,
          0.14662293095055776,
          0.14719249897188083,
          0.14923897182390305,
          0.1517188408668338,
          0.1553523251434578,
          0.15705351336906895
         ],
         "xaxis": "x",
         "y": [
          "so  ",
          "zakon  ",
          "zavarovanje  ",
          "tem  ",
          "bo  ",
          "sistem  ",
          "storitev  ",
          "zdravstva  ",
          "hvala  ",
          "zdravil  "
         ],
         "yaxis": "y"
        },
        {
         "marker": {
          "color": "#0072B2"
         },
         "orientation": "h",
         "type": "bar",
         "x": [
          0.14413372166918517,
          0.14517758619000679,
          0.14568741046694292,
          0.14580285682919827,
          0.14595507066307345,
          0.1475815313601169,
          0.151804264211178,
          0.15216469078229145,
          0.15386134817226416,
          0.16211850555694532
         ],
         "xaxis": "x2",
         "y": [
          "bil  ",
          "bo  ",
          "vse  ",
          "so  ",
          "seveda  ",
          "samo  ",
          "danes  ",
          "tem  ",
          "potem  ",
          "sem  "
         ],
         "yaxis": "y2"
        },
        {
         "marker": {
          "color": "#CC79A7"
         },
         "orientation": "h",
         "type": "bar",
         "x": [
          0.14418860732215064,
          0.14485723369784453,
          0.14544958847762232,
          0.14685694921403733,
          0.15186101112151343,
          0.15997957864863246,
          0.17423163130943511,
          0.18283510683163315,
          0.19195285720023597,
          0.1987091951271207
         ],
         "xaxis": "x3",
         "y": [
          "opreme  ",
          "covida  ",
          "hvala  ",
          "času  ",
          "2020  ",
          "širjenja  ",
          "vlada  ",
          "cepljenje  ",
          "epidemijo  ",
          "19  "
         ],
         "yaxis": "y3"
        },
        {
         "marker": {
          "color": "#E69F00"
         },
         "orientation": "h",
         "type": "bar",
         "x": [
          0.14706308598840426,
          0.14834542613898694,
          0.15151873874167693,
          0.1551661316200902,
          0.16119446402702883,
          0.17717226719752593,
          0.19733420953013076,
          0.22066195036475003,
          0.22086566224942697,
          0.23563758677797347
         ],
         "xaxis": "x4",
         "y": [
          "hvala  ",
          "zasebnih  ",
          "šolah  ",
          "zakona  ",
          "univerze  ",
          "družine  ",
          "otroci  ",
          "posebnimi  ",
          "potrebami  ",
          "šole  "
         ],
         "yaxis": "y4"
        },
        {
         "marker": {
          "color": "#56B4E9"
         },
         "orientation": "h",
         "type": "bar",
         "x": [
          0.1416479884077017,
          0.14196993187854715,
          0.14305780415259228,
          0.14426543021757965,
          0.14456444576238012,
          0.14704893765242197,
          0.14707434087898238,
          0.14722038246291466,
          0.16124130981612939,
          0.1620671044124216
         ],
         "xaxis": "x5",
         "y": [
          "danes  ",
          "slovenijo  ",
          "so  ",
          "vlada  ",
          "bomo  ",
          "države  ",
          "bo  ",
          "tem  ",
          "unije  ",
          "evropske  "
         ],
         "yaxis": "y5"
        },
        {
         "marker": {
          "color": "#009E73"
         },
         "orientation": "h",
         "type": "bar",
         "x": [
          0.15086019020610225,
          0.15241154229670784,
          0.15286978413157726,
          0.1538436885674984,
          0.15489525656992686,
          0.15560872954702104,
          0.15670785474237447,
          0.16989047544614852,
          0.18324907601243318,
          0.18480950635542778
         ],
         "xaxis": "x6",
         "y": [
          "državnega  ",
          "višini  ",
          "proračunov  ",
          "proizvoda  ",
          "slovenija  ",
          "bo  ",
          "2007  ",
          "milijonov  ",
          "rast  ",
          "evrov  "
         ],
         "yaxis": "y6"
        },
        {
         "marker": {
          "color": "#F0E442"
         },
         "orientation": "h",
         "type": "bar",
         "x": [
          0.1340438645083042,
          0.13619615242069547,
          0.13770717078627753,
          0.1395418059220139,
          0.1403875159159709,
          0.14148346128268502,
          0.14163627577624466,
          0.14196379057304798,
          0.14409620740631807,
          0.14519736397158214
         ],
         "xaxis": "x7",
         "y": [
          "države  ",
          "bomo  ",
          "sodišča  ",
          "ki  ",
          "tem  ",
          "gre  ",
          "so  ",
          "stranke  ",
          "sloveniji  ",
          "bo  "
         ],
         "yaxis": "y7"
        },
        {
         "marker": {
          "color": "#D55E00"
         },
         "orientation": "h",
         "type": "bar",
         "x": [
          0.14753494897447342,
          0.1476478267408239,
          0.14859934245319445,
          0.15534422387212932,
          0.15661159209199493,
          0.1798035201097378,
          0.1854281418790765,
          0.20626010615240203,
          0.20713228987959764,
          0.20891485925734732
         ],
         "xaxis": "x8",
         "y": [
          "2004  ",
          "države  ",
          "bomo  ",
          "bo  ",
          "proračunov  ",
          "rebalans  ",
          "rast  ",
          "evrov  ",
          "letu  ",
          "milijonov  "
         ],
         "yaxis": "y8"
        },
        {
         "marker": {
          "color": "#0072B2"
         },
         "orientation": "h",
         "type": "bar",
         "x": [
          0.14170472783541713,
          0.14281845520477696,
          0.143318038515309,
          0.1434685094692466,
          0.14371404934379908,
          0.1450488161830677,
          0.1452681116774351,
          0.15442820503199248,
          0.15767496793848707,
          0.17695308719094255
         ],
         "xaxis": "x9",
         "y": [
          "pravosodju  ",
          "lahko  ",
          "tem  ",
          "bo  ",
          "policija  ",
          "državni  ",
          "sodnikov  ",
          "sankcij  ",
          "referendum  ",
          "zapora  "
         ],
         "yaxis": "y9"
        },
        {
         "marker": {
          "color": "#CC79A7"
         },
         "orientation": "h",
         "type": "bar",
         "x": [
          0.14919610362534047,
          0.15061539654360365,
          0.15761682318654543,
          0.16062916938977206,
          0.16162931425180707,
          0.1768739072503554,
          0.18058165443371899,
          0.18873933216618627,
          0.1896184965658457,
          0.25759378698693247
         ],
         "xaxis": "x10",
         "y": [
          "tem  ",
          "enake  ",
          "nasilja  ",
          "vedno  ",
          "delo  ",
          "peticije  ",
          "priporočila  ",
          "opozarja  ",
          "pravice  ",
          "poročilu  "
         ],
         "yaxis": "y10"
        }
       ],
       "layout": {
        "annotations": [
         {
          "font": {
           "size": 16
          },
          "showarrow": false,
          "text": "Topic 0",
          "x": 0.0875,
          "xanchor": "center",
          "xref": "paper",
          "y": 1,
          "yanchor": "bottom",
          "yref": "paper"
         },
         {
          "font": {
           "size": 16
          },
          "showarrow": false,
          "text": "Topic 1",
          "x": 0.36250000000000004,
          "xanchor": "center",
          "xref": "paper",
          "y": 1,
          "yanchor": "bottom",
          "yref": "paper"
         },
         {
          "font": {
           "size": 16
          },
          "showarrow": false,
          "text": "Topic 2",
          "x": 0.6375000000000001,
          "xanchor": "center",
          "xref": "paper",
          "y": 1,
          "yanchor": "bottom",
          "yref": "paper"
         },
         {
          "font": {
           "size": 16
          },
          "showarrow": false,
          "text": "Topic 3",
          "x": 0.9125,
          "xanchor": "center",
          "xref": "paper",
          "y": 1,
          "yanchor": "bottom",
          "yref": "paper"
         },
         {
          "font": {
           "size": 16
          },
          "showarrow": false,
          "text": "Topic 4",
          "x": 0.0875,
          "xanchor": "center",
          "xref": "paper",
          "y": 0.6222222222222222,
          "yanchor": "bottom",
          "yref": "paper"
         },
         {
          "font": {
           "size": 16
          },
          "showarrow": false,
          "text": "Topic 5",
          "x": 0.36250000000000004,
          "xanchor": "center",
          "xref": "paper",
          "y": 0.6222222222222222,
          "yanchor": "bottom",
          "yref": "paper"
         },
         {
          "font": {
           "size": 16
          },
          "showarrow": false,
          "text": "Topic 6",
          "x": 0.6375000000000001,
          "xanchor": "center",
          "xref": "paper",
          "y": 0.6222222222222222,
          "yanchor": "bottom",
          "yref": "paper"
         },
         {
          "font": {
           "size": 16
          },
          "showarrow": false,
          "text": "Topic 7",
          "x": 0.9125,
          "xanchor": "center",
          "xref": "paper",
          "y": 0.6222222222222222,
          "yanchor": "bottom",
          "yref": "paper"
         },
         {
          "font": {
           "size": 16
          },
          "showarrow": false,
          "text": "Topic 8",
          "x": 0.0875,
          "xanchor": "center",
          "xref": "paper",
          "y": 0.24444444444444446,
          "yanchor": "bottom",
          "yref": "paper"
         },
         {
          "font": {
           "size": 16
          },
          "showarrow": false,
          "text": "Topic 9",
          "x": 0.36250000000000004,
          "xanchor": "center",
          "xref": "paper",
          "y": 0.24444444444444446,
          "yanchor": "bottom",
          "yref": "paper"
         }
        ],
        "height": 990,
        "hoverlabel": {
         "bgcolor": "white",
         "font": {
          "family": "Rockwell",
          "size": 16
         }
        },
        "showlegend": false,
        "template": {
         "data": {
          "bar": [
           {
            "error_x": {
             "color": "#2a3f5f"
            },
            "error_y": {
             "color": "#2a3f5f"
            },
            "marker": {
             "line": {
              "color": "white",
              "width": 0.5
             },
             "pattern": {
              "fillmode": "overlay",
              "size": 10,
              "solidity": 0.2
             }
            },
            "type": "bar"
           }
          ],
          "barpolar": [
           {
            "marker": {
             "line": {
              "color": "white",
              "width": 0.5
             },
             "pattern": {
              "fillmode": "overlay",
              "size": 10,
              "solidity": 0.2
             }
            },
            "type": "barpolar"
           }
          ],
          "carpet": [
           {
            "aaxis": {
             "endlinecolor": "#2a3f5f",
             "gridcolor": "#C8D4E3",
             "linecolor": "#C8D4E3",
             "minorgridcolor": "#C8D4E3",
             "startlinecolor": "#2a3f5f"
            },
            "baxis": {
             "endlinecolor": "#2a3f5f",
             "gridcolor": "#C8D4E3",
             "linecolor": "#C8D4E3",
             "minorgridcolor": "#C8D4E3",
             "startlinecolor": "#2a3f5f"
            },
            "type": "carpet"
           }
          ],
          "choropleth": [
           {
            "colorbar": {
             "outlinewidth": 0,
             "ticks": ""
            },
            "type": "choropleth"
           }
          ],
          "contour": [
           {
            "colorbar": {
             "outlinewidth": 0,
             "ticks": ""
            },
            "colorscale": [
             [
              0,
              "#0d0887"
             ],
             [
              0.1111111111111111,
              "#46039f"
             ],
             [
              0.2222222222222222,
              "#7201a8"
             ],
             [
              0.3333333333333333,
              "#9c179e"
             ],
             [
              0.4444444444444444,
              "#bd3786"
             ],
             [
              0.5555555555555556,
              "#d8576b"
             ],
             [
              0.6666666666666666,
              "#ed7953"
             ],
             [
              0.7777777777777778,
              "#fb9f3a"
             ],
             [
              0.8888888888888888,
              "#fdca26"
             ],
             [
              1,
              "#f0f921"
             ]
            ],
            "type": "contour"
           }
          ],
          "contourcarpet": [
           {
            "colorbar": {
             "outlinewidth": 0,
             "ticks": ""
            },
            "type": "contourcarpet"
           }
          ],
          "heatmap": [
           {
            "colorbar": {
             "outlinewidth": 0,
             "ticks": ""
            },
            "colorscale": [
             [
              0,
              "#0d0887"
             ],
             [
              0.1111111111111111,
              "#46039f"
             ],
             [
              0.2222222222222222,
              "#7201a8"
             ],
             [
              0.3333333333333333,
              "#9c179e"
             ],
             [
              0.4444444444444444,
              "#bd3786"
             ],
             [
              0.5555555555555556,
              "#d8576b"
             ],
             [
              0.6666666666666666,
              "#ed7953"
             ],
             [
              0.7777777777777778,
              "#fb9f3a"
             ],
             [
              0.8888888888888888,
              "#fdca26"
             ],
             [
              1,
              "#f0f921"
             ]
            ],
            "type": "heatmap"
           }
          ],
          "heatmapgl": [
           {
            "colorbar": {
             "outlinewidth": 0,
             "ticks": ""
            },
            "colorscale": [
             [
              0,
              "#0d0887"
             ],
             [
              0.1111111111111111,
              "#46039f"
             ],
             [
              0.2222222222222222,
              "#7201a8"
             ],
             [
              0.3333333333333333,
              "#9c179e"
             ],
             [
              0.4444444444444444,
              "#bd3786"
             ],
             [
              0.5555555555555556,
              "#d8576b"
             ],
             [
              0.6666666666666666,
              "#ed7953"
             ],
             [
              0.7777777777777778,
              "#fb9f3a"
             ],
             [
              0.8888888888888888,
              "#fdca26"
             ],
             [
              1,
              "#f0f921"
             ]
            ],
            "type": "heatmapgl"
           }
          ],
          "histogram": [
           {
            "marker": {
             "pattern": {
              "fillmode": "overlay",
              "size": 10,
              "solidity": 0.2
             }
            },
            "type": "histogram"
           }
          ],
          "histogram2d": [
           {
            "colorbar": {
             "outlinewidth": 0,
             "ticks": ""
            },
            "colorscale": [
             [
              0,
              "#0d0887"
             ],
             [
              0.1111111111111111,
              "#46039f"
             ],
             [
              0.2222222222222222,
              "#7201a8"
             ],
             [
              0.3333333333333333,
              "#9c179e"
             ],
             [
              0.4444444444444444,
              "#bd3786"
             ],
             [
              0.5555555555555556,
              "#d8576b"
             ],
             [
              0.6666666666666666,
              "#ed7953"
             ],
             [
              0.7777777777777778,
              "#fb9f3a"
             ],
             [
              0.8888888888888888,
              "#fdca26"
             ],
             [
              1,
              "#f0f921"
             ]
            ],
            "type": "histogram2d"
           }
          ],
          "histogram2dcontour": [
           {
            "colorbar": {
             "outlinewidth": 0,
             "ticks": ""
            },
            "colorscale": [
             [
              0,
              "#0d0887"
             ],
             [
              0.1111111111111111,
              "#46039f"
             ],
             [
              0.2222222222222222,
              "#7201a8"
             ],
             [
              0.3333333333333333,
              "#9c179e"
             ],
             [
              0.4444444444444444,
              "#bd3786"
             ],
             [
              0.5555555555555556,
              "#d8576b"
             ],
             [
              0.6666666666666666,
              "#ed7953"
             ],
             [
              0.7777777777777778,
              "#fb9f3a"
             ],
             [
              0.8888888888888888,
              "#fdca26"
             ],
             [
              1,
              "#f0f921"
             ]
            ],
            "type": "histogram2dcontour"
           }
          ],
          "mesh3d": [
           {
            "colorbar": {
             "outlinewidth": 0,
             "ticks": ""
            },
            "type": "mesh3d"
           }
          ],
          "parcoords": [
           {
            "line": {
             "colorbar": {
              "outlinewidth": 0,
              "ticks": ""
             }
            },
            "type": "parcoords"
           }
          ],
          "pie": [
           {
            "automargin": true,
            "type": "pie"
           }
          ],
          "scatter": [
           {
            "fillpattern": {
             "fillmode": "overlay",
             "size": 10,
             "solidity": 0.2
            },
            "type": "scatter"
           }
          ],
          "scatter3d": [
           {
            "line": {
             "colorbar": {
              "outlinewidth": 0,
              "ticks": ""
             }
            },
            "marker": {
             "colorbar": {
              "outlinewidth": 0,
              "ticks": ""
             }
            },
            "type": "scatter3d"
           }
          ],
          "scattercarpet": [
           {
            "marker": {
             "colorbar": {
              "outlinewidth": 0,
              "ticks": ""
             }
            },
            "type": "scattercarpet"
           }
          ],
          "scattergeo": [
           {
            "marker": {
             "colorbar": {
              "outlinewidth": 0,
              "ticks": ""
             }
            },
            "type": "scattergeo"
           }
          ],
          "scattergl": [
           {
            "marker": {
             "colorbar": {
              "outlinewidth": 0,
              "ticks": ""
             }
            },
            "type": "scattergl"
           }
          ],
          "scattermapbox": [
           {
            "marker": {
             "colorbar": {
              "outlinewidth": 0,
              "ticks": ""
             }
            },
            "type": "scattermapbox"
           }
          ],
          "scatterpolar": [
           {
            "marker": {
             "colorbar": {
              "outlinewidth": 0,
              "ticks": ""
             }
            },
            "type": "scatterpolar"
           }
          ],
          "scatterpolargl": [
           {
            "marker": {
             "colorbar": {
              "outlinewidth": 0,
              "ticks": ""
             }
            },
            "type": "scatterpolargl"
           }
          ],
          "scatterternary": [
           {
            "marker": {
             "colorbar": {
              "outlinewidth": 0,
              "ticks": ""
             }
            },
            "type": "scatterternary"
           }
          ],
          "surface": [
           {
            "colorbar": {
             "outlinewidth": 0,
             "ticks": ""
            },
            "colorscale": [
             [
              0,
              "#0d0887"
             ],
             [
              0.1111111111111111,
              "#46039f"
             ],
             [
              0.2222222222222222,
              "#7201a8"
             ],
             [
              0.3333333333333333,
              "#9c179e"
             ],
             [
              0.4444444444444444,
              "#bd3786"
             ],
             [
              0.5555555555555556,
              "#d8576b"
             ],
             [
              0.6666666666666666,
              "#ed7953"
             ],
             [
              0.7777777777777778,
              "#fb9f3a"
             ],
             [
              0.8888888888888888,
              "#fdca26"
             ],
             [
              1,
              "#f0f921"
             ]
            ],
            "type": "surface"
           }
          ],
          "table": [
           {
            "cells": {
             "fill": {
              "color": "#EBF0F8"
             },
             "line": {
              "color": "white"
             }
            },
            "header": {
             "fill": {
              "color": "#C8D4E3"
             },
             "line": {
              "color": "white"
             }
            },
            "type": "table"
           }
          ]
         },
         "layout": {
          "annotationdefaults": {
           "arrowcolor": "#2a3f5f",
           "arrowhead": 0,
           "arrowwidth": 1
          },
          "autotypenumbers": "strict",
          "coloraxis": {
           "colorbar": {
            "outlinewidth": 0,
            "ticks": ""
           }
          },
          "colorscale": {
           "diverging": [
            [
             0,
             "#8e0152"
            ],
            [
             0.1,
             "#c51b7d"
            ],
            [
             0.2,
             "#de77ae"
            ],
            [
             0.3,
             "#f1b6da"
            ],
            [
             0.4,
             "#fde0ef"
            ],
            [
             0.5,
             "#f7f7f7"
            ],
            [
             0.6,
             "#e6f5d0"
            ],
            [
             0.7,
             "#b8e186"
            ],
            [
             0.8,
             "#7fbc41"
            ],
            [
             0.9,
             "#4d9221"
            ],
            [
             1,
             "#276419"
            ]
           ],
           "sequential": [
            [
             0,
             "#0d0887"
            ],
            [
             0.1111111111111111,
             "#46039f"
            ],
            [
             0.2222222222222222,
             "#7201a8"
            ],
            [
             0.3333333333333333,
             "#9c179e"
            ],
            [
             0.4444444444444444,
             "#bd3786"
            ],
            [
             0.5555555555555556,
             "#d8576b"
            ],
            [
             0.6666666666666666,
             "#ed7953"
            ],
            [
             0.7777777777777778,
             "#fb9f3a"
            ],
            [
             0.8888888888888888,
             "#fdca26"
            ],
            [
             1,
             "#f0f921"
            ]
           ],
           "sequentialminus": [
            [
             0,
             "#0d0887"
            ],
            [
             0.1111111111111111,
             "#46039f"
            ],
            [
             0.2222222222222222,
             "#7201a8"
            ],
            [
             0.3333333333333333,
             "#9c179e"
            ],
            [
             0.4444444444444444,
             "#bd3786"
            ],
            [
             0.5555555555555556,
             "#d8576b"
            ],
            [
             0.6666666666666666,
             "#ed7953"
            ],
            [
             0.7777777777777778,
             "#fb9f3a"
            ],
            [
             0.8888888888888888,
             "#fdca26"
            ],
            [
             1,
             "#f0f921"
            ]
           ]
          },
          "colorway": [
           "#636efa",
           "#EF553B",
           "#00cc96",
           "#ab63fa",
           "#FFA15A",
           "#19d3f3",
           "#FF6692",
           "#B6E880",
           "#FF97FF",
           "#FECB52"
          ],
          "font": {
           "color": "#2a3f5f"
          },
          "geo": {
           "bgcolor": "white",
           "lakecolor": "white",
           "landcolor": "white",
           "showlakes": true,
           "showland": true,
           "subunitcolor": "#C8D4E3"
          },
          "hoverlabel": {
           "align": "left"
          },
          "hovermode": "closest",
          "mapbox": {
           "style": "light"
          },
          "paper_bgcolor": "white",
          "plot_bgcolor": "white",
          "polar": {
           "angularaxis": {
            "gridcolor": "#EBF0F8",
            "linecolor": "#EBF0F8",
            "ticks": ""
           },
           "bgcolor": "white",
           "radialaxis": {
            "gridcolor": "#EBF0F8",
            "linecolor": "#EBF0F8",
            "ticks": ""
           }
          },
          "scene": {
           "xaxis": {
            "backgroundcolor": "white",
            "gridcolor": "#DFE8F3",
            "gridwidth": 2,
            "linecolor": "#EBF0F8",
            "showbackground": true,
            "ticks": "",
            "zerolinecolor": "#EBF0F8"
           },
           "yaxis": {
            "backgroundcolor": "white",
            "gridcolor": "#DFE8F3",
            "gridwidth": 2,
            "linecolor": "#EBF0F8",
            "showbackground": true,
            "ticks": "",
            "zerolinecolor": "#EBF0F8"
           },
           "zaxis": {
            "backgroundcolor": "white",
            "gridcolor": "#DFE8F3",
            "gridwidth": 2,
            "linecolor": "#EBF0F8",
            "showbackground": true,
            "ticks": "",
            "zerolinecolor": "#EBF0F8"
           }
          },
          "shapedefaults": {
           "line": {
            "color": "#2a3f5f"
           }
          },
          "ternary": {
           "aaxis": {
            "gridcolor": "#DFE8F3",
            "linecolor": "#A2B1C6",
            "ticks": ""
           },
           "baxis": {
            "gridcolor": "#DFE8F3",
            "linecolor": "#A2B1C6",
            "ticks": ""
           },
           "bgcolor": "white",
           "caxis": {
            "gridcolor": "#DFE8F3",
            "linecolor": "#A2B1C6",
            "ticks": ""
           }
          },
          "title": {
           "x": 0.05
          },
          "xaxis": {
           "automargin": true,
           "gridcolor": "#EBF0F8",
           "linecolor": "#EBF0F8",
           "ticks": "",
           "title": {
            "standoff": 15
           },
           "zerolinecolor": "#EBF0F8",
           "zerolinewidth": 2
          },
          "yaxis": {
           "automargin": true,
           "gridcolor": "#EBF0F8",
           "linecolor": "#EBF0F8",
           "ticks": "",
           "title": {
            "standoff": 15
           },
           "zerolinecolor": "#EBF0F8",
           "zerolinewidth": 2
          }
         }
        },
        "title": {
         "font": {
          "color": "Black",
          "size": 22
         },
         "text": "Topic Word Scores",
         "x": 0.5,
         "xanchor": "center",
         "yanchor": "top"
        },
        "width": 1320,
        "xaxis": {
         "anchor": "y",
         "domain": [
          0,
          0.175
         ],
         "showgrid": true
        },
        "xaxis10": {
         "anchor": "y10",
         "domain": [
          0.275,
          0.45
         ],
         "showgrid": true
        },
        "xaxis11": {
         "anchor": "y11",
         "domain": [
          0.55,
          0.7250000000000001
         ],
         "showgrid": true
        },
        "xaxis12": {
         "anchor": "y12",
         "domain": [
          0.825,
          1
         ],
         "showgrid": true
        },
        "xaxis2": {
         "anchor": "y2",
         "domain": [
          0.275,
          0.45
         ],
         "showgrid": true
        },
        "xaxis3": {
         "anchor": "y3",
         "domain": [
          0.55,
          0.7250000000000001
         ],
         "showgrid": true
        },
        "xaxis4": {
         "anchor": "y4",
         "domain": [
          0.825,
          1
         ],
         "showgrid": true
        },
        "xaxis5": {
         "anchor": "y5",
         "domain": [
          0,
          0.175
         ],
         "showgrid": true
        },
        "xaxis6": {
         "anchor": "y6",
         "domain": [
          0.275,
          0.45
         ],
         "showgrid": true
        },
        "xaxis7": {
         "anchor": "y7",
         "domain": [
          0.55,
          0.7250000000000001
         ],
         "showgrid": true
        },
        "xaxis8": {
         "anchor": "y8",
         "domain": [
          0.825,
          1
         ],
         "showgrid": true
        },
        "xaxis9": {
         "anchor": "y9",
         "domain": [
          0,
          0.175
         ],
         "showgrid": true
        },
        "yaxis": {
         "anchor": "x",
         "domain": [
          0.7555555555555555,
          1
         ],
         "showgrid": true
        },
        "yaxis10": {
         "anchor": "x10",
         "domain": [
          0,
          0.24444444444444446
         ],
         "showgrid": true
        },
        "yaxis11": {
         "anchor": "x11",
         "domain": [
          0,
          0.24444444444444446
         ],
         "showgrid": true
        },
        "yaxis12": {
         "anchor": "x12",
         "domain": [
          0,
          0.24444444444444446
         ],
         "showgrid": true
        },
        "yaxis2": {
         "anchor": "x2",
         "domain": [
          0.7555555555555555,
          1
         ],
         "showgrid": true
        },
        "yaxis3": {
         "anchor": "x3",
         "domain": [
          0.7555555555555555,
          1
         ],
         "showgrid": true
        },
        "yaxis4": {
         "anchor": "x4",
         "domain": [
          0.7555555555555555,
          1
         ],
         "showgrid": true
        },
        "yaxis5": {
         "anchor": "x5",
         "domain": [
          0.37777777777777777,
          0.6222222222222222
         ],
         "showgrid": true
        },
        "yaxis6": {
         "anchor": "x6",
         "domain": [
          0.37777777777777777,
          0.6222222222222222
         ],
         "showgrid": true
        },
        "yaxis7": {
         "anchor": "x7",
         "domain": [
          0.37777777777777777,
          0.6222222222222222
         ],
         "showgrid": true
        },
        "yaxis8": {
         "anchor": "x8",
         "domain": [
          0.37777777777777777,
          0.6222222222222222
         ],
         "showgrid": true
        },
        "yaxis9": {
         "anchor": "x9",
         "domain": [
          0,
          0.24444444444444446
         ],
         "showgrid": true
        }
       }
      },
      "text/html": [
       "<div>                            <div id=\"e89d0140-41e9-4e46-a69c-110af6f9470f\" class=\"plotly-graph-div\" style=\"height:990px; width:1320px;\"></div>            <script type=\"text/javascript\">                require([\"plotly\"], function(Plotly) {                    window.PLOTLYENV=window.PLOTLYENV || {};                                    if (document.getElementById(\"e89d0140-41e9-4e46-a69c-110af6f9470f\")) {                    Plotly.newPlot(                        \"e89d0140-41e9-4e46-a69c-110af6f9470f\",                        [{\"marker\":{\"color\":\"#D55E00\"},\"orientation\":\"h\",\"x\":[0.1397029341851329,0.14315912273229514,0.1446456968665791,0.1448072631003933,0.14662293095055776,0.14719249897188083,0.14923897182390305,0.1517188408668338,0.1553523251434578,0.15705351336906895],\"y\":[\"so  \",\"zakon  \",\"zavarovanje  \",\"tem  \",\"bo  \",\"sistem  \",\"storitev  \",\"zdravstva  \",\"hvala  \",\"zdravil  \"],\"type\":\"bar\",\"xaxis\":\"x\",\"yaxis\":\"y\"},{\"marker\":{\"color\":\"#0072B2\"},\"orientation\":\"h\",\"x\":[0.14413372166918517,0.14517758619000679,0.14568741046694292,0.14580285682919827,0.14595507066307345,0.1475815313601169,0.151804264211178,0.15216469078229145,0.15386134817226416,0.16211850555694532],\"y\":[\"bil  \",\"bo  \",\"vse  \",\"so  \",\"seveda  \",\"samo  \",\"danes  \",\"tem  \",\"potem  \",\"sem  \"],\"type\":\"bar\",\"xaxis\":\"x2\",\"yaxis\":\"y2\"},{\"marker\":{\"color\":\"#CC79A7\"},\"orientation\":\"h\",\"x\":[0.14418860732215064,0.14485723369784453,0.14544958847762232,0.14685694921403733,0.15186101112151343,0.15997957864863246,0.17423163130943511,0.18283510683163315,0.19195285720023597,0.1987091951271207],\"y\":[\"opreme  \",\"covida  \",\"hvala  \",\"\\u010dasu  \",\"2020  \",\"\\u0161irjenja  \",\"vlada  \",\"cepljenje  \",\"epidemijo  \",\"19  \"],\"type\":\"bar\",\"xaxis\":\"x3\",\"yaxis\":\"y3\"},{\"marker\":{\"color\":\"#E69F00\"},\"orientation\":\"h\",\"x\":[0.14706308598840426,0.14834542613898694,0.15151873874167693,0.1551661316200902,0.16119446402702883,0.17717226719752593,0.19733420953013076,0.22066195036475003,0.22086566224942697,0.23563758677797347],\"y\":[\"hvala  \",\"zasebnih  \",\"\\u0161olah  \",\"zakona  \",\"univerze  \",\"dru\\u017eine  \",\"otroci  \",\"posebnimi  \",\"potrebami  \",\"\\u0161ole  \"],\"type\":\"bar\",\"xaxis\":\"x4\",\"yaxis\":\"y4\"},{\"marker\":{\"color\":\"#56B4E9\"},\"orientation\":\"h\",\"x\":[0.1416479884077017,0.14196993187854715,0.14305780415259228,0.14426543021757965,0.14456444576238012,0.14704893765242197,0.14707434087898238,0.14722038246291466,0.16124130981612939,0.1620671044124216],\"y\":[\"danes  \",\"slovenijo  \",\"so  \",\"vlada  \",\"bomo  \",\"dr\\u017eave  \",\"bo  \",\"tem  \",\"unije  \",\"evropske  \"],\"type\":\"bar\",\"xaxis\":\"x5\",\"yaxis\":\"y5\"},{\"marker\":{\"color\":\"#009E73\"},\"orientation\":\"h\",\"x\":[0.15086019020610225,0.15241154229670784,0.15286978413157726,0.1538436885674984,0.15489525656992686,0.15560872954702104,0.15670785474237447,0.16989047544614852,0.18324907601243318,0.18480950635542778],\"y\":[\"dr\\u017eavnega  \",\"vi\\u0161ini  \",\"prora\\u010dunov  \",\"proizvoda  \",\"slovenija  \",\"bo  \",\"2007  \",\"milijonov  \",\"rast  \",\"evrov  \"],\"type\":\"bar\",\"xaxis\":\"x6\",\"yaxis\":\"y6\"},{\"marker\":{\"color\":\"#F0E442\"},\"orientation\":\"h\",\"x\":[0.1340438645083042,0.13619615242069547,0.13770717078627753,0.1395418059220139,0.1403875159159709,0.14148346128268502,0.14163627577624466,0.14196379057304798,0.14409620740631807,0.14519736397158214],\"y\":[\"dr\\u017eave  \",\"bomo  \",\"sodi\\u0161\\u010da  \",\"ki  \",\"tem  \",\"gre  \",\"so  \",\"stranke  \",\"sloveniji  \",\"bo  \"],\"type\":\"bar\",\"xaxis\":\"x7\",\"yaxis\":\"y7\"},{\"marker\":{\"color\":\"#D55E00\"},\"orientation\":\"h\",\"x\":[0.14753494897447342,0.1476478267408239,0.14859934245319445,0.15534422387212932,0.15661159209199493,0.1798035201097378,0.1854281418790765,0.20626010615240203,0.20713228987959764,0.20891485925734732],\"y\":[\"2004  \",\"dr\\u017eave  \",\"bomo  \",\"bo  \",\"prora\\u010dunov  \",\"rebalans  \",\"rast  \",\"evrov  \",\"letu  \",\"milijonov  \"],\"type\":\"bar\",\"xaxis\":\"x8\",\"yaxis\":\"y8\"},{\"marker\":{\"color\":\"#0072B2\"},\"orientation\":\"h\",\"x\":[0.14170472783541713,0.14281845520477696,0.143318038515309,0.1434685094692466,0.14371404934379908,0.1450488161830677,0.1452681116774351,0.15442820503199248,0.15767496793848707,0.17695308719094255],\"y\":[\"pravosodju  \",\"lahko  \",\"tem  \",\"bo  \",\"policija  \",\"dr\\u017eavni  \",\"sodnikov  \",\"sankcij  \",\"referendum  \",\"zapora  \"],\"type\":\"bar\",\"xaxis\":\"x9\",\"yaxis\":\"y9\"},{\"marker\":{\"color\":\"#CC79A7\"},\"orientation\":\"h\",\"x\":[0.14919610362534047,0.15061539654360365,0.15761682318654543,0.16062916938977206,0.16162931425180707,0.1768739072503554,0.18058165443371899,0.18873933216618627,0.1896184965658457,0.25759378698693247],\"y\":[\"tem  \",\"enake  \",\"nasilja  \",\"vedno  \",\"delo  \",\"peticije  \",\"priporo\\u010dila  \",\"opozarja  \",\"pravice  \",\"poro\\u010dilu  \"],\"type\":\"bar\",\"xaxis\":\"x10\",\"yaxis\":\"y10\"}],                        {\"template\":{\"data\":{\"barpolar\":[{\"marker\":{\"line\":{\"color\":\"white\",\"width\":0.5},\"pattern\":{\"fillmode\":\"overlay\",\"size\":10,\"solidity\":0.2}},\"type\":\"barpolar\"}],\"bar\":[{\"error_x\":{\"color\":\"#2a3f5f\"},\"error_y\":{\"color\":\"#2a3f5f\"},\"marker\":{\"line\":{\"color\":\"white\",\"width\":0.5},\"pattern\":{\"fillmode\":\"overlay\",\"size\":10,\"solidity\":0.2}},\"type\":\"bar\"}],\"carpet\":[{\"aaxis\":{\"endlinecolor\":\"#2a3f5f\",\"gridcolor\":\"#C8D4E3\",\"linecolor\":\"#C8D4E3\",\"minorgridcolor\":\"#C8D4E3\",\"startlinecolor\":\"#2a3f5f\"},\"baxis\":{\"endlinecolor\":\"#2a3f5f\",\"gridcolor\":\"#C8D4E3\",\"linecolor\":\"#C8D4E3\",\"minorgridcolor\":\"#C8D4E3\",\"startlinecolor\":\"#2a3f5f\"},\"type\":\"carpet\"}],\"choropleth\":[{\"colorbar\":{\"outlinewidth\":0,\"ticks\":\"\"},\"type\":\"choropleth\"}],\"contourcarpet\":[{\"colorbar\":{\"outlinewidth\":0,\"ticks\":\"\"},\"type\":\"contourcarpet\"}],\"contour\":[{\"colorbar\":{\"outlinewidth\":0,\"ticks\":\"\"},\"colorscale\":[[0.0,\"#0d0887\"],[0.1111111111111111,\"#46039f\"],[0.2222222222222222,\"#7201a8\"],[0.3333333333333333,\"#9c179e\"],[0.4444444444444444,\"#bd3786\"],[0.5555555555555556,\"#d8576b\"],[0.6666666666666666,\"#ed7953\"],[0.7777777777777778,\"#fb9f3a\"],[0.8888888888888888,\"#fdca26\"],[1.0,\"#f0f921\"]],\"type\":\"contour\"}],\"heatmapgl\":[{\"colorbar\":{\"outlinewidth\":0,\"ticks\":\"\"},\"colorscale\":[[0.0,\"#0d0887\"],[0.1111111111111111,\"#46039f\"],[0.2222222222222222,\"#7201a8\"],[0.3333333333333333,\"#9c179e\"],[0.4444444444444444,\"#bd3786\"],[0.5555555555555556,\"#d8576b\"],[0.6666666666666666,\"#ed7953\"],[0.7777777777777778,\"#fb9f3a\"],[0.8888888888888888,\"#fdca26\"],[1.0,\"#f0f921\"]],\"type\":\"heatmapgl\"}],\"heatmap\":[{\"colorbar\":{\"outlinewidth\":0,\"ticks\":\"\"},\"colorscale\":[[0.0,\"#0d0887\"],[0.1111111111111111,\"#46039f\"],[0.2222222222222222,\"#7201a8\"],[0.3333333333333333,\"#9c179e\"],[0.4444444444444444,\"#bd3786\"],[0.5555555555555556,\"#d8576b\"],[0.6666666666666666,\"#ed7953\"],[0.7777777777777778,\"#fb9f3a\"],[0.8888888888888888,\"#fdca26\"],[1.0,\"#f0f921\"]],\"type\":\"heatmap\"}],\"histogram2dcontour\":[{\"colorbar\":{\"outlinewidth\":0,\"ticks\":\"\"},\"colorscale\":[[0.0,\"#0d0887\"],[0.1111111111111111,\"#46039f\"],[0.2222222222222222,\"#7201a8\"],[0.3333333333333333,\"#9c179e\"],[0.4444444444444444,\"#bd3786\"],[0.5555555555555556,\"#d8576b\"],[0.6666666666666666,\"#ed7953\"],[0.7777777777777778,\"#fb9f3a\"],[0.8888888888888888,\"#fdca26\"],[1.0,\"#f0f921\"]],\"type\":\"histogram2dcontour\"}],\"histogram2d\":[{\"colorbar\":{\"outlinewidth\":0,\"ticks\":\"\"},\"colorscale\":[[0.0,\"#0d0887\"],[0.1111111111111111,\"#46039f\"],[0.2222222222222222,\"#7201a8\"],[0.3333333333333333,\"#9c179e\"],[0.4444444444444444,\"#bd3786\"],[0.5555555555555556,\"#d8576b\"],[0.6666666666666666,\"#ed7953\"],[0.7777777777777778,\"#fb9f3a\"],[0.8888888888888888,\"#fdca26\"],[1.0,\"#f0f921\"]],\"type\":\"histogram2d\"}],\"histogram\":[{\"marker\":{\"pattern\":{\"fillmode\":\"overlay\",\"size\":10,\"solidity\":0.2}},\"type\":\"histogram\"}],\"mesh3d\":[{\"colorbar\":{\"outlinewidth\":0,\"ticks\":\"\"},\"type\":\"mesh3d\"}],\"parcoords\":[{\"line\":{\"colorbar\":{\"outlinewidth\":0,\"ticks\":\"\"}},\"type\":\"parcoords\"}],\"pie\":[{\"automargin\":true,\"type\":\"pie\"}],\"scatter3d\":[{\"line\":{\"colorbar\":{\"outlinewidth\":0,\"ticks\":\"\"}},\"marker\":{\"colorbar\":{\"outlinewidth\":0,\"ticks\":\"\"}},\"type\":\"scatter3d\"}],\"scattercarpet\":[{\"marker\":{\"colorbar\":{\"outlinewidth\":0,\"ticks\":\"\"}},\"type\":\"scattercarpet\"}],\"scattergeo\":[{\"marker\":{\"colorbar\":{\"outlinewidth\":0,\"ticks\":\"\"}},\"type\":\"scattergeo\"}],\"scattergl\":[{\"marker\":{\"colorbar\":{\"outlinewidth\":0,\"ticks\":\"\"}},\"type\":\"scattergl\"}],\"scattermapbox\":[{\"marker\":{\"colorbar\":{\"outlinewidth\":0,\"ticks\":\"\"}},\"type\":\"scattermapbox\"}],\"scatterpolargl\":[{\"marker\":{\"colorbar\":{\"outlinewidth\":0,\"ticks\":\"\"}},\"type\":\"scatterpolargl\"}],\"scatterpolar\":[{\"marker\":{\"colorbar\":{\"outlinewidth\":0,\"ticks\":\"\"}},\"type\":\"scatterpolar\"}],\"scatter\":[{\"fillpattern\":{\"fillmode\":\"overlay\",\"size\":10,\"solidity\":0.2},\"type\":\"scatter\"}],\"scatterternary\":[{\"marker\":{\"colorbar\":{\"outlinewidth\":0,\"ticks\":\"\"}},\"type\":\"scatterternary\"}],\"surface\":[{\"colorbar\":{\"outlinewidth\":0,\"ticks\":\"\"},\"colorscale\":[[0.0,\"#0d0887\"],[0.1111111111111111,\"#46039f\"],[0.2222222222222222,\"#7201a8\"],[0.3333333333333333,\"#9c179e\"],[0.4444444444444444,\"#bd3786\"],[0.5555555555555556,\"#d8576b\"],[0.6666666666666666,\"#ed7953\"],[0.7777777777777778,\"#fb9f3a\"],[0.8888888888888888,\"#fdca26\"],[1.0,\"#f0f921\"]],\"type\":\"surface\"}],\"table\":[{\"cells\":{\"fill\":{\"color\":\"#EBF0F8\"},\"line\":{\"color\":\"white\"}},\"header\":{\"fill\":{\"color\":\"#C8D4E3\"},\"line\":{\"color\":\"white\"}},\"type\":\"table\"}]},\"layout\":{\"annotationdefaults\":{\"arrowcolor\":\"#2a3f5f\",\"arrowhead\":0,\"arrowwidth\":1},\"autotypenumbers\":\"strict\",\"coloraxis\":{\"colorbar\":{\"outlinewidth\":0,\"ticks\":\"\"}},\"colorscale\":{\"diverging\":[[0,\"#8e0152\"],[0.1,\"#c51b7d\"],[0.2,\"#de77ae\"],[0.3,\"#f1b6da\"],[0.4,\"#fde0ef\"],[0.5,\"#f7f7f7\"],[0.6,\"#e6f5d0\"],[0.7,\"#b8e186\"],[0.8,\"#7fbc41\"],[0.9,\"#4d9221\"],[1,\"#276419\"]],\"sequential\":[[0.0,\"#0d0887\"],[0.1111111111111111,\"#46039f\"],[0.2222222222222222,\"#7201a8\"],[0.3333333333333333,\"#9c179e\"],[0.4444444444444444,\"#bd3786\"],[0.5555555555555556,\"#d8576b\"],[0.6666666666666666,\"#ed7953\"],[0.7777777777777778,\"#fb9f3a\"],[0.8888888888888888,\"#fdca26\"],[1.0,\"#f0f921\"]],\"sequentialminus\":[[0.0,\"#0d0887\"],[0.1111111111111111,\"#46039f\"],[0.2222222222222222,\"#7201a8\"],[0.3333333333333333,\"#9c179e\"],[0.4444444444444444,\"#bd3786\"],[0.5555555555555556,\"#d8576b\"],[0.6666666666666666,\"#ed7953\"],[0.7777777777777778,\"#fb9f3a\"],[0.8888888888888888,\"#fdca26\"],[1.0,\"#f0f921\"]]},\"colorway\":[\"#636efa\",\"#EF553B\",\"#00cc96\",\"#ab63fa\",\"#FFA15A\",\"#19d3f3\",\"#FF6692\",\"#B6E880\",\"#FF97FF\",\"#FECB52\"],\"font\":{\"color\":\"#2a3f5f\"},\"geo\":{\"bgcolor\":\"white\",\"lakecolor\":\"white\",\"landcolor\":\"white\",\"showlakes\":true,\"showland\":true,\"subunitcolor\":\"#C8D4E3\"},\"hoverlabel\":{\"align\":\"left\"},\"hovermode\":\"closest\",\"mapbox\":{\"style\":\"light\"},\"paper_bgcolor\":\"white\",\"plot_bgcolor\":\"white\",\"polar\":{\"angularaxis\":{\"gridcolor\":\"#EBF0F8\",\"linecolor\":\"#EBF0F8\",\"ticks\":\"\"},\"bgcolor\":\"white\",\"radialaxis\":{\"gridcolor\":\"#EBF0F8\",\"linecolor\":\"#EBF0F8\",\"ticks\":\"\"}},\"scene\":{\"xaxis\":{\"backgroundcolor\":\"white\",\"gridcolor\":\"#DFE8F3\",\"gridwidth\":2,\"linecolor\":\"#EBF0F8\",\"showbackground\":true,\"ticks\":\"\",\"zerolinecolor\":\"#EBF0F8\"},\"yaxis\":{\"backgroundcolor\":\"white\",\"gridcolor\":\"#DFE8F3\",\"gridwidth\":2,\"linecolor\":\"#EBF0F8\",\"showbackground\":true,\"ticks\":\"\",\"zerolinecolor\":\"#EBF0F8\"},\"zaxis\":{\"backgroundcolor\":\"white\",\"gridcolor\":\"#DFE8F3\",\"gridwidth\":2,\"linecolor\":\"#EBF0F8\",\"showbackground\":true,\"ticks\":\"\",\"zerolinecolor\":\"#EBF0F8\"}},\"shapedefaults\":{\"line\":{\"color\":\"#2a3f5f\"}},\"ternary\":{\"aaxis\":{\"gridcolor\":\"#DFE8F3\",\"linecolor\":\"#A2B1C6\",\"ticks\":\"\"},\"baxis\":{\"gridcolor\":\"#DFE8F3\",\"linecolor\":\"#A2B1C6\",\"ticks\":\"\"},\"bgcolor\":\"white\",\"caxis\":{\"gridcolor\":\"#DFE8F3\",\"linecolor\":\"#A2B1C6\",\"ticks\":\"\"}},\"title\":{\"x\":0.05},\"xaxis\":{\"automargin\":true,\"gridcolor\":\"#EBF0F8\",\"linecolor\":\"#EBF0F8\",\"ticks\":\"\",\"title\":{\"standoff\":15},\"zerolinecolor\":\"#EBF0F8\",\"zerolinewidth\":2},\"yaxis\":{\"automargin\":true,\"gridcolor\":\"#EBF0F8\",\"linecolor\":\"#EBF0F8\",\"ticks\":\"\",\"title\":{\"standoff\":15},\"zerolinecolor\":\"#EBF0F8\",\"zerolinewidth\":2}}},\"xaxis\":{\"anchor\":\"y\",\"domain\":[0.0,0.175],\"showgrid\":true},\"yaxis\":{\"anchor\":\"x\",\"domain\":[0.7555555555555555,1.0],\"showgrid\":true},\"xaxis2\":{\"anchor\":\"y2\",\"domain\":[0.275,0.45],\"showgrid\":true},\"yaxis2\":{\"anchor\":\"x2\",\"domain\":[0.7555555555555555,1.0],\"showgrid\":true},\"xaxis3\":{\"anchor\":\"y3\",\"domain\":[0.55,0.7250000000000001],\"showgrid\":true},\"yaxis3\":{\"anchor\":\"x3\",\"domain\":[0.7555555555555555,1.0],\"showgrid\":true},\"xaxis4\":{\"anchor\":\"y4\",\"domain\":[0.825,1.0],\"showgrid\":true},\"yaxis4\":{\"anchor\":\"x4\",\"domain\":[0.7555555555555555,1.0],\"showgrid\":true},\"xaxis5\":{\"anchor\":\"y5\",\"domain\":[0.0,0.175],\"showgrid\":true},\"yaxis5\":{\"anchor\":\"x5\",\"domain\":[0.37777777777777777,0.6222222222222222],\"showgrid\":true},\"xaxis6\":{\"anchor\":\"y6\",\"domain\":[0.275,0.45],\"showgrid\":true},\"yaxis6\":{\"anchor\":\"x6\",\"domain\":[0.37777777777777777,0.6222222222222222],\"showgrid\":true},\"xaxis7\":{\"anchor\":\"y7\",\"domain\":[0.55,0.7250000000000001],\"showgrid\":true},\"yaxis7\":{\"anchor\":\"x7\",\"domain\":[0.37777777777777777,0.6222222222222222],\"showgrid\":true},\"xaxis8\":{\"anchor\":\"y8\",\"domain\":[0.825,1.0],\"showgrid\":true},\"yaxis8\":{\"anchor\":\"x8\",\"domain\":[0.37777777777777777,0.6222222222222222],\"showgrid\":true},\"xaxis9\":{\"anchor\":\"y9\",\"domain\":[0.0,0.175],\"showgrid\":true},\"yaxis9\":{\"anchor\":\"x9\",\"domain\":[0.0,0.24444444444444446],\"showgrid\":true},\"xaxis10\":{\"anchor\":\"y10\",\"domain\":[0.275,0.45],\"showgrid\":true},\"yaxis10\":{\"anchor\":\"x10\",\"domain\":[0.0,0.24444444444444446],\"showgrid\":true},\"xaxis11\":{\"anchor\":\"y11\",\"domain\":[0.55,0.7250000000000001],\"showgrid\":true},\"yaxis11\":{\"anchor\":\"x11\",\"domain\":[0.0,0.24444444444444446],\"showgrid\":true},\"xaxis12\":{\"anchor\":\"y12\",\"domain\":[0.825,1.0],\"showgrid\":true},\"yaxis12\":{\"anchor\":\"x12\",\"domain\":[0.0,0.24444444444444446],\"showgrid\":true},\"annotations\":[{\"font\":{\"size\":16},\"showarrow\":false,\"text\":\"Topic 0\",\"x\":0.0875,\"xanchor\":\"center\",\"xref\":\"paper\",\"y\":1.0,\"yanchor\":\"bottom\",\"yref\":\"paper\"},{\"font\":{\"size\":16},\"showarrow\":false,\"text\":\"Topic 1\",\"x\":0.36250000000000004,\"xanchor\":\"center\",\"xref\":\"paper\",\"y\":1.0,\"yanchor\":\"bottom\",\"yref\":\"paper\"},{\"font\":{\"size\":16},\"showarrow\":false,\"text\":\"Topic 2\",\"x\":0.6375000000000001,\"xanchor\":\"center\",\"xref\":\"paper\",\"y\":1.0,\"yanchor\":\"bottom\",\"yref\":\"paper\"},{\"font\":{\"size\":16},\"showarrow\":false,\"text\":\"Topic 3\",\"x\":0.9125,\"xanchor\":\"center\",\"xref\":\"paper\",\"y\":1.0,\"yanchor\":\"bottom\",\"yref\":\"paper\"},{\"font\":{\"size\":16},\"showarrow\":false,\"text\":\"Topic 4\",\"x\":0.0875,\"xanchor\":\"center\",\"xref\":\"paper\",\"y\":0.6222222222222222,\"yanchor\":\"bottom\",\"yref\":\"paper\"},{\"font\":{\"size\":16},\"showarrow\":false,\"text\":\"Topic 5\",\"x\":0.36250000000000004,\"xanchor\":\"center\",\"xref\":\"paper\",\"y\":0.6222222222222222,\"yanchor\":\"bottom\",\"yref\":\"paper\"},{\"font\":{\"size\":16},\"showarrow\":false,\"text\":\"Topic 6\",\"x\":0.6375000000000001,\"xanchor\":\"center\",\"xref\":\"paper\",\"y\":0.6222222222222222,\"yanchor\":\"bottom\",\"yref\":\"paper\"},{\"font\":{\"size\":16},\"showarrow\":false,\"text\":\"Topic 7\",\"x\":0.9125,\"xanchor\":\"center\",\"xref\":\"paper\",\"y\":0.6222222222222222,\"yanchor\":\"bottom\",\"yref\":\"paper\"},{\"font\":{\"size\":16},\"showarrow\":false,\"text\":\"Topic 8\",\"x\":0.0875,\"xanchor\":\"center\",\"xref\":\"paper\",\"y\":0.24444444444444446,\"yanchor\":\"bottom\",\"yref\":\"paper\"},{\"font\":{\"size\":16},\"showarrow\":false,\"text\":\"Topic 9\",\"x\":0.36250000000000004,\"xanchor\":\"center\",\"xref\":\"paper\",\"y\":0.24444444444444446,\"yanchor\":\"bottom\",\"yref\":\"paper\"}],\"title\":{\"font\":{\"size\":22,\"color\":\"Black\"},\"text\":\"Topic Word Scores\",\"x\":0.5,\"xanchor\":\"center\",\"yanchor\":\"top\"},\"hoverlabel\":{\"font\":{\"size\":16,\"family\":\"Rockwell\"},\"bgcolor\":\"white\"},\"showlegend\":false,\"width\":1320,\"height\":990},                        {\"responsive\": true}                    ).then(function(){\n",
       "                            \n",
       "var gd = document.getElementById('e89d0140-41e9-4e46-a69c-110af6f9470f');\n",
       "var x = new MutationObserver(function (mutations, observer) {{\n",
       "        var display = window.getComputedStyle(gd).display;\n",
       "        if (!display || display === 'none') {{\n",
       "            console.log([gd, 'removed!']);\n",
       "            Plotly.purge(gd);\n",
       "            observer.disconnect();\n",
       "        }}\n",
       "}});\n",
       "\n",
       "// Listen for the removal of the full notebook cells\n",
       "var notebookContainer = gd.closest('#notebook-container');\n",
       "if (notebookContainer) {{\n",
       "    x.observe(notebookContainer, {childList: true});\n",
       "}}\n",
       "\n",
       "// Listen for the clearing of the current output cell\n",
       "var outputEl = gd.closest('.output');\n",
       "if (outputEl) {{\n",
       "    x.observe(outputEl, {childList: true});\n",
       "}}\n",
       "\n",
       "                        })                };                });            </script>        </div>"
      ]
     },
     "metadata": {},
     "output_type": "display_data"
    }
   ],
   "source": [
    "topic_word_scores = topic_model.visualize_barchart(width=330, height=330, top_n_topics=10, n_words=10)\n",
    "topic_word_scores.write_image(f\"{OUTPUT_PATH}{THEME}_topic_keywords.png\")\n",
    "topic_word_scores"
   ]
  },
  {
   "attachments": {},
   "cell_type": "markdown",
   "metadata": {},
   "source": [
    "# Word Clouds"
   ]
  },
  {
   "cell_type": "code",
   "execution_count": 201,
   "metadata": {},
   "outputs": [
    {
     "data": {
      "image/png": "[encoded data removed]",
      "text/plain": [
       "<Figure size 640x480 with 1 Axes>"
      ]
     },
     "metadata": {},
     "output_type": "display_data"
    }
   ],
   "source": [
    "from wordcloud import WordCloud\n",
    "import matplotlib.pyplot as plt\n",
    "\n",
    "def create_wordcloud(model, topic):\n",
    "    text = {word: value for word, value in model.get_topic(topic)}\n",
    "    wc = WordCloud(background_color=\"white\", max_words=1000)\n",
    "    wc.generate_from_frequencies(text)\n",
    "    plt.imshow(wc, interpolation=\"bilinear\")\n",
    "    plt.axis(\"off\")\n",
    "    plt.show()\n",
    "\n",
    "# Show wordcloud\n",
    "create_wordcloud(topic_model, topic=0)"
   ]
  },
  {
   "cell_type": "code",
   "execution_count": 202,
   "metadata": {},
   "outputs": [
    {
     "data": {
      "application/vnd.plotly.v1+json": {
       "config": {
        "plotlyServerURL": "https://plot.ly"
       },
       "data": [
        {
         "coloraxis": "coloraxis",
         "hovertemplate": "x: %{x}<br>y: %{y}<br>Similarity Score: %{z}<extra></extra>",
         "name": "0",
         "type": "heatmap",
         "x": [
          "0_zdravil_hvala_zdravstva",
          "2_19_epidemijo_cepljenje",
          "9_poročilu_pravice_opozarja",
          "1_sem_potem_tem",
          "4_evropske_unije_tem",
          "6_bo_sloveniji_stranke",
          "3_šole_potrebami_posebnimi",
          "5_evrov_rast_milijonov",
          "7_milijonov_letu_evrov",
          "8_zapora_referendum_sankcij"
         ],
         "xaxis": "x",
         "y": [
          "0_zdravil_hvala_zdravstva",
          "2_19_epidemijo_cepljenje",
          "9_poročilu_pravice_opozarja",
          "1_sem_potem_tem",
          "4_evropske_unije_tem",
          "6_bo_sloveniji_stranke",
          "3_šole_potrebami_posebnimi",
          "5_evrov_rast_milijonov",
          "7_milijonov_letu_evrov",
          "8_zapora_referendum_sankcij"
         ],
         "yaxis": "y",
         "z": [
          [
           0.9999999999999997,
           0.8439583004219333,
           0.8500866854544197,
           0.8416233365972566,
           0.8075385483433922,
           0.8464858057173568,
           0.7927138345458717,
           0.7821062654139057,
           0.7868396370507922,
           0.811878408505859
          ],
          [
           0.8439583004219333,
           1,
           0.822866974263455,
           0.7937336453864056,
           0.8011951099056065,
           0.8130615258847664,
           0.7485576843356457,
           0.8171984852439237,
           0.815043668882707,
           0.7733564583870494
          ],
          [
           0.8500866854544197,
           0.822866974263455,
           1,
           0.8175229642743371,
           0.8012359308516281,
           0.8406526625352183,
           0.8050334732338964,
           0.7872559057857444,
           0.8011783426584645,
           0.8354877862232523
          ],
          [
           0.8416233365972566,
           0.7937336453864056,
           0.8175229642743371,
           0.9999999999999998,
           0.8442555488981649,
           0.8980011779799224,
           0.7327545365795434,
           0.7476026208413598,
           0.7912428029079535,
           0.8025595028485066
          ],
          [
           0.8075385483433922,
           0.8011951099056065,
           0.8012359308516281,
           0.8442555488981649,
           1.0000000000000007,
           0.9456115827399063,
           0.7525995231693182,
           0.8499049905906366,
           0.8503333972937945,
           0.8457055325839609
          ],
          [
           0.8464858057173568,
           0.8130615258847664,
           0.8406526625352183,
           0.8980011779799224,
           0.9456115827399063,
           0.9999999999999994,
           0.7836648479238769,
           0.8440591873841468,
           0.850977663030893,
           0.878713513084785
          ],
          [
           0.7927138345458717,
           0.7485576843356457,
           0.8050334732338964,
           0.7327545365795434,
           0.7525995231693182,
           0.7836648479238769,
           1.0000000000000004,
           0.7357478421840864,
           0.7329104402554705,
           0.7478290615643353
          ],
          [
           0.7821062654139057,
           0.8171984852439237,
           0.7872559057857444,
           0.7476026208413598,
           0.8499049905906366,
           0.8440591873841468,
           0.7357478421840864,
           1.0000000000000004,
           0.9470536896646392,
           0.7727321778658052
          ],
          [
           0.7868396370507922,
           0.815043668882707,
           0.8011783426584645,
           0.7912428029079535,
           0.8503333972937945,
           0.850977663030893,
           0.7329104402554705,
           0.9470536896646392,
           1,
           0.7865762078964265
          ],
          [
           0.811878408505859,
           0.7733564583870494,
           0.8354877862232523,
           0.8025595028485066,
           0.8457055325839609,
           0.878713513084785,
           0.7478290615643353,
           0.7727321778658052,
           0.7865762078964265,
           1.0000000000000007
          ]
         ]
        }
       ],
       "layout": {
        "coloraxis": {
         "colorbar": {
          "title": {
           "text": "Similarity Score"
          }
         },
         "colorscale": [
          [
           0,
           "rgb(247,252,240)"
          ],
          [
           0.125,
           "rgb(224,243,219)"
          ],
          [
           0.25,
           "rgb(204,235,197)"
          ],
          [
           0.375,
           "rgb(168,221,181)"
          ],
          [
           0.5,
           "rgb(123,204,196)"
          ],
          [
           0.625,
           "rgb(78,179,211)"
          ],
          [
           0.75,
           "rgb(43,140,190)"
          ],
          [
           0.875,
           "rgb(8,104,172)"
          ],
          [
           1,
           "rgb(8,64,129)"
          ]
         ]
        },
        "height": 800,
        "hoverlabel": {
         "bgcolor": "white",
         "font": {
          "family": "Rockwell",
          "size": 16
         }
        },
        "legend": {
         "title": {
          "text": "Trend"
         }
        },
        "margin": {
         "t": 60
        },
        "showlegend": true,
        "template": {
         "data": {
          "bar": [
           {
            "error_x": {
             "color": "#2a3f5f"
            },
            "error_y": {
             "color": "#2a3f5f"
            },
            "marker": {
             "line": {
              "color": "#E5ECF6",
              "width": 0.5
             },
             "pattern": {
              "fillmode": "overlay",
              "size": 10,
              "solidity": 0.2
             }
            },
            "type": "bar"
           }
          ],
          "barpolar": [
           {
            "marker": {
             "line": {
              "color": "#E5ECF6",
              "width": 0.5
             },
             "pattern": {
              "fillmode": "overlay",
              "size": 10,
              "solidity": 0.2
             }
            },
            "type": "barpolar"
           }
          ],
          "carpet": [
           {
            "aaxis": {
             "endlinecolor": "#2a3f5f",
             "gridcolor": "white",
             "linecolor": "white",
             "minorgridcolor": "white",
             "startlinecolor": "#2a3f5f"
            },
            "baxis": {
             "endlinecolor": "#2a3f5f",
             "gridcolor": "white",
             "linecolor": "white",
             "minorgridcolor": "white",
             "startlinecolor": "#2a3f5f"
            },
            "type": "carpet"
           }
          ],
          "choropleth": [
           {
            "colorbar": {
             "outlinewidth": 0,
             "ticks": ""
            },
            "type": "choropleth"
           }
          ],
          "contour": [
           {
            "colorbar": {
             "outlinewidth": 0,
             "ticks": ""
            },
            "colorscale": [
             [
              0,
              "#0d0887"
             ],
             [
              0.1111111111111111,
              "#46039f"
             ],
             [
              0.2222222222222222,
              "#7201a8"
             ],
             [
              0.3333333333333333,
              "#9c179e"
             ],
             [
              0.4444444444444444,
              "#bd3786"
             ],
             [
              0.5555555555555556,
              "#d8576b"
             ],
             [
              0.6666666666666666,
              "#ed7953"
             ],
             [
              0.7777777777777778,
              "#fb9f3a"
             ],
             [
              0.8888888888888888,
              "#fdca26"
             ],
             [
              1,
              "#f0f921"
             ]
            ],
            "type": "contour"
           }
          ],
          "contourcarpet": [
           {
            "colorbar": {
             "outlinewidth": 0,
             "ticks": ""
            },
            "type": "contourcarpet"
           }
          ],
          "heatmap": [
           {
            "colorbar": {
             "outlinewidth": 0,
             "ticks": ""
            },
            "colorscale": [
             [
              0,
              "#0d0887"
             ],
             [
              0.1111111111111111,
              "#46039f"
             ],
             [
              0.2222222222222222,
              "#7201a8"
             ],
             [
              0.3333333333333333,
              "#9c179e"
             ],
             [
              0.4444444444444444,
              "#bd3786"
             ],
             [
              0.5555555555555556,
              "#d8576b"
             ],
             [
              0.6666666666666666,
              "#ed7953"
             ],
             [
              0.7777777777777778,
              "#fb9f3a"
             ],
             [
              0.8888888888888888,
              "#fdca26"
             ],
             [
              1,
              "#f0f921"
             ]
            ],
            "type": "heatmap"
           }
          ],
          "heatmapgl": [
           {
            "colorbar": {
             "outlinewidth": 0,
             "ticks": ""
            },
            "colorscale": [
             [
              0,
              "#0d0887"
             ],
             [
              0.1111111111111111,
              "#46039f"
             ],
             [
              0.2222222222222222,
              "#7201a8"
             ],
             [
              0.3333333333333333,
              "#9c179e"
             ],
             [
              0.4444444444444444,
              "#bd3786"
             ],
             [
              0.5555555555555556,
              "#d8576b"
             ],
             [
              0.6666666666666666,
              "#ed7953"
             ],
             [
              0.7777777777777778,
              "#fb9f3a"
             ],
             [
              0.8888888888888888,
              "#fdca26"
             ],
             [
              1,
              "#f0f921"
             ]
            ],
            "type": "heatmapgl"
           }
          ],
          "histogram": [
           {
            "marker": {
             "pattern": {
              "fillmode": "overlay",
              "size": 10,
              "solidity": 0.2
             }
            },
            "type": "histogram"
           }
          ],
          "histogram2d": [
           {
            "colorbar": {
             "outlinewidth": 0,
             "ticks": ""
            },
            "colorscale": [
             [
              0,
              "#0d0887"
             ],
             [
              0.1111111111111111,
              "#46039f"
             ],
             [
              0.2222222222222222,
              "#7201a8"
             ],
             [
              0.3333333333333333,
              "#9c179e"
             ],
             [
              0.4444444444444444,
              "#bd3786"
             ],
             [
              0.5555555555555556,
              "#d8576b"
             ],
             [
              0.6666666666666666,
              "#ed7953"
             ],
             [
              0.7777777777777778,
              "#fb9f3a"
             ],
             [
              0.8888888888888888,
              "#fdca26"
             ],
             [
              1,
              "#f0f921"
             ]
            ],
            "type": "histogram2d"
           }
          ],
          "histogram2dcontour": [
           {
            "colorbar": {
             "outlinewidth": 0,
             "ticks": ""
            },
            "colorscale": [
             [
              0,
              "#0d0887"
             ],
             [
              0.1111111111111111,
              "#46039f"
             ],
             [
              0.2222222222222222,
              "#7201a8"
             ],
             [
              0.3333333333333333,
              "#9c179e"
             ],
             [
              0.4444444444444444,
              "#bd3786"
             ],
             [
              0.5555555555555556,
              "#d8576b"
             ],
             [
              0.6666666666666666,
              "#ed7953"
             ],
             [
              0.7777777777777778,
              "#fb9f3a"
             ],
             [
              0.8888888888888888,
              "#fdca26"
             ],
             [
              1,
              "#f0f921"
             ]
            ],
            "type": "histogram2dcontour"
           }
          ],
          "mesh3d": [
           {
            "colorbar": {
             "outlinewidth": 0,
             "ticks": ""
            },
            "type": "mesh3d"
           }
          ],
          "parcoords": [
           {
            "line": {
             "colorbar": {
              "outlinewidth": 0,
              "ticks": ""
             }
            },
            "type": "parcoords"
           }
          ],
          "pie": [
           {
            "automargin": true,
            "type": "pie"
           }
          ],
          "scatter": [
           {
            "fillpattern": {
             "fillmode": "overlay",
             "size": 10,
             "solidity": 0.2
            },
            "type": "scatter"
           }
          ],
          "scatter3d": [
           {
            "line": {
             "colorbar": {
              "outlinewidth": 0,
              "ticks": ""
             }
            },
            "marker": {
             "colorbar": {
              "outlinewidth": 0,
              "ticks": ""
             }
            },
            "type": "scatter3d"
           }
          ],
          "scattercarpet": [
           {
            "marker": {
             "colorbar": {
              "outlinewidth": 0,
              "ticks": ""
             }
            },
            "type": "scattercarpet"
           }
          ],
          "scattergeo": [
           {
            "marker": {
             "colorbar": {
              "outlinewidth": 0,
              "ticks": ""
             }
            },
            "type": "scattergeo"
           }
          ],
          "scattergl": [
           {
            "marker": {
             "colorbar": {
              "outlinewidth": 0,
              "ticks": ""
             }
            },
            "type": "scattergl"
           }
          ],
          "scattermapbox": [
           {
            "marker": {
             "colorbar": {
              "outlinewidth": 0,
              "ticks": ""
             }
            },
            "type": "scattermapbox"
           }
          ],
          "scatterpolar": [
           {
            "marker": {
             "colorbar": {
              "outlinewidth": 0,
              "ticks": ""
             }
            },
            "type": "scatterpolar"
           }
          ],
          "scatterpolargl": [
           {
            "marker": {
             "colorbar": {
              "outlinewidth": 0,
              "ticks": ""
             }
            },
            "type": "scatterpolargl"
           }
          ],
          "scatterternary": [
           {
            "marker": {
             "colorbar": {
              "outlinewidth": 0,
              "ticks": ""
             }
            },
            "type": "scatterternary"
           }
          ],
          "surface": [
           {
            "colorbar": {
             "outlinewidth": 0,
             "ticks": ""
            },
            "colorscale": [
             [
              0,
              "#0d0887"
             ],
             [
              0.1111111111111111,
              "#46039f"
             ],
             [
              0.2222222222222222,
              "#7201a8"
             ],
             [
              0.3333333333333333,
              "#9c179e"
             ],
             [
              0.4444444444444444,
              "#bd3786"
             ],
             [
              0.5555555555555556,
              "#d8576b"
             ],
             [
              0.6666666666666666,
              "#ed7953"
             ],
             [
              0.7777777777777778,
              "#fb9f3a"
             ],
             [
              0.8888888888888888,
              "#fdca26"
             ],
             [
              1,
              "#f0f921"
             ]
            ],
            "type": "surface"
           }
          ],
          "table": [
           {
            "cells": {
             "fill": {
              "color": "#EBF0F8"
             },
             "line": {
              "color": "white"
             }
            },
            "header": {
             "fill": {
              "color": "#C8D4E3"
             },
             "line": {
              "color": "white"
             }
            },
            "type": "table"
           }
          ]
         },
         "layout": {
          "annotationdefaults": {
           "arrowcolor": "#2a3f5f",
           "arrowhead": 0,
           "arrowwidth": 1
          },
          "autotypenumbers": "strict",
          "coloraxis": {
           "colorbar": {
            "outlinewidth": 0,
            "ticks": ""
           }
          },
          "colorscale": {
           "diverging": [
            [
             0,
             "#8e0152"
            ],
            [
             0.1,
             "#c51b7d"
            ],
            [
             0.2,
             "#de77ae"
            ],
            [
             0.3,
             "#f1b6da"
            ],
            [
             0.4,
             "#fde0ef"
            ],
            [
             0.5,
             "#f7f7f7"
            ],
            [
             0.6,
             "#e6f5d0"
            ],
            [
             0.7,
             "#b8e186"
            ],
            [
             0.8,
             "#7fbc41"
            ],
            [
             0.9,
             "#4d9221"
            ],
            [
             1,
             "#276419"
            ]
           ],
           "sequential": [
            [
             0,
             "#0d0887"
            ],
            [
             0.1111111111111111,
             "#46039f"
            ],
            [
             0.2222222222222222,
             "#7201a8"
            ],
            [
             0.3333333333333333,
             "#9c179e"
            ],
            [
             0.4444444444444444,
             "#bd3786"
            ],
            [
             0.5555555555555556,
             "#d8576b"
            ],
            [
             0.6666666666666666,
             "#ed7953"
            ],
            [
             0.7777777777777778,
             "#fb9f3a"
            ],
            [
             0.8888888888888888,
             "#fdca26"
            ],
            [
             1,
             "#f0f921"
            ]
           ],
           "sequentialminus": [
            [
             0,
             "#0d0887"
            ],
            [
             0.1111111111111111,
             "#46039f"
            ],
            [
             0.2222222222222222,
             "#7201a8"
            ],
            [
             0.3333333333333333,
             "#9c179e"
            ],
            [
             0.4444444444444444,
             "#bd3786"
            ],
            [
             0.5555555555555556,
             "#d8576b"
            ],
            [
             0.6666666666666666,
             "#ed7953"
            ],
            [
             0.7777777777777778,
             "#fb9f3a"
            ],
            [
             0.8888888888888888,
             "#fdca26"
            ],
            [
             1,
             "#f0f921"
            ]
           ]
          },
          "colorway": [
           "#636efa",
           "#EF553B",
           "#00cc96",
           "#ab63fa",
           "#FFA15A",
           "#19d3f3",
           "#FF6692",
           "#B6E880",
           "#FF97FF",
           "#FECB52"
          ],
          "font": {
           "color": "#2a3f5f"
          },
          "geo": {
           "bgcolor": "white",
           "lakecolor": "white",
           "landcolor": "#E5ECF6",
           "showlakes": true,
           "showland": true,
           "subunitcolor": "white"
          },
          "hoverlabel": {
           "align": "left"
          },
          "hovermode": "closest",
          "mapbox": {
           "style": "light"
          },
          "paper_bgcolor": "white",
          "plot_bgcolor": "#E5ECF6",
          "polar": {
           "angularaxis": {
            "gridcolor": "white",
            "linecolor": "white",
            "ticks": ""
           },
           "bgcolor": "#E5ECF6",
           "radialaxis": {
            "gridcolor": "white",
            "linecolor": "white",
            "ticks": ""
           }
          },
          "scene": {
           "xaxis": {
            "backgroundcolor": "#E5ECF6",
            "gridcolor": "white",
            "gridwidth": 2,
            "linecolor": "white",
            "showbackground": true,
            "ticks": "",
            "zerolinecolor": "white"
           },
           "yaxis": {
            "backgroundcolor": "#E5ECF6",
            "gridcolor": "white",
            "gridwidth": 2,
            "linecolor": "white",
            "showbackground": true,
            "ticks": "",
            "zerolinecolor": "white"
           },
           "zaxis": {
            "backgroundcolor": "#E5ECF6",
            "gridcolor": "white",
            "gridwidth": 2,
            "linecolor": "white",
            "showbackground": true,
            "ticks": "",
            "zerolinecolor": "white"
           }
          },
          "shapedefaults": {
           "line": {
            "color": "#2a3f5f"
           }
          },
          "ternary": {
           "aaxis": {
            "gridcolor": "white",
            "linecolor": "white",
            "ticks": ""
           },
           "baxis": {
            "gridcolor": "white",
            "linecolor": "white",
            "ticks": ""
           },
           "bgcolor": "#E5ECF6",
           "caxis": {
            "gridcolor": "white",
            "linecolor": "white",
            "ticks": ""
           }
          },
          "title": {
           "x": 0.05
          },
          "xaxis": {
           "automargin": true,
           "gridcolor": "white",
           "linecolor": "white",
           "ticks": "",
           "title": {
            "standoff": 15
           },
           "zerolinecolor": "white",
           "zerolinewidth": 2
          },
          "yaxis": {
           "automargin": true,
           "gridcolor": "white",
           "linecolor": "white",
           "ticks": "",
           "title": {
            "standoff": 15
           },
           "zerolinecolor": "white",
           "zerolinewidth": 2
          }
         }
        },
        "title": {
         "font": {
          "color": "Black",
          "size": 22
         },
         "text": "<b>Similarity Matrix</b>",
         "x": 0.55,
         "xanchor": "center",
         "y": 0.95,
         "yanchor": "top"
        },
        "width": 800,
        "xaxis": {
         "anchor": "y",
         "constrain": "domain",
         "domain": [
          0,
          1
         ],
         "scaleanchor": "y"
        },
        "yaxis": {
         "anchor": "x",
         "autorange": "reversed",
         "constrain": "domain",
         "domain": [
          0,
          1
         ]
        }
       }
      },
      "text/html": [
       "<div>                            <div id=\"824f7d98-9469-4993-839a-da641e5087cd\" class=\"plotly-graph-div\" style=\"height:800px; width:800px;\"></div>            <script type=\"text/javascript\">                require([\"plotly\"], function(Plotly) {                    window.PLOTLYENV=window.PLOTLYENV || {};                                    if (document.getElementById(\"824f7d98-9469-4993-839a-da641e5087cd\")) {                    Plotly.newPlot(                        \"824f7d98-9469-4993-839a-da641e5087cd\",                        [{\"coloraxis\":\"coloraxis\",\"name\":\"0\",\"x\":[\"0_zdravil_hvala_zdravstva\",\"2_19_epidemijo_cepljenje\",\"9_poro\\u010dilu_pravice_opozarja\",\"1_sem_potem_tem\",\"4_evropske_unije_tem\",\"6_bo_sloveniji_stranke\",\"3_\\u0161ole_potrebami_posebnimi\",\"5_evrov_rast_milijonov\",\"7_milijonov_letu_evrov\",\"8_zapora_referendum_sankcij\"],\"y\":[\"0_zdravil_hvala_zdravstva\",\"2_19_epidemijo_cepljenje\",\"9_poro\\u010dilu_pravice_opozarja\",\"1_sem_potem_tem\",\"4_evropske_unije_tem\",\"6_bo_sloveniji_stranke\",\"3_\\u0161ole_potrebami_posebnimi\",\"5_evrov_rast_milijonov\",\"7_milijonov_letu_evrov\",\"8_zapora_referendum_sankcij\"],\"z\":[[0.9999999999999997,0.8439583004219333,0.8500866854544197,0.8416233365972566,0.8075385483433922,0.8464858057173568,0.7927138345458717,0.7821062654139057,0.7868396370507922,0.811878408505859],[0.8439583004219333,1.0,0.822866974263455,0.7937336453864056,0.8011951099056065,0.8130615258847664,0.7485576843356457,0.8171984852439237,0.815043668882707,0.7733564583870494],[0.8500866854544197,0.822866974263455,1.0,0.8175229642743371,0.8012359308516281,0.8406526625352183,0.8050334732338964,0.7872559057857444,0.8011783426584645,0.8354877862232523],[0.8416233365972566,0.7937336453864056,0.8175229642743371,0.9999999999999998,0.8442555488981649,0.8980011779799224,0.7327545365795434,0.7476026208413598,0.7912428029079535,0.8025595028485066],[0.8075385483433922,0.8011951099056065,0.8012359308516281,0.8442555488981649,1.0000000000000007,0.9456115827399063,0.7525995231693182,0.8499049905906366,0.8503333972937945,0.8457055325839609],[0.8464858057173568,0.8130615258847664,0.8406526625352183,0.8980011779799224,0.9456115827399063,0.9999999999999994,0.7836648479238769,0.8440591873841468,0.850977663030893,0.878713513084785],[0.7927138345458717,0.7485576843356457,0.8050334732338964,0.7327545365795434,0.7525995231693182,0.7836648479238769,1.0000000000000004,0.7357478421840864,0.7329104402554705,0.7478290615643353],[0.7821062654139057,0.8171984852439237,0.7872559057857444,0.7476026208413598,0.8499049905906366,0.8440591873841468,0.7357478421840864,1.0000000000000004,0.9470536896646392,0.7727321778658052],[0.7868396370507922,0.815043668882707,0.8011783426584645,0.7912428029079535,0.8503333972937945,0.850977663030893,0.7329104402554705,0.9470536896646392,1.0,0.7865762078964265],[0.811878408505859,0.7733564583870494,0.8354877862232523,0.8025595028485066,0.8457055325839609,0.878713513084785,0.7478290615643353,0.7727321778658052,0.7865762078964265,1.0000000000000007]],\"type\":\"heatmap\",\"xaxis\":\"x\",\"yaxis\":\"y\",\"hovertemplate\":\"x: %{x}<br>y: %{y}<br>Similarity Score: %{z}<extra></extra>\"}],                        {\"template\":{\"data\":{\"histogram2dcontour\":[{\"type\":\"histogram2dcontour\",\"colorbar\":{\"outlinewidth\":0,\"ticks\":\"\"},\"colorscale\":[[0.0,\"#0d0887\"],[0.1111111111111111,\"#46039f\"],[0.2222222222222222,\"#7201a8\"],[0.3333333333333333,\"#9c179e\"],[0.4444444444444444,\"#bd3786\"],[0.5555555555555556,\"#d8576b\"],[0.6666666666666666,\"#ed7953\"],[0.7777777777777778,\"#fb9f3a\"],[0.8888888888888888,\"#fdca26\"],[1.0,\"#f0f921\"]]}],\"choropleth\":[{\"type\":\"choropleth\",\"colorbar\":{\"outlinewidth\":0,\"ticks\":\"\"}}],\"histogram2d\":[{\"type\":\"histogram2d\",\"colorbar\":{\"outlinewidth\":0,\"ticks\":\"\"},\"colorscale\":[[0.0,\"#0d0887\"],[0.1111111111111111,\"#46039f\"],[0.2222222222222222,\"#7201a8\"],[0.3333333333333333,\"#9c179e\"],[0.4444444444444444,\"#bd3786\"],[0.5555555555555556,\"#d8576b\"],[0.6666666666666666,\"#ed7953\"],[0.7777777777777778,\"#fb9f3a\"],[0.8888888888888888,\"#fdca26\"],[1.0,\"#f0f921\"]]}],\"heatmap\":[{\"type\":\"heatmap\",\"colorbar\":{\"outlinewidth\":0,\"ticks\":\"\"},\"colorscale\":[[0.0,\"#0d0887\"],[0.1111111111111111,\"#46039f\"],[0.2222222222222222,\"#7201a8\"],[0.3333333333333333,\"#9c179e\"],[0.4444444444444444,\"#bd3786\"],[0.5555555555555556,\"#d8576b\"],[0.6666666666666666,\"#ed7953\"],[0.7777777777777778,\"#fb9f3a\"],[0.8888888888888888,\"#fdca26\"],[1.0,\"#f0f921\"]]}],\"heatmapgl\":[{\"type\":\"heatmapgl\",\"colorbar\":{\"outlinewidth\":0,\"ticks\":\"\"},\"colorscale\":[[0.0,\"#0d0887\"],[0.1111111111111111,\"#46039f\"],[0.2222222222222222,\"#7201a8\"],[0.3333333333333333,\"#9c179e\"],[0.4444444444444444,\"#bd3786\"],[0.5555555555555556,\"#d8576b\"],[0.6666666666666666,\"#ed7953\"],[0.7777777777777778,\"#fb9f3a\"],[0.8888888888888888,\"#fdca26\"],[1.0,\"#f0f921\"]]}],\"contourcarpet\":[{\"type\":\"contourcarpet\",\"colorbar\":{\"outlinewidth\":0,\"ticks\":\"\"}}],\"contour\":[{\"type\":\"contour\",\"colorbar\":{\"outlinewidth\":0,\"ticks\":\"\"},\"colorscale\":[[0.0,\"#0d0887\"],[0.1111111111111111,\"#46039f\"],[0.2222222222222222,\"#7201a8\"],[0.3333333333333333,\"#9c179e\"],[0.4444444444444444,\"#bd3786\"],[0.5555555555555556,\"#d8576b\"],[0.6666666666666666,\"#ed7953\"],[0.7777777777777778,\"#fb9f3a\"],[0.8888888888888888,\"#fdca26\"],[1.0,\"#f0f921\"]]}],\"surface\":[{\"type\":\"surface\",\"colorbar\":{\"outlinewidth\":0,\"ticks\":\"\"},\"colorscale\":[[0.0,\"#0d0887\"],[0.1111111111111111,\"#46039f\"],[0.2222222222222222,\"#7201a8\"],[0.3333333333333333,\"#9c179e\"],[0.4444444444444444,\"#bd3786\"],[0.5555555555555556,\"#d8576b\"],[0.6666666666666666,\"#ed7953\"],[0.7777777777777778,\"#fb9f3a\"],[0.8888888888888888,\"#fdca26\"],[1.0,\"#f0f921\"]]}],\"mesh3d\":[{\"type\":\"mesh3d\",\"colorbar\":{\"outlinewidth\":0,\"ticks\":\"\"}}],\"scatter\":[{\"fillpattern\":{\"fillmode\":\"overlay\",\"size\":10,\"solidity\":0.2},\"type\":\"scatter\"}],\"parcoords\":[{\"type\":\"parcoords\",\"line\":{\"colorbar\":{\"outlinewidth\":0,\"ticks\":\"\"}}}],\"scatterpolargl\":[{\"type\":\"scatterpolargl\",\"marker\":{\"colorbar\":{\"outlinewidth\":0,\"ticks\":\"\"}}}],\"bar\":[{\"error_x\":{\"color\":\"#2a3f5f\"},\"error_y\":{\"color\":\"#2a3f5f\"},\"marker\":{\"line\":{\"color\":\"#E5ECF6\",\"width\":0.5},\"pattern\":{\"fillmode\":\"overlay\",\"size\":10,\"solidity\":0.2}},\"type\":\"bar\"}],\"scattergeo\":[{\"type\":\"scattergeo\",\"marker\":{\"colorbar\":{\"outlinewidth\":0,\"ticks\":\"\"}}}],\"scatterpolar\":[{\"type\":\"scatterpolar\",\"marker\":{\"colorbar\":{\"outlinewidth\":0,\"ticks\":\"\"}}}],\"histogram\":[{\"marker\":{\"pattern\":{\"fillmode\":\"overlay\",\"size\":10,\"solidity\":0.2}},\"type\":\"histogram\"}],\"scattergl\":[{\"type\":\"scattergl\",\"marker\":{\"colorbar\":{\"outlinewidth\":0,\"ticks\":\"\"}}}],\"scatter3d\":[{\"type\":\"scatter3d\",\"line\":{\"colorbar\":{\"outlinewidth\":0,\"ticks\":\"\"}},\"marker\":{\"colorbar\":{\"outlinewidth\":0,\"ticks\":\"\"}}}],\"scattermapbox\":[{\"type\":\"scattermapbox\",\"marker\":{\"colorbar\":{\"outlinewidth\":0,\"ticks\":\"\"}}}],\"scatterternary\":[{\"type\":\"scatterternary\",\"marker\":{\"colorbar\":{\"outlinewidth\":0,\"ticks\":\"\"}}}],\"scattercarpet\":[{\"type\":\"scattercarpet\",\"marker\":{\"colorbar\":{\"outlinewidth\":0,\"ticks\":\"\"}}}],\"carpet\":[{\"aaxis\":{\"endlinecolor\":\"#2a3f5f\",\"gridcolor\":\"white\",\"linecolor\":\"white\",\"minorgridcolor\":\"white\",\"startlinecolor\":\"#2a3f5f\"},\"baxis\":{\"endlinecolor\":\"#2a3f5f\",\"gridcolor\":\"white\",\"linecolor\":\"white\",\"minorgridcolor\":\"white\",\"startlinecolor\":\"#2a3f5f\"},\"type\":\"carpet\"}],\"table\":[{\"cells\":{\"fill\":{\"color\":\"#EBF0F8\"},\"line\":{\"color\":\"white\"}},\"header\":{\"fill\":{\"color\":\"#C8D4E3\"},\"line\":{\"color\":\"white\"}},\"type\":\"table\"}],\"barpolar\":[{\"marker\":{\"line\":{\"color\":\"#E5ECF6\",\"width\":0.5},\"pattern\":{\"fillmode\":\"overlay\",\"size\":10,\"solidity\":0.2}},\"type\":\"barpolar\"}],\"pie\":[{\"automargin\":true,\"type\":\"pie\"}]},\"layout\":{\"autotypenumbers\":\"strict\",\"colorway\":[\"#636efa\",\"#EF553B\",\"#00cc96\",\"#ab63fa\",\"#FFA15A\",\"#19d3f3\",\"#FF6692\",\"#B6E880\",\"#FF97FF\",\"#FECB52\"],\"font\":{\"color\":\"#2a3f5f\"},\"hovermode\":\"closest\",\"hoverlabel\":{\"align\":\"left\"},\"paper_bgcolor\":\"white\",\"plot_bgcolor\":\"#E5ECF6\",\"polar\":{\"bgcolor\":\"#E5ECF6\",\"angularaxis\":{\"gridcolor\":\"white\",\"linecolor\":\"white\",\"ticks\":\"\"},\"radialaxis\":{\"gridcolor\":\"white\",\"linecolor\":\"white\",\"ticks\":\"\"}},\"ternary\":{\"bgcolor\":\"#E5ECF6\",\"aaxis\":{\"gridcolor\":\"white\",\"linecolor\":\"white\",\"ticks\":\"\"},\"baxis\":{\"gridcolor\":\"white\",\"linecolor\":\"white\",\"ticks\":\"\"},\"caxis\":{\"gridcolor\":\"white\",\"linecolor\":\"white\",\"ticks\":\"\"}},\"coloraxis\":{\"colorbar\":{\"outlinewidth\":0,\"ticks\":\"\"}},\"colorscale\":{\"sequential\":[[0.0,\"#0d0887\"],[0.1111111111111111,\"#46039f\"],[0.2222222222222222,\"#7201a8\"],[0.3333333333333333,\"#9c179e\"],[0.4444444444444444,\"#bd3786\"],[0.5555555555555556,\"#d8576b\"],[0.6666666666666666,\"#ed7953\"],[0.7777777777777778,\"#fb9f3a\"],[0.8888888888888888,\"#fdca26\"],[1.0,\"#f0f921\"]],\"sequentialminus\":[[0.0,\"#0d0887\"],[0.1111111111111111,\"#46039f\"],[0.2222222222222222,\"#7201a8\"],[0.3333333333333333,\"#9c179e\"],[0.4444444444444444,\"#bd3786\"],[0.5555555555555556,\"#d8576b\"],[0.6666666666666666,\"#ed7953\"],[0.7777777777777778,\"#fb9f3a\"],[0.8888888888888888,\"#fdca26\"],[1.0,\"#f0f921\"]],\"diverging\":[[0,\"#8e0152\"],[0.1,\"#c51b7d\"],[0.2,\"#de77ae\"],[0.3,\"#f1b6da\"],[0.4,\"#fde0ef\"],[0.5,\"#f7f7f7\"],[0.6,\"#e6f5d0\"],[0.7,\"#b8e186\"],[0.8,\"#7fbc41\"],[0.9,\"#4d9221\"],[1,\"#276419\"]]},\"xaxis\":{\"gridcolor\":\"white\",\"linecolor\":\"white\",\"ticks\":\"\",\"title\":{\"standoff\":15},\"zerolinecolor\":\"white\",\"automargin\":true,\"zerolinewidth\":2},\"yaxis\":{\"gridcolor\":\"white\",\"linecolor\":\"white\",\"ticks\":\"\",\"title\":{\"standoff\":15},\"zerolinecolor\":\"white\",\"automargin\":true,\"zerolinewidth\":2},\"scene\":{\"xaxis\":{\"backgroundcolor\":\"#E5ECF6\",\"gridcolor\":\"white\",\"linecolor\":\"white\",\"showbackground\":true,\"ticks\":\"\",\"zerolinecolor\":\"white\",\"gridwidth\":2},\"yaxis\":{\"backgroundcolor\":\"#E5ECF6\",\"gridcolor\":\"white\",\"linecolor\":\"white\",\"showbackground\":true,\"ticks\":\"\",\"zerolinecolor\":\"white\",\"gridwidth\":2},\"zaxis\":{\"backgroundcolor\":\"#E5ECF6\",\"gridcolor\":\"white\",\"linecolor\":\"white\",\"showbackground\":true,\"ticks\":\"\",\"zerolinecolor\":\"white\",\"gridwidth\":2}},\"shapedefaults\":{\"line\":{\"color\":\"#2a3f5f\"}},\"annotationdefaults\":{\"arrowcolor\":\"#2a3f5f\",\"arrowhead\":0,\"arrowwidth\":1},\"geo\":{\"bgcolor\":\"white\",\"landcolor\":\"#E5ECF6\",\"subunitcolor\":\"white\",\"showland\":true,\"showlakes\":true,\"lakecolor\":\"white\"},\"title\":{\"x\":0.05},\"mapbox\":{\"style\":\"light\"}}},\"xaxis\":{\"anchor\":\"y\",\"domain\":[0.0,1.0],\"scaleanchor\":\"y\",\"constrain\":\"domain\"},\"yaxis\":{\"anchor\":\"x\",\"domain\":[0.0,1.0],\"autorange\":\"reversed\",\"constrain\":\"domain\"},\"coloraxis\":{\"colorbar\":{\"title\":{\"text\":\"Similarity Score\"}},\"colorscale\":[[0.0,\"rgb(247,252,240)\"],[0.125,\"rgb(224,243,219)\"],[0.25,\"rgb(204,235,197)\"],[0.375,\"rgb(168,221,181)\"],[0.5,\"rgb(123,204,196)\"],[0.625,\"rgb(78,179,211)\"],[0.75,\"rgb(43,140,190)\"],[0.875,\"rgb(8,104,172)\"],[1.0,\"rgb(8,64,129)\"]]},\"margin\":{\"t\":60},\"title\":{\"font\":{\"size\":22,\"color\":\"Black\"},\"text\":\"<b>Similarity Matrix</b>\",\"y\":0.95,\"x\":0.55,\"xanchor\":\"center\",\"yanchor\":\"top\"},\"hoverlabel\":{\"font\":{\"size\":16,\"family\":\"Rockwell\"},\"bgcolor\":\"white\"},\"width\":800,\"height\":800,\"showlegend\":true,\"legend\":{\"title\":{\"text\":\"Trend\"}}},                        {\"responsive\": true}                    ).then(function(){\n",
       "                            \n",
       "var gd = document.getElementById('824f7d98-9469-4993-839a-da641e5087cd');\n",
       "var x = new MutationObserver(function (mutations, observer) {{\n",
       "        var display = window.getComputedStyle(gd).display;\n",
       "        if (!display || display === 'none') {{\n",
       "            console.log([gd, 'removed!']);\n",
       "            Plotly.purge(gd);\n",
       "            observer.disconnect();\n",
       "        }}\n",
       "}});\n",
       "\n",
       "// Listen for the removal of the full notebook cells\n",
       "var notebookContainer = gd.closest('#notebook-container');\n",
       "if (notebookContainer) {{\n",
       "    x.observe(notebookContainer, {childList: true});\n",
       "}}\n",
       "\n",
       "// Listen for the clearing of the current output cell\n",
       "var outputEl = gd.closest('.output');\n",
       "if (outputEl) {{\n",
       "    x.observe(outputEl, {childList: true});\n",
       "}}\n",
       "\n",
       "                        })                };                });            </script>        </div>"
      ]
     },
     "metadata": {},
     "output_type": "display_data"
    }
   ],
   "source": [
    "topic_model.visualize_heatmap(n_clusters=5, top_n_topics=10)"
   ]
  },
  {
   "attachments": {},
   "cell_type": "markdown",
   "metadata": {},
   "source": [
    "For the top 10 topics, get the percentage of Labour speeches and Conservative speeches. Include the keywords related to the topic."
   ]
  },
  {
   "cell_type": "code",
   "execution_count": 203,
   "metadata": {},
   "outputs": [
    {
     "data": {
      "text/plain": [
       "['zdravil',\n",
       " 'hvala',\n",
       " 'zdravstva',\n",
       " 'storitev',\n",
       " 'sistem',\n",
       " 'bo',\n",
       " 'tem',\n",
       " 'zavarovanje',\n",
       " 'zakon',\n",
       " 'so']"
      ]
     },
     "execution_count": 203,
     "metadata": {},
     "output_type": "execute_result"
    }
   ],
   "source": [
    "def get_keywords(topic):\n",
    "    return [word for word, _ in topic_model.get_topic(topic)]\n",
    "get_keywords(0)"
   ]
  },
  {
   "cell_type": "code",
   "execution_count": 204,
   "metadata": {},
   "outputs": [
    {
     "data": {
      "text/html": [
       "<div>\n",
       "<style scoped>\n",
       "    .dataframe tbody tr th:only-of-type {\n",
       "        vertical-align: middle;\n",
       "    }\n",
       "\n",
       "    .dataframe tbody tr th {\n",
       "        vertical-align: top;\n",
       "    }\n",
       "\n",
       "    .dataframe thead th {\n",
       "        text-align: right;\n",
       "    }\n",
       "</style>\n",
       "<table border=\"1\" class=\"dataframe\">\n",
       "  <thead>\n",
       "    <tr style=\"text-align: right;\">\n",
       "      <th>party</th>\n",
       "      <th>OTHER</th>\n",
       "      <th>SD</th>\n",
       "      <th>SDS</th>\n",
       "    </tr>\n",
       "    <tr>\n",
       "      <th>topic</th>\n",
       "      <th></th>\n",
       "      <th></th>\n",
       "      <th></th>\n",
       "    </tr>\n",
       "  </thead>\n",
       "  <tbody>\n",
       "    <tr>\n",
       "      <th>0</th>\n",
       "      <td>2740</td>\n",
       "      <td>458</td>\n",
       "      <td>1085</td>\n",
       "    </tr>\n",
       "    <tr>\n",
       "      <th>1</th>\n",
       "      <td>1274</td>\n",
       "      <td>304</td>\n",
       "      <td>589</td>\n",
       "    </tr>\n",
       "    <tr>\n",
       "      <th>2</th>\n",
       "      <td>479</td>\n",
       "      <td>103</td>\n",
       "      <td>112</td>\n",
       "    </tr>\n",
       "    <tr>\n",
       "      <th>3</th>\n",
       "      <td>426</td>\n",
       "      <td>66</td>\n",
       "      <td>102</td>\n",
       "    </tr>\n",
       "    <tr>\n",
       "      <th>4</th>\n",
       "      <td>299</td>\n",
       "      <td>59</td>\n",
       "      <td>133</td>\n",
       "    </tr>\n",
       "    <tr>\n",
       "      <th>5</th>\n",
       "      <td>349</td>\n",
       "      <td>68</td>\n",
       "      <td>153</td>\n",
       "    </tr>\n",
       "    <tr>\n",
       "      <th>6</th>\n",
       "      <td>332</td>\n",
       "      <td>54</td>\n",
       "      <td>99</td>\n",
       "    </tr>\n",
       "    <tr>\n",
       "      <th>7</th>\n",
       "      <td>347</td>\n",
       "      <td>60</td>\n",
       "      <td>108</td>\n",
       "    </tr>\n",
       "    <tr>\n",
       "      <th>8</th>\n",
       "      <td>186</td>\n",
       "      <td>53</td>\n",
       "      <td>83</td>\n",
       "    </tr>\n",
       "    <tr>\n",
       "      <th>9</th>\n",
       "      <td>199</td>\n",
       "      <td>45</td>\n",
       "      <td>90</td>\n",
       "    </tr>\n",
       "  </tbody>\n",
       "</table>\n",
       "</div>"
      ],
      "text/plain": [
       "party  OTHER   SD   SDS\n",
       "topic                  \n",
       "0       2740  458  1085\n",
       "1       1274  304   589\n",
       "2        479  103   112\n",
       "3        426   66   102\n",
       "4        299   59   133\n",
       "5        349   68   153\n",
       "6        332   54    99\n",
       "7        347   60   108\n",
       "8        186   53    83\n",
       "9        199   45    90"
      ]
     },
     "execution_count": 204,
     "metadata": {},
     "output_type": "execute_result"
    }
   ],
   "source": [
    "speech_topic_party = pd.DataFrame({'topic': new_topics, 'party': df['Speaker_party']})\n",
    "# Remove the noise topic\n",
    "speech_topic_party = speech_topic_party[speech_topic_party['topic'] != -1]\n",
    "# Remove topics > 10\n",
    "speech_topic_party = speech_topic_party[speech_topic_party['topic'] < 10]\n",
    "# Drop speeches with no party\n",
    "speech_topic_party = speech_topic_party.dropna()\n",
    "# Set the party name to 'OTHER' if the party name does not contain 'SDS' or 'SD'\n",
    "speech_topic_party.loc[~speech_topic_party['party'].str.contains('SDS|SD'), 'party'] = 'OTHER'\n",
    "# Set the party name to 'OTHER' if the party name is 'ZLSD'\n",
    "speech_topic_party.loc[speech_topic_party['party'] == 'ZLSD', 'party'] = 'OTHER'\n",
    "# Group by party and topic\n",
    "speech_topic_party = speech_topic_party.groupby(['topic', 'party']).size().reset_index(name='counts')\n",
    "# Pivot the dataframe\n",
    "speech_topic_party = speech_topic_party.pivot(index='topic', columns='party', values='counts').fillna(0)\n",
    "speech_topic_party.to_csv(f\"{OUTPUT_PATH}{THEME}_speeches_topic_party.csv\")\n",
    "speech_topic_party"
   ]
  },
  {
   "cell_type": "code",
   "execution_count": 205,
   "metadata": {},
   "outputs": [
    {
     "data": {
      "text/html": [
       "<div>\n",
       "<style scoped>\n",
       "    .dataframe tbody tr th:only-of-type {\n",
       "        vertical-align: middle;\n",
       "    }\n",
       "\n",
       "    .dataframe tbody tr th {\n",
       "        vertical-align: top;\n",
       "    }\n",
       "\n",
       "    .dataframe thead th {\n",
       "        text-align: right;\n",
       "    }\n",
       "</style>\n",
       "<table border=\"1\" class=\"dataframe\">\n",
       "  <thead>\n",
       "    <tr style=\"text-align: right;\">\n",
       "      <th>party</th>\n",
       "      <th>OTHER</th>\n",
       "      <th>SD</th>\n",
       "      <th>SDS</th>\n",
       "    </tr>\n",
       "    <tr>\n",
       "      <th>topic</th>\n",
       "      <th></th>\n",
       "      <th></th>\n",
       "      <th></th>\n",
       "    </tr>\n",
       "  </thead>\n",
       "  <tbody>\n",
       "    <tr>\n",
       "      <th>0</th>\n",
       "      <td>41.3</td>\n",
       "      <td>36.1</td>\n",
       "      <td>42.5</td>\n",
       "    </tr>\n",
       "    <tr>\n",
       "      <th>1</th>\n",
       "      <td>19.2</td>\n",
       "      <td>23.9</td>\n",
       "      <td>23.1</td>\n",
       "    </tr>\n",
       "    <tr>\n",
       "      <th>2</th>\n",
       "      <td>7.2</td>\n",
       "      <td>8.1</td>\n",
       "      <td>4.4</td>\n",
       "    </tr>\n",
       "    <tr>\n",
       "      <th>3</th>\n",
       "      <td>6.4</td>\n",
       "      <td>5.2</td>\n",
       "      <td>4.0</td>\n",
       "    </tr>\n",
       "    <tr>\n",
       "      <th>4</th>\n",
       "      <td>4.5</td>\n",
       "      <td>4.6</td>\n",
       "      <td>5.2</td>\n",
       "    </tr>\n",
       "    <tr>\n",
       "      <th>5</th>\n",
       "      <td>5.3</td>\n",
       "      <td>5.4</td>\n",
       "      <td>6.0</td>\n",
       "    </tr>\n",
       "    <tr>\n",
       "      <th>6</th>\n",
       "      <td>5.0</td>\n",
       "      <td>4.3</td>\n",
       "      <td>3.9</td>\n",
       "    </tr>\n",
       "    <tr>\n",
       "      <th>7</th>\n",
       "      <td>5.2</td>\n",
       "      <td>4.7</td>\n",
       "      <td>4.2</td>\n",
       "    </tr>\n",
       "    <tr>\n",
       "      <th>8</th>\n",
       "      <td>2.8</td>\n",
       "      <td>4.2</td>\n",
       "      <td>3.2</td>\n",
       "    </tr>\n",
       "    <tr>\n",
       "      <th>9</th>\n",
       "      <td>3.0</td>\n",
       "      <td>3.5</td>\n",
       "      <td>3.5</td>\n",
       "    </tr>\n",
       "  </tbody>\n",
       "</table>\n",
       "</div>"
      ],
      "text/plain": [
       "party  OTHER    SD   SDS\n",
       "topic                   \n",
       "0       41.3  36.1  42.5\n",
       "1       19.2  23.9  23.1\n",
       "2        7.2   8.1   4.4\n",
       "3        6.4   5.2   4.0\n",
       "4        4.5   4.6   5.2\n",
       "5        5.3   5.4   6.0\n",
       "6        5.0   4.3   3.9\n",
       "7        5.2   4.7   4.2\n",
       "8        2.8   4.2   3.2\n",
       "9        3.0   3.5   3.5"
      ]
     },
     "execution_count": 205,
     "metadata": {},
     "output_type": "execute_result"
    }
   ],
   "source": [
    "# For each topic, divide the count of speeches by the total count of speeches per party\n",
    "percentages = speech_topic_party.div(speech_topic_party.sum(axis=0), axis=1)\n",
    "# Multiply by 100 to get percentages and round to 1 decimal\n",
    "percentages = (percentages * 100).round(1)\n",
    "percentages.reset_index()\n",
    "percentages"
   ]
  },
  {
   "cell_type": "code",
   "execution_count": 206,
   "metadata": {},
   "outputs": [
    {
     "data": {
      "text/html": [
       "<div>\n",
       "<style scoped>\n",
       "    .dataframe tbody tr th:only-of-type {\n",
       "        vertical-align: middle;\n",
       "    }\n",
       "\n",
       "    .dataframe tbody tr th {\n",
       "        vertical-align: top;\n",
       "    }\n",
       "\n",
       "    .dataframe thead th {\n",
       "        text-align: right;\n",
       "    }\n",
       "</style>\n",
       "<table border=\"1\" class=\"dataframe\">\n",
       "  <thead>\n",
       "    <tr style=\"text-align: right;\">\n",
       "      <th>party</th>\n",
       "      <th>OTHER</th>\n",
       "      <th>SD</th>\n",
       "      <th>SDS</th>\n",
       "      <th>keywords</th>\n",
       "    </tr>\n",
       "    <tr>\n",
       "      <th>topic</th>\n",
       "      <th></th>\n",
       "      <th></th>\n",
       "      <th></th>\n",
       "      <th></th>\n",
       "    </tr>\n",
       "  </thead>\n",
       "  <tbody>\n",
       "    <tr>\n",
       "      <th>0</th>\n",
       "      <td>41.3</td>\n",
       "      <td>36.1</td>\n",
       "      <td>42.5</td>\n",
       "      <td>[zdravil, hvala, zdravstva, storitev, sistem, ...</td>\n",
       "    </tr>\n",
       "    <tr>\n",
       "      <th>1</th>\n",
       "      <td>19.2</td>\n",
       "      <td>23.9</td>\n",
       "      <td>23.1</td>\n",
       "      <td>[sem, potem, tem, danes, samo, seveda, so, vse...</td>\n",
       "    </tr>\n",
       "    <tr>\n",
       "      <th>2</th>\n",
       "      <td>7.2</td>\n",
       "      <td>8.1</td>\n",
       "      <td>4.4</td>\n",
       "      <td>[19, epidemijo, cepljenje, vlada, širjenja, 20...</td>\n",
       "    </tr>\n",
       "    <tr>\n",
       "      <th>3</th>\n",
       "      <td>6.4</td>\n",
       "      <td>5.2</td>\n",
       "      <td>4.0</td>\n",
       "      <td>[šole, potrebami, posebnimi, otroci, družine, ...</td>\n",
       "    </tr>\n",
       "    <tr>\n",
       "      <th>4</th>\n",
       "      <td>4.5</td>\n",
       "      <td>4.6</td>\n",
       "      <td>5.2</td>\n",
       "      <td>[evropske, unije, tem, bo, države, bomo, vlada...</td>\n",
       "    </tr>\n",
       "    <tr>\n",
       "      <th>5</th>\n",
       "      <td>5.3</td>\n",
       "      <td>5.4</td>\n",
       "      <td>6.0</td>\n",
       "      <td>[evrov, rast, milijonov, 2007, bo, slovenija, ...</td>\n",
       "    </tr>\n",
       "    <tr>\n",
       "      <th>6</th>\n",
       "      <td>5.0</td>\n",
       "      <td>4.3</td>\n",
       "      <td>3.9</td>\n",
       "      <td>[bo, sloveniji, stranke, so, gre, tem, ki, sod...</td>\n",
       "    </tr>\n",
       "    <tr>\n",
       "      <th>7</th>\n",
       "      <td>5.2</td>\n",
       "      <td>4.7</td>\n",
       "      <td>4.2</td>\n",
       "      <td>[milijonov, letu, evrov, rast, rebalans, prora...</td>\n",
       "    </tr>\n",
       "    <tr>\n",
       "      <th>8</th>\n",
       "      <td>2.8</td>\n",
       "      <td>4.2</td>\n",
       "      <td>3.2</td>\n",
       "      <td>[zapora, referendum, sankcij, sodnikov, državn...</td>\n",
       "    </tr>\n",
       "    <tr>\n",
       "      <th>9</th>\n",
       "      <td>3.0</td>\n",
       "      <td>3.5</td>\n",
       "      <td>3.5</td>\n",
       "      <td>[poročilu, pravice, opozarja, priporočila, pet...</td>\n",
       "    </tr>\n",
       "  </tbody>\n",
       "</table>\n",
       "</div>"
      ],
      "text/plain": [
       "party  OTHER    SD   SDS                                           keywords\n",
       "topic                                                                      \n",
       "0       41.3  36.1  42.5  [zdravil, hvala, zdravstva, storitev, sistem, ...\n",
       "1       19.2  23.9  23.1  [sem, potem, tem, danes, samo, seveda, so, vse...\n",
       "2        7.2   8.1   4.4  [19, epidemijo, cepljenje, vlada, širjenja, 20...\n",
       "3        6.4   5.2   4.0  [šole, potrebami, posebnimi, otroci, družine, ...\n",
       "4        4.5   4.6   5.2  [evropske, unije, tem, bo, države, bomo, vlada...\n",
       "5        5.3   5.4   6.0  [evrov, rast, milijonov, 2007, bo, slovenija, ...\n",
       "6        5.0   4.3   3.9  [bo, sloveniji, stranke, so, gre, tem, ki, sod...\n",
       "7        5.2   4.7   4.2  [milijonov, letu, evrov, rast, rebalans, prora...\n",
       "8        2.8   4.2   3.2  [zapora, referendum, sankcij, sodnikov, državn...\n",
       "9        3.0   3.5   3.5  [poročilu, pravice, opozarja, priporočila, pet..."
      ]
     },
     "execution_count": 206,
     "metadata": {},
     "output_type": "execute_result"
    }
   ],
   "source": [
    "# Reset the index to get the topic column back and add a new column 'keywords'\n",
    "percentages = percentages.reset_index()\n",
    "percentages['keywords'] = percentages['topic'].apply(lambda x: get_keywords(x))\n",
    "percentages = percentages.set_index('topic')\n",
    "percentages.to_csv(f'{OUTPUT_PATH}{THEME}_percentages.csv')\n",
    "percentages"
   ]
  },
  {
   "cell_type": "code",
   "execution_count": 207,
   "metadata": {},
   "outputs": [
    {
     "data": {
      "text/html": [
       "<div>\n",
       "<style scoped>\n",
       "    .dataframe tbody tr th:only-of-type {\n",
       "        vertical-align: middle;\n",
       "    }\n",
       "\n",
       "    .dataframe tbody tr th {\n",
       "        vertical-align: top;\n",
       "    }\n",
       "\n",
       "    .dataframe thead th {\n",
       "        text-align: right;\n",
       "    }\n",
       "</style>\n",
       "<table border=\"1\" class=\"dataframe\">\n",
       "  <thead>\n",
       "    <tr style=\"text-align: right;\">\n",
       "      <th>party</th>\n",
       "      <th>topic</th>\n",
       "      <th>OTHER</th>\n",
       "      <th>SD</th>\n",
       "      <th>SDS</th>\n",
       "    </tr>\n",
       "  </thead>\n",
       "  <tbody>\n",
       "    <tr>\n",
       "      <th>0</th>\n",
       "      <td>0</td>\n",
       "      <td>64.0</td>\n",
       "      <td>10.7</td>\n",
       "      <td>25.3</td>\n",
       "    </tr>\n",
       "    <tr>\n",
       "      <th>1</th>\n",
       "      <td>1</td>\n",
       "      <td>58.8</td>\n",
       "      <td>14.0</td>\n",
       "      <td>27.2</td>\n",
       "    </tr>\n",
       "    <tr>\n",
       "      <th>2</th>\n",
       "      <td>2</td>\n",
       "      <td>69.0</td>\n",
       "      <td>14.8</td>\n",
       "      <td>16.1</td>\n",
       "    </tr>\n",
       "    <tr>\n",
       "      <th>3</th>\n",
       "      <td>3</td>\n",
       "      <td>71.7</td>\n",
       "      <td>11.1</td>\n",
       "      <td>17.2</td>\n",
       "    </tr>\n",
       "    <tr>\n",
       "      <th>4</th>\n",
       "      <td>4</td>\n",
       "      <td>60.9</td>\n",
       "      <td>12.0</td>\n",
       "      <td>27.1</td>\n",
       "    </tr>\n",
       "    <tr>\n",
       "      <th>5</th>\n",
       "      <td>5</td>\n",
       "      <td>61.2</td>\n",
       "      <td>11.9</td>\n",
       "      <td>26.8</td>\n",
       "    </tr>\n",
       "    <tr>\n",
       "      <th>6</th>\n",
       "      <td>6</td>\n",
       "      <td>68.5</td>\n",
       "      <td>11.1</td>\n",
       "      <td>20.4</td>\n",
       "    </tr>\n",
       "    <tr>\n",
       "      <th>7</th>\n",
       "      <td>7</td>\n",
       "      <td>67.4</td>\n",
       "      <td>11.7</td>\n",
       "      <td>21.0</td>\n",
       "    </tr>\n",
       "    <tr>\n",
       "      <th>8</th>\n",
       "      <td>8</td>\n",
       "      <td>57.8</td>\n",
       "      <td>16.5</td>\n",
       "      <td>25.8</td>\n",
       "    </tr>\n",
       "    <tr>\n",
       "      <th>9</th>\n",
       "      <td>9</td>\n",
       "      <td>59.6</td>\n",
       "      <td>13.5</td>\n",
       "      <td>26.9</td>\n",
       "    </tr>\n",
       "  </tbody>\n",
       "</table>\n",
       "</div>"
      ],
      "text/plain": [
       "party  topic  OTHER    SD   SDS\n",
       "0          0   64.0  10.7  25.3\n",
       "1          1   58.8  14.0  27.2\n",
       "2          2   69.0  14.8  16.1\n",
       "3          3   71.7  11.1  17.2\n",
       "4          4   60.9  12.0  27.1\n",
       "5          5   61.2  11.9  26.8\n",
       "6          6   68.5  11.1  20.4\n",
       "7          7   67.4  11.7  21.0\n",
       "8          8   57.8  16.5  25.8\n",
       "9          9   59.6  13.5  26.9"
      ]
     },
     "execution_count": 207,
     "metadata": {},
     "output_type": "execute_result"
    }
   ],
   "source": [
    "# For each topic, divide the count of speeches by the total count of speeches per party\n",
    "percentages_per_row = speech_topic_party.div(speech_topic_party.sum(axis=1), axis=0)\n",
    "# Multiply by 100 to get percentages and round to 1 decimal\n",
    "percentages_per_row = (percentages_per_row * 100).round(1)\n",
    "percentages_per_row.to_csv(f'{OUTPUT_PATH}{THEME}_percentages_per_row.csv')\n",
    "percentages_per_row.reset_index()"
   ]
  },
  {
   "attachments": {},
   "cell_type": "markdown",
   "metadata": {},
   "source": [
    "Calculate mean sentiment for each topic per party"
   ]
  },
  {
   "cell_type": "code",
   "execution_count": 208,
   "metadata": {},
   "outputs": [
    {
     "data": {
      "text/html": [
       "<div>\n",
       "<style scoped>\n",
       "    .dataframe tbody tr th:only-of-type {\n",
       "        vertical-align: middle;\n",
       "    }\n",
       "\n",
       "    .dataframe tbody tr th {\n",
       "        vertical-align: top;\n",
       "    }\n",
       "\n",
       "    .dataframe thead th {\n",
       "        text-align: right;\n",
       "    }\n",
       "</style>\n",
       "<table border=\"1\" class=\"dataframe\">\n",
       "  <thead>\n",
       "    <tr style=\"text-align: right;\">\n",
       "      <th>party</th>\n",
       "      <th>OTHER</th>\n",
       "      <th>SD</th>\n",
       "      <th>SDS</th>\n",
       "    </tr>\n",
       "    <tr>\n",
       "      <th>topic</th>\n",
       "      <th></th>\n",
       "      <th></th>\n",
       "      <th></th>\n",
       "    </tr>\n",
       "  </thead>\n",
       "  <tbody>\n",
       "    <tr>\n",
       "      <th>0</th>\n",
       "      <td>-0.35</td>\n",
       "      <td>-0.30</td>\n",
       "      <td>-0.40</td>\n",
       "    </tr>\n",
       "    <tr>\n",
       "      <th>1</th>\n",
       "      <td>-0.55</td>\n",
       "      <td>-0.51</td>\n",
       "      <td>-0.58</td>\n",
       "    </tr>\n",
       "    <tr>\n",
       "      <th>2</th>\n",
       "      <td>-0.41</td>\n",
       "      <td>-0.55</td>\n",
       "      <td>-0.29</td>\n",
       "    </tr>\n",
       "    <tr>\n",
       "      <th>3</th>\n",
       "      <td>-0.10</td>\n",
       "      <td>-0.20</td>\n",
       "      <td>-0.28</td>\n",
       "    </tr>\n",
       "    <tr>\n",
       "      <th>4</th>\n",
       "      <td>-0.27</td>\n",
       "      <td>-0.26</td>\n",
       "      <td>-0.38</td>\n",
       "    </tr>\n",
       "    <tr>\n",
       "      <th>5</th>\n",
       "      <td>-0.17</td>\n",
       "      <td>-0.19</td>\n",
       "      <td>-0.23</td>\n",
       "    </tr>\n",
       "    <tr>\n",
       "      <th>6</th>\n",
       "      <td>-0.21</td>\n",
       "      <td>-0.19</td>\n",
       "      <td>-0.25</td>\n",
       "    </tr>\n",
       "    <tr>\n",
       "      <th>7</th>\n",
       "      <td>-0.31</td>\n",
       "      <td>-0.35</td>\n",
       "      <td>-0.45</td>\n",
       "    </tr>\n",
       "    <tr>\n",
       "      <th>8</th>\n",
       "      <td>-0.34</td>\n",
       "      <td>-0.19</td>\n",
       "      <td>-0.43</td>\n",
       "    </tr>\n",
       "    <tr>\n",
       "      <th>9</th>\n",
       "      <td>-0.19</td>\n",
       "      <td>-0.19</td>\n",
       "      <td>-0.25</td>\n",
       "    </tr>\n",
       "  </tbody>\n",
       "</table>\n",
       "</div>"
      ],
      "text/plain": [
       "party  OTHER    SD   SDS\n",
       "topic                   \n",
       "0      -0.35 -0.30 -0.40\n",
       "1      -0.55 -0.51 -0.58\n",
       "2      -0.41 -0.55 -0.29\n",
       "3      -0.10 -0.20 -0.28\n",
       "4      -0.27 -0.26 -0.38\n",
       "5      -0.17 -0.19 -0.23\n",
       "6      -0.21 -0.19 -0.25\n",
       "7      -0.31 -0.35 -0.45\n",
       "8      -0.34 -0.19 -0.43\n",
       "9      -0.19 -0.19 -0.25"
      ]
     },
     "execution_count": 208,
     "metadata": {},
     "output_type": "execute_result"
    }
   ],
   "source": [
    "sentiment_topic_party = pd.DataFrame({'topic': new_topics, 'party': df['Speaker_party'], 'sentiment': df['sentiment']})\n",
    "# Remove the noise topic\n",
    "sentiment_topic_party = sentiment_topic_party[sentiment_topic_party['topic'] != -1]\n",
    "# Remove topics > 10\n",
    "sentiment_topic_party = sentiment_topic_party[sentiment_topic_party['topic'] < 10]\n",
    "# Drop speeches with no party\n",
    "sentiment_topic_party = sentiment_topic_party.dropna()\n",
    "# Set the party name to 'OTHER' if the party name does not contain 'SDS' or 'SD'\n",
    "sentiment_topic_party.loc[~sentiment_topic_party['party'].str.contains('SDS|SD'), 'party'] = 'OTHER'\n",
    "# Set the party name to 'OTHER' if the party name is 'ZLSD'\n",
    "sentiment_topic_party.loc[sentiment_topic_party['party'] == 'ZLSD', 'party'] = 'OTHER'\n",
    "# Group by party and topic and take the average sentiment\n",
    "sentiment_topic_party = sentiment_topic_party.groupby(['topic', 'party']).mean().reset_index()\n",
    "# speech_topic_party = speech_topic_party.groupby(['topic', 'party']).size().reset_index(name='counts')\n",
    "# Pivot the dataframe\n",
    "sentiment_topic_party = sentiment_topic_party.pivot(index='topic', columns='party', values='sentiment').fillna(0).round(2)\n",
    "sentiment_topic_party.to_csv(f'{OUTPUT_PATH}{THEME}_sentiment.csv')\n",
    "sentiment_topic_party"
   ]
  }
 ],
 "metadata": {
  "kernelspec": {
   "display_name": "rapids-23.06",
   "language": "python",
   "name": "python3"
  },
  "language_info": {
   "codemirror_mode": {
    "name": "ipython",
    "version": 3
   },
   "file_extension": ".py",
   "mimetype": "text/x-python",
   "name": "python",
   "nbconvert_exporter": "python",
   "pygments_lexer": "ipython3",
   "version": "3.10.11"
  },
  "orig_nbformat": 4
 },
 "nbformat": 4,
 "nbformat_minor": 2
}
