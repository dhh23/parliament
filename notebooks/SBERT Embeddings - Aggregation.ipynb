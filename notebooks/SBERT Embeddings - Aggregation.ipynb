{
 "cells": [
  {
   "cell_type": "code",
   "execution_count": 19,
   "id": "b4e6ed0c",
   "metadata": {},
   "outputs": [],
   "source": [
    "import pandas as pd\n",
    "import pickle\n",
    "import pysbd\n",
    "import numpy as np\n",
    "from sklearn.metrics.pairwise import cosine_similarity\n",
    "from tqdm import tqdm"
   ]
  },
  {
   "cell_type": "code",
   "execution_count": 36,
   "id": "40e172ec",
   "metadata": {},
   "outputs": [],
   "source": [
    "seg = pysbd.Segmenter(language=\"en\", clean=False)\n",
    "\n",
    "df = pd.read_csv('./ParlaMint-GB-lords.csv')\n",
    "\n",
    "\n",
    "with (open(\"ParlaMint_GB_lords_embeddings.pkl\", \"rb\")) as openfile:\n",
    "    while True:\n",
    "        try:\n",
    "            embeddings = pickle.load(openfile)\n",
    "        except EOFError:\n",
    "            break"
   ]
  },
  {
   "cell_type": "code",
   "execution_count": 37,
   "id": "010fd1db",
   "metadata": {},
   "outputs": [
    {
     "data": {
      "text/html": [
       "<div>\n",
       "<style scoped>\n",
       "    .dataframe tbody tr th:only-of-type {\n",
       "        vertical-align: middle;\n",
       "    }\n",
       "\n",
       "    .dataframe tbody tr th {\n",
       "        vertical-align: top;\n",
       "    }\n",
       "\n",
       "    .dataframe thead th {\n",
       "        text-align: right;\n",
       "    }\n",
       "</style>\n",
       "<table border=\"1\" class=\"dataframe\">\n",
       "  <thead>\n",
       "    <tr style=\"text-align: right;\">\n",
       "      <th></th>\n",
       "      <th>ID</th>\n",
       "      <th>Title</th>\n",
       "      <th>Date</th>\n",
       "      <th>Body</th>\n",
       "      <th>Term</th>\n",
       "      <th>Session</th>\n",
       "      <th>Meeting</th>\n",
       "      <th>Sitting</th>\n",
       "      <th>Agenda</th>\n",
       "      <th>Subcorpus</th>\n",
       "      <th>Speaker_role</th>\n",
       "      <th>Speaker_MP</th>\n",
       "      <th>Speaker_Minister</th>\n",
       "      <th>Speaker_party</th>\n",
       "      <th>Speaker_party_name</th>\n",
       "      <th>Party_status</th>\n",
       "      <th>Speaker_name</th>\n",
       "      <th>Speaker_gender</th>\n",
       "      <th>Speaker_birth</th>\n",
       "      <th>speech</th>\n",
       "    </tr>\n",
       "  </thead>\n",
       "  <tbody>\n",
       "    <tr>\n",
       "      <th>0</th>\n",
       "      <td>ParlaMint-GB_2017-01-18-lords.u1</td>\n",
       "      <td>Minutes of the House of Lords, Daily Session 2...</td>\n",
       "      <td>2017-01-18</td>\n",
       "      <td>Upper house</td>\n",
       "      <td>56</td>\n",
       "      <td>NaN</td>\n",
       "      <td>NaN</td>\n",
       "      <td>2017-01-18</td>\n",
       "      <td>NaN</td>\n",
       "      <td>Reference</td>\n",
       "      <td>Regular</td>\n",
       "      <td>MP</td>\n",
       "      <td>-</td>\n",
       "      <td>LAB</td>\n",
       "      <td>Labour</td>\n",
       "      <td>Opposition</td>\n",
       "      <td>Harris, Jonathan Toby</td>\n",
       "      <td>M</td>\n",
       "      <td>-</td>\n",
       "      <td>To ask Her Majesty’s Government what represent...</td>\n",
       "    </tr>\n",
       "    <tr>\n",
       "      <th>1</th>\n",
       "      <td>ParlaMint-GB_2017-01-18-lords.u2</td>\n",
       "      <td>Minutes of the House of Lords, Daily Session 2...</td>\n",
       "      <td>2017-01-18</td>\n",
       "      <td>Upper house</td>\n",
       "      <td>56</td>\n",
       "      <td>NaN</td>\n",
       "      <td>NaN</td>\n",
       "      <td>2017-01-18</td>\n",
       "      <td>NaN</td>\n",
       "      <td>Reference</td>\n",
       "      <td>Regular</td>\n",
       "      <td>MP</td>\n",
       "      <td>-</td>\n",
       "      <td>CON</td>\n",
       "      <td>Conservative</td>\n",
       "      <td>NaN</td>\n",
       "      <td>Williams, Susan</td>\n",
       "      <td>F</td>\n",
       "      <td>-</td>\n",
       "      <td>My Lords, Her Majesty’s Passport Office has be...</td>\n",
       "    </tr>\n",
       "    <tr>\n",
       "      <th>2</th>\n",
       "      <td>ParlaMint-GB_2017-01-18-lords.u3</td>\n",
       "      <td>Minutes of the House of Lords, Daily Session 2...</td>\n",
       "      <td>2017-01-18</td>\n",
       "      <td>Upper house</td>\n",
       "      <td>56</td>\n",
       "      <td>NaN</td>\n",
       "      <td>NaN</td>\n",
       "      <td>2017-01-18</td>\n",
       "      <td>NaN</td>\n",
       "      <td>Reference</td>\n",
       "      <td>Regular</td>\n",
       "      <td>MP</td>\n",
       "      <td>-</td>\n",
       "      <td>LAB</td>\n",
       "      <td>Labour</td>\n",
       "      <td>Opposition</td>\n",
       "      <td>Harris, Jonathan Toby</td>\n",
       "      <td>M</td>\n",
       "      <td>-</td>\n",
       "      <td>My Lords, I am grateful to the Minister for th...</td>\n",
       "    </tr>\n",
       "    <tr>\n",
       "      <th>3</th>\n",
       "      <td>ParlaMint-GB_2017-01-18-lords.u4</td>\n",
       "      <td>Minutes of the House of Lords, Daily Session 2...</td>\n",
       "      <td>2017-01-18</td>\n",
       "      <td>Upper house</td>\n",
       "      <td>56</td>\n",
       "      <td>NaN</td>\n",
       "      <td>NaN</td>\n",
       "      <td>2017-01-18</td>\n",
       "      <td>NaN</td>\n",
       "      <td>Reference</td>\n",
       "      <td>Regular</td>\n",
       "      <td>MP</td>\n",
       "      <td>-</td>\n",
       "      <td>CON</td>\n",
       "      <td>Conservative</td>\n",
       "      <td>NaN</td>\n",
       "      <td>Williams, Susan</td>\n",
       "      <td>F</td>\n",
       "      <td>-</td>\n",
       "      <td>The noble Lord is absolutely right that securi...</td>\n",
       "    </tr>\n",
       "    <tr>\n",
       "      <th>4</th>\n",
       "      <td>ParlaMint-GB_2017-01-18-lords.u5</td>\n",
       "      <td>Minutes of the House of Lords, Daily Session 2...</td>\n",
       "      <td>2017-01-18</td>\n",
       "      <td>Upper house</td>\n",
       "      <td>56</td>\n",
       "      <td>NaN</td>\n",
       "      <td>NaN</td>\n",
       "      <td>2017-01-18</td>\n",
       "      <td>NaN</td>\n",
       "      <td>Reference</td>\n",
       "      <td>Regular</td>\n",
       "      <td>MP</td>\n",
       "      <td>-</td>\n",
       "      <td>LAB</td>\n",
       "      <td>Labour</td>\n",
       "      <td>Opposition</td>\n",
       "      <td>Campbell-Savours, Dale Norman</td>\n",
       "      <td>M</td>\n",
       "      <td>-</td>\n",
       "      <td>Does this Question not take us straight back t...</td>\n",
       "    </tr>\n",
       "  </tbody>\n",
       "</table>\n",
       "</div>"
      ],
      "text/plain": [
       "                                 ID  \\\n",
       "0  ParlaMint-GB_2017-01-18-lords.u1   \n",
       "1  ParlaMint-GB_2017-01-18-lords.u2   \n",
       "2  ParlaMint-GB_2017-01-18-lords.u3   \n",
       "3  ParlaMint-GB_2017-01-18-lords.u4   \n",
       "4  ParlaMint-GB_2017-01-18-lords.u5   \n",
       "\n",
       "                                               Title        Date         Body  \\\n",
       "0  Minutes of the House of Lords, Daily Session 2...  2017-01-18  Upper house   \n",
       "1  Minutes of the House of Lords, Daily Session 2...  2017-01-18  Upper house   \n",
       "2  Minutes of the House of Lords, Daily Session 2...  2017-01-18  Upper house   \n",
       "3  Minutes of the House of Lords, Daily Session 2...  2017-01-18  Upper house   \n",
       "4  Minutes of the House of Lords, Daily Session 2...  2017-01-18  Upper house   \n",
       "\n",
       "   Term  Session  Meeting     Sitting  Agenda  Subcorpus Speaker_role  \\\n",
       "0    56      NaN      NaN  2017-01-18     NaN  Reference      Regular   \n",
       "1    56      NaN      NaN  2017-01-18     NaN  Reference      Regular   \n",
       "2    56      NaN      NaN  2017-01-18     NaN  Reference      Regular   \n",
       "3    56      NaN      NaN  2017-01-18     NaN  Reference      Regular   \n",
       "4    56      NaN      NaN  2017-01-18     NaN  Reference      Regular   \n",
       "\n",
       "  Speaker_MP Speaker_Minister Speaker_party Speaker_party_name Party_status  \\\n",
       "0         MP                -           LAB             Labour   Opposition   \n",
       "1         MP                -           CON       Conservative          NaN   \n",
       "2         MP                -           LAB             Labour   Opposition   \n",
       "3         MP                -           CON       Conservative          NaN   \n",
       "4         MP                -           LAB             Labour   Opposition   \n",
       "\n",
       "                    Speaker_name Speaker_gender Speaker_birth  \\\n",
       "0          Harris, Jonathan Toby              M             -   \n",
       "1                Williams, Susan              F             -   \n",
       "2          Harris, Jonathan Toby              M             -   \n",
       "3                Williams, Susan              F             -   \n",
       "4  Campbell-Savours, Dale Norman              M             -   \n",
       "\n",
       "                                              speech  \n",
       "0  To ask Her Majesty’s Government what represent...  \n",
       "1  My Lords, Her Majesty’s Passport Office has be...  \n",
       "2  My Lords, I am grateful to the Minister for th...  \n",
       "3  The noble Lord is absolutely right that securi...  \n",
       "4  Does this Question not take us straight back t...  "
      ]
     },
     "execution_count": 37,
     "metadata": {},
     "output_type": "execute_result"
    }
   ],
   "source": [
    "df.head()"
   ]
  },
  {
   "cell_type": "code",
   "execution_count": 38,
   "id": "71ad2b47",
   "metadata": {},
   "outputs": [
    {
     "data": {
      "text/plain": [
       "198130"
      ]
     },
     "execution_count": 38,
     "metadata": {},
     "output_type": "execute_result"
    }
   ],
   "source": [
    "len(embeddings)"
   ]
  },
  {
   "cell_type": "code",
   "execution_count": 39,
   "id": "552ccede",
   "metadata": {},
   "outputs": [
    {
     "data": {
      "text/plain": [
       "198130"
      ]
     },
     "execution_count": 39,
     "metadata": {},
     "output_type": "execute_result"
    }
   ],
   "source": [
    "len(df)"
   ]
  },
  {
   "cell_type": "code",
   "execution_count": 40,
   "id": "0a3837ca",
   "metadata": {},
   "outputs": [],
   "source": [
    "def average_cosine_similarity(embeddings):\n",
    "    num_lists = len(embeddings)\n",
    "    all_similarities = []\n",
    "    \n",
    "    if num_lists == 1:\n",
    "        return None\n",
    "\n",
    "    for i, vector in enumerate(embeddings):\n",
    "        vector = np.array(vector).reshape(1, -1)  # Reshape to 2D array\n",
    "        \n",
    "        if i == 0:\n",
    "            other_vectors = embeddings[1:]\n",
    "        elif i == len(embeddings) - 1:\n",
    "            other_vectors = embeddings[:-1]\n",
    "        else:\n",
    "            other_vectors = np.concatenate((embeddings[:i], embeddings[i+1:]), axis=0)\n",
    "        \n",
    "        similarities = cosine_similarity(vector, other_vectors)\n",
    "        average_similarity = np.mean(similarities)\n",
    "        \n",
    "        all_similarities.append(average_similarity)\n",
    "        \n",
    "    all_similarities = all_similarities / sum(all_similarities)\n",
    "        \n",
    "    return np.asarray(all_similarities)"
   ]
  },
  {
   "cell_type": "code",
   "execution_count": 41,
   "id": "ba089721",
   "metadata": {},
   "outputs": [],
   "source": [
    "def aggregate_embedding(speech_id):\n",
    "    \n",
    "    speech_embedding = embeddings[speech_id]\n",
    "    \n",
    "    sentence_weights = average_cosine_similarity(speech_embedding)\n",
    "    \n",
    "    if type(sentence_weights) != list:\n",
    "        return speech_embedding[0]\n",
    "    \n",
    "    else:\n",
    "        sentence_weights = np.array(sentence_weights).reshape(-1, 1)\n",
    "        return sum(speech_embedding * sentence_weights)"
   ]
  },
  {
   "cell_type": "code",
   "execution_count": 42,
   "id": "2e3527aa",
   "metadata": {},
   "outputs": [
    {
     "name": "stderr",
     "output_type": "stream",
     "text": [
      "100%|██████████████████████████████████████████████████████████████████████████| 198130/198130 [07:29<00:00, 440.70it/s]\n"
     ]
    }
   ],
   "source": [
    "aggregated_embeddings = {}\n",
    "for speech_id in tqdm(list(df.ID)):\n",
    "    aggregated_embeddings[speech_id] = aggregate_embedding(speech_id)"
   ]
  },
  {
   "cell_type": "code",
   "execution_count": 43,
   "id": "7ea55351",
   "metadata": {},
   "outputs": [],
   "source": [
    "with open('ParlaMint_GB_lords_aggregated_embeddings.pkl', 'wb') as handle:\n",
    "    pickle.dump(aggregated_embeddings, handle, protocol=pickle.HIGHEST_PROTOCOL)"
   ]
  },
  {
   "cell_type": "code",
   "execution_count": null,
   "id": "e2c66e99",
   "metadata": {},
   "outputs": [],
   "source": []
  }
 ],
 "metadata": {
  "kernelspec": {
   "display_name": "Python 3 (ipykernel)",
   "language": "python",
   "name": "python3"
  },
  "language_info": {
   "codemirror_mode": {
    "name": "ipython",
    "version": 3
   },
   "file_extension": ".py",
   "mimetype": "text/x-python",
   "name": "python",
   "nbconvert_exporter": "python",
   "pygments_lexer": "ipython3",
   "version": "3.10.9"
  }
 },
 "nbformat": 4,
 "nbformat_minor": 5
}
