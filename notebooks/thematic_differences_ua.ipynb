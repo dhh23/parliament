{
 "cells": [
  {
   "attachments": {},
   "cell_type": "markdown",
   "metadata": {},
   "source": [
    "# Thematic differences (Ukraine)\n",
    "\n",
    "DHH23 Parliament group\n",
    "\n",
    "Author: Pontus H."
   ]
  },
  {
   "cell_type": "code",
   "execution_count": 88,
   "metadata": {},
   "outputs": [],
   "source": [
    "# Set the theme here\n",
    "THEME = 'gender_UA'\n",
    "# Set the output path for the CSV:s and keyword figure\n",
    "OUTPUT_PATH = '../thematic_differences/'"
   ]
  },
  {
   "cell_type": "code",
   "execution_count": 89,
   "metadata": {},
   "outputs": [],
   "source": [
    "from cuml.manifold import UMAP\n",
    "from cuml.cluster.hdbscan import HDBSCAN\n",
    "from sentence_transformers import SentenceTransformer\n",
    "from sklearn.feature_extraction.text import CountVectorizer\n",
    "from sklearn.cluster import KMeans\n",
    "\n",
    "from bertopic import BERTopic\n",
    "from bertopic.representation import KeyBERTInspired, MaximalMarginalRelevance\n",
    "from bertopic.vectorizers import ClassTfidfTransformer\n",
    "\n",
    "import pandas as pd"
   ]
  },
  {
   "cell_type": "code",
   "execution_count": 90,
   "metadata": {},
   "outputs": [],
   "source": [
    "# Optional stopwords\n",
    "with open('../data/stopwords-ua.txt', 'r', encoding='utf-8') as f:\n",
    "    stopwords = f.read().splitlines()"
   ]
  },
  {
   "attachments": {},
   "cell_type": "markdown",
   "metadata": {},
   "source": [
    "Set up the BERTopic pipeline"
   ]
  },
  {
   "cell_type": "code",
   "execution_count": 91,
   "metadata": {},
   "outputs": [],
   "source": [
    "# Parameters\n",
    "HDBSCAN_MIN_CLUSTER_SIZE = 10 # Lowered to 10 from 50\n",
    "HDBSCAN_MIN_SAMPLES = 1\n",
    "HDBSCAN_CLUSTER_SELECTION_EPSILON = 0\n",
    "\n",
    "# Step 1 - Extract embeddings\n",
    "# embedding_model = SentenceTransformer('all-MiniLM-L6-v2') # English\n",
    "embedding_model = SentenceTransformer('paraphrase-multilingual-mpnet-base-v2') # Other languages\n",
    "\n",
    "# Step 2 - Reduce dimensionality\n",
    "umap_model = UMAP(n_neighbors=15, n_components=10, min_dist=0.0, metric='cosine', random_state=42)\n",
    "\n",
    "# Step 3 - Cluster reduced embeddings\n",
    "hdbscan_model = HDBSCAN(\n",
    "    min_cluster_size=HDBSCAN_MIN_CLUSTER_SIZE,\n",
    "    min_samples=HDBSCAN_MIN_SAMPLES,\n",
    "    cluster_selection_epsilon=HDBSCAN_CLUSTER_SELECTION_EPSILON,\n",
    "    metric='euclidean',\n",
    "    cluster_selection_method='eom',\n",
    "    prediction_data=True,)\n",
    "\n",
    "# Step 3 - Cluster reduced embeddings with KMeans\n",
    "# hdbscan_model = KMeans(n_clusters=100, random_state=42)\n",
    "\n",
    "# Step 4 - Tokenize topics\n",
    "# vectorizer_model = CountVectorizer(stop_words=\"english\") # English\n",
    "vectorizer_model = CountVectorizer(stop_words=stopwords) # Other languages\n",
    "\n",
    "# Step 5 - Create topic representation\n",
    "ctfidf_model = ClassTfidfTransformer(reduce_frequent_words=True)\n",
    "\n",
    "# Step 6 - (Optional) Fine-tune topic representations with \n",
    "# a `bertopic.representation` model\n",
    "# representation_model = KeyBERTInspired()\n",
    "representation_model = MaximalMarginalRelevance(diversity=0.8)\n",
    "\n",
    "# All steps together\n",
    "topic_model = BERTopic(\n",
    "  embedding_model=embedding_model,          # Step 1 - Extract embeddings\n",
    "  umap_model=umap_model,                    # Step 2 - Reduce dimensionality\n",
    "  hdbscan_model=hdbscan_model,              # Step 3 - Cluster reduced embeddings\n",
    "  vectorizer_model=vectorizer_model,        # Step 4 - Tokenize topics\n",
    "  ctfidf_model=ctfidf_model,                # Step 5 - Extract topic words\n",
    "  representation_model=representation_model, # Step 6 - (Optional) Fine-tune topic representations\n",
    "  # nr_topics=10,\n",
    "  calculate_probabilities=True,\n",
    "  n_gram_range=(1, 3)\n",
    ")"
   ]
  },
  {
   "cell_type": "code",
   "execution_count": 92,
   "metadata": {},
   "outputs": [
    {
     "data": {
      "text/html": [
       "<div>\n",
       "<style scoped>\n",
       "    .dataframe tbody tr th:only-of-type {\n",
       "        vertical-align: middle;\n",
       "    }\n",
       "\n",
       "    .dataframe tbody tr th {\n",
       "        vertical-align: top;\n",
       "    }\n",
       "\n",
       "    .dataframe thead th {\n",
       "        text-align: right;\n",
       "    }\n",
       "</style>\n",
       "<table border=\"1\" class=\"dataframe\">\n",
       "  <thead>\n",
       "    <tr style=\"text-align: right;\">\n",
       "      <th></th>\n",
       "      <th>ID</th>\n",
       "      <th>Title</th>\n",
       "      <th>Date</th>\n",
       "      <th>Body</th>\n",
       "      <th>Term</th>\n",
       "      <th>Session</th>\n",
       "      <th>Meeting</th>\n",
       "      <th>Sitting</th>\n",
       "      <th>Agenda</th>\n",
       "      <th>Subcorpus</th>\n",
       "      <th>...</th>\n",
       "      <th>Speaker_party</th>\n",
       "      <th>Speaker_party_name</th>\n",
       "      <th>Party_status</th>\n",
       "      <th>Speaker_name</th>\n",
       "      <th>Speaker_gender</th>\n",
       "      <th>Speaker_birth</th>\n",
       "      <th>speech</th>\n",
       "      <th>speech_split</th>\n",
       "      <th>sentiment</th>\n",
       "      <th>speech_length</th>\n",
       "    </tr>\n",
       "  </thead>\n",
       "  <tbody>\n",
       "    <tr>\n",
       "      <th>0</th>\n",
       "      <td>ParlaMint-UA_2017-11-07-m0.u41</td>\n",
       "      <td>Ukrainian parliamentary corpus ParlaMint-UA, t...</td>\n",
       "      <td>2017-11-07</td>\n",
       "      <td>Unicameralism</td>\n",
       "      <td>8</td>\n",
       "      <td>7</td>\n",
       "      <td>NaN</td>\n",
       "      <td>2017-11-07</td>\n",
       "      <td>NaN</td>\n",
       "      <td>Reference</td>\n",
       "      <td>...</td>\n",
       "      <td>фБПП</td>\n",
       "      <td>Фракція партії «Блок Петра Порошенка»</td>\n",
       "      <td>Coalition</td>\n",
       "      <td>Миколайович Черненко, Олександр</td>\n",
       "      <td>M</td>\n",
       "      <td>1976</td>\n",
       "      <td>Доброго дня, шановні колеги! Хочу представити ...</td>\n",
       "      <td>Цей проект не новий, він розроблений на основ...</td>\n",
       "      <td>0.357422</td>\n",
       "      <td>5588</td>\n",
       "    </tr>\n",
       "    <tr>\n",
       "      <th>1</th>\n",
       "      <td>ParlaMint-UA_2017-12-07-m0.u6</td>\n",
       "      <td>Ukrainian parliamentary corpus ParlaMint-UA, t...</td>\n",
       "      <td>2017-12-07</td>\n",
       "      <td>Unicameralism</td>\n",
       "      <td>8</td>\n",
       "      <td>7</td>\n",
       "      <td>NaN</td>\n",
       "      <td>2017-12-07</td>\n",
       "      <td>NaN</td>\n",
       "      <td>Reference</td>\n",
       "      <td>...</td>\n",
       "      <td>NaN</td>\n",
       "      <td>NaN</td>\n",
       "      <td>NaN</td>\n",
       "      <td>Володимирівна Геращенко, Ірина</td>\n",
       "      <td>F</td>\n",
       "      <td>1971</td>\n",
       "      <td>Дякую. Шановні колеги! Я би дуже хотіла, щоб з...</td>\n",
       "      <td>Шановні колеги! Я би дуже хотіла, щоб зараз а...</td>\n",
       "      <td>0.580566</td>\n",
       "      <td>1556</td>\n",
       "    </tr>\n",
       "    <tr>\n",
       "      <th>2</th>\n",
       "      <td>ParlaMint-UA_2017-12-07-m0.u8</td>\n",
       "      <td>Ukrainian parliamentary corpus ParlaMint-UA, t...</td>\n",
       "      <td>2017-12-07</td>\n",
       "      <td>Unicameralism</td>\n",
       "      <td>8</td>\n",
       "      <td>7</td>\n",
       "      <td>NaN</td>\n",
       "      <td>2017-12-07</td>\n",
       "      <td>NaN</td>\n",
       "      <td>Reference</td>\n",
       "      <td>...</td>\n",
       "      <td>NaN</td>\n",
       "      <td>NaN</td>\n",
       "      <td>NaN</td>\n",
       "      <td>Володимирівна Геращенко, Ірина</td>\n",
       "      <td>F</td>\n",
       "      <td>1971</td>\n",
       "      <td>Я по всім поправкам пройдуся. Але почитайте, т...</td>\n",
       "      <td>Але почитайте, той самийМарк Цукерберг, він з...</td>\n",
       "      <td>-0.753906</td>\n",
       "      <td>2240</td>\n",
       "    </tr>\n",
       "    <tr>\n",
       "      <th>3</th>\n",
       "      <td>ParlaMint-UA_2017-12-07-m0.u16</td>\n",
       "      <td>Ukrainian parliamentary corpus ParlaMint-UA, t...</td>\n",
       "      <td>2017-12-07</td>\n",
       "      <td>Unicameralism</td>\n",
       "      <td>8</td>\n",
       "      <td>7</td>\n",
       "      <td>NaN</td>\n",
       "      <td>2017-12-07</td>\n",
       "      <td>NaN</td>\n",
       "      <td>Reference</td>\n",
       "      <td>...</td>\n",
       "      <td>фНФ</td>\n",
       "      <td>Фракція Політичної партії \"Народний фронт\"</td>\n",
       "      <td>Coalition</td>\n",
       "      <td>Романович Величкович, Микола</td>\n",
       "      <td>M</td>\n",
       "      <td>1972</td>\n",
       "      <td>Шановний Андрію Володимировичу! Шановні колеги...</td>\n",
       "      <td>Проте ми вважаємо, що держава має зупинити до...</td>\n",
       "      <td>-0.543945</td>\n",
       "      <td>654</td>\n",
       "    </tr>\n",
       "    <tr>\n",
       "      <th>4</th>\n",
       "      <td>ParlaMint-UA_2017-12-07-m0.u18</td>\n",
       "      <td>Ukrainian parliamentary corpus ParlaMint-UA, t...</td>\n",
       "      <td>2017-12-07</td>\n",
       "      <td>Unicameralism</td>\n",
       "      <td>8</td>\n",
       "      <td>7</td>\n",
       "      <td>NaN</td>\n",
       "      <td>2017-12-07</td>\n",
       "      <td>NaN</td>\n",
       "      <td>Reference</td>\n",
       "      <td>...</td>\n",
       "      <td>фБПП</td>\n",
       "      <td>Фракція партії «Блок Петра Порошенка»</td>\n",
       "      <td>Coalition</td>\n",
       "      <td>Миколаївна Суслова, Ірина</td>\n",
       "      <td>F</td>\n",
       "      <td>1988</td>\n",
       "      <td>Шановні колеги, у 2011 році Україна підписала ...</td>\n",
       "      <td>Це означає, що на міжнародному рівні ми взяли...</td>\n",
       "      <td>0.481934</td>\n",
       "      <td>1070</td>\n",
       "    </tr>\n",
       "  </tbody>\n",
       "</table>\n",
       "<p>5 rows × 23 columns</p>\n",
       "</div>"
      ],
      "text/plain": [
       "                               ID  \\\n",
       "0  ParlaMint-UA_2017-11-07-m0.u41   \n",
       "1   ParlaMint-UA_2017-12-07-m0.u6   \n",
       "2   ParlaMint-UA_2017-12-07-m0.u8   \n",
       "3  ParlaMint-UA_2017-12-07-m0.u16   \n",
       "4  ParlaMint-UA_2017-12-07-m0.u18   \n",
       "\n",
       "                                               Title        Date  \\\n",
       "0  Ukrainian parliamentary corpus ParlaMint-UA, t...  2017-11-07   \n",
       "1  Ukrainian parliamentary corpus ParlaMint-UA, t...  2017-12-07   \n",
       "2  Ukrainian parliamentary corpus ParlaMint-UA, t...  2017-12-07   \n",
       "3  Ukrainian parliamentary corpus ParlaMint-UA, t...  2017-12-07   \n",
       "4  Ukrainian parliamentary corpus ParlaMint-UA, t...  2017-12-07   \n",
       "\n",
       "            Body  Term  Session  Meeting     Sitting  Agenda  Subcorpus  ...  \\\n",
       "0  Unicameralism     8        7      NaN  2017-11-07     NaN  Reference  ...   \n",
       "1  Unicameralism     8        7      NaN  2017-12-07     NaN  Reference  ...   \n",
       "2  Unicameralism     8        7      NaN  2017-12-07     NaN  Reference  ...   \n",
       "3  Unicameralism     8        7      NaN  2017-12-07     NaN  Reference  ...   \n",
       "4  Unicameralism     8        7      NaN  2017-12-07     NaN  Reference  ...   \n",
       "\n",
       "  Speaker_party                          Speaker_party_name Party_status  \\\n",
       "0          фБПП       Фракція партії «Блок Петра Порошенка»    Coalition   \n",
       "1           NaN                                         NaN          NaN   \n",
       "2           NaN                                         NaN          NaN   \n",
       "3           фНФ  Фракція Політичної партії \"Народний фронт\"    Coalition   \n",
       "4          фБПП       Фракція партії «Блок Петра Порошенка»    Coalition   \n",
       "\n",
       "                      Speaker_name Speaker_gender Speaker_birth  \\\n",
       "0  Миколайович Черненко, Олександр              M          1976   \n",
       "1   Володимирівна Геращенко, Ірина              F          1971   \n",
       "2   Володимирівна Геращенко, Ірина              F          1971   \n",
       "3     Романович Величкович, Микола              M          1972   \n",
       "4        Миколаївна Суслова, Ірина              F          1988   \n",
       "\n",
       "                                              speech  \\\n",
       "0  Доброго дня, шановні колеги! Хочу представити ...   \n",
       "1  Дякую. Шановні колеги! Я би дуже хотіла, щоб з...   \n",
       "2  Я по всім поправкам пройдуся. Але почитайте, т...   \n",
       "3  Шановний Андрію Володимировичу! Шановні колеги...   \n",
       "4  Шановні колеги, у 2011 році Україна підписала ...   \n",
       "\n",
       "                                        speech_split  sentiment speech_length  \n",
       "0   Цей проект не новий, він розроблений на основ...   0.357422          5588  \n",
       "1   Шановні колеги! Я би дуже хотіла, щоб зараз а...   0.580566          1556  \n",
       "2   Але почитайте, той самийМарк Цукерберг, він з...  -0.753906          2240  \n",
       "3   Проте ми вважаємо, що держава має зупинити до...  -0.543945           654  \n",
       "4   Це означає, що на міжнародному рівні ми взяли...   0.481934          1070  \n",
       "\n",
       "[5 rows x 23 columns]"
      ]
     },
     "execution_count": 92,
     "metadata": {},
     "output_type": "execute_result"
    }
   ],
   "source": [
    "df = pd.read_csv(f'../data/{THEME}.csv')\n",
    "df.head()"
   ]
  },
  {
   "cell_type": "code",
   "execution_count": 93,
   "metadata": {},
   "outputs": [
    {
     "data": {
      "text/plain": [
       "фБПП        19\n",
       "фНФ         13\n",
       "фВОБ        12\n",
       "фСН         10\n",
       "фОПЗЖ        9\n",
       "фЄС          8\n",
       "фОпоблок     4\n",
       "фУДАР        4\n",
       "фСвобода     2\n",
       "гПВ          2\n",
       "фПГ          2\n",
       "гДовіра      2\n",
       "фЛяшко       2\n",
       "фПР          1\n",
       "гЕР          1\n",
       "гСЄУ         1\n",
       "фОС          1\n",
       "Name: Speaker_party, dtype: int64"
      ]
     },
     "execution_count": 93,
     "metadata": {},
     "output_type": "execute_result"
    }
   ],
   "source": [
    "df['Speaker_party'].value_counts()"
   ]
  },
  {
   "cell_type": "code",
   "execution_count": 94,
   "metadata": {},
   "outputs": [],
   "source": [
    "# Reference running time for this cell: 0min 30s\n",
    "topics, probs = topic_model.fit_transform(df['speech'])\n"
   ]
  },
  {
   "cell_type": "code",
   "execution_count": 95,
   "metadata": {},
   "outputs": [
    {
     "data": {
      "text/plain": [
       " 0    39\n",
       " 1    32\n",
       " 2    30\n",
       " 3    18\n",
       "-1     3\n",
       "dtype: int64"
      ]
     },
     "execution_count": 95,
     "metadata": {},
     "output_type": "execute_result"
    }
   ],
   "source": [
    "pd.Series(topics).value_counts()"
   ]
  },
  {
   "cell_type": "code",
   "execution_count": 96,
   "metadata": {},
   "outputs": [],
   "source": [
    "# Reduce outliers\n",
    "# threshold reduced to 0.05 from 0.1\n",
    "new_topics = topic_model.reduce_outliers(df['speech'], topics, strategy=\"c-tf-idf\", threshold=0.05)"
   ]
  },
  {
   "cell_type": "code",
   "execution_count": 97,
   "metadata": {},
   "outputs": [
    {
     "data": {
      "text/plain": [
       "0    39\n",
       "1    35\n",
       "2    30\n",
       "3    18\n",
       "dtype: int64"
      ]
     },
     "execution_count": 97,
     "metadata": {},
     "output_type": "execute_result"
    }
   ],
   "source": [
    "pd.Series(new_topics).value_counts()"
   ]
  },
  {
   "cell_type": "code",
   "execution_count": 98,
   "metadata": {},
   "outputs": [],
   "source": [
    "#topic_model.save(f\"../data/topic_model_epsilon{HDBSCAN_CLUSTER_SELECTION_EPSILON}_clustersize{HDBSCAN_MIN_CLUSTER_SIZE}.bin\")"
   ]
  },
  {
   "cell_type": "code",
   "execution_count": 99,
   "metadata": {},
   "outputs": [],
   "source": [
    "#topic_model = BERTopic.load(\"../data/topic_model_epsilon0_clustersize50.bin\")"
   ]
  },
  {
   "cell_type": "code",
   "execution_count": 100,
   "metadata": {},
   "outputs": [
    {
     "name": "stdout",
     "output_type": "stream",
     "text": [
      "Number of topics before: 5\n",
      "Number of topics before: 4\n"
     ]
    }
   ],
   "source": [
    "# Number of topics\n",
    "print(f\"Number of topics before: {len(pd.Series(topics).unique())}\")\n",
    "print(f\"Number of topics before: {len(pd.Series(new_topics).unique())}\")"
   ]
  },
  {
   "cell_type": "code",
   "execution_count": 101,
   "metadata": {},
   "outputs": [
    {
     "data": {
      "text/plain": [
       " 0    39\n",
       " 1    32\n",
       " 3    30\n",
       " 2    18\n",
       "-1     3\n",
       "dtype: int64"
      ]
     },
     "execution_count": 101,
     "metadata": {},
     "output_type": "execute_result"
    }
   ],
   "source": [
    "# The count of speeches per topic. -1 is the noise(outlier) topic\n",
    "pd.Series(topic_model.hdbscan_model.labels_).value_counts()"
   ]
  },
  {
   "cell_type": "code",
   "execution_count": 102,
   "metadata": {},
   "outputs": [
    {
     "data": {
      "application/vnd.plotly.v1+json": {
       "config": {
        "plotlyServerURL": "https://plot.ly"
       },
       "data": [
        {
         "customdata": [
          [
           0,
           "україни | питання | виборців | місцевих | кодекс",
           39
          ],
          [
           1,
           "жінок | хочу | законопроект | чоловіків | україни",
           32
          ],
          [
           2,
           "насильство | дітей | стенограму | поправки | стереотипи",
           30
          ],
          [
           3,
           "жінки | парламенті | життя | жаль | лікарів",
           18
          ]
         ],
         "hovertemplate": "<b>Topic %{customdata[0]}</b><br>%{customdata[1]}<br>Size: %{customdata[2]}",
         "legendgroup": "",
         "marker": {
          "color": "#B0BEC5",
          "line": {
           "color": "DarkSlateGrey",
           "width": 2
          },
          "size": [
           39,
           32,
           30,
           18
          ],
          "sizemode": "area",
          "sizeref": 0.024375,
          "symbol": "circle"
         },
         "mode": "markers",
         "name": "",
         "orientation": "v",
         "showlegend": false,
         "type": "scatter",
         "x": [
          22.791831970214844,
          23.711828231811523,
          23.79216766357422,
          22.724313735961914
         ],
         "xaxis": "x",
         "y": [
          -4.779834270477295,
          -5.161001682281494,
          -4.3093438148498535,
          -2.336897850036621
         ],
         "yaxis": "y"
        }
       ],
       "layout": {
        "annotations": [
         {
          "showarrow": false,
          "text": "D1",
          "x": 19.315666675567627,
          "y": -3.960757553577423,
          "yshift": 10
         },
         {
          "showarrow": false,
          "text": "D2",
          "x": 23.33832974433899,
          "xshift": 10,
          "y": -1.986363172531128
         }
        ],
        "height": 650,
        "hoverlabel": {
         "bgcolor": "white",
         "font": {
          "family": "Rockwell",
          "size": 16
         }
        },
        "legend": {
         "itemsizing": "constant",
         "tracegroupgap": 0
        },
        "margin": {
         "t": 60
        },
        "shapes": [
         {
          "line": {
           "color": "#CFD8DC",
           "width": 2
          },
          "type": "line",
          "x0": 23.33832974433899,
          "x1": 23.33832974433899,
          "y0": -5.935151934623718,
          "y1": -1.986363172531128
         },
         {
          "line": {
           "color": "#9E9E9E",
           "width": 2
          },
          "type": "line",
          "x0": 19.315666675567627,
          "x1": 27.36099281311035,
          "y0": -3.960757553577423,
          "y1": -3.960757553577423
         }
        ],
        "sliders": [
         {
          "active": 0,
          "pad": {
           "t": 50
          },
          "steps": [
           {
            "args": [
             {
              "marker.color": [
               [
                "red",
                "#B0BEC5",
                "#B0BEC5",
                "#B0BEC5"
               ]
              ]
             }
            ],
            "label": "Topic 0",
            "method": "update"
           },
           {
            "args": [
             {
              "marker.color": [
               [
                "#B0BEC5",
                "red",
                "#B0BEC5",
                "#B0BEC5"
               ]
              ]
             }
            ],
            "label": "Topic 1",
            "method": "update"
           },
           {
            "args": [
             {
              "marker.color": [
               [
                "#B0BEC5",
                "#B0BEC5",
                "red",
                "#B0BEC5"
               ]
              ]
             }
            ],
            "label": "Topic 2",
            "method": "update"
           },
           {
            "args": [
             {
              "marker.color": [
               [
                "#B0BEC5",
                "#B0BEC5",
                "#B0BEC5",
                "red"
               ]
              ]
             }
            ],
            "label": "Topic 3",
            "method": "update"
           }
          ]
         }
        ],
        "template": {
         "data": {
          "bar": [
           {
            "error_x": {
             "color": "rgb(36,36,36)"
            },
            "error_y": {
             "color": "rgb(36,36,36)"
            },
            "marker": {
             "line": {
              "color": "white",
              "width": 0.5
             },
             "pattern": {
              "fillmode": "overlay",
              "size": 10,
              "solidity": 0.2
             }
            },
            "type": "bar"
           }
          ],
          "barpolar": [
           {
            "marker": {
             "line": {
              "color": "white",
              "width": 0.5
             },
             "pattern": {
              "fillmode": "overlay",
              "size": 10,
              "solidity": 0.2
             }
            },
            "type": "barpolar"
           }
          ],
          "carpet": [
           {
            "aaxis": {
             "endlinecolor": "rgb(36,36,36)",
             "gridcolor": "white",
             "linecolor": "white",
             "minorgridcolor": "white",
             "startlinecolor": "rgb(36,36,36)"
            },
            "baxis": {
             "endlinecolor": "rgb(36,36,36)",
             "gridcolor": "white",
             "linecolor": "white",
             "minorgridcolor": "white",
             "startlinecolor": "rgb(36,36,36)"
            },
            "type": "carpet"
           }
          ],
          "choropleth": [
           {
            "colorbar": {
             "outlinewidth": 1,
             "tickcolor": "rgb(36,36,36)",
             "ticks": "outside"
            },
            "type": "choropleth"
           }
          ],
          "contour": [
           {
            "colorbar": {
             "outlinewidth": 1,
             "tickcolor": "rgb(36,36,36)",
             "ticks": "outside"
            },
            "colorscale": [
             [
              0,
              "#440154"
             ],
             [
              0.1111111111111111,
              "#482878"
             ],
             [
              0.2222222222222222,
              "#3e4989"
             ],
             [
              0.3333333333333333,
              "#31688e"
             ],
             [
              0.4444444444444444,
              "#26828e"
             ],
             [
              0.5555555555555556,
              "#1f9e89"
             ],
             [
              0.6666666666666666,
              "#35b779"
             ],
             [
              0.7777777777777778,
              "#6ece58"
             ],
             [
              0.8888888888888888,
              "#b5de2b"
             ],
             [
              1,
              "#fde725"
             ]
            ],
            "type": "contour"
           }
          ],
          "contourcarpet": [
           {
            "colorbar": {
             "outlinewidth": 1,
             "tickcolor": "rgb(36,36,36)",
             "ticks": "outside"
            },
            "type": "contourcarpet"
           }
          ],
          "heatmap": [
           {
            "colorbar": {
             "outlinewidth": 1,
             "tickcolor": "rgb(36,36,36)",
             "ticks": "outside"
            },
            "colorscale": [
             [
              0,
              "#440154"
             ],
             [
              0.1111111111111111,
              "#482878"
             ],
             [
              0.2222222222222222,
              "#3e4989"
             ],
             [
              0.3333333333333333,
              "#31688e"
             ],
             [
              0.4444444444444444,
              "#26828e"
             ],
             [
              0.5555555555555556,
              "#1f9e89"
             ],
             [
              0.6666666666666666,
              "#35b779"
             ],
             [
              0.7777777777777778,
              "#6ece58"
             ],
             [
              0.8888888888888888,
              "#b5de2b"
             ],
             [
              1,
              "#fde725"
             ]
            ],
            "type": "heatmap"
           }
          ],
          "heatmapgl": [
           {
            "colorbar": {
             "outlinewidth": 1,
             "tickcolor": "rgb(36,36,36)",
             "ticks": "outside"
            },
            "colorscale": [
             [
              0,
              "#440154"
             ],
             [
              0.1111111111111111,
              "#482878"
             ],
             [
              0.2222222222222222,
              "#3e4989"
             ],
             [
              0.3333333333333333,
              "#31688e"
             ],
             [
              0.4444444444444444,
              "#26828e"
             ],
             [
              0.5555555555555556,
              "#1f9e89"
             ],
             [
              0.6666666666666666,
              "#35b779"
             ],
             [
              0.7777777777777778,
              "#6ece58"
             ],
             [
              0.8888888888888888,
              "#b5de2b"
             ],
             [
              1,
              "#fde725"
             ]
            ],
            "type": "heatmapgl"
           }
          ],
          "histogram": [
           {
            "marker": {
             "line": {
              "color": "white",
              "width": 0.6
             }
            },
            "type": "histogram"
           }
          ],
          "histogram2d": [
           {
            "colorbar": {
             "outlinewidth": 1,
             "tickcolor": "rgb(36,36,36)",
             "ticks": "outside"
            },
            "colorscale": [
             [
              0,
              "#440154"
             ],
             [
              0.1111111111111111,
              "#482878"
             ],
             [
              0.2222222222222222,
              "#3e4989"
             ],
             [
              0.3333333333333333,
              "#31688e"
             ],
             [
              0.4444444444444444,
              "#26828e"
             ],
             [
              0.5555555555555556,
              "#1f9e89"
             ],
             [
              0.6666666666666666,
              "#35b779"
             ],
             [
              0.7777777777777778,
              "#6ece58"
             ],
             [
              0.8888888888888888,
              "#b5de2b"
             ],
             [
              1,
              "#fde725"
             ]
            ],
            "type": "histogram2d"
           }
          ],
          "histogram2dcontour": [
           {
            "colorbar": {
             "outlinewidth": 1,
             "tickcolor": "rgb(36,36,36)",
             "ticks": "outside"
            },
            "colorscale": [
             [
              0,
              "#440154"
             ],
             [
              0.1111111111111111,
              "#482878"
             ],
             [
              0.2222222222222222,
              "#3e4989"
             ],
             [
              0.3333333333333333,
              "#31688e"
             ],
             [
              0.4444444444444444,
              "#26828e"
             ],
             [
              0.5555555555555556,
              "#1f9e89"
             ],
             [
              0.6666666666666666,
              "#35b779"
             ],
             [
              0.7777777777777778,
              "#6ece58"
             ],
             [
              0.8888888888888888,
              "#b5de2b"
             ],
             [
              1,
              "#fde725"
             ]
            ],
            "type": "histogram2dcontour"
           }
          ],
          "mesh3d": [
           {
            "colorbar": {
             "outlinewidth": 1,
             "tickcolor": "rgb(36,36,36)",
             "ticks": "outside"
            },
            "type": "mesh3d"
           }
          ],
          "parcoords": [
           {
            "line": {
             "colorbar": {
              "outlinewidth": 1,
              "tickcolor": "rgb(36,36,36)",
              "ticks": "outside"
             }
            },
            "type": "parcoords"
           }
          ],
          "pie": [
           {
            "automargin": true,
            "type": "pie"
           }
          ],
          "scatter": [
           {
            "fillpattern": {
             "fillmode": "overlay",
             "size": 10,
             "solidity": 0.2
            },
            "type": "scatter"
           }
          ],
          "scatter3d": [
           {
            "line": {
             "colorbar": {
              "outlinewidth": 1,
              "tickcolor": "rgb(36,36,36)",
              "ticks": "outside"
             }
            },
            "marker": {
             "colorbar": {
              "outlinewidth": 1,
              "tickcolor": "rgb(36,36,36)",
              "ticks": "outside"
             }
            },
            "type": "scatter3d"
           }
          ],
          "scattercarpet": [
           {
            "marker": {
             "colorbar": {
              "outlinewidth": 1,
              "tickcolor": "rgb(36,36,36)",
              "ticks": "outside"
             }
            },
            "type": "scattercarpet"
           }
          ],
          "scattergeo": [
           {
            "marker": {
             "colorbar": {
              "outlinewidth": 1,
              "tickcolor": "rgb(36,36,36)",
              "ticks": "outside"
             }
            },
            "type": "scattergeo"
           }
          ],
          "scattergl": [
           {
            "marker": {
             "colorbar": {
              "outlinewidth": 1,
              "tickcolor": "rgb(36,36,36)",
              "ticks": "outside"
             }
            },
            "type": "scattergl"
           }
          ],
          "scattermapbox": [
           {
            "marker": {
             "colorbar": {
              "outlinewidth": 1,
              "tickcolor": "rgb(36,36,36)",
              "ticks": "outside"
             }
            },
            "type": "scattermapbox"
           }
          ],
          "scatterpolar": [
           {
            "marker": {
             "colorbar": {
              "outlinewidth": 1,
              "tickcolor": "rgb(36,36,36)",
              "ticks": "outside"
             }
            },
            "type": "scatterpolar"
           }
          ],
          "scatterpolargl": [
           {
            "marker": {
             "colorbar": {
              "outlinewidth": 1,
              "tickcolor": "rgb(36,36,36)",
              "ticks": "outside"
             }
            },
            "type": "scatterpolargl"
           }
          ],
          "scatterternary": [
           {
            "marker": {
             "colorbar": {
              "outlinewidth": 1,
              "tickcolor": "rgb(36,36,36)",
              "ticks": "outside"
             }
            },
            "type": "scatterternary"
           }
          ],
          "surface": [
           {
            "colorbar": {
             "outlinewidth": 1,
             "tickcolor": "rgb(36,36,36)",
             "ticks": "outside"
            },
            "colorscale": [
             [
              0,
              "#440154"
             ],
             [
              0.1111111111111111,
              "#482878"
             ],
             [
              0.2222222222222222,
              "#3e4989"
             ],
             [
              0.3333333333333333,
              "#31688e"
             ],
             [
              0.4444444444444444,
              "#26828e"
             ],
             [
              0.5555555555555556,
              "#1f9e89"
             ],
             [
              0.6666666666666666,
              "#35b779"
             ],
             [
              0.7777777777777778,
              "#6ece58"
             ],
             [
              0.8888888888888888,
              "#b5de2b"
             ],
             [
              1,
              "#fde725"
             ]
            ],
            "type": "surface"
           }
          ],
          "table": [
           {
            "cells": {
             "fill": {
              "color": "rgb(237,237,237)"
             },
             "line": {
              "color": "white"
             }
            },
            "header": {
             "fill": {
              "color": "rgb(217,217,217)"
             },
             "line": {
              "color": "white"
             }
            },
            "type": "table"
           }
          ]
         },
         "layout": {
          "annotationdefaults": {
           "arrowhead": 0,
           "arrowwidth": 1
          },
          "autotypenumbers": "strict",
          "coloraxis": {
           "colorbar": {
            "outlinewidth": 1,
            "tickcolor": "rgb(36,36,36)",
            "ticks": "outside"
           }
          },
          "colorscale": {
           "diverging": [
            [
             0,
             "rgb(103,0,31)"
            ],
            [
             0.1,
             "rgb(178,24,43)"
            ],
            [
             0.2,
             "rgb(214,96,77)"
            ],
            [
             0.3,
             "rgb(244,165,130)"
            ],
            [
             0.4,
             "rgb(253,219,199)"
            ],
            [
             0.5,
             "rgb(247,247,247)"
            ],
            [
             0.6,
             "rgb(209,229,240)"
            ],
            [
             0.7,
             "rgb(146,197,222)"
            ],
            [
             0.8,
             "rgb(67,147,195)"
            ],
            [
             0.9,
             "rgb(33,102,172)"
            ],
            [
             1,
             "rgb(5,48,97)"
            ]
           ],
           "sequential": [
            [
             0,
             "#440154"
            ],
            [
             0.1111111111111111,
             "#482878"
            ],
            [
             0.2222222222222222,
             "#3e4989"
            ],
            [
             0.3333333333333333,
             "#31688e"
            ],
            [
             0.4444444444444444,
             "#26828e"
            ],
            [
             0.5555555555555556,
             "#1f9e89"
            ],
            [
             0.6666666666666666,
             "#35b779"
            ],
            [
             0.7777777777777778,
             "#6ece58"
            ],
            [
             0.8888888888888888,
             "#b5de2b"
            ],
            [
             1,
             "#fde725"
            ]
           ],
           "sequentialminus": [
            [
             0,
             "#440154"
            ],
            [
             0.1111111111111111,
             "#482878"
            ],
            [
             0.2222222222222222,
             "#3e4989"
            ],
            [
             0.3333333333333333,
             "#31688e"
            ],
            [
             0.4444444444444444,
             "#26828e"
            ],
            [
             0.5555555555555556,
             "#1f9e89"
            ],
            [
             0.6666666666666666,
             "#35b779"
            ],
            [
             0.7777777777777778,
             "#6ece58"
            ],
            [
             0.8888888888888888,
             "#b5de2b"
            ],
            [
             1,
             "#fde725"
            ]
           ]
          },
          "colorway": [
           "#1F77B4",
           "#FF7F0E",
           "#2CA02C",
           "#D62728",
           "#9467BD",
           "#8C564B",
           "#E377C2",
           "#7F7F7F",
           "#BCBD22",
           "#17BECF"
          ],
          "font": {
           "color": "rgb(36,36,36)"
          },
          "geo": {
           "bgcolor": "white",
           "lakecolor": "white",
           "landcolor": "white",
           "showlakes": true,
           "showland": true,
           "subunitcolor": "white"
          },
          "hoverlabel": {
           "align": "left"
          },
          "hovermode": "closest",
          "mapbox": {
           "style": "light"
          },
          "paper_bgcolor": "white",
          "plot_bgcolor": "white",
          "polar": {
           "angularaxis": {
            "gridcolor": "rgb(232,232,232)",
            "linecolor": "rgb(36,36,36)",
            "showgrid": false,
            "showline": true,
            "ticks": "outside"
           },
           "bgcolor": "white",
           "radialaxis": {
            "gridcolor": "rgb(232,232,232)",
            "linecolor": "rgb(36,36,36)",
            "showgrid": false,
            "showline": true,
            "ticks": "outside"
           }
          },
          "scene": {
           "xaxis": {
            "backgroundcolor": "white",
            "gridcolor": "rgb(232,232,232)",
            "gridwidth": 2,
            "linecolor": "rgb(36,36,36)",
            "showbackground": true,
            "showgrid": false,
            "showline": true,
            "ticks": "outside",
            "zeroline": false,
            "zerolinecolor": "rgb(36,36,36)"
           },
           "yaxis": {
            "backgroundcolor": "white",
            "gridcolor": "rgb(232,232,232)",
            "gridwidth": 2,
            "linecolor": "rgb(36,36,36)",
            "showbackground": true,
            "showgrid": false,
            "showline": true,
            "ticks": "outside",
            "zeroline": false,
            "zerolinecolor": "rgb(36,36,36)"
           },
           "zaxis": {
            "backgroundcolor": "white",
            "gridcolor": "rgb(232,232,232)",
            "gridwidth": 2,
            "linecolor": "rgb(36,36,36)",
            "showbackground": true,
            "showgrid": false,
            "showline": true,
            "ticks": "outside",
            "zeroline": false,
            "zerolinecolor": "rgb(36,36,36)"
           }
          },
          "shapedefaults": {
           "fillcolor": "black",
           "line": {
            "width": 0
           },
           "opacity": 0.3
          },
          "ternary": {
           "aaxis": {
            "gridcolor": "rgb(232,232,232)",
            "linecolor": "rgb(36,36,36)",
            "showgrid": false,
            "showline": true,
            "ticks": "outside"
           },
           "baxis": {
            "gridcolor": "rgb(232,232,232)",
            "linecolor": "rgb(36,36,36)",
            "showgrid": false,
            "showline": true,
            "ticks": "outside"
           },
           "bgcolor": "white",
           "caxis": {
            "gridcolor": "rgb(232,232,232)",
            "linecolor": "rgb(36,36,36)",
            "showgrid": false,
            "showline": true,
            "ticks": "outside"
           }
          },
          "title": {
           "x": 0.05
          },
          "xaxis": {
           "automargin": true,
           "gridcolor": "rgb(232,232,232)",
           "linecolor": "rgb(36,36,36)",
           "showgrid": false,
           "showline": true,
           "ticks": "outside",
           "title": {
            "standoff": 15
           },
           "zeroline": false,
           "zerolinecolor": "rgb(36,36,36)"
          },
          "yaxis": {
           "automargin": true,
           "gridcolor": "rgb(232,232,232)",
           "linecolor": "rgb(36,36,36)",
           "showgrid": false,
           "showline": true,
           "ticks": "outside",
           "title": {
            "standoff": 15
           },
           "zeroline": false,
           "zerolinecolor": "rgb(36,36,36)"
          }
         }
        },
        "title": {
         "font": {
          "color": "Black",
          "size": 22
         },
         "text": "<b>Intertopic Distance Map</b>",
         "x": 0.5,
         "xanchor": "center",
         "y": 0.95,
         "yanchor": "top"
        },
        "width": 650,
        "xaxis": {
         "anchor": "y",
         "domain": [
          0,
          1
         ],
         "range": [
          19.315666675567627,
          27.36099281311035
         ],
         "title": {
          "text": ""
         },
         "visible": false
        },
        "yaxis": {
         "anchor": "x",
         "domain": [
          0,
          1
         ],
         "range": [
          -5.935151934623718,
          -1.986363172531128
         ],
         "title": {
          "text": ""
         },
         "visible": false
        }
       }
      },
      "text/html": [
       "<div>                            <div id=\"a8743b67-43a3-4d8a-bf88-2e446ae5d3f7\" class=\"plotly-graph-div\" style=\"height:650px; width:650px;\"></div>            <script type=\"text/javascript\">                require([\"plotly\"], function(Plotly) {                    window.PLOTLYENV=window.PLOTLYENV || {};                                    if (document.getElementById(\"a8743b67-43a3-4d8a-bf88-2e446ae5d3f7\")) {                    Plotly.newPlot(                        \"a8743b67-43a3-4d8a-bf88-2e446ae5d3f7\",                        [{\"customdata\":[[0,\"\\u0443\\u043a\\u0440\\u0430\\u0457\\u043d\\u0438 | \\u043f\\u0438\\u0442\\u0430\\u043d\\u043d\\u044f | \\u0432\\u0438\\u0431\\u043e\\u0440\\u0446\\u0456\\u0432 | \\u043c\\u0456\\u0441\\u0446\\u0435\\u0432\\u0438\\u0445 | \\u043a\\u043e\\u0434\\u0435\\u043a\\u0441\",39],[1,\"\\u0436\\u0456\\u043d\\u043e\\u043a | \\u0445\\u043e\\u0447\\u0443 | \\u0437\\u0430\\u043a\\u043e\\u043d\\u043e\\u043f\\u0440\\u043e\\u0435\\u043a\\u0442 | \\u0447\\u043e\\u043b\\u043e\\u0432\\u0456\\u043a\\u0456\\u0432 | \\u0443\\u043a\\u0440\\u0430\\u0457\\u043d\\u0438\",32],[2,\"\\u043d\\u0430\\u0441\\u0438\\u043b\\u044c\\u0441\\u0442\\u0432\\u043e | \\u0434\\u0456\\u0442\\u0435\\u0439 | \\u0441\\u0442\\u0435\\u043d\\u043e\\u0433\\u0440\\u0430\\u043c\\u0443 | \\u043f\\u043e\\u043f\\u0440\\u0430\\u0432\\u043a\\u0438 | \\u0441\\u0442\\u0435\\u0440\\u0435\\u043e\\u0442\\u0438\\u043f\\u0438\",30],[3,\"\\u0436\\u0456\\u043d\\u043a\\u0438 | \\u043f\\u0430\\u0440\\u043b\\u0430\\u043c\\u0435\\u043d\\u0442\\u0456 | \\u0436\\u0438\\u0442\\u0442\\u044f | \\u0436\\u0430\\u043b\\u044c | \\u043b\\u0456\\u043a\\u0430\\u0440\\u0456\\u0432\",18]],\"hovertemplate\":\"<b>Topic %{customdata[0]}</b><br>%{customdata[1]}<br>Size: %{customdata[2]}\",\"legendgroup\":\"\",\"marker\":{\"color\":\"#B0BEC5\",\"size\":[39,32,30,18],\"sizemode\":\"area\",\"sizeref\":0.024375,\"symbol\":\"circle\",\"line\":{\"color\":\"DarkSlateGrey\",\"width\":2}},\"mode\":\"markers\",\"name\":\"\",\"orientation\":\"v\",\"showlegend\":false,\"x\":[22.791831970214844,23.711828231811523,23.79216766357422,22.724313735961914],\"xaxis\":\"x\",\"y\":[-4.779834270477295,-5.161001682281494,-4.3093438148498535,-2.336897850036621],\"yaxis\":\"y\",\"type\":\"scatter\"}],                        {\"template\":{\"data\":{\"barpolar\":[{\"marker\":{\"line\":{\"color\":\"white\",\"width\":0.5},\"pattern\":{\"fillmode\":\"overlay\",\"size\":10,\"solidity\":0.2}},\"type\":\"barpolar\"}],\"bar\":[{\"error_x\":{\"color\":\"rgb(36,36,36)\"},\"error_y\":{\"color\":\"rgb(36,36,36)\"},\"marker\":{\"line\":{\"color\":\"white\",\"width\":0.5},\"pattern\":{\"fillmode\":\"overlay\",\"size\":10,\"solidity\":0.2}},\"type\":\"bar\"}],\"carpet\":[{\"aaxis\":{\"endlinecolor\":\"rgb(36,36,36)\",\"gridcolor\":\"white\",\"linecolor\":\"white\",\"minorgridcolor\":\"white\",\"startlinecolor\":\"rgb(36,36,36)\"},\"baxis\":{\"endlinecolor\":\"rgb(36,36,36)\",\"gridcolor\":\"white\",\"linecolor\":\"white\",\"minorgridcolor\":\"white\",\"startlinecolor\":\"rgb(36,36,36)\"},\"type\":\"carpet\"}],\"choropleth\":[{\"colorbar\":{\"outlinewidth\":1,\"tickcolor\":\"rgb(36,36,36)\",\"ticks\":\"outside\"},\"type\":\"choropleth\"}],\"contourcarpet\":[{\"colorbar\":{\"outlinewidth\":1,\"tickcolor\":\"rgb(36,36,36)\",\"ticks\":\"outside\"},\"type\":\"contourcarpet\"}],\"contour\":[{\"colorbar\":{\"outlinewidth\":1,\"tickcolor\":\"rgb(36,36,36)\",\"ticks\":\"outside\"},\"colorscale\":[[0.0,\"#440154\"],[0.1111111111111111,\"#482878\"],[0.2222222222222222,\"#3e4989\"],[0.3333333333333333,\"#31688e\"],[0.4444444444444444,\"#26828e\"],[0.5555555555555556,\"#1f9e89\"],[0.6666666666666666,\"#35b779\"],[0.7777777777777778,\"#6ece58\"],[0.8888888888888888,\"#b5de2b\"],[1.0,\"#fde725\"]],\"type\":\"contour\"}],\"heatmapgl\":[{\"colorbar\":{\"outlinewidth\":1,\"tickcolor\":\"rgb(36,36,36)\",\"ticks\":\"outside\"},\"colorscale\":[[0.0,\"#440154\"],[0.1111111111111111,\"#482878\"],[0.2222222222222222,\"#3e4989\"],[0.3333333333333333,\"#31688e\"],[0.4444444444444444,\"#26828e\"],[0.5555555555555556,\"#1f9e89\"],[0.6666666666666666,\"#35b779\"],[0.7777777777777778,\"#6ece58\"],[0.8888888888888888,\"#b5de2b\"],[1.0,\"#fde725\"]],\"type\":\"heatmapgl\"}],\"heatmap\":[{\"colorbar\":{\"outlinewidth\":1,\"tickcolor\":\"rgb(36,36,36)\",\"ticks\":\"outside\"},\"colorscale\":[[0.0,\"#440154\"],[0.1111111111111111,\"#482878\"],[0.2222222222222222,\"#3e4989\"],[0.3333333333333333,\"#31688e\"],[0.4444444444444444,\"#26828e\"],[0.5555555555555556,\"#1f9e89\"],[0.6666666666666666,\"#35b779\"],[0.7777777777777778,\"#6ece58\"],[0.8888888888888888,\"#b5de2b\"],[1.0,\"#fde725\"]],\"type\":\"heatmap\"}],\"histogram2dcontour\":[{\"colorbar\":{\"outlinewidth\":1,\"tickcolor\":\"rgb(36,36,36)\",\"ticks\":\"outside\"},\"colorscale\":[[0.0,\"#440154\"],[0.1111111111111111,\"#482878\"],[0.2222222222222222,\"#3e4989\"],[0.3333333333333333,\"#31688e\"],[0.4444444444444444,\"#26828e\"],[0.5555555555555556,\"#1f9e89\"],[0.6666666666666666,\"#35b779\"],[0.7777777777777778,\"#6ece58\"],[0.8888888888888888,\"#b5de2b\"],[1.0,\"#fde725\"]],\"type\":\"histogram2dcontour\"}],\"histogram2d\":[{\"colorbar\":{\"outlinewidth\":1,\"tickcolor\":\"rgb(36,36,36)\",\"ticks\":\"outside\"},\"colorscale\":[[0.0,\"#440154\"],[0.1111111111111111,\"#482878\"],[0.2222222222222222,\"#3e4989\"],[0.3333333333333333,\"#31688e\"],[0.4444444444444444,\"#26828e\"],[0.5555555555555556,\"#1f9e89\"],[0.6666666666666666,\"#35b779\"],[0.7777777777777778,\"#6ece58\"],[0.8888888888888888,\"#b5de2b\"],[1.0,\"#fde725\"]],\"type\":\"histogram2d\"}],\"histogram\":[{\"marker\":{\"line\":{\"color\":\"white\",\"width\":0.6}},\"type\":\"histogram\"}],\"mesh3d\":[{\"colorbar\":{\"outlinewidth\":1,\"tickcolor\":\"rgb(36,36,36)\",\"ticks\":\"outside\"},\"type\":\"mesh3d\"}],\"parcoords\":[{\"line\":{\"colorbar\":{\"outlinewidth\":1,\"tickcolor\":\"rgb(36,36,36)\",\"ticks\":\"outside\"}},\"type\":\"parcoords\"}],\"pie\":[{\"automargin\":true,\"type\":\"pie\"}],\"scatter3d\":[{\"line\":{\"colorbar\":{\"outlinewidth\":1,\"tickcolor\":\"rgb(36,36,36)\",\"ticks\":\"outside\"}},\"marker\":{\"colorbar\":{\"outlinewidth\":1,\"tickcolor\":\"rgb(36,36,36)\",\"ticks\":\"outside\"}},\"type\":\"scatter3d\"}],\"scattercarpet\":[{\"marker\":{\"colorbar\":{\"outlinewidth\":1,\"tickcolor\":\"rgb(36,36,36)\",\"ticks\":\"outside\"}},\"type\":\"scattercarpet\"}],\"scattergeo\":[{\"marker\":{\"colorbar\":{\"outlinewidth\":1,\"tickcolor\":\"rgb(36,36,36)\",\"ticks\":\"outside\"}},\"type\":\"scattergeo\"}],\"scattergl\":[{\"marker\":{\"colorbar\":{\"outlinewidth\":1,\"tickcolor\":\"rgb(36,36,36)\",\"ticks\":\"outside\"}},\"type\":\"scattergl\"}],\"scattermapbox\":[{\"marker\":{\"colorbar\":{\"outlinewidth\":1,\"tickcolor\":\"rgb(36,36,36)\",\"ticks\":\"outside\"}},\"type\":\"scattermapbox\"}],\"scatterpolargl\":[{\"marker\":{\"colorbar\":{\"outlinewidth\":1,\"tickcolor\":\"rgb(36,36,36)\",\"ticks\":\"outside\"}},\"type\":\"scatterpolargl\"}],\"scatterpolar\":[{\"marker\":{\"colorbar\":{\"outlinewidth\":1,\"tickcolor\":\"rgb(36,36,36)\",\"ticks\":\"outside\"}},\"type\":\"scatterpolar\"}],\"scatter\":[{\"fillpattern\":{\"fillmode\":\"overlay\",\"size\":10,\"solidity\":0.2},\"type\":\"scatter\"}],\"scatterternary\":[{\"marker\":{\"colorbar\":{\"outlinewidth\":1,\"tickcolor\":\"rgb(36,36,36)\",\"ticks\":\"outside\"}},\"type\":\"scatterternary\"}],\"surface\":[{\"colorbar\":{\"outlinewidth\":1,\"tickcolor\":\"rgb(36,36,36)\",\"ticks\":\"outside\"},\"colorscale\":[[0.0,\"#440154\"],[0.1111111111111111,\"#482878\"],[0.2222222222222222,\"#3e4989\"],[0.3333333333333333,\"#31688e\"],[0.4444444444444444,\"#26828e\"],[0.5555555555555556,\"#1f9e89\"],[0.6666666666666666,\"#35b779\"],[0.7777777777777778,\"#6ece58\"],[0.8888888888888888,\"#b5de2b\"],[1.0,\"#fde725\"]],\"type\":\"surface\"}],\"table\":[{\"cells\":{\"fill\":{\"color\":\"rgb(237,237,237)\"},\"line\":{\"color\":\"white\"}},\"header\":{\"fill\":{\"color\":\"rgb(217,217,217)\"},\"line\":{\"color\":\"white\"}},\"type\":\"table\"}]},\"layout\":{\"annotationdefaults\":{\"arrowhead\":0,\"arrowwidth\":1},\"autotypenumbers\":\"strict\",\"coloraxis\":{\"colorbar\":{\"outlinewidth\":1,\"tickcolor\":\"rgb(36,36,36)\",\"ticks\":\"outside\"}},\"colorscale\":{\"diverging\":[[0.0,\"rgb(103,0,31)\"],[0.1,\"rgb(178,24,43)\"],[0.2,\"rgb(214,96,77)\"],[0.3,\"rgb(244,165,130)\"],[0.4,\"rgb(253,219,199)\"],[0.5,\"rgb(247,247,247)\"],[0.6,\"rgb(209,229,240)\"],[0.7,\"rgb(146,197,222)\"],[0.8,\"rgb(67,147,195)\"],[0.9,\"rgb(33,102,172)\"],[1.0,\"rgb(5,48,97)\"]],\"sequential\":[[0.0,\"#440154\"],[0.1111111111111111,\"#482878\"],[0.2222222222222222,\"#3e4989\"],[0.3333333333333333,\"#31688e\"],[0.4444444444444444,\"#26828e\"],[0.5555555555555556,\"#1f9e89\"],[0.6666666666666666,\"#35b779\"],[0.7777777777777778,\"#6ece58\"],[0.8888888888888888,\"#b5de2b\"],[1.0,\"#fde725\"]],\"sequentialminus\":[[0.0,\"#440154\"],[0.1111111111111111,\"#482878\"],[0.2222222222222222,\"#3e4989\"],[0.3333333333333333,\"#31688e\"],[0.4444444444444444,\"#26828e\"],[0.5555555555555556,\"#1f9e89\"],[0.6666666666666666,\"#35b779\"],[0.7777777777777778,\"#6ece58\"],[0.8888888888888888,\"#b5de2b\"],[1.0,\"#fde725\"]]},\"colorway\":[\"#1F77B4\",\"#FF7F0E\",\"#2CA02C\",\"#D62728\",\"#9467BD\",\"#8C564B\",\"#E377C2\",\"#7F7F7F\",\"#BCBD22\",\"#17BECF\"],\"font\":{\"color\":\"rgb(36,36,36)\"},\"geo\":{\"bgcolor\":\"white\",\"lakecolor\":\"white\",\"landcolor\":\"white\",\"showlakes\":true,\"showland\":true,\"subunitcolor\":\"white\"},\"hoverlabel\":{\"align\":\"left\"},\"hovermode\":\"closest\",\"mapbox\":{\"style\":\"light\"},\"paper_bgcolor\":\"white\",\"plot_bgcolor\":\"white\",\"polar\":{\"angularaxis\":{\"gridcolor\":\"rgb(232,232,232)\",\"linecolor\":\"rgb(36,36,36)\",\"showgrid\":false,\"showline\":true,\"ticks\":\"outside\"},\"bgcolor\":\"white\",\"radialaxis\":{\"gridcolor\":\"rgb(232,232,232)\",\"linecolor\":\"rgb(36,36,36)\",\"showgrid\":false,\"showline\":true,\"ticks\":\"outside\"}},\"scene\":{\"xaxis\":{\"backgroundcolor\":\"white\",\"gridcolor\":\"rgb(232,232,232)\",\"gridwidth\":2,\"linecolor\":\"rgb(36,36,36)\",\"showbackground\":true,\"showgrid\":false,\"showline\":true,\"ticks\":\"outside\",\"zeroline\":false,\"zerolinecolor\":\"rgb(36,36,36)\"},\"yaxis\":{\"backgroundcolor\":\"white\",\"gridcolor\":\"rgb(232,232,232)\",\"gridwidth\":2,\"linecolor\":\"rgb(36,36,36)\",\"showbackground\":true,\"showgrid\":false,\"showline\":true,\"ticks\":\"outside\",\"zeroline\":false,\"zerolinecolor\":\"rgb(36,36,36)\"},\"zaxis\":{\"backgroundcolor\":\"white\",\"gridcolor\":\"rgb(232,232,232)\",\"gridwidth\":2,\"linecolor\":\"rgb(36,36,36)\",\"showbackground\":true,\"showgrid\":false,\"showline\":true,\"ticks\":\"outside\",\"zeroline\":false,\"zerolinecolor\":\"rgb(36,36,36)\"}},\"shapedefaults\":{\"fillcolor\":\"black\",\"line\":{\"width\":0},\"opacity\":0.3},\"ternary\":{\"aaxis\":{\"gridcolor\":\"rgb(232,232,232)\",\"linecolor\":\"rgb(36,36,36)\",\"showgrid\":false,\"showline\":true,\"ticks\":\"outside\"},\"baxis\":{\"gridcolor\":\"rgb(232,232,232)\",\"linecolor\":\"rgb(36,36,36)\",\"showgrid\":false,\"showline\":true,\"ticks\":\"outside\"},\"bgcolor\":\"white\",\"caxis\":{\"gridcolor\":\"rgb(232,232,232)\",\"linecolor\":\"rgb(36,36,36)\",\"showgrid\":false,\"showline\":true,\"ticks\":\"outside\"}},\"title\":{\"x\":0.05},\"xaxis\":{\"automargin\":true,\"gridcolor\":\"rgb(232,232,232)\",\"linecolor\":\"rgb(36,36,36)\",\"showgrid\":false,\"showline\":true,\"ticks\":\"outside\",\"title\":{\"standoff\":15},\"zeroline\":false,\"zerolinecolor\":\"rgb(36,36,36)\"},\"yaxis\":{\"automargin\":true,\"gridcolor\":\"rgb(232,232,232)\",\"linecolor\":\"rgb(36,36,36)\",\"showgrid\":false,\"showline\":true,\"ticks\":\"outside\",\"title\":{\"standoff\":15},\"zeroline\":false,\"zerolinecolor\":\"rgb(36,36,36)\"}}},\"xaxis\":{\"anchor\":\"y\",\"domain\":[0.0,1.0],\"title\":{\"text\":\"\"},\"visible\":false,\"range\":[19.315666675567627,27.36099281311035]},\"yaxis\":{\"anchor\":\"x\",\"domain\":[0.0,1.0],\"title\":{\"text\":\"\"},\"visible\":false,\"range\":[-5.935151934623718,-1.986363172531128]},\"legend\":{\"tracegroupgap\":0,\"itemsizing\":\"constant\"},\"margin\":{\"t\":60},\"title\":{\"font\":{\"size\":22,\"color\":\"Black\"},\"text\":\"<b>Intertopic Distance Map</b>\",\"y\":0.95,\"x\":0.5,\"xanchor\":\"center\",\"yanchor\":\"top\"},\"hoverlabel\":{\"font\":{\"size\":16,\"family\":\"Rockwell\"},\"bgcolor\":\"white\"},\"width\":650,\"height\":650,\"sliders\":[{\"active\":0,\"pad\":{\"t\":50},\"steps\":[{\"args\":[{\"marker.color\":[[\"red\",\"#B0BEC5\",\"#B0BEC5\",\"#B0BEC5\"]]}],\"label\":\"Topic 0\",\"method\":\"update\"},{\"args\":[{\"marker.color\":[[\"#B0BEC5\",\"red\",\"#B0BEC5\",\"#B0BEC5\"]]}],\"label\":\"Topic 1\",\"method\":\"update\"},{\"args\":[{\"marker.color\":[[\"#B0BEC5\",\"#B0BEC5\",\"red\",\"#B0BEC5\"]]}],\"label\":\"Topic 2\",\"method\":\"update\"},{\"args\":[{\"marker.color\":[[\"#B0BEC5\",\"#B0BEC5\",\"#B0BEC5\",\"red\"]]}],\"label\":\"Topic 3\",\"method\":\"update\"}]}],\"shapes\":[{\"line\":{\"color\":\"#CFD8DC\",\"width\":2},\"type\":\"line\",\"x0\":23.33832974433899,\"x1\":23.33832974433899,\"y0\":-5.935151934623718,\"y1\":-1.986363172531128},{\"line\":{\"color\":\"#9E9E9E\",\"width\":2},\"type\":\"line\",\"x0\":19.315666675567627,\"x1\":27.36099281311035,\"y0\":-3.960757553577423,\"y1\":-3.960757553577423}],\"annotations\":[{\"showarrow\":false,\"text\":\"D1\",\"x\":19.315666675567627,\"y\":-3.960757553577423,\"yshift\":10},{\"showarrow\":false,\"text\":\"D2\",\"x\":23.33832974433899,\"xshift\":10,\"y\":-1.986363172531128}]},                        {\"responsive\": true}                    ).then(function(){\n",
       "                            \n",
       "var gd = document.getElementById('a8743b67-43a3-4d8a-bf88-2e446ae5d3f7');\n",
       "var x = new MutationObserver(function (mutations, observer) {{\n",
       "        var display = window.getComputedStyle(gd).display;\n",
       "        if (!display || display === 'none') {{\n",
       "            console.log([gd, 'removed!']);\n",
       "            Plotly.purge(gd);\n",
       "            observer.disconnect();\n",
       "        }}\n",
       "}});\n",
       "\n",
       "// Listen for the removal of the full notebook cells\n",
       "var notebookContainer = gd.closest('#notebook-container');\n",
       "if (notebookContainer) {{\n",
       "    x.observe(notebookContainer, {childList: true});\n",
       "}}\n",
       "\n",
       "// Listen for the clearing of the current output cell\n",
       "var outputEl = gd.closest('.output');\n",
       "if (outputEl) {{\n",
       "    x.observe(outputEl, {childList: true});\n",
       "}}\n",
       "\n",
       "                        })                };                });            </script>        </div>"
      ]
     },
     "metadata": {},
     "output_type": "display_data"
    }
   ],
   "source": [
    "topic_model.visualize_topics()"
   ]
  },
  {
   "attachments": {},
   "cell_type": "markdown",
   "metadata": {},
   "source": [
    "Topics over time"
   ]
  },
  {
   "cell_type": "code",
   "execution_count": 103,
   "metadata": {},
   "outputs": [],
   "source": [
    "# Reference running time for this cell: 2min 30s\n",
    "topics_over_time = topic_model.topics_over_time(df['speech'], df['Date'].to_list(), nr_bins=20)"
   ]
  },
  {
   "cell_type": "code",
   "execution_count": 104,
   "metadata": {},
   "outputs": [],
   "source": [
    "# Save the topics_over_time dataframe to a feather file\n",
    "#topics_over_time.to_feather(\"../data/topics_over_time.feather\")"
   ]
  },
  {
   "cell_type": "code",
   "execution_count": 105,
   "metadata": {},
   "outputs": [
    {
     "data": {
      "application/vnd.plotly.v1+json": {
       "config": {
        "plotlyServerURL": "https://plot.ly"
       },
       "data": [
        {
         "hoverinfo": "text",
         "hovertext": [
          "<b>Topic 0</b><br>Words: євросоюз, мітинги, фашизму, спільні, привиди",
          "<b>Topic 0</b><br>Words: делегувати, сміттєвих, репутацію, імені, працювали",
          "<b>Topic 0</b><br>Words: свобода, приємно, кон, підписатися, мільйон",
          "<b>Topic 0</b><br>Words: місцевих, реєстрації, комісій, організацій, центральної",
          "<b>Topic 0</b><br>Words: змін, україни, закону, волі, язнення",
          "<b>Topic 0</b><br>Words: інклюзивне, ключових, компетентностей, лілії, міністрові",
          "<b>Topic 0</b><br>Words: ідентифікує, конвенції, ратифікацію, поговоримо, широка",
          "<b>Topic 0</b><br>Words: система, голосів, виборців, принципі, партією",
          "<b>Topic 0</b><br>Words: міністерство, скажу, віку, тиждень, тестування",
          "<b>Topic 0</b><br>Words: україни, делегації, поправки, вперше, центральної",
          "<b>Topic 0</b><br>Words: 700, тато, 2018, кнопку, мінус",
          "<b>Topic 0</b><br>Words: кодекс, вето, політичних, конституції, україни",
          "<b>Topic 0</b><br>Words: лідерство, радо, партнерства, кандидатуру, зеленський",
          "<b>Topic 0</b><br>Words: орган, 4107, суб, україни, питань",
          "<b>Topic 0</b><br>Words: видобувних, прозорості, порядок, 2545, ініціативи",
          "<b>Topic 0</b><br>Words: університетів, премію, незалежне, 200, майбутнє",
          "<b>Topic 0</b><br>Words: союзу, статистичних, ратифікувала, конвенцію, церкви"
         ],
         "marker": {
          "color": "#E69F00"
         },
         "mode": "lines",
         "name": "0_україни_питання_виборців_місцевих",
         "type": "scatter",
         "x": [
          "2012-12-09T12:18:43.200000",
          "2013-06-05T08:24:00",
          "2014-05-20T01:12:00",
          "2015-05-03T18:00:00",
          "2015-10-25T02:24:00",
          "2016-04-16T10:48:00",
          "2016-10-07T19:12:00",
          "2017-09-21T12:00:00",
          "2018-03-14T20:24:00",
          "2018-09-05T04:48:00",
          "2019-02-26T13:12:00",
          "2019-08-19T21:36:00",
          "2020-02-10T06:00:00",
          "2020-08-02T14:24:00",
          "2021-01-23T22:48:00",
          "2021-07-17T07:12:00",
          "2022-01-07T15:36:00"
         ],
         "y": [
          2,
          1,
          1,
          2,
          3,
          1,
          1,
          2,
          8,
          3,
          2,
          4,
          1,
          2,
          2,
          2,
          2
         ]
        },
        {
         "hoverinfo": "text",
         "hovertext": [
          "<b>Topic 1</b><br>Words: одиноких, батьків, чоловіків, жінок, слухання",
          "<b>Topic 1</b><br>Words: демонструють, лідерів, хочу, квот, єднання",
          "<b>Topic 1</b><br>Words: репресії, недосконалість, вибори, єдність, відповідальність",
          "<b>Topic 1</b><br>Words: чистити, ірині, гендер, стать, 58",
          "<b>Topic 1</b><br>Words: змагання, систему, запитання, відкритих, закон",
          "<b>Topic 1</b><br>Words: проходити, військової, 6109, рівність, україни",
          "<b>Topic 1</b><br>Words: повагою, відхилено, редакційно, ізраїлю, юридичними",
          "<b>Topic 1</b><br>Words: списках, жінки, можливо, дискримінації, захистити",
          "<b>Topic 1</b><br>Words: солідарності, політиці, жінок, автори, приниження",
          "<b>Topic 1</b><br>Words: відпустки, національної, народженні, законопроект, довіра",
          "<b>Topic 1</b><br>Words: національної, телебачення, питань, гендерного, дискримінаційною",
          "<b>Topic 1</b><br>Words: статевої, захистити, парламентарям, шоковані, правопорушень"
         ],
         "marker": {
          "color": "#56B4E9"
         },
         "mode": "lines",
         "name": "1_жінок_хочу_законопроект_чоловіків",
         "type": "scatter",
         "x": [
          "2012-12-09T12:18:43.200000",
          "2015-05-03T18:00:00",
          "2015-10-25T02:24:00",
          "2016-10-07T19:12:00",
          "2017-09-21T12:00:00",
          "2018-03-14T20:24:00",
          "2018-09-05T04:48:00",
          "2019-02-26T13:12:00",
          "2020-02-10T06:00:00",
          "2020-08-02T14:24:00",
          "2021-01-23T22:48:00",
          "2022-01-07T15:36:00"
         ],
         "y": [
          5,
          2,
          1,
          1,
          5,
          3,
          1,
          2,
          2,
          2,
          7,
          1
         ]
        },
        {
         "hoverinfo": "text",
         "hovertext": [
          "<b>Topic 2</b><br>Words: економічний, розвиток, громадянам, законопроект, дискримінація",
          "<b>Topic 2</b><br>Words: домовилися, бюджеті, мінімальних, 110, баланс",
          "<b>Topic 2</b><br>Words: стенограму, сексуальної, гендеру, викинуто, церковь",
          "<b>Topic 2</b><br>Words: стереотипи, підтримати, принижувати, гендерного, насильство",
          "<b>Topic 2</b><br>Words: слово, підручників, центральний, християнство, борисовичу",
          "<b>Topic 2</b><br>Words: втрачають, економічної, віці, працевлаштуванні, 39",
          "<b>Topic 2</b><br>Words: реєстрація, поправки, вибув, підходом, робочою",
          "<b>Topic 2</b><br>Words: сексизму, зайнятості, рішень, дискримінації, рекламі",
          "<b>Topic 2</b><br>Words: насилля, виховання, конвенція, гарантований, вільна"
         ],
         "marker": {
          "color": "#009E73"
         },
         "mode": "lines",
         "name": "2_насильство_дітей_стенограму_поправки",
         "type": "scatter",
         "x": [
          "2013-11-26T16:48:00",
          "2015-05-03T18:00:00",
          "2016-10-07T19:12:00",
          "2017-09-21T12:00:00",
          "2018-03-14T20:24:00",
          "2018-09-05T04:48:00",
          "2019-02-26T13:12:00",
          "2021-01-23T22:48:00",
          "2022-01-07T15:36:00"
         ],
         "y": [
          2,
          3,
          6,
          11,
          1,
          1,
          3,
          2,
          1
         ]
        },
        {
         "hoverinfo": "text",
         "hovertext": [
          "<b>Topic 3</b><br>Words: відродження, демократія, реєструвати, дніпропетровщини, цілі",
          "<b>Topic 3</b><br>Words: працю, неможливість, легалізує, релігійними, поважати",
          "<b>Topic 3</b><br>Words: пропозицію, боротьби, насильства, організаційно, правові",
          "<b>Topic 3</b><br>Words: операції, ґендерними, миротворчі, підполковник, насильству",
          "<b>Topic 3</b><br>Words: радикальна, забули, руки, потребує, захисту",
          "<b>Topic 3</b><br>Words: підтримку, ірина, ветеранами, знали, важче",
          "<b>Topic 3</b><br>Words: парламенті, питаннями, кухні, новому, божий",
          "<b>Topic 3</b><br>Words: насильства, українок, госпіталі, гендерно, парламенті",
          "<b>Topic 3</b><br>Words: жінок, березня, чоловіків, насильства, знаємо",
          "<b>Topic 3</b><br>Words: гендерне, знущання, образи, адресу, поправками",
          "<b>Topic 3</b><br>Words: яна, сексизму, монобільшості, традицій, зінкевич",
          "<b>Topic 3</b><br>Words: лікарів, маніпуляції, шкідливим, підготовки, жаль"
         ],
         "marker": {
          "color": "#F0E442"
         },
         "mode": "lines",
         "name": "3_жінки_парламенті_життя_жаль",
         "type": "scatter",
         "x": [
          "2015-05-03T18:00:00",
          "2015-10-25T02:24:00",
          "2016-10-07T19:12:00",
          "2017-09-21T12:00:00",
          "2018-03-14T20:24:00",
          "2018-09-05T04:48:00",
          "2019-02-26T13:12:00",
          "2019-08-19T21:36:00",
          "2020-02-10T06:00:00",
          "2021-01-23T22:48:00",
          "2021-07-17T07:12:00",
          "2022-01-07T15:36:00"
         ],
         "y": [
          1,
          1,
          1,
          3,
          1,
          1,
          2,
          2,
          3,
          1,
          1,
          1
         ]
        }
       ],
       "layout": {
        "height": 450,
        "hoverlabel": {
         "bgcolor": "white",
         "font": {
          "family": "Rockwell",
          "size": 16
         }
        },
        "legend": {
         "title": {
          "text": "<b>Global Topic Representation"
         }
        },
        "template": {
         "data": {
          "bar": [
           {
            "error_x": {
             "color": "rgb(36,36,36)"
            },
            "error_y": {
             "color": "rgb(36,36,36)"
            },
            "marker": {
             "line": {
              "color": "white",
              "width": 0.5
             },
             "pattern": {
              "fillmode": "overlay",
              "size": 10,
              "solidity": 0.2
             }
            },
            "type": "bar"
           }
          ],
          "barpolar": [
           {
            "marker": {
             "line": {
              "color": "white",
              "width": 0.5
             },
             "pattern": {
              "fillmode": "overlay",
              "size": 10,
              "solidity": 0.2
             }
            },
            "type": "barpolar"
           }
          ],
          "carpet": [
           {
            "aaxis": {
             "endlinecolor": "rgb(36,36,36)",
             "gridcolor": "white",
             "linecolor": "white",
             "minorgridcolor": "white",
             "startlinecolor": "rgb(36,36,36)"
            },
            "baxis": {
             "endlinecolor": "rgb(36,36,36)",
             "gridcolor": "white",
             "linecolor": "white",
             "minorgridcolor": "white",
             "startlinecolor": "rgb(36,36,36)"
            },
            "type": "carpet"
           }
          ],
          "choropleth": [
           {
            "colorbar": {
             "outlinewidth": 1,
             "tickcolor": "rgb(36,36,36)",
             "ticks": "outside"
            },
            "type": "choropleth"
           }
          ],
          "contour": [
           {
            "colorbar": {
             "outlinewidth": 1,
             "tickcolor": "rgb(36,36,36)",
             "ticks": "outside"
            },
            "colorscale": [
             [
              0,
              "#440154"
             ],
             [
              0.1111111111111111,
              "#482878"
             ],
             [
              0.2222222222222222,
              "#3e4989"
             ],
             [
              0.3333333333333333,
              "#31688e"
             ],
             [
              0.4444444444444444,
              "#26828e"
             ],
             [
              0.5555555555555556,
              "#1f9e89"
             ],
             [
              0.6666666666666666,
              "#35b779"
             ],
             [
              0.7777777777777778,
              "#6ece58"
             ],
             [
              0.8888888888888888,
              "#b5de2b"
             ],
             [
              1,
              "#fde725"
             ]
            ],
            "type": "contour"
           }
          ],
          "contourcarpet": [
           {
            "colorbar": {
             "outlinewidth": 1,
             "tickcolor": "rgb(36,36,36)",
             "ticks": "outside"
            },
            "type": "contourcarpet"
           }
          ],
          "heatmap": [
           {
            "colorbar": {
             "outlinewidth": 1,
             "tickcolor": "rgb(36,36,36)",
             "ticks": "outside"
            },
            "colorscale": [
             [
              0,
              "#440154"
             ],
             [
              0.1111111111111111,
              "#482878"
             ],
             [
              0.2222222222222222,
              "#3e4989"
             ],
             [
              0.3333333333333333,
              "#31688e"
             ],
             [
              0.4444444444444444,
              "#26828e"
             ],
             [
              0.5555555555555556,
              "#1f9e89"
             ],
             [
              0.6666666666666666,
              "#35b779"
             ],
             [
              0.7777777777777778,
              "#6ece58"
             ],
             [
              0.8888888888888888,
              "#b5de2b"
             ],
             [
              1,
              "#fde725"
             ]
            ],
            "type": "heatmap"
           }
          ],
          "heatmapgl": [
           {
            "colorbar": {
             "outlinewidth": 1,
             "tickcolor": "rgb(36,36,36)",
             "ticks": "outside"
            },
            "colorscale": [
             [
              0,
              "#440154"
             ],
             [
              0.1111111111111111,
              "#482878"
             ],
             [
              0.2222222222222222,
              "#3e4989"
             ],
             [
              0.3333333333333333,
              "#31688e"
             ],
             [
              0.4444444444444444,
              "#26828e"
             ],
             [
              0.5555555555555556,
              "#1f9e89"
             ],
             [
              0.6666666666666666,
              "#35b779"
             ],
             [
              0.7777777777777778,
              "#6ece58"
             ],
             [
              0.8888888888888888,
              "#b5de2b"
             ],
             [
              1,
              "#fde725"
             ]
            ],
            "type": "heatmapgl"
           }
          ],
          "histogram": [
           {
            "marker": {
             "line": {
              "color": "white",
              "width": 0.6
             }
            },
            "type": "histogram"
           }
          ],
          "histogram2d": [
           {
            "colorbar": {
             "outlinewidth": 1,
             "tickcolor": "rgb(36,36,36)",
             "ticks": "outside"
            },
            "colorscale": [
             [
              0,
              "#440154"
             ],
             [
              0.1111111111111111,
              "#482878"
             ],
             [
              0.2222222222222222,
              "#3e4989"
             ],
             [
              0.3333333333333333,
              "#31688e"
             ],
             [
              0.4444444444444444,
              "#26828e"
             ],
             [
              0.5555555555555556,
              "#1f9e89"
             ],
             [
              0.6666666666666666,
              "#35b779"
             ],
             [
              0.7777777777777778,
              "#6ece58"
             ],
             [
              0.8888888888888888,
              "#b5de2b"
             ],
             [
              1,
              "#fde725"
             ]
            ],
            "type": "histogram2d"
           }
          ],
          "histogram2dcontour": [
           {
            "colorbar": {
             "outlinewidth": 1,
             "tickcolor": "rgb(36,36,36)",
             "ticks": "outside"
            },
            "colorscale": [
             [
              0,
              "#440154"
             ],
             [
              0.1111111111111111,
              "#482878"
             ],
             [
              0.2222222222222222,
              "#3e4989"
             ],
             [
              0.3333333333333333,
              "#31688e"
             ],
             [
              0.4444444444444444,
              "#26828e"
             ],
             [
              0.5555555555555556,
              "#1f9e89"
             ],
             [
              0.6666666666666666,
              "#35b779"
             ],
             [
              0.7777777777777778,
              "#6ece58"
             ],
             [
              0.8888888888888888,
              "#b5de2b"
             ],
             [
              1,
              "#fde725"
             ]
            ],
            "type": "histogram2dcontour"
           }
          ],
          "mesh3d": [
           {
            "colorbar": {
             "outlinewidth": 1,
             "tickcolor": "rgb(36,36,36)",
             "ticks": "outside"
            },
            "type": "mesh3d"
           }
          ],
          "parcoords": [
           {
            "line": {
             "colorbar": {
              "outlinewidth": 1,
              "tickcolor": "rgb(36,36,36)",
              "ticks": "outside"
             }
            },
            "type": "parcoords"
           }
          ],
          "pie": [
           {
            "automargin": true,
            "type": "pie"
           }
          ],
          "scatter": [
           {
            "fillpattern": {
             "fillmode": "overlay",
             "size": 10,
             "solidity": 0.2
            },
            "type": "scatter"
           }
          ],
          "scatter3d": [
           {
            "line": {
             "colorbar": {
              "outlinewidth": 1,
              "tickcolor": "rgb(36,36,36)",
              "ticks": "outside"
             }
            },
            "marker": {
             "colorbar": {
              "outlinewidth": 1,
              "tickcolor": "rgb(36,36,36)",
              "ticks": "outside"
             }
            },
            "type": "scatter3d"
           }
          ],
          "scattercarpet": [
           {
            "marker": {
             "colorbar": {
              "outlinewidth": 1,
              "tickcolor": "rgb(36,36,36)",
              "ticks": "outside"
             }
            },
            "type": "scattercarpet"
           }
          ],
          "scattergeo": [
           {
            "marker": {
             "colorbar": {
              "outlinewidth": 1,
              "tickcolor": "rgb(36,36,36)",
              "ticks": "outside"
             }
            },
            "type": "scattergeo"
           }
          ],
          "scattergl": [
           {
            "marker": {
             "colorbar": {
              "outlinewidth": 1,
              "tickcolor": "rgb(36,36,36)",
              "ticks": "outside"
             }
            },
            "type": "scattergl"
           }
          ],
          "scattermapbox": [
           {
            "marker": {
             "colorbar": {
              "outlinewidth": 1,
              "tickcolor": "rgb(36,36,36)",
              "ticks": "outside"
             }
            },
            "type": "scattermapbox"
           }
          ],
          "scatterpolar": [
           {
            "marker": {
             "colorbar": {
              "outlinewidth": 1,
              "tickcolor": "rgb(36,36,36)",
              "ticks": "outside"
             }
            },
            "type": "scatterpolar"
           }
          ],
          "scatterpolargl": [
           {
            "marker": {
             "colorbar": {
              "outlinewidth": 1,
              "tickcolor": "rgb(36,36,36)",
              "ticks": "outside"
             }
            },
            "type": "scatterpolargl"
           }
          ],
          "scatterternary": [
           {
            "marker": {
             "colorbar": {
              "outlinewidth": 1,
              "tickcolor": "rgb(36,36,36)",
              "ticks": "outside"
             }
            },
            "type": "scatterternary"
           }
          ],
          "surface": [
           {
            "colorbar": {
             "outlinewidth": 1,
             "tickcolor": "rgb(36,36,36)",
             "ticks": "outside"
            },
            "colorscale": [
             [
              0,
              "#440154"
             ],
             [
              0.1111111111111111,
              "#482878"
             ],
             [
              0.2222222222222222,
              "#3e4989"
             ],
             [
              0.3333333333333333,
              "#31688e"
             ],
             [
              0.4444444444444444,
              "#26828e"
             ],
             [
              0.5555555555555556,
              "#1f9e89"
             ],
             [
              0.6666666666666666,
              "#35b779"
             ],
             [
              0.7777777777777778,
              "#6ece58"
             ],
             [
              0.8888888888888888,
              "#b5de2b"
             ],
             [
              1,
              "#fde725"
             ]
            ],
            "type": "surface"
           }
          ],
          "table": [
           {
            "cells": {
             "fill": {
              "color": "rgb(237,237,237)"
             },
             "line": {
              "color": "white"
             }
            },
            "header": {
             "fill": {
              "color": "rgb(217,217,217)"
             },
             "line": {
              "color": "white"
             }
            },
            "type": "table"
           }
          ]
         },
         "layout": {
          "annotationdefaults": {
           "arrowhead": 0,
           "arrowwidth": 1
          },
          "autotypenumbers": "strict",
          "coloraxis": {
           "colorbar": {
            "outlinewidth": 1,
            "tickcolor": "rgb(36,36,36)",
            "ticks": "outside"
           }
          },
          "colorscale": {
           "diverging": [
            [
             0,
             "rgb(103,0,31)"
            ],
            [
             0.1,
             "rgb(178,24,43)"
            ],
            [
             0.2,
             "rgb(214,96,77)"
            ],
            [
             0.3,
             "rgb(244,165,130)"
            ],
            [
             0.4,
             "rgb(253,219,199)"
            ],
            [
             0.5,
             "rgb(247,247,247)"
            ],
            [
             0.6,
             "rgb(209,229,240)"
            ],
            [
             0.7,
             "rgb(146,197,222)"
            ],
            [
             0.8,
             "rgb(67,147,195)"
            ],
            [
             0.9,
             "rgb(33,102,172)"
            ],
            [
             1,
             "rgb(5,48,97)"
            ]
           ],
           "sequential": [
            [
             0,
             "#440154"
            ],
            [
             0.1111111111111111,
             "#482878"
            ],
            [
             0.2222222222222222,
             "#3e4989"
            ],
            [
             0.3333333333333333,
             "#31688e"
            ],
            [
             0.4444444444444444,
             "#26828e"
            ],
            [
             0.5555555555555556,
             "#1f9e89"
            ],
            [
             0.6666666666666666,
             "#35b779"
            ],
            [
             0.7777777777777778,
             "#6ece58"
            ],
            [
             0.8888888888888888,
             "#b5de2b"
            ],
            [
             1,
             "#fde725"
            ]
           ],
           "sequentialminus": [
            [
             0,
             "#440154"
            ],
            [
             0.1111111111111111,
             "#482878"
            ],
            [
             0.2222222222222222,
             "#3e4989"
            ],
            [
             0.3333333333333333,
             "#31688e"
            ],
            [
             0.4444444444444444,
             "#26828e"
            ],
            [
             0.5555555555555556,
             "#1f9e89"
            ],
            [
             0.6666666666666666,
             "#35b779"
            ],
            [
             0.7777777777777778,
             "#6ece58"
            ],
            [
             0.8888888888888888,
             "#b5de2b"
            ],
            [
             1,
             "#fde725"
            ]
           ]
          },
          "colorway": [
           "#1F77B4",
           "#FF7F0E",
           "#2CA02C",
           "#D62728",
           "#9467BD",
           "#8C564B",
           "#E377C2",
           "#7F7F7F",
           "#BCBD22",
           "#17BECF"
          ],
          "font": {
           "color": "rgb(36,36,36)"
          },
          "geo": {
           "bgcolor": "white",
           "lakecolor": "white",
           "landcolor": "white",
           "showlakes": true,
           "showland": true,
           "subunitcolor": "white"
          },
          "hoverlabel": {
           "align": "left"
          },
          "hovermode": "closest",
          "mapbox": {
           "style": "light"
          },
          "paper_bgcolor": "white",
          "plot_bgcolor": "white",
          "polar": {
           "angularaxis": {
            "gridcolor": "rgb(232,232,232)",
            "linecolor": "rgb(36,36,36)",
            "showgrid": false,
            "showline": true,
            "ticks": "outside"
           },
           "bgcolor": "white",
           "radialaxis": {
            "gridcolor": "rgb(232,232,232)",
            "linecolor": "rgb(36,36,36)",
            "showgrid": false,
            "showline": true,
            "ticks": "outside"
           }
          },
          "scene": {
           "xaxis": {
            "backgroundcolor": "white",
            "gridcolor": "rgb(232,232,232)",
            "gridwidth": 2,
            "linecolor": "rgb(36,36,36)",
            "showbackground": true,
            "showgrid": false,
            "showline": true,
            "ticks": "outside",
            "zeroline": false,
            "zerolinecolor": "rgb(36,36,36)"
           },
           "yaxis": {
            "backgroundcolor": "white",
            "gridcolor": "rgb(232,232,232)",
            "gridwidth": 2,
            "linecolor": "rgb(36,36,36)",
            "showbackground": true,
            "showgrid": false,
            "showline": true,
            "ticks": "outside",
            "zeroline": false,
            "zerolinecolor": "rgb(36,36,36)"
           },
           "zaxis": {
            "backgroundcolor": "white",
            "gridcolor": "rgb(232,232,232)",
            "gridwidth": 2,
            "linecolor": "rgb(36,36,36)",
            "showbackground": true,
            "showgrid": false,
            "showline": true,
            "ticks": "outside",
            "zeroline": false,
            "zerolinecolor": "rgb(36,36,36)"
           }
          },
          "shapedefaults": {
           "fillcolor": "black",
           "line": {
            "width": 0
           },
           "opacity": 0.3
          },
          "ternary": {
           "aaxis": {
            "gridcolor": "rgb(232,232,232)",
            "linecolor": "rgb(36,36,36)",
            "showgrid": false,
            "showline": true,
            "ticks": "outside"
           },
           "baxis": {
            "gridcolor": "rgb(232,232,232)",
            "linecolor": "rgb(36,36,36)",
            "showgrid": false,
            "showline": true,
            "ticks": "outside"
           },
           "bgcolor": "white",
           "caxis": {
            "gridcolor": "rgb(232,232,232)",
            "linecolor": "rgb(36,36,36)",
            "showgrid": false,
            "showline": true,
            "ticks": "outside"
           }
          },
          "title": {
           "x": 0.05
          },
          "xaxis": {
           "automargin": true,
           "gridcolor": "rgb(232,232,232)",
           "linecolor": "rgb(36,36,36)",
           "showgrid": false,
           "showline": true,
           "ticks": "outside",
           "title": {
            "standoff": 15
           },
           "zeroline": false,
           "zerolinecolor": "rgb(36,36,36)"
          },
          "yaxis": {
           "automargin": true,
           "gridcolor": "rgb(232,232,232)",
           "linecolor": "rgb(36,36,36)",
           "showgrid": false,
           "showline": true,
           "ticks": "outside",
           "title": {
            "standoff": 15
           },
           "zeroline": false,
           "zerolinecolor": "rgb(36,36,36)"
          }
         }
        },
        "title": {
         "font": {
          "color": "Black",
          "size": 22
         },
         "text": "<b>Topics over Time</b>",
         "x": 0.4,
         "xanchor": "center",
         "y": 0.95,
         "yanchor": "top"
        },
        "width": 1250,
        "xaxis": {
         "showgrid": true
        },
        "yaxis": {
         "showgrid": true,
         "title": {
          "text": "Frequency"
         }
        }
       }
      },
      "text/html": [
       "<div>                            <div id=\"a8733e4c-5e81-4bec-9d69-50789dcb9b8f\" class=\"plotly-graph-div\" style=\"height:450px; width:1250px;\"></div>            <script type=\"text/javascript\">                require([\"plotly\"], function(Plotly) {                    window.PLOTLYENV=window.PLOTLYENV || {};                                    if (document.getElementById(\"a8733e4c-5e81-4bec-9d69-50789dcb9b8f\")) {                    Plotly.newPlot(                        \"a8733e4c-5e81-4bec-9d69-50789dcb9b8f\",                        [{\"hoverinfo\":\"text\",\"hovertext\":[\"<b>Topic 0</b><br>Words: \\u0454\\u0432\\u0440\\u043e\\u0441\\u043e\\u044e\\u0437, \\u043c\\u0456\\u0442\\u0438\\u043d\\u0433\\u0438, \\u0444\\u0430\\u0448\\u0438\\u0437\\u043c\\u0443, \\u0441\\u043f\\u0456\\u043b\\u044c\\u043d\\u0456, \\u043f\\u0440\\u0438\\u0432\\u0438\\u0434\\u0438\",\"<b>Topic 0</b><br>Words: \\u0434\\u0435\\u043b\\u0435\\u0433\\u0443\\u0432\\u0430\\u0442\\u0438, \\u0441\\u043c\\u0456\\u0442\\u0442\\u0454\\u0432\\u0438\\u0445, \\u0440\\u0435\\u043f\\u0443\\u0442\\u0430\\u0446\\u0456\\u044e, \\u0456\\u043c\\u0435\\u043d\\u0456, \\u043f\\u0440\\u0430\\u0446\\u044e\\u0432\\u0430\\u043b\\u0438\",\"<b>Topic 0</b><br>Words: \\u0441\\u0432\\u043e\\u0431\\u043e\\u0434\\u0430, \\u043f\\u0440\\u0438\\u0454\\u043c\\u043d\\u043e, \\u043a\\u043e\\u043d, \\u043f\\u0456\\u0434\\u043f\\u0438\\u0441\\u0430\\u0442\\u0438\\u0441\\u044f, \\u043c\\u0456\\u043b\\u044c\\u0439\\u043e\\u043d\",\"<b>Topic 0</b><br>Words: \\u043c\\u0456\\u0441\\u0446\\u0435\\u0432\\u0438\\u0445, \\u0440\\u0435\\u0454\\u0441\\u0442\\u0440\\u0430\\u0446\\u0456\\u0457, \\u043a\\u043e\\u043c\\u0456\\u0441\\u0456\\u0439, \\u043e\\u0440\\u0433\\u0430\\u043d\\u0456\\u0437\\u0430\\u0446\\u0456\\u0439, \\u0446\\u0435\\u043d\\u0442\\u0440\\u0430\\u043b\\u044c\\u043d\\u043e\\u0457\",\"<b>Topic 0</b><br>Words: \\u0437\\u043c\\u0456\\u043d, \\u0443\\u043a\\u0440\\u0430\\u0457\\u043d\\u0438, \\u0437\\u0430\\u043a\\u043e\\u043d\\u0443, \\u0432\\u043e\\u043b\\u0456, \\u044f\\u0437\\u043d\\u0435\\u043d\\u043d\\u044f\",\"<b>Topic 0</b><br>Words: \\u0456\\u043d\\u043a\\u043b\\u044e\\u0437\\u0438\\u0432\\u043d\\u0435, \\u043a\\u043b\\u044e\\u0447\\u043e\\u0432\\u0438\\u0445, \\u043a\\u043e\\u043c\\u043f\\u0435\\u0442\\u0435\\u043d\\u0442\\u043d\\u043e\\u0441\\u0442\\u0435\\u0439, \\u043b\\u0456\\u043b\\u0456\\u0457, \\u043c\\u0456\\u043d\\u0456\\u0441\\u0442\\u0440\\u043e\\u0432\\u0456\",\"<b>Topic 0</b><br>Words: \\u0456\\u0434\\u0435\\u043d\\u0442\\u0438\\u0444\\u0456\\u043a\\u0443\\u0454, \\u043a\\u043e\\u043d\\u0432\\u0435\\u043d\\u0446\\u0456\\u0457, \\u0440\\u0430\\u0442\\u0438\\u0444\\u0456\\u043a\\u0430\\u0446\\u0456\\u044e, \\u043f\\u043e\\u0433\\u043e\\u0432\\u043e\\u0440\\u0438\\u043c\\u043e, \\u0448\\u0438\\u0440\\u043e\\u043a\\u0430\",\"<b>Topic 0</b><br>Words: \\u0441\\u0438\\u0441\\u0442\\u0435\\u043c\\u0430, \\u0433\\u043e\\u043b\\u043e\\u0441\\u0456\\u0432, \\u0432\\u0438\\u0431\\u043e\\u0440\\u0446\\u0456\\u0432, \\u043f\\u0440\\u0438\\u043d\\u0446\\u0438\\u043f\\u0456, \\u043f\\u0430\\u0440\\u0442\\u0456\\u0454\\u044e\",\"<b>Topic 0</b><br>Words: \\u043c\\u0456\\u043d\\u0456\\u0441\\u0442\\u0435\\u0440\\u0441\\u0442\\u0432\\u043e, \\u0441\\u043a\\u0430\\u0436\\u0443, \\u0432\\u0456\\u043a\\u0443, \\u0442\\u0438\\u0436\\u0434\\u0435\\u043d\\u044c, \\u0442\\u0435\\u0441\\u0442\\u0443\\u0432\\u0430\\u043d\\u043d\\u044f\",\"<b>Topic 0</b><br>Words: \\u0443\\u043a\\u0440\\u0430\\u0457\\u043d\\u0438, \\u0434\\u0435\\u043b\\u0435\\u0433\\u0430\\u0446\\u0456\\u0457, \\u043f\\u043e\\u043f\\u0440\\u0430\\u0432\\u043a\\u0438, \\u0432\\u043f\\u0435\\u0440\\u0448\\u0435, \\u0446\\u0435\\u043d\\u0442\\u0440\\u0430\\u043b\\u044c\\u043d\\u043e\\u0457\",\"<b>Topic 0</b><br>Words: 700, \\u0442\\u0430\\u0442\\u043e, 2018, \\u043a\\u043d\\u043e\\u043f\\u043a\\u0443, \\u043c\\u0456\\u043d\\u0443\\u0441\",\"<b>Topic 0</b><br>Words: \\u043a\\u043e\\u0434\\u0435\\u043a\\u0441, \\u0432\\u0435\\u0442\\u043e, \\u043f\\u043e\\u043b\\u0456\\u0442\\u0438\\u0447\\u043d\\u0438\\u0445, \\u043a\\u043e\\u043d\\u0441\\u0442\\u0438\\u0442\\u0443\\u0446\\u0456\\u0457, \\u0443\\u043a\\u0440\\u0430\\u0457\\u043d\\u0438\",\"<b>Topic 0</b><br>Words: \\u043b\\u0456\\u0434\\u0435\\u0440\\u0441\\u0442\\u0432\\u043e, \\u0440\\u0430\\u0434\\u043e, \\u043f\\u0430\\u0440\\u0442\\u043d\\u0435\\u0440\\u0441\\u0442\\u0432\\u0430, \\u043a\\u0430\\u043d\\u0434\\u0438\\u0434\\u0430\\u0442\\u0443\\u0440\\u0443, \\u0437\\u0435\\u043b\\u0435\\u043d\\u0441\\u044c\\u043a\\u0438\\u0439\",\"<b>Topic 0</b><br>Words: \\u043e\\u0440\\u0433\\u0430\\u043d, 4107, \\u0441\\u0443\\u0431, \\u0443\\u043a\\u0440\\u0430\\u0457\\u043d\\u0438, \\u043f\\u0438\\u0442\\u0430\\u043d\\u044c\",\"<b>Topic 0</b><br>Words: \\u0432\\u0438\\u0434\\u043e\\u0431\\u0443\\u0432\\u043d\\u0438\\u0445, \\u043f\\u0440\\u043e\\u0437\\u043e\\u0440\\u043e\\u0441\\u0442\\u0456, \\u043f\\u043e\\u0440\\u044f\\u0434\\u043e\\u043a, 2545, \\u0456\\u043d\\u0456\\u0446\\u0456\\u0430\\u0442\\u0438\\u0432\\u0438\",\"<b>Topic 0</b><br>Words: \\u0443\\u043d\\u0456\\u0432\\u0435\\u0440\\u0441\\u0438\\u0442\\u0435\\u0442\\u0456\\u0432, \\u043f\\u0440\\u0435\\u043c\\u0456\\u044e, \\u043d\\u0435\\u0437\\u0430\\u043b\\u0435\\u0436\\u043d\\u0435, 200, \\u043c\\u0430\\u0439\\u0431\\u0443\\u0442\\u043d\\u0454\",\"<b>Topic 0</b><br>Words: \\u0441\\u043e\\u044e\\u0437\\u0443, \\u0441\\u0442\\u0430\\u0442\\u0438\\u0441\\u0442\\u0438\\u0447\\u043d\\u0438\\u0445, \\u0440\\u0430\\u0442\\u0438\\u0444\\u0456\\u043a\\u0443\\u0432\\u0430\\u043b\\u0430, \\u043a\\u043e\\u043d\\u0432\\u0435\\u043d\\u0446\\u0456\\u044e, \\u0446\\u0435\\u0440\\u043a\\u0432\\u0438\"],\"marker\":{\"color\":\"#E69F00\"},\"mode\":\"lines\",\"name\":\"0_\\u0443\\u043a\\u0440\\u0430\\u0457\\u043d\\u0438_\\u043f\\u0438\\u0442\\u0430\\u043d\\u043d\\u044f_\\u0432\\u0438\\u0431\\u043e\\u0440\\u0446\\u0456\\u0432_\\u043c\\u0456\\u0441\\u0446\\u0435\\u0432\\u0438\\u0445\",\"x\":[\"2012-12-09T12:18:43.200000\",\"2013-06-05T08:24:00\",\"2014-05-20T01:12:00\",\"2015-05-03T18:00:00\",\"2015-10-25T02:24:00\",\"2016-04-16T10:48:00\",\"2016-10-07T19:12:00\",\"2017-09-21T12:00:00\",\"2018-03-14T20:24:00\",\"2018-09-05T04:48:00\",\"2019-02-26T13:12:00\",\"2019-08-19T21:36:00\",\"2020-02-10T06:00:00\",\"2020-08-02T14:24:00\",\"2021-01-23T22:48:00\",\"2021-07-17T07:12:00\",\"2022-01-07T15:36:00\"],\"y\":[2,1,1,2,3,1,1,2,8,3,2,4,1,2,2,2,2],\"type\":\"scatter\"},{\"hoverinfo\":\"text\",\"hovertext\":[\"<b>Topic 1</b><br>Words: \\u043e\\u0434\\u0438\\u043d\\u043e\\u043a\\u0438\\u0445, \\u0431\\u0430\\u0442\\u044c\\u043a\\u0456\\u0432, \\u0447\\u043e\\u043b\\u043e\\u0432\\u0456\\u043a\\u0456\\u0432, \\u0436\\u0456\\u043d\\u043e\\u043a, \\u0441\\u043b\\u0443\\u0445\\u0430\\u043d\\u043d\\u044f\",\"<b>Topic 1</b><br>Words: \\u0434\\u0435\\u043c\\u043e\\u043d\\u0441\\u0442\\u0440\\u0443\\u044e\\u0442\\u044c, \\u043b\\u0456\\u0434\\u0435\\u0440\\u0456\\u0432, \\u0445\\u043e\\u0447\\u0443, \\u043a\\u0432\\u043e\\u0442, \\u0454\\u0434\\u043d\\u0430\\u043d\\u043d\\u044f\",\"<b>Topic 1</b><br>Words: \\u0440\\u0435\\u043f\\u0440\\u0435\\u0441\\u0456\\u0457, \\u043d\\u0435\\u0434\\u043e\\u0441\\u043a\\u043e\\u043d\\u0430\\u043b\\u0456\\u0441\\u0442\\u044c, \\u0432\\u0438\\u0431\\u043e\\u0440\\u0438, \\u0454\\u0434\\u043d\\u0456\\u0441\\u0442\\u044c, \\u0432\\u0456\\u0434\\u043f\\u043e\\u0432\\u0456\\u0434\\u0430\\u043b\\u044c\\u043d\\u0456\\u0441\\u0442\\u044c\",\"<b>Topic 1</b><br>Words: \\u0447\\u0438\\u0441\\u0442\\u0438\\u0442\\u0438, \\u0456\\u0440\\u0438\\u043d\\u0456, \\u0433\\u0435\\u043d\\u0434\\u0435\\u0440, \\u0441\\u0442\\u0430\\u0442\\u044c, 58\",\"<b>Topic 1</b><br>Words: \\u0437\\u043c\\u0430\\u0433\\u0430\\u043d\\u043d\\u044f, \\u0441\\u0438\\u0441\\u0442\\u0435\\u043c\\u0443, \\u0437\\u0430\\u043f\\u0438\\u0442\\u0430\\u043d\\u043d\\u044f, \\u0432\\u0456\\u0434\\u043a\\u0440\\u0438\\u0442\\u0438\\u0445, \\u0437\\u0430\\u043a\\u043e\\u043d\",\"<b>Topic 1</b><br>Words: \\u043f\\u0440\\u043e\\u0445\\u043e\\u0434\\u0438\\u0442\\u0438, \\u0432\\u0456\\u0439\\u0441\\u044c\\u043a\\u043e\\u0432\\u043e\\u0457, 6109, \\u0440\\u0456\\u0432\\u043d\\u0456\\u0441\\u0442\\u044c, \\u0443\\u043a\\u0440\\u0430\\u0457\\u043d\\u0438\",\"<b>Topic 1</b><br>Words: \\u043f\\u043e\\u0432\\u0430\\u0433\\u043e\\u044e, \\u0432\\u0456\\u0434\\u0445\\u0438\\u043b\\u0435\\u043d\\u043e, \\u0440\\u0435\\u0434\\u0430\\u043a\\u0446\\u0456\\u0439\\u043d\\u043e, \\u0456\\u0437\\u0440\\u0430\\u0457\\u043b\\u044e, \\u044e\\u0440\\u0438\\u0434\\u0438\\u0447\\u043d\\u0438\\u043c\\u0438\",\"<b>Topic 1</b><br>Words: \\u0441\\u043f\\u0438\\u0441\\u043a\\u0430\\u0445, \\u0436\\u0456\\u043d\\u043a\\u0438, \\u043c\\u043e\\u0436\\u043b\\u0438\\u0432\\u043e, \\u0434\\u0438\\u0441\\u043a\\u0440\\u0438\\u043c\\u0456\\u043d\\u0430\\u0446\\u0456\\u0457, \\u0437\\u0430\\u0445\\u0438\\u0441\\u0442\\u0438\\u0442\\u0438\",\"<b>Topic 1</b><br>Words: \\u0441\\u043e\\u043b\\u0456\\u0434\\u0430\\u0440\\u043d\\u043e\\u0441\\u0442\\u0456, \\u043f\\u043e\\u043b\\u0456\\u0442\\u0438\\u0446\\u0456, \\u0436\\u0456\\u043d\\u043e\\u043a, \\u0430\\u0432\\u0442\\u043e\\u0440\\u0438, \\u043f\\u0440\\u0438\\u043d\\u0438\\u0436\\u0435\\u043d\\u043d\\u044f\",\"<b>Topic 1</b><br>Words: \\u0432\\u0456\\u0434\\u043f\\u0443\\u0441\\u0442\\u043a\\u0438, \\u043d\\u0430\\u0446\\u0456\\u043e\\u043d\\u0430\\u043b\\u044c\\u043d\\u043e\\u0457, \\u043d\\u0430\\u0440\\u043e\\u0434\\u0436\\u0435\\u043d\\u043d\\u0456, \\u0437\\u0430\\u043a\\u043e\\u043d\\u043e\\u043f\\u0440\\u043e\\u0435\\u043a\\u0442, \\u0434\\u043e\\u0432\\u0456\\u0440\\u0430\",\"<b>Topic 1</b><br>Words: \\u043d\\u0430\\u0446\\u0456\\u043e\\u043d\\u0430\\u043b\\u044c\\u043d\\u043e\\u0457, \\u0442\\u0435\\u043b\\u0435\\u0431\\u0430\\u0447\\u0435\\u043d\\u043d\\u044f, \\u043f\\u0438\\u0442\\u0430\\u043d\\u044c, \\u0433\\u0435\\u043d\\u0434\\u0435\\u0440\\u043d\\u043e\\u0433\\u043e, \\u0434\\u0438\\u0441\\u043a\\u0440\\u0438\\u043c\\u0456\\u043d\\u0430\\u0446\\u0456\\u0439\\u043d\\u043e\\u044e\",\"<b>Topic 1</b><br>Words: \\u0441\\u0442\\u0430\\u0442\\u0435\\u0432\\u043e\\u0457, \\u0437\\u0430\\u0445\\u0438\\u0441\\u0442\\u0438\\u0442\\u0438, \\u043f\\u0430\\u0440\\u043b\\u0430\\u043c\\u0435\\u043d\\u0442\\u0430\\u0440\\u044f\\u043c, \\u0448\\u043e\\u043a\\u043e\\u0432\\u0430\\u043d\\u0456, \\u043f\\u0440\\u0430\\u0432\\u043e\\u043f\\u043e\\u0440\\u0443\\u0448\\u0435\\u043d\\u044c\"],\"marker\":{\"color\":\"#56B4E9\"},\"mode\":\"lines\",\"name\":\"1_\\u0436\\u0456\\u043d\\u043e\\u043a_\\u0445\\u043e\\u0447\\u0443_\\u0437\\u0430\\u043a\\u043e\\u043d\\u043e\\u043f\\u0440\\u043e\\u0435\\u043a\\u0442_\\u0447\\u043e\\u043b\\u043e\\u0432\\u0456\\u043a\\u0456\\u0432\",\"x\":[\"2012-12-09T12:18:43.200000\",\"2015-05-03T18:00:00\",\"2015-10-25T02:24:00\",\"2016-10-07T19:12:00\",\"2017-09-21T12:00:00\",\"2018-03-14T20:24:00\",\"2018-09-05T04:48:00\",\"2019-02-26T13:12:00\",\"2020-02-10T06:00:00\",\"2020-08-02T14:24:00\",\"2021-01-23T22:48:00\",\"2022-01-07T15:36:00\"],\"y\":[5,2,1,1,5,3,1,2,2,2,7,1],\"type\":\"scatter\"},{\"hoverinfo\":\"text\",\"hovertext\":[\"<b>Topic 2</b><br>Words: \\u0435\\u043a\\u043e\\u043d\\u043e\\u043c\\u0456\\u0447\\u043d\\u0438\\u0439, \\u0440\\u043e\\u0437\\u0432\\u0438\\u0442\\u043e\\u043a, \\u0433\\u0440\\u043e\\u043c\\u0430\\u0434\\u044f\\u043d\\u0430\\u043c, \\u0437\\u0430\\u043a\\u043e\\u043d\\u043e\\u043f\\u0440\\u043e\\u0435\\u043a\\u0442, \\u0434\\u0438\\u0441\\u043a\\u0440\\u0438\\u043c\\u0456\\u043d\\u0430\\u0446\\u0456\\u044f\",\"<b>Topic 2</b><br>Words: \\u0434\\u043e\\u043c\\u043e\\u0432\\u0438\\u043b\\u0438\\u0441\\u044f, \\u0431\\u044e\\u0434\\u0436\\u0435\\u0442\\u0456, \\u043c\\u0456\\u043d\\u0456\\u043c\\u0430\\u043b\\u044c\\u043d\\u0438\\u0445, 110, \\u0431\\u0430\\u043b\\u0430\\u043d\\u0441\",\"<b>Topic 2</b><br>Words: \\u0441\\u0442\\u0435\\u043d\\u043e\\u0433\\u0440\\u0430\\u043c\\u0443, \\u0441\\u0435\\u043a\\u0441\\u0443\\u0430\\u043b\\u044c\\u043d\\u043e\\u0457, \\u0433\\u0435\\u043d\\u0434\\u0435\\u0440\\u0443, \\u0432\\u0438\\u043a\\u0438\\u043d\\u0443\\u0442\\u043e, \\u0446\\u0435\\u0440\\u043a\\u043e\\u0432\\u044c\",\"<b>Topic 2</b><br>Words: \\u0441\\u0442\\u0435\\u0440\\u0435\\u043e\\u0442\\u0438\\u043f\\u0438, \\u043f\\u0456\\u0434\\u0442\\u0440\\u0438\\u043c\\u0430\\u0442\\u0438, \\u043f\\u0440\\u0438\\u043d\\u0438\\u0436\\u0443\\u0432\\u0430\\u0442\\u0438, \\u0433\\u0435\\u043d\\u0434\\u0435\\u0440\\u043d\\u043e\\u0433\\u043e, \\u043d\\u0430\\u0441\\u0438\\u043b\\u044c\\u0441\\u0442\\u0432\\u043e\",\"<b>Topic 2</b><br>Words: \\u0441\\u043b\\u043e\\u0432\\u043e, \\u043f\\u0456\\u0434\\u0440\\u0443\\u0447\\u043d\\u0438\\u043a\\u0456\\u0432, \\u0446\\u0435\\u043d\\u0442\\u0440\\u0430\\u043b\\u044c\\u043d\\u0438\\u0439, \\u0445\\u0440\\u0438\\u0441\\u0442\\u0438\\u044f\\u043d\\u0441\\u0442\\u0432\\u043e, \\u0431\\u043e\\u0440\\u0438\\u0441\\u043e\\u0432\\u0438\\u0447\\u0443\",\"<b>Topic 2</b><br>Words: \\u0432\\u0442\\u0440\\u0430\\u0447\\u0430\\u044e\\u0442\\u044c, \\u0435\\u043a\\u043e\\u043d\\u043e\\u043c\\u0456\\u0447\\u043d\\u043e\\u0457, \\u0432\\u0456\\u0446\\u0456, \\u043f\\u0440\\u0430\\u0446\\u0435\\u0432\\u043b\\u0430\\u0448\\u0442\\u0443\\u0432\\u0430\\u043d\\u043d\\u0456, 39\",\"<b>Topic 2</b><br>Words: \\u0440\\u0435\\u0454\\u0441\\u0442\\u0440\\u0430\\u0446\\u0456\\u044f, \\u043f\\u043e\\u043f\\u0440\\u0430\\u0432\\u043a\\u0438, \\u0432\\u0438\\u0431\\u0443\\u0432, \\u043f\\u0456\\u0434\\u0445\\u043e\\u0434\\u043e\\u043c, \\u0440\\u043e\\u0431\\u043e\\u0447\\u043e\\u044e\",\"<b>Topic 2</b><br>Words: \\u0441\\u0435\\u043a\\u0441\\u0438\\u0437\\u043c\\u0443, \\u0437\\u0430\\u0439\\u043d\\u044f\\u0442\\u043e\\u0441\\u0442\\u0456, \\u0440\\u0456\\u0448\\u0435\\u043d\\u044c, \\u0434\\u0438\\u0441\\u043a\\u0440\\u0438\\u043c\\u0456\\u043d\\u0430\\u0446\\u0456\\u0457, \\u0440\\u0435\\u043a\\u043b\\u0430\\u043c\\u0456\",\"<b>Topic 2</b><br>Words: \\u043d\\u0430\\u0441\\u0438\\u043b\\u043b\\u044f, \\u0432\\u0438\\u0445\\u043e\\u0432\\u0430\\u043d\\u043d\\u044f, \\u043a\\u043e\\u043d\\u0432\\u0435\\u043d\\u0446\\u0456\\u044f, \\u0433\\u0430\\u0440\\u0430\\u043d\\u0442\\u043e\\u0432\\u0430\\u043d\\u0438\\u0439, \\u0432\\u0456\\u043b\\u044c\\u043d\\u0430\"],\"marker\":{\"color\":\"#009E73\"},\"mode\":\"lines\",\"name\":\"2_\\u043d\\u0430\\u0441\\u0438\\u043b\\u044c\\u0441\\u0442\\u0432\\u043e_\\u0434\\u0456\\u0442\\u0435\\u0439_\\u0441\\u0442\\u0435\\u043d\\u043e\\u0433\\u0440\\u0430\\u043c\\u0443_\\u043f\\u043e\\u043f\\u0440\\u0430\\u0432\\u043a\\u0438\",\"x\":[\"2013-11-26T16:48:00\",\"2015-05-03T18:00:00\",\"2016-10-07T19:12:00\",\"2017-09-21T12:00:00\",\"2018-03-14T20:24:00\",\"2018-09-05T04:48:00\",\"2019-02-26T13:12:00\",\"2021-01-23T22:48:00\",\"2022-01-07T15:36:00\"],\"y\":[2,3,6,11,1,1,3,2,1],\"type\":\"scatter\"},{\"hoverinfo\":\"text\",\"hovertext\":[\"<b>Topic 3</b><br>Words: \\u0432\\u0456\\u0434\\u0440\\u043e\\u0434\\u0436\\u0435\\u043d\\u043d\\u044f, \\u0434\\u0435\\u043c\\u043e\\u043a\\u0440\\u0430\\u0442\\u0456\\u044f, \\u0440\\u0435\\u0454\\u0441\\u0442\\u0440\\u0443\\u0432\\u0430\\u0442\\u0438, \\u0434\\u043d\\u0456\\u043f\\u0440\\u043e\\u043f\\u0435\\u0442\\u0440\\u043e\\u0432\\u0449\\u0438\\u043d\\u0438, \\u0446\\u0456\\u043b\\u0456\",\"<b>Topic 3</b><br>Words: \\u043f\\u0440\\u0430\\u0446\\u044e, \\u043d\\u0435\\u043c\\u043e\\u0436\\u043b\\u0438\\u0432\\u0456\\u0441\\u0442\\u044c, \\u043b\\u0435\\u0433\\u0430\\u043b\\u0456\\u0437\\u0443\\u0454, \\u0440\\u0435\\u043b\\u0456\\u0433\\u0456\\u0439\\u043d\\u0438\\u043c\\u0438, \\u043f\\u043e\\u0432\\u0430\\u0436\\u0430\\u0442\\u0438\",\"<b>Topic 3</b><br>Words: \\u043f\\u0440\\u043e\\u043f\\u043e\\u0437\\u0438\\u0446\\u0456\\u044e, \\u0431\\u043e\\u0440\\u043e\\u0442\\u044c\\u0431\\u0438, \\u043d\\u0430\\u0441\\u0438\\u043b\\u044c\\u0441\\u0442\\u0432\\u0430, \\u043e\\u0440\\u0433\\u0430\\u043d\\u0456\\u0437\\u0430\\u0446\\u0456\\u0439\\u043d\\u043e, \\u043f\\u0440\\u0430\\u0432\\u043e\\u0432\\u0456\",\"<b>Topic 3</b><br>Words: \\u043e\\u043f\\u0435\\u0440\\u0430\\u0446\\u0456\\u0457, \\u0491\\u0435\\u043d\\u0434\\u0435\\u0440\\u043d\\u0438\\u043c\\u0438, \\u043c\\u0438\\u0440\\u043e\\u0442\\u0432\\u043e\\u0440\\u0447\\u0456, \\u043f\\u0456\\u0434\\u043f\\u043e\\u043b\\u043a\\u043e\\u0432\\u043d\\u0438\\u043a, \\u043d\\u0430\\u0441\\u0438\\u043b\\u044c\\u0441\\u0442\\u0432\\u0443\",\"<b>Topic 3</b><br>Words: \\u0440\\u0430\\u0434\\u0438\\u043a\\u0430\\u043b\\u044c\\u043d\\u0430, \\u0437\\u0430\\u0431\\u0443\\u043b\\u0438, \\u0440\\u0443\\u043a\\u0438, \\u043f\\u043e\\u0442\\u0440\\u0435\\u0431\\u0443\\u0454, \\u0437\\u0430\\u0445\\u0438\\u0441\\u0442\\u0443\",\"<b>Topic 3</b><br>Words: \\u043f\\u0456\\u0434\\u0442\\u0440\\u0438\\u043c\\u043a\\u0443, \\u0456\\u0440\\u0438\\u043d\\u0430, \\u0432\\u0435\\u0442\\u0435\\u0440\\u0430\\u043d\\u0430\\u043c\\u0438, \\u0437\\u043d\\u0430\\u043b\\u0438, \\u0432\\u0430\\u0436\\u0447\\u0435\",\"<b>Topic 3</b><br>Words: \\u043f\\u0430\\u0440\\u043b\\u0430\\u043c\\u0435\\u043d\\u0442\\u0456, \\u043f\\u0438\\u0442\\u0430\\u043d\\u043d\\u044f\\u043c\\u0438, \\u043a\\u0443\\u0445\\u043d\\u0456, \\u043d\\u043e\\u0432\\u043e\\u043c\\u0443, \\u0431\\u043e\\u0436\\u0438\\u0439\",\"<b>Topic 3</b><br>Words: \\u043d\\u0430\\u0441\\u0438\\u043b\\u044c\\u0441\\u0442\\u0432\\u0430, \\u0443\\u043a\\u0440\\u0430\\u0457\\u043d\\u043e\\u043a, \\u0433\\u043e\\u0441\\u043f\\u0456\\u0442\\u0430\\u043b\\u0456, \\u0433\\u0435\\u043d\\u0434\\u0435\\u0440\\u043d\\u043e, \\u043f\\u0430\\u0440\\u043b\\u0430\\u043c\\u0435\\u043d\\u0442\\u0456\",\"<b>Topic 3</b><br>Words: \\u0436\\u0456\\u043d\\u043e\\u043a, \\u0431\\u0435\\u0440\\u0435\\u0437\\u043d\\u044f, \\u0447\\u043e\\u043b\\u043e\\u0432\\u0456\\u043a\\u0456\\u0432, \\u043d\\u0430\\u0441\\u0438\\u043b\\u044c\\u0441\\u0442\\u0432\\u0430, \\u0437\\u043d\\u0430\\u0454\\u043c\\u043e\",\"<b>Topic 3</b><br>Words: \\u0433\\u0435\\u043d\\u0434\\u0435\\u0440\\u043d\\u0435, \\u0437\\u043d\\u0443\\u0449\\u0430\\u043d\\u043d\\u044f, \\u043e\\u0431\\u0440\\u0430\\u0437\\u0438, \\u0430\\u0434\\u0440\\u0435\\u0441\\u0443, \\u043f\\u043e\\u043f\\u0440\\u0430\\u0432\\u043a\\u0430\\u043c\\u0438\",\"<b>Topic 3</b><br>Words: \\u044f\\u043d\\u0430, \\u0441\\u0435\\u043a\\u0441\\u0438\\u0437\\u043c\\u0443, \\u043c\\u043e\\u043d\\u043e\\u0431\\u0456\\u043b\\u044c\\u0448\\u043e\\u0441\\u0442\\u0456, \\u0442\\u0440\\u0430\\u0434\\u0438\\u0446\\u0456\\u0439, \\u0437\\u0456\\u043d\\u043a\\u0435\\u0432\\u0438\\u0447\",\"<b>Topic 3</b><br>Words: \\u043b\\u0456\\u043a\\u0430\\u0440\\u0456\\u0432, \\u043c\\u0430\\u043d\\u0456\\u043f\\u0443\\u043b\\u044f\\u0446\\u0456\\u0457, \\u0448\\u043a\\u0456\\u0434\\u043b\\u0438\\u0432\\u0438\\u043c, \\u043f\\u0456\\u0434\\u0433\\u043e\\u0442\\u043e\\u0432\\u043a\\u0438, \\u0436\\u0430\\u043b\\u044c\"],\"marker\":{\"color\":\"#F0E442\"},\"mode\":\"lines\",\"name\":\"3_\\u0436\\u0456\\u043d\\u043a\\u0438_\\u043f\\u0430\\u0440\\u043b\\u0430\\u043c\\u0435\\u043d\\u0442\\u0456_\\u0436\\u0438\\u0442\\u0442\\u044f_\\u0436\\u0430\\u043b\\u044c\",\"x\":[\"2015-05-03T18:00:00\",\"2015-10-25T02:24:00\",\"2016-10-07T19:12:00\",\"2017-09-21T12:00:00\",\"2018-03-14T20:24:00\",\"2018-09-05T04:48:00\",\"2019-02-26T13:12:00\",\"2019-08-19T21:36:00\",\"2020-02-10T06:00:00\",\"2021-01-23T22:48:00\",\"2021-07-17T07:12:00\",\"2022-01-07T15:36:00\"],\"y\":[1,1,1,3,1,1,2,2,3,1,1,1],\"type\":\"scatter\"}],                        {\"template\":{\"data\":{\"barpolar\":[{\"marker\":{\"line\":{\"color\":\"white\",\"width\":0.5},\"pattern\":{\"fillmode\":\"overlay\",\"size\":10,\"solidity\":0.2}},\"type\":\"barpolar\"}],\"bar\":[{\"error_x\":{\"color\":\"rgb(36,36,36)\"},\"error_y\":{\"color\":\"rgb(36,36,36)\"},\"marker\":{\"line\":{\"color\":\"white\",\"width\":0.5},\"pattern\":{\"fillmode\":\"overlay\",\"size\":10,\"solidity\":0.2}},\"type\":\"bar\"}],\"carpet\":[{\"aaxis\":{\"endlinecolor\":\"rgb(36,36,36)\",\"gridcolor\":\"white\",\"linecolor\":\"white\",\"minorgridcolor\":\"white\",\"startlinecolor\":\"rgb(36,36,36)\"},\"baxis\":{\"endlinecolor\":\"rgb(36,36,36)\",\"gridcolor\":\"white\",\"linecolor\":\"white\",\"minorgridcolor\":\"white\",\"startlinecolor\":\"rgb(36,36,36)\"},\"type\":\"carpet\"}],\"choropleth\":[{\"colorbar\":{\"outlinewidth\":1,\"tickcolor\":\"rgb(36,36,36)\",\"ticks\":\"outside\"},\"type\":\"choropleth\"}],\"contourcarpet\":[{\"colorbar\":{\"outlinewidth\":1,\"tickcolor\":\"rgb(36,36,36)\",\"ticks\":\"outside\"},\"type\":\"contourcarpet\"}],\"contour\":[{\"colorbar\":{\"outlinewidth\":1,\"tickcolor\":\"rgb(36,36,36)\",\"ticks\":\"outside\"},\"colorscale\":[[0.0,\"#440154\"],[0.1111111111111111,\"#482878\"],[0.2222222222222222,\"#3e4989\"],[0.3333333333333333,\"#31688e\"],[0.4444444444444444,\"#26828e\"],[0.5555555555555556,\"#1f9e89\"],[0.6666666666666666,\"#35b779\"],[0.7777777777777778,\"#6ece58\"],[0.8888888888888888,\"#b5de2b\"],[1.0,\"#fde725\"]],\"type\":\"contour\"}],\"heatmapgl\":[{\"colorbar\":{\"outlinewidth\":1,\"tickcolor\":\"rgb(36,36,36)\",\"ticks\":\"outside\"},\"colorscale\":[[0.0,\"#440154\"],[0.1111111111111111,\"#482878\"],[0.2222222222222222,\"#3e4989\"],[0.3333333333333333,\"#31688e\"],[0.4444444444444444,\"#26828e\"],[0.5555555555555556,\"#1f9e89\"],[0.6666666666666666,\"#35b779\"],[0.7777777777777778,\"#6ece58\"],[0.8888888888888888,\"#b5de2b\"],[1.0,\"#fde725\"]],\"type\":\"heatmapgl\"}],\"heatmap\":[{\"colorbar\":{\"outlinewidth\":1,\"tickcolor\":\"rgb(36,36,36)\",\"ticks\":\"outside\"},\"colorscale\":[[0.0,\"#440154\"],[0.1111111111111111,\"#482878\"],[0.2222222222222222,\"#3e4989\"],[0.3333333333333333,\"#31688e\"],[0.4444444444444444,\"#26828e\"],[0.5555555555555556,\"#1f9e89\"],[0.6666666666666666,\"#35b779\"],[0.7777777777777778,\"#6ece58\"],[0.8888888888888888,\"#b5de2b\"],[1.0,\"#fde725\"]],\"type\":\"heatmap\"}],\"histogram2dcontour\":[{\"colorbar\":{\"outlinewidth\":1,\"tickcolor\":\"rgb(36,36,36)\",\"ticks\":\"outside\"},\"colorscale\":[[0.0,\"#440154\"],[0.1111111111111111,\"#482878\"],[0.2222222222222222,\"#3e4989\"],[0.3333333333333333,\"#31688e\"],[0.4444444444444444,\"#26828e\"],[0.5555555555555556,\"#1f9e89\"],[0.6666666666666666,\"#35b779\"],[0.7777777777777778,\"#6ece58\"],[0.8888888888888888,\"#b5de2b\"],[1.0,\"#fde725\"]],\"type\":\"histogram2dcontour\"}],\"histogram2d\":[{\"colorbar\":{\"outlinewidth\":1,\"tickcolor\":\"rgb(36,36,36)\",\"ticks\":\"outside\"},\"colorscale\":[[0.0,\"#440154\"],[0.1111111111111111,\"#482878\"],[0.2222222222222222,\"#3e4989\"],[0.3333333333333333,\"#31688e\"],[0.4444444444444444,\"#26828e\"],[0.5555555555555556,\"#1f9e89\"],[0.6666666666666666,\"#35b779\"],[0.7777777777777778,\"#6ece58\"],[0.8888888888888888,\"#b5de2b\"],[1.0,\"#fde725\"]],\"type\":\"histogram2d\"}],\"histogram\":[{\"marker\":{\"line\":{\"color\":\"white\",\"width\":0.6}},\"type\":\"histogram\"}],\"mesh3d\":[{\"colorbar\":{\"outlinewidth\":1,\"tickcolor\":\"rgb(36,36,36)\",\"ticks\":\"outside\"},\"type\":\"mesh3d\"}],\"parcoords\":[{\"line\":{\"colorbar\":{\"outlinewidth\":1,\"tickcolor\":\"rgb(36,36,36)\",\"ticks\":\"outside\"}},\"type\":\"parcoords\"}],\"pie\":[{\"automargin\":true,\"type\":\"pie\"}],\"scatter3d\":[{\"line\":{\"colorbar\":{\"outlinewidth\":1,\"tickcolor\":\"rgb(36,36,36)\",\"ticks\":\"outside\"}},\"marker\":{\"colorbar\":{\"outlinewidth\":1,\"tickcolor\":\"rgb(36,36,36)\",\"ticks\":\"outside\"}},\"type\":\"scatter3d\"}],\"scattercarpet\":[{\"marker\":{\"colorbar\":{\"outlinewidth\":1,\"tickcolor\":\"rgb(36,36,36)\",\"ticks\":\"outside\"}},\"type\":\"scattercarpet\"}],\"scattergeo\":[{\"marker\":{\"colorbar\":{\"outlinewidth\":1,\"tickcolor\":\"rgb(36,36,36)\",\"ticks\":\"outside\"}},\"type\":\"scattergeo\"}],\"scattergl\":[{\"marker\":{\"colorbar\":{\"outlinewidth\":1,\"tickcolor\":\"rgb(36,36,36)\",\"ticks\":\"outside\"}},\"type\":\"scattergl\"}],\"scattermapbox\":[{\"marker\":{\"colorbar\":{\"outlinewidth\":1,\"tickcolor\":\"rgb(36,36,36)\",\"ticks\":\"outside\"}},\"type\":\"scattermapbox\"}],\"scatterpolargl\":[{\"marker\":{\"colorbar\":{\"outlinewidth\":1,\"tickcolor\":\"rgb(36,36,36)\",\"ticks\":\"outside\"}},\"type\":\"scatterpolargl\"}],\"scatterpolar\":[{\"marker\":{\"colorbar\":{\"outlinewidth\":1,\"tickcolor\":\"rgb(36,36,36)\",\"ticks\":\"outside\"}},\"type\":\"scatterpolar\"}],\"scatter\":[{\"fillpattern\":{\"fillmode\":\"overlay\",\"size\":10,\"solidity\":0.2},\"type\":\"scatter\"}],\"scatterternary\":[{\"marker\":{\"colorbar\":{\"outlinewidth\":1,\"tickcolor\":\"rgb(36,36,36)\",\"ticks\":\"outside\"}},\"type\":\"scatterternary\"}],\"surface\":[{\"colorbar\":{\"outlinewidth\":1,\"tickcolor\":\"rgb(36,36,36)\",\"ticks\":\"outside\"},\"colorscale\":[[0.0,\"#440154\"],[0.1111111111111111,\"#482878\"],[0.2222222222222222,\"#3e4989\"],[0.3333333333333333,\"#31688e\"],[0.4444444444444444,\"#26828e\"],[0.5555555555555556,\"#1f9e89\"],[0.6666666666666666,\"#35b779\"],[0.7777777777777778,\"#6ece58\"],[0.8888888888888888,\"#b5de2b\"],[1.0,\"#fde725\"]],\"type\":\"surface\"}],\"table\":[{\"cells\":{\"fill\":{\"color\":\"rgb(237,237,237)\"},\"line\":{\"color\":\"white\"}},\"header\":{\"fill\":{\"color\":\"rgb(217,217,217)\"},\"line\":{\"color\":\"white\"}},\"type\":\"table\"}]},\"layout\":{\"annotationdefaults\":{\"arrowhead\":0,\"arrowwidth\":1},\"autotypenumbers\":\"strict\",\"coloraxis\":{\"colorbar\":{\"outlinewidth\":1,\"tickcolor\":\"rgb(36,36,36)\",\"ticks\":\"outside\"}},\"colorscale\":{\"diverging\":[[0.0,\"rgb(103,0,31)\"],[0.1,\"rgb(178,24,43)\"],[0.2,\"rgb(214,96,77)\"],[0.3,\"rgb(244,165,130)\"],[0.4,\"rgb(253,219,199)\"],[0.5,\"rgb(247,247,247)\"],[0.6,\"rgb(209,229,240)\"],[0.7,\"rgb(146,197,222)\"],[0.8,\"rgb(67,147,195)\"],[0.9,\"rgb(33,102,172)\"],[1.0,\"rgb(5,48,97)\"]],\"sequential\":[[0.0,\"#440154\"],[0.1111111111111111,\"#482878\"],[0.2222222222222222,\"#3e4989\"],[0.3333333333333333,\"#31688e\"],[0.4444444444444444,\"#26828e\"],[0.5555555555555556,\"#1f9e89\"],[0.6666666666666666,\"#35b779\"],[0.7777777777777778,\"#6ece58\"],[0.8888888888888888,\"#b5de2b\"],[1.0,\"#fde725\"]],\"sequentialminus\":[[0.0,\"#440154\"],[0.1111111111111111,\"#482878\"],[0.2222222222222222,\"#3e4989\"],[0.3333333333333333,\"#31688e\"],[0.4444444444444444,\"#26828e\"],[0.5555555555555556,\"#1f9e89\"],[0.6666666666666666,\"#35b779\"],[0.7777777777777778,\"#6ece58\"],[0.8888888888888888,\"#b5de2b\"],[1.0,\"#fde725\"]]},\"colorway\":[\"#1F77B4\",\"#FF7F0E\",\"#2CA02C\",\"#D62728\",\"#9467BD\",\"#8C564B\",\"#E377C2\",\"#7F7F7F\",\"#BCBD22\",\"#17BECF\"],\"font\":{\"color\":\"rgb(36,36,36)\"},\"geo\":{\"bgcolor\":\"white\",\"lakecolor\":\"white\",\"landcolor\":\"white\",\"showlakes\":true,\"showland\":true,\"subunitcolor\":\"white\"},\"hoverlabel\":{\"align\":\"left\"},\"hovermode\":\"closest\",\"mapbox\":{\"style\":\"light\"},\"paper_bgcolor\":\"white\",\"plot_bgcolor\":\"white\",\"polar\":{\"angularaxis\":{\"gridcolor\":\"rgb(232,232,232)\",\"linecolor\":\"rgb(36,36,36)\",\"showgrid\":false,\"showline\":true,\"ticks\":\"outside\"},\"bgcolor\":\"white\",\"radialaxis\":{\"gridcolor\":\"rgb(232,232,232)\",\"linecolor\":\"rgb(36,36,36)\",\"showgrid\":false,\"showline\":true,\"ticks\":\"outside\"}},\"scene\":{\"xaxis\":{\"backgroundcolor\":\"white\",\"gridcolor\":\"rgb(232,232,232)\",\"gridwidth\":2,\"linecolor\":\"rgb(36,36,36)\",\"showbackground\":true,\"showgrid\":false,\"showline\":true,\"ticks\":\"outside\",\"zeroline\":false,\"zerolinecolor\":\"rgb(36,36,36)\"},\"yaxis\":{\"backgroundcolor\":\"white\",\"gridcolor\":\"rgb(232,232,232)\",\"gridwidth\":2,\"linecolor\":\"rgb(36,36,36)\",\"showbackground\":true,\"showgrid\":false,\"showline\":true,\"ticks\":\"outside\",\"zeroline\":false,\"zerolinecolor\":\"rgb(36,36,36)\"},\"zaxis\":{\"backgroundcolor\":\"white\",\"gridcolor\":\"rgb(232,232,232)\",\"gridwidth\":2,\"linecolor\":\"rgb(36,36,36)\",\"showbackground\":true,\"showgrid\":false,\"showline\":true,\"ticks\":\"outside\",\"zeroline\":false,\"zerolinecolor\":\"rgb(36,36,36)\"}},\"shapedefaults\":{\"fillcolor\":\"black\",\"line\":{\"width\":0},\"opacity\":0.3},\"ternary\":{\"aaxis\":{\"gridcolor\":\"rgb(232,232,232)\",\"linecolor\":\"rgb(36,36,36)\",\"showgrid\":false,\"showline\":true,\"ticks\":\"outside\"},\"baxis\":{\"gridcolor\":\"rgb(232,232,232)\",\"linecolor\":\"rgb(36,36,36)\",\"showgrid\":false,\"showline\":true,\"ticks\":\"outside\"},\"bgcolor\":\"white\",\"caxis\":{\"gridcolor\":\"rgb(232,232,232)\",\"linecolor\":\"rgb(36,36,36)\",\"showgrid\":false,\"showline\":true,\"ticks\":\"outside\"}},\"title\":{\"x\":0.05},\"xaxis\":{\"automargin\":true,\"gridcolor\":\"rgb(232,232,232)\",\"linecolor\":\"rgb(36,36,36)\",\"showgrid\":false,\"showline\":true,\"ticks\":\"outside\",\"title\":{\"standoff\":15},\"zeroline\":false,\"zerolinecolor\":\"rgb(36,36,36)\"},\"yaxis\":{\"automargin\":true,\"gridcolor\":\"rgb(232,232,232)\",\"linecolor\":\"rgb(36,36,36)\",\"showgrid\":false,\"showline\":true,\"ticks\":\"outside\",\"title\":{\"standoff\":15},\"zeroline\":false,\"zerolinecolor\":\"rgb(36,36,36)\"}}},\"xaxis\":{\"showgrid\":true},\"yaxis\":{\"showgrid\":true,\"title\":{\"text\":\"Frequency\"}},\"title\":{\"font\":{\"size\":22,\"color\":\"Black\"},\"text\":\"<b>Topics over Time</b>\",\"y\":0.95,\"x\":0.4,\"xanchor\":\"center\",\"yanchor\":\"top\"},\"hoverlabel\":{\"font\":{\"size\":16,\"family\":\"Rockwell\"},\"bgcolor\":\"white\"},\"width\":1250,\"height\":450,\"legend\":{\"title\":{\"text\":\"<b>Global Topic Representation\"}}},                        {\"responsive\": true}                    ).then(function(){\n",
       "                            \n",
       "var gd = document.getElementById('a8733e4c-5e81-4bec-9d69-50789dcb9b8f');\n",
       "var x = new MutationObserver(function (mutations, observer) {{\n",
       "        var display = window.getComputedStyle(gd).display;\n",
       "        if (!display || display === 'none') {{\n",
       "            console.log([gd, 'removed!']);\n",
       "            Plotly.purge(gd);\n",
       "            observer.disconnect();\n",
       "        }}\n",
       "}});\n",
       "\n",
       "// Listen for the removal of the full notebook cells\n",
       "var notebookContainer = gd.closest('#notebook-container');\n",
       "if (notebookContainer) {{\n",
       "    x.observe(notebookContainer, {childList: true});\n",
       "}}\n",
       "\n",
       "// Listen for the clearing of the current output cell\n",
       "var outputEl = gd.closest('.output');\n",
       "if (outputEl) {{\n",
       "    x.observe(outputEl, {childList: true});\n",
       "}}\n",
       "\n",
       "                        })                };                });            </script>        </div>"
      ]
     },
     "metadata": {},
     "output_type": "display_data"
    }
   ],
   "source": [
    "topic_model.visualize_topics_over_time(topics_over_time, top_n_topics=10)\n",
    "#topic_model.visualize_topics_over_time(topics_over_time, topics=[0,18])\n"
   ]
  },
  {
   "attachments": {},
   "cell_type": "markdown",
   "metadata": {},
   "source": [
    "What is interesting about the plot above is that the keywords associated with the topic CHANGE over time! Maybe this could be a useful pointer towards further exploration."
   ]
  },
  {
   "cell_type": "code",
   "execution_count": 106,
   "metadata": {},
   "outputs": [
    {
     "data": {
      "text/html": [
       "<div>\n",
       "<style scoped>\n",
       "    .dataframe tbody tr th:only-of-type {\n",
       "        vertical-align: middle;\n",
       "    }\n",
       "\n",
       "    .dataframe tbody tr th {\n",
       "        vertical-align: top;\n",
       "    }\n",
       "\n",
       "    .dataframe thead th {\n",
       "        text-align: right;\n",
       "    }\n",
       "</style>\n",
       "<table border=\"1\" class=\"dataframe\">\n",
       "  <thead>\n",
       "    <tr style=\"text-align: right;\">\n",
       "      <th></th>\n",
       "      <th>Topic</th>\n",
       "      <th>Words</th>\n",
       "      <th>Frequency</th>\n",
       "      <th>Timestamp</th>\n",
       "      <th>Name</th>\n",
       "    </tr>\n",
       "  </thead>\n",
       "  <tbody>\n",
       "    <tr>\n",
       "      <th>0</th>\n",
       "      <td>0</td>\n",
       "      <td>євросоюз, мітинги, фашизму, спільні, привиди</td>\n",
       "      <td>2</td>\n",
       "      <td>2012-12-09 12:18:43.200</td>\n",
       "      <td>0_україни_питання_виборців_місцевих</td>\n",
       "    </tr>\n",
       "    <tr>\n",
       "      <th>2</th>\n",
       "      <td>0</td>\n",
       "      <td>делегувати, сміттєвих, репутацію, імені, працю...</td>\n",
       "      <td>1</td>\n",
       "      <td>2013-06-05 08:24:00.000</td>\n",
       "      <td>0_україни_питання_виборців_місцевих</td>\n",
       "    </tr>\n",
       "    <tr>\n",
       "      <th>4</th>\n",
       "      <td>0</td>\n",
       "      <td>свобода, приємно, кон, підписатися, мільйон</td>\n",
       "      <td>1</td>\n",
       "      <td>2014-05-20 01:12:00.000</td>\n",
       "      <td>0_україни_питання_виборців_місцевих</td>\n",
       "    </tr>\n",
       "    <tr>\n",
       "      <th>5</th>\n",
       "      <td>0</td>\n",
       "      <td>місцевих, реєстрації, комісій, організацій, це...</td>\n",
       "      <td>2</td>\n",
       "      <td>2015-05-03 18:00:00.000</td>\n",
       "      <td>0_україни_питання_виборців_місцевих</td>\n",
       "    </tr>\n",
       "    <tr>\n",
       "      <th>10</th>\n",
       "      <td>0</td>\n",
       "      <td>змін, україни, закону, волі, язнення</td>\n",
       "      <td>3</td>\n",
       "      <td>2015-10-25 02:24:00.000</td>\n",
       "      <td>0_україни_питання_виборців_місцевих</td>\n",
       "    </tr>\n",
       "    <tr>\n",
       "      <th>13</th>\n",
       "      <td>0</td>\n",
       "      <td>інклюзивне, ключових, компетентностей, лілії, ...</td>\n",
       "      <td>1</td>\n",
       "      <td>2016-04-16 10:48:00.000</td>\n",
       "      <td>0_україни_питання_виборців_місцевих</td>\n",
       "    </tr>\n",
       "    <tr>\n",
       "      <th>14</th>\n",
       "      <td>0</td>\n",
       "      <td>ідентифікує, конвенції, ратифікацію, поговорим...</td>\n",
       "      <td>1</td>\n",
       "      <td>2016-10-07 19:12:00.000</td>\n",
       "      <td>0_україни_питання_виборців_місцевих</td>\n",
       "    </tr>\n",
       "    <tr>\n",
       "      <th>19</th>\n",
       "      <td>0</td>\n",
       "      <td>система, голосів, виборців, принципі, партією</td>\n",
       "      <td>2</td>\n",
       "      <td>2017-09-21 12:00:00.000</td>\n",
       "      <td>0_україни_питання_виборців_місцевих</td>\n",
       "    </tr>\n",
       "    <tr>\n",
       "      <th>23</th>\n",
       "      <td>0</td>\n",
       "      <td>міністерство, скажу, віку, тиждень, тестування</td>\n",
       "      <td>8</td>\n",
       "      <td>2018-03-14 20:24:00.000</td>\n",
       "      <td>0_україни_питання_виборців_місцевих</td>\n",
       "    </tr>\n",
       "    <tr>\n",
       "      <th>27</th>\n",
       "      <td>0</td>\n",
       "      <td>україни, делегації, поправки, вперше, центральної</td>\n",
       "      <td>3</td>\n",
       "      <td>2018-09-05 04:48:00.000</td>\n",
       "      <td>0_україни_питання_виборців_місцевих</td>\n",
       "    </tr>\n",
       "    <tr>\n",
       "      <th>31</th>\n",
       "      <td>0</td>\n",
       "      <td>700, тато, 2018, кнопку, мінус</td>\n",
       "      <td>2</td>\n",
       "      <td>2019-02-26 13:12:00.000</td>\n",
       "      <td>0_україни_питання_виборців_місцевих</td>\n",
       "    </tr>\n",
       "    <tr>\n",
       "      <th>35</th>\n",
       "      <td>0</td>\n",
       "      <td>кодекс, вето, політичних, конституції, україни</td>\n",
       "      <td>4</td>\n",
       "      <td>2019-08-19 21:36:00.000</td>\n",
       "      <td>0_україни_питання_виборців_місцевих</td>\n",
       "    </tr>\n",
       "    <tr>\n",
       "      <th>37</th>\n",
       "      <td>0</td>\n",
       "      <td>лідерство, радо, партнерства, кандидатуру, зел...</td>\n",
       "      <td>1</td>\n",
       "      <td>2020-02-10 06:00:00.000</td>\n",
       "      <td>0_україни_питання_виборців_місцевих</td>\n",
       "    </tr>\n",
       "    <tr>\n",
       "      <th>40</th>\n",
       "      <td>0</td>\n",
       "      <td>орган, 4107, суб, україни, питань</td>\n",
       "      <td>2</td>\n",
       "      <td>2020-08-02 14:24:00.000</td>\n",
       "      <td>0_україни_питання_виборців_місцевих</td>\n",
       "    </tr>\n",
       "    <tr>\n",
       "      <th>42</th>\n",
       "      <td>0</td>\n",
       "      <td>видобувних, прозорості, порядок, 2545, ініціативи</td>\n",
       "      <td>2</td>\n",
       "      <td>2021-01-23 22:48:00.000</td>\n",
       "      <td>0_україни_питання_виборців_місцевих</td>\n",
       "    </tr>\n",
       "    <tr>\n",
       "      <th>46</th>\n",
       "      <td>0</td>\n",
       "      <td>університетів, премію, незалежне, 200, майбутнє</td>\n",
       "      <td>2</td>\n",
       "      <td>2021-07-17 07:12:00.000</td>\n",
       "      <td>0_україни_питання_виборців_місцевих</td>\n",
       "    </tr>\n",
       "    <tr>\n",
       "      <th>48</th>\n",
       "      <td>0</td>\n",
       "      <td>союзу, статистичних, ратифікувала, конвенцію, ...</td>\n",
       "      <td>2</td>\n",
       "      <td>2022-01-07 15:36:00.000</td>\n",
       "      <td>0_україни_питання_виборців_місцевих</td>\n",
       "    </tr>\n",
       "  </tbody>\n",
       "</table>\n",
       "</div>"
      ],
      "text/plain": [
       "    Topic                                              Words  Frequency  \\\n",
       "0       0       євросоюз, мітинги, фашизму, спільні, привиди          2   \n",
       "2       0  делегувати, сміттєвих, репутацію, імені, працю...          1   \n",
       "4       0        свобода, приємно, кон, підписатися, мільйон          1   \n",
       "5       0  місцевих, реєстрації, комісій, організацій, це...          2   \n",
       "10      0               змін, україни, закону, волі, язнення          3   \n",
       "13      0  інклюзивне, ключових, компетентностей, лілії, ...          1   \n",
       "14      0  ідентифікує, конвенції, ратифікацію, поговорим...          1   \n",
       "19      0      система, голосів, виборців, принципі, партією          2   \n",
       "23      0     міністерство, скажу, віку, тиждень, тестування          8   \n",
       "27      0  україни, делегації, поправки, вперше, центральної          3   \n",
       "31      0                     700, тато, 2018, кнопку, мінус          2   \n",
       "35      0     кодекс, вето, політичних, конституції, україни          4   \n",
       "37      0  лідерство, радо, партнерства, кандидатуру, зел...          1   \n",
       "40      0                  орган, 4107, суб, україни, питань          2   \n",
       "42      0  видобувних, прозорості, порядок, 2545, ініціативи          2   \n",
       "46      0    університетів, премію, незалежне, 200, майбутнє          2   \n",
       "48      0  союзу, статистичних, ратифікувала, конвенцію, ...          2   \n",
       "\n",
       "                 Timestamp                                 Name  \n",
       "0  2012-12-09 12:18:43.200  0_україни_питання_виборців_місцевих  \n",
       "2  2013-06-05 08:24:00.000  0_україни_питання_виборців_місцевих  \n",
       "4  2014-05-20 01:12:00.000  0_україни_питання_виборців_місцевих  \n",
       "5  2015-05-03 18:00:00.000  0_україни_питання_виборців_місцевих  \n",
       "10 2015-10-25 02:24:00.000  0_україни_питання_виборців_місцевих  \n",
       "13 2016-04-16 10:48:00.000  0_україни_питання_виборців_місцевих  \n",
       "14 2016-10-07 19:12:00.000  0_україни_питання_виборців_місцевих  \n",
       "19 2017-09-21 12:00:00.000  0_україни_питання_виборців_місцевих  \n",
       "23 2018-03-14 20:24:00.000  0_україни_питання_виборців_місцевих  \n",
       "27 2018-09-05 04:48:00.000  0_україни_питання_виборців_місцевих  \n",
       "31 2019-02-26 13:12:00.000  0_україни_питання_виборців_місцевих  \n",
       "35 2019-08-19 21:36:00.000  0_україни_питання_виборців_місцевих  \n",
       "37 2020-02-10 06:00:00.000  0_україни_питання_виборців_місцевих  \n",
       "40 2020-08-02 14:24:00.000  0_україни_питання_виборців_місцевих  \n",
       "42 2021-01-23 22:48:00.000  0_україни_питання_виборців_місцевих  \n",
       "46 2021-07-17 07:12:00.000  0_україни_питання_виборців_місцевих  \n",
       "48 2022-01-07 15:36:00.000  0_україни_питання_виборців_місцевих  "
      ]
     },
     "execution_count": 106,
     "metadata": {},
     "output_type": "execute_result"
    }
   ],
   "source": [
    "# Brexit\n",
    "topics_over_time[topics_over_time['Topic'] == 0]"
   ]
  },
  {
   "cell_type": "code",
   "execution_count": 107,
   "metadata": {},
   "outputs": [
    {
     "data": {
      "application/vnd.plotly.v1+json": {
       "config": {
        "plotlyServerURL": "https://plot.ly"
       },
       "data": [
        {
         "marker": {
          "color": "#D55E00"
         },
         "orientation": "h",
         "type": "bar",
         "x": [
          0.22187883069883715,
          0.2222603370617963,
          0.2222603370617963,
          0.2262945639461557,
          0.2273077128183363,
          0.23441270045513873,
          0.23708406294561785,
          0.241050183893085,
          0.2410908099390762,
          0.33796069196702516
         ],
         "xaxis": "x",
         "y": [
          "порядок  ",
          "освіти  ",
          "система  ",
          "законопроект  ",
          "голосів  ",
          "кодекс  ",
          "місцевих  ",
          "виборців  ",
          "питання  ",
          "україни  "
         ],
         "yaxis": "y"
        },
        {
         "marker": {
          "color": "#0072B2"
         },
         "orientation": "h",
         "type": "bar",
         "x": [
          0.25641117452288215,
          0.2599924912377089,
          0.26266964568160295,
          0.26706030974174455,
          0.2949403708601048,
          0.30216886713713537,
          0.3076017518465556,
          0.31836216848473964,
          0.32079339782522037,
          0.3291738238453181
         ],
         "xaxis": "x2",
         "y": [
          "питань  ",
          "фракцій  ",
          "квоти  ",
          "вибори  ",
          "рівність  ",
          "україни  ",
          "чоловіків  ",
          "законопроект  ",
          "хочу  ",
          "жінок  "
         ],
         "yaxis": "y2"
        },
        {
         "marker": {
          "color": "#CC79A7"
         },
         "orientation": "h",
         "type": "bar",
         "x": [
          0.2907322987052851,
          0.29105451559369555,
          0.29536693590359525,
          0.2977154237007475,
          0.2979518798480487,
          0.3111503652071606,
          0.3150670034947878,
          0.31820172834771926,
          0.3329847718685537,
          0.3544800006518019
         ],
         "xaxis": "x3",
         "y": [
          "давайте  ",
          "10  ",
          "економічної  ",
          "чоловіків  ",
          "гендерні  ",
          "стереотипи  ",
          "поправки  ",
          "стенограму  ",
          "дітей  ",
          "насильство  "
         ],
         "yaxis": "y3"
        },
        {
         "marker": {
          "color": "#E69F00"
         },
         "orientation": "h",
         "type": "bar",
         "x": [
          0.26068317443375155,
          0.2798987695733953,
          0.28098236676545346,
          0.2871351312129731,
          0.30198095193814606,
          0.30264567955488497,
          0.3145538247688363,
          0.344599024354564,
          0.38148923939006263,
          0.3897132868749553
         ],
         "xaxis": "x4",
         "y": [
          "україни  ",
          "кухні  ",
          "захисту  ",
          "питаннями  ",
          "насильству  ",
          "лікарів  ",
          "жаль  ",
          "життя  ",
          "парламенті  ",
          "жінки  "
         ],
         "yaxis": "y4"
        }
       ],
       "layout": {
        "annotations": [
         {
          "font": {
           "size": 16
          },
          "showarrow": false,
          "text": "Topic 0",
          "x": 0.0875,
          "xanchor": "center",
          "xref": "paper",
          "y": 1,
          "yanchor": "bottom",
          "yref": "paper"
         },
         {
          "font": {
           "size": 16
          },
          "showarrow": false,
          "text": "Topic 1",
          "x": 0.36250000000000004,
          "xanchor": "center",
          "xref": "paper",
          "y": 1,
          "yanchor": "bottom",
          "yref": "paper"
         },
         {
          "font": {
           "size": 16
          },
          "showarrow": false,
          "text": "Topic 2",
          "x": 0.6375000000000001,
          "xanchor": "center",
          "xref": "paper",
          "y": 1,
          "yanchor": "bottom",
          "yref": "paper"
         },
         {
          "font": {
           "size": 16
          },
          "showarrow": false,
          "text": "Topic 3",
          "x": 0.9125,
          "xanchor": "center",
          "xref": "paper",
          "y": 1,
          "yanchor": "bottom",
          "yref": "paper"
         }
        ],
        "height": 429,
        "hoverlabel": {
         "bgcolor": "white",
         "font": {
          "family": "Rockwell",
          "size": 16
         }
        },
        "showlegend": false,
        "template": {
         "data": {
          "bar": [
           {
            "error_x": {
             "color": "#2a3f5f"
            },
            "error_y": {
             "color": "#2a3f5f"
            },
            "marker": {
             "line": {
              "color": "white",
              "width": 0.5
             },
             "pattern": {
              "fillmode": "overlay",
              "size": 10,
              "solidity": 0.2
             }
            },
            "type": "bar"
           }
          ],
          "barpolar": [
           {
            "marker": {
             "line": {
              "color": "white",
              "width": 0.5
             },
             "pattern": {
              "fillmode": "overlay",
              "size": 10,
              "solidity": 0.2
             }
            },
            "type": "barpolar"
           }
          ],
          "carpet": [
           {
            "aaxis": {
             "endlinecolor": "#2a3f5f",
             "gridcolor": "#C8D4E3",
             "linecolor": "#C8D4E3",
             "minorgridcolor": "#C8D4E3",
             "startlinecolor": "#2a3f5f"
            },
            "baxis": {
             "endlinecolor": "#2a3f5f",
             "gridcolor": "#C8D4E3",
             "linecolor": "#C8D4E3",
             "minorgridcolor": "#C8D4E3",
             "startlinecolor": "#2a3f5f"
            },
            "type": "carpet"
           }
          ],
          "choropleth": [
           {
            "colorbar": {
             "outlinewidth": 0,
             "ticks": ""
            },
            "type": "choropleth"
           }
          ],
          "contour": [
           {
            "colorbar": {
             "outlinewidth": 0,
             "ticks": ""
            },
            "colorscale": [
             [
              0,
              "#0d0887"
             ],
             [
              0.1111111111111111,
              "#46039f"
             ],
             [
              0.2222222222222222,
              "#7201a8"
             ],
             [
              0.3333333333333333,
              "#9c179e"
             ],
             [
              0.4444444444444444,
              "#bd3786"
             ],
             [
              0.5555555555555556,
              "#d8576b"
             ],
             [
              0.6666666666666666,
              "#ed7953"
             ],
             [
              0.7777777777777778,
              "#fb9f3a"
             ],
             [
              0.8888888888888888,
              "#fdca26"
             ],
             [
              1,
              "#f0f921"
             ]
            ],
            "type": "contour"
           }
          ],
          "contourcarpet": [
           {
            "colorbar": {
             "outlinewidth": 0,
             "ticks": ""
            },
            "type": "contourcarpet"
           }
          ],
          "heatmap": [
           {
            "colorbar": {
             "outlinewidth": 0,
             "ticks": ""
            },
            "colorscale": [
             [
              0,
              "#0d0887"
             ],
             [
              0.1111111111111111,
              "#46039f"
             ],
             [
              0.2222222222222222,
              "#7201a8"
             ],
             [
              0.3333333333333333,
              "#9c179e"
             ],
             [
              0.4444444444444444,
              "#bd3786"
             ],
             [
              0.5555555555555556,
              "#d8576b"
             ],
             [
              0.6666666666666666,
              "#ed7953"
             ],
             [
              0.7777777777777778,
              "#fb9f3a"
             ],
             [
              0.8888888888888888,
              "#fdca26"
             ],
             [
              1,
              "#f0f921"
             ]
            ],
            "type": "heatmap"
           }
          ],
          "heatmapgl": [
           {
            "colorbar": {
             "outlinewidth": 0,
             "ticks": ""
            },
            "colorscale": [
             [
              0,
              "#0d0887"
             ],
             [
              0.1111111111111111,
              "#46039f"
             ],
             [
              0.2222222222222222,
              "#7201a8"
             ],
             [
              0.3333333333333333,
              "#9c179e"
             ],
             [
              0.4444444444444444,
              "#bd3786"
             ],
             [
              0.5555555555555556,
              "#d8576b"
             ],
             [
              0.6666666666666666,
              "#ed7953"
             ],
             [
              0.7777777777777778,
              "#fb9f3a"
             ],
             [
              0.8888888888888888,
              "#fdca26"
             ],
             [
              1,
              "#f0f921"
             ]
            ],
            "type": "heatmapgl"
           }
          ],
          "histogram": [
           {
            "marker": {
             "pattern": {
              "fillmode": "overlay",
              "size": 10,
              "solidity": 0.2
             }
            },
            "type": "histogram"
           }
          ],
          "histogram2d": [
           {
            "colorbar": {
             "outlinewidth": 0,
             "ticks": ""
            },
            "colorscale": [
             [
              0,
              "#0d0887"
             ],
             [
              0.1111111111111111,
              "#46039f"
             ],
             [
              0.2222222222222222,
              "#7201a8"
             ],
             [
              0.3333333333333333,
              "#9c179e"
             ],
             [
              0.4444444444444444,
              "#bd3786"
             ],
             [
              0.5555555555555556,
              "#d8576b"
             ],
             [
              0.6666666666666666,
              "#ed7953"
             ],
             [
              0.7777777777777778,
              "#fb9f3a"
             ],
             [
              0.8888888888888888,
              "#fdca26"
             ],
             [
              1,
              "#f0f921"
             ]
            ],
            "type": "histogram2d"
           }
          ],
          "histogram2dcontour": [
           {
            "colorbar": {
             "outlinewidth": 0,
             "ticks": ""
            },
            "colorscale": [
             [
              0,
              "#0d0887"
             ],
             [
              0.1111111111111111,
              "#46039f"
             ],
             [
              0.2222222222222222,
              "#7201a8"
             ],
             [
              0.3333333333333333,
              "#9c179e"
             ],
             [
              0.4444444444444444,
              "#bd3786"
             ],
             [
              0.5555555555555556,
              "#d8576b"
             ],
             [
              0.6666666666666666,
              "#ed7953"
             ],
             [
              0.7777777777777778,
              "#fb9f3a"
             ],
             [
              0.8888888888888888,
              "#fdca26"
             ],
             [
              1,
              "#f0f921"
             ]
            ],
            "type": "histogram2dcontour"
           }
          ],
          "mesh3d": [
           {
            "colorbar": {
             "outlinewidth": 0,
             "ticks": ""
            },
            "type": "mesh3d"
           }
          ],
          "parcoords": [
           {
            "line": {
             "colorbar": {
              "outlinewidth": 0,
              "ticks": ""
             }
            },
            "type": "parcoords"
           }
          ],
          "pie": [
           {
            "automargin": true,
            "type": "pie"
           }
          ],
          "scatter": [
           {
            "fillpattern": {
             "fillmode": "overlay",
             "size": 10,
             "solidity": 0.2
            },
            "type": "scatter"
           }
          ],
          "scatter3d": [
           {
            "line": {
             "colorbar": {
              "outlinewidth": 0,
              "ticks": ""
             }
            },
            "marker": {
             "colorbar": {
              "outlinewidth": 0,
              "ticks": ""
             }
            },
            "type": "scatter3d"
           }
          ],
          "scattercarpet": [
           {
            "marker": {
             "colorbar": {
              "outlinewidth": 0,
              "ticks": ""
             }
            },
            "type": "scattercarpet"
           }
          ],
          "scattergeo": [
           {
            "marker": {
             "colorbar": {
              "outlinewidth": 0,
              "ticks": ""
             }
            },
            "type": "scattergeo"
           }
          ],
          "scattergl": [
           {
            "marker": {
             "colorbar": {
              "outlinewidth": 0,
              "ticks": ""
             }
            },
            "type": "scattergl"
           }
          ],
          "scattermapbox": [
           {
            "marker": {
             "colorbar": {
              "outlinewidth": 0,
              "ticks": ""
             }
            },
            "type": "scattermapbox"
           }
          ],
          "scatterpolar": [
           {
            "marker": {
             "colorbar": {
              "outlinewidth": 0,
              "ticks": ""
             }
            },
            "type": "scatterpolar"
           }
          ],
          "scatterpolargl": [
           {
            "marker": {
             "colorbar": {
              "outlinewidth": 0,
              "ticks": ""
             }
            },
            "type": "scatterpolargl"
           }
          ],
          "scatterternary": [
           {
            "marker": {
             "colorbar": {
              "outlinewidth": 0,
              "ticks": ""
             }
            },
            "type": "scatterternary"
           }
          ],
          "surface": [
           {
            "colorbar": {
             "outlinewidth": 0,
             "ticks": ""
            },
            "colorscale": [
             [
              0,
              "#0d0887"
             ],
             [
              0.1111111111111111,
              "#46039f"
             ],
             [
              0.2222222222222222,
              "#7201a8"
             ],
             [
              0.3333333333333333,
              "#9c179e"
             ],
             [
              0.4444444444444444,
              "#bd3786"
             ],
             [
              0.5555555555555556,
              "#d8576b"
             ],
             [
              0.6666666666666666,
              "#ed7953"
             ],
             [
              0.7777777777777778,
              "#fb9f3a"
             ],
             [
              0.8888888888888888,
              "#fdca26"
             ],
             [
              1,
              "#f0f921"
             ]
            ],
            "type": "surface"
           }
          ],
          "table": [
           {
            "cells": {
             "fill": {
              "color": "#EBF0F8"
             },
             "line": {
              "color": "white"
             }
            },
            "header": {
             "fill": {
              "color": "#C8D4E3"
             },
             "line": {
              "color": "white"
             }
            },
            "type": "table"
           }
          ]
         },
         "layout": {
          "annotationdefaults": {
           "arrowcolor": "#2a3f5f",
           "arrowhead": 0,
           "arrowwidth": 1
          },
          "autotypenumbers": "strict",
          "coloraxis": {
           "colorbar": {
            "outlinewidth": 0,
            "ticks": ""
           }
          },
          "colorscale": {
           "diverging": [
            [
             0,
             "#8e0152"
            ],
            [
             0.1,
             "#c51b7d"
            ],
            [
             0.2,
             "#de77ae"
            ],
            [
             0.3,
             "#f1b6da"
            ],
            [
             0.4,
             "#fde0ef"
            ],
            [
             0.5,
             "#f7f7f7"
            ],
            [
             0.6,
             "#e6f5d0"
            ],
            [
             0.7,
             "#b8e186"
            ],
            [
             0.8,
             "#7fbc41"
            ],
            [
             0.9,
             "#4d9221"
            ],
            [
             1,
             "#276419"
            ]
           ],
           "sequential": [
            [
             0,
             "#0d0887"
            ],
            [
             0.1111111111111111,
             "#46039f"
            ],
            [
             0.2222222222222222,
             "#7201a8"
            ],
            [
             0.3333333333333333,
             "#9c179e"
            ],
            [
             0.4444444444444444,
             "#bd3786"
            ],
            [
             0.5555555555555556,
             "#d8576b"
            ],
            [
             0.6666666666666666,
             "#ed7953"
            ],
            [
             0.7777777777777778,
             "#fb9f3a"
            ],
            [
             0.8888888888888888,
             "#fdca26"
            ],
            [
             1,
             "#f0f921"
            ]
           ],
           "sequentialminus": [
            [
             0,
             "#0d0887"
            ],
            [
             0.1111111111111111,
             "#46039f"
            ],
            [
             0.2222222222222222,
             "#7201a8"
            ],
            [
             0.3333333333333333,
             "#9c179e"
            ],
            [
             0.4444444444444444,
             "#bd3786"
            ],
            [
             0.5555555555555556,
             "#d8576b"
            ],
            [
             0.6666666666666666,
             "#ed7953"
            ],
            [
             0.7777777777777778,
             "#fb9f3a"
            ],
            [
             0.8888888888888888,
             "#fdca26"
            ],
            [
             1,
             "#f0f921"
            ]
           ]
          },
          "colorway": [
           "#636efa",
           "#EF553B",
           "#00cc96",
           "#ab63fa",
           "#FFA15A",
           "#19d3f3",
           "#FF6692",
           "#B6E880",
           "#FF97FF",
           "#FECB52"
          ],
          "font": {
           "color": "#2a3f5f"
          },
          "geo": {
           "bgcolor": "white",
           "lakecolor": "white",
           "landcolor": "white",
           "showlakes": true,
           "showland": true,
           "subunitcolor": "#C8D4E3"
          },
          "hoverlabel": {
           "align": "left"
          },
          "hovermode": "closest",
          "mapbox": {
           "style": "light"
          },
          "paper_bgcolor": "white",
          "plot_bgcolor": "white",
          "polar": {
           "angularaxis": {
            "gridcolor": "#EBF0F8",
            "linecolor": "#EBF0F8",
            "ticks": ""
           },
           "bgcolor": "white",
           "radialaxis": {
            "gridcolor": "#EBF0F8",
            "linecolor": "#EBF0F8",
            "ticks": ""
           }
          },
          "scene": {
           "xaxis": {
            "backgroundcolor": "white",
            "gridcolor": "#DFE8F3",
            "gridwidth": 2,
            "linecolor": "#EBF0F8",
            "showbackground": true,
            "ticks": "",
            "zerolinecolor": "#EBF0F8"
           },
           "yaxis": {
            "backgroundcolor": "white",
            "gridcolor": "#DFE8F3",
            "gridwidth": 2,
            "linecolor": "#EBF0F8",
            "showbackground": true,
            "ticks": "",
            "zerolinecolor": "#EBF0F8"
           },
           "zaxis": {
            "backgroundcolor": "white",
            "gridcolor": "#DFE8F3",
            "gridwidth": 2,
            "linecolor": "#EBF0F8",
            "showbackground": true,
            "ticks": "",
            "zerolinecolor": "#EBF0F8"
           }
          },
          "shapedefaults": {
           "line": {
            "color": "#2a3f5f"
           }
          },
          "ternary": {
           "aaxis": {
            "gridcolor": "#DFE8F3",
            "linecolor": "#A2B1C6",
            "ticks": ""
           },
           "baxis": {
            "gridcolor": "#DFE8F3",
            "linecolor": "#A2B1C6",
            "ticks": ""
           },
           "bgcolor": "white",
           "caxis": {
            "gridcolor": "#DFE8F3",
            "linecolor": "#A2B1C6",
            "ticks": ""
           }
          },
          "title": {
           "x": 0.05
          },
          "xaxis": {
           "automargin": true,
           "gridcolor": "#EBF0F8",
           "linecolor": "#EBF0F8",
           "ticks": "",
           "title": {
            "standoff": 15
           },
           "zerolinecolor": "#EBF0F8",
           "zerolinewidth": 2
          },
          "yaxis": {
           "automargin": true,
           "gridcolor": "#EBF0F8",
           "linecolor": "#EBF0F8",
           "ticks": "",
           "title": {
            "standoff": 15
           },
           "zerolinecolor": "#EBF0F8",
           "zerolinewidth": 2
          }
         }
        },
        "title": {
         "font": {
          "color": "Black",
          "size": 22
         },
         "text": "Topic Word Scores",
         "x": 0.5,
         "xanchor": "center",
         "yanchor": "top"
        },
        "width": 1320,
        "xaxis": {
         "anchor": "y",
         "domain": [
          0,
          0.175
         ],
         "showgrid": true
        },
        "xaxis2": {
         "anchor": "y2",
         "domain": [
          0.275,
          0.45
         ],
         "showgrid": true
        },
        "xaxis3": {
         "anchor": "y3",
         "domain": [
          0.55,
          0.7250000000000001
         ],
         "showgrid": true
        },
        "xaxis4": {
         "anchor": "y4",
         "domain": [
          0.825,
          1
         ],
         "showgrid": true
        },
        "yaxis": {
         "anchor": "x",
         "domain": [
          0,
          1
         ],
         "showgrid": true
        },
        "yaxis2": {
         "anchor": "x2",
         "domain": [
          0,
          1
         ],
         "showgrid": true
        },
        "yaxis3": {
         "anchor": "x3",
         "domain": [
          0,
          1
         ],
         "showgrid": true
        },
        "yaxis4": {
         "anchor": "x4",
         "domain": [
          0,
          1
         ],
         "showgrid": true
        }
       }
      },
      "text/html": [
       "<div>                            <div id=\"f8ee3398-0424-4513-a520-8d1aa7737aba\" class=\"plotly-graph-div\" style=\"height:429.0px; width:1320px;\"></div>            <script type=\"text/javascript\">                require([\"plotly\"], function(Plotly) {                    window.PLOTLYENV=window.PLOTLYENV || {};                                    if (document.getElementById(\"f8ee3398-0424-4513-a520-8d1aa7737aba\")) {                    Plotly.newPlot(                        \"f8ee3398-0424-4513-a520-8d1aa7737aba\",                        [{\"marker\":{\"color\":\"#D55E00\"},\"orientation\":\"h\",\"x\":[0.22187883069883715,0.2222603370617963,0.2222603370617963,0.2262945639461557,0.2273077128183363,0.23441270045513873,0.23708406294561785,0.241050183893085,0.2410908099390762,0.33796069196702516],\"y\":[\"\\u043f\\u043e\\u0440\\u044f\\u0434\\u043e\\u043a  \",\"\\u043e\\u0441\\u0432\\u0456\\u0442\\u0438  \",\"\\u0441\\u0438\\u0441\\u0442\\u0435\\u043c\\u0430  \",\"\\u0437\\u0430\\u043a\\u043e\\u043d\\u043e\\u043f\\u0440\\u043e\\u0435\\u043a\\u0442  \",\"\\u0433\\u043e\\u043b\\u043e\\u0441\\u0456\\u0432  \",\"\\u043a\\u043e\\u0434\\u0435\\u043a\\u0441  \",\"\\u043c\\u0456\\u0441\\u0446\\u0435\\u0432\\u0438\\u0445  \",\"\\u0432\\u0438\\u0431\\u043e\\u0440\\u0446\\u0456\\u0432  \",\"\\u043f\\u0438\\u0442\\u0430\\u043d\\u043d\\u044f  \",\"\\u0443\\u043a\\u0440\\u0430\\u0457\\u043d\\u0438  \"],\"type\":\"bar\",\"xaxis\":\"x\",\"yaxis\":\"y\"},{\"marker\":{\"color\":\"#0072B2\"},\"orientation\":\"h\",\"x\":[0.25641117452288215,0.2599924912377089,0.26266964568160295,0.26706030974174455,0.2949403708601048,0.30216886713713537,0.3076017518465556,0.31836216848473964,0.32079339782522037,0.3291738238453181],\"y\":[\"\\u043f\\u0438\\u0442\\u0430\\u043d\\u044c  \",\"\\u0444\\u0440\\u0430\\u043a\\u0446\\u0456\\u0439  \",\"\\u043a\\u0432\\u043e\\u0442\\u0438  \",\"\\u0432\\u0438\\u0431\\u043e\\u0440\\u0438  \",\"\\u0440\\u0456\\u0432\\u043d\\u0456\\u0441\\u0442\\u044c  \",\"\\u0443\\u043a\\u0440\\u0430\\u0457\\u043d\\u0438  \",\"\\u0447\\u043e\\u043b\\u043e\\u0432\\u0456\\u043a\\u0456\\u0432  \",\"\\u0437\\u0430\\u043a\\u043e\\u043d\\u043e\\u043f\\u0440\\u043e\\u0435\\u043a\\u0442  \",\"\\u0445\\u043e\\u0447\\u0443  \",\"\\u0436\\u0456\\u043d\\u043e\\u043a  \"],\"type\":\"bar\",\"xaxis\":\"x2\",\"yaxis\":\"y2\"},{\"marker\":{\"color\":\"#CC79A7\"},\"orientation\":\"h\",\"x\":[0.2907322987052851,0.29105451559369555,0.29536693590359525,0.2977154237007475,0.2979518798480487,0.3111503652071606,0.3150670034947878,0.31820172834771926,0.3329847718685537,0.3544800006518019],\"y\":[\"\\u0434\\u0430\\u0432\\u0430\\u0439\\u0442\\u0435  \",\"10  \",\"\\u0435\\u043a\\u043e\\u043d\\u043e\\u043c\\u0456\\u0447\\u043d\\u043e\\u0457  \",\"\\u0447\\u043e\\u043b\\u043e\\u0432\\u0456\\u043a\\u0456\\u0432  \",\"\\u0433\\u0435\\u043d\\u0434\\u0435\\u0440\\u043d\\u0456  \",\"\\u0441\\u0442\\u0435\\u0440\\u0435\\u043e\\u0442\\u0438\\u043f\\u0438  \",\"\\u043f\\u043e\\u043f\\u0440\\u0430\\u0432\\u043a\\u0438  \",\"\\u0441\\u0442\\u0435\\u043d\\u043e\\u0433\\u0440\\u0430\\u043c\\u0443  \",\"\\u0434\\u0456\\u0442\\u0435\\u0439  \",\"\\u043d\\u0430\\u0441\\u0438\\u043b\\u044c\\u0441\\u0442\\u0432\\u043e  \"],\"type\":\"bar\",\"xaxis\":\"x3\",\"yaxis\":\"y3\"},{\"marker\":{\"color\":\"#E69F00\"},\"orientation\":\"h\",\"x\":[0.26068317443375155,0.2798987695733953,0.28098236676545346,0.2871351312129731,0.30198095193814606,0.30264567955488497,0.3145538247688363,0.344599024354564,0.38148923939006263,0.3897132868749553],\"y\":[\"\\u0443\\u043a\\u0440\\u0430\\u0457\\u043d\\u0438  \",\"\\u043a\\u0443\\u0445\\u043d\\u0456  \",\"\\u0437\\u0430\\u0445\\u0438\\u0441\\u0442\\u0443  \",\"\\u043f\\u0438\\u0442\\u0430\\u043d\\u043d\\u044f\\u043c\\u0438  \",\"\\u043d\\u0430\\u0441\\u0438\\u043b\\u044c\\u0441\\u0442\\u0432\\u0443  \",\"\\u043b\\u0456\\u043a\\u0430\\u0440\\u0456\\u0432  \",\"\\u0436\\u0430\\u043b\\u044c  \",\"\\u0436\\u0438\\u0442\\u0442\\u044f  \",\"\\u043f\\u0430\\u0440\\u043b\\u0430\\u043c\\u0435\\u043d\\u0442\\u0456  \",\"\\u0436\\u0456\\u043d\\u043a\\u0438  \"],\"type\":\"bar\",\"xaxis\":\"x4\",\"yaxis\":\"y4\"}],                        {\"template\":{\"data\":{\"barpolar\":[{\"marker\":{\"line\":{\"color\":\"white\",\"width\":0.5},\"pattern\":{\"fillmode\":\"overlay\",\"size\":10,\"solidity\":0.2}},\"type\":\"barpolar\"}],\"bar\":[{\"error_x\":{\"color\":\"#2a3f5f\"},\"error_y\":{\"color\":\"#2a3f5f\"},\"marker\":{\"line\":{\"color\":\"white\",\"width\":0.5},\"pattern\":{\"fillmode\":\"overlay\",\"size\":10,\"solidity\":0.2}},\"type\":\"bar\"}],\"carpet\":[{\"aaxis\":{\"endlinecolor\":\"#2a3f5f\",\"gridcolor\":\"#C8D4E3\",\"linecolor\":\"#C8D4E3\",\"minorgridcolor\":\"#C8D4E3\",\"startlinecolor\":\"#2a3f5f\"},\"baxis\":{\"endlinecolor\":\"#2a3f5f\",\"gridcolor\":\"#C8D4E3\",\"linecolor\":\"#C8D4E3\",\"minorgridcolor\":\"#C8D4E3\",\"startlinecolor\":\"#2a3f5f\"},\"type\":\"carpet\"}],\"choropleth\":[{\"colorbar\":{\"outlinewidth\":0,\"ticks\":\"\"},\"type\":\"choropleth\"}],\"contourcarpet\":[{\"colorbar\":{\"outlinewidth\":0,\"ticks\":\"\"},\"type\":\"contourcarpet\"}],\"contour\":[{\"colorbar\":{\"outlinewidth\":0,\"ticks\":\"\"},\"colorscale\":[[0.0,\"#0d0887\"],[0.1111111111111111,\"#46039f\"],[0.2222222222222222,\"#7201a8\"],[0.3333333333333333,\"#9c179e\"],[0.4444444444444444,\"#bd3786\"],[0.5555555555555556,\"#d8576b\"],[0.6666666666666666,\"#ed7953\"],[0.7777777777777778,\"#fb9f3a\"],[0.8888888888888888,\"#fdca26\"],[1.0,\"#f0f921\"]],\"type\":\"contour\"}],\"heatmapgl\":[{\"colorbar\":{\"outlinewidth\":0,\"ticks\":\"\"},\"colorscale\":[[0.0,\"#0d0887\"],[0.1111111111111111,\"#46039f\"],[0.2222222222222222,\"#7201a8\"],[0.3333333333333333,\"#9c179e\"],[0.4444444444444444,\"#bd3786\"],[0.5555555555555556,\"#d8576b\"],[0.6666666666666666,\"#ed7953\"],[0.7777777777777778,\"#fb9f3a\"],[0.8888888888888888,\"#fdca26\"],[1.0,\"#f0f921\"]],\"type\":\"heatmapgl\"}],\"heatmap\":[{\"colorbar\":{\"outlinewidth\":0,\"ticks\":\"\"},\"colorscale\":[[0.0,\"#0d0887\"],[0.1111111111111111,\"#46039f\"],[0.2222222222222222,\"#7201a8\"],[0.3333333333333333,\"#9c179e\"],[0.4444444444444444,\"#bd3786\"],[0.5555555555555556,\"#d8576b\"],[0.6666666666666666,\"#ed7953\"],[0.7777777777777778,\"#fb9f3a\"],[0.8888888888888888,\"#fdca26\"],[1.0,\"#f0f921\"]],\"type\":\"heatmap\"}],\"histogram2dcontour\":[{\"colorbar\":{\"outlinewidth\":0,\"ticks\":\"\"},\"colorscale\":[[0.0,\"#0d0887\"],[0.1111111111111111,\"#46039f\"],[0.2222222222222222,\"#7201a8\"],[0.3333333333333333,\"#9c179e\"],[0.4444444444444444,\"#bd3786\"],[0.5555555555555556,\"#d8576b\"],[0.6666666666666666,\"#ed7953\"],[0.7777777777777778,\"#fb9f3a\"],[0.8888888888888888,\"#fdca26\"],[1.0,\"#f0f921\"]],\"type\":\"histogram2dcontour\"}],\"histogram2d\":[{\"colorbar\":{\"outlinewidth\":0,\"ticks\":\"\"},\"colorscale\":[[0.0,\"#0d0887\"],[0.1111111111111111,\"#46039f\"],[0.2222222222222222,\"#7201a8\"],[0.3333333333333333,\"#9c179e\"],[0.4444444444444444,\"#bd3786\"],[0.5555555555555556,\"#d8576b\"],[0.6666666666666666,\"#ed7953\"],[0.7777777777777778,\"#fb9f3a\"],[0.8888888888888888,\"#fdca26\"],[1.0,\"#f0f921\"]],\"type\":\"histogram2d\"}],\"histogram\":[{\"marker\":{\"pattern\":{\"fillmode\":\"overlay\",\"size\":10,\"solidity\":0.2}},\"type\":\"histogram\"}],\"mesh3d\":[{\"colorbar\":{\"outlinewidth\":0,\"ticks\":\"\"},\"type\":\"mesh3d\"}],\"parcoords\":[{\"line\":{\"colorbar\":{\"outlinewidth\":0,\"ticks\":\"\"}},\"type\":\"parcoords\"}],\"pie\":[{\"automargin\":true,\"type\":\"pie\"}],\"scatter3d\":[{\"line\":{\"colorbar\":{\"outlinewidth\":0,\"ticks\":\"\"}},\"marker\":{\"colorbar\":{\"outlinewidth\":0,\"ticks\":\"\"}},\"type\":\"scatter3d\"}],\"scattercarpet\":[{\"marker\":{\"colorbar\":{\"outlinewidth\":0,\"ticks\":\"\"}},\"type\":\"scattercarpet\"}],\"scattergeo\":[{\"marker\":{\"colorbar\":{\"outlinewidth\":0,\"ticks\":\"\"}},\"type\":\"scattergeo\"}],\"scattergl\":[{\"marker\":{\"colorbar\":{\"outlinewidth\":0,\"ticks\":\"\"}},\"type\":\"scattergl\"}],\"scattermapbox\":[{\"marker\":{\"colorbar\":{\"outlinewidth\":0,\"ticks\":\"\"}},\"type\":\"scattermapbox\"}],\"scatterpolargl\":[{\"marker\":{\"colorbar\":{\"outlinewidth\":0,\"ticks\":\"\"}},\"type\":\"scatterpolargl\"}],\"scatterpolar\":[{\"marker\":{\"colorbar\":{\"outlinewidth\":0,\"ticks\":\"\"}},\"type\":\"scatterpolar\"}],\"scatter\":[{\"fillpattern\":{\"fillmode\":\"overlay\",\"size\":10,\"solidity\":0.2},\"type\":\"scatter\"}],\"scatterternary\":[{\"marker\":{\"colorbar\":{\"outlinewidth\":0,\"ticks\":\"\"}},\"type\":\"scatterternary\"}],\"surface\":[{\"colorbar\":{\"outlinewidth\":0,\"ticks\":\"\"},\"colorscale\":[[0.0,\"#0d0887\"],[0.1111111111111111,\"#46039f\"],[0.2222222222222222,\"#7201a8\"],[0.3333333333333333,\"#9c179e\"],[0.4444444444444444,\"#bd3786\"],[0.5555555555555556,\"#d8576b\"],[0.6666666666666666,\"#ed7953\"],[0.7777777777777778,\"#fb9f3a\"],[0.8888888888888888,\"#fdca26\"],[1.0,\"#f0f921\"]],\"type\":\"surface\"}],\"table\":[{\"cells\":{\"fill\":{\"color\":\"#EBF0F8\"},\"line\":{\"color\":\"white\"}},\"header\":{\"fill\":{\"color\":\"#C8D4E3\"},\"line\":{\"color\":\"white\"}},\"type\":\"table\"}]},\"layout\":{\"annotationdefaults\":{\"arrowcolor\":\"#2a3f5f\",\"arrowhead\":0,\"arrowwidth\":1},\"autotypenumbers\":\"strict\",\"coloraxis\":{\"colorbar\":{\"outlinewidth\":0,\"ticks\":\"\"}},\"colorscale\":{\"diverging\":[[0,\"#8e0152\"],[0.1,\"#c51b7d\"],[0.2,\"#de77ae\"],[0.3,\"#f1b6da\"],[0.4,\"#fde0ef\"],[0.5,\"#f7f7f7\"],[0.6,\"#e6f5d0\"],[0.7,\"#b8e186\"],[0.8,\"#7fbc41\"],[0.9,\"#4d9221\"],[1,\"#276419\"]],\"sequential\":[[0.0,\"#0d0887\"],[0.1111111111111111,\"#46039f\"],[0.2222222222222222,\"#7201a8\"],[0.3333333333333333,\"#9c179e\"],[0.4444444444444444,\"#bd3786\"],[0.5555555555555556,\"#d8576b\"],[0.6666666666666666,\"#ed7953\"],[0.7777777777777778,\"#fb9f3a\"],[0.8888888888888888,\"#fdca26\"],[1.0,\"#f0f921\"]],\"sequentialminus\":[[0.0,\"#0d0887\"],[0.1111111111111111,\"#46039f\"],[0.2222222222222222,\"#7201a8\"],[0.3333333333333333,\"#9c179e\"],[0.4444444444444444,\"#bd3786\"],[0.5555555555555556,\"#d8576b\"],[0.6666666666666666,\"#ed7953\"],[0.7777777777777778,\"#fb9f3a\"],[0.8888888888888888,\"#fdca26\"],[1.0,\"#f0f921\"]]},\"colorway\":[\"#636efa\",\"#EF553B\",\"#00cc96\",\"#ab63fa\",\"#FFA15A\",\"#19d3f3\",\"#FF6692\",\"#B6E880\",\"#FF97FF\",\"#FECB52\"],\"font\":{\"color\":\"#2a3f5f\"},\"geo\":{\"bgcolor\":\"white\",\"lakecolor\":\"white\",\"landcolor\":\"white\",\"showlakes\":true,\"showland\":true,\"subunitcolor\":\"#C8D4E3\"},\"hoverlabel\":{\"align\":\"left\"},\"hovermode\":\"closest\",\"mapbox\":{\"style\":\"light\"},\"paper_bgcolor\":\"white\",\"plot_bgcolor\":\"white\",\"polar\":{\"angularaxis\":{\"gridcolor\":\"#EBF0F8\",\"linecolor\":\"#EBF0F8\",\"ticks\":\"\"},\"bgcolor\":\"white\",\"radialaxis\":{\"gridcolor\":\"#EBF0F8\",\"linecolor\":\"#EBF0F8\",\"ticks\":\"\"}},\"scene\":{\"xaxis\":{\"backgroundcolor\":\"white\",\"gridcolor\":\"#DFE8F3\",\"gridwidth\":2,\"linecolor\":\"#EBF0F8\",\"showbackground\":true,\"ticks\":\"\",\"zerolinecolor\":\"#EBF0F8\"},\"yaxis\":{\"backgroundcolor\":\"white\",\"gridcolor\":\"#DFE8F3\",\"gridwidth\":2,\"linecolor\":\"#EBF0F8\",\"showbackground\":true,\"ticks\":\"\",\"zerolinecolor\":\"#EBF0F8\"},\"zaxis\":{\"backgroundcolor\":\"white\",\"gridcolor\":\"#DFE8F3\",\"gridwidth\":2,\"linecolor\":\"#EBF0F8\",\"showbackground\":true,\"ticks\":\"\",\"zerolinecolor\":\"#EBF0F8\"}},\"shapedefaults\":{\"line\":{\"color\":\"#2a3f5f\"}},\"ternary\":{\"aaxis\":{\"gridcolor\":\"#DFE8F3\",\"linecolor\":\"#A2B1C6\",\"ticks\":\"\"},\"baxis\":{\"gridcolor\":\"#DFE8F3\",\"linecolor\":\"#A2B1C6\",\"ticks\":\"\"},\"bgcolor\":\"white\",\"caxis\":{\"gridcolor\":\"#DFE8F3\",\"linecolor\":\"#A2B1C6\",\"ticks\":\"\"}},\"title\":{\"x\":0.05},\"xaxis\":{\"automargin\":true,\"gridcolor\":\"#EBF0F8\",\"linecolor\":\"#EBF0F8\",\"ticks\":\"\",\"title\":{\"standoff\":15},\"zerolinecolor\":\"#EBF0F8\",\"zerolinewidth\":2},\"yaxis\":{\"automargin\":true,\"gridcolor\":\"#EBF0F8\",\"linecolor\":\"#EBF0F8\",\"ticks\":\"\",\"title\":{\"standoff\":15},\"zerolinecolor\":\"#EBF0F8\",\"zerolinewidth\":2}}},\"xaxis\":{\"anchor\":\"y\",\"domain\":[0.0,0.175],\"showgrid\":true},\"yaxis\":{\"anchor\":\"x\",\"domain\":[0.0,1.0],\"showgrid\":true},\"xaxis2\":{\"anchor\":\"y2\",\"domain\":[0.275,0.45],\"showgrid\":true},\"yaxis2\":{\"anchor\":\"x2\",\"domain\":[0.0,1.0],\"showgrid\":true},\"xaxis3\":{\"anchor\":\"y3\",\"domain\":[0.55,0.7250000000000001],\"showgrid\":true},\"yaxis3\":{\"anchor\":\"x3\",\"domain\":[0.0,1.0],\"showgrid\":true},\"xaxis4\":{\"anchor\":\"y4\",\"domain\":[0.825,1.0],\"showgrid\":true},\"yaxis4\":{\"anchor\":\"x4\",\"domain\":[0.0,1.0],\"showgrid\":true},\"annotations\":[{\"font\":{\"size\":16},\"showarrow\":false,\"text\":\"Topic 0\",\"x\":0.0875,\"xanchor\":\"center\",\"xref\":\"paper\",\"y\":1.0,\"yanchor\":\"bottom\",\"yref\":\"paper\"},{\"font\":{\"size\":16},\"showarrow\":false,\"text\":\"Topic 1\",\"x\":0.36250000000000004,\"xanchor\":\"center\",\"xref\":\"paper\",\"y\":1.0,\"yanchor\":\"bottom\",\"yref\":\"paper\"},{\"font\":{\"size\":16},\"showarrow\":false,\"text\":\"Topic 2\",\"x\":0.6375000000000001,\"xanchor\":\"center\",\"xref\":\"paper\",\"y\":1.0,\"yanchor\":\"bottom\",\"yref\":\"paper\"},{\"font\":{\"size\":16},\"showarrow\":false,\"text\":\"Topic 3\",\"x\":0.9125,\"xanchor\":\"center\",\"xref\":\"paper\",\"y\":1.0,\"yanchor\":\"bottom\",\"yref\":\"paper\"}],\"title\":{\"font\":{\"size\":22,\"color\":\"Black\"},\"text\":\"Topic Word Scores\",\"x\":0.5,\"xanchor\":\"center\",\"yanchor\":\"top\"},\"hoverlabel\":{\"font\":{\"size\":16,\"family\":\"Rockwell\"},\"bgcolor\":\"white\"},\"showlegend\":false,\"width\":1320,\"height\":429.0},                        {\"responsive\": true}                    ).then(function(){\n",
       "                            \n",
       "var gd = document.getElementById('f8ee3398-0424-4513-a520-8d1aa7737aba');\n",
       "var x = new MutationObserver(function (mutations, observer) {{\n",
       "        var display = window.getComputedStyle(gd).display;\n",
       "        if (!display || display === 'none') {{\n",
       "            console.log([gd, 'removed!']);\n",
       "            Plotly.purge(gd);\n",
       "            observer.disconnect();\n",
       "        }}\n",
       "}});\n",
       "\n",
       "// Listen for the removal of the full notebook cells\n",
       "var notebookContainer = gd.closest('#notebook-container');\n",
       "if (notebookContainer) {{\n",
       "    x.observe(notebookContainer, {childList: true});\n",
       "}}\n",
       "\n",
       "// Listen for the clearing of the current output cell\n",
       "var outputEl = gd.closest('.output');\n",
       "if (outputEl) {{\n",
       "    x.observe(outputEl, {childList: true});\n",
       "}}\n",
       "\n",
       "                        })                };                });            </script>        </div>"
      ]
     },
     "metadata": {},
     "output_type": "display_data"
    }
   ],
   "source": [
    "topic_word_scores = topic_model.visualize_barchart(width=330, height=330, top_n_topics=10, n_words=10)\n",
    "topic_word_scores.write_image(f\"{OUTPUT_PATH}{THEME}_topic_keywords.png\")\n",
    "topic_word_scores"
   ]
  },
  {
   "attachments": {},
   "cell_type": "markdown",
   "metadata": {},
   "source": [
    "# Word Clouds"
   ]
  },
  {
   "cell_type": "code",
   "execution_count": 108,
   "metadata": {},
   "outputs": [
    {
     "data": {
      "image/png": "[encoded data removed]",
      "text/plain": [
       "<Figure size 640x480 with 1 Axes>"
      ]
     },
     "metadata": {},
     "output_type": "display_data"
    }
   ],
   "source": [
    "from wordcloud import WordCloud\n",
    "import matplotlib.pyplot as plt\n",
    "\n",
    "def create_wordcloud(model, topic):\n",
    "    text = {word: value for word, value in model.get_topic(topic)}\n",
    "    wc = WordCloud(background_color=\"white\", max_words=1000)\n",
    "    wc.generate_from_frequencies(text)\n",
    "    plt.imshow(wc, interpolation=\"bilinear\")\n",
    "    plt.axis(\"off\")\n",
    "    plt.show()\n",
    "\n",
    "# Show wordcloud\n",
    "create_wordcloud(topic_model, topic=0)"
   ]
  },
  {
   "cell_type": "code",
   "execution_count": 109,
   "metadata": {},
   "outputs": [
    {
     "ename": "ValueError",
     "evalue": "Make sure to set `n_clusters` lower than the total number of unique topics.",
     "output_type": "error",
     "traceback": [
      "\u001b[0;31m---------------------------------------------------------------------------\u001b[0m",
      "\u001b[0;31mValueError\u001b[0m                                Traceback (most recent call last)",
      "Cell \u001b[0;32mIn[109], line 1\u001b[0m\n\u001b[0;32m----> 1\u001b[0m topic_model\u001b[39m.\u001b[39;49mvisualize_heatmap(n_clusters\u001b[39m=\u001b[39;49m\u001b[39m5\u001b[39;49m, top_n_topics\u001b[39m=\u001b[39;49m\u001b[39m10\u001b[39;49m)\n",
      "File \u001b[0;32m~/miniconda3/envs/rapids-23.06/lib/python3.10/site-packages/bertopic/_bertopic.py:2653\u001b[0m, in \u001b[0;36mBERTopic.visualize_heatmap\u001b[0;34m(self, topics, top_n_topics, n_clusters, custom_labels, title, width, height)\u001b[0m\n\u001b[1;32m   2617\u001b[0m \u001b[39m\u001b[39m\u001b[39m\"\"\" Visualize a heatmap of the topic's similarity matrix\u001b[39;00m\n\u001b[1;32m   2618\u001b[0m \n\u001b[1;32m   2619\u001b[0m \u001b[39mBased on the cosine similarity matrix between topic embeddings,\u001b[39;00m\n\u001b[0;32m   (...)\u001b[0m\n\u001b[1;32m   2650\u001b[0m \u001b[39m```\u001b[39;00m\n\u001b[1;32m   2651\u001b[0m \u001b[39m\"\"\"\u001b[39;00m\n\u001b[1;32m   2652\u001b[0m check_is_fitted(\u001b[39mself\u001b[39m)\n\u001b[0;32m-> 2653\u001b[0m \u001b[39mreturn\u001b[39;00m plotting\u001b[39m.\u001b[39;49mvisualize_heatmap(\u001b[39mself\u001b[39;49m,\n\u001b[1;32m   2654\u001b[0m                                   topics\u001b[39m=\u001b[39;49mtopics,\n\u001b[1;32m   2655\u001b[0m                                   top_n_topics\u001b[39m=\u001b[39;49mtop_n_topics,\n\u001b[1;32m   2656\u001b[0m                                   n_clusters\u001b[39m=\u001b[39;49mn_clusters,\n\u001b[1;32m   2657\u001b[0m                                   custom_labels\u001b[39m=\u001b[39;49mcustom_labels,\n\u001b[1;32m   2658\u001b[0m                                   title\u001b[39m=\u001b[39;49mtitle,\n\u001b[1;32m   2659\u001b[0m                                   width\u001b[39m=\u001b[39;49mwidth,\n\u001b[1;32m   2660\u001b[0m                                   height\u001b[39m=\u001b[39;49mheight)\n",
      "File \u001b[0;32m~/miniconda3/envs/rapids-23.06/lib/python3.10/site-packages/bertopic/plotting/_heatmap.py:77\u001b[0m, in \u001b[0;36mvisualize_heatmap\u001b[0;34m(topic_model, topics, top_n_topics, n_clusters, custom_labels, title, width, height)\u001b[0m\n\u001b[1;32m     75\u001b[0m \u001b[39mif\u001b[39;00m n_clusters:\n\u001b[1;32m     76\u001b[0m     \u001b[39mif\u001b[39;00m n_clusters \u001b[39m>\u001b[39m\u001b[39m=\u001b[39m \u001b[39mlen\u001b[39m(\u001b[39mset\u001b[39m(topics)):\n\u001b[0;32m---> 77\u001b[0m         \u001b[39mraise\u001b[39;00m \u001b[39mValueError\u001b[39;00m(\u001b[39m\"\u001b[39m\u001b[39mMake sure to set `n_clusters` lower than \u001b[39m\u001b[39m\"\u001b[39m\n\u001b[1;32m     78\u001b[0m                          \u001b[39m\"\u001b[39m\u001b[39mthe total number of unique topics.\u001b[39m\u001b[39m\"\u001b[39m)\n\u001b[1;32m     80\u001b[0m     distance_matrix \u001b[39m=\u001b[39m cosine_similarity(embeddings[topics])\n\u001b[1;32m     81\u001b[0m     Z \u001b[39m=\u001b[39m linkage(distance_matrix, \u001b[39m'\u001b[39m\u001b[39mward\u001b[39m\u001b[39m'\u001b[39m)\n",
      "\u001b[0;31mValueError\u001b[0m: Make sure to set `n_clusters` lower than the total number of unique topics."
     ]
    }
   ],
   "source": [
    "topic_model.visualize_heatmap(n_clusters=5, top_n_topics=10)"
   ]
  },
  {
   "attachments": {},
   "cell_type": "markdown",
   "metadata": {},
   "source": [
    "For the top 10 topics, get the percentage of Labour speeches and Conservative speeches. Include the keywords related to the topic."
   ]
  },
  {
   "cell_type": "code",
   "execution_count": 110,
   "metadata": {},
   "outputs": [
    {
     "data": {
      "text/plain": [
       "['україни',\n",
       " 'питання',\n",
       " 'виборців',\n",
       " 'місцевих',\n",
       " 'кодекс',\n",
       " 'голосів',\n",
       " 'законопроект',\n",
       " 'система',\n",
       " 'освіти',\n",
       " 'порядок']"
      ]
     },
     "execution_count": 110,
     "metadata": {},
     "output_type": "execute_result"
    }
   ],
   "source": [
    "def get_keywords(topic):\n",
    "    return [word for word, _ in topic_model.get_topic(topic)]\n",
    "get_keywords(0)"
   ]
  },
  {
   "cell_type": "code",
   "execution_count": 111,
   "metadata": {},
   "outputs": [
    {
     "data": {
      "text/html": [
       "<div>\n",
       "<style scoped>\n",
       "    .dataframe tbody tr th:only-of-type {\n",
       "        vertical-align: middle;\n",
       "    }\n",
       "\n",
       "    .dataframe tbody tr th {\n",
       "        vertical-align: top;\n",
       "    }\n",
       "\n",
       "    .dataframe thead th {\n",
       "        text-align: right;\n",
       "    }\n",
       "</style>\n",
       "<table border=\"1\" class=\"dataframe\">\n",
       "  <thead>\n",
       "    <tr style=\"text-align: right;\">\n",
       "      <th>party</th>\n",
       "      <th>OTHER</th>\n",
       "      <th>фБПП.фЄС.фУДАР</th>\n",
       "      <th>фОПЗЖ.фОпоблок.фПР</th>\n",
       "    </tr>\n",
       "    <tr>\n",
       "      <th>topic</th>\n",
       "      <th></th>\n",
       "      <th></th>\n",
       "      <th></th>\n",
       "    </tr>\n",
       "  </thead>\n",
       "  <tbody>\n",
       "    <tr>\n",
       "      <th>0</th>\n",
       "      <td>19.0</td>\n",
       "      <td>9.0</td>\n",
       "      <td>3.0</td>\n",
       "    </tr>\n",
       "    <tr>\n",
       "      <th>1</th>\n",
       "      <td>8.0</td>\n",
       "      <td>9.0</td>\n",
       "      <td>8.0</td>\n",
       "    </tr>\n",
       "    <tr>\n",
       "      <th>2</th>\n",
       "      <td>12.0</td>\n",
       "      <td>9.0</td>\n",
       "      <td>3.0</td>\n",
       "    </tr>\n",
       "    <tr>\n",
       "      <th>3</th>\n",
       "      <td>9.0</td>\n",
       "      <td>4.0</td>\n",
       "      <td>0.0</td>\n",
       "    </tr>\n",
       "  </tbody>\n",
       "</table>\n",
       "</div>"
      ],
      "text/plain": [
       "party  OTHER  фБПП.фЄС.фУДАР  фОПЗЖ.фОпоблок.фПР\n",
       "topic                                           \n",
       "0       19.0             9.0                 3.0\n",
       "1        8.0             9.0                 8.0\n",
       "2       12.0             9.0                 3.0\n",
       "3        9.0             4.0                 0.0"
      ]
     },
     "execution_count": 111,
     "metadata": {},
     "output_type": "execute_result"
    }
   ],
   "source": [
    "speech_topic_party = pd.DataFrame({'topic': new_topics, 'party': df['Speaker_party']})\n",
    "# Remove the noise topic\n",
    "speech_topic_party = speech_topic_party[speech_topic_party['topic'] != -1]\n",
    "# Remove topics > 10\n",
    "speech_topic_party = speech_topic_party[speech_topic_party['topic'] < 10]\n",
    "# Drop speeches with no party\n",
    "speech_topic_party = speech_topic_party.dropna()\n",
    "# Set the party name to 'фБПП.фЄС.фУДАР' if it contains 'фБПП', 'фЄС' or 'фУДАР'\n",
    "speech_topic_party.loc[speech_topic_party['party'].str.contains('фБПП|фЄС|фУДАР'), 'party'] = 'фБПП.фЄС.фУДАР'\n",
    "# Set the party name to 'фОПЗЖ.фОпоблок.фПР' if it contains 'фОПЗЖ', 'фОпоблок' or 'фПР'\n",
    "speech_topic_party.loc[speech_topic_party['party'].str.contains('фОПЗЖ|фОпоблок|фПР'), 'party'] = 'фОПЗЖ.фОпоблок.фПР'\n",
    "# Set the party name to 'OTHER' if the party name does not contain 'SDS' or 'SD'\n",
    "speech_topic_party.loc[~speech_topic_party['party'].str.contains('фБПП.фЄС.фУДАР|фОПЗЖ.фОпоблок.фПР'), 'party'] = 'OTHER'\n",
    "# Group by party and topic\n",
    "speech_topic_party = speech_topic_party.groupby(['topic', 'party']).size().reset_index(name='counts')\n",
    "# Pivot the dataframe\n",
    "speech_topic_party = speech_topic_party.pivot(index='topic', columns='party', values='counts').fillna(0)\n",
    "speech_topic_party.to_csv(f\"{OUTPUT_PATH}{THEME}_speeches_topic_party.csv\")\n",
    "speech_topic_party"
   ]
  },
  {
   "cell_type": "code",
   "execution_count": 112,
   "metadata": {},
   "outputs": [
    {
     "data": {
      "text/html": [
       "<div>\n",
       "<style scoped>\n",
       "    .dataframe tbody tr th:only-of-type {\n",
       "        vertical-align: middle;\n",
       "    }\n",
       "\n",
       "    .dataframe tbody tr th {\n",
       "        vertical-align: top;\n",
       "    }\n",
       "\n",
       "    .dataframe thead th {\n",
       "        text-align: right;\n",
       "    }\n",
       "</style>\n",
       "<table border=\"1\" class=\"dataframe\">\n",
       "  <thead>\n",
       "    <tr style=\"text-align: right;\">\n",
       "      <th>party</th>\n",
       "      <th>OTHER</th>\n",
       "      <th>фБПП.фЄС.фУДАР</th>\n",
       "      <th>фОПЗЖ.фОпоблок.фПР</th>\n",
       "    </tr>\n",
       "    <tr>\n",
       "      <th>topic</th>\n",
       "      <th></th>\n",
       "      <th></th>\n",
       "      <th></th>\n",
       "    </tr>\n",
       "  </thead>\n",
       "  <tbody>\n",
       "    <tr>\n",
       "      <th>0</th>\n",
       "      <td>39.6</td>\n",
       "      <td>29.0</td>\n",
       "      <td>21.4</td>\n",
       "    </tr>\n",
       "    <tr>\n",
       "      <th>1</th>\n",
       "      <td>16.7</td>\n",
       "      <td>29.0</td>\n",
       "      <td>57.1</td>\n",
       "    </tr>\n",
       "    <tr>\n",
       "      <th>2</th>\n",
       "      <td>25.0</td>\n",
       "      <td>29.0</td>\n",
       "      <td>21.4</td>\n",
       "    </tr>\n",
       "    <tr>\n",
       "      <th>3</th>\n",
       "      <td>18.8</td>\n",
       "      <td>12.9</td>\n",
       "      <td>0.0</td>\n",
       "    </tr>\n",
       "  </tbody>\n",
       "</table>\n",
       "</div>"
      ],
      "text/plain": [
       "party  OTHER  фБПП.фЄС.фУДАР  фОПЗЖ.фОпоблок.фПР\n",
       "topic                                           \n",
       "0       39.6            29.0                21.4\n",
       "1       16.7            29.0                57.1\n",
       "2       25.0            29.0                21.4\n",
       "3       18.8            12.9                 0.0"
      ]
     },
     "execution_count": 112,
     "metadata": {},
     "output_type": "execute_result"
    }
   ],
   "source": [
    "# For each topic, divide the count of speeches by the total count of speeches per party\n",
    "percentages = speech_topic_party.div(speech_topic_party.sum(axis=0), axis=1)\n",
    "# Multiply by 100 to get percentages and round to 1 decimal\n",
    "percentages = (percentages * 100).round(1)\n",
    "percentages.reset_index()\n",
    "percentages"
   ]
  },
  {
   "cell_type": "code",
   "execution_count": 113,
   "metadata": {},
   "outputs": [
    {
     "data": {
      "text/html": [
       "<div>\n",
       "<style scoped>\n",
       "    .dataframe tbody tr th:only-of-type {\n",
       "        vertical-align: middle;\n",
       "    }\n",
       "\n",
       "    .dataframe tbody tr th {\n",
       "        vertical-align: top;\n",
       "    }\n",
       "\n",
       "    .dataframe thead th {\n",
       "        text-align: right;\n",
       "    }\n",
       "</style>\n",
       "<table border=\"1\" class=\"dataframe\">\n",
       "  <thead>\n",
       "    <tr style=\"text-align: right;\">\n",
       "      <th>party</th>\n",
       "      <th>OTHER</th>\n",
       "      <th>фБПП.фЄС.фУДАР</th>\n",
       "      <th>фОПЗЖ.фОпоблок.фПР</th>\n",
       "      <th>keywords</th>\n",
       "    </tr>\n",
       "    <tr>\n",
       "      <th>topic</th>\n",
       "      <th></th>\n",
       "      <th></th>\n",
       "      <th></th>\n",
       "      <th></th>\n",
       "    </tr>\n",
       "  </thead>\n",
       "  <tbody>\n",
       "    <tr>\n",
       "      <th>0</th>\n",
       "      <td>39.6</td>\n",
       "      <td>29.0</td>\n",
       "      <td>21.4</td>\n",
       "      <td>[україни, питання, виборців, місцевих, кодекс,...</td>\n",
       "    </tr>\n",
       "    <tr>\n",
       "      <th>1</th>\n",
       "      <td>16.7</td>\n",
       "      <td>29.0</td>\n",
       "      <td>57.1</td>\n",
       "      <td>[жінок, хочу, законопроект, чоловіків, україни...</td>\n",
       "    </tr>\n",
       "    <tr>\n",
       "      <th>2</th>\n",
       "      <td>25.0</td>\n",
       "      <td>29.0</td>\n",
       "      <td>21.4</td>\n",
       "      <td>[насильство, дітей, стенограму, поправки, стер...</td>\n",
       "    </tr>\n",
       "    <tr>\n",
       "      <th>3</th>\n",
       "      <td>18.8</td>\n",
       "      <td>12.9</td>\n",
       "      <td>0.0</td>\n",
       "      <td>[жінки, парламенті, життя, жаль, лікарів, наси...</td>\n",
       "    </tr>\n",
       "  </tbody>\n",
       "</table>\n",
       "</div>"
      ],
      "text/plain": [
       "party  OTHER  фБПП.фЄС.фУДАР  фОПЗЖ.фОпоблок.фПР  \\\n",
       "topic                                              \n",
       "0       39.6            29.0                21.4   \n",
       "1       16.7            29.0                57.1   \n",
       "2       25.0            29.0                21.4   \n",
       "3       18.8            12.9                 0.0   \n",
       "\n",
       "party                                           keywords  \n",
       "topic                                                     \n",
       "0      [україни, питання, виборців, місцевих, кодекс,...  \n",
       "1      [жінок, хочу, законопроект, чоловіків, україни...  \n",
       "2      [насильство, дітей, стенограму, поправки, стер...  \n",
       "3      [жінки, парламенті, життя, жаль, лікарів, наси...  "
      ]
     },
     "execution_count": 113,
     "metadata": {},
     "output_type": "execute_result"
    }
   ],
   "source": [
    "# Reset the index to get the topic column back and add a new column 'keywords'\n",
    "percentages = percentages.reset_index()\n",
    "percentages['keywords'] = percentages['topic'].apply(lambda x: get_keywords(x))\n",
    "percentages = percentages.set_index('topic')\n",
    "percentages.to_csv(f'{OUTPUT_PATH}{THEME}_percentages.csv')\n",
    "percentages"
   ]
  },
  {
   "cell_type": "code",
   "execution_count": 114,
   "metadata": {},
   "outputs": [
    {
     "data": {
      "text/html": [
       "<div>\n",
       "<style scoped>\n",
       "    .dataframe tbody tr th:only-of-type {\n",
       "        vertical-align: middle;\n",
       "    }\n",
       "\n",
       "    .dataframe tbody tr th {\n",
       "        vertical-align: top;\n",
       "    }\n",
       "\n",
       "    .dataframe thead th {\n",
       "        text-align: right;\n",
       "    }\n",
       "</style>\n",
       "<table border=\"1\" class=\"dataframe\">\n",
       "  <thead>\n",
       "    <tr style=\"text-align: right;\">\n",
       "      <th>party</th>\n",
       "      <th>topic</th>\n",
       "      <th>OTHER</th>\n",
       "      <th>фБПП.фЄС.фУДАР</th>\n",
       "      <th>фОПЗЖ.фОпоблок.фПР</th>\n",
       "    </tr>\n",
       "  </thead>\n",
       "  <tbody>\n",
       "    <tr>\n",
       "      <th>0</th>\n",
       "      <td>0</td>\n",
       "      <td>61.3</td>\n",
       "      <td>29.0</td>\n",
       "      <td>9.7</td>\n",
       "    </tr>\n",
       "    <tr>\n",
       "      <th>1</th>\n",
       "      <td>1</td>\n",
       "      <td>32.0</td>\n",
       "      <td>36.0</td>\n",
       "      <td>32.0</td>\n",
       "    </tr>\n",
       "    <tr>\n",
       "      <th>2</th>\n",
       "      <td>2</td>\n",
       "      <td>50.0</td>\n",
       "      <td>37.5</td>\n",
       "      <td>12.5</td>\n",
       "    </tr>\n",
       "    <tr>\n",
       "      <th>3</th>\n",
       "      <td>3</td>\n",
       "      <td>69.2</td>\n",
       "      <td>30.8</td>\n",
       "      <td>0.0</td>\n",
       "    </tr>\n",
       "  </tbody>\n",
       "</table>\n",
       "</div>"
      ],
      "text/plain": [
       "party  topic  OTHER  фБПП.фЄС.фУДАР  фОПЗЖ.фОпоблок.фПР\n",
       "0          0   61.3            29.0                 9.7\n",
       "1          1   32.0            36.0                32.0\n",
       "2          2   50.0            37.5                12.5\n",
       "3          3   69.2            30.8                 0.0"
      ]
     },
     "execution_count": 114,
     "metadata": {},
     "output_type": "execute_result"
    }
   ],
   "source": [
    "# For each topic, divide the count of speeches by the total count of speeches per party\n",
    "percentages_per_row = speech_topic_party.div(speech_topic_party.sum(axis=1), axis=0)\n",
    "# Multiply by 100 to get percentages and round to 1 decimal\n",
    "percentages_per_row = (percentages_per_row * 100).round(1)\n",
    "percentages_per_row.to_csv(f'{OUTPUT_PATH}{THEME}_percentages_per_row.csv')\n",
    "percentages_per_row.reset_index()"
   ]
  },
  {
   "attachments": {},
   "cell_type": "markdown",
   "metadata": {},
   "source": [
    "Calculate mean sentiment for each topic per party"
   ]
  },
  {
   "cell_type": "code",
   "execution_count": 115,
   "metadata": {},
   "outputs": [
    {
     "data": {
      "text/html": [
       "<div>\n",
       "<style scoped>\n",
       "    .dataframe tbody tr th:only-of-type {\n",
       "        vertical-align: middle;\n",
       "    }\n",
       "\n",
       "    .dataframe tbody tr th {\n",
       "        vertical-align: top;\n",
       "    }\n",
       "\n",
       "    .dataframe thead th {\n",
       "        text-align: right;\n",
       "    }\n",
       "</style>\n",
       "<table border=\"1\" class=\"dataframe\">\n",
       "  <thead>\n",
       "    <tr style=\"text-align: right;\">\n",
       "      <th>party</th>\n",
       "      <th>OTHER</th>\n",
       "      <th>фБПП.фЄС.фУДАР</th>\n",
       "      <th>фОПЗЖ.фОпоблок.фПР</th>\n",
       "    </tr>\n",
       "    <tr>\n",
       "      <th>topic</th>\n",
       "      <th></th>\n",
       "      <th></th>\n",
       "      <th></th>\n",
       "    </tr>\n",
       "  </thead>\n",
       "  <tbody>\n",
       "    <tr>\n",
       "      <th>0</th>\n",
       "      <td>-0.29</td>\n",
       "      <td>0.05</td>\n",
       "      <td>-0.48</td>\n",
       "    </tr>\n",
       "    <tr>\n",
       "      <th>1</th>\n",
       "      <td>-0.31</td>\n",
       "      <td>0.02</td>\n",
       "      <td>-0.14</td>\n",
       "    </tr>\n",
       "    <tr>\n",
       "      <th>2</th>\n",
       "      <td>-0.33</td>\n",
       "      <td>-0.54</td>\n",
       "      <td>-0.35</td>\n",
       "    </tr>\n",
       "    <tr>\n",
       "      <th>3</th>\n",
       "      <td>-0.02</td>\n",
       "      <td>0.22</td>\n",
       "      <td>0.00</td>\n",
       "    </tr>\n",
       "  </tbody>\n",
       "</table>\n",
       "</div>"
      ],
      "text/plain": [
       "party  OTHER  фБПП.фЄС.фУДАР  фОПЗЖ.фОпоблок.фПР\n",
       "topic                                           \n",
       "0      -0.29            0.05               -0.48\n",
       "1      -0.31            0.02               -0.14\n",
       "2      -0.33           -0.54               -0.35\n",
       "3      -0.02            0.22                0.00"
      ]
     },
     "execution_count": 115,
     "metadata": {},
     "output_type": "execute_result"
    }
   ],
   "source": [
    "sentiment_topic_party = pd.DataFrame({'topic': new_topics, 'party': df['Speaker_party'], 'sentiment': df['sentiment']})\n",
    "# Remove the noise topic\n",
    "sentiment_topic_party = sentiment_topic_party[sentiment_topic_party['topic'] != -1]\n",
    "# Remove topics > 10\n",
    "sentiment_topic_party = sentiment_topic_party[sentiment_topic_party['topic'] < 10]\n",
    "# Drop speeches with no party\n",
    "sentiment_topic_party = sentiment_topic_party.dropna()\n",
    "# Set the party name to 'фБПП.фЄС.фУДАР' if it contains 'фБПП', 'фЄС' or 'фУДАР'\n",
    "sentiment_topic_party.loc[sentiment_topic_party['party'].str.contains('фБПП|фЄС|фУДАР'), 'party'] = 'фБПП.фЄС.фУДАР'\n",
    "# Set the party name to 'фОПЗЖ.фОпоблок.фПР' if it contains 'фОПЗЖ', 'фОпоблок' or 'фПР'\n",
    "sentiment_topic_party.loc[sentiment_topic_party['party'].str.contains('фОПЗЖ|фОпоблок|фПР'), 'party'] = 'фОПЗЖ.фОпоблок.фПР'\n",
    "# Set the party name to 'OTHER' if the party name does not contain 'SDS' or 'SD'\n",
    "sentiment_topic_party.loc[~sentiment_topic_party['party'].str.contains('фБПП.фЄС.фУДАР|фОПЗЖ.фОпоблок.фПР'), 'party'] = 'OTHER'\n",
    "# Group by party and topic and take the average sentiment\n",
    "sentiment_topic_party = sentiment_topic_party.groupby(['topic', 'party']).mean().reset_index()\n",
    "# speech_topic_party = speech_topic_party.groupby(['topic', 'party']).size().reset_index(name='counts')\n",
    "# Pivot the dataframe\n",
    "sentiment_topic_party = sentiment_topic_party.pivot(index='topic', columns='party', values='sentiment').fillna(0).round(2)\n",
    "sentiment_topic_party.to_csv(f'{OUTPUT_PATH}{THEME}_sentiment.csv')\n",
    "sentiment_topic_party"
   ]
  }
 ],
 "metadata": {
  "kernelspec": {
   "display_name": "rapids-23.06",
   "language": "python",
   "name": "python3"
  },
  "language_info": {
   "codemirror_mode": {
    "name": "ipython",
    "version": 3
   },
   "file_extension": ".py",
   "mimetype": "text/x-python",
   "name": "python",
   "nbconvert_exporter": "python",
   "pygments_lexer": "ipython3",
   "version": "3.10.11"
  },
  "orig_nbformat": 4
 },
 "nbformat": 4,
 "nbformat_minor": 2
}
