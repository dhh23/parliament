{
 "cells": [
  {
   "attachments": {},
   "cell_type": "markdown",
   "metadata": {},
   "source": [
    "# Thematic differences GB\n",
    "\n",
    "DHH23 Parliament group\n",
    "\n",
    "Author: Pontus H.\n",
    "\n",
    "Conservatives + Liberal Democrats: 11.05.2010 – 08.05.2015 (Cameron–Clegg coalition)\n",
    "\n",
    "Conservatives: 08.05.2015 – 13.07.2016 (Second Cameron ministry)\n",
    "\n",
    "Conservatives: 13.07.2016 – 11.07.2017 (First May Ministry)\n",
    "\n",
    "Conservatives: 11.07.2017 – 24.07.2019 (Second May Ministry)\n",
    "\n",
    "Conservatives: 24.07.2019 – 16.12.2019 (First Johnson Ministry)\n",
    "\n",
    "Conservatives: 16.12.2019 – 06.09.2022 (Second Johnson Ministry)"
   ]
  },
  {
   "cell_type": "code",
   "execution_count": 155,
   "metadata": {},
   "outputs": [],
   "source": [
    "# Set the theme here\n",
    "THEME = 'gender_GB'\n",
    "# Set the output path for the CSV:s and keyword figure\n",
    "OUTPUT_PATH = '../thematic_differences/'\n",
    "# Set the output path for the model\n",
    "MODEL_PATH = '../data/models/'"
   ]
  },
  {
   "cell_type": "code",
   "execution_count": 156,
   "metadata": {},
   "outputs": [],
   "source": [
    "from cuml.manifold import UMAP\n",
    "from cuml.cluster.hdbscan import HDBSCAN\n",
    "from sentence_transformers import SentenceTransformer\n",
    "from sklearn.feature_extraction.text import CountVectorizer\n",
    "from sklearn.cluster import KMeans\n",
    "\n",
    "from bertopic import BERTopic\n",
    "from bertopic.representation import KeyBERTInspired, MaximalMarginalRelevance\n",
    "from bertopic.vectorizers import ClassTfidfTransformer\n",
    "\n",
    "import pandas as pd"
   ]
  },
  {
   "attachments": {},
   "cell_type": "markdown",
   "metadata": {},
   "source": [
    "Set up the BERTopic pipeline"
   ]
  },
  {
   "cell_type": "code",
   "execution_count": 157,
   "metadata": {},
   "outputs": [],
   "source": [
    "# Parameters\n",
    "HDBSCAN_MIN_CLUSTER_SIZE = 50\n",
    "HDBSCAN_MIN_SAMPLES = 1\n",
    "HDBSCAN_CLUSTER_SELECTION_EPSILON = 0\n",
    "\n",
    "# Step 1 - Extract embeddings\n",
    "embedding_model = SentenceTransformer(\"all-MiniLM-L6-v2\")\n",
    "\n",
    "# Step 2 - Reduce dimensionality\n",
    "umap_model = UMAP(n_neighbors=15, n_components=10, min_dist=0.0, metric='cosine', random_state=42)\n",
    "\n",
    "# Step 3 - Cluster reduced embeddings\n",
    "hdbscan_model = HDBSCAN(\n",
    "    min_cluster_size=HDBSCAN_MIN_CLUSTER_SIZE,\n",
    "    min_samples=HDBSCAN_MIN_SAMPLES,\n",
    "    cluster_selection_epsilon=HDBSCAN_CLUSTER_SELECTION_EPSILON,\n",
    "    metric='euclidean',\n",
    "    cluster_selection_method='eom',\n",
    "    prediction_data=True,)\n",
    "\n",
    "# Step 3 - Cluster reduced embeddings with KMeans\n",
    "# hdbscan_model = KMeans(n_clusters=100, random_state=42)\n",
    "\n",
    "# Step 4 - Tokenize topics\n",
    "vectorizer_model = CountVectorizer(stop_words=\"english\")\n",
    "\n",
    "# Step 5 - Create topic representation\n",
    "ctfidf_model = ClassTfidfTransformer(reduce_frequent_words=True)\n",
    "\n",
    "# Step 6 - (Optional) Fine-tune topic representations with \n",
    "# a `bertopic.representation` model\n",
    "# representation_model = KeyBERTInspired()\n",
    "representation_model = MaximalMarginalRelevance(diversity=0.8)\n",
    "\n",
    "# All steps together\n",
    "topic_model = BERTopic(\n",
    "  embedding_model=embedding_model,          # Step 1 - Extract embeddings\n",
    "  umap_model=umap_model,                    # Step 2 - Reduce dimensionality\n",
    "  hdbscan_model=hdbscan_model,              # Step 3 - Cluster reduced embeddings\n",
    "  vectorizer_model=vectorizer_model,        # Step 4 - Tokenize topics\n",
    "  ctfidf_model=ctfidf_model,                # Step 5 - Extract topic words\n",
    "  representation_model=representation_model, # Step 6 - (Optional) Fine-tune topic representations\n",
    "  #nr_topics=\"25\",\n",
    "  calculate_probabilities=True,\n",
    "  n_gram_range=(1, 3)\n",
    ")"
   ]
  },
  {
   "cell_type": "code",
   "execution_count": 158,
   "metadata": {},
   "outputs": [
    {
     "data": {
      "text/html": [
       "<div>\n",
       "<style scoped>\n",
       "    .dataframe tbody tr th:only-of-type {\n",
       "        vertical-align: middle;\n",
       "    }\n",
       "\n",
       "    .dataframe tbody tr th {\n",
       "        vertical-align: top;\n",
       "    }\n",
       "\n",
       "    .dataframe thead th {\n",
       "        text-align: right;\n",
       "    }\n",
       "</style>\n",
       "<table border=\"1\" class=\"dataframe\">\n",
       "  <thead>\n",
       "    <tr style=\"text-align: right;\">\n",
       "      <th></th>\n",
       "      <th>ID</th>\n",
       "      <th>Title</th>\n",
       "      <th>Date</th>\n",
       "      <th>Body</th>\n",
       "      <th>Term</th>\n",
       "      <th>Session</th>\n",
       "      <th>Meeting</th>\n",
       "      <th>Sitting</th>\n",
       "      <th>Agenda</th>\n",
       "      <th>Subcorpus</th>\n",
       "      <th>...</th>\n",
       "      <th>Speaker_party</th>\n",
       "      <th>Speaker_party_name</th>\n",
       "      <th>Party_status</th>\n",
       "      <th>Speaker_name</th>\n",
       "      <th>Speaker_gender</th>\n",
       "      <th>Speaker_birth</th>\n",
       "      <th>speech</th>\n",
       "      <th>speech_split</th>\n",
       "      <th>sentiment</th>\n",
       "      <th>speech_length</th>\n",
       "    </tr>\n",
       "  </thead>\n",
       "  <tbody>\n",
       "    <tr>\n",
       "      <th>0</th>\n",
       "      <td>ParlaMint-GB_2017-11-20-commons.u520</td>\n",
       "      <td>Minutes of the House of Commons, Daily Session...</td>\n",
       "      <td>2017-11-20</td>\n",
       "      <td>Lower house</td>\n",
       "      <td>57</td>\n",
       "      <td>NaN</td>\n",
       "      <td>NaN</td>\n",
       "      <td>2017-11-20</td>\n",
       "      <td>NaN</td>\n",
       "      <td>Reference</td>\n",
       "      <td>...</td>\n",
       "      <td>CON</td>\n",
       "      <td>Conservative</td>\n",
       "      <td>NaN</td>\n",
       "      <td>Morgan, Nicky</td>\n",
       "      <td>F</td>\n",
       "      <td>-</td>\n",
       "      <td>I am grateful to be granted this Adjournment d...</td>\n",
       "      <td>I was therefore pleased to publish the Govern...</td>\n",
       "      <td>0.711426</td>\n",
       "      <td>2168</td>\n",
       "    </tr>\n",
       "    <tr>\n",
       "      <th>1</th>\n",
       "      <td>ParlaMint-GB_2017-11-20-commons.u522</td>\n",
       "      <td>Minutes of the House of Commons, Daily Session...</td>\n",
       "      <td>2017-11-20</td>\n",
       "      <td>Lower house</td>\n",
       "      <td>57</td>\n",
       "      <td>NaN</td>\n",
       "      <td>NaN</td>\n",
       "      <td>2017-11-20</td>\n",
       "      <td>NaN</td>\n",
       "      <td>Reference</td>\n",
       "      <td>...</td>\n",
       "      <td>CON</td>\n",
       "      <td>Conservative</td>\n",
       "      <td>NaN</td>\n",
       "      <td>Morgan, Nicky</td>\n",
       "      <td>F</td>\n",
       "      <td>-</td>\n",
       "      <td>I thank my hon. Friend very much for that. I a...</td>\n",
       "      <td>Friend very much for that. I am going on to s...</td>\n",
       "      <td>0.693848</td>\n",
       "      <td>446</td>\n",
       "    </tr>\n",
       "    <tr>\n",
       "      <th>2</th>\n",
       "      <td>ParlaMint-GB_2017-11-20-commons.u524</td>\n",
       "      <td>Minutes of the House of Commons, Daily Session...</td>\n",
       "      <td>2017-11-20</td>\n",
       "      <td>Lower house</td>\n",
       "      <td>57</td>\n",
       "      <td>NaN</td>\n",
       "      <td>NaN</td>\n",
       "      <td>2017-11-20</td>\n",
       "      <td>NaN</td>\n",
       "      <td>Reference</td>\n",
       "      <td>...</td>\n",
       "      <td>CON</td>\n",
       "      <td>Conservative</td>\n",
       "      <td>NaN</td>\n",
       "      <td>Morgan, Nicky</td>\n",
       "      <td>F</td>\n",
       "      <td>-</td>\n",
       "      <td>I agree very much with what the hon. Gentleman...</td>\n",
       "      <td>Gentleman says, and I know that he is a great...</td>\n",
       "      <td>0.515137</td>\n",
       "      <td>9435</td>\n",
       "    </tr>\n",
       "    <tr>\n",
       "      <th>3</th>\n",
       "      <td>ParlaMint-GB_2017-11-20-commons.u525</td>\n",
       "      <td>Minutes of the House of Commons, Daily Session...</td>\n",
       "      <td>2017-11-20</td>\n",
       "      <td>Lower house</td>\n",
       "      <td>57</td>\n",
       "      <td>NaN</td>\n",
       "      <td>NaN</td>\n",
       "      <td>2017-11-20</td>\n",
       "      <td>NaN</td>\n",
       "      <td>Reference</td>\n",
       "      <td>...</td>\n",
       "      <td>CON</td>\n",
       "      <td>Conservative</td>\n",
       "      <td>NaN</td>\n",
       "      <td>James, Margot Cathleen</td>\n",
       "      <td>F</td>\n",
       "      <td>-</td>\n",
       "      <td>I thank my right hon. Friend the Member for Lo...</td>\n",
       "      <td>Friend the Member for Loughborough (Nicky Mor...</td>\n",
       "      <td>0.797363</td>\n",
       "      <td>5917</td>\n",
       "    </tr>\n",
       "    <tr>\n",
       "      <th>4</th>\n",
       "      <td>ParlaMint-GB_2017-11-20-commons.u527</td>\n",
       "      <td>Minutes of the House of Commons, Daily Session...</td>\n",
       "      <td>2017-11-20</td>\n",
       "      <td>Lower house</td>\n",
       "      <td>57</td>\n",
       "      <td>NaN</td>\n",
       "      <td>NaN</td>\n",
       "      <td>2017-11-20</td>\n",
       "      <td>NaN</td>\n",
       "      <td>Reference</td>\n",
       "      <td>...</td>\n",
       "      <td>CON</td>\n",
       "      <td>Conservative</td>\n",
       "      <td>NaN</td>\n",
       "      <td>James, Margot Cathleen</td>\n",
       "      <td>F</td>\n",
       "      <td>-</td>\n",
       "      <td>I will certainly consider what my right hon. F...</td>\n",
       "      <td>Friend said; she certainly makes a powerful c...</td>\n",
       "      <td>0.735840</td>\n",
       "      <td>797</td>\n",
       "    </tr>\n",
       "  </tbody>\n",
       "</table>\n",
       "<p>5 rows × 23 columns</p>\n",
       "</div>"
      ],
      "text/plain": [
       "                                     ID  \\\n",
       "0  ParlaMint-GB_2017-11-20-commons.u520   \n",
       "1  ParlaMint-GB_2017-11-20-commons.u522   \n",
       "2  ParlaMint-GB_2017-11-20-commons.u524   \n",
       "3  ParlaMint-GB_2017-11-20-commons.u525   \n",
       "4  ParlaMint-GB_2017-11-20-commons.u527   \n",
       "\n",
       "                                               Title        Date         Body  \\\n",
       "0  Minutes of the House of Commons, Daily Session...  2017-11-20  Lower house   \n",
       "1  Minutes of the House of Commons, Daily Session...  2017-11-20  Lower house   \n",
       "2  Minutes of the House of Commons, Daily Session...  2017-11-20  Lower house   \n",
       "3  Minutes of the House of Commons, Daily Session...  2017-11-20  Lower house   \n",
       "4  Minutes of the House of Commons, Daily Session...  2017-11-20  Lower house   \n",
       "\n",
       "   Term  Session  Meeting     Sitting  Agenda  Subcorpus  ... Speaker_party  \\\n",
       "0    57      NaN      NaN  2017-11-20     NaN  Reference  ...           CON   \n",
       "1    57      NaN      NaN  2017-11-20     NaN  Reference  ...           CON   \n",
       "2    57      NaN      NaN  2017-11-20     NaN  Reference  ...           CON   \n",
       "3    57      NaN      NaN  2017-11-20     NaN  Reference  ...           CON   \n",
       "4    57      NaN      NaN  2017-11-20     NaN  Reference  ...           CON   \n",
       "\n",
       "  Speaker_party_name Party_status            Speaker_name Speaker_gender  \\\n",
       "0       Conservative          NaN           Morgan, Nicky              F   \n",
       "1       Conservative          NaN           Morgan, Nicky              F   \n",
       "2       Conservative          NaN           Morgan, Nicky              F   \n",
       "3       Conservative          NaN  James, Margot Cathleen              F   \n",
       "4       Conservative          NaN  James, Margot Cathleen              F   \n",
       "\n",
       "  Speaker_birth                                             speech  \\\n",
       "0             -  I am grateful to be granted this Adjournment d...   \n",
       "1             -  I thank my hon. Friend very much for that. I a...   \n",
       "2             -  I agree very much with what the hon. Gentleman...   \n",
       "3             -  I thank my right hon. Friend the Member for Lo...   \n",
       "4             -  I will certainly consider what my right hon. F...   \n",
       "\n",
       "                                        speech_split sentiment speech_length  \n",
       "0   I was therefore pleased to publish the Govern...  0.711426          2168  \n",
       "1   Friend very much for that. I am going on to s...  0.693848           446  \n",
       "2   Gentleman says, and I know that he is a great...  0.515137          9435  \n",
       "3   Friend the Member for Loughborough (Nicky Mor...  0.797363          5917  \n",
       "4   Friend said; she certainly makes a powerful c...  0.735840           797  \n",
       "\n",
       "[5 rows x 23 columns]"
      ]
     },
     "execution_count": 158,
     "metadata": {},
     "output_type": "execute_result"
    }
   ],
   "source": [
    "df = pd.read_csv(f'../data/{THEME}.csv')\n",
    "df.head()"
   ]
  },
  {
   "cell_type": "code",
   "execution_count": 159,
   "metadata": {},
   "outputs": [],
   "source": [
    "# Reference running time for this cell: 37s\n",
    "topics, probs = topic_model.fit_transform(df['speech'])\n"
   ]
  },
  {
   "cell_type": "code",
   "execution_count": 160,
   "metadata": {},
   "outputs": [],
   "source": [
    "# Reduce outliers\n",
    "new_topics = topic_model.reduce_outliers(df['speech'], topics, strategy=\"c-tf-idf\", threshold=0.05)"
   ]
  },
  {
   "cell_type": "code",
   "execution_count": 161,
   "metadata": {},
   "outputs": [
    {
     "data": {
      "text/plain": [
       " 0     748\n",
       " 1     689\n",
       " 2     333\n",
       " 3     303\n",
       " 5     250\n",
       " 4     248\n",
       " 7     203\n",
       " 6     193\n",
       " 8     172\n",
       " 9     127\n",
       " 10    110\n",
       " 11     92\n",
       " 15     82\n",
       " 12     72\n",
       " 13     59\n",
       " 14     57\n",
       "-1       2\n",
       "dtype: int64"
      ]
     },
     "execution_count": 161,
     "metadata": {},
     "output_type": "execute_result"
    }
   ],
   "source": [
    "pd.Series(new_topics).value_counts()"
   ]
  },
  {
   "cell_type": "code",
   "execution_count": 162,
   "metadata": {},
   "outputs": [],
   "source": [
    "#topic_model.save(f\"../data/topic_model_epsilon{HDBSCAN_CLUSTER_SELECTION_EPSILON}_clustersize{HDBSCAN_MIN_CLUSTER_SIZE}.bin\")"
   ]
  },
  {
   "cell_type": "code",
   "execution_count": 163,
   "metadata": {},
   "outputs": [],
   "source": [
    "#topic_model = BERTopic.load(\"../data/topic_model_epsilon0_clustersize50.bin\")"
   ]
  },
  {
   "cell_type": "code",
   "execution_count": 164,
   "metadata": {},
   "outputs": [
    {
     "name": "stdout",
     "output_type": "stream",
     "text": [
      "Number of topics before: 17\n",
      "Number of topics before: 17\n"
     ]
    }
   ],
   "source": [
    "# Number of topics\n",
    "print(f\"Number of topics before: {len(pd.Series(topics).unique())}\")\n",
    "print(f\"Number of topics before: {len(pd.Series(new_topics).unique())}\")"
   ]
  },
  {
   "cell_type": "code",
   "execution_count": 165,
   "metadata": {},
   "outputs": [
    {
     "data": {
      "text/plain": [
       "-1     773\n",
       " 0     625\n",
       " 13    469\n",
       " 1     275\n",
       " 3     271\n",
       " 8     224\n",
       " 15    160\n",
       " 9     156\n",
       " 6     153\n",
       " 14    131\n",
       " 10     99\n",
       " 11     87\n",
       " 2      87\n",
       " 12     65\n",
       " 4      58\n",
       " 7      54\n",
       " 5      53\n",
       "dtype: int64"
      ]
     },
     "execution_count": 165,
     "metadata": {},
     "output_type": "execute_result"
    }
   ],
   "source": [
    "# The count of speeches per topic. -1 is the noise(outlier) topic\n",
    "pd.Series(topic_model.hdbscan_model.labels_).value_counts()"
   ]
  },
  {
   "cell_type": "code",
   "execution_count": 166,
   "metadata": {},
   "outputs": [
    {
     "data": {
      "application/vnd.plotly.v1+json": {
       "config": {
        "plotlyServerURL": "https://plot.ly"
       },
       "data": [
        {
         "customdata": [
          [
           0,
           "lgbt | rights | ireland | human | hon",
           625
          ],
          [
           1,
           "gap | employers | reporting | equality | hon",
           469
          ],
          [
           2,
           "transgender | recognition | care | prisoners | 2004",
           275
          ],
          [
           3,
           "victims | sexual | convention | based | istanbul",
           271
          ],
          [
           4,
           "member | friend | armed | jo | building",
           224
          ],
          [
           5,
           "woman | international | hon | celebrate | friend",
           160
          ],
          [
           6,
           "young | guidance | primary | sre | people",
           156
          ],
          [
           7,
           "trade | climate | european | junior | referendum",
           153
          ],
          [
           8,
           "women | tax | impact | chancellor | gap",
           131
          ],
          [
           9,
           "online | bullying | platforms | young | facebook",
           99
          ],
          [
           10,
           "billion | chancellor | growth | year | income",
           87
          ],
          [
           11,
           "hiv | poppers | conversion | ban | therapy",
           87
          ],
          [
           12,
           "orlando | proscription | isil | security | intelligence",
           65
          ],
          [
           13,
           "pensions | schemes | expectancy | equalisation | women",
           58
          ],
          [
           14,
           "holocaust | memorial | remember | roma | day",
           54
          ],
          [
           15,
           "domestic | amendment | subsection | clause | relevant",
           53
          ]
         ],
         "hovertemplate": "<b>Topic %{customdata[0]}</b><br>%{customdata[1]}<br>Size: %{customdata[2]}",
         "legendgroup": "",
         "marker": {
          "color": "#B0BEC5",
          "line": {
           "color": "DarkSlateGrey",
           "width": 2
          },
          "size": [
           625,
           469,
           275,
           271,
           224,
           160,
           156,
           153,
           131,
           99,
           87,
           87,
           65,
           58,
           54,
           53
          ],
          "sizemode": "area",
          "sizeref": 0.390625,
          "symbol": "circle"
         },
         "mode": "markers",
         "name": "",
         "orientation": "v",
         "showlegend": false,
         "type": "scatter",
         "x": [
          15.410147666931152,
          0.5240740776062012,
          5.863814353942871,
          7.2011332511901855,
          15.540791511535645,
          0.4318788945674896,
          5.453824520111084,
          8.101791381835938,
          0.9194939136505127,
          6.396733283996582,
          8.209218978881836,
          5.461984157562256,
          7.205684661865234,
          1.2053742408752441,
          6.690596580505371,
          6.911845684051514
         ],
         "xaxis": "x",
         "y": [
          3.315159559249878,
          14.238224029541016,
          -6.204859256744385,
          -7.16229772567749,
          3.4457850456237793,
          14.33019733428955,
          -5.902638912200928,
          0.8792183995246887,
          13.845208168029785,
          -6.320559978485107,
          0.9866097569465637,
          -6.563925743103027,
          -6.842362880706787,
          13.559769630432129,
          -6.909541606903076,
          -7.500176429748535
         ],
         "yaxis": "y"
        }
       ],
       "layout": {
        "annotations": [
         {
          "showarrow": false,
          "text": "D1",
          "x": 0.36709706038236617,
          "y": 3.9272620201110833,
          "yshift": 10
         },
         {
          "showarrow": false,
          "text": "D2",
          "x": 9.119503649324178,
          "xshift": 10,
          "y": 16.479726934432982
         }
        ],
        "height": 650,
        "hoverlabel": {
         "bgcolor": "white",
         "font": {
          "family": "Rockwell",
          "size": 16
         }
        },
        "legend": {
         "itemsizing": "constant",
         "tracegroupgap": 0
        },
        "margin": {
         "t": 60
        },
        "shapes": [
         {
          "line": {
           "color": "#CFD8DC",
           "width": 2
          },
          "type": "line",
          "x0": 9.119503649324178,
          "x1": 9.119503649324178,
          "y0": -8.625202894210815,
          "y1": 16.479726934432982
         },
         {
          "line": {
           "color": "#9E9E9E",
           "width": 2
          },
          "type": "line",
          "x0": 0.36709706038236617,
          "x1": 17.87191023826599,
          "y0": 3.9272620201110833,
          "y1": 3.9272620201110833
         }
        ],
        "sliders": [
         {
          "active": 0,
          "pad": {
           "t": 50
          },
          "steps": [
           {
            "args": [
             {
              "marker.color": [
               [
                "red",
                "#B0BEC5",
                "#B0BEC5",
                "#B0BEC5",
                "#B0BEC5",
                "#B0BEC5",
                "#B0BEC5",
                "#B0BEC5",
                "#B0BEC5",
                "#B0BEC5",
                "#B0BEC5",
                "#B0BEC5",
                "#B0BEC5",
                "#B0BEC5",
                "#B0BEC5",
                "#B0BEC5"
               ]
              ]
             }
            ],
            "label": "Topic 0",
            "method": "update"
           },
           {
            "args": [
             {
              "marker.color": [
               [
                "#B0BEC5",
                "red",
                "#B0BEC5",
                "#B0BEC5",
                "#B0BEC5",
                "#B0BEC5",
                "#B0BEC5",
                "#B0BEC5",
                "#B0BEC5",
                "#B0BEC5",
                "#B0BEC5",
                "#B0BEC5",
                "#B0BEC5",
                "#B0BEC5",
                "#B0BEC5",
                "#B0BEC5"
               ]
              ]
             }
            ],
            "label": "Topic 1",
            "method": "update"
           },
           {
            "args": [
             {
              "marker.color": [
               [
                "#B0BEC5",
                "#B0BEC5",
                "red",
                "#B0BEC5",
                "#B0BEC5",
                "#B0BEC5",
                "#B0BEC5",
                "#B0BEC5",
                "#B0BEC5",
                "#B0BEC5",
                "#B0BEC5",
                "#B0BEC5",
                "#B0BEC5",
                "#B0BEC5",
                "#B0BEC5",
                "#B0BEC5"
               ]
              ]
             }
            ],
            "label": "Topic 2",
            "method": "update"
           },
           {
            "args": [
             {
              "marker.color": [
               [
                "#B0BEC5",
                "#B0BEC5",
                "#B0BEC5",
                "red",
                "#B0BEC5",
                "#B0BEC5",
                "#B0BEC5",
                "#B0BEC5",
                "#B0BEC5",
                "#B0BEC5",
                "#B0BEC5",
                "#B0BEC5",
                "#B0BEC5",
                "#B0BEC5",
                "#B0BEC5",
                "#B0BEC5"
               ]
              ]
             }
            ],
            "label": "Topic 3",
            "method": "update"
           },
           {
            "args": [
             {
              "marker.color": [
               [
                "#B0BEC5",
                "#B0BEC5",
                "#B0BEC5",
                "#B0BEC5",
                "red",
                "#B0BEC5",
                "#B0BEC5",
                "#B0BEC5",
                "#B0BEC5",
                "#B0BEC5",
                "#B0BEC5",
                "#B0BEC5",
                "#B0BEC5",
                "#B0BEC5",
                "#B0BEC5",
                "#B0BEC5"
               ]
              ]
             }
            ],
            "label": "Topic 4",
            "method": "update"
           },
           {
            "args": [
             {
              "marker.color": [
               [
                "#B0BEC5",
                "#B0BEC5",
                "#B0BEC5",
                "#B0BEC5",
                "#B0BEC5",
                "red",
                "#B0BEC5",
                "#B0BEC5",
                "#B0BEC5",
                "#B0BEC5",
                "#B0BEC5",
                "#B0BEC5",
                "#B0BEC5",
                "#B0BEC5",
                "#B0BEC5",
                "#B0BEC5"
               ]
              ]
             }
            ],
            "label": "Topic 5",
            "method": "update"
           },
           {
            "args": [
             {
              "marker.color": [
               [
                "#B0BEC5",
                "#B0BEC5",
                "#B0BEC5",
                "#B0BEC5",
                "#B0BEC5",
                "#B0BEC5",
                "red",
                "#B0BEC5",
                "#B0BEC5",
                "#B0BEC5",
                "#B0BEC5",
                "#B0BEC5",
                "#B0BEC5",
                "#B0BEC5",
                "#B0BEC5",
                "#B0BEC5"
               ]
              ]
             }
            ],
            "label": "Topic 6",
            "method": "update"
           },
           {
            "args": [
             {
              "marker.color": [
               [
                "#B0BEC5",
                "#B0BEC5",
                "#B0BEC5",
                "#B0BEC5",
                "#B0BEC5",
                "#B0BEC5",
                "#B0BEC5",
                "red",
                "#B0BEC5",
                "#B0BEC5",
                "#B0BEC5",
                "#B0BEC5",
                "#B0BEC5",
                "#B0BEC5",
                "#B0BEC5",
                "#B0BEC5"
               ]
              ]
             }
            ],
            "label": "Topic 7",
            "method": "update"
           },
           {
            "args": [
             {
              "marker.color": [
               [
                "#B0BEC5",
                "#B0BEC5",
                "#B0BEC5",
                "#B0BEC5",
                "#B0BEC5",
                "#B0BEC5",
                "#B0BEC5",
                "#B0BEC5",
                "red",
                "#B0BEC5",
                "#B0BEC5",
                "#B0BEC5",
                "#B0BEC5",
                "#B0BEC5",
                "#B0BEC5",
                "#B0BEC5"
               ]
              ]
             }
            ],
            "label": "Topic 8",
            "method": "update"
           },
           {
            "args": [
             {
              "marker.color": [
               [
                "#B0BEC5",
                "#B0BEC5",
                "#B0BEC5",
                "#B0BEC5",
                "#B0BEC5",
                "#B0BEC5",
                "#B0BEC5",
                "#B0BEC5",
                "#B0BEC5",
                "red",
                "#B0BEC5",
                "#B0BEC5",
                "#B0BEC5",
                "#B0BEC5",
                "#B0BEC5",
                "#B0BEC5"
               ]
              ]
             }
            ],
            "label": "Topic 9",
            "method": "update"
           },
           {
            "args": [
             {
              "marker.color": [
               [
                "#B0BEC5",
                "#B0BEC5",
                "#B0BEC5",
                "#B0BEC5",
                "#B0BEC5",
                "#B0BEC5",
                "#B0BEC5",
                "#B0BEC5",
                "#B0BEC5",
                "#B0BEC5",
                "red",
                "#B0BEC5",
                "#B0BEC5",
                "#B0BEC5",
                "#B0BEC5",
                "#B0BEC5"
               ]
              ]
             }
            ],
            "label": "Topic 10",
            "method": "update"
           },
           {
            "args": [
             {
              "marker.color": [
               [
                "#B0BEC5",
                "#B0BEC5",
                "#B0BEC5",
                "#B0BEC5",
                "#B0BEC5",
                "#B0BEC5",
                "#B0BEC5",
                "#B0BEC5",
                "#B0BEC5",
                "#B0BEC5",
                "#B0BEC5",
                "red",
                "#B0BEC5",
                "#B0BEC5",
                "#B0BEC5",
                "#B0BEC5"
               ]
              ]
             }
            ],
            "label": "Topic 11",
            "method": "update"
           },
           {
            "args": [
             {
              "marker.color": [
               [
                "#B0BEC5",
                "#B0BEC5",
                "#B0BEC5",
                "#B0BEC5",
                "#B0BEC5",
                "#B0BEC5",
                "#B0BEC5",
                "#B0BEC5",
                "#B0BEC5",
                "#B0BEC5",
                "#B0BEC5",
                "#B0BEC5",
                "red",
                "#B0BEC5",
                "#B0BEC5",
                "#B0BEC5"
               ]
              ]
             }
            ],
            "label": "Topic 12",
            "method": "update"
           },
           {
            "args": [
             {
              "marker.color": [
               [
                "#B0BEC5",
                "#B0BEC5",
                "#B0BEC5",
                "#B0BEC5",
                "#B0BEC5",
                "#B0BEC5",
                "#B0BEC5",
                "#B0BEC5",
                "#B0BEC5",
                "#B0BEC5",
                "#B0BEC5",
                "#B0BEC5",
                "#B0BEC5",
                "red",
                "#B0BEC5",
                "#B0BEC5"
               ]
              ]
             }
            ],
            "label": "Topic 13",
            "method": "update"
           },
           {
            "args": [
             {
              "marker.color": [
               [
                "#B0BEC5",
                "#B0BEC5",
                "#B0BEC5",
                "#B0BEC5",
                "#B0BEC5",
                "#B0BEC5",
                "#B0BEC5",
                "#B0BEC5",
                "#B0BEC5",
                "#B0BEC5",
                "#B0BEC5",
                "#B0BEC5",
                "#B0BEC5",
                "#B0BEC5",
                "red",
                "#B0BEC5"
               ]
              ]
             }
            ],
            "label": "Topic 14",
            "method": "update"
           },
           {
            "args": [
             {
              "marker.color": [
               [
                "#B0BEC5",
                "#B0BEC5",
                "#B0BEC5",
                "#B0BEC5",
                "#B0BEC5",
                "#B0BEC5",
                "#B0BEC5",
                "#B0BEC5",
                "#B0BEC5",
                "#B0BEC5",
                "#B0BEC5",
                "#B0BEC5",
                "#B0BEC5",
                "#B0BEC5",
                "#B0BEC5",
                "red"
               ]
              ]
             }
            ],
            "label": "Topic 15",
            "method": "update"
           }
          ]
         }
        ],
        "template": {
         "data": {
          "bar": [
           {
            "error_x": {
             "color": "rgb(36,36,36)"
            },
            "error_y": {
             "color": "rgb(36,36,36)"
            },
            "marker": {
             "line": {
              "color": "white",
              "width": 0.5
             },
             "pattern": {
              "fillmode": "overlay",
              "size": 10,
              "solidity": 0.2
             }
            },
            "type": "bar"
           }
          ],
          "barpolar": [
           {
            "marker": {
             "line": {
              "color": "white",
              "width": 0.5
             },
             "pattern": {
              "fillmode": "overlay",
              "size": 10,
              "solidity": 0.2
             }
            },
            "type": "barpolar"
           }
          ],
          "carpet": [
           {
            "aaxis": {
             "endlinecolor": "rgb(36,36,36)",
             "gridcolor": "white",
             "linecolor": "white",
             "minorgridcolor": "white",
             "startlinecolor": "rgb(36,36,36)"
            },
            "baxis": {
             "endlinecolor": "rgb(36,36,36)",
             "gridcolor": "white",
             "linecolor": "white",
             "minorgridcolor": "white",
             "startlinecolor": "rgb(36,36,36)"
            },
            "type": "carpet"
           }
          ],
          "choropleth": [
           {
            "colorbar": {
             "outlinewidth": 1,
             "tickcolor": "rgb(36,36,36)",
             "ticks": "outside"
            },
            "type": "choropleth"
           }
          ],
          "contour": [
           {
            "colorbar": {
             "outlinewidth": 1,
             "tickcolor": "rgb(36,36,36)",
             "ticks": "outside"
            },
            "colorscale": [
             [
              0,
              "#440154"
             ],
             [
              0.1111111111111111,
              "#482878"
             ],
             [
              0.2222222222222222,
              "#3e4989"
             ],
             [
              0.3333333333333333,
              "#31688e"
             ],
             [
              0.4444444444444444,
              "#26828e"
             ],
             [
              0.5555555555555556,
              "#1f9e89"
             ],
             [
              0.6666666666666666,
              "#35b779"
             ],
             [
              0.7777777777777778,
              "#6ece58"
             ],
             [
              0.8888888888888888,
              "#b5de2b"
             ],
             [
              1,
              "#fde725"
             ]
            ],
            "type": "contour"
           }
          ],
          "contourcarpet": [
           {
            "colorbar": {
             "outlinewidth": 1,
             "tickcolor": "rgb(36,36,36)",
             "ticks": "outside"
            },
            "type": "contourcarpet"
           }
          ],
          "heatmap": [
           {
            "colorbar": {
             "outlinewidth": 1,
             "tickcolor": "rgb(36,36,36)",
             "ticks": "outside"
            },
            "colorscale": [
             [
              0,
              "#440154"
             ],
             [
              0.1111111111111111,
              "#482878"
             ],
             [
              0.2222222222222222,
              "#3e4989"
             ],
             [
              0.3333333333333333,
              "#31688e"
             ],
             [
              0.4444444444444444,
              "#26828e"
             ],
             [
              0.5555555555555556,
              "#1f9e89"
             ],
             [
              0.6666666666666666,
              "#35b779"
             ],
             [
              0.7777777777777778,
              "#6ece58"
             ],
             [
              0.8888888888888888,
              "#b5de2b"
             ],
             [
              1,
              "#fde725"
             ]
            ],
            "type": "heatmap"
           }
          ],
          "heatmapgl": [
           {
            "colorbar": {
             "outlinewidth": 1,
             "tickcolor": "rgb(36,36,36)",
             "ticks": "outside"
            },
            "colorscale": [
             [
              0,
              "#440154"
             ],
             [
              0.1111111111111111,
              "#482878"
             ],
             [
              0.2222222222222222,
              "#3e4989"
             ],
             [
              0.3333333333333333,
              "#31688e"
             ],
             [
              0.4444444444444444,
              "#26828e"
             ],
             [
              0.5555555555555556,
              "#1f9e89"
             ],
             [
              0.6666666666666666,
              "#35b779"
             ],
             [
              0.7777777777777778,
              "#6ece58"
             ],
             [
              0.8888888888888888,
              "#b5de2b"
             ],
             [
              1,
              "#fde725"
             ]
            ],
            "type": "heatmapgl"
           }
          ],
          "histogram": [
           {
            "marker": {
             "line": {
              "color": "white",
              "width": 0.6
             }
            },
            "type": "histogram"
           }
          ],
          "histogram2d": [
           {
            "colorbar": {
             "outlinewidth": 1,
             "tickcolor": "rgb(36,36,36)",
             "ticks": "outside"
            },
            "colorscale": [
             [
              0,
              "#440154"
             ],
             [
              0.1111111111111111,
              "#482878"
             ],
             [
              0.2222222222222222,
              "#3e4989"
             ],
             [
              0.3333333333333333,
              "#31688e"
             ],
             [
              0.4444444444444444,
              "#26828e"
             ],
             [
              0.5555555555555556,
              "#1f9e89"
             ],
             [
              0.6666666666666666,
              "#35b779"
             ],
             [
              0.7777777777777778,
              "#6ece58"
             ],
             [
              0.8888888888888888,
              "#b5de2b"
             ],
             [
              1,
              "#fde725"
             ]
            ],
            "type": "histogram2d"
           }
          ],
          "histogram2dcontour": [
           {
            "colorbar": {
             "outlinewidth": 1,
             "tickcolor": "rgb(36,36,36)",
             "ticks": "outside"
            },
            "colorscale": [
             [
              0,
              "#440154"
             ],
             [
              0.1111111111111111,
              "#482878"
             ],
             [
              0.2222222222222222,
              "#3e4989"
             ],
             [
              0.3333333333333333,
              "#31688e"
             ],
             [
              0.4444444444444444,
              "#26828e"
             ],
             [
              0.5555555555555556,
              "#1f9e89"
             ],
             [
              0.6666666666666666,
              "#35b779"
             ],
             [
              0.7777777777777778,
              "#6ece58"
             ],
             [
              0.8888888888888888,
              "#b5de2b"
             ],
             [
              1,
              "#fde725"
             ]
            ],
            "type": "histogram2dcontour"
           }
          ],
          "mesh3d": [
           {
            "colorbar": {
             "outlinewidth": 1,
             "tickcolor": "rgb(36,36,36)",
             "ticks": "outside"
            },
            "type": "mesh3d"
           }
          ],
          "parcoords": [
           {
            "line": {
             "colorbar": {
              "outlinewidth": 1,
              "tickcolor": "rgb(36,36,36)",
              "ticks": "outside"
             }
            },
            "type": "parcoords"
           }
          ],
          "pie": [
           {
            "automargin": true,
            "type": "pie"
           }
          ],
          "scatter": [
           {
            "fillpattern": {
             "fillmode": "overlay",
             "size": 10,
             "solidity": 0.2
            },
            "type": "scatter"
           }
          ],
          "scatter3d": [
           {
            "line": {
             "colorbar": {
              "outlinewidth": 1,
              "tickcolor": "rgb(36,36,36)",
              "ticks": "outside"
             }
            },
            "marker": {
             "colorbar": {
              "outlinewidth": 1,
              "tickcolor": "rgb(36,36,36)",
              "ticks": "outside"
             }
            },
            "type": "scatter3d"
           }
          ],
          "scattercarpet": [
           {
            "marker": {
             "colorbar": {
              "outlinewidth": 1,
              "tickcolor": "rgb(36,36,36)",
              "ticks": "outside"
             }
            },
            "type": "scattercarpet"
           }
          ],
          "scattergeo": [
           {
            "marker": {
             "colorbar": {
              "outlinewidth": 1,
              "tickcolor": "rgb(36,36,36)",
              "ticks": "outside"
             }
            },
            "type": "scattergeo"
           }
          ],
          "scattergl": [
           {
            "marker": {
             "colorbar": {
              "outlinewidth": 1,
              "tickcolor": "rgb(36,36,36)",
              "ticks": "outside"
             }
            },
            "type": "scattergl"
           }
          ],
          "scattermapbox": [
           {
            "marker": {
             "colorbar": {
              "outlinewidth": 1,
              "tickcolor": "rgb(36,36,36)",
              "ticks": "outside"
             }
            },
            "type": "scattermapbox"
           }
          ],
          "scatterpolar": [
           {
            "marker": {
             "colorbar": {
              "outlinewidth": 1,
              "tickcolor": "rgb(36,36,36)",
              "ticks": "outside"
             }
            },
            "type": "scatterpolar"
           }
          ],
          "scatterpolargl": [
           {
            "marker": {
             "colorbar": {
              "outlinewidth": 1,
              "tickcolor": "rgb(36,36,36)",
              "ticks": "outside"
             }
            },
            "type": "scatterpolargl"
           }
          ],
          "scatterternary": [
           {
            "marker": {
             "colorbar": {
              "outlinewidth": 1,
              "tickcolor": "rgb(36,36,36)",
              "ticks": "outside"
             }
            },
            "type": "scatterternary"
           }
          ],
          "surface": [
           {
            "colorbar": {
             "outlinewidth": 1,
             "tickcolor": "rgb(36,36,36)",
             "ticks": "outside"
            },
            "colorscale": [
             [
              0,
              "#440154"
             ],
             [
              0.1111111111111111,
              "#482878"
             ],
             [
              0.2222222222222222,
              "#3e4989"
             ],
             [
              0.3333333333333333,
              "#31688e"
             ],
             [
              0.4444444444444444,
              "#26828e"
             ],
             [
              0.5555555555555556,
              "#1f9e89"
             ],
             [
              0.6666666666666666,
              "#35b779"
             ],
             [
              0.7777777777777778,
              "#6ece58"
             ],
             [
              0.8888888888888888,
              "#b5de2b"
             ],
             [
              1,
              "#fde725"
             ]
            ],
            "type": "surface"
           }
          ],
          "table": [
           {
            "cells": {
             "fill": {
              "color": "rgb(237,237,237)"
             },
             "line": {
              "color": "white"
             }
            },
            "header": {
             "fill": {
              "color": "rgb(217,217,217)"
             },
             "line": {
              "color": "white"
             }
            },
            "type": "table"
           }
          ]
         },
         "layout": {
          "annotationdefaults": {
           "arrowhead": 0,
           "arrowwidth": 1
          },
          "autotypenumbers": "strict",
          "coloraxis": {
           "colorbar": {
            "outlinewidth": 1,
            "tickcolor": "rgb(36,36,36)",
            "ticks": "outside"
           }
          },
          "colorscale": {
           "diverging": [
            [
             0,
             "rgb(103,0,31)"
            ],
            [
             0.1,
             "rgb(178,24,43)"
            ],
            [
             0.2,
             "rgb(214,96,77)"
            ],
            [
             0.3,
             "rgb(244,165,130)"
            ],
            [
             0.4,
             "rgb(253,219,199)"
            ],
            [
             0.5,
             "rgb(247,247,247)"
            ],
            [
             0.6,
             "rgb(209,229,240)"
            ],
            [
             0.7,
             "rgb(146,197,222)"
            ],
            [
             0.8,
             "rgb(67,147,195)"
            ],
            [
             0.9,
             "rgb(33,102,172)"
            ],
            [
             1,
             "rgb(5,48,97)"
            ]
           ],
           "sequential": [
            [
             0,
             "#440154"
            ],
            [
             0.1111111111111111,
             "#482878"
            ],
            [
             0.2222222222222222,
             "#3e4989"
            ],
            [
             0.3333333333333333,
             "#31688e"
            ],
            [
             0.4444444444444444,
             "#26828e"
            ],
            [
             0.5555555555555556,
             "#1f9e89"
            ],
            [
             0.6666666666666666,
             "#35b779"
            ],
            [
             0.7777777777777778,
             "#6ece58"
            ],
            [
             0.8888888888888888,
             "#b5de2b"
            ],
            [
             1,
             "#fde725"
            ]
           ],
           "sequentialminus": [
            [
             0,
             "#440154"
            ],
            [
             0.1111111111111111,
             "#482878"
            ],
            [
             0.2222222222222222,
             "#3e4989"
            ],
            [
             0.3333333333333333,
             "#31688e"
            ],
            [
             0.4444444444444444,
             "#26828e"
            ],
            [
             0.5555555555555556,
             "#1f9e89"
            ],
            [
             0.6666666666666666,
             "#35b779"
            ],
            [
             0.7777777777777778,
             "#6ece58"
            ],
            [
             0.8888888888888888,
             "#b5de2b"
            ],
            [
             1,
             "#fde725"
            ]
           ]
          },
          "colorway": [
           "#1F77B4",
           "#FF7F0E",
           "#2CA02C",
           "#D62728",
           "#9467BD",
           "#8C564B",
           "#E377C2",
           "#7F7F7F",
           "#BCBD22",
           "#17BECF"
          ],
          "font": {
           "color": "rgb(36,36,36)"
          },
          "geo": {
           "bgcolor": "white",
           "lakecolor": "white",
           "landcolor": "white",
           "showlakes": true,
           "showland": true,
           "subunitcolor": "white"
          },
          "hoverlabel": {
           "align": "left"
          },
          "hovermode": "closest",
          "mapbox": {
           "style": "light"
          },
          "paper_bgcolor": "white",
          "plot_bgcolor": "white",
          "polar": {
           "angularaxis": {
            "gridcolor": "rgb(232,232,232)",
            "linecolor": "rgb(36,36,36)",
            "showgrid": false,
            "showline": true,
            "ticks": "outside"
           },
           "bgcolor": "white",
           "radialaxis": {
            "gridcolor": "rgb(232,232,232)",
            "linecolor": "rgb(36,36,36)",
            "showgrid": false,
            "showline": true,
            "ticks": "outside"
           }
          },
          "scene": {
           "xaxis": {
            "backgroundcolor": "white",
            "gridcolor": "rgb(232,232,232)",
            "gridwidth": 2,
            "linecolor": "rgb(36,36,36)",
            "showbackground": true,
            "showgrid": false,
            "showline": true,
            "ticks": "outside",
            "zeroline": false,
            "zerolinecolor": "rgb(36,36,36)"
           },
           "yaxis": {
            "backgroundcolor": "white",
            "gridcolor": "rgb(232,232,232)",
            "gridwidth": 2,
            "linecolor": "rgb(36,36,36)",
            "showbackground": true,
            "showgrid": false,
            "showline": true,
            "ticks": "outside",
            "zeroline": false,
            "zerolinecolor": "rgb(36,36,36)"
           },
           "zaxis": {
            "backgroundcolor": "white",
            "gridcolor": "rgb(232,232,232)",
            "gridwidth": 2,
            "linecolor": "rgb(36,36,36)",
            "showbackground": true,
            "showgrid": false,
            "showline": true,
            "ticks": "outside",
            "zeroline": false,
            "zerolinecolor": "rgb(36,36,36)"
           }
          },
          "shapedefaults": {
           "fillcolor": "black",
           "line": {
            "width": 0
           },
           "opacity": 0.3
          },
          "ternary": {
           "aaxis": {
            "gridcolor": "rgb(232,232,232)",
            "linecolor": "rgb(36,36,36)",
            "showgrid": false,
            "showline": true,
            "ticks": "outside"
           },
           "baxis": {
            "gridcolor": "rgb(232,232,232)",
            "linecolor": "rgb(36,36,36)",
            "showgrid": false,
            "showline": true,
            "ticks": "outside"
           },
           "bgcolor": "white",
           "caxis": {
            "gridcolor": "rgb(232,232,232)",
            "linecolor": "rgb(36,36,36)",
            "showgrid": false,
            "showline": true,
            "ticks": "outside"
           }
          },
          "title": {
           "x": 0.05
          },
          "xaxis": {
           "automargin": true,
           "gridcolor": "rgb(232,232,232)",
           "linecolor": "rgb(36,36,36)",
           "showgrid": false,
           "showline": true,
           "ticks": "outside",
           "title": {
            "standoff": 15
           },
           "zeroline": false,
           "zerolinecolor": "rgb(36,36,36)"
          },
          "yaxis": {
           "automargin": true,
           "gridcolor": "rgb(232,232,232)",
           "linecolor": "rgb(36,36,36)",
           "showgrid": false,
           "showline": true,
           "ticks": "outside",
           "title": {
            "standoff": 15
           },
           "zeroline": false,
           "zerolinecolor": "rgb(36,36,36)"
          }
         }
        },
        "title": {
         "font": {
          "color": "Black",
          "size": 22
         },
         "text": "<b>Intertopic Distance Map</b>",
         "x": 0.5,
         "xanchor": "center",
         "y": 0.95,
         "yanchor": "top"
        },
        "width": 650,
        "xaxis": {
         "anchor": "y",
         "domain": [
          0,
          1
         ],
         "range": [
          0.36709706038236617,
          17.87191023826599
         ],
         "title": {
          "text": ""
         },
         "visible": false
        },
        "yaxis": {
         "anchor": "x",
         "domain": [
          0,
          1
         ],
         "range": [
          -8.625202894210815,
          16.479726934432982
         ],
         "title": {
          "text": ""
         },
         "visible": false
        }
       }
      },
      "text/html": [
       "<div>                            <div id=\"dbb4d5c2-2842-4d94-bd22-0756922b89e3\" class=\"plotly-graph-div\" style=\"height:650px; width:650px;\"></div>            <script type=\"text/javascript\">                require([\"plotly\"], function(Plotly) {                    window.PLOTLYENV=window.PLOTLYENV || {};                                    if (document.getElementById(\"dbb4d5c2-2842-4d94-bd22-0756922b89e3\")) {                    Plotly.newPlot(                        \"dbb4d5c2-2842-4d94-bd22-0756922b89e3\",                        [{\"customdata\":[[0,\"lgbt | rights | ireland | human | hon\",625],[1,\"gap | employers | reporting | equality | hon\",469],[2,\"transgender | recognition | care | prisoners | 2004\",275],[3,\"victims | sexual | convention | based | istanbul\",271],[4,\"member | friend | armed | jo | building\",224],[5,\"woman | international | hon | celebrate | friend\",160],[6,\"young | guidance | primary | sre | people\",156],[7,\"trade | climate | european | junior | referendum\",153],[8,\"women | tax | impact | chancellor | gap\",131],[9,\"online | bullying | platforms | young | facebook\",99],[10,\"billion | chancellor | growth | year | income\",87],[11,\"hiv | poppers | conversion | ban | therapy\",87],[12,\"orlando | proscription | isil | security | intelligence\",65],[13,\"pensions | schemes | expectancy | equalisation | women\",58],[14,\"holocaust | memorial | remember | roma | day\",54],[15,\"domestic | amendment | subsection | clause | relevant\",53]],\"hovertemplate\":\"<b>Topic %{customdata[0]}</b><br>%{customdata[1]}<br>Size: %{customdata[2]}\",\"legendgroup\":\"\",\"marker\":{\"color\":\"#B0BEC5\",\"size\":[625,469,275,271,224,160,156,153,131,99,87,87,65,58,54,53],\"sizemode\":\"area\",\"sizeref\":0.390625,\"symbol\":\"circle\",\"line\":{\"color\":\"DarkSlateGrey\",\"width\":2}},\"mode\":\"markers\",\"name\":\"\",\"orientation\":\"v\",\"showlegend\":false,\"x\":[15.410147666931152,0.5240740776062012,5.863814353942871,7.2011332511901855,15.540791511535645,0.4318788945674896,5.453824520111084,8.101791381835938,0.9194939136505127,6.396733283996582,8.209218978881836,5.461984157562256,7.205684661865234,1.2053742408752441,6.690596580505371,6.911845684051514],\"xaxis\":\"x\",\"y\":[3.315159559249878,14.238224029541016,-6.204859256744385,-7.16229772567749,3.4457850456237793,14.33019733428955,-5.902638912200928,0.8792183995246887,13.845208168029785,-6.320559978485107,0.9866097569465637,-6.563925743103027,-6.842362880706787,13.559769630432129,-6.909541606903076,-7.500176429748535],\"yaxis\":\"y\",\"type\":\"scatter\"}],                        {\"template\":{\"data\":{\"barpolar\":[{\"marker\":{\"line\":{\"color\":\"white\",\"width\":0.5},\"pattern\":{\"fillmode\":\"overlay\",\"size\":10,\"solidity\":0.2}},\"type\":\"barpolar\"}],\"bar\":[{\"error_x\":{\"color\":\"rgb(36,36,36)\"},\"error_y\":{\"color\":\"rgb(36,36,36)\"},\"marker\":{\"line\":{\"color\":\"white\",\"width\":0.5},\"pattern\":{\"fillmode\":\"overlay\",\"size\":10,\"solidity\":0.2}},\"type\":\"bar\"}],\"carpet\":[{\"aaxis\":{\"endlinecolor\":\"rgb(36,36,36)\",\"gridcolor\":\"white\",\"linecolor\":\"white\",\"minorgridcolor\":\"white\",\"startlinecolor\":\"rgb(36,36,36)\"},\"baxis\":{\"endlinecolor\":\"rgb(36,36,36)\",\"gridcolor\":\"white\",\"linecolor\":\"white\",\"minorgridcolor\":\"white\",\"startlinecolor\":\"rgb(36,36,36)\"},\"type\":\"carpet\"}],\"choropleth\":[{\"colorbar\":{\"outlinewidth\":1,\"tickcolor\":\"rgb(36,36,36)\",\"ticks\":\"outside\"},\"type\":\"choropleth\"}],\"contourcarpet\":[{\"colorbar\":{\"outlinewidth\":1,\"tickcolor\":\"rgb(36,36,36)\",\"ticks\":\"outside\"},\"type\":\"contourcarpet\"}],\"contour\":[{\"colorbar\":{\"outlinewidth\":1,\"tickcolor\":\"rgb(36,36,36)\",\"ticks\":\"outside\"},\"colorscale\":[[0.0,\"#440154\"],[0.1111111111111111,\"#482878\"],[0.2222222222222222,\"#3e4989\"],[0.3333333333333333,\"#31688e\"],[0.4444444444444444,\"#26828e\"],[0.5555555555555556,\"#1f9e89\"],[0.6666666666666666,\"#35b779\"],[0.7777777777777778,\"#6ece58\"],[0.8888888888888888,\"#b5de2b\"],[1.0,\"#fde725\"]],\"type\":\"contour\"}],\"heatmapgl\":[{\"colorbar\":{\"outlinewidth\":1,\"tickcolor\":\"rgb(36,36,36)\",\"ticks\":\"outside\"},\"colorscale\":[[0.0,\"#440154\"],[0.1111111111111111,\"#482878\"],[0.2222222222222222,\"#3e4989\"],[0.3333333333333333,\"#31688e\"],[0.4444444444444444,\"#26828e\"],[0.5555555555555556,\"#1f9e89\"],[0.6666666666666666,\"#35b779\"],[0.7777777777777778,\"#6ece58\"],[0.8888888888888888,\"#b5de2b\"],[1.0,\"#fde725\"]],\"type\":\"heatmapgl\"}],\"heatmap\":[{\"colorbar\":{\"outlinewidth\":1,\"tickcolor\":\"rgb(36,36,36)\",\"ticks\":\"outside\"},\"colorscale\":[[0.0,\"#440154\"],[0.1111111111111111,\"#482878\"],[0.2222222222222222,\"#3e4989\"],[0.3333333333333333,\"#31688e\"],[0.4444444444444444,\"#26828e\"],[0.5555555555555556,\"#1f9e89\"],[0.6666666666666666,\"#35b779\"],[0.7777777777777778,\"#6ece58\"],[0.8888888888888888,\"#b5de2b\"],[1.0,\"#fde725\"]],\"type\":\"heatmap\"}],\"histogram2dcontour\":[{\"colorbar\":{\"outlinewidth\":1,\"tickcolor\":\"rgb(36,36,36)\",\"ticks\":\"outside\"},\"colorscale\":[[0.0,\"#440154\"],[0.1111111111111111,\"#482878\"],[0.2222222222222222,\"#3e4989\"],[0.3333333333333333,\"#31688e\"],[0.4444444444444444,\"#26828e\"],[0.5555555555555556,\"#1f9e89\"],[0.6666666666666666,\"#35b779\"],[0.7777777777777778,\"#6ece58\"],[0.8888888888888888,\"#b5de2b\"],[1.0,\"#fde725\"]],\"type\":\"histogram2dcontour\"}],\"histogram2d\":[{\"colorbar\":{\"outlinewidth\":1,\"tickcolor\":\"rgb(36,36,36)\",\"ticks\":\"outside\"},\"colorscale\":[[0.0,\"#440154\"],[0.1111111111111111,\"#482878\"],[0.2222222222222222,\"#3e4989\"],[0.3333333333333333,\"#31688e\"],[0.4444444444444444,\"#26828e\"],[0.5555555555555556,\"#1f9e89\"],[0.6666666666666666,\"#35b779\"],[0.7777777777777778,\"#6ece58\"],[0.8888888888888888,\"#b5de2b\"],[1.0,\"#fde725\"]],\"type\":\"histogram2d\"}],\"histogram\":[{\"marker\":{\"line\":{\"color\":\"white\",\"width\":0.6}},\"type\":\"histogram\"}],\"mesh3d\":[{\"colorbar\":{\"outlinewidth\":1,\"tickcolor\":\"rgb(36,36,36)\",\"ticks\":\"outside\"},\"type\":\"mesh3d\"}],\"parcoords\":[{\"line\":{\"colorbar\":{\"outlinewidth\":1,\"tickcolor\":\"rgb(36,36,36)\",\"ticks\":\"outside\"}},\"type\":\"parcoords\"}],\"pie\":[{\"automargin\":true,\"type\":\"pie\"}],\"scatter3d\":[{\"line\":{\"colorbar\":{\"outlinewidth\":1,\"tickcolor\":\"rgb(36,36,36)\",\"ticks\":\"outside\"}},\"marker\":{\"colorbar\":{\"outlinewidth\":1,\"tickcolor\":\"rgb(36,36,36)\",\"ticks\":\"outside\"}},\"type\":\"scatter3d\"}],\"scattercarpet\":[{\"marker\":{\"colorbar\":{\"outlinewidth\":1,\"tickcolor\":\"rgb(36,36,36)\",\"ticks\":\"outside\"}},\"type\":\"scattercarpet\"}],\"scattergeo\":[{\"marker\":{\"colorbar\":{\"outlinewidth\":1,\"tickcolor\":\"rgb(36,36,36)\",\"ticks\":\"outside\"}},\"type\":\"scattergeo\"}],\"scattergl\":[{\"marker\":{\"colorbar\":{\"outlinewidth\":1,\"tickcolor\":\"rgb(36,36,36)\",\"ticks\":\"outside\"}},\"type\":\"scattergl\"}],\"scattermapbox\":[{\"marker\":{\"colorbar\":{\"outlinewidth\":1,\"tickcolor\":\"rgb(36,36,36)\",\"ticks\":\"outside\"}},\"type\":\"scattermapbox\"}],\"scatterpolargl\":[{\"marker\":{\"colorbar\":{\"outlinewidth\":1,\"tickcolor\":\"rgb(36,36,36)\",\"ticks\":\"outside\"}},\"type\":\"scatterpolargl\"}],\"scatterpolar\":[{\"marker\":{\"colorbar\":{\"outlinewidth\":1,\"tickcolor\":\"rgb(36,36,36)\",\"ticks\":\"outside\"}},\"type\":\"scatterpolar\"}],\"scatter\":[{\"fillpattern\":{\"fillmode\":\"overlay\",\"size\":10,\"solidity\":0.2},\"type\":\"scatter\"}],\"scatterternary\":[{\"marker\":{\"colorbar\":{\"outlinewidth\":1,\"tickcolor\":\"rgb(36,36,36)\",\"ticks\":\"outside\"}},\"type\":\"scatterternary\"}],\"surface\":[{\"colorbar\":{\"outlinewidth\":1,\"tickcolor\":\"rgb(36,36,36)\",\"ticks\":\"outside\"},\"colorscale\":[[0.0,\"#440154\"],[0.1111111111111111,\"#482878\"],[0.2222222222222222,\"#3e4989\"],[0.3333333333333333,\"#31688e\"],[0.4444444444444444,\"#26828e\"],[0.5555555555555556,\"#1f9e89\"],[0.6666666666666666,\"#35b779\"],[0.7777777777777778,\"#6ece58\"],[0.8888888888888888,\"#b5de2b\"],[1.0,\"#fde725\"]],\"type\":\"surface\"}],\"table\":[{\"cells\":{\"fill\":{\"color\":\"rgb(237,237,237)\"},\"line\":{\"color\":\"white\"}},\"header\":{\"fill\":{\"color\":\"rgb(217,217,217)\"},\"line\":{\"color\":\"white\"}},\"type\":\"table\"}]},\"layout\":{\"annotationdefaults\":{\"arrowhead\":0,\"arrowwidth\":1},\"autotypenumbers\":\"strict\",\"coloraxis\":{\"colorbar\":{\"outlinewidth\":1,\"tickcolor\":\"rgb(36,36,36)\",\"ticks\":\"outside\"}},\"colorscale\":{\"diverging\":[[0.0,\"rgb(103,0,31)\"],[0.1,\"rgb(178,24,43)\"],[0.2,\"rgb(214,96,77)\"],[0.3,\"rgb(244,165,130)\"],[0.4,\"rgb(253,219,199)\"],[0.5,\"rgb(247,247,247)\"],[0.6,\"rgb(209,229,240)\"],[0.7,\"rgb(146,197,222)\"],[0.8,\"rgb(67,147,195)\"],[0.9,\"rgb(33,102,172)\"],[1.0,\"rgb(5,48,97)\"]],\"sequential\":[[0.0,\"#440154\"],[0.1111111111111111,\"#482878\"],[0.2222222222222222,\"#3e4989\"],[0.3333333333333333,\"#31688e\"],[0.4444444444444444,\"#26828e\"],[0.5555555555555556,\"#1f9e89\"],[0.6666666666666666,\"#35b779\"],[0.7777777777777778,\"#6ece58\"],[0.8888888888888888,\"#b5de2b\"],[1.0,\"#fde725\"]],\"sequentialminus\":[[0.0,\"#440154\"],[0.1111111111111111,\"#482878\"],[0.2222222222222222,\"#3e4989\"],[0.3333333333333333,\"#31688e\"],[0.4444444444444444,\"#26828e\"],[0.5555555555555556,\"#1f9e89\"],[0.6666666666666666,\"#35b779\"],[0.7777777777777778,\"#6ece58\"],[0.8888888888888888,\"#b5de2b\"],[1.0,\"#fde725\"]]},\"colorway\":[\"#1F77B4\",\"#FF7F0E\",\"#2CA02C\",\"#D62728\",\"#9467BD\",\"#8C564B\",\"#E377C2\",\"#7F7F7F\",\"#BCBD22\",\"#17BECF\"],\"font\":{\"color\":\"rgb(36,36,36)\"},\"geo\":{\"bgcolor\":\"white\",\"lakecolor\":\"white\",\"landcolor\":\"white\",\"showlakes\":true,\"showland\":true,\"subunitcolor\":\"white\"},\"hoverlabel\":{\"align\":\"left\"},\"hovermode\":\"closest\",\"mapbox\":{\"style\":\"light\"},\"paper_bgcolor\":\"white\",\"plot_bgcolor\":\"white\",\"polar\":{\"angularaxis\":{\"gridcolor\":\"rgb(232,232,232)\",\"linecolor\":\"rgb(36,36,36)\",\"showgrid\":false,\"showline\":true,\"ticks\":\"outside\"},\"bgcolor\":\"white\",\"radialaxis\":{\"gridcolor\":\"rgb(232,232,232)\",\"linecolor\":\"rgb(36,36,36)\",\"showgrid\":false,\"showline\":true,\"ticks\":\"outside\"}},\"scene\":{\"xaxis\":{\"backgroundcolor\":\"white\",\"gridcolor\":\"rgb(232,232,232)\",\"gridwidth\":2,\"linecolor\":\"rgb(36,36,36)\",\"showbackground\":true,\"showgrid\":false,\"showline\":true,\"ticks\":\"outside\",\"zeroline\":false,\"zerolinecolor\":\"rgb(36,36,36)\"},\"yaxis\":{\"backgroundcolor\":\"white\",\"gridcolor\":\"rgb(232,232,232)\",\"gridwidth\":2,\"linecolor\":\"rgb(36,36,36)\",\"showbackground\":true,\"showgrid\":false,\"showline\":true,\"ticks\":\"outside\",\"zeroline\":false,\"zerolinecolor\":\"rgb(36,36,36)\"},\"zaxis\":{\"backgroundcolor\":\"white\",\"gridcolor\":\"rgb(232,232,232)\",\"gridwidth\":2,\"linecolor\":\"rgb(36,36,36)\",\"showbackground\":true,\"showgrid\":false,\"showline\":true,\"ticks\":\"outside\",\"zeroline\":false,\"zerolinecolor\":\"rgb(36,36,36)\"}},\"shapedefaults\":{\"fillcolor\":\"black\",\"line\":{\"width\":0},\"opacity\":0.3},\"ternary\":{\"aaxis\":{\"gridcolor\":\"rgb(232,232,232)\",\"linecolor\":\"rgb(36,36,36)\",\"showgrid\":false,\"showline\":true,\"ticks\":\"outside\"},\"baxis\":{\"gridcolor\":\"rgb(232,232,232)\",\"linecolor\":\"rgb(36,36,36)\",\"showgrid\":false,\"showline\":true,\"ticks\":\"outside\"},\"bgcolor\":\"white\",\"caxis\":{\"gridcolor\":\"rgb(232,232,232)\",\"linecolor\":\"rgb(36,36,36)\",\"showgrid\":false,\"showline\":true,\"ticks\":\"outside\"}},\"title\":{\"x\":0.05},\"xaxis\":{\"automargin\":true,\"gridcolor\":\"rgb(232,232,232)\",\"linecolor\":\"rgb(36,36,36)\",\"showgrid\":false,\"showline\":true,\"ticks\":\"outside\",\"title\":{\"standoff\":15},\"zeroline\":false,\"zerolinecolor\":\"rgb(36,36,36)\"},\"yaxis\":{\"automargin\":true,\"gridcolor\":\"rgb(232,232,232)\",\"linecolor\":\"rgb(36,36,36)\",\"showgrid\":false,\"showline\":true,\"ticks\":\"outside\",\"title\":{\"standoff\":15},\"zeroline\":false,\"zerolinecolor\":\"rgb(36,36,36)\"}}},\"xaxis\":{\"anchor\":\"y\",\"domain\":[0.0,1.0],\"title\":{\"text\":\"\"},\"visible\":false,\"range\":[0.36709706038236617,17.87191023826599]},\"yaxis\":{\"anchor\":\"x\",\"domain\":[0.0,1.0],\"title\":{\"text\":\"\"},\"visible\":false,\"range\":[-8.625202894210815,16.479726934432982]},\"legend\":{\"tracegroupgap\":0,\"itemsizing\":\"constant\"},\"margin\":{\"t\":60},\"title\":{\"font\":{\"size\":22,\"color\":\"Black\"},\"text\":\"<b>Intertopic Distance Map</b>\",\"y\":0.95,\"x\":0.5,\"xanchor\":\"center\",\"yanchor\":\"top\"},\"hoverlabel\":{\"font\":{\"size\":16,\"family\":\"Rockwell\"},\"bgcolor\":\"white\"},\"width\":650,\"height\":650,\"sliders\":[{\"active\":0,\"pad\":{\"t\":50},\"steps\":[{\"args\":[{\"marker.color\":[[\"red\",\"#B0BEC5\",\"#B0BEC5\",\"#B0BEC5\",\"#B0BEC5\",\"#B0BEC5\",\"#B0BEC5\",\"#B0BEC5\",\"#B0BEC5\",\"#B0BEC5\",\"#B0BEC5\",\"#B0BEC5\",\"#B0BEC5\",\"#B0BEC5\",\"#B0BEC5\",\"#B0BEC5\"]]}],\"label\":\"Topic 0\",\"method\":\"update\"},{\"args\":[{\"marker.color\":[[\"#B0BEC5\",\"red\",\"#B0BEC5\",\"#B0BEC5\",\"#B0BEC5\",\"#B0BEC5\",\"#B0BEC5\",\"#B0BEC5\",\"#B0BEC5\",\"#B0BEC5\",\"#B0BEC5\",\"#B0BEC5\",\"#B0BEC5\",\"#B0BEC5\",\"#B0BEC5\",\"#B0BEC5\"]]}],\"label\":\"Topic 1\",\"method\":\"update\"},{\"args\":[{\"marker.color\":[[\"#B0BEC5\",\"#B0BEC5\",\"red\",\"#B0BEC5\",\"#B0BEC5\",\"#B0BEC5\",\"#B0BEC5\",\"#B0BEC5\",\"#B0BEC5\",\"#B0BEC5\",\"#B0BEC5\",\"#B0BEC5\",\"#B0BEC5\",\"#B0BEC5\",\"#B0BEC5\",\"#B0BEC5\"]]}],\"label\":\"Topic 2\",\"method\":\"update\"},{\"args\":[{\"marker.color\":[[\"#B0BEC5\",\"#B0BEC5\",\"#B0BEC5\",\"red\",\"#B0BEC5\",\"#B0BEC5\",\"#B0BEC5\",\"#B0BEC5\",\"#B0BEC5\",\"#B0BEC5\",\"#B0BEC5\",\"#B0BEC5\",\"#B0BEC5\",\"#B0BEC5\",\"#B0BEC5\",\"#B0BEC5\"]]}],\"label\":\"Topic 3\",\"method\":\"update\"},{\"args\":[{\"marker.color\":[[\"#B0BEC5\",\"#B0BEC5\",\"#B0BEC5\",\"#B0BEC5\",\"red\",\"#B0BEC5\",\"#B0BEC5\",\"#B0BEC5\",\"#B0BEC5\",\"#B0BEC5\",\"#B0BEC5\",\"#B0BEC5\",\"#B0BEC5\",\"#B0BEC5\",\"#B0BEC5\",\"#B0BEC5\"]]}],\"label\":\"Topic 4\",\"method\":\"update\"},{\"args\":[{\"marker.color\":[[\"#B0BEC5\",\"#B0BEC5\",\"#B0BEC5\",\"#B0BEC5\",\"#B0BEC5\",\"red\",\"#B0BEC5\",\"#B0BEC5\",\"#B0BEC5\",\"#B0BEC5\",\"#B0BEC5\",\"#B0BEC5\",\"#B0BEC5\",\"#B0BEC5\",\"#B0BEC5\",\"#B0BEC5\"]]}],\"label\":\"Topic 5\",\"method\":\"update\"},{\"args\":[{\"marker.color\":[[\"#B0BEC5\",\"#B0BEC5\",\"#B0BEC5\",\"#B0BEC5\",\"#B0BEC5\",\"#B0BEC5\",\"red\",\"#B0BEC5\",\"#B0BEC5\",\"#B0BEC5\",\"#B0BEC5\",\"#B0BEC5\",\"#B0BEC5\",\"#B0BEC5\",\"#B0BEC5\",\"#B0BEC5\"]]}],\"label\":\"Topic 6\",\"method\":\"update\"},{\"args\":[{\"marker.color\":[[\"#B0BEC5\",\"#B0BEC5\",\"#B0BEC5\",\"#B0BEC5\",\"#B0BEC5\",\"#B0BEC5\",\"#B0BEC5\",\"red\",\"#B0BEC5\",\"#B0BEC5\",\"#B0BEC5\",\"#B0BEC5\",\"#B0BEC5\",\"#B0BEC5\",\"#B0BEC5\",\"#B0BEC5\"]]}],\"label\":\"Topic 7\",\"method\":\"update\"},{\"args\":[{\"marker.color\":[[\"#B0BEC5\",\"#B0BEC5\",\"#B0BEC5\",\"#B0BEC5\",\"#B0BEC5\",\"#B0BEC5\",\"#B0BEC5\",\"#B0BEC5\",\"red\",\"#B0BEC5\",\"#B0BEC5\",\"#B0BEC5\",\"#B0BEC5\",\"#B0BEC5\",\"#B0BEC5\",\"#B0BEC5\"]]}],\"label\":\"Topic 8\",\"method\":\"update\"},{\"args\":[{\"marker.color\":[[\"#B0BEC5\",\"#B0BEC5\",\"#B0BEC5\",\"#B0BEC5\",\"#B0BEC5\",\"#B0BEC5\",\"#B0BEC5\",\"#B0BEC5\",\"#B0BEC5\",\"red\",\"#B0BEC5\",\"#B0BEC5\",\"#B0BEC5\",\"#B0BEC5\",\"#B0BEC5\",\"#B0BEC5\"]]}],\"label\":\"Topic 9\",\"method\":\"update\"},{\"args\":[{\"marker.color\":[[\"#B0BEC5\",\"#B0BEC5\",\"#B0BEC5\",\"#B0BEC5\",\"#B0BEC5\",\"#B0BEC5\",\"#B0BEC5\",\"#B0BEC5\",\"#B0BEC5\",\"#B0BEC5\",\"red\",\"#B0BEC5\",\"#B0BEC5\",\"#B0BEC5\",\"#B0BEC5\",\"#B0BEC5\"]]}],\"label\":\"Topic 10\",\"method\":\"update\"},{\"args\":[{\"marker.color\":[[\"#B0BEC5\",\"#B0BEC5\",\"#B0BEC5\",\"#B0BEC5\",\"#B0BEC5\",\"#B0BEC5\",\"#B0BEC5\",\"#B0BEC5\",\"#B0BEC5\",\"#B0BEC5\",\"#B0BEC5\",\"red\",\"#B0BEC5\",\"#B0BEC5\",\"#B0BEC5\",\"#B0BEC5\"]]}],\"label\":\"Topic 11\",\"method\":\"update\"},{\"args\":[{\"marker.color\":[[\"#B0BEC5\",\"#B0BEC5\",\"#B0BEC5\",\"#B0BEC5\",\"#B0BEC5\",\"#B0BEC5\",\"#B0BEC5\",\"#B0BEC5\",\"#B0BEC5\",\"#B0BEC5\",\"#B0BEC5\",\"#B0BEC5\",\"red\",\"#B0BEC5\",\"#B0BEC5\",\"#B0BEC5\"]]}],\"label\":\"Topic 12\",\"method\":\"update\"},{\"args\":[{\"marker.color\":[[\"#B0BEC5\",\"#B0BEC5\",\"#B0BEC5\",\"#B0BEC5\",\"#B0BEC5\",\"#B0BEC5\",\"#B0BEC5\",\"#B0BEC5\",\"#B0BEC5\",\"#B0BEC5\",\"#B0BEC5\",\"#B0BEC5\",\"#B0BEC5\",\"red\",\"#B0BEC5\",\"#B0BEC5\"]]}],\"label\":\"Topic 13\",\"method\":\"update\"},{\"args\":[{\"marker.color\":[[\"#B0BEC5\",\"#B0BEC5\",\"#B0BEC5\",\"#B0BEC5\",\"#B0BEC5\",\"#B0BEC5\",\"#B0BEC5\",\"#B0BEC5\",\"#B0BEC5\",\"#B0BEC5\",\"#B0BEC5\",\"#B0BEC5\",\"#B0BEC5\",\"#B0BEC5\",\"red\",\"#B0BEC5\"]]}],\"label\":\"Topic 14\",\"method\":\"update\"},{\"args\":[{\"marker.color\":[[\"#B0BEC5\",\"#B0BEC5\",\"#B0BEC5\",\"#B0BEC5\",\"#B0BEC5\",\"#B0BEC5\",\"#B0BEC5\",\"#B0BEC5\",\"#B0BEC5\",\"#B0BEC5\",\"#B0BEC5\",\"#B0BEC5\",\"#B0BEC5\",\"#B0BEC5\",\"#B0BEC5\",\"red\"]]}],\"label\":\"Topic 15\",\"method\":\"update\"}]}],\"shapes\":[{\"line\":{\"color\":\"#CFD8DC\",\"width\":2},\"type\":\"line\",\"x0\":9.119503649324178,\"x1\":9.119503649324178,\"y0\":-8.625202894210815,\"y1\":16.479726934432982},{\"line\":{\"color\":\"#9E9E9E\",\"width\":2},\"type\":\"line\",\"x0\":0.36709706038236617,\"x1\":17.87191023826599,\"y0\":3.9272620201110833,\"y1\":3.9272620201110833}],\"annotations\":[{\"showarrow\":false,\"text\":\"D1\",\"x\":0.36709706038236617,\"y\":3.9272620201110833,\"yshift\":10},{\"showarrow\":false,\"text\":\"D2\",\"x\":9.119503649324178,\"xshift\":10,\"y\":16.479726934432982}]},                        {\"responsive\": true}                    ).then(function(){\n",
       "                            \n",
       "var gd = document.getElementById('dbb4d5c2-2842-4d94-bd22-0756922b89e3');\n",
       "var x = new MutationObserver(function (mutations, observer) {{\n",
       "        var display = window.getComputedStyle(gd).display;\n",
       "        if (!display || display === 'none') {{\n",
       "            console.log([gd, 'removed!']);\n",
       "            Plotly.purge(gd);\n",
       "            observer.disconnect();\n",
       "        }}\n",
       "}});\n",
       "\n",
       "// Listen for the removal of the full notebook cells\n",
       "var notebookContainer = gd.closest('#notebook-container');\n",
       "if (notebookContainer) {{\n",
       "    x.observe(notebookContainer, {childList: true});\n",
       "}}\n",
       "\n",
       "// Listen for the clearing of the current output cell\n",
       "var outputEl = gd.closest('.output');\n",
       "if (outputEl) {{\n",
       "    x.observe(outputEl, {childList: true});\n",
       "}}\n",
       "\n",
       "                        })                };                });            </script>        </div>"
      ]
     },
     "metadata": {},
     "output_type": "display_data"
    }
   ],
   "source": [
    "topic_model.visualize_topics()"
   ]
  },
  {
   "attachments": {},
   "cell_type": "markdown",
   "metadata": {},
   "source": [
    "Topics over time"
   ]
  },
  {
   "cell_type": "code",
   "execution_count": 167,
   "metadata": {},
   "outputs": [],
   "source": [
    "# Reference running time for this cell: 2min 30s\n",
    "topics_over_time = topic_model.topics_over_time(df['speech'], df['Date'].to_list(), nr_bins=20)"
   ]
  },
  {
   "cell_type": "code",
   "execution_count": 168,
   "metadata": {},
   "outputs": [],
   "source": [
    "# Save the topics_over_time dataframe to a feather file\n",
    "#topics_over_time.to_feather(\"../data/topics_over_time.feather\")"
   ]
  },
  {
   "cell_type": "code",
   "execution_count": 169,
   "metadata": {},
   "outputs": [
    {
     "data": {
      "application/vnd.plotly.v1+json": {
       "config": {
        "plotlyServerURL": "https://plot.ly"
       },
       "data": [
        {
         "hoverinfo": "text",
         "hovertext": [
          "<b>Topic 0</b><br>Words: prayers, families, settings, coroners, matilda",
          "<b>Topic 0</b><br>Words: detained, dungavel, yarl, alternatives, wood",
          "<b>Topic 0</b><br>Words: couples, opposite, burundi, stability, armed",
          "<b>Topic 0</b><br>Words: anglican, lichfield, idahot, festivities, rainbow",
          "<b>Topic 0</b><br>Words: turing, alan, lgbt, pardoned, today",
          "<b>Topic 0</b><br>Words: statute, maritime, partnerships, forces, sections",
          "<b>Topic 0</b><br>Words: chechnya, ireland, foreign, sinn, rights",
          "<b>Topic 0</b><br>Words: torture, egypt, chechnya, arundel, commonwealth",
          "<b>Topic 0</b><br>Words: lgbt, bermuda, partnerships, ireland, married",
          "<b>Topic 0</b><br>Words: tobacco, ireland, lgbt, stables, plan",
          "<b>Topic 0</b><br>Words: ireland, sir, secretary, direct, scruton",
          "<b>Topic 0</b><br>Words: ireland, islamophobia, rights, gay, lyra",
          "<b>Topic 0</b><br>Words: lgbtq, bishop, december, census, regulations",
          "<b>Topic 0</b><br>Words: lgbt, lbt, ireland, health, debate",
          "<b>Topic 0</b><br>Words: bristol, corruption, lgbt, list, statue",
          "<b>Topic 0</b><br>Words: black, redcar, cleveland, lgbt, histories",
          "<b>Topic 0</b><br>Words: ethiopian, neonatal, hywel, snp, valleys",
          "<b>Topic 0</b><br>Words: forces, lgbtq, conversion, ban, federation",
          "<b>Topic 0</b><br>Words: robson, bosnia, raf, persecution, marriages",
          "<b>Topic 0</b><br>Words: lgbt, rwanda, asylum, uk, conversion"
         ],
         "marker": {
          "color": "#E69F00"
         },
         "mode": "lines",
         "name": "0_lgbt_rights_ireland_human",
         "type": "scatter",
         "x": [
          "2015-01-02T05:54:14.400000",
          "2015-05-22T16:48:00",
          "2015-10-07T09:36:00",
          "2016-02-22T02:24:00",
          "2016-07-08T19:12:00",
          "2016-11-23T12:00:00",
          "2017-04-10T04:48:00",
          "2017-08-25T21:36:00",
          "2018-01-10T14:24:00",
          "2018-05-28T07:12:00",
          "2018-10-13T00:00:00",
          "2019-02-27T16:48:00",
          "2019-07-15T09:36:00",
          "2019-11-30T02:24:00",
          "2020-04-15T19:12:00",
          "2020-08-31T12:00:00",
          "2021-01-16T04:48:00",
          "2021-06-02T21:36:00",
          "2021-10-18T14:24:00",
          "2022-03-05T07:12:00"
         ],
         "y": [
          6,
          14,
          21,
          21,
          45,
          43,
          31,
          51,
          82,
          25,
          31,
          65,
          8,
          24,
          13,
          28,
          7,
          38,
          21,
          51
         ]
        },
        {
         "hoverinfo": "text",
         "hovertext": [
          "<b>Topic 1</b><br>Words: gap, compensation, audit, labour, garrett",
          "<b>Topic 1</b><br>Words: gap, gender, employers, transparency, sector",
          "<b>Topic 1</b><br>Words: dwp, gap, childcare, publish, stem",
          "<b>Topic 1</b><br>Words: gap, apprentices, enterprise, science, lowest",
          "<b>Topic 1</b><br>Words: gap, stem, operatives, detract, ftse",
          "<b>Topic 1</b><br>Words: gap, gender, stem, employers, childcare",
          "<b>Topic 1</b><br>Words: gap, pay, greetings, flip, gender",
          "<b>Topic 1</b><br>Words: sector, gender, reporting, transparency, employers",
          "<b>Topic 1</b><br>Words: gap, reporting, engineering, parental, freelancers",
          "<b>Topic 1</b><br>Words: employers, reporting, shared, gap, evaluate",
          "<b>Topic 1</b><br>Words: slavery, gap, employers, robot, 5mc",
          "<b>Topic 1</b><br>Words: gap, employers, reporting, sector, deadline",
          "<b>Topic 1</b><br>Words: gender, strood, advertisements, noticeably, tolhurst",
          "<b>Topic 1</b><br>Words: gap, stonelaw, go4set, plot, yawning",
          "<b>Topic 1</b><br>Words: coronavirus, gap, penalises, downturn, calculations",
          "<b>Topic 1</b><br>Words: gap, internships, minimum, salary, women",
          "<b>Topic 1</b><br>Words: freeports, gap, ipsa, impact, policies",
          "<b>Topic 1</b><br>Words: entries, stem, gcses, notable, interventions",
          "<b>Topic 1</b><br>Words: biomedical, defunding, tuc, widens, cbi",
          "<b>Topic 1</b><br>Words: businesses, ethnicity, exclusivity, skewing, 2024"
         ],
         "marker": {
          "color": "#56B4E9"
         },
         "mode": "lines",
         "name": "1_gap_employers_reporting_equality",
         "type": "scatter",
         "x": [
          "2015-01-02T05:54:14.400000",
          "2015-05-22T16:48:00",
          "2015-10-07T09:36:00",
          "2016-02-22T02:24:00",
          "2016-07-08T19:12:00",
          "2016-11-23T12:00:00",
          "2017-04-10T04:48:00",
          "2017-08-25T21:36:00",
          "2018-01-10T14:24:00",
          "2018-05-28T07:12:00",
          "2018-10-13T00:00:00",
          "2019-02-27T16:48:00",
          "2019-07-15T09:36:00",
          "2019-11-30T02:24:00",
          "2020-04-15T19:12:00",
          "2020-08-31T12:00:00",
          "2021-01-16T04:48:00",
          "2021-06-02T21:36:00",
          "2021-10-18T14:24:00",
          "2022-03-05T07:12:00"
         ],
         "y": [
          16,
          48,
          50,
          45,
          8,
          33,
          6,
          31,
          93,
          15,
          19,
          49,
          8,
          11,
          5,
          14,
          7,
          1,
          4,
          6
         ]
        },
        {
         "hoverinfo": "text",
         "hovertext": [
          "<b>Topic 2</b><br>Words: nhs, gmc, bme, camhs, physical",
          "<b>Topic 2</b><br>Words: transgender, tfl, station, certificate, recognition",
          "<b>Topic 2</b><br>Words: palliative, hospital, curie, nearing, closure",
          "<b>Topic 2</b><br>Words: health, report, people, trans, ccgs",
          "<b>Topic 2</b><br>Words: transgender, recognition, health, 2004, equalities",
          "<b>Topic 2</b><br>Words: petitions, fashion, prescient, voice, chance",
          "<b>Topic 2</b><br>Words: 2004, register, trafficking, gender, 1087",
          "<b>Topic 2</b><br>Words: rough, condition, binary, trans, hypothyroidism",
          "<b>Topic 2</b><br>Words: recording, health, psychosis, croydon, 2004",
          "<b>Topic 2</b><br>Words: data, prisoners, airline, ill, transgender",
          "<b>Topic 2</b><br>Words: bolsonaro, recognition, folk, certificate, lgbt",
          "<b>Topic 2</b><br>Words: disorders, homes, cosmetic, young, foundation",
          "<b>Topic 2</b><br>Words: inequalities, lgbt, homelessness, nhs, report",
          "<b>Topic 2</b><br>Words: brady, fanning, trans, populist, crisis",
          "<b>Topic 2</b><br>Words: transgender, clinics, kinder, waiting, lists",
          "<b>Topic 2</b><br>Words: eating, marmot, lgbt, tidying, cass",
          "<b>Topic 2</b><br>Words: transgender, treadwell, define, prisons, panel",
          "<b>Topic 2</b><br>Words: cass, disparities, transgender, hilary, presenting"
         ],
         "marker": {
          "color": "#009E73"
         },
         "mode": "lines",
         "name": "2_transgender_recognition_care_prisoners",
         "type": "scatter",
         "x": [
          "2015-01-02T05:54:14.400000",
          "2015-10-07T09:36:00",
          "2016-02-22T02:24:00",
          "2016-07-08T19:12:00",
          "2016-11-23T12:00:00",
          "2017-04-10T04:48:00",
          "2017-08-25T21:36:00",
          "2018-01-10T14:24:00",
          "2018-05-28T07:12:00",
          "2018-10-13T00:00:00",
          "2019-02-27T16:48:00",
          "2019-07-15T09:36:00",
          "2019-11-30T02:24:00",
          "2020-04-15T19:12:00",
          "2020-08-31T12:00:00",
          "2021-01-16T04:48:00",
          "2021-10-18T14:24:00",
          "2022-03-05T07:12:00"
         ],
         "y": [
          8,
          29,
          11,
          10,
          63,
          5,
          14,
          8,
          9,
          9,
          11,
          9,
          13,
          6,
          31,
          7,
          14,
          18
         ]
        },
        {
         "hoverinfo": "text",
         "hovertext": [
          "<b>Topic 3</b><br>Words: fgm, slough, rant, abduction, applications",
          "<b>Topic 3</b><br>Words: yarl, detention, wood, reticence, sensitivity",
          "<b>Topic 3</b><br>Words: displaced, conflict, psychoactive, yemen, prison",
          "<b>Topic 3</b><br>Words: bangladesh, arlene, xulhaz, murders, forms",
          "<b>Topic 3</b><br>Words: lankan, rosaline, dhaka, land, persecution",
          "<b>Topic 3</b><br>Words: victims, istanbul, domestic, sexual, stalking",
          "<b>Topic 3</b><br>Words: spoke, constituency, hon, east, doughty",
          "<b>Topic 3</b><br>Words: abuse, platforms, banner, mps, consider",
          "<b>Topic 3</b><br>Words: burma, repatriation, cyclone, returns, cleansing",
          "<b>Topic 3</b><br>Words: misogyny, nottinghamshire, distribution, whataboutery, fantasy",
          "<b>Topic 3</b><br>Words: burma, camps, bazar, violence, repatriation",
          "<b>Topic 3</b><br>Words: fgm, yemen, conflict, girls, 391",
          "<b>Topic 3</b><br>Words: poor, disorders, ukraine, elena, thugs",
          "<b>Topic 3</b><br>Words: ratify, convention, feminists, istanbul, todd",
          "<b>Topic 3</b><br>Words: detector, domestic, alienation, misogyny, victims",
          "<b>Topic 3</b><br>Words: yemen, displaced, sanitation, authorisation, density",
          "<b>Topic 3</b><br>Words: stop, ratify, offenders, status, istanbul",
          "<b>Topic 3</b><br>Words: psvi, girls, initiative, preventing, based",
          "<b>Topic 3</b><br>Words: girls, commission, based, carve, misogyny",
          "<b>Topic 3</b><br>Words: women, lords, crimes, ukraine, daniel"
         ],
         "marker": {
          "color": "#F0E442"
         },
         "mode": "lines",
         "name": "3_victims_sexual_convention_based",
         "type": "scatter",
         "x": [
          "2015-01-02T05:54:14.400000",
          "2015-05-22T16:48:00",
          "2015-10-07T09:36:00",
          "2016-02-22T02:24:00",
          "2016-07-08T19:12:00",
          "2016-11-23T12:00:00",
          "2017-04-10T04:48:00",
          "2017-08-25T21:36:00",
          "2018-01-10T14:24:00",
          "2018-05-28T07:12:00",
          "2018-10-13T00:00:00",
          "2019-02-27T16:48:00",
          "2019-07-15T09:36:00",
          "2019-11-30T02:24:00",
          "2020-04-15T19:12:00",
          "2020-08-31T12:00:00",
          "2021-01-16T04:48:00",
          "2021-06-02T21:36:00",
          "2021-10-18T14:24:00",
          "2022-03-05T07:12:00"
         ],
         "y": [
          5,
          2,
          9,
          20,
          18,
          41,
          3,
          7,
          12,
          10,
          12,
          14,
          7,
          4,
          7,
          8,
          10,
          23,
          41,
          18
         ]
        },
        {
         "hoverinfo": "text",
         "hovertext": [
          "<b>Topic 4</b><br>Words: ofsted, pupils, coercive, inspection, friend",
          "<b>Topic 4</b><br>Words: constituency, stirling, maiden, local, bermondsey",
          "<b>Topic 4</b><br>Words: forces, human, rights, shall, hon",
          "<b>Topic 4</b><br>Words: jo, taxi, extremism, operators, caring",
          "<b>Topic 4</b><br>Words: pardon, bbc, dunbartonshire, turing, member",
          "<b>Topic 4</b><br>Words: navy, member, homosexual, salisbury, keynes",
          "<b>Topic 4</b><br>Words: kensington, islanders, gaza, constituency, constituents",
          "<b>Topic 4</b><br>Words: mental, midlands, triage, retention, navy",
          "<b>Topic 4</b><br>Words: tessa, slps, peacekeeping, challenges, laundromat",
          "<b>Topic 4</b><br>Words: turkish, coup, human, journalists, belief",
          "<b>Topic 4</b><br>Words: raf, authorities, hon, drainage, standing",
          "<b>Topic 4</b><br>Words: fishing, visas, dfid, hon, aid",
          "<b>Topic 4</b><br>Words: mental, speaker, carers, hon, able",
          "<b>Topic 4</b><br>Words: ireland, protocol, maiden, new, clause",
          "<b>Topic 4</b><br>Words: divorce, transplant, hon, ipu, colleagues",
          "<b>Topic 4</b><br>Words: coronation, ken, roache, friend, rita",
          "<b>Topic 4</b><br>Words: forces, veterans, wwe, democracy, north",
          "<b>Topic 4</b><br>Words: loneliness, today, statues, leadbeater, cox",
          "<b>Topic 4</b><br>Words: section, jack, hywel, safety, renovation",
          "<b>Topic 4</b><br>Words: veterans, speech, belief, auckland, alexa"
         ],
         "marker": {
          "color": "#D55E00"
         },
         "mode": "lines",
         "name": "4_member_friend_armed_jo",
         "type": "scatter",
         "x": [
          "2015-01-02T05:54:14.400000",
          "2015-05-22T16:48:00",
          "2015-10-07T09:36:00",
          "2016-02-22T02:24:00",
          "2016-07-08T19:12:00",
          "2016-11-23T12:00:00",
          "2017-04-10T04:48:00",
          "2017-08-25T21:36:00",
          "2018-01-10T14:24:00",
          "2018-05-28T07:12:00",
          "2018-10-13T00:00:00",
          "2019-02-27T16:48:00",
          "2019-07-15T09:36:00",
          "2019-11-30T02:24:00",
          "2020-04-15T19:12:00",
          "2020-08-31T12:00:00",
          "2021-01-16T04:48:00",
          "2021-06-02T21:36:00",
          "2021-10-18T14:24:00",
          "2022-03-05T07:12:00"
         ],
         "y": [
          3,
          17,
          10,
          13,
          14,
          15,
          10,
          11,
          6,
          4,
          11,
          9,
          17,
          20,
          11,
          6,
          8,
          11,
          15,
          13
         ]
        },
        {
         "hoverinfo": "text",
         "hovertext": [
          "<b>Topic 5</b><br>Words: erewash, beijing, meriden, female, guides",
          "<b>Topic 5</b><br>Words: contractors, feminist, caitlin, racing, speeches",
          "<b>Topic 5</b><br>Words: noon, davies, initiating, niche, advising",
          "<b>Topic 5</b><br>Words: woman, eastleigh, neath, waspi, today",
          "<b>Topic 5</b><br>Words: chamber, debate, ratio, underperformance, gender",
          "<b>Topic 5</b><br>Words: women, day, bold, violence, achievements",
          "<b>Topic 5</b><br>Words: committees, equalities, outnumbered, footing, toll",
          "<b>Topic 5</b><br>Words: models, weeks, young, feminist, basingstoke",
          "<b>Topic 5</b><br>Words: female, day, hull, international, suffrage",
          "<b>Topic 5</b><br>Words: committees, smaller, trade, corbett, advances",
          "<b>Topic 5</b><br>Words: monday, house, patriarchal, misery, oozes",
          "<b>Topic 5</b><br>Words: women, day, international, harassment, tribute",
          "<b>Topic 5</b><br>Words: women, international, celebrate, sulley, barriers",
          "<b>Topic 5</b><br>Words: academia, grosvenor, inquiring, fiona, lewis",
          "<b>Topic 5</b><br>Words: masculinity, tegan, spikes, meritocracies, robyn",
          "<b>Topic 5</b><br>Words: replenishment, transforms, presidency, pandemic, teachers",
          "<b>Topic 5</b><br>Words: women, ukraine, celebrate, entrepreneurs, need"
         ],
         "marker": {
          "color": "#0072B2"
         },
         "mode": "lines",
         "name": "5_woman_international_hon_celebrate",
         "type": "scatter",
         "x": [
          "2015-01-02T05:54:14.400000",
          "2015-05-22T16:48:00",
          "2015-10-07T09:36:00",
          "2016-02-22T02:24:00",
          "2016-07-08T19:12:00",
          "2016-11-23T12:00:00",
          "2017-04-10T04:48:00",
          "2017-08-25T21:36:00",
          "2018-01-10T14:24:00",
          "2018-05-28T07:12:00",
          "2018-10-13T00:00:00",
          "2019-02-27T16:48:00",
          "2019-11-30T02:24:00",
          "2020-04-15T19:12:00",
          "2020-08-31T12:00:00",
          "2021-01-16T04:48:00",
          "2022-03-05T07:12:00"
         ],
         "y": [
          9,
          4,
          8,
          11,
          9,
          16,
          3,
          2,
          36,
          3,
          8,
          21,
          11,
          1,
          3,
          1,
          14
         ]
        },
        {
         "hoverinfo": "text",
         "hovertext": [
          "<b>Topic 6</b><br>Words: ofsted, bullying, curriculum, hiv, pupils",
          "<b>Topic 6</b><br>Words: sre, coasting, ofsted, statutory, children",
          "<b>Topic 6</b><br>Words: bullying, curriculum, gardening, tumours, monoxide",
          "<b>Topic 6</b><br>Words: bullying, online, safeguarding, adults, apps",
          "<b>Topic 6</b><br>Words: caribbean, biting, sooner, formula, reductions",
          "<b>Topic 6</b><br>Words: sre, young, bullying, dubs, pupils",
          "<b>Topic 6</b><br>Words: inclusiveness, developed, massive, showed, draw",
          "<b>Topic 6</b><br>Words: pshe, curriculum, unfit, compulsory, talk",
          "<b>Topic 6</b><br>Words: sre, petition, lgbt, 8th, censoring",
          "<b>Topic 6</b><br>Words: education, withdraw, rse, safe, mandatory",
          "<b>Topic 6</b><br>Words: bullying, aware, subjects, online, induction",
          "<b>Topic 6</b><br>Words: lgbt, children, curriculum, primary, birmingham",
          "<b>Topic 6</b><br>Words: guidance, relationships, protests, headteachers, prescriptive",
          "<b>Topic 6</b><br>Words: schools, ok, stamp, s1, helpfulness",
          "<b>Topic 6</b><br>Words: invested, addressed, anti, bullying, tackling",
          "<b>Topic 6</b><br>Words: bullying, dfe, schemes, educate, statistic",
          "<b>Topic 6</b><br>Words: refugee, dongles, exclusion, pledging, quality",
          "<b>Topic 6</b><br>Words: rshe, ofsted, harmful, ubiquity, filters",
          "<b>Topic 6</b><br>Words: virtues, proverb, start4life, progressively, politicisation",
          "<b>Topic 6</b><br>Words: northfield, bournville, nonconformity, turves, extracare"
         ],
         "marker": {
          "color": "#CC79A7"
         },
         "mode": "lines",
         "name": "6_young_guidance_primary_sre",
         "type": "scatter",
         "x": [
          "2015-01-02T05:54:14.400000",
          "2015-05-22T16:48:00",
          "2015-10-07T09:36:00",
          "2016-02-22T02:24:00",
          "2016-07-08T19:12:00",
          "2016-11-23T12:00:00",
          "2017-04-10T04:48:00",
          "2017-08-25T21:36:00",
          "2018-01-10T14:24:00",
          "2018-05-28T07:12:00",
          "2018-10-13T00:00:00",
          "2019-02-27T16:48:00",
          "2019-07-15T09:36:00",
          "2019-11-30T02:24:00",
          "2020-04-15T19:12:00",
          "2020-08-31T12:00:00",
          "2021-01-16T04:48:00",
          "2021-06-02T21:36:00",
          "2021-10-18T14:24:00",
          "2022-03-05T07:12:00"
         ],
         "y": [
          14,
          2,
          5,
          10,
          3,
          13,
          1,
          7,
          7,
          4,
          9,
          42,
          19,
          6,
          1,
          3,
          1,
          4,
          2,
          3
         ]
        },
        {
         "hoverinfo": "text",
         "hovertext": [
          "<b>Topic 7</b><br>Words: cancer, camnesia, hospital, leone, oesophagus",
          "<b>Topic 7</b><br>Words: goals, purdah, promotional, trade, 2000",
          "<b>Topic 7</b><br>Words: fca, corruption, partners, malawi, summit",
          "<b>Topic 7</b><br>Words: bma, nhs, earthquake, rostering, proportional",
          "<b>Topic 7</b><br>Words: junior, brexit, inverclyde, patients, pr",
          "<b>Topic 7</b><br>Words: aid, cdc, lakes, referendum, union",
          "<b>Topic 7</b><br>Words: g20, summit, terrorist, spoke, paris",
          "<b>Topic 7</b><br>Words: reliefs, eu, directive, derivatives, remittance",
          "<b>Topic 7</b><br>Words: bermuda, wylie, gearing, assent, relocation",
          "<b>Topic 7</b><br>Words: laid, free, summit, scrutiny, procedure",
          "<b>Topic 7</b><br>Words: deal, brexit, chancellor, obr, rights",
          "<b>Topic 7</b><br>Words: climate, g20, development, agreement, ursula",
          "<b>Topic 7</b><br>Words: sepsis, coma, russells, ancillary, lucky",
          "<b>Topic 7</b><br>Words: wylfa, climate, contingencies, advanced, million",
          "<b>Topic 7</b><br>Words: subsection, agreements, aid, uk, laid",
          "<b>Topic 7</b><br>Words: regulatory, lockdown, britain, cost, good",
          "<b>Topic 7</b><br>Words: trade, vaccine, referendum, japan, scrutiny",
          "<b>Topic 7</b><br>Words: global, humanitarian, climate, vaccines, sids",
          "<b>Topic 7</b><br>Words: levelling, pandemic, deal, regulators, green",
          "<b>Topic 7</b><br>Words: development, disinformation, levelling, queen, aid"
         ],
         "marker": {
          "color": "#E69F00"
         },
         "mode": "lines",
         "name": "7_trade_climate_european_junior",
         "type": "scatter",
         "x": [
          "2015-01-02T05:54:14.400000",
          "2015-05-22T16:48:00",
          "2015-10-07T09:36:00",
          "2016-02-22T02:24:00",
          "2016-07-08T19:12:00",
          "2016-11-23T12:00:00",
          "2017-04-10T04:48:00",
          "2017-08-25T21:36:00",
          "2018-01-10T14:24:00",
          "2018-05-28T07:12:00",
          "2018-10-13T00:00:00",
          "2019-02-27T16:48:00",
          "2019-07-15T09:36:00",
          "2019-11-30T02:24:00",
          "2020-04-15T19:12:00",
          "2020-08-31T12:00:00",
          "2021-01-16T04:48:00",
          "2021-06-02T21:36:00",
          "2021-10-18T14:24:00",
          "2022-03-05T07:12:00"
         ],
         "y": [
          6,
          9,
          7,
          10,
          15,
          8,
          3,
          7,
          4,
          5,
          10,
          9,
          1,
          4,
          11,
          11,
          7,
          10,
          7,
          9
         ]
        },
        {
         "hoverinfo": "text",
         "hovertext": [
          "<b>Topic 8</b><br>Words: neath, women, earn, wales, recession",
          "<b>Topic 8</b><br>Words: women, chancellor, impact, equality, credits",
          "<b>Topic 8</b><br>Words: poorest, razors, taxes, dodge, billion",
          "<b>Topic 8</b><br>Words: accommodation, supported, scratched, giveth, box",
          "<b>Topic 8</b><br>Words: budget, chancellor, impact, gender, labour",
          "<b>Topic 8</b><br>Words: outnumbered, transparent, candidates, recommendation, equalities",
          "<b>Topic 8</b><br>Words: inequality, impact, data, waspi, tax",
          "<b>Topic 8</b><br>Words: maternity, gap, lewisham, impact, treasury",
          "<b>Topic 8</b><br>Words: personalised, coaches, jobcentre, universal, plus",
          "<b>Topic 8</b><br>Words: threshold, concurred, ubuntu, salary, fleeing",
          "<b>Topic 8</b><br>Words: poverty, psychodrama, claimants, rickshaw, stabilise",
          "<b>Topic 8</b><br>Words: credit, universal, tout, assassinate, thatcher",
          "<b>Topic 8</b><br>Words: careworkers, women, keyboard, better, 2010",
          "<b>Topic 8</b><br>Words: instructors, premises, yoga, beauticians, complementary",
          "<b>Topic 8</b><br>Words: descends, manna, segregating, dispensation, eton",
          "<b>Topic 8</b><br>Words: combining, pontefract, castleford, rathbone, birth",
          "<b>Topic 8</b><br>Words: primogeniture, hereditary, anomaly, feminists, seats",
          "<b>Topic 8</b><br>Words: sexes, schemes, helpline, unintended, pensions",
          "<b>Topic 8</b><br>Words: chamberlain, wera, hobhouse, christine, printed"
         ],
         "marker": {
          "color": "#56B4E9"
         },
         "mode": "lines",
         "name": "8_women_tax_impact_chancellor",
         "type": "scatter",
         "x": [
          "2015-05-22T16:48:00",
          "2015-10-07T09:36:00",
          "2016-02-22T02:24:00",
          "2016-07-08T19:12:00",
          "2016-11-23T12:00:00",
          "2017-04-10T04:48:00",
          "2017-08-25T21:36:00",
          "2018-01-10T14:24:00",
          "2018-05-28T07:12:00",
          "2018-10-13T00:00:00",
          "2019-02-27T16:48:00",
          "2019-07-15T09:36:00",
          "2019-11-30T02:24:00",
          "2020-04-15T19:12:00",
          "2020-08-31T12:00:00",
          "2021-01-16T04:48:00",
          "2021-06-02T21:36:00",
          "2021-10-18T14:24:00",
          "2022-03-05T07:12:00"
         ],
         "y": [
          4,
          25,
          5,
          3,
          26,
          1,
          15,
          16,
          1,
          6,
          5,
          4,
          7,
          1,
          2,
          1,
          2,
          5,
          2
         ]
        },
        {
         "hoverinfo": "text",
         "hovertext": [
          "<b>Topic 9</b><br>Words: policing, 000, nigel, reorganisations, unsolved",
          "<b>Topic 9</b><br>Words: exploitation, children, 16, adulthood, consent",
          "<b>Topic 9</b><br>Words: online, bullying, messages, reported, platforms",
          "<b>Topic 9</b><br>Words: importuning, concentrix, sacked, bedroom, 1707",
          "<b>Topic 9</b><br>Words: platforms, twitter, halfway, advertise, tunstall",
          "<b>Topic 9</b><br>Words: online, sexual, house, twitter, canterbury",
          "<b>Topic 9</b><br>Words: harassment, staff, sexual, leader, procedures",
          "<b>Topic 9</b><br>Words: codes, training, rabbani, discretion, antisocial",
          "<b>Topic 9</b><br>Words: laura, harassment, report, paragraph, place",
          "<b>Topic 9</b><br>Words: fgm, harassment, dame, uncle, recommendations",
          "<b>Topic 9</b><br>Words: gemma, staff, harassment, concludes, cropping",
          "<b>Topic 9</b><br>Words: police, cardiff, minogue, flack, unpleasant",
          "<b>Topic 9</b><br>Words: wing, harms, extreme, grooming, angles",
          "<b>Topic 9</b><br>Words: online, harms, disinformation, platforms, counter",
          "<b>Topic 9</b><br>Words: icgs, parlireach, buddy, isolate, desk",
          "<b>Topic 9</b><br>Words: online, vax, giants, telegram, failures",
          "<b>Topic 9</b><br>Words: platforms, twitter, categorisation, harm, staff"
         ],
         "marker": {
          "color": "#009E73"
         },
         "mode": "lines",
         "name": "9_online_bullying_platforms_young",
         "type": "scatter",
         "x": [
          "2015-01-02T05:54:14.400000",
          "2015-10-07T09:36:00",
          "2016-02-22T02:24:00",
          "2016-07-08T19:12:00",
          "2016-11-23T12:00:00",
          "2017-08-25T21:36:00",
          "2018-01-10T14:24:00",
          "2018-05-28T07:12:00",
          "2018-10-13T00:00:00",
          "2019-02-27T16:48:00",
          "2019-07-15T09:36:00",
          "2019-11-30T02:24:00",
          "2020-04-15T19:12:00",
          "2020-08-31T12:00:00",
          "2021-01-16T04:48:00",
          "2021-10-18T14:24:00",
          "2022-03-05T07:12:00"
         ],
         "y": [
          1,
          6,
          14,
          2,
          3,
          17,
          4,
          2,
          6,
          9,
          1,
          2,
          1,
          5,
          2,
          13,
          11
         ]
        }
       ],
       "layout": {
        "height": 450,
        "hoverlabel": {
         "bgcolor": "white",
         "font": {
          "family": "Rockwell",
          "size": 16
         }
        },
        "legend": {
         "title": {
          "text": "<b>Global Topic Representation"
         }
        },
        "template": {
         "data": {
          "bar": [
           {
            "error_x": {
             "color": "rgb(36,36,36)"
            },
            "error_y": {
             "color": "rgb(36,36,36)"
            },
            "marker": {
             "line": {
              "color": "white",
              "width": 0.5
             },
             "pattern": {
              "fillmode": "overlay",
              "size": 10,
              "solidity": 0.2
             }
            },
            "type": "bar"
           }
          ],
          "barpolar": [
           {
            "marker": {
             "line": {
              "color": "white",
              "width": 0.5
             },
             "pattern": {
              "fillmode": "overlay",
              "size": 10,
              "solidity": 0.2
             }
            },
            "type": "barpolar"
           }
          ],
          "carpet": [
           {
            "aaxis": {
             "endlinecolor": "rgb(36,36,36)",
             "gridcolor": "white",
             "linecolor": "white",
             "minorgridcolor": "white",
             "startlinecolor": "rgb(36,36,36)"
            },
            "baxis": {
             "endlinecolor": "rgb(36,36,36)",
             "gridcolor": "white",
             "linecolor": "white",
             "minorgridcolor": "white",
             "startlinecolor": "rgb(36,36,36)"
            },
            "type": "carpet"
           }
          ],
          "choropleth": [
           {
            "colorbar": {
             "outlinewidth": 1,
             "tickcolor": "rgb(36,36,36)",
             "ticks": "outside"
            },
            "type": "choropleth"
           }
          ],
          "contour": [
           {
            "colorbar": {
             "outlinewidth": 1,
             "tickcolor": "rgb(36,36,36)",
             "ticks": "outside"
            },
            "colorscale": [
             [
              0,
              "#440154"
             ],
             [
              0.1111111111111111,
              "#482878"
             ],
             [
              0.2222222222222222,
              "#3e4989"
             ],
             [
              0.3333333333333333,
              "#31688e"
             ],
             [
              0.4444444444444444,
              "#26828e"
             ],
             [
              0.5555555555555556,
              "#1f9e89"
             ],
             [
              0.6666666666666666,
              "#35b779"
             ],
             [
              0.7777777777777778,
              "#6ece58"
             ],
             [
              0.8888888888888888,
              "#b5de2b"
             ],
             [
              1,
              "#fde725"
             ]
            ],
            "type": "contour"
           }
          ],
          "contourcarpet": [
           {
            "colorbar": {
             "outlinewidth": 1,
             "tickcolor": "rgb(36,36,36)",
             "ticks": "outside"
            },
            "type": "contourcarpet"
           }
          ],
          "heatmap": [
           {
            "colorbar": {
             "outlinewidth": 1,
             "tickcolor": "rgb(36,36,36)",
             "ticks": "outside"
            },
            "colorscale": [
             [
              0,
              "#440154"
             ],
             [
              0.1111111111111111,
              "#482878"
             ],
             [
              0.2222222222222222,
              "#3e4989"
             ],
             [
              0.3333333333333333,
              "#31688e"
             ],
             [
              0.4444444444444444,
              "#26828e"
             ],
             [
              0.5555555555555556,
              "#1f9e89"
             ],
             [
              0.6666666666666666,
              "#35b779"
             ],
             [
              0.7777777777777778,
              "#6ece58"
             ],
             [
              0.8888888888888888,
              "#b5de2b"
             ],
             [
              1,
              "#fde725"
             ]
            ],
            "type": "heatmap"
           }
          ],
          "heatmapgl": [
           {
            "colorbar": {
             "outlinewidth": 1,
             "tickcolor": "rgb(36,36,36)",
             "ticks": "outside"
            },
            "colorscale": [
             [
              0,
              "#440154"
             ],
             [
              0.1111111111111111,
              "#482878"
             ],
             [
              0.2222222222222222,
              "#3e4989"
             ],
             [
              0.3333333333333333,
              "#31688e"
             ],
             [
              0.4444444444444444,
              "#26828e"
             ],
             [
              0.5555555555555556,
              "#1f9e89"
             ],
             [
              0.6666666666666666,
              "#35b779"
             ],
             [
              0.7777777777777778,
              "#6ece58"
             ],
             [
              0.8888888888888888,
              "#b5de2b"
             ],
             [
              1,
              "#fde725"
             ]
            ],
            "type": "heatmapgl"
           }
          ],
          "histogram": [
           {
            "marker": {
             "line": {
              "color": "white",
              "width": 0.6
             }
            },
            "type": "histogram"
           }
          ],
          "histogram2d": [
           {
            "colorbar": {
             "outlinewidth": 1,
             "tickcolor": "rgb(36,36,36)",
             "ticks": "outside"
            },
            "colorscale": [
             [
              0,
              "#440154"
             ],
             [
              0.1111111111111111,
              "#482878"
             ],
             [
              0.2222222222222222,
              "#3e4989"
             ],
             [
              0.3333333333333333,
              "#31688e"
             ],
             [
              0.4444444444444444,
              "#26828e"
             ],
             [
              0.5555555555555556,
              "#1f9e89"
             ],
             [
              0.6666666666666666,
              "#35b779"
             ],
             [
              0.7777777777777778,
              "#6ece58"
             ],
             [
              0.8888888888888888,
              "#b5de2b"
             ],
             [
              1,
              "#fde725"
             ]
            ],
            "type": "histogram2d"
           }
          ],
          "histogram2dcontour": [
           {
            "colorbar": {
             "outlinewidth": 1,
             "tickcolor": "rgb(36,36,36)",
             "ticks": "outside"
            },
            "colorscale": [
             [
              0,
              "#440154"
             ],
             [
              0.1111111111111111,
              "#482878"
             ],
             [
              0.2222222222222222,
              "#3e4989"
             ],
             [
              0.3333333333333333,
              "#31688e"
             ],
             [
              0.4444444444444444,
              "#26828e"
             ],
             [
              0.5555555555555556,
              "#1f9e89"
             ],
             [
              0.6666666666666666,
              "#35b779"
             ],
             [
              0.7777777777777778,
              "#6ece58"
             ],
             [
              0.8888888888888888,
              "#b5de2b"
             ],
             [
              1,
              "#fde725"
             ]
            ],
            "type": "histogram2dcontour"
           }
          ],
          "mesh3d": [
           {
            "colorbar": {
             "outlinewidth": 1,
             "tickcolor": "rgb(36,36,36)",
             "ticks": "outside"
            },
            "type": "mesh3d"
           }
          ],
          "parcoords": [
           {
            "line": {
             "colorbar": {
              "outlinewidth": 1,
              "tickcolor": "rgb(36,36,36)",
              "ticks": "outside"
             }
            },
            "type": "parcoords"
           }
          ],
          "pie": [
           {
            "automargin": true,
            "type": "pie"
           }
          ],
          "scatter": [
           {
            "fillpattern": {
             "fillmode": "overlay",
             "size": 10,
             "solidity": 0.2
            },
            "type": "scatter"
           }
          ],
          "scatter3d": [
           {
            "line": {
             "colorbar": {
              "outlinewidth": 1,
              "tickcolor": "rgb(36,36,36)",
              "ticks": "outside"
             }
            },
            "marker": {
             "colorbar": {
              "outlinewidth": 1,
              "tickcolor": "rgb(36,36,36)",
              "ticks": "outside"
             }
            },
            "type": "scatter3d"
           }
          ],
          "scattercarpet": [
           {
            "marker": {
             "colorbar": {
              "outlinewidth": 1,
              "tickcolor": "rgb(36,36,36)",
              "ticks": "outside"
             }
            },
            "type": "scattercarpet"
           }
          ],
          "scattergeo": [
           {
            "marker": {
             "colorbar": {
              "outlinewidth": 1,
              "tickcolor": "rgb(36,36,36)",
              "ticks": "outside"
             }
            },
            "type": "scattergeo"
           }
          ],
          "scattergl": [
           {
            "marker": {
             "colorbar": {
              "outlinewidth": 1,
              "tickcolor": "rgb(36,36,36)",
              "ticks": "outside"
             }
            },
            "type": "scattergl"
           }
          ],
          "scattermapbox": [
           {
            "marker": {
             "colorbar": {
              "outlinewidth": 1,
              "tickcolor": "rgb(36,36,36)",
              "ticks": "outside"
             }
            },
            "type": "scattermapbox"
           }
          ],
          "scatterpolar": [
           {
            "marker": {
             "colorbar": {
              "outlinewidth": 1,
              "tickcolor": "rgb(36,36,36)",
              "ticks": "outside"
             }
            },
            "type": "scatterpolar"
           }
          ],
          "scatterpolargl": [
           {
            "marker": {
             "colorbar": {
              "outlinewidth": 1,
              "tickcolor": "rgb(36,36,36)",
              "ticks": "outside"
             }
            },
            "type": "scatterpolargl"
           }
          ],
          "scatterternary": [
           {
            "marker": {
             "colorbar": {
              "outlinewidth": 1,
              "tickcolor": "rgb(36,36,36)",
              "ticks": "outside"
             }
            },
            "type": "scatterternary"
           }
          ],
          "surface": [
           {
            "colorbar": {
             "outlinewidth": 1,
             "tickcolor": "rgb(36,36,36)",
             "ticks": "outside"
            },
            "colorscale": [
             [
              0,
              "#440154"
             ],
             [
              0.1111111111111111,
              "#482878"
             ],
             [
              0.2222222222222222,
              "#3e4989"
             ],
             [
              0.3333333333333333,
              "#31688e"
             ],
             [
              0.4444444444444444,
              "#26828e"
             ],
             [
              0.5555555555555556,
              "#1f9e89"
             ],
             [
              0.6666666666666666,
              "#35b779"
             ],
             [
              0.7777777777777778,
              "#6ece58"
             ],
             [
              0.8888888888888888,
              "#b5de2b"
             ],
             [
              1,
              "#fde725"
             ]
            ],
            "type": "surface"
           }
          ],
          "table": [
           {
            "cells": {
             "fill": {
              "color": "rgb(237,237,237)"
             },
             "line": {
              "color": "white"
             }
            },
            "header": {
             "fill": {
              "color": "rgb(217,217,217)"
             },
             "line": {
              "color": "white"
             }
            },
            "type": "table"
           }
          ]
         },
         "layout": {
          "annotationdefaults": {
           "arrowhead": 0,
           "arrowwidth": 1
          },
          "autotypenumbers": "strict",
          "coloraxis": {
           "colorbar": {
            "outlinewidth": 1,
            "tickcolor": "rgb(36,36,36)",
            "ticks": "outside"
           }
          },
          "colorscale": {
           "diverging": [
            [
             0,
             "rgb(103,0,31)"
            ],
            [
             0.1,
             "rgb(178,24,43)"
            ],
            [
             0.2,
             "rgb(214,96,77)"
            ],
            [
             0.3,
             "rgb(244,165,130)"
            ],
            [
             0.4,
             "rgb(253,219,199)"
            ],
            [
             0.5,
             "rgb(247,247,247)"
            ],
            [
             0.6,
             "rgb(209,229,240)"
            ],
            [
             0.7,
             "rgb(146,197,222)"
            ],
            [
             0.8,
             "rgb(67,147,195)"
            ],
            [
             0.9,
             "rgb(33,102,172)"
            ],
            [
             1,
             "rgb(5,48,97)"
            ]
           ],
           "sequential": [
            [
             0,
             "#440154"
            ],
            [
             0.1111111111111111,
             "#482878"
            ],
            [
             0.2222222222222222,
             "#3e4989"
            ],
            [
             0.3333333333333333,
             "#31688e"
            ],
            [
             0.4444444444444444,
             "#26828e"
            ],
            [
             0.5555555555555556,
             "#1f9e89"
            ],
            [
             0.6666666666666666,
             "#35b779"
            ],
            [
             0.7777777777777778,
             "#6ece58"
            ],
            [
             0.8888888888888888,
             "#b5de2b"
            ],
            [
             1,
             "#fde725"
            ]
           ],
           "sequentialminus": [
            [
             0,
             "#440154"
            ],
            [
             0.1111111111111111,
             "#482878"
            ],
            [
             0.2222222222222222,
             "#3e4989"
            ],
            [
             0.3333333333333333,
             "#31688e"
            ],
            [
             0.4444444444444444,
             "#26828e"
            ],
            [
             0.5555555555555556,
             "#1f9e89"
            ],
            [
             0.6666666666666666,
             "#35b779"
            ],
            [
             0.7777777777777778,
             "#6ece58"
            ],
            [
             0.8888888888888888,
             "#b5de2b"
            ],
            [
             1,
             "#fde725"
            ]
           ]
          },
          "colorway": [
           "#1F77B4",
           "#FF7F0E",
           "#2CA02C",
           "#D62728",
           "#9467BD",
           "#8C564B",
           "#E377C2",
           "#7F7F7F",
           "#BCBD22",
           "#17BECF"
          ],
          "font": {
           "color": "rgb(36,36,36)"
          },
          "geo": {
           "bgcolor": "white",
           "lakecolor": "white",
           "landcolor": "white",
           "showlakes": true,
           "showland": true,
           "subunitcolor": "white"
          },
          "hoverlabel": {
           "align": "left"
          },
          "hovermode": "closest",
          "mapbox": {
           "style": "light"
          },
          "paper_bgcolor": "white",
          "plot_bgcolor": "white",
          "polar": {
           "angularaxis": {
            "gridcolor": "rgb(232,232,232)",
            "linecolor": "rgb(36,36,36)",
            "showgrid": false,
            "showline": true,
            "ticks": "outside"
           },
           "bgcolor": "white",
           "radialaxis": {
            "gridcolor": "rgb(232,232,232)",
            "linecolor": "rgb(36,36,36)",
            "showgrid": false,
            "showline": true,
            "ticks": "outside"
           }
          },
          "scene": {
           "xaxis": {
            "backgroundcolor": "white",
            "gridcolor": "rgb(232,232,232)",
            "gridwidth": 2,
            "linecolor": "rgb(36,36,36)",
            "showbackground": true,
            "showgrid": false,
            "showline": true,
            "ticks": "outside",
            "zeroline": false,
            "zerolinecolor": "rgb(36,36,36)"
           },
           "yaxis": {
            "backgroundcolor": "white",
            "gridcolor": "rgb(232,232,232)",
            "gridwidth": 2,
            "linecolor": "rgb(36,36,36)",
            "showbackground": true,
            "showgrid": false,
            "showline": true,
            "ticks": "outside",
            "zeroline": false,
            "zerolinecolor": "rgb(36,36,36)"
           },
           "zaxis": {
            "backgroundcolor": "white",
            "gridcolor": "rgb(232,232,232)",
            "gridwidth": 2,
            "linecolor": "rgb(36,36,36)",
            "showbackground": true,
            "showgrid": false,
            "showline": true,
            "ticks": "outside",
            "zeroline": false,
            "zerolinecolor": "rgb(36,36,36)"
           }
          },
          "shapedefaults": {
           "fillcolor": "black",
           "line": {
            "width": 0
           },
           "opacity": 0.3
          },
          "ternary": {
           "aaxis": {
            "gridcolor": "rgb(232,232,232)",
            "linecolor": "rgb(36,36,36)",
            "showgrid": false,
            "showline": true,
            "ticks": "outside"
           },
           "baxis": {
            "gridcolor": "rgb(232,232,232)",
            "linecolor": "rgb(36,36,36)",
            "showgrid": false,
            "showline": true,
            "ticks": "outside"
           },
           "bgcolor": "white",
           "caxis": {
            "gridcolor": "rgb(232,232,232)",
            "linecolor": "rgb(36,36,36)",
            "showgrid": false,
            "showline": true,
            "ticks": "outside"
           }
          },
          "title": {
           "x": 0.05
          },
          "xaxis": {
           "automargin": true,
           "gridcolor": "rgb(232,232,232)",
           "linecolor": "rgb(36,36,36)",
           "showgrid": false,
           "showline": true,
           "ticks": "outside",
           "title": {
            "standoff": 15
           },
           "zeroline": false,
           "zerolinecolor": "rgb(36,36,36)"
          },
          "yaxis": {
           "automargin": true,
           "gridcolor": "rgb(232,232,232)",
           "linecolor": "rgb(36,36,36)",
           "showgrid": false,
           "showline": true,
           "ticks": "outside",
           "title": {
            "standoff": 15
           },
           "zeroline": false,
           "zerolinecolor": "rgb(36,36,36)"
          }
         }
        },
        "title": {
         "font": {
          "color": "Black",
          "size": 22
         },
         "text": "<b>Topics over Time</b>",
         "x": 0.4,
         "xanchor": "center",
         "y": 0.95,
         "yanchor": "top"
        },
        "width": 1250,
        "xaxis": {
         "showgrid": true
        },
        "yaxis": {
         "showgrid": true,
         "title": {
          "text": "Frequency"
         }
        }
       }
      },
      "text/html": [
       "<div>                            <div id=\"78ddef1b-a483-4fa9-ac7c-1e700522f389\" class=\"plotly-graph-div\" style=\"height:450px; width:1250px;\"></div>            <script type=\"text/javascript\">                require([\"plotly\"], function(Plotly) {                    window.PLOTLYENV=window.PLOTLYENV || {};                                    if (document.getElementById(\"78ddef1b-a483-4fa9-ac7c-1e700522f389\")) {                    Plotly.newPlot(                        \"78ddef1b-a483-4fa9-ac7c-1e700522f389\",                        [{\"hoverinfo\":\"text\",\"hovertext\":[\"<b>Topic 0</b><br>Words: prayers, families, settings, coroners, matilda\",\"<b>Topic 0</b><br>Words: detained, dungavel, yarl, alternatives, wood\",\"<b>Topic 0</b><br>Words: couples, opposite, burundi, stability, armed\",\"<b>Topic 0</b><br>Words: anglican, lichfield, idahot, festivities, rainbow\",\"<b>Topic 0</b><br>Words: turing, alan, lgbt, pardoned, today\",\"<b>Topic 0</b><br>Words: statute, maritime, partnerships, forces, sections\",\"<b>Topic 0</b><br>Words: chechnya, ireland, foreign, sinn, rights\",\"<b>Topic 0</b><br>Words: torture, egypt, chechnya, arundel, commonwealth\",\"<b>Topic 0</b><br>Words: lgbt, bermuda, partnerships, ireland, married\",\"<b>Topic 0</b><br>Words: tobacco, ireland, lgbt, stables, plan\",\"<b>Topic 0</b><br>Words: ireland, sir, secretary, direct, scruton\",\"<b>Topic 0</b><br>Words: ireland, islamophobia, rights, gay, lyra\",\"<b>Topic 0</b><br>Words: lgbtq, bishop, december, census, regulations\",\"<b>Topic 0</b><br>Words: lgbt, lbt, ireland, health, debate\",\"<b>Topic 0</b><br>Words: bristol, corruption, lgbt, list, statue\",\"<b>Topic 0</b><br>Words: black, redcar, cleveland, lgbt, histories\",\"<b>Topic 0</b><br>Words: ethiopian, neonatal, hywel, snp, valleys\",\"<b>Topic 0</b><br>Words: forces, lgbtq, conversion, ban, federation\",\"<b>Topic 0</b><br>Words: robson, bosnia, raf, persecution, marriages\",\"<b>Topic 0</b><br>Words: lgbt, rwanda, asylum, uk, conversion\"],\"marker\":{\"color\":\"#E69F00\"},\"mode\":\"lines\",\"name\":\"0_lgbt_rights_ireland_human\",\"x\":[\"2015-01-02T05:54:14.400000\",\"2015-05-22T16:48:00\",\"2015-10-07T09:36:00\",\"2016-02-22T02:24:00\",\"2016-07-08T19:12:00\",\"2016-11-23T12:00:00\",\"2017-04-10T04:48:00\",\"2017-08-25T21:36:00\",\"2018-01-10T14:24:00\",\"2018-05-28T07:12:00\",\"2018-10-13T00:00:00\",\"2019-02-27T16:48:00\",\"2019-07-15T09:36:00\",\"2019-11-30T02:24:00\",\"2020-04-15T19:12:00\",\"2020-08-31T12:00:00\",\"2021-01-16T04:48:00\",\"2021-06-02T21:36:00\",\"2021-10-18T14:24:00\",\"2022-03-05T07:12:00\"],\"y\":[6,14,21,21,45,43,31,51,82,25,31,65,8,24,13,28,7,38,21,51],\"type\":\"scatter\"},{\"hoverinfo\":\"text\",\"hovertext\":[\"<b>Topic 1</b><br>Words: gap, compensation, audit, labour, garrett\",\"<b>Topic 1</b><br>Words: gap, gender, employers, transparency, sector\",\"<b>Topic 1</b><br>Words: dwp, gap, childcare, publish, stem\",\"<b>Topic 1</b><br>Words: gap, apprentices, enterprise, science, lowest\",\"<b>Topic 1</b><br>Words: gap, stem, operatives, detract, ftse\",\"<b>Topic 1</b><br>Words: gap, gender, stem, employers, childcare\",\"<b>Topic 1</b><br>Words: gap, pay, greetings, flip, gender\",\"<b>Topic 1</b><br>Words: sector, gender, reporting, transparency, employers\",\"<b>Topic 1</b><br>Words: gap, reporting, engineering, parental, freelancers\",\"<b>Topic 1</b><br>Words: employers, reporting, shared, gap, evaluate\",\"<b>Topic 1</b><br>Words: slavery, gap, employers, robot, 5mc\",\"<b>Topic 1</b><br>Words: gap, employers, reporting, sector, deadline\",\"<b>Topic 1</b><br>Words: gender, strood, advertisements, noticeably, tolhurst\",\"<b>Topic 1</b><br>Words: gap, stonelaw, go4set, plot, yawning\",\"<b>Topic 1</b><br>Words: coronavirus, gap, penalises, downturn, calculations\",\"<b>Topic 1</b><br>Words: gap, internships, minimum, salary, women\",\"<b>Topic 1</b><br>Words: freeports, gap, ipsa, impact, policies\",\"<b>Topic 1</b><br>Words: entries, stem, gcses, notable, interventions\",\"<b>Topic 1</b><br>Words: biomedical, defunding, tuc, widens, cbi\",\"<b>Topic 1</b><br>Words: businesses, ethnicity, exclusivity, skewing, 2024\"],\"marker\":{\"color\":\"#56B4E9\"},\"mode\":\"lines\",\"name\":\"1_gap_employers_reporting_equality\",\"x\":[\"2015-01-02T05:54:14.400000\",\"2015-05-22T16:48:00\",\"2015-10-07T09:36:00\",\"2016-02-22T02:24:00\",\"2016-07-08T19:12:00\",\"2016-11-23T12:00:00\",\"2017-04-10T04:48:00\",\"2017-08-25T21:36:00\",\"2018-01-10T14:24:00\",\"2018-05-28T07:12:00\",\"2018-10-13T00:00:00\",\"2019-02-27T16:48:00\",\"2019-07-15T09:36:00\",\"2019-11-30T02:24:00\",\"2020-04-15T19:12:00\",\"2020-08-31T12:00:00\",\"2021-01-16T04:48:00\",\"2021-06-02T21:36:00\",\"2021-10-18T14:24:00\",\"2022-03-05T07:12:00\"],\"y\":[16,48,50,45,8,33,6,31,93,15,19,49,8,11,5,14,7,1,4,6],\"type\":\"scatter\"},{\"hoverinfo\":\"text\",\"hovertext\":[\"<b>Topic 2</b><br>Words: nhs, gmc, bme, camhs, physical\",\"<b>Topic 2</b><br>Words: transgender, tfl, station, certificate, recognition\",\"<b>Topic 2</b><br>Words: palliative, hospital, curie, nearing, closure\",\"<b>Topic 2</b><br>Words: health, report, people, trans, ccgs\",\"<b>Topic 2</b><br>Words: transgender, recognition, health, 2004, equalities\",\"<b>Topic 2</b><br>Words: petitions, fashion, prescient, voice, chance\",\"<b>Topic 2</b><br>Words: 2004, register, trafficking, gender, 1087\",\"<b>Topic 2</b><br>Words: rough, condition, binary, trans, hypothyroidism\",\"<b>Topic 2</b><br>Words: recording, health, psychosis, croydon, 2004\",\"<b>Topic 2</b><br>Words: data, prisoners, airline, ill, transgender\",\"<b>Topic 2</b><br>Words: bolsonaro, recognition, folk, certificate, lgbt\",\"<b>Topic 2</b><br>Words: disorders, homes, cosmetic, young, foundation\",\"<b>Topic 2</b><br>Words: inequalities, lgbt, homelessness, nhs, report\",\"<b>Topic 2</b><br>Words: brady, fanning, trans, populist, crisis\",\"<b>Topic 2</b><br>Words: transgender, clinics, kinder, waiting, lists\",\"<b>Topic 2</b><br>Words: eating, marmot, lgbt, tidying, cass\",\"<b>Topic 2</b><br>Words: transgender, treadwell, define, prisons, panel\",\"<b>Topic 2</b><br>Words: cass, disparities, transgender, hilary, presenting\"],\"marker\":{\"color\":\"#009E73\"},\"mode\":\"lines\",\"name\":\"2_transgender_recognition_care_prisoners\",\"x\":[\"2015-01-02T05:54:14.400000\",\"2015-10-07T09:36:00\",\"2016-02-22T02:24:00\",\"2016-07-08T19:12:00\",\"2016-11-23T12:00:00\",\"2017-04-10T04:48:00\",\"2017-08-25T21:36:00\",\"2018-01-10T14:24:00\",\"2018-05-28T07:12:00\",\"2018-10-13T00:00:00\",\"2019-02-27T16:48:00\",\"2019-07-15T09:36:00\",\"2019-11-30T02:24:00\",\"2020-04-15T19:12:00\",\"2020-08-31T12:00:00\",\"2021-01-16T04:48:00\",\"2021-10-18T14:24:00\",\"2022-03-05T07:12:00\"],\"y\":[8,29,11,10,63,5,14,8,9,9,11,9,13,6,31,7,14,18],\"type\":\"scatter\"},{\"hoverinfo\":\"text\",\"hovertext\":[\"<b>Topic 3</b><br>Words: fgm, slough, rant, abduction, applications\",\"<b>Topic 3</b><br>Words: yarl, detention, wood, reticence, sensitivity\",\"<b>Topic 3</b><br>Words: displaced, conflict, psychoactive, yemen, prison\",\"<b>Topic 3</b><br>Words: bangladesh, arlene, xulhaz, murders, forms\",\"<b>Topic 3</b><br>Words: lankan, rosaline, dhaka, land, persecution\",\"<b>Topic 3</b><br>Words: victims, istanbul, domestic, sexual, stalking\",\"<b>Topic 3</b><br>Words: spoke, constituency, hon, east, doughty\",\"<b>Topic 3</b><br>Words: abuse, platforms, banner, mps, consider\",\"<b>Topic 3</b><br>Words: burma, repatriation, cyclone, returns, cleansing\",\"<b>Topic 3</b><br>Words: misogyny, nottinghamshire, distribution, whataboutery, fantasy\",\"<b>Topic 3</b><br>Words: burma, camps, bazar, violence, repatriation\",\"<b>Topic 3</b><br>Words: fgm, yemen, conflict, girls, 391\",\"<b>Topic 3</b><br>Words: poor, disorders, ukraine, elena, thugs\",\"<b>Topic 3</b><br>Words: ratify, convention, feminists, istanbul, todd\",\"<b>Topic 3</b><br>Words: detector, domestic, alienation, misogyny, victims\",\"<b>Topic 3</b><br>Words: yemen, displaced, sanitation, authorisation, density\",\"<b>Topic 3</b><br>Words: stop, ratify, offenders, status, istanbul\",\"<b>Topic 3</b><br>Words: psvi, girls, initiative, preventing, based\",\"<b>Topic 3</b><br>Words: girls, commission, based, carve, misogyny\",\"<b>Topic 3</b><br>Words: women, lords, crimes, ukraine, daniel\"],\"marker\":{\"color\":\"#F0E442\"},\"mode\":\"lines\",\"name\":\"3_victims_sexual_convention_based\",\"x\":[\"2015-01-02T05:54:14.400000\",\"2015-05-22T16:48:00\",\"2015-10-07T09:36:00\",\"2016-02-22T02:24:00\",\"2016-07-08T19:12:00\",\"2016-11-23T12:00:00\",\"2017-04-10T04:48:00\",\"2017-08-25T21:36:00\",\"2018-01-10T14:24:00\",\"2018-05-28T07:12:00\",\"2018-10-13T00:00:00\",\"2019-02-27T16:48:00\",\"2019-07-15T09:36:00\",\"2019-11-30T02:24:00\",\"2020-04-15T19:12:00\",\"2020-08-31T12:00:00\",\"2021-01-16T04:48:00\",\"2021-06-02T21:36:00\",\"2021-10-18T14:24:00\",\"2022-03-05T07:12:00\"],\"y\":[5,2,9,20,18,41,3,7,12,10,12,14,7,4,7,8,10,23,41,18],\"type\":\"scatter\"},{\"hoverinfo\":\"text\",\"hovertext\":[\"<b>Topic 4</b><br>Words: ofsted, pupils, coercive, inspection, friend\",\"<b>Topic 4</b><br>Words: constituency, stirling, maiden, local, bermondsey\",\"<b>Topic 4</b><br>Words: forces, human, rights, shall, hon\",\"<b>Topic 4</b><br>Words: jo, taxi, extremism, operators, caring\",\"<b>Topic 4</b><br>Words: pardon, bbc, dunbartonshire, turing, member\",\"<b>Topic 4</b><br>Words: navy, member, homosexual, salisbury, keynes\",\"<b>Topic 4</b><br>Words: kensington, islanders, gaza, constituency, constituents\",\"<b>Topic 4</b><br>Words: mental, midlands, triage, retention, navy\",\"<b>Topic 4</b><br>Words: tessa, slps, peacekeeping, challenges, laundromat\",\"<b>Topic 4</b><br>Words: turkish, coup, human, journalists, belief\",\"<b>Topic 4</b><br>Words: raf, authorities, hon, drainage, standing\",\"<b>Topic 4</b><br>Words: fishing, visas, dfid, hon, aid\",\"<b>Topic 4</b><br>Words: mental, speaker, carers, hon, able\",\"<b>Topic 4</b><br>Words: ireland, protocol, maiden, new, clause\",\"<b>Topic 4</b><br>Words: divorce, transplant, hon, ipu, colleagues\",\"<b>Topic 4</b><br>Words: coronation, ken, roache, friend, rita\",\"<b>Topic 4</b><br>Words: forces, veterans, wwe, democracy, north\",\"<b>Topic 4</b><br>Words: loneliness, today, statues, leadbeater, cox\",\"<b>Topic 4</b><br>Words: section, jack, hywel, safety, renovation\",\"<b>Topic 4</b><br>Words: veterans, speech, belief, auckland, alexa\"],\"marker\":{\"color\":\"#D55E00\"},\"mode\":\"lines\",\"name\":\"4_member_friend_armed_jo\",\"x\":[\"2015-01-02T05:54:14.400000\",\"2015-05-22T16:48:00\",\"2015-10-07T09:36:00\",\"2016-02-22T02:24:00\",\"2016-07-08T19:12:00\",\"2016-11-23T12:00:00\",\"2017-04-10T04:48:00\",\"2017-08-25T21:36:00\",\"2018-01-10T14:24:00\",\"2018-05-28T07:12:00\",\"2018-10-13T00:00:00\",\"2019-02-27T16:48:00\",\"2019-07-15T09:36:00\",\"2019-11-30T02:24:00\",\"2020-04-15T19:12:00\",\"2020-08-31T12:00:00\",\"2021-01-16T04:48:00\",\"2021-06-02T21:36:00\",\"2021-10-18T14:24:00\",\"2022-03-05T07:12:00\"],\"y\":[3,17,10,13,14,15,10,11,6,4,11,9,17,20,11,6,8,11,15,13],\"type\":\"scatter\"},{\"hoverinfo\":\"text\",\"hovertext\":[\"<b>Topic 5</b><br>Words: erewash, beijing, meriden, female, guides\",\"<b>Topic 5</b><br>Words: contractors, feminist, caitlin, racing, speeches\",\"<b>Topic 5</b><br>Words: noon, davies, initiating, niche, advising\",\"<b>Topic 5</b><br>Words: woman, eastleigh, neath, waspi, today\",\"<b>Topic 5</b><br>Words: chamber, debate, ratio, underperformance, gender\",\"<b>Topic 5</b><br>Words: women, day, bold, violence, achievements\",\"<b>Topic 5</b><br>Words: committees, equalities, outnumbered, footing, toll\",\"<b>Topic 5</b><br>Words: models, weeks, young, feminist, basingstoke\",\"<b>Topic 5</b><br>Words: female, day, hull, international, suffrage\",\"<b>Topic 5</b><br>Words: committees, smaller, trade, corbett, advances\",\"<b>Topic 5</b><br>Words: monday, house, patriarchal, misery, oozes\",\"<b>Topic 5</b><br>Words: women, day, international, harassment, tribute\",\"<b>Topic 5</b><br>Words: women, international, celebrate, sulley, barriers\",\"<b>Topic 5</b><br>Words: academia, grosvenor, inquiring, fiona, lewis\",\"<b>Topic 5</b><br>Words: masculinity, tegan, spikes, meritocracies, robyn\",\"<b>Topic 5</b><br>Words: replenishment, transforms, presidency, pandemic, teachers\",\"<b>Topic 5</b><br>Words: women, ukraine, celebrate, entrepreneurs, need\"],\"marker\":{\"color\":\"#0072B2\"},\"mode\":\"lines\",\"name\":\"5_woman_international_hon_celebrate\",\"x\":[\"2015-01-02T05:54:14.400000\",\"2015-05-22T16:48:00\",\"2015-10-07T09:36:00\",\"2016-02-22T02:24:00\",\"2016-07-08T19:12:00\",\"2016-11-23T12:00:00\",\"2017-04-10T04:48:00\",\"2017-08-25T21:36:00\",\"2018-01-10T14:24:00\",\"2018-05-28T07:12:00\",\"2018-10-13T00:00:00\",\"2019-02-27T16:48:00\",\"2019-11-30T02:24:00\",\"2020-04-15T19:12:00\",\"2020-08-31T12:00:00\",\"2021-01-16T04:48:00\",\"2022-03-05T07:12:00\"],\"y\":[9,4,8,11,9,16,3,2,36,3,8,21,11,1,3,1,14],\"type\":\"scatter\"},{\"hoverinfo\":\"text\",\"hovertext\":[\"<b>Topic 6</b><br>Words: ofsted, bullying, curriculum, hiv, pupils\",\"<b>Topic 6</b><br>Words: sre, coasting, ofsted, statutory, children\",\"<b>Topic 6</b><br>Words: bullying, curriculum, gardening, tumours, monoxide\",\"<b>Topic 6</b><br>Words: bullying, online, safeguarding, adults, apps\",\"<b>Topic 6</b><br>Words: caribbean, biting, sooner, formula, reductions\",\"<b>Topic 6</b><br>Words: sre, young, bullying, dubs, pupils\",\"<b>Topic 6</b><br>Words: inclusiveness, developed, massive, showed, draw\",\"<b>Topic 6</b><br>Words: pshe, curriculum, unfit, compulsory, talk\",\"<b>Topic 6</b><br>Words: sre, petition, lgbt, 8th, censoring\",\"<b>Topic 6</b><br>Words: education, withdraw, rse, safe, mandatory\",\"<b>Topic 6</b><br>Words: bullying, aware, subjects, online, induction\",\"<b>Topic 6</b><br>Words: lgbt, children, curriculum, primary, birmingham\",\"<b>Topic 6</b><br>Words: guidance, relationships, protests, headteachers, prescriptive\",\"<b>Topic 6</b><br>Words: schools, ok, stamp, s1, helpfulness\",\"<b>Topic 6</b><br>Words: invested, addressed, anti, bullying, tackling\",\"<b>Topic 6</b><br>Words: bullying, dfe, schemes, educate, statistic\",\"<b>Topic 6</b><br>Words: refugee, dongles, exclusion, pledging, quality\",\"<b>Topic 6</b><br>Words: rshe, ofsted, harmful, ubiquity, filters\",\"<b>Topic 6</b><br>Words: virtues, proverb, start4life, progressively, politicisation\",\"<b>Topic 6</b><br>Words: northfield, bournville, nonconformity, turves, extracare\"],\"marker\":{\"color\":\"#CC79A7\"},\"mode\":\"lines\",\"name\":\"6_young_guidance_primary_sre\",\"x\":[\"2015-01-02T05:54:14.400000\",\"2015-05-22T16:48:00\",\"2015-10-07T09:36:00\",\"2016-02-22T02:24:00\",\"2016-07-08T19:12:00\",\"2016-11-23T12:00:00\",\"2017-04-10T04:48:00\",\"2017-08-25T21:36:00\",\"2018-01-10T14:24:00\",\"2018-05-28T07:12:00\",\"2018-10-13T00:00:00\",\"2019-02-27T16:48:00\",\"2019-07-15T09:36:00\",\"2019-11-30T02:24:00\",\"2020-04-15T19:12:00\",\"2020-08-31T12:00:00\",\"2021-01-16T04:48:00\",\"2021-06-02T21:36:00\",\"2021-10-18T14:24:00\",\"2022-03-05T07:12:00\"],\"y\":[14,2,5,10,3,13,1,7,7,4,9,42,19,6,1,3,1,4,2,3],\"type\":\"scatter\"},{\"hoverinfo\":\"text\",\"hovertext\":[\"<b>Topic 7</b><br>Words: cancer, camnesia, hospital, leone, oesophagus\",\"<b>Topic 7</b><br>Words: goals, purdah, promotional, trade, 2000\",\"<b>Topic 7</b><br>Words: fca, corruption, partners, malawi, summit\",\"<b>Topic 7</b><br>Words: bma, nhs, earthquake, rostering, proportional\",\"<b>Topic 7</b><br>Words: junior, brexit, inverclyde, patients, pr\",\"<b>Topic 7</b><br>Words: aid, cdc, lakes, referendum, union\",\"<b>Topic 7</b><br>Words: g20, summit, terrorist, spoke, paris\",\"<b>Topic 7</b><br>Words: reliefs, eu, directive, derivatives, remittance\",\"<b>Topic 7</b><br>Words: bermuda, wylie, gearing, assent, relocation\",\"<b>Topic 7</b><br>Words: laid, free, summit, scrutiny, procedure\",\"<b>Topic 7</b><br>Words: deal, brexit, chancellor, obr, rights\",\"<b>Topic 7</b><br>Words: climate, g20, development, agreement, ursula\",\"<b>Topic 7</b><br>Words: sepsis, coma, russells, ancillary, lucky\",\"<b>Topic 7</b><br>Words: wylfa, climate, contingencies, advanced, million\",\"<b>Topic 7</b><br>Words: subsection, agreements, aid, uk, laid\",\"<b>Topic 7</b><br>Words: regulatory, lockdown, britain, cost, good\",\"<b>Topic 7</b><br>Words: trade, vaccine, referendum, japan, scrutiny\",\"<b>Topic 7</b><br>Words: global, humanitarian, climate, vaccines, sids\",\"<b>Topic 7</b><br>Words: levelling, pandemic, deal, regulators, green\",\"<b>Topic 7</b><br>Words: development, disinformation, levelling, queen, aid\"],\"marker\":{\"color\":\"#E69F00\"},\"mode\":\"lines\",\"name\":\"7_trade_climate_european_junior\",\"x\":[\"2015-01-02T05:54:14.400000\",\"2015-05-22T16:48:00\",\"2015-10-07T09:36:00\",\"2016-02-22T02:24:00\",\"2016-07-08T19:12:00\",\"2016-11-23T12:00:00\",\"2017-04-10T04:48:00\",\"2017-08-25T21:36:00\",\"2018-01-10T14:24:00\",\"2018-05-28T07:12:00\",\"2018-10-13T00:00:00\",\"2019-02-27T16:48:00\",\"2019-07-15T09:36:00\",\"2019-11-30T02:24:00\",\"2020-04-15T19:12:00\",\"2020-08-31T12:00:00\",\"2021-01-16T04:48:00\",\"2021-06-02T21:36:00\",\"2021-10-18T14:24:00\",\"2022-03-05T07:12:00\"],\"y\":[6,9,7,10,15,8,3,7,4,5,10,9,1,4,11,11,7,10,7,9],\"type\":\"scatter\"},{\"hoverinfo\":\"text\",\"hovertext\":[\"<b>Topic 8</b><br>Words: neath, women, earn, wales, recession\",\"<b>Topic 8</b><br>Words: women, chancellor, impact, equality, credits\",\"<b>Topic 8</b><br>Words: poorest, razors, taxes, dodge, billion\",\"<b>Topic 8</b><br>Words: accommodation, supported, scratched, giveth, box\",\"<b>Topic 8</b><br>Words: budget, chancellor, impact, gender, labour\",\"<b>Topic 8</b><br>Words: outnumbered, transparent, candidates, recommendation, equalities\",\"<b>Topic 8</b><br>Words: inequality, impact, data, waspi, tax\",\"<b>Topic 8</b><br>Words: maternity, gap, lewisham, impact, treasury\",\"<b>Topic 8</b><br>Words: personalised, coaches, jobcentre, universal, plus\",\"<b>Topic 8</b><br>Words: threshold, concurred, ubuntu, salary, fleeing\",\"<b>Topic 8</b><br>Words: poverty, psychodrama, claimants, rickshaw, stabilise\",\"<b>Topic 8</b><br>Words: credit, universal, tout, assassinate, thatcher\",\"<b>Topic 8</b><br>Words: careworkers, women, keyboard, better, 2010\",\"<b>Topic 8</b><br>Words: instructors, premises, yoga, beauticians, complementary\",\"<b>Topic 8</b><br>Words: descends, manna, segregating, dispensation, eton\",\"<b>Topic 8</b><br>Words: combining, pontefract, castleford, rathbone, birth\",\"<b>Topic 8</b><br>Words: primogeniture, hereditary, anomaly, feminists, seats\",\"<b>Topic 8</b><br>Words: sexes, schemes, helpline, unintended, pensions\",\"<b>Topic 8</b><br>Words: chamberlain, wera, hobhouse, christine, printed\"],\"marker\":{\"color\":\"#56B4E9\"},\"mode\":\"lines\",\"name\":\"8_women_tax_impact_chancellor\",\"x\":[\"2015-05-22T16:48:00\",\"2015-10-07T09:36:00\",\"2016-02-22T02:24:00\",\"2016-07-08T19:12:00\",\"2016-11-23T12:00:00\",\"2017-04-10T04:48:00\",\"2017-08-25T21:36:00\",\"2018-01-10T14:24:00\",\"2018-05-28T07:12:00\",\"2018-10-13T00:00:00\",\"2019-02-27T16:48:00\",\"2019-07-15T09:36:00\",\"2019-11-30T02:24:00\",\"2020-04-15T19:12:00\",\"2020-08-31T12:00:00\",\"2021-01-16T04:48:00\",\"2021-06-02T21:36:00\",\"2021-10-18T14:24:00\",\"2022-03-05T07:12:00\"],\"y\":[4,25,5,3,26,1,15,16,1,6,5,4,7,1,2,1,2,5,2],\"type\":\"scatter\"},{\"hoverinfo\":\"text\",\"hovertext\":[\"<b>Topic 9</b><br>Words: policing, 000, nigel, reorganisations, unsolved\",\"<b>Topic 9</b><br>Words: exploitation, children, 16, adulthood, consent\",\"<b>Topic 9</b><br>Words: online, bullying, messages, reported, platforms\",\"<b>Topic 9</b><br>Words: importuning, concentrix, sacked, bedroom, 1707\",\"<b>Topic 9</b><br>Words: platforms, twitter, halfway, advertise, tunstall\",\"<b>Topic 9</b><br>Words: online, sexual, house, twitter, canterbury\",\"<b>Topic 9</b><br>Words: harassment, staff, sexual, leader, procedures\",\"<b>Topic 9</b><br>Words: codes, training, rabbani, discretion, antisocial\",\"<b>Topic 9</b><br>Words: laura, harassment, report, paragraph, place\",\"<b>Topic 9</b><br>Words: fgm, harassment, dame, uncle, recommendations\",\"<b>Topic 9</b><br>Words: gemma, staff, harassment, concludes, cropping\",\"<b>Topic 9</b><br>Words: police, cardiff, minogue, flack, unpleasant\",\"<b>Topic 9</b><br>Words: wing, harms, extreme, grooming, angles\",\"<b>Topic 9</b><br>Words: online, harms, disinformation, platforms, counter\",\"<b>Topic 9</b><br>Words: icgs, parlireach, buddy, isolate, desk\",\"<b>Topic 9</b><br>Words: online, vax, giants, telegram, failures\",\"<b>Topic 9</b><br>Words: platforms, twitter, categorisation, harm, staff\"],\"marker\":{\"color\":\"#009E73\"},\"mode\":\"lines\",\"name\":\"9_online_bullying_platforms_young\",\"x\":[\"2015-01-02T05:54:14.400000\",\"2015-10-07T09:36:00\",\"2016-02-22T02:24:00\",\"2016-07-08T19:12:00\",\"2016-11-23T12:00:00\",\"2017-08-25T21:36:00\",\"2018-01-10T14:24:00\",\"2018-05-28T07:12:00\",\"2018-10-13T00:00:00\",\"2019-02-27T16:48:00\",\"2019-07-15T09:36:00\",\"2019-11-30T02:24:00\",\"2020-04-15T19:12:00\",\"2020-08-31T12:00:00\",\"2021-01-16T04:48:00\",\"2021-10-18T14:24:00\",\"2022-03-05T07:12:00\"],\"y\":[1,6,14,2,3,17,4,2,6,9,1,2,1,5,2,13,11],\"type\":\"scatter\"}],                        {\"template\":{\"data\":{\"barpolar\":[{\"marker\":{\"line\":{\"color\":\"white\",\"width\":0.5},\"pattern\":{\"fillmode\":\"overlay\",\"size\":10,\"solidity\":0.2}},\"type\":\"barpolar\"}],\"bar\":[{\"error_x\":{\"color\":\"rgb(36,36,36)\"},\"error_y\":{\"color\":\"rgb(36,36,36)\"},\"marker\":{\"line\":{\"color\":\"white\",\"width\":0.5},\"pattern\":{\"fillmode\":\"overlay\",\"size\":10,\"solidity\":0.2}},\"type\":\"bar\"}],\"carpet\":[{\"aaxis\":{\"endlinecolor\":\"rgb(36,36,36)\",\"gridcolor\":\"white\",\"linecolor\":\"white\",\"minorgridcolor\":\"white\",\"startlinecolor\":\"rgb(36,36,36)\"},\"baxis\":{\"endlinecolor\":\"rgb(36,36,36)\",\"gridcolor\":\"white\",\"linecolor\":\"white\",\"minorgridcolor\":\"white\",\"startlinecolor\":\"rgb(36,36,36)\"},\"type\":\"carpet\"}],\"choropleth\":[{\"colorbar\":{\"outlinewidth\":1,\"tickcolor\":\"rgb(36,36,36)\",\"ticks\":\"outside\"},\"type\":\"choropleth\"}],\"contourcarpet\":[{\"colorbar\":{\"outlinewidth\":1,\"tickcolor\":\"rgb(36,36,36)\",\"ticks\":\"outside\"},\"type\":\"contourcarpet\"}],\"contour\":[{\"colorbar\":{\"outlinewidth\":1,\"tickcolor\":\"rgb(36,36,36)\",\"ticks\":\"outside\"},\"colorscale\":[[0.0,\"#440154\"],[0.1111111111111111,\"#482878\"],[0.2222222222222222,\"#3e4989\"],[0.3333333333333333,\"#31688e\"],[0.4444444444444444,\"#26828e\"],[0.5555555555555556,\"#1f9e89\"],[0.6666666666666666,\"#35b779\"],[0.7777777777777778,\"#6ece58\"],[0.8888888888888888,\"#b5de2b\"],[1.0,\"#fde725\"]],\"type\":\"contour\"}],\"heatmapgl\":[{\"colorbar\":{\"outlinewidth\":1,\"tickcolor\":\"rgb(36,36,36)\",\"ticks\":\"outside\"},\"colorscale\":[[0.0,\"#440154\"],[0.1111111111111111,\"#482878\"],[0.2222222222222222,\"#3e4989\"],[0.3333333333333333,\"#31688e\"],[0.4444444444444444,\"#26828e\"],[0.5555555555555556,\"#1f9e89\"],[0.6666666666666666,\"#35b779\"],[0.7777777777777778,\"#6ece58\"],[0.8888888888888888,\"#b5de2b\"],[1.0,\"#fde725\"]],\"type\":\"heatmapgl\"}],\"heatmap\":[{\"colorbar\":{\"outlinewidth\":1,\"tickcolor\":\"rgb(36,36,36)\",\"ticks\":\"outside\"},\"colorscale\":[[0.0,\"#440154\"],[0.1111111111111111,\"#482878\"],[0.2222222222222222,\"#3e4989\"],[0.3333333333333333,\"#31688e\"],[0.4444444444444444,\"#26828e\"],[0.5555555555555556,\"#1f9e89\"],[0.6666666666666666,\"#35b779\"],[0.7777777777777778,\"#6ece58\"],[0.8888888888888888,\"#b5de2b\"],[1.0,\"#fde725\"]],\"type\":\"heatmap\"}],\"histogram2dcontour\":[{\"colorbar\":{\"outlinewidth\":1,\"tickcolor\":\"rgb(36,36,36)\",\"ticks\":\"outside\"},\"colorscale\":[[0.0,\"#440154\"],[0.1111111111111111,\"#482878\"],[0.2222222222222222,\"#3e4989\"],[0.3333333333333333,\"#31688e\"],[0.4444444444444444,\"#26828e\"],[0.5555555555555556,\"#1f9e89\"],[0.6666666666666666,\"#35b779\"],[0.7777777777777778,\"#6ece58\"],[0.8888888888888888,\"#b5de2b\"],[1.0,\"#fde725\"]],\"type\":\"histogram2dcontour\"}],\"histogram2d\":[{\"colorbar\":{\"outlinewidth\":1,\"tickcolor\":\"rgb(36,36,36)\",\"ticks\":\"outside\"},\"colorscale\":[[0.0,\"#440154\"],[0.1111111111111111,\"#482878\"],[0.2222222222222222,\"#3e4989\"],[0.3333333333333333,\"#31688e\"],[0.4444444444444444,\"#26828e\"],[0.5555555555555556,\"#1f9e89\"],[0.6666666666666666,\"#35b779\"],[0.7777777777777778,\"#6ece58\"],[0.8888888888888888,\"#b5de2b\"],[1.0,\"#fde725\"]],\"type\":\"histogram2d\"}],\"histogram\":[{\"marker\":{\"line\":{\"color\":\"white\",\"width\":0.6}},\"type\":\"histogram\"}],\"mesh3d\":[{\"colorbar\":{\"outlinewidth\":1,\"tickcolor\":\"rgb(36,36,36)\",\"ticks\":\"outside\"},\"type\":\"mesh3d\"}],\"parcoords\":[{\"line\":{\"colorbar\":{\"outlinewidth\":1,\"tickcolor\":\"rgb(36,36,36)\",\"ticks\":\"outside\"}},\"type\":\"parcoords\"}],\"pie\":[{\"automargin\":true,\"type\":\"pie\"}],\"scatter3d\":[{\"line\":{\"colorbar\":{\"outlinewidth\":1,\"tickcolor\":\"rgb(36,36,36)\",\"ticks\":\"outside\"}},\"marker\":{\"colorbar\":{\"outlinewidth\":1,\"tickcolor\":\"rgb(36,36,36)\",\"ticks\":\"outside\"}},\"type\":\"scatter3d\"}],\"scattercarpet\":[{\"marker\":{\"colorbar\":{\"outlinewidth\":1,\"tickcolor\":\"rgb(36,36,36)\",\"ticks\":\"outside\"}},\"type\":\"scattercarpet\"}],\"scattergeo\":[{\"marker\":{\"colorbar\":{\"outlinewidth\":1,\"tickcolor\":\"rgb(36,36,36)\",\"ticks\":\"outside\"}},\"type\":\"scattergeo\"}],\"scattergl\":[{\"marker\":{\"colorbar\":{\"outlinewidth\":1,\"tickcolor\":\"rgb(36,36,36)\",\"ticks\":\"outside\"}},\"type\":\"scattergl\"}],\"scattermapbox\":[{\"marker\":{\"colorbar\":{\"outlinewidth\":1,\"tickcolor\":\"rgb(36,36,36)\",\"ticks\":\"outside\"}},\"type\":\"scattermapbox\"}],\"scatterpolargl\":[{\"marker\":{\"colorbar\":{\"outlinewidth\":1,\"tickcolor\":\"rgb(36,36,36)\",\"ticks\":\"outside\"}},\"type\":\"scatterpolargl\"}],\"scatterpolar\":[{\"marker\":{\"colorbar\":{\"outlinewidth\":1,\"tickcolor\":\"rgb(36,36,36)\",\"ticks\":\"outside\"}},\"type\":\"scatterpolar\"}],\"scatter\":[{\"fillpattern\":{\"fillmode\":\"overlay\",\"size\":10,\"solidity\":0.2},\"type\":\"scatter\"}],\"scatterternary\":[{\"marker\":{\"colorbar\":{\"outlinewidth\":1,\"tickcolor\":\"rgb(36,36,36)\",\"ticks\":\"outside\"}},\"type\":\"scatterternary\"}],\"surface\":[{\"colorbar\":{\"outlinewidth\":1,\"tickcolor\":\"rgb(36,36,36)\",\"ticks\":\"outside\"},\"colorscale\":[[0.0,\"#440154\"],[0.1111111111111111,\"#482878\"],[0.2222222222222222,\"#3e4989\"],[0.3333333333333333,\"#31688e\"],[0.4444444444444444,\"#26828e\"],[0.5555555555555556,\"#1f9e89\"],[0.6666666666666666,\"#35b779\"],[0.7777777777777778,\"#6ece58\"],[0.8888888888888888,\"#b5de2b\"],[1.0,\"#fde725\"]],\"type\":\"surface\"}],\"table\":[{\"cells\":{\"fill\":{\"color\":\"rgb(237,237,237)\"},\"line\":{\"color\":\"white\"}},\"header\":{\"fill\":{\"color\":\"rgb(217,217,217)\"},\"line\":{\"color\":\"white\"}},\"type\":\"table\"}]},\"layout\":{\"annotationdefaults\":{\"arrowhead\":0,\"arrowwidth\":1},\"autotypenumbers\":\"strict\",\"coloraxis\":{\"colorbar\":{\"outlinewidth\":1,\"tickcolor\":\"rgb(36,36,36)\",\"ticks\":\"outside\"}},\"colorscale\":{\"diverging\":[[0.0,\"rgb(103,0,31)\"],[0.1,\"rgb(178,24,43)\"],[0.2,\"rgb(214,96,77)\"],[0.3,\"rgb(244,165,130)\"],[0.4,\"rgb(253,219,199)\"],[0.5,\"rgb(247,247,247)\"],[0.6,\"rgb(209,229,240)\"],[0.7,\"rgb(146,197,222)\"],[0.8,\"rgb(67,147,195)\"],[0.9,\"rgb(33,102,172)\"],[1.0,\"rgb(5,48,97)\"]],\"sequential\":[[0.0,\"#440154\"],[0.1111111111111111,\"#482878\"],[0.2222222222222222,\"#3e4989\"],[0.3333333333333333,\"#31688e\"],[0.4444444444444444,\"#26828e\"],[0.5555555555555556,\"#1f9e89\"],[0.6666666666666666,\"#35b779\"],[0.7777777777777778,\"#6ece58\"],[0.8888888888888888,\"#b5de2b\"],[1.0,\"#fde725\"]],\"sequentialminus\":[[0.0,\"#440154\"],[0.1111111111111111,\"#482878\"],[0.2222222222222222,\"#3e4989\"],[0.3333333333333333,\"#31688e\"],[0.4444444444444444,\"#26828e\"],[0.5555555555555556,\"#1f9e89\"],[0.6666666666666666,\"#35b779\"],[0.7777777777777778,\"#6ece58\"],[0.8888888888888888,\"#b5de2b\"],[1.0,\"#fde725\"]]},\"colorway\":[\"#1F77B4\",\"#FF7F0E\",\"#2CA02C\",\"#D62728\",\"#9467BD\",\"#8C564B\",\"#E377C2\",\"#7F7F7F\",\"#BCBD22\",\"#17BECF\"],\"font\":{\"color\":\"rgb(36,36,36)\"},\"geo\":{\"bgcolor\":\"white\",\"lakecolor\":\"white\",\"landcolor\":\"white\",\"showlakes\":true,\"showland\":true,\"subunitcolor\":\"white\"},\"hoverlabel\":{\"align\":\"left\"},\"hovermode\":\"closest\",\"mapbox\":{\"style\":\"light\"},\"paper_bgcolor\":\"white\",\"plot_bgcolor\":\"white\",\"polar\":{\"angularaxis\":{\"gridcolor\":\"rgb(232,232,232)\",\"linecolor\":\"rgb(36,36,36)\",\"showgrid\":false,\"showline\":true,\"ticks\":\"outside\"},\"bgcolor\":\"white\",\"radialaxis\":{\"gridcolor\":\"rgb(232,232,232)\",\"linecolor\":\"rgb(36,36,36)\",\"showgrid\":false,\"showline\":true,\"ticks\":\"outside\"}},\"scene\":{\"xaxis\":{\"backgroundcolor\":\"white\",\"gridcolor\":\"rgb(232,232,232)\",\"gridwidth\":2,\"linecolor\":\"rgb(36,36,36)\",\"showbackground\":true,\"showgrid\":false,\"showline\":true,\"ticks\":\"outside\",\"zeroline\":false,\"zerolinecolor\":\"rgb(36,36,36)\"},\"yaxis\":{\"backgroundcolor\":\"white\",\"gridcolor\":\"rgb(232,232,232)\",\"gridwidth\":2,\"linecolor\":\"rgb(36,36,36)\",\"showbackground\":true,\"showgrid\":false,\"showline\":true,\"ticks\":\"outside\",\"zeroline\":false,\"zerolinecolor\":\"rgb(36,36,36)\"},\"zaxis\":{\"backgroundcolor\":\"white\",\"gridcolor\":\"rgb(232,232,232)\",\"gridwidth\":2,\"linecolor\":\"rgb(36,36,36)\",\"showbackground\":true,\"showgrid\":false,\"showline\":true,\"ticks\":\"outside\",\"zeroline\":false,\"zerolinecolor\":\"rgb(36,36,36)\"}},\"shapedefaults\":{\"fillcolor\":\"black\",\"line\":{\"width\":0},\"opacity\":0.3},\"ternary\":{\"aaxis\":{\"gridcolor\":\"rgb(232,232,232)\",\"linecolor\":\"rgb(36,36,36)\",\"showgrid\":false,\"showline\":true,\"ticks\":\"outside\"},\"baxis\":{\"gridcolor\":\"rgb(232,232,232)\",\"linecolor\":\"rgb(36,36,36)\",\"showgrid\":false,\"showline\":true,\"ticks\":\"outside\"},\"bgcolor\":\"white\",\"caxis\":{\"gridcolor\":\"rgb(232,232,232)\",\"linecolor\":\"rgb(36,36,36)\",\"showgrid\":false,\"showline\":true,\"ticks\":\"outside\"}},\"title\":{\"x\":0.05},\"xaxis\":{\"automargin\":true,\"gridcolor\":\"rgb(232,232,232)\",\"linecolor\":\"rgb(36,36,36)\",\"showgrid\":false,\"showline\":true,\"ticks\":\"outside\",\"title\":{\"standoff\":15},\"zeroline\":false,\"zerolinecolor\":\"rgb(36,36,36)\"},\"yaxis\":{\"automargin\":true,\"gridcolor\":\"rgb(232,232,232)\",\"linecolor\":\"rgb(36,36,36)\",\"showgrid\":false,\"showline\":true,\"ticks\":\"outside\",\"title\":{\"standoff\":15},\"zeroline\":false,\"zerolinecolor\":\"rgb(36,36,36)\"}}},\"xaxis\":{\"showgrid\":true},\"yaxis\":{\"showgrid\":true,\"title\":{\"text\":\"Frequency\"}},\"title\":{\"font\":{\"size\":22,\"color\":\"Black\"},\"text\":\"<b>Topics over Time</b>\",\"y\":0.95,\"x\":0.4,\"xanchor\":\"center\",\"yanchor\":\"top\"},\"hoverlabel\":{\"font\":{\"size\":16,\"family\":\"Rockwell\"},\"bgcolor\":\"white\"},\"width\":1250,\"height\":450,\"legend\":{\"title\":{\"text\":\"<b>Global Topic Representation\"}}},                        {\"responsive\": true}                    ).then(function(){\n",
       "                            \n",
       "var gd = document.getElementById('78ddef1b-a483-4fa9-ac7c-1e700522f389');\n",
       "var x = new MutationObserver(function (mutations, observer) {{\n",
       "        var display = window.getComputedStyle(gd).display;\n",
       "        if (!display || display === 'none') {{\n",
       "            console.log([gd, 'removed!']);\n",
       "            Plotly.purge(gd);\n",
       "            observer.disconnect();\n",
       "        }}\n",
       "}});\n",
       "\n",
       "// Listen for the removal of the full notebook cells\n",
       "var notebookContainer = gd.closest('#notebook-container');\n",
       "if (notebookContainer) {{\n",
       "    x.observe(notebookContainer, {childList: true});\n",
       "}}\n",
       "\n",
       "// Listen for the clearing of the current output cell\n",
       "var outputEl = gd.closest('.output');\n",
       "if (outputEl) {{\n",
       "    x.observe(outputEl, {childList: true});\n",
       "}}\n",
       "\n",
       "                        })                };                });            </script>        </div>"
      ]
     },
     "metadata": {},
     "output_type": "display_data"
    }
   ],
   "source": [
    "topic_model.visualize_topics_over_time(topics_over_time, top_n_topics=10)\n",
    "#topic_model.visualize_topics_over_time(topics_over_time, topics=[0,18])\n"
   ]
  },
  {
   "attachments": {},
   "cell_type": "markdown",
   "metadata": {},
   "source": [
    "What is interesting about the plot above is that the keywords associated with the topic CHANGE over time! Maybe this could be a useful pointer towards further exploration."
   ]
  },
  {
   "cell_type": "code",
   "execution_count": 170,
   "metadata": {},
   "outputs": [
    {
     "data": {
      "text/html": [
       "<div>\n",
       "<style scoped>\n",
       "    .dataframe tbody tr th:only-of-type {\n",
       "        vertical-align: middle;\n",
       "    }\n",
       "\n",
       "    .dataframe tbody tr th {\n",
       "        vertical-align: top;\n",
       "    }\n",
       "\n",
       "    .dataframe thead th {\n",
       "        text-align: right;\n",
       "    }\n",
       "</style>\n",
       "<table border=\"1\" class=\"dataframe\">\n",
       "  <thead>\n",
       "    <tr style=\"text-align: right;\">\n",
       "      <th></th>\n",
       "      <th>Topic</th>\n",
       "      <th>Words</th>\n",
       "      <th>Frequency</th>\n",
       "      <th>Timestamp</th>\n",
       "      <th>Name</th>\n",
       "    </tr>\n",
       "  </thead>\n",
       "  <tbody>\n",
       "    <tr>\n",
       "      <th>1</th>\n",
       "      <td>0</td>\n",
       "      <td>prayers, families, settings, coroners, matilda</td>\n",
       "      <td>6</td>\n",
       "      <td>2015-01-02 05:54:14.400</td>\n",
       "      <td>0_lgbt_rights_ireland_human</td>\n",
       "    </tr>\n",
       "    <tr>\n",
       "      <th>14</th>\n",
       "      <td>0</td>\n",
       "      <td>detained, dungavel, yarl, alternatives, wood</td>\n",
       "      <td>14</td>\n",
       "      <td>2015-05-22 16:48:00.000</td>\n",
       "      <td>0_lgbt_rights_ireland_human</td>\n",
       "    </tr>\n",
       "    <tr>\n",
       "      <th>26</th>\n",
       "      <td>0</td>\n",
       "      <td>couples, opposite, burundi, stability, armed</td>\n",
       "      <td>21</td>\n",
       "      <td>2015-10-07 09:36:00.000</td>\n",
       "      <td>0_lgbt_rights_ireland_human</td>\n",
       "    </tr>\n",
       "    <tr>\n",
       "      <th>43</th>\n",
       "      <td>0</td>\n",
       "      <td>anglican, lichfield, idahot, festivities, rainbow</td>\n",
       "      <td>21</td>\n",
       "      <td>2016-02-22 02:24:00.000</td>\n",
       "      <td>0_lgbt_rights_ireland_human</td>\n",
       "    </tr>\n",
       "    <tr>\n",
       "      <th>59</th>\n",
       "      <td>0</td>\n",
       "      <td>turing, alan, lgbt, pardoned, today</td>\n",
       "      <td>45</td>\n",
       "      <td>2016-07-08 19:12:00.000</td>\n",
       "      <td>0_lgbt_rights_ireland_human</td>\n",
       "    </tr>\n",
       "    <tr>\n",
       "      <th>74</th>\n",
       "      <td>0</td>\n",
       "      <td>statute, maritime, partnerships, forces, sections</td>\n",
       "      <td>43</td>\n",
       "      <td>2016-11-23 12:00:00.000</td>\n",
       "      <td>0_lgbt_rights_ireland_human</td>\n",
       "    </tr>\n",
       "    <tr>\n",
       "      <th>90</th>\n",
       "      <td>0</td>\n",
       "      <td>chechnya, ireland, foreign, sinn, rights</td>\n",
       "      <td>31</td>\n",
       "      <td>2017-04-10 04:48:00.000</td>\n",
       "      <td>0_lgbt_rights_ireland_human</td>\n",
       "    </tr>\n",
       "    <tr>\n",
       "      <th>104</th>\n",
       "      <td>0</td>\n",
       "      <td>torture, egypt, chechnya, arundel, commonwealth</td>\n",
       "      <td>51</td>\n",
       "      <td>2017-08-25 21:36:00.000</td>\n",
       "      <td>0_lgbt_rights_ireland_human</td>\n",
       "    </tr>\n",
       "    <tr>\n",
       "      <th>121</th>\n",
       "      <td>0</td>\n",
       "      <td>lgbt, bermuda, partnerships, ireland, married</td>\n",
       "      <td>82</td>\n",
       "      <td>2018-01-10 14:24:00.000</td>\n",
       "      <td>0_lgbt_rights_ireland_human</td>\n",
       "    </tr>\n",
       "    <tr>\n",
       "      <th>138</th>\n",
       "      <td>0</td>\n",
       "      <td>tobacco, ireland, lgbt, stables, plan</td>\n",
       "      <td>25</td>\n",
       "      <td>2018-05-28 07:12:00.000</td>\n",
       "      <td>0_lgbt_rights_ireland_human</td>\n",
       "    </tr>\n",
       "    <tr>\n",
       "      <th>152</th>\n",
       "      <td>0</td>\n",
       "      <td>ireland, sir, secretary, direct, scruton</td>\n",
       "      <td>31</td>\n",
       "      <td>2018-10-13 00:00:00.000</td>\n",
       "      <td>0_lgbt_rights_ireland_human</td>\n",
       "    </tr>\n",
       "    <tr>\n",
       "      <th>168</th>\n",
       "      <td>0</td>\n",
       "      <td>ireland, islamophobia, rights, gay, lyra</td>\n",
       "      <td>65</td>\n",
       "      <td>2019-02-27 16:48:00.000</td>\n",
       "      <td>0_lgbt_rights_ireland_human</td>\n",
       "    </tr>\n",
       "    <tr>\n",
       "      <th>183</th>\n",
       "      <td>0</td>\n",
       "      <td>lgbtq, bishop, december, census, regulations</td>\n",
       "      <td>8</td>\n",
       "      <td>2019-07-15 09:36:00.000</td>\n",
       "      <td>0_lgbt_rights_ireland_human</td>\n",
       "    </tr>\n",
       "    <tr>\n",
       "      <th>196</th>\n",
       "      <td>0</td>\n",
       "      <td>lgbt, lbt, ireland, health, debate</td>\n",
       "      <td>24</td>\n",
       "      <td>2019-11-30 02:24:00.000</td>\n",
       "      <td>0_lgbt_rights_ireland_human</td>\n",
       "    </tr>\n",
       "    <tr>\n",
       "      <th>212</th>\n",
       "      <td>0</td>\n",
       "      <td>bristol, corruption, lgbt, list, statue</td>\n",
       "      <td>13</td>\n",
       "      <td>2020-04-15 19:12:00.000</td>\n",
       "      <td>0_lgbt_rights_ireland_human</td>\n",
       "    </tr>\n",
       "    <tr>\n",
       "      <th>227</th>\n",
       "      <td>0</td>\n",
       "      <td>black, redcar, cleveland, lgbt, histories</td>\n",
       "      <td>28</td>\n",
       "      <td>2020-08-31 12:00:00.000</td>\n",
       "      <td>0_lgbt_rights_ireland_human</td>\n",
       "    </tr>\n",
       "    <tr>\n",
       "      <th>244</th>\n",
       "      <td>0</td>\n",
       "      <td>ethiopian, neonatal, hywel, snp, valleys</td>\n",
       "      <td>7</td>\n",
       "      <td>2021-01-16 04:48:00.000</td>\n",
       "      <td>0_lgbt_rights_ireland_human</td>\n",
       "    </tr>\n",
       "    <tr>\n",
       "      <th>261</th>\n",
       "      <td>0</td>\n",
       "      <td>forces, lgbtq, conversion, ban, federation</td>\n",
       "      <td>38</td>\n",
       "      <td>2021-06-02 21:36:00.000</td>\n",
       "      <td>0_lgbt_rights_ireland_human</td>\n",
       "    </tr>\n",
       "    <tr>\n",
       "      <th>274</th>\n",
       "      <td>0</td>\n",
       "      <td>robson, bosnia, raf, persecution, marriages</td>\n",
       "      <td>21</td>\n",
       "      <td>2021-10-18 14:24:00.000</td>\n",
       "      <td>0_lgbt_rights_ireland_human</td>\n",
       "    </tr>\n",
       "    <tr>\n",
       "      <th>290</th>\n",
       "      <td>0</td>\n",
       "      <td>lgbt, rwanda, asylum, uk, conversion</td>\n",
       "      <td>51</td>\n",
       "      <td>2022-03-05 07:12:00.000</td>\n",
       "      <td>0_lgbt_rights_ireland_human</td>\n",
       "    </tr>\n",
       "  </tbody>\n",
       "</table>\n",
       "</div>"
      ],
      "text/plain": [
       "     Topic                                              Words  Frequency  \\\n",
       "1        0     prayers, families, settings, coroners, matilda          6   \n",
       "14       0       detained, dungavel, yarl, alternatives, wood         14   \n",
       "26       0       couples, opposite, burundi, stability, armed         21   \n",
       "43       0  anglican, lichfield, idahot, festivities, rainbow         21   \n",
       "59       0                turing, alan, lgbt, pardoned, today         45   \n",
       "74       0  statute, maritime, partnerships, forces, sections         43   \n",
       "90       0           chechnya, ireland, foreign, sinn, rights         31   \n",
       "104      0    torture, egypt, chechnya, arundel, commonwealth         51   \n",
       "121      0      lgbt, bermuda, partnerships, ireland, married         82   \n",
       "138      0              tobacco, ireland, lgbt, stables, plan         25   \n",
       "152      0           ireland, sir, secretary, direct, scruton         31   \n",
       "168      0           ireland, islamophobia, rights, gay, lyra         65   \n",
       "183      0       lgbtq, bishop, december, census, regulations          8   \n",
       "196      0                 lgbt, lbt, ireland, health, debate         24   \n",
       "212      0            bristol, corruption, lgbt, list, statue         13   \n",
       "227      0          black, redcar, cleveland, lgbt, histories         28   \n",
       "244      0           ethiopian, neonatal, hywel, snp, valleys          7   \n",
       "261      0         forces, lgbtq, conversion, ban, federation         38   \n",
       "274      0        robson, bosnia, raf, persecution, marriages         21   \n",
       "290      0               lgbt, rwanda, asylum, uk, conversion         51   \n",
       "\n",
       "                  Timestamp                         Name  \n",
       "1   2015-01-02 05:54:14.400  0_lgbt_rights_ireland_human  \n",
       "14  2015-05-22 16:48:00.000  0_lgbt_rights_ireland_human  \n",
       "26  2015-10-07 09:36:00.000  0_lgbt_rights_ireland_human  \n",
       "43  2016-02-22 02:24:00.000  0_lgbt_rights_ireland_human  \n",
       "59  2016-07-08 19:12:00.000  0_lgbt_rights_ireland_human  \n",
       "74  2016-11-23 12:00:00.000  0_lgbt_rights_ireland_human  \n",
       "90  2017-04-10 04:48:00.000  0_lgbt_rights_ireland_human  \n",
       "104 2017-08-25 21:36:00.000  0_lgbt_rights_ireland_human  \n",
       "121 2018-01-10 14:24:00.000  0_lgbt_rights_ireland_human  \n",
       "138 2018-05-28 07:12:00.000  0_lgbt_rights_ireland_human  \n",
       "152 2018-10-13 00:00:00.000  0_lgbt_rights_ireland_human  \n",
       "168 2019-02-27 16:48:00.000  0_lgbt_rights_ireland_human  \n",
       "183 2019-07-15 09:36:00.000  0_lgbt_rights_ireland_human  \n",
       "196 2019-11-30 02:24:00.000  0_lgbt_rights_ireland_human  \n",
       "212 2020-04-15 19:12:00.000  0_lgbt_rights_ireland_human  \n",
       "227 2020-08-31 12:00:00.000  0_lgbt_rights_ireland_human  \n",
       "244 2021-01-16 04:48:00.000  0_lgbt_rights_ireland_human  \n",
       "261 2021-06-02 21:36:00.000  0_lgbt_rights_ireland_human  \n",
       "274 2021-10-18 14:24:00.000  0_lgbt_rights_ireland_human  \n",
       "290 2022-03-05 07:12:00.000  0_lgbt_rights_ireland_human  "
      ]
     },
     "execution_count": 170,
     "metadata": {},
     "output_type": "execute_result"
    }
   ],
   "source": [
    "# Brexit\n",
    "topics_over_time[topics_over_time['Topic'] == 0]"
   ]
  },
  {
   "cell_type": "code",
   "execution_count": 171,
   "metadata": {},
   "outputs": [
    {
     "data": {
      "application/vnd.plotly.v1+json": {
       "config": {
        "plotlyServerURL": "https://plot.ly"
       },
       "data": [
        {
         "marker": {
          "color": "#D55E00"
         },
         "orientation": "h",
         "type": "bar",
         "x": [
          0.1783318376321787,
          0.17854295507916193,
          0.1804467084048006,
          0.1882020493755663,
          0.1896861397993551,
          0.19454500825733342,
          0.19708689743003413,
          0.23390918188838702,
          0.25233784644569107,
          0.30463613650328863
         ],
         "xaxis": "x",
         "y": [
          "debate  ",
          "said  ",
          "partnerships  ",
          "detention  ",
          "minister  ",
          "hon  ",
          "human  ",
          "ireland  ",
          "rights  ",
          "lgbt  "
         ],
         "yaxis": "y"
        },
        {
         "marker": {
          "color": "#0072B2"
         },
         "orientation": "h",
         "type": "bar",
         "x": [
          0.2175719873218373,
          0.2203758514351714,
          0.2223690557776271,
          0.22547091256216745,
          0.22664884213694517,
          0.23019763245817623,
          0.24357964454905484,
          0.2929234543596824,
          0.3179643148232527,
          0.4900545001728989
         ],
         "xaxis": "x2",
         "y": [
          "lady  ",
          "dwp  ",
          "stem  ",
          "sectors  ",
          "transparency  ",
          "hon  ",
          "equality  ",
          "reporting  ",
          "employers  ",
          "gap  "
         ],
         "yaxis": "y2"
        },
        {
         "marker": {
          "color": "#CC79A7"
         },
         "orientation": "h",
         "type": "bar",
         "x": [
          0.20411402105581422,
          0.2075266173463318,
          0.2153559964563165,
          0.22109717641071397,
          0.22355627006238596,
          0.23894706888232123,
          0.258111424681064,
          0.26789714515930274,
          0.30327921588547746,
          0.3950513501258785
         ],
         "xaxis": "x3",
         "y": [
          "equalities  ",
          "hon  ",
          "young  ",
          "issues  ",
          "london  ",
          "2004  ",
          "prisoners  ",
          "care  ",
          "recognition  ",
          "transgender  "
         ],
         "yaxis": "y3"
        },
        {
         "marker": {
          "color": "#E69F00"
         },
         "orientation": "h",
         "type": "bar",
         "x": [
          0.18775561011352274,
          0.19873217817751002,
          0.1995308883291117,
          0.2012444357093074,
          0.2017046081592954,
          0.21435522418946681,
          0.25328826589913744,
          0.26783192075206214,
          0.2722644633018394,
          0.2781745109913892
         ],
         "xaxis": "x4",
         "y": [
          "minister  ",
          "fgm  ",
          "hon  ",
          "hate  ",
          "yemen  ",
          "istanbul  ",
          "based  ",
          "convention  ",
          "sexual  ",
          "victims  "
         ],
         "yaxis": "y4"
        },
        {
         "marker": {
          "color": "#56B4E9"
         },
         "orientation": "h",
         "type": "bar",
         "x": [
          0.17016316567270023,
          0.17225944772199014,
          0.17694691980793395,
          0.17858699286757168,
          0.19174339811962596,
          0.19256804933326777,
          0.19518592670685556,
          0.19860135564994505,
          0.20792281114724734,
          0.22823797262850357
         ],
         "xaxis": "x5",
         "y": [
          "thank  ",
          "service  ",
          "today  ",
          "ireland  ",
          "constituency  ",
          "building  ",
          "jo  ",
          "armed  ",
          "friend  ",
          "member  "
         ],
         "yaxis": "y5"
        },
        {
         "marker": {
          "color": "#009E73"
         },
         "orientation": "h",
         "type": "bar",
         "x": [
          0.18740642056434187,
          0.18912950413810156,
          0.18974834052244474,
          0.1925741603416194,
          0.1977551616947047,
          0.19775636793295753,
          0.21272342176354997,
          0.21682080088952424,
          0.25772902193927366,
          0.27684573700692544
         ],
         "xaxis": "x6",
         "y": [
          "mps  ",
          "violence  ",
          "pay  ",
          "just  ",
          "today  ",
          "friend  ",
          "celebrate  ",
          "hon  ",
          "international  ",
          "woman  "
         ],
         "yaxis": "y6"
        },
        {
         "marker": {
          "color": "#F0E442"
         },
         "orientation": "h",
         "type": "bar",
         "x": [
          0.22530264851255044,
          0.2302517536148637,
          0.2315545597502814,
          0.23626563160469935,
          0.2389797700716353,
          0.25009786681724,
          0.2738015039954203,
          0.27892247001550124,
          0.3065174893202394,
          0.32258135544358335
         ],
         "xaxis": "x7",
         "y": [
          "headteachers  ",
          "respect  ",
          "homophobic  ",
          "issues  ",
          "birmingham  ",
          "people  ",
          "sre  ",
          "primary  ",
          "guidance  ",
          "young  "
         ],
         "yaxis": "y7"
        },
        {
         "marker": {
          "color": "#D55E00"
         },
         "orientation": "h",
         "type": "bar",
         "x": [
          0.1855217990118897,
          0.18654957482045784,
          0.18911524404169627,
          0.19156256081667028,
          0.19713430318842376,
          0.20077357743522042,
          0.20324589425906234,
          0.2249071063509593,
          0.22902836769991045,
          0.3421022389274583
         ],
         "xaxis": "x8",
         "y": [
          "secretary  ",
          "nhs  ",
          "food  ",
          "investment  ",
          "agreements  ",
          "referendum  ",
          "junior  ",
          "european  ",
          "climate  ",
          "trade  "
         ],
         "yaxis": "y8"
        },
        {
         "marker": {
          "color": "#0072B2"
         },
         "orientation": "h",
         "type": "bar",
         "x": [
          0.21200701944984543,
          0.22017099836239565,
          0.23283546962382687,
          0.2429953774574197,
          0.24310220981785705,
          0.24389770707937142,
          0.24972273373091244,
          0.27953585243667817,
          0.31641779464084846,
          0.3615686267962226
         ],
         "xaxis": "x9",
         "y": [
          "disproportionately  ",
          "statement  ",
          "inequality  ",
          "labour  ",
          "policies  ",
          "gap  ",
          "chancellor  ",
          "impact  ",
          "tax  ",
          "women  "
         ],
         "yaxis": "y9"
        },
        {
         "marker": {
          "color": "#CC79A7"
         },
         "orientation": "h",
         "type": "bar",
         "x": [
          0.20023862479667548,
          0.20951508866486004,
          0.21110748390823247,
          0.21642900174025317,
          0.22326403653616883,
          0.22637090673993845,
          0.2379645534767789,
          0.2504294360200905,
          0.2841771188391849,
          0.429218736102848
         ],
         "xaxis": "x10",
         "y": [
          "report  ",
          "leader  ",
          "people  ",
          "officers  ",
          "house  ",
          "facebook  ",
          "young  ",
          "platforms  ",
          "bullying  ",
          "online  "
         ],
         "yaxis": "y10"
        }
       ],
       "layout": {
        "annotations": [
         {
          "font": {
           "size": 16
          },
          "showarrow": false,
          "text": "Topic 0",
          "x": 0.0875,
          "xanchor": "center",
          "xref": "paper",
          "y": 1,
          "yanchor": "bottom",
          "yref": "paper"
         },
         {
          "font": {
           "size": 16
          },
          "showarrow": false,
          "text": "Topic 1",
          "x": 0.36250000000000004,
          "xanchor": "center",
          "xref": "paper",
          "y": 1,
          "yanchor": "bottom",
          "yref": "paper"
         },
         {
          "font": {
           "size": 16
          },
          "showarrow": false,
          "text": "Topic 2",
          "x": 0.6375000000000001,
          "xanchor": "center",
          "xref": "paper",
          "y": 1,
          "yanchor": "bottom",
          "yref": "paper"
         },
         {
          "font": {
           "size": 16
          },
          "showarrow": false,
          "text": "Topic 3",
          "x": 0.9125,
          "xanchor": "center",
          "xref": "paper",
          "y": 1,
          "yanchor": "bottom",
          "yref": "paper"
         },
         {
          "font": {
           "size": 16
          },
          "showarrow": false,
          "text": "Topic 4",
          "x": 0.0875,
          "xanchor": "center",
          "xref": "paper",
          "y": 0.6222222222222222,
          "yanchor": "bottom",
          "yref": "paper"
         },
         {
          "font": {
           "size": 16
          },
          "showarrow": false,
          "text": "Topic 5",
          "x": 0.36250000000000004,
          "xanchor": "center",
          "xref": "paper",
          "y": 0.6222222222222222,
          "yanchor": "bottom",
          "yref": "paper"
         },
         {
          "font": {
           "size": 16
          },
          "showarrow": false,
          "text": "Topic 6",
          "x": 0.6375000000000001,
          "xanchor": "center",
          "xref": "paper",
          "y": 0.6222222222222222,
          "yanchor": "bottom",
          "yref": "paper"
         },
         {
          "font": {
           "size": 16
          },
          "showarrow": false,
          "text": "Topic 7",
          "x": 0.9125,
          "xanchor": "center",
          "xref": "paper",
          "y": 0.6222222222222222,
          "yanchor": "bottom",
          "yref": "paper"
         },
         {
          "font": {
           "size": 16
          },
          "showarrow": false,
          "text": "Topic 8",
          "x": 0.0875,
          "xanchor": "center",
          "xref": "paper",
          "y": 0.24444444444444446,
          "yanchor": "bottom",
          "yref": "paper"
         },
         {
          "font": {
           "size": 16
          },
          "showarrow": false,
          "text": "Topic 9",
          "x": 0.36250000000000004,
          "xanchor": "center",
          "xref": "paper",
          "y": 0.24444444444444446,
          "yanchor": "bottom",
          "yref": "paper"
         }
        ],
        "height": 990,
        "hoverlabel": {
         "bgcolor": "white",
         "font": {
          "family": "Rockwell",
          "size": 16
         }
        },
        "showlegend": false,
        "template": {
         "data": {
          "bar": [
           {
            "error_x": {
             "color": "#2a3f5f"
            },
            "error_y": {
             "color": "#2a3f5f"
            },
            "marker": {
             "line": {
              "color": "white",
              "width": 0.5
             },
             "pattern": {
              "fillmode": "overlay",
              "size": 10,
              "solidity": 0.2
             }
            },
            "type": "bar"
           }
          ],
          "barpolar": [
           {
            "marker": {
             "line": {
              "color": "white",
              "width": 0.5
             },
             "pattern": {
              "fillmode": "overlay",
              "size": 10,
              "solidity": 0.2
             }
            },
            "type": "barpolar"
           }
          ],
          "carpet": [
           {
            "aaxis": {
             "endlinecolor": "#2a3f5f",
             "gridcolor": "#C8D4E3",
             "linecolor": "#C8D4E3",
             "minorgridcolor": "#C8D4E3",
             "startlinecolor": "#2a3f5f"
            },
            "baxis": {
             "endlinecolor": "#2a3f5f",
             "gridcolor": "#C8D4E3",
             "linecolor": "#C8D4E3",
             "minorgridcolor": "#C8D4E3",
             "startlinecolor": "#2a3f5f"
            },
            "type": "carpet"
           }
          ],
          "choropleth": [
           {
            "colorbar": {
             "outlinewidth": 0,
             "ticks": ""
            },
            "type": "choropleth"
           }
          ],
          "contour": [
           {
            "colorbar": {
             "outlinewidth": 0,
             "ticks": ""
            },
            "colorscale": [
             [
              0,
              "#0d0887"
             ],
             [
              0.1111111111111111,
              "#46039f"
             ],
             [
              0.2222222222222222,
              "#7201a8"
             ],
             [
              0.3333333333333333,
              "#9c179e"
             ],
             [
              0.4444444444444444,
              "#bd3786"
             ],
             [
              0.5555555555555556,
              "#d8576b"
             ],
             [
              0.6666666666666666,
              "#ed7953"
             ],
             [
              0.7777777777777778,
              "#fb9f3a"
             ],
             [
              0.8888888888888888,
              "#fdca26"
             ],
             [
              1,
              "#f0f921"
             ]
            ],
            "type": "contour"
           }
          ],
          "contourcarpet": [
           {
            "colorbar": {
             "outlinewidth": 0,
             "ticks": ""
            },
            "type": "contourcarpet"
           }
          ],
          "heatmap": [
           {
            "colorbar": {
             "outlinewidth": 0,
             "ticks": ""
            },
            "colorscale": [
             [
              0,
              "#0d0887"
             ],
             [
              0.1111111111111111,
              "#46039f"
             ],
             [
              0.2222222222222222,
              "#7201a8"
             ],
             [
              0.3333333333333333,
              "#9c179e"
             ],
             [
              0.4444444444444444,
              "#bd3786"
             ],
             [
              0.5555555555555556,
              "#d8576b"
             ],
             [
              0.6666666666666666,
              "#ed7953"
             ],
             [
              0.7777777777777778,
              "#fb9f3a"
             ],
             [
              0.8888888888888888,
              "#fdca26"
             ],
             [
              1,
              "#f0f921"
             ]
            ],
            "type": "heatmap"
           }
          ],
          "heatmapgl": [
           {
            "colorbar": {
             "outlinewidth": 0,
             "ticks": ""
            },
            "colorscale": [
             [
              0,
              "#0d0887"
             ],
             [
              0.1111111111111111,
              "#46039f"
             ],
             [
              0.2222222222222222,
              "#7201a8"
             ],
             [
              0.3333333333333333,
              "#9c179e"
             ],
             [
              0.4444444444444444,
              "#bd3786"
             ],
             [
              0.5555555555555556,
              "#d8576b"
             ],
             [
              0.6666666666666666,
              "#ed7953"
             ],
             [
              0.7777777777777778,
              "#fb9f3a"
             ],
             [
              0.8888888888888888,
              "#fdca26"
             ],
             [
              1,
              "#f0f921"
             ]
            ],
            "type": "heatmapgl"
           }
          ],
          "histogram": [
           {
            "marker": {
             "pattern": {
              "fillmode": "overlay",
              "size": 10,
              "solidity": 0.2
             }
            },
            "type": "histogram"
           }
          ],
          "histogram2d": [
           {
            "colorbar": {
             "outlinewidth": 0,
             "ticks": ""
            },
            "colorscale": [
             [
              0,
              "#0d0887"
             ],
             [
              0.1111111111111111,
              "#46039f"
             ],
             [
              0.2222222222222222,
              "#7201a8"
             ],
             [
              0.3333333333333333,
              "#9c179e"
             ],
             [
              0.4444444444444444,
              "#bd3786"
             ],
             [
              0.5555555555555556,
              "#d8576b"
             ],
             [
              0.6666666666666666,
              "#ed7953"
             ],
             [
              0.7777777777777778,
              "#fb9f3a"
             ],
             [
              0.8888888888888888,
              "#fdca26"
             ],
             [
              1,
              "#f0f921"
             ]
            ],
            "type": "histogram2d"
           }
          ],
          "histogram2dcontour": [
           {
            "colorbar": {
             "outlinewidth": 0,
             "ticks": ""
            },
            "colorscale": [
             [
              0,
              "#0d0887"
             ],
             [
              0.1111111111111111,
              "#46039f"
             ],
             [
              0.2222222222222222,
              "#7201a8"
             ],
             [
              0.3333333333333333,
              "#9c179e"
             ],
             [
              0.4444444444444444,
              "#bd3786"
             ],
             [
              0.5555555555555556,
              "#d8576b"
             ],
             [
              0.6666666666666666,
              "#ed7953"
             ],
             [
              0.7777777777777778,
              "#fb9f3a"
             ],
             [
              0.8888888888888888,
              "#fdca26"
             ],
             [
              1,
              "#f0f921"
             ]
            ],
            "type": "histogram2dcontour"
           }
          ],
          "mesh3d": [
           {
            "colorbar": {
             "outlinewidth": 0,
             "ticks": ""
            },
            "type": "mesh3d"
           }
          ],
          "parcoords": [
           {
            "line": {
             "colorbar": {
              "outlinewidth": 0,
              "ticks": ""
             }
            },
            "type": "parcoords"
           }
          ],
          "pie": [
           {
            "automargin": true,
            "type": "pie"
           }
          ],
          "scatter": [
           {
            "fillpattern": {
             "fillmode": "overlay",
             "size": 10,
             "solidity": 0.2
            },
            "type": "scatter"
           }
          ],
          "scatter3d": [
           {
            "line": {
             "colorbar": {
              "outlinewidth": 0,
              "ticks": ""
             }
            },
            "marker": {
             "colorbar": {
              "outlinewidth": 0,
              "ticks": ""
             }
            },
            "type": "scatter3d"
           }
          ],
          "scattercarpet": [
           {
            "marker": {
             "colorbar": {
              "outlinewidth": 0,
              "ticks": ""
             }
            },
            "type": "scattercarpet"
           }
          ],
          "scattergeo": [
           {
            "marker": {
             "colorbar": {
              "outlinewidth": 0,
              "ticks": ""
             }
            },
            "type": "scattergeo"
           }
          ],
          "scattergl": [
           {
            "marker": {
             "colorbar": {
              "outlinewidth": 0,
              "ticks": ""
             }
            },
            "type": "scattergl"
           }
          ],
          "scattermapbox": [
           {
            "marker": {
             "colorbar": {
              "outlinewidth": 0,
              "ticks": ""
             }
            },
            "type": "scattermapbox"
           }
          ],
          "scatterpolar": [
           {
            "marker": {
             "colorbar": {
              "outlinewidth": 0,
              "ticks": ""
             }
            },
            "type": "scatterpolar"
           }
          ],
          "scatterpolargl": [
           {
            "marker": {
             "colorbar": {
              "outlinewidth": 0,
              "ticks": ""
             }
            },
            "type": "scatterpolargl"
           }
          ],
          "scatterternary": [
           {
            "marker": {
             "colorbar": {
              "outlinewidth": 0,
              "ticks": ""
             }
            },
            "type": "scatterternary"
           }
          ],
          "surface": [
           {
            "colorbar": {
             "outlinewidth": 0,
             "ticks": ""
            },
            "colorscale": [
             [
              0,
              "#0d0887"
             ],
             [
              0.1111111111111111,
              "#46039f"
             ],
             [
              0.2222222222222222,
              "#7201a8"
             ],
             [
              0.3333333333333333,
              "#9c179e"
             ],
             [
              0.4444444444444444,
              "#bd3786"
             ],
             [
              0.5555555555555556,
              "#d8576b"
             ],
             [
              0.6666666666666666,
              "#ed7953"
             ],
             [
              0.7777777777777778,
              "#fb9f3a"
             ],
             [
              0.8888888888888888,
              "#fdca26"
             ],
             [
              1,
              "#f0f921"
             ]
            ],
            "type": "surface"
           }
          ],
          "table": [
           {
            "cells": {
             "fill": {
              "color": "#EBF0F8"
             },
             "line": {
              "color": "white"
             }
            },
            "header": {
             "fill": {
              "color": "#C8D4E3"
             },
             "line": {
              "color": "white"
             }
            },
            "type": "table"
           }
          ]
         },
         "layout": {
          "annotationdefaults": {
           "arrowcolor": "#2a3f5f",
           "arrowhead": 0,
           "arrowwidth": 1
          },
          "autotypenumbers": "strict",
          "coloraxis": {
           "colorbar": {
            "outlinewidth": 0,
            "ticks": ""
           }
          },
          "colorscale": {
           "diverging": [
            [
             0,
             "#8e0152"
            ],
            [
             0.1,
             "#c51b7d"
            ],
            [
             0.2,
             "#de77ae"
            ],
            [
             0.3,
             "#f1b6da"
            ],
            [
             0.4,
             "#fde0ef"
            ],
            [
             0.5,
             "#f7f7f7"
            ],
            [
             0.6,
             "#e6f5d0"
            ],
            [
             0.7,
             "#b8e186"
            ],
            [
             0.8,
             "#7fbc41"
            ],
            [
             0.9,
             "#4d9221"
            ],
            [
             1,
             "#276419"
            ]
           ],
           "sequential": [
            [
             0,
             "#0d0887"
            ],
            [
             0.1111111111111111,
             "#46039f"
            ],
            [
             0.2222222222222222,
             "#7201a8"
            ],
            [
             0.3333333333333333,
             "#9c179e"
            ],
            [
             0.4444444444444444,
             "#bd3786"
            ],
            [
             0.5555555555555556,
             "#d8576b"
            ],
            [
             0.6666666666666666,
             "#ed7953"
            ],
            [
             0.7777777777777778,
             "#fb9f3a"
            ],
            [
             0.8888888888888888,
             "#fdca26"
            ],
            [
             1,
             "#f0f921"
            ]
           ],
           "sequentialminus": [
            [
             0,
             "#0d0887"
            ],
            [
             0.1111111111111111,
             "#46039f"
            ],
            [
             0.2222222222222222,
             "#7201a8"
            ],
            [
             0.3333333333333333,
             "#9c179e"
            ],
            [
             0.4444444444444444,
             "#bd3786"
            ],
            [
             0.5555555555555556,
             "#d8576b"
            ],
            [
             0.6666666666666666,
             "#ed7953"
            ],
            [
             0.7777777777777778,
             "#fb9f3a"
            ],
            [
             0.8888888888888888,
             "#fdca26"
            ],
            [
             1,
             "#f0f921"
            ]
           ]
          },
          "colorway": [
           "#636efa",
           "#EF553B",
           "#00cc96",
           "#ab63fa",
           "#FFA15A",
           "#19d3f3",
           "#FF6692",
           "#B6E880",
           "#FF97FF",
           "#FECB52"
          ],
          "font": {
           "color": "#2a3f5f"
          },
          "geo": {
           "bgcolor": "white",
           "lakecolor": "white",
           "landcolor": "white",
           "showlakes": true,
           "showland": true,
           "subunitcolor": "#C8D4E3"
          },
          "hoverlabel": {
           "align": "left"
          },
          "hovermode": "closest",
          "mapbox": {
           "style": "light"
          },
          "paper_bgcolor": "white",
          "plot_bgcolor": "white",
          "polar": {
           "angularaxis": {
            "gridcolor": "#EBF0F8",
            "linecolor": "#EBF0F8",
            "ticks": ""
           },
           "bgcolor": "white",
           "radialaxis": {
            "gridcolor": "#EBF0F8",
            "linecolor": "#EBF0F8",
            "ticks": ""
           }
          },
          "scene": {
           "xaxis": {
            "backgroundcolor": "white",
            "gridcolor": "#DFE8F3",
            "gridwidth": 2,
            "linecolor": "#EBF0F8",
            "showbackground": true,
            "ticks": "",
            "zerolinecolor": "#EBF0F8"
           },
           "yaxis": {
            "backgroundcolor": "white",
            "gridcolor": "#DFE8F3",
            "gridwidth": 2,
            "linecolor": "#EBF0F8",
            "showbackground": true,
            "ticks": "",
            "zerolinecolor": "#EBF0F8"
           },
           "zaxis": {
            "backgroundcolor": "white",
            "gridcolor": "#DFE8F3",
            "gridwidth": 2,
            "linecolor": "#EBF0F8",
            "showbackground": true,
            "ticks": "",
            "zerolinecolor": "#EBF0F8"
           }
          },
          "shapedefaults": {
           "line": {
            "color": "#2a3f5f"
           }
          },
          "ternary": {
           "aaxis": {
            "gridcolor": "#DFE8F3",
            "linecolor": "#A2B1C6",
            "ticks": ""
           },
           "baxis": {
            "gridcolor": "#DFE8F3",
            "linecolor": "#A2B1C6",
            "ticks": ""
           },
           "bgcolor": "white",
           "caxis": {
            "gridcolor": "#DFE8F3",
            "linecolor": "#A2B1C6",
            "ticks": ""
           }
          },
          "title": {
           "x": 0.05
          },
          "xaxis": {
           "automargin": true,
           "gridcolor": "#EBF0F8",
           "linecolor": "#EBF0F8",
           "ticks": "",
           "title": {
            "standoff": 15
           },
           "zerolinecolor": "#EBF0F8",
           "zerolinewidth": 2
          },
          "yaxis": {
           "automargin": true,
           "gridcolor": "#EBF0F8",
           "linecolor": "#EBF0F8",
           "ticks": "",
           "title": {
            "standoff": 15
           },
           "zerolinecolor": "#EBF0F8",
           "zerolinewidth": 2
          }
         }
        },
        "title": {
         "font": {
          "color": "Black",
          "size": 22
         },
         "text": "Topic Word Scores",
         "x": 0.5,
         "xanchor": "center",
         "yanchor": "top"
        },
        "width": 1320,
        "xaxis": {
         "anchor": "y",
         "domain": [
          0,
          0.175
         ],
         "showgrid": true
        },
        "xaxis10": {
         "anchor": "y10",
         "domain": [
          0.275,
          0.45
         ],
         "showgrid": true
        },
        "xaxis11": {
         "anchor": "y11",
         "domain": [
          0.55,
          0.7250000000000001
         ],
         "showgrid": true
        },
        "xaxis12": {
         "anchor": "y12",
         "domain": [
          0.825,
          1
         ],
         "showgrid": true
        },
        "xaxis2": {
         "anchor": "y2",
         "domain": [
          0.275,
          0.45
         ],
         "showgrid": true
        },
        "xaxis3": {
         "anchor": "y3",
         "domain": [
          0.55,
          0.7250000000000001
         ],
         "showgrid": true
        },
        "xaxis4": {
         "anchor": "y4",
         "domain": [
          0.825,
          1
         ],
         "showgrid": true
        },
        "xaxis5": {
         "anchor": "y5",
         "domain": [
          0,
          0.175
         ],
         "showgrid": true
        },
        "xaxis6": {
         "anchor": "y6",
         "domain": [
          0.275,
          0.45
         ],
         "showgrid": true
        },
        "xaxis7": {
         "anchor": "y7",
         "domain": [
          0.55,
          0.7250000000000001
         ],
         "showgrid": true
        },
        "xaxis8": {
         "anchor": "y8",
         "domain": [
          0.825,
          1
         ],
         "showgrid": true
        },
        "xaxis9": {
         "anchor": "y9",
         "domain": [
          0,
          0.175
         ],
         "showgrid": true
        },
        "yaxis": {
         "anchor": "x",
         "domain": [
          0.7555555555555555,
          1
         ],
         "showgrid": true
        },
        "yaxis10": {
         "anchor": "x10",
         "domain": [
          0,
          0.24444444444444446
         ],
         "showgrid": true
        },
        "yaxis11": {
         "anchor": "x11",
         "domain": [
          0,
          0.24444444444444446
         ],
         "showgrid": true
        },
        "yaxis12": {
         "anchor": "x12",
         "domain": [
          0,
          0.24444444444444446
         ],
         "showgrid": true
        },
        "yaxis2": {
         "anchor": "x2",
         "domain": [
          0.7555555555555555,
          1
         ],
         "showgrid": true
        },
        "yaxis3": {
         "anchor": "x3",
         "domain": [
          0.7555555555555555,
          1
         ],
         "showgrid": true
        },
        "yaxis4": {
         "anchor": "x4",
         "domain": [
          0.7555555555555555,
          1
         ],
         "showgrid": true
        },
        "yaxis5": {
         "anchor": "x5",
         "domain": [
          0.37777777777777777,
          0.6222222222222222
         ],
         "showgrid": true
        },
        "yaxis6": {
         "anchor": "x6",
         "domain": [
          0.37777777777777777,
          0.6222222222222222
         ],
         "showgrid": true
        },
        "yaxis7": {
         "anchor": "x7",
         "domain": [
          0.37777777777777777,
          0.6222222222222222
         ],
         "showgrid": true
        },
        "yaxis8": {
         "anchor": "x8",
         "domain": [
          0.37777777777777777,
          0.6222222222222222
         ],
         "showgrid": true
        },
        "yaxis9": {
         "anchor": "x9",
         "domain": [
          0,
          0.24444444444444446
         ],
         "showgrid": true
        }
       }
      },
      "text/html": [
       "<div>                            <div id=\"9114cf47-e658-467f-821c-6a35fb072558\" class=\"plotly-graph-div\" style=\"height:990px; width:1320px;\"></div>            <script type=\"text/javascript\">                require([\"plotly\"], function(Plotly) {                    window.PLOTLYENV=window.PLOTLYENV || {};                                    if (document.getElementById(\"9114cf47-e658-467f-821c-6a35fb072558\")) {                    Plotly.newPlot(                        \"9114cf47-e658-467f-821c-6a35fb072558\",                        [{\"marker\":{\"color\":\"#D55E00\"},\"orientation\":\"h\",\"x\":[0.1783318376321787,0.17854295507916193,0.1804467084048006,0.1882020493755663,0.1896861397993551,0.19454500825733342,0.19708689743003413,0.23390918188838702,0.25233784644569107,0.30463613650328863],\"y\":[\"debate  \",\"said  \",\"partnerships  \",\"detention  \",\"minister  \",\"hon  \",\"human  \",\"ireland  \",\"rights  \",\"lgbt  \"],\"type\":\"bar\",\"xaxis\":\"x\",\"yaxis\":\"y\"},{\"marker\":{\"color\":\"#0072B2\"},\"orientation\":\"h\",\"x\":[0.2175719873218373,0.2203758514351714,0.2223690557776271,0.22547091256216745,0.22664884213694517,0.23019763245817623,0.24357964454905484,0.2929234543596824,0.3179643148232527,0.4900545001728989],\"y\":[\"lady  \",\"dwp  \",\"stem  \",\"sectors  \",\"transparency  \",\"hon  \",\"equality  \",\"reporting  \",\"employers  \",\"gap  \"],\"type\":\"bar\",\"xaxis\":\"x2\",\"yaxis\":\"y2\"},{\"marker\":{\"color\":\"#CC79A7\"},\"orientation\":\"h\",\"x\":[0.20411402105581422,0.2075266173463318,0.2153559964563165,0.22109717641071397,0.22355627006238596,0.23894706888232123,0.258111424681064,0.26789714515930274,0.30327921588547746,0.3950513501258785],\"y\":[\"equalities  \",\"hon  \",\"young  \",\"issues  \",\"london  \",\"2004  \",\"prisoners  \",\"care  \",\"recognition  \",\"transgender  \"],\"type\":\"bar\",\"xaxis\":\"x3\",\"yaxis\":\"y3\"},{\"marker\":{\"color\":\"#E69F00\"},\"orientation\":\"h\",\"x\":[0.18775561011352274,0.19873217817751002,0.1995308883291117,0.2012444357093074,0.2017046081592954,0.21435522418946681,0.25328826589913744,0.26783192075206214,0.2722644633018394,0.2781745109913892],\"y\":[\"minister  \",\"fgm  \",\"hon  \",\"hate  \",\"yemen  \",\"istanbul  \",\"based  \",\"convention  \",\"sexual  \",\"victims  \"],\"type\":\"bar\",\"xaxis\":\"x4\",\"yaxis\":\"y4\"},{\"marker\":{\"color\":\"#56B4E9\"},\"orientation\":\"h\",\"x\":[0.17016316567270023,0.17225944772199014,0.17694691980793395,0.17858699286757168,0.19174339811962596,0.19256804933326777,0.19518592670685556,0.19860135564994505,0.20792281114724734,0.22823797262850357],\"y\":[\"thank  \",\"service  \",\"today  \",\"ireland  \",\"constituency  \",\"building  \",\"jo  \",\"armed  \",\"friend  \",\"member  \"],\"type\":\"bar\",\"xaxis\":\"x5\",\"yaxis\":\"y5\"},{\"marker\":{\"color\":\"#009E73\"},\"orientation\":\"h\",\"x\":[0.18740642056434187,0.18912950413810156,0.18974834052244474,0.1925741603416194,0.1977551616947047,0.19775636793295753,0.21272342176354997,0.21682080088952424,0.25772902193927366,0.27684573700692544],\"y\":[\"mps  \",\"violence  \",\"pay  \",\"just  \",\"today  \",\"friend  \",\"celebrate  \",\"hon  \",\"international  \",\"woman  \"],\"type\":\"bar\",\"xaxis\":\"x6\",\"yaxis\":\"y6\"},{\"marker\":{\"color\":\"#F0E442\"},\"orientation\":\"h\",\"x\":[0.22530264851255044,0.2302517536148637,0.2315545597502814,0.23626563160469935,0.2389797700716353,0.25009786681724,0.2738015039954203,0.27892247001550124,0.3065174893202394,0.32258135544358335],\"y\":[\"headteachers  \",\"respect  \",\"homophobic  \",\"issues  \",\"birmingham  \",\"people  \",\"sre  \",\"primary  \",\"guidance  \",\"young  \"],\"type\":\"bar\",\"xaxis\":\"x7\",\"yaxis\":\"y7\"},{\"marker\":{\"color\":\"#D55E00\"},\"orientation\":\"h\",\"x\":[0.1855217990118897,0.18654957482045784,0.18911524404169627,0.19156256081667028,0.19713430318842376,0.20077357743522042,0.20324589425906234,0.2249071063509593,0.22902836769991045,0.3421022389274583],\"y\":[\"secretary  \",\"nhs  \",\"food  \",\"investment  \",\"agreements  \",\"referendum  \",\"junior  \",\"european  \",\"climate  \",\"trade  \"],\"type\":\"bar\",\"xaxis\":\"x8\",\"yaxis\":\"y8\"},{\"marker\":{\"color\":\"#0072B2\"},\"orientation\":\"h\",\"x\":[0.21200701944984543,0.22017099836239565,0.23283546962382687,0.2429953774574197,0.24310220981785705,0.24389770707937142,0.24972273373091244,0.27953585243667817,0.31641779464084846,0.3615686267962226],\"y\":[\"disproportionately  \",\"statement  \",\"inequality  \",\"labour  \",\"policies  \",\"gap  \",\"chancellor  \",\"impact  \",\"tax  \",\"women  \"],\"type\":\"bar\",\"xaxis\":\"x9\",\"yaxis\":\"y9\"},{\"marker\":{\"color\":\"#CC79A7\"},\"orientation\":\"h\",\"x\":[0.20023862479667548,0.20951508866486004,0.21110748390823247,0.21642900174025317,0.22326403653616883,0.22637090673993845,0.2379645534767789,0.2504294360200905,0.2841771188391849,0.429218736102848],\"y\":[\"report  \",\"leader  \",\"people  \",\"officers  \",\"house  \",\"facebook  \",\"young  \",\"platforms  \",\"bullying  \",\"online  \"],\"type\":\"bar\",\"xaxis\":\"x10\",\"yaxis\":\"y10\"}],                        {\"template\":{\"data\":{\"barpolar\":[{\"marker\":{\"line\":{\"color\":\"white\",\"width\":0.5},\"pattern\":{\"fillmode\":\"overlay\",\"size\":10,\"solidity\":0.2}},\"type\":\"barpolar\"}],\"bar\":[{\"error_x\":{\"color\":\"#2a3f5f\"},\"error_y\":{\"color\":\"#2a3f5f\"},\"marker\":{\"line\":{\"color\":\"white\",\"width\":0.5},\"pattern\":{\"fillmode\":\"overlay\",\"size\":10,\"solidity\":0.2}},\"type\":\"bar\"}],\"carpet\":[{\"aaxis\":{\"endlinecolor\":\"#2a3f5f\",\"gridcolor\":\"#C8D4E3\",\"linecolor\":\"#C8D4E3\",\"minorgridcolor\":\"#C8D4E3\",\"startlinecolor\":\"#2a3f5f\"},\"baxis\":{\"endlinecolor\":\"#2a3f5f\",\"gridcolor\":\"#C8D4E3\",\"linecolor\":\"#C8D4E3\",\"minorgridcolor\":\"#C8D4E3\",\"startlinecolor\":\"#2a3f5f\"},\"type\":\"carpet\"}],\"choropleth\":[{\"colorbar\":{\"outlinewidth\":0,\"ticks\":\"\"},\"type\":\"choropleth\"}],\"contourcarpet\":[{\"colorbar\":{\"outlinewidth\":0,\"ticks\":\"\"},\"type\":\"contourcarpet\"}],\"contour\":[{\"colorbar\":{\"outlinewidth\":0,\"ticks\":\"\"},\"colorscale\":[[0.0,\"#0d0887\"],[0.1111111111111111,\"#46039f\"],[0.2222222222222222,\"#7201a8\"],[0.3333333333333333,\"#9c179e\"],[0.4444444444444444,\"#bd3786\"],[0.5555555555555556,\"#d8576b\"],[0.6666666666666666,\"#ed7953\"],[0.7777777777777778,\"#fb9f3a\"],[0.8888888888888888,\"#fdca26\"],[1.0,\"#f0f921\"]],\"type\":\"contour\"}],\"heatmapgl\":[{\"colorbar\":{\"outlinewidth\":0,\"ticks\":\"\"},\"colorscale\":[[0.0,\"#0d0887\"],[0.1111111111111111,\"#46039f\"],[0.2222222222222222,\"#7201a8\"],[0.3333333333333333,\"#9c179e\"],[0.4444444444444444,\"#bd3786\"],[0.5555555555555556,\"#d8576b\"],[0.6666666666666666,\"#ed7953\"],[0.7777777777777778,\"#fb9f3a\"],[0.8888888888888888,\"#fdca26\"],[1.0,\"#f0f921\"]],\"type\":\"heatmapgl\"}],\"heatmap\":[{\"colorbar\":{\"outlinewidth\":0,\"ticks\":\"\"},\"colorscale\":[[0.0,\"#0d0887\"],[0.1111111111111111,\"#46039f\"],[0.2222222222222222,\"#7201a8\"],[0.3333333333333333,\"#9c179e\"],[0.4444444444444444,\"#bd3786\"],[0.5555555555555556,\"#d8576b\"],[0.6666666666666666,\"#ed7953\"],[0.7777777777777778,\"#fb9f3a\"],[0.8888888888888888,\"#fdca26\"],[1.0,\"#f0f921\"]],\"type\":\"heatmap\"}],\"histogram2dcontour\":[{\"colorbar\":{\"outlinewidth\":0,\"ticks\":\"\"},\"colorscale\":[[0.0,\"#0d0887\"],[0.1111111111111111,\"#46039f\"],[0.2222222222222222,\"#7201a8\"],[0.3333333333333333,\"#9c179e\"],[0.4444444444444444,\"#bd3786\"],[0.5555555555555556,\"#d8576b\"],[0.6666666666666666,\"#ed7953\"],[0.7777777777777778,\"#fb9f3a\"],[0.8888888888888888,\"#fdca26\"],[1.0,\"#f0f921\"]],\"type\":\"histogram2dcontour\"}],\"histogram2d\":[{\"colorbar\":{\"outlinewidth\":0,\"ticks\":\"\"},\"colorscale\":[[0.0,\"#0d0887\"],[0.1111111111111111,\"#46039f\"],[0.2222222222222222,\"#7201a8\"],[0.3333333333333333,\"#9c179e\"],[0.4444444444444444,\"#bd3786\"],[0.5555555555555556,\"#d8576b\"],[0.6666666666666666,\"#ed7953\"],[0.7777777777777778,\"#fb9f3a\"],[0.8888888888888888,\"#fdca26\"],[1.0,\"#f0f921\"]],\"type\":\"histogram2d\"}],\"histogram\":[{\"marker\":{\"pattern\":{\"fillmode\":\"overlay\",\"size\":10,\"solidity\":0.2}},\"type\":\"histogram\"}],\"mesh3d\":[{\"colorbar\":{\"outlinewidth\":0,\"ticks\":\"\"},\"type\":\"mesh3d\"}],\"parcoords\":[{\"line\":{\"colorbar\":{\"outlinewidth\":0,\"ticks\":\"\"}},\"type\":\"parcoords\"}],\"pie\":[{\"automargin\":true,\"type\":\"pie\"}],\"scatter3d\":[{\"line\":{\"colorbar\":{\"outlinewidth\":0,\"ticks\":\"\"}},\"marker\":{\"colorbar\":{\"outlinewidth\":0,\"ticks\":\"\"}},\"type\":\"scatter3d\"}],\"scattercarpet\":[{\"marker\":{\"colorbar\":{\"outlinewidth\":0,\"ticks\":\"\"}},\"type\":\"scattercarpet\"}],\"scattergeo\":[{\"marker\":{\"colorbar\":{\"outlinewidth\":0,\"ticks\":\"\"}},\"type\":\"scattergeo\"}],\"scattergl\":[{\"marker\":{\"colorbar\":{\"outlinewidth\":0,\"ticks\":\"\"}},\"type\":\"scattergl\"}],\"scattermapbox\":[{\"marker\":{\"colorbar\":{\"outlinewidth\":0,\"ticks\":\"\"}},\"type\":\"scattermapbox\"}],\"scatterpolargl\":[{\"marker\":{\"colorbar\":{\"outlinewidth\":0,\"ticks\":\"\"}},\"type\":\"scatterpolargl\"}],\"scatterpolar\":[{\"marker\":{\"colorbar\":{\"outlinewidth\":0,\"ticks\":\"\"}},\"type\":\"scatterpolar\"}],\"scatter\":[{\"fillpattern\":{\"fillmode\":\"overlay\",\"size\":10,\"solidity\":0.2},\"type\":\"scatter\"}],\"scatterternary\":[{\"marker\":{\"colorbar\":{\"outlinewidth\":0,\"ticks\":\"\"}},\"type\":\"scatterternary\"}],\"surface\":[{\"colorbar\":{\"outlinewidth\":0,\"ticks\":\"\"},\"colorscale\":[[0.0,\"#0d0887\"],[0.1111111111111111,\"#46039f\"],[0.2222222222222222,\"#7201a8\"],[0.3333333333333333,\"#9c179e\"],[0.4444444444444444,\"#bd3786\"],[0.5555555555555556,\"#d8576b\"],[0.6666666666666666,\"#ed7953\"],[0.7777777777777778,\"#fb9f3a\"],[0.8888888888888888,\"#fdca26\"],[1.0,\"#f0f921\"]],\"type\":\"surface\"}],\"table\":[{\"cells\":{\"fill\":{\"color\":\"#EBF0F8\"},\"line\":{\"color\":\"white\"}},\"header\":{\"fill\":{\"color\":\"#C8D4E3\"},\"line\":{\"color\":\"white\"}},\"type\":\"table\"}]},\"layout\":{\"annotationdefaults\":{\"arrowcolor\":\"#2a3f5f\",\"arrowhead\":0,\"arrowwidth\":1},\"autotypenumbers\":\"strict\",\"coloraxis\":{\"colorbar\":{\"outlinewidth\":0,\"ticks\":\"\"}},\"colorscale\":{\"diverging\":[[0,\"#8e0152\"],[0.1,\"#c51b7d\"],[0.2,\"#de77ae\"],[0.3,\"#f1b6da\"],[0.4,\"#fde0ef\"],[0.5,\"#f7f7f7\"],[0.6,\"#e6f5d0\"],[0.7,\"#b8e186\"],[0.8,\"#7fbc41\"],[0.9,\"#4d9221\"],[1,\"#276419\"]],\"sequential\":[[0.0,\"#0d0887\"],[0.1111111111111111,\"#46039f\"],[0.2222222222222222,\"#7201a8\"],[0.3333333333333333,\"#9c179e\"],[0.4444444444444444,\"#bd3786\"],[0.5555555555555556,\"#d8576b\"],[0.6666666666666666,\"#ed7953\"],[0.7777777777777778,\"#fb9f3a\"],[0.8888888888888888,\"#fdca26\"],[1.0,\"#f0f921\"]],\"sequentialminus\":[[0.0,\"#0d0887\"],[0.1111111111111111,\"#46039f\"],[0.2222222222222222,\"#7201a8\"],[0.3333333333333333,\"#9c179e\"],[0.4444444444444444,\"#bd3786\"],[0.5555555555555556,\"#d8576b\"],[0.6666666666666666,\"#ed7953\"],[0.7777777777777778,\"#fb9f3a\"],[0.8888888888888888,\"#fdca26\"],[1.0,\"#f0f921\"]]},\"colorway\":[\"#636efa\",\"#EF553B\",\"#00cc96\",\"#ab63fa\",\"#FFA15A\",\"#19d3f3\",\"#FF6692\",\"#B6E880\",\"#FF97FF\",\"#FECB52\"],\"font\":{\"color\":\"#2a3f5f\"},\"geo\":{\"bgcolor\":\"white\",\"lakecolor\":\"white\",\"landcolor\":\"white\",\"showlakes\":true,\"showland\":true,\"subunitcolor\":\"#C8D4E3\"},\"hoverlabel\":{\"align\":\"left\"},\"hovermode\":\"closest\",\"mapbox\":{\"style\":\"light\"},\"paper_bgcolor\":\"white\",\"plot_bgcolor\":\"white\",\"polar\":{\"angularaxis\":{\"gridcolor\":\"#EBF0F8\",\"linecolor\":\"#EBF0F8\",\"ticks\":\"\"},\"bgcolor\":\"white\",\"radialaxis\":{\"gridcolor\":\"#EBF0F8\",\"linecolor\":\"#EBF0F8\",\"ticks\":\"\"}},\"scene\":{\"xaxis\":{\"backgroundcolor\":\"white\",\"gridcolor\":\"#DFE8F3\",\"gridwidth\":2,\"linecolor\":\"#EBF0F8\",\"showbackground\":true,\"ticks\":\"\",\"zerolinecolor\":\"#EBF0F8\"},\"yaxis\":{\"backgroundcolor\":\"white\",\"gridcolor\":\"#DFE8F3\",\"gridwidth\":2,\"linecolor\":\"#EBF0F8\",\"showbackground\":true,\"ticks\":\"\",\"zerolinecolor\":\"#EBF0F8\"},\"zaxis\":{\"backgroundcolor\":\"white\",\"gridcolor\":\"#DFE8F3\",\"gridwidth\":2,\"linecolor\":\"#EBF0F8\",\"showbackground\":true,\"ticks\":\"\",\"zerolinecolor\":\"#EBF0F8\"}},\"shapedefaults\":{\"line\":{\"color\":\"#2a3f5f\"}},\"ternary\":{\"aaxis\":{\"gridcolor\":\"#DFE8F3\",\"linecolor\":\"#A2B1C6\",\"ticks\":\"\"},\"baxis\":{\"gridcolor\":\"#DFE8F3\",\"linecolor\":\"#A2B1C6\",\"ticks\":\"\"},\"bgcolor\":\"white\",\"caxis\":{\"gridcolor\":\"#DFE8F3\",\"linecolor\":\"#A2B1C6\",\"ticks\":\"\"}},\"title\":{\"x\":0.05},\"xaxis\":{\"automargin\":true,\"gridcolor\":\"#EBF0F8\",\"linecolor\":\"#EBF0F8\",\"ticks\":\"\",\"title\":{\"standoff\":15},\"zerolinecolor\":\"#EBF0F8\",\"zerolinewidth\":2},\"yaxis\":{\"automargin\":true,\"gridcolor\":\"#EBF0F8\",\"linecolor\":\"#EBF0F8\",\"ticks\":\"\",\"title\":{\"standoff\":15},\"zerolinecolor\":\"#EBF0F8\",\"zerolinewidth\":2}}},\"xaxis\":{\"anchor\":\"y\",\"domain\":[0.0,0.175],\"showgrid\":true},\"yaxis\":{\"anchor\":\"x\",\"domain\":[0.7555555555555555,1.0],\"showgrid\":true},\"xaxis2\":{\"anchor\":\"y2\",\"domain\":[0.275,0.45],\"showgrid\":true},\"yaxis2\":{\"anchor\":\"x2\",\"domain\":[0.7555555555555555,1.0],\"showgrid\":true},\"xaxis3\":{\"anchor\":\"y3\",\"domain\":[0.55,0.7250000000000001],\"showgrid\":true},\"yaxis3\":{\"anchor\":\"x3\",\"domain\":[0.7555555555555555,1.0],\"showgrid\":true},\"xaxis4\":{\"anchor\":\"y4\",\"domain\":[0.825,1.0],\"showgrid\":true},\"yaxis4\":{\"anchor\":\"x4\",\"domain\":[0.7555555555555555,1.0],\"showgrid\":true},\"xaxis5\":{\"anchor\":\"y5\",\"domain\":[0.0,0.175],\"showgrid\":true},\"yaxis5\":{\"anchor\":\"x5\",\"domain\":[0.37777777777777777,0.6222222222222222],\"showgrid\":true},\"xaxis6\":{\"anchor\":\"y6\",\"domain\":[0.275,0.45],\"showgrid\":true},\"yaxis6\":{\"anchor\":\"x6\",\"domain\":[0.37777777777777777,0.6222222222222222],\"showgrid\":true},\"xaxis7\":{\"anchor\":\"y7\",\"domain\":[0.55,0.7250000000000001],\"showgrid\":true},\"yaxis7\":{\"anchor\":\"x7\",\"domain\":[0.37777777777777777,0.6222222222222222],\"showgrid\":true},\"xaxis8\":{\"anchor\":\"y8\",\"domain\":[0.825,1.0],\"showgrid\":true},\"yaxis8\":{\"anchor\":\"x8\",\"domain\":[0.37777777777777777,0.6222222222222222],\"showgrid\":true},\"xaxis9\":{\"anchor\":\"y9\",\"domain\":[0.0,0.175],\"showgrid\":true},\"yaxis9\":{\"anchor\":\"x9\",\"domain\":[0.0,0.24444444444444446],\"showgrid\":true},\"xaxis10\":{\"anchor\":\"y10\",\"domain\":[0.275,0.45],\"showgrid\":true},\"yaxis10\":{\"anchor\":\"x10\",\"domain\":[0.0,0.24444444444444446],\"showgrid\":true},\"xaxis11\":{\"anchor\":\"y11\",\"domain\":[0.55,0.7250000000000001],\"showgrid\":true},\"yaxis11\":{\"anchor\":\"x11\",\"domain\":[0.0,0.24444444444444446],\"showgrid\":true},\"xaxis12\":{\"anchor\":\"y12\",\"domain\":[0.825,1.0],\"showgrid\":true},\"yaxis12\":{\"anchor\":\"x12\",\"domain\":[0.0,0.24444444444444446],\"showgrid\":true},\"annotations\":[{\"font\":{\"size\":16},\"showarrow\":false,\"text\":\"Topic 0\",\"x\":0.0875,\"xanchor\":\"center\",\"xref\":\"paper\",\"y\":1.0,\"yanchor\":\"bottom\",\"yref\":\"paper\"},{\"font\":{\"size\":16},\"showarrow\":false,\"text\":\"Topic 1\",\"x\":0.36250000000000004,\"xanchor\":\"center\",\"xref\":\"paper\",\"y\":1.0,\"yanchor\":\"bottom\",\"yref\":\"paper\"},{\"font\":{\"size\":16},\"showarrow\":false,\"text\":\"Topic 2\",\"x\":0.6375000000000001,\"xanchor\":\"center\",\"xref\":\"paper\",\"y\":1.0,\"yanchor\":\"bottom\",\"yref\":\"paper\"},{\"font\":{\"size\":16},\"showarrow\":false,\"text\":\"Topic 3\",\"x\":0.9125,\"xanchor\":\"center\",\"xref\":\"paper\",\"y\":1.0,\"yanchor\":\"bottom\",\"yref\":\"paper\"},{\"font\":{\"size\":16},\"showarrow\":false,\"text\":\"Topic 4\",\"x\":0.0875,\"xanchor\":\"center\",\"xref\":\"paper\",\"y\":0.6222222222222222,\"yanchor\":\"bottom\",\"yref\":\"paper\"},{\"font\":{\"size\":16},\"showarrow\":false,\"text\":\"Topic 5\",\"x\":0.36250000000000004,\"xanchor\":\"center\",\"xref\":\"paper\",\"y\":0.6222222222222222,\"yanchor\":\"bottom\",\"yref\":\"paper\"},{\"font\":{\"size\":16},\"showarrow\":false,\"text\":\"Topic 6\",\"x\":0.6375000000000001,\"xanchor\":\"center\",\"xref\":\"paper\",\"y\":0.6222222222222222,\"yanchor\":\"bottom\",\"yref\":\"paper\"},{\"font\":{\"size\":16},\"showarrow\":false,\"text\":\"Topic 7\",\"x\":0.9125,\"xanchor\":\"center\",\"xref\":\"paper\",\"y\":0.6222222222222222,\"yanchor\":\"bottom\",\"yref\":\"paper\"},{\"font\":{\"size\":16},\"showarrow\":false,\"text\":\"Topic 8\",\"x\":0.0875,\"xanchor\":\"center\",\"xref\":\"paper\",\"y\":0.24444444444444446,\"yanchor\":\"bottom\",\"yref\":\"paper\"},{\"font\":{\"size\":16},\"showarrow\":false,\"text\":\"Topic 9\",\"x\":0.36250000000000004,\"xanchor\":\"center\",\"xref\":\"paper\",\"y\":0.24444444444444446,\"yanchor\":\"bottom\",\"yref\":\"paper\"}],\"title\":{\"font\":{\"size\":22,\"color\":\"Black\"},\"text\":\"Topic Word Scores\",\"x\":0.5,\"xanchor\":\"center\",\"yanchor\":\"top\"},\"hoverlabel\":{\"font\":{\"size\":16,\"family\":\"Rockwell\"},\"bgcolor\":\"white\"},\"showlegend\":false,\"width\":1320,\"height\":990},                        {\"responsive\": true}                    ).then(function(){\n",
       "                            \n",
       "var gd = document.getElementById('9114cf47-e658-467f-821c-6a35fb072558');\n",
       "var x = new MutationObserver(function (mutations, observer) {{\n",
       "        var display = window.getComputedStyle(gd).display;\n",
       "        if (!display || display === 'none') {{\n",
       "            console.log([gd, 'removed!']);\n",
       "            Plotly.purge(gd);\n",
       "            observer.disconnect();\n",
       "        }}\n",
       "}});\n",
       "\n",
       "// Listen for the removal of the full notebook cells\n",
       "var notebookContainer = gd.closest('#notebook-container');\n",
       "if (notebookContainer) {{\n",
       "    x.observe(notebookContainer, {childList: true});\n",
       "}}\n",
       "\n",
       "// Listen for the clearing of the current output cell\n",
       "var outputEl = gd.closest('.output');\n",
       "if (outputEl) {{\n",
       "    x.observe(outputEl, {childList: true});\n",
       "}}\n",
       "\n",
       "                        })                };                });            </script>        </div>"
      ]
     },
     "metadata": {},
     "output_type": "display_data"
    }
   ],
   "source": [
    "topic_word_scores = topic_model.visualize_barchart(width=330, height=330, top_n_topics=10, n_words=10)\n",
    "topic_word_scores.write_image(f\"{OUTPUT_PATH}{THEME}_topic_keywords.png\")\n",
    "topic_word_scores"
   ]
  },
  {
   "attachments": {},
   "cell_type": "markdown",
   "metadata": {},
   "source": [
    "Save relevant speeches from a particular subtopic"
   ]
  },
  {
   "cell_type": "code",
   "execution_count": 172,
   "metadata": {},
   "outputs": [],
   "source": [
    "# Get the most relevant speeches from a topic and save to a text file\n",
    "\n",
    "def save_topic_speeches(topic_id):\n",
    "    speeches = topic_model.get_representative_docs(topic_id)\n",
    "    with open(f\"{OUTPUT_PATH}{THEME}_topic{topic_id}_speeches.txt\", \"w\", encoding=\"utf-8\") as file:\n",
    "        file.write(f\"Relevant speeches for theme {THEME} and topic {topic_id}\\n\\n\")\n",
    "        for speech in speeches:\n",
    "            file.write(speech)\n",
    "            file.write(\"\\n\\n\")\n",
    "for topic_id in range(10):\n",
    "    save_topic_speeches(topic_id)"
   ]
  },
  {
   "attachments": {},
   "cell_type": "markdown",
   "metadata": {},
   "source": [
    "# Word Clouds"
   ]
  },
  {
   "cell_type": "code",
   "execution_count": 173,
   "metadata": {},
   "outputs": [
    {
     "data": {
      "image/png": "[encoded data removed]",
      "text/plain": [
       "<Figure size 640x480 with 1 Axes>"
      ]
     },
     "metadata": {},
     "output_type": "display_data"
    }
   ],
   "source": [
    "from wordcloud import WordCloud\n",
    "import matplotlib.pyplot as plt\n",
    "\n",
    "def create_wordcloud(model, topic):\n",
    "    text = {word: value for word, value in model.get_topic(topic)}\n",
    "    wc = WordCloud(background_color=\"white\", max_words=1000)\n",
    "    wc.generate_from_frequencies(text)\n",
    "    plt.imshow(wc, interpolation=\"bilinear\")\n",
    "    plt.axis(\"off\")\n",
    "    plt.show()\n",
    "\n",
    "# Show wordcloud\n",
    "create_wordcloud(topic_model, topic=0)"
   ]
  },
  {
   "cell_type": "code",
   "execution_count": 174,
   "metadata": {},
   "outputs": [
    {
     "data": {
      "application/vnd.plotly.v1+json": {
       "config": {
        "plotlyServerURL": "https://plot.ly"
       },
       "data": [
        {
         "coloraxis": "coloraxis",
         "hovertemplate": "x: %{x}<br>y: %{y}<br>Similarity Score: %{z}<extra></extra>",
         "name": "0",
         "type": "heatmap",
         "x": [
          "0_lgbt_rights_ireland",
          "2_transgender_recognition_c...",
          "3_victims_sexual_convention",
          "1_gap_employers_reporting",
          "8_women_tax_impact",
          "4_member_friend_armed",
          "5_woman_international_hon",
          "6_young_guidance_primary",
          "9_online_bullying_platforms",
          "7_trade_climate_european"
         ],
         "xaxis": "x",
         "y": [
          "0_lgbt_rights_ireland",
          "2_transgender_recognition_c...",
          "3_victims_sexual_convention",
          "1_gap_employers_reporting",
          "8_women_tax_impact",
          "4_member_friend_armed",
          "5_woman_international_hon",
          "6_young_guidance_primary",
          "9_online_bullying_platforms",
          "7_trade_climate_european"
         ],
         "yaxis": "y",
         "z": [
          [
           1,
           0.8486283685609151,
           0.837753877824875,
           0.7728368434915441,
           0.7525072022283363,
           0.7892189164242801,
           0.8268457050452261,
           0.8194750124439063,
           0.7891235985165339,
           0.7733703050680272
          ],
          [
           0.8486283685609151,
           1.0000000000000004,
           0.8275762410829473,
           0.7773534374974445,
           0.7284452727821928,
           0.7935235164558749,
           0.8145388395488715,
           0.8359886171720893,
           0.7950650948788573,
           0.7432094079317584
          ],
          [
           0.837753877824875,
           0.8275762410829473,
           1.0000000000000002,
           0.7444263282230319,
           0.7528448159087273,
           0.8007960647895473,
           0.8215945951403265,
           0.8015719331831723,
           0.7696515519026421,
           0.7455374383230442
          ],
          [
           0.7728368434915441,
           0.7773534374974445,
           0.7444263282230319,
           1,
           0.8168526725310208,
           0.7389897580715478,
           0.7637529248120507,
           0.7456055398586725,
           0.7273537399148968,
           0.7232644846387748
          ],
          [
           0.7525072022283363,
           0.7284452727821928,
           0.7528448159087273,
           0.8168526725310208,
           1,
           0.7051286818292641,
           0.744996021939319,
           0.7022160982124918,
           0.6979702807807027,
           0.7434610639316956
          ],
          [
           0.7892189164242801,
           0.7935235164558749,
           0.8007960647895473,
           0.7389897580715478,
           0.7051286818292641,
           0.9999999999999997,
           0.8564734427601562,
           0.7691700622529108,
           0.7935468960998296,
           0.7430419802836314
          ],
          [
           0.8268457050452261,
           0.8145388395488715,
           0.8215945951403265,
           0.7637529248120507,
           0.744996021939319,
           0.8564734427601562,
           1.0000000000000002,
           0.7632430019306017,
           0.7873473098143713,
           0.7314946980691184
          ],
          [
           0.8194750124439063,
           0.8359886171720893,
           0.8015719331831723,
           0.7456055398586725,
           0.7022160982124918,
           0.7691700622529108,
           0.7632430019306017,
           1.0000000000000004,
           0.8250497756625956,
           0.7568182102874695
          ],
          [
           0.7891235985165339,
           0.7950650948788573,
           0.7696515519026421,
           0.7273537399148968,
           0.6979702807807027,
           0.7935468960998296,
           0.7873473098143713,
           0.8250497756625956,
           1,
           0.7567814989523082
          ],
          [
           0.7733703050680272,
           0.7432094079317584,
           0.7455374383230442,
           0.7232644846387748,
           0.7434610639316956,
           0.7430419802836314,
           0.7314946980691184,
           0.7568182102874695,
           0.7567814989523082,
           0.9999999999999999
          ]
         ]
        }
       ],
       "layout": {
        "coloraxis": {
         "colorbar": {
          "title": {
           "text": "Similarity Score"
          }
         },
         "colorscale": [
          [
           0,
           "rgb(247,252,240)"
          ],
          [
           0.125,
           "rgb(224,243,219)"
          ],
          [
           0.25,
           "rgb(204,235,197)"
          ],
          [
           0.375,
           "rgb(168,221,181)"
          ],
          [
           0.5,
           "rgb(123,204,196)"
          ],
          [
           0.625,
           "rgb(78,179,211)"
          ],
          [
           0.75,
           "rgb(43,140,190)"
          ],
          [
           0.875,
           "rgb(8,104,172)"
          ],
          [
           1,
           "rgb(8,64,129)"
          ]
         ]
        },
        "height": 800,
        "hoverlabel": {
         "bgcolor": "white",
         "font": {
          "family": "Rockwell",
          "size": 16
         }
        },
        "legend": {
         "title": {
          "text": "Trend"
         }
        },
        "margin": {
         "t": 60
        },
        "showlegend": true,
        "template": {
         "data": {
          "bar": [
           {
            "error_x": {
             "color": "#2a3f5f"
            },
            "error_y": {
             "color": "#2a3f5f"
            },
            "marker": {
             "line": {
              "color": "#E5ECF6",
              "width": 0.5
             },
             "pattern": {
              "fillmode": "overlay",
              "size": 10,
              "solidity": 0.2
             }
            },
            "type": "bar"
           }
          ],
          "barpolar": [
           {
            "marker": {
             "line": {
              "color": "#E5ECF6",
              "width": 0.5
             },
             "pattern": {
              "fillmode": "overlay",
              "size": 10,
              "solidity": 0.2
             }
            },
            "type": "barpolar"
           }
          ],
          "carpet": [
           {
            "aaxis": {
             "endlinecolor": "#2a3f5f",
             "gridcolor": "white",
             "linecolor": "white",
             "minorgridcolor": "white",
             "startlinecolor": "#2a3f5f"
            },
            "baxis": {
             "endlinecolor": "#2a3f5f",
             "gridcolor": "white",
             "linecolor": "white",
             "minorgridcolor": "white",
             "startlinecolor": "#2a3f5f"
            },
            "type": "carpet"
           }
          ],
          "choropleth": [
           {
            "colorbar": {
             "outlinewidth": 0,
             "ticks": ""
            },
            "type": "choropleth"
           }
          ],
          "contour": [
           {
            "colorbar": {
             "outlinewidth": 0,
             "ticks": ""
            },
            "colorscale": [
             [
              0,
              "#0d0887"
             ],
             [
              0.1111111111111111,
              "#46039f"
             ],
             [
              0.2222222222222222,
              "#7201a8"
             ],
             [
              0.3333333333333333,
              "#9c179e"
             ],
             [
              0.4444444444444444,
              "#bd3786"
             ],
             [
              0.5555555555555556,
              "#d8576b"
             ],
             [
              0.6666666666666666,
              "#ed7953"
             ],
             [
              0.7777777777777778,
              "#fb9f3a"
             ],
             [
              0.8888888888888888,
              "#fdca26"
             ],
             [
              1,
              "#f0f921"
             ]
            ],
            "type": "contour"
           }
          ],
          "contourcarpet": [
           {
            "colorbar": {
             "outlinewidth": 0,
             "ticks": ""
            },
            "type": "contourcarpet"
           }
          ],
          "heatmap": [
           {
            "colorbar": {
             "outlinewidth": 0,
             "ticks": ""
            },
            "colorscale": [
             [
              0,
              "#0d0887"
             ],
             [
              0.1111111111111111,
              "#46039f"
             ],
             [
              0.2222222222222222,
              "#7201a8"
             ],
             [
              0.3333333333333333,
              "#9c179e"
             ],
             [
              0.4444444444444444,
              "#bd3786"
             ],
             [
              0.5555555555555556,
              "#d8576b"
             ],
             [
              0.6666666666666666,
              "#ed7953"
             ],
             [
              0.7777777777777778,
              "#fb9f3a"
             ],
             [
              0.8888888888888888,
              "#fdca26"
             ],
             [
              1,
              "#f0f921"
             ]
            ],
            "type": "heatmap"
           }
          ],
          "heatmapgl": [
           {
            "colorbar": {
             "outlinewidth": 0,
             "ticks": ""
            },
            "colorscale": [
             [
              0,
              "#0d0887"
             ],
             [
              0.1111111111111111,
              "#46039f"
             ],
             [
              0.2222222222222222,
              "#7201a8"
             ],
             [
              0.3333333333333333,
              "#9c179e"
             ],
             [
              0.4444444444444444,
              "#bd3786"
             ],
             [
              0.5555555555555556,
              "#d8576b"
             ],
             [
              0.6666666666666666,
              "#ed7953"
             ],
             [
              0.7777777777777778,
              "#fb9f3a"
             ],
             [
              0.8888888888888888,
              "#fdca26"
             ],
             [
              1,
              "#f0f921"
             ]
            ],
            "type": "heatmapgl"
           }
          ],
          "histogram": [
           {
            "marker": {
             "pattern": {
              "fillmode": "overlay",
              "size": 10,
              "solidity": 0.2
             }
            },
            "type": "histogram"
           }
          ],
          "histogram2d": [
           {
            "colorbar": {
             "outlinewidth": 0,
             "ticks": ""
            },
            "colorscale": [
             [
              0,
              "#0d0887"
             ],
             [
              0.1111111111111111,
              "#46039f"
             ],
             [
              0.2222222222222222,
              "#7201a8"
             ],
             [
              0.3333333333333333,
              "#9c179e"
             ],
             [
              0.4444444444444444,
              "#bd3786"
             ],
             [
              0.5555555555555556,
              "#d8576b"
             ],
             [
              0.6666666666666666,
              "#ed7953"
             ],
             [
              0.7777777777777778,
              "#fb9f3a"
             ],
             [
              0.8888888888888888,
              "#fdca26"
             ],
             [
              1,
              "#f0f921"
             ]
            ],
            "type": "histogram2d"
           }
          ],
          "histogram2dcontour": [
           {
            "colorbar": {
             "outlinewidth": 0,
             "ticks": ""
            },
            "colorscale": [
             [
              0,
              "#0d0887"
             ],
             [
              0.1111111111111111,
              "#46039f"
             ],
             [
              0.2222222222222222,
              "#7201a8"
             ],
             [
              0.3333333333333333,
              "#9c179e"
             ],
             [
              0.4444444444444444,
              "#bd3786"
             ],
             [
              0.5555555555555556,
              "#d8576b"
             ],
             [
              0.6666666666666666,
              "#ed7953"
             ],
             [
              0.7777777777777778,
              "#fb9f3a"
             ],
             [
              0.8888888888888888,
              "#fdca26"
             ],
             [
              1,
              "#f0f921"
             ]
            ],
            "type": "histogram2dcontour"
           }
          ],
          "mesh3d": [
           {
            "colorbar": {
             "outlinewidth": 0,
             "ticks": ""
            },
            "type": "mesh3d"
           }
          ],
          "parcoords": [
           {
            "line": {
             "colorbar": {
              "outlinewidth": 0,
              "ticks": ""
             }
            },
            "type": "parcoords"
           }
          ],
          "pie": [
           {
            "automargin": true,
            "type": "pie"
           }
          ],
          "scatter": [
           {
            "fillpattern": {
             "fillmode": "overlay",
             "size": 10,
             "solidity": 0.2
            },
            "type": "scatter"
           }
          ],
          "scatter3d": [
           {
            "line": {
             "colorbar": {
              "outlinewidth": 0,
              "ticks": ""
             }
            },
            "marker": {
             "colorbar": {
              "outlinewidth": 0,
              "ticks": ""
             }
            },
            "type": "scatter3d"
           }
          ],
          "scattercarpet": [
           {
            "marker": {
             "colorbar": {
              "outlinewidth": 0,
              "ticks": ""
             }
            },
            "type": "scattercarpet"
           }
          ],
          "scattergeo": [
           {
            "marker": {
             "colorbar": {
              "outlinewidth": 0,
              "ticks": ""
             }
            },
            "type": "scattergeo"
           }
          ],
          "scattergl": [
           {
            "marker": {
             "colorbar": {
              "outlinewidth": 0,
              "ticks": ""
             }
            },
            "type": "scattergl"
           }
          ],
          "scattermapbox": [
           {
            "marker": {
             "colorbar": {
              "outlinewidth": 0,
              "ticks": ""
             }
            },
            "type": "scattermapbox"
           }
          ],
          "scatterpolar": [
           {
            "marker": {
             "colorbar": {
              "outlinewidth": 0,
              "ticks": ""
             }
            },
            "type": "scatterpolar"
           }
          ],
          "scatterpolargl": [
           {
            "marker": {
             "colorbar": {
              "outlinewidth": 0,
              "ticks": ""
             }
            },
            "type": "scatterpolargl"
           }
          ],
          "scatterternary": [
           {
            "marker": {
             "colorbar": {
              "outlinewidth": 0,
              "ticks": ""
             }
            },
            "type": "scatterternary"
           }
          ],
          "surface": [
           {
            "colorbar": {
             "outlinewidth": 0,
             "ticks": ""
            },
            "colorscale": [
             [
              0,
              "#0d0887"
             ],
             [
              0.1111111111111111,
              "#46039f"
             ],
             [
              0.2222222222222222,
              "#7201a8"
             ],
             [
              0.3333333333333333,
              "#9c179e"
             ],
             [
              0.4444444444444444,
              "#bd3786"
             ],
             [
              0.5555555555555556,
              "#d8576b"
             ],
             [
              0.6666666666666666,
              "#ed7953"
             ],
             [
              0.7777777777777778,
              "#fb9f3a"
             ],
             [
              0.8888888888888888,
              "#fdca26"
             ],
             [
              1,
              "#f0f921"
             ]
            ],
            "type": "surface"
           }
          ],
          "table": [
           {
            "cells": {
             "fill": {
              "color": "#EBF0F8"
             },
             "line": {
              "color": "white"
             }
            },
            "header": {
             "fill": {
              "color": "#C8D4E3"
             },
             "line": {
              "color": "white"
             }
            },
            "type": "table"
           }
          ]
         },
         "layout": {
          "annotationdefaults": {
           "arrowcolor": "#2a3f5f",
           "arrowhead": 0,
           "arrowwidth": 1
          },
          "autotypenumbers": "strict",
          "coloraxis": {
           "colorbar": {
            "outlinewidth": 0,
            "ticks": ""
           }
          },
          "colorscale": {
           "diverging": [
            [
             0,
             "#8e0152"
            ],
            [
             0.1,
             "#c51b7d"
            ],
            [
             0.2,
             "#de77ae"
            ],
            [
             0.3,
             "#f1b6da"
            ],
            [
             0.4,
             "#fde0ef"
            ],
            [
             0.5,
             "#f7f7f7"
            ],
            [
             0.6,
             "#e6f5d0"
            ],
            [
             0.7,
             "#b8e186"
            ],
            [
             0.8,
             "#7fbc41"
            ],
            [
             0.9,
             "#4d9221"
            ],
            [
             1,
             "#276419"
            ]
           ],
           "sequential": [
            [
             0,
             "#0d0887"
            ],
            [
             0.1111111111111111,
             "#46039f"
            ],
            [
             0.2222222222222222,
             "#7201a8"
            ],
            [
             0.3333333333333333,
             "#9c179e"
            ],
            [
             0.4444444444444444,
             "#bd3786"
            ],
            [
             0.5555555555555556,
             "#d8576b"
            ],
            [
             0.6666666666666666,
             "#ed7953"
            ],
            [
             0.7777777777777778,
             "#fb9f3a"
            ],
            [
             0.8888888888888888,
             "#fdca26"
            ],
            [
             1,
             "#f0f921"
            ]
           ],
           "sequentialminus": [
            [
             0,
             "#0d0887"
            ],
            [
             0.1111111111111111,
             "#46039f"
            ],
            [
             0.2222222222222222,
             "#7201a8"
            ],
            [
             0.3333333333333333,
             "#9c179e"
            ],
            [
             0.4444444444444444,
             "#bd3786"
            ],
            [
             0.5555555555555556,
             "#d8576b"
            ],
            [
             0.6666666666666666,
             "#ed7953"
            ],
            [
             0.7777777777777778,
             "#fb9f3a"
            ],
            [
             0.8888888888888888,
             "#fdca26"
            ],
            [
             1,
             "#f0f921"
            ]
           ]
          },
          "colorway": [
           "#636efa",
           "#EF553B",
           "#00cc96",
           "#ab63fa",
           "#FFA15A",
           "#19d3f3",
           "#FF6692",
           "#B6E880",
           "#FF97FF",
           "#FECB52"
          ],
          "font": {
           "color": "#2a3f5f"
          },
          "geo": {
           "bgcolor": "white",
           "lakecolor": "white",
           "landcolor": "#E5ECF6",
           "showlakes": true,
           "showland": true,
           "subunitcolor": "white"
          },
          "hoverlabel": {
           "align": "left"
          },
          "hovermode": "closest",
          "mapbox": {
           "style": "light"
          },
          "paper_bgcolor": "white",
          "plot_bgcolor": "#E5ECF6",
          "polar": {
           "angularaxis": {
            "gridcolor": "white",
            "linecolor": "white",
            "ticks": ""
           },
           "bgcolor": "#E5ECF6",
           "radialaxis": {
            "gridcolor": "white",
            "linecolor": "white",
            "ticks": ""
           }
          },
          "scene": {
           "xaxis": {
            "backgroundcolor": "#E5ECF6",
            "gridcolor": "white",
            "gridwidth": 2,
            "linecolor": "white",
            "showbackground": true,
            "ticks": "",
            "zerolinecolor": "white"
           },
           "yaxis": {
            "backgroundcolor": "#E5ECF6",
            "gridcolor": "white",
            "gridwidth": 2,
            "linecolor": "white",
            "showbackground": true,
            "ticks": "",
            "zerolinecolor": "white"
           },
           "zaxis": {
            "backgroundcolor": "#E5ECF6",
            "gridcolor": "white",
            "gridwidth": 2,
            "linecolor": "white",
            "showbackground": true,
            "ticks": "",
            "zerolinecolor": "white"
           }
          },
          "shapedefaults": {
           "line": {
            "color": "#2a3f5f"
           }
          },
          "ternary": {
           "aaxis": {
            "gridcolor": "white",
            "linecolor": "white",
            "ticks": ""
           },
           "baxis": {
            "gridcolor": "white",
            "linecolor": "white",
            "ticks": ""
           },
           "bgcolor": "#E5ECF6",
           "caxis": {
            "gridcolor": "white",
            "linecolor": "white",
            "ticks": ""
           }
          },
          "title": {
           "x": 0.05
          },
          "xaxis": {
           "automargin": true,
           "gridcolor": "white",
           "linecolor": "white",
           "ticks": "",
           "title": {
            "standoff": 15
           },
           "zerolinecolor": "white",
           "zerolinewidth": 2
          },
          "yaxis": {
           "automargin": true,
           "gridcolor": "white",
           "linecolor": "white",
           "ticks": "",
           "title": {
            "standoff": 15
           },
           "zerolinecolor": "white",
           "zerolinewidth": 2
          }
         }
        },
        "title": {
         "font": {
          "color": "Black",
          "size": 22
         },
         "text": "<b>Similarity Matrix</b>",
         "x": 0.55,
         "xanchor": "center",
         "y": 0.95,
         "yanchor": "top"
        },
        "width": 800,
        "xaxis": {
         "anchor": "y",
         "constrain": "domain",
         "domain": [
          0,
          1
         ],
         "scaleanchor": "y"
        },
        "yaxis": {
         "anchor": "x",
         "autorange": "reversed",
         "constrain": "domain",
         "domain": [
          0,
          1
         ]
        }
       }
      },
      "text/html": [
       "<div>                            <div id=\"7b02ba6b-2854-4dea-9fd7-4c7df6bb0245\" class=\"plotly-graph-div\" style=\"height:800px; width:800px;\"></div>            <script type=\"text/javascript\">                require([\"plotly\"], function(Plotly) {                    window.PLOTLYENV=window.PLOTLYENV || {};                                    if (document.getElementById(\"7b02ba6b-2854-4dea-9fd7-4c7df6bb0245\")) {                    Plotly.newPlot(                        \"7b02ba6b-2854-4dea-9fd7-4c7df6bb0245\",                        [{\"coloraxis\":\"coloraxis\",\"name\":\"0\",\"x\":[\"0_lgbt_rights_ireland\",\"2_transgender_recognition_c...\",\"3_victims_sexual_convention\",\"1_gap_employers_reporting\",\"8_women_tax_impact\",\"4_member_friend_armed\",\"5_woman_international_hon\",\"6_young_guidance_primary\",\"9_online_bullying_platforms\",\"7_trade_climate_european\"],\"y\":[\"0_lgbt_rights_ireland\",\"2_transgender_recognition_c...\",\"3_victims_sexual_convention\",\"1_gap_employers_reporting\",\"8_women_tax_impact\",\"4_member_friend_armed\",\"5_woman_international_hon\",\"6_young_guidance_primary\",\"9_online_bullying_platforms\",\"7_trade_climate_european\"],\"z\":[[1.0,0.8486283685609151,0.837753877824875,0.7728368434915441,0.7525072022283363,0.7892189164242801,0.8268457050452261,0.8194750124439063,0.7891235985165339,0.7733703050680272],[0.8486283685609151,1.0000000000000004,0.8275762410829473,0.7773534374974445,0.7284452727821928,0.7935235164558749,0.8145388395488715,0.8359886171720893,0.7950650948788573,0.7432094079317584],[0.837753877824875,0.8275762410829473,1.0000000000000002,0.7444263282230319,0.7528448159087273,0.8007960647895473,0.8215945951403265,0.8015719331831723,0.7696515519026421,0.7455374383230442],[0.7728368434915441,0.7773534374974445,0.7444263282230319,1.0,0.8168526725310208,0.7389897580715478,0.7637529248120507,0.7456055398586725,0.7273537399148968,0.7232644846387748],[0.7525072022283363,0.7284452727821928,0.7528448159087273,0.8168526725310208,1.0,0.7051286818292641,0.744996021939319,0.7022160982124918,0.6979702807807027,0.7434610639316956],[0.7892189164242801,0.7935235164558749,0.8007960647895473,0.7389897580715478,0.7051286818292641,0.9999999999999997,0.8564734427601562,0.7691700622529108,0.7935468960998296,0.7430419802836314],[0.8268457050452261,0.8145388395488715,0.8215945951403265,0.7637529248120507,0.744996021939319,0.8564734427601562,1.0000000000000002,0.7632430019306017,0.7873473098143713,0.7314946980691184],[0.8194750124439063,0.8359886171720893,0.8015719331831723,0.7456055398586725,0.7022160982124918,0.7691700622529108,0.7632430019306017,1.0000000000000004,0.8250497756625956,0.7568182102874695],[0.7891235985165339,0.7950650948788573,0.7696515519026421,0.7273537399148968,0.6979702807807027,0.7935468960998296,0.7873473098143713,0.8250497756625956,1.0,0.7567814989523082],[0.7733703050680272,0.7432094079317584,0.7455374383230442,0.7232644846387748,0.7434610639316956,0.7430419802836314,0.7314946980691184,0.7568182102874695,0.7567814989523082,0.9999999999999999]],\"type\":\"heatmap\",\"xaxis\":\"x\",\"yaxis\":\"y\",\"hovertemplate\":\"x: %{x}<br>y: %{y}<br>Similarity Score: %{z}<extra></extra>\"}],                        {\"template\":{\"data\":{\"histogram2dcontour\":[{\"type\":\"histogram2dcontour\",\"colorbar\":{\"outlinewidth\":0,\"ticks\":\"\"},\"colorscale\":[[0.0,\"#0d0887\"],[0.1111111111111111,\"#46039f\"],[0.2222222222222222,\"#7201a8\"],[0.3333333333333333,\"#9c179e\"],[0.4444444444444444,\"#bd3786\"],[0.5555555555555556,\"#d8576b\"],[0.6666666666666666,\"#ed7953\"],[0.7777777777777778,\"#fb9f3a\"],[0.8888888888888888,\"#fdca26\"],[1.0,\"#f0f921\"]]}],\"choropleth\":[{\"type\":\"choropleth\",\"colorbar\":{\"outlinewidth\":0,\"ticks\":\"\"}}],\"histogram2d\":[{\"type\":\"histogram2d\",\"colorbar\":{\"outlinewidth\":0,\"ticks\":\"\"},\"colorscale\":[[0.0,\"#0d0887\"],[0.1111111111111111,\"#46039f\"],[0.2222222222222222,\"#7201a8\"],[0.3333333333333333,\"#9c179e\"],[0.4444444444444444,\"#bd3786\"],[0.5555555555555556,\"#d8576b\"],[0.6666666666666666,\"#ed7953\"],[0.7777777777777778,\"#fb9f3a\"],[0.8888888888888888,\"#fdca26\"],[1.0,\"#f0f921\"]]}],\"heatmap\":[{\"type\":\"heatmap\",\"colorbar\":{\"outlinewidth\":0,\"ticks\":\"\"},\"colorscale\":[[0.0,\"#0d0887\"],[0.1111111111111111,\"#46039f\"],[0.2222222222222222,\"#7201a8\"],[0.3333333333333333,\"#9c179e\"],[0.4444444444444444,\"#bd3786\"],[0.5555555555555556,\"#d8576b\"],[0.6666666666666666,\"#ed7953\"],[0.7777777777777778,\"#fb9f3a\"],[0.8888888888888888,\"#fdca26\"],[1.0,\"#f0f921\"]]}],\"heatmapgl\":[{\"type\":\"heatmapgl\",\"colorbar\":{\"outlinewidth\":0,\"ticks\":\"\"},\"colorscale\":[[0.0,\"#0d0887\"],[0.1111111111111111,\"#46039f\"],[0.2222222222222222,\"#7201a8\"],[0.3333333333333333,\"#9c179e\"],[0.4444444444444444,\"#bd3786\"],[0.5555555555555556,\"#d8576b\"],[0.6666666666666666,\"#ed7953\"],[0.7777777777777778,\"#fb9f3a\"],[0.8888888888888888,\"#fdca26\"],[1.0,\"#f0f921\"]]}],\"contourcarpet\":[{\"type\":\"contourcarpet\",\"colorbar\":{\"outlinewidth\":0,\"ticks\":\"\"}}],\"contour\":[{\"type\":\"contour\",\"colorbar\":{\"outlinewidth\":0,\"ticks\":\"\"},\"colorscale\":[[0.0,\"#0d0887\"],[0.1111111111111111,\"#46039f\"],[0.2222222222222222,\"#7201a8\"],[0.3333333333333333,\"#9c179e\"],[0.4444444444444444,\"#bd3786\"],[0.5555555555555556,\"#d8576b\"],[0.6666666666666666,\"#ed7953\"],[0.7777777777777778,\"#fb9f3a\"],[0.8888888888888888,\"#fdca26\"],[1.0,\"#f0f921\"]]}],\"surface\":[{\"type\":\"surface\",\"colorbar\":{\"outlinewidth\":0,\"ticks\":\"\"},\"colorscale\":[[0.0,\"#0d0887\"],[0.1111111111111111,\"#46039f\"],[0.2222222222222222,\"#7201a8\"],[0.3333333333333333,\"#9c179e\"],[0.4444444444444444,\"#bd3786\"],[0.5555555555555556,\"#d8576b\"],[0.6666666666666666,\"#ed7953\"],[0.7777777777777778,\"#fb9f3a\"],[0.8888888888888888,\"#fdca26\"],[1.0,\"#f0f921\"]]}],\"mesh3d\":[{\"type\":\"mesh3d\",\"colorbar\":{\"outlinewidth\":0,\"ticks\":\"\"}}],\"scatter\":[{\"fillpattern\":{\"fillmode\":\"overlay\",\"size\":10,\"solidity\":0.2},\"type\":\"scatter\"}],\"parcoords\":[{\"type\":\"parcoords\",\"line\":{\"colorbar\":{\"outlinewidth\":0,\"ticks\":\"\"}}}],\"scatterpolargl\":[{\"type\":\"scatterpolargl\",\"marker\":{\"colorbar\":{\"outlinewidth\":0,\"ticks\":\"\"}}}],\"bar\":[{\"error_x\":{\"color\":\"#2a3f5f\"},\"error_y\":{\"color\":\"#2a3f5f\"},\"marker\":{\"line\":{\"color\":\"#E5ECF6\",\"width\":0.5},\"pattern\":{\"fillmode\":\"overlay\",\"size\":10,\"solidity\":0.2}},\"type\":\"bar\"}],\"scattergeo\":[{\"type\":\"scattergeo\",\"marker\":{\"colorbar\":{\"outlinewidth\":0,\"ticks\":\"\"}}}],\"scatterpolar\":[{\"type\":\"scatterpolar\",\"marker\":{\"colorbar\":{\"outlinewidth\":0,\"ticks\":\"\"}}}],\"histogram\":[{\"marker\":{\"pattern\":{\"fillmode\":\"overlay\",\"size\":10,\"solidity\":0.2}},\"type\":\"histogram\"}],\"scattergl\":[{\"type\":\"scattergl\",\"marker\":{\"colorbar\":{\"outlinewidth\":0,\"ticks\":\"\"}}}],\"scatter3d\":[{\"type\":\"scatter3d\",\"line\":{\"colorbar\":{\"outlinewidth\":0,\"ticks\":\"\"}},\"marker\":{\"colorbar\":{\"outlinewidth\":0,\"ticks\":\"\"}}}],\"scattermapbox\":[{\"type\":\"scattermapbox\",\"marker\":{\"colorbar\":{\"outlinewidth\":0,\"ticks\":\"\"}}}],\"scatterternary\":[{\"type\":\"scatterternary\",\"marker\":{\"colorbar\":{\"outlinewidth\":0,\"ticks\":\"\"}}}],\"scattercarpet\":[{\"type\":\"scattercarpet\",\"marker\":{\"colorbar\":{\"outlinewidth\":0,\"ticks\":\"\"}}}],\"carpet\":[{\"aaxis\":{\"endlinecolor\":\"#2a3f5f\",\"gridcolor\":\"white\",\"linecolor\":\"white\",\"minorgridcolor\":\"white\",\"startlinecolor\":\"#2a3f5f\"},\"baxis\":{\"endlinecolor\":\"#2a3f5f\",\"gridcolor\":\"white\",\"linecolor\":\"white\",\"minorgridcolor\":\"white\",\"startlinecolor\":\"#2a3f5f\"},\"type\":\"carpet\"}],\"table\":[{\"cells\":{\"fill\":{\"color\":\"#EBF0F8\"},\"line\":{\"color\":\"white\"}},\"header\":{\"fill\":{\"color\":\"#C8D4E3\"},\"line\":{\"color\":\"white\"}},\"type\":\"table\"}],\"barpolar\":[{\"marker\":{\"line\":{\"color\":\"#E5ECF6\",\"width\":0.5},\"pattern\":{\"fillmode\":\"overlay\",\"size\":10,\"solidity\":0.2}},\"type\":\"barpolar\"}],\"pie\":[{\"automargin\":true,\"type\":\"pie\"}]},\"layout\":{\"autotypenumbers\":\"strict\",\"colorway\":[\"#636efa\",\"#EF553B\",\"#00cc96\",\"#ab63fa\",\"#FFA15A\",\"#19d3f3\",\"#FF6692\",\"#B6E880\",\"#FF97FF\",\"#FECB52\"],\"font\":{\"color\":\"#2a3f5f\"},\"hovermode\":\"closest\",\"hoverlabel\":{\"align\":\"left\"},\"paper_bgcolor\":\"white\",\"plot_bgcolor\":\"#E5ECF6\",\"polar\":{\"bgcolor\":\"#E5ECF6\",\"angularaxis\":{\"gridcolor\":\"white\",\"linecolor\":\"white\",\"ticks\":\"\"},\"radialaxis\":{\"gridcolor\":\"white\",\"linecolor\":\"white\",\"ticks\":\"\"}},\"ternary\":{\"bgcolor\":\"#E5ECF6\",\"aaxis\":{\"gridcolor\":\"white\",\"linecolor\":\"white\",\"ticks\":\"\"},\"baxis\":{\"gridcolor\":\"white\",\"linecolor\":\"white\",\"ticks\":\"\"},\"caxis\":{\"gridcolor\":\"white\",\"linecolor\":\"white\",\"ticks\":\"\"}},\"coloraxis\":{\"colorbar\":{\"outlinewidth\":0,\"ticks\":\"\"}},\"colorscale\":{\"sequential\":[[0.0,\"#0d0887\"],[0.1111111111111111,\"#46039f\"],[0.2222222222222222,\"#7201a8\"],[0.3333333333333333,\"#9c179e\"],[0.4444444444444444,\"#bd3786\"],[0.5555555555555556,\"#d8576b\"],[0.6666666666666666,\"#ed7953\"],[0.7777777777777778,\"#fb9f3a\"],[0.8888888888888888,\"#fdca26\"],[1.0,\"#f0f921\"]],\"sequentialminus\":[[0.0,\"#0d0887\"],[0.1111111111111111,\"#46039f\"],[0.2222222222222222,\"#7201a8\"],[0.3333333333333333,\"#9c179e\"],[0.4444444444444444,\"#bd3786\"],[0.5555555555555556,\"#d8576b\"],[0.6666666666666666,\"#ed7953\"],[0.7777777777777778,\"#fb9f3a\"],[0.8888888888888888,\"#fdca26\"],[1.0,\"#f0f921\"]],\"diverging\":[[0,\"#8e0152\"],[0.1,\"#c51b7d\"],[0.2,\"#de77ae\"],[0.3,\"#f1b6da\"],[0.4,\"#fde0ef\"],[0.5,\"#f7f7f7\"],[0.6,\"#e6f5d0\"],[0.7,\"#b8e186\"],[0.8,\"#7fbc41\"],[0.9,\"#4d9221\"],[1,\"#276419\"]]},\"xaxis\":{\"gridcolor\":\"white\",\"linecolor\":\"white\",\"ticks\":\"\",\"title\":{\"standoff\":15},\"zerolinecolor\":\"white\",\"automargin\":true,\"zerolinewidth\":2},\"yaxis\":{\"gridcolor\":\"white\",\"linecolor\":\"white\",\"ticks\":\"\",\"title\":{\"standoff\":15},\"zerolinecolor\":\"white\",\"automargin\":true,\"zerolinewidth\":2},\"scene\":{\"xaxis\":{\"backgroundcolor\":\"#E5ECF6\",\"gridcolor\":\"white\",\"linecolor\":\"white\",\"showbackground\":true,\"ticks\":\"\",\"zerolinecolor\":\"white\",\"gridwidth\":2},\"yaxis\":{\"backgroundcolor\":\"#E5ECF6\",\"gridcolor\":\"white\",\"linecolor\":\"white\",\"showbackground\":true,\"ticks\":\"\",\"zerolinecolor\":\"white\",\"gridwidth\":2},\"zaxis\":{\"backgroundcolor\":\"#E5ECF6\",\"gridcolor\":\"white\",\"linecolor\":\"white\",\"showbackground\":true,\"ticks\":\"\",\"zerolinecolor\":\"white\",\"gridwidth\":2}},\"shapedefaults\":{\"line\":{\"color\":\"#2a3f5f\"}},\"annotationdefaults\":{\"arrowcolor\":\"#2a3f5f\",\"arrowhead\":0,\"arrowwidth\":1},\"geo\":{\"bgcolor\":\"white\",\"landcolor\":\"#E5ECF6\",\"subunitcolor\":\"white\",\"showland\":true,\"showlakes\":true,\"lakecolor\":\"white\"},\"title\":{\"x\":0.05},\"mapbox\":{\"style\":\"light\"}}},\"xaxis\":{\"anchor\":\"y\",\"domain\":[0.0,1.0],\"scaleanchor\":\"y\",\"constrain\":\"domain\"},\"yaxis\":{\"anchor\":\"x\",\"domain\":[0.0,1.0],\"autorange\":\"reversed\",\"constrain\":\"domain\"},\"coloraxis\":{\"colorbar\":{\"title\":{\"text\":\"Similarity Score\"}},\"colorscale\":[[0.0,\"rgb(247,252,240)\"],[0.125,\"rgb(224,243,219)\"],[0.25,\"rgb(204,235,197)\"],[0.375,\"rgb(168,221,181)\"],[0.5,\"rgb(123,204,196)\"],[0.625,\"rgb(78,179,211)\"],[0.75,\"rgb(43,140,190)\"],[0.875,\"rgb(8,104,172)\"],[1.0,\"rgb(8,64,129)\"]]},\"margin\":{\"t\":60},\"title\":{\"font\":{\"size\":22,\"color\":\"Black\"},\"text\":\"<b>Similarity Matrix</b>\",\"y\":0.95,\"x\":0.55,\"xanchor\":\"center\",\"yanchor\":\"top\"},\"hoverlabel\":{\"font\":{\"size\":16,\"family\":\"Rockwell\"},\"bgcolor\":\"white\"},\"width\":800,\"height\":800,\"showlegend\":true,\"legend\":{\"title\":{\"text\":\"Trend\"}}},                        {\"responsive\": true}                    ).then(function(){\n",
       "                            \n",
       "var gd = document.getElementById('7b02ba6b-2854-4dea-9fd7-4c7df6bb0245');\n",
       "var x = new MutationObserver(function (mutations, observer) {{\n",
       "        var display = window.getComputedStyle(gd).display;\n",
       "        if (!display || display === 'none') {{\n",
       "            console.log([gd, 'removed!']);\n",
       "            Plotly.purge(gd);\n",
       "            observer.disconnect();\n",
       "        }}\n",
       "}});\n",
       "\n",
       "// Listen for the removal of the full notebook cells\n",
       "var notebookContainer = gd.closest('#notebook-container');\n",
       "if (notebookContainer) {{\n",
       "    x.observe(notebookContainer, {childList: true});\n",
       "}}\n",
       "\n",
       "// Listen for the clearing of the current output cell\n",
       "var outputEl = gd.closest('.output');\n",
       "if (outputEl) {{\n",
       "    x.observe(outputEl, {childList: true});\n",
       "}}\n",
       "\n",
       "                        })                };                });            </script>        </div>"
      ]
     },
     "metadata": {},
     "output_type": "display_data"
    }
   ],
   "source": [
    "topic_model.visualize_heatmap(n_clusters=5, top_n_topics=10)"
   ]
  },
  {
   "attachments": {},
   "cell_type": "markdown",
   "metadata": {},
   "source": [
    "For the top 10 topics, get the percentage of Labour speeches and Conservative speeches. Include the keywords related to the topic."
   ]
  },
  {
   "cell_type": "code",
   "execution_count": 175,
   "metadata": {},
   "outputs": [
    {
     "data": {
      "text/plain": [
       "['lgbt',\n",
       " 'rights',\n",
       " 'ireland',\n",
       " 'human',\n",
       " 'hon',\n",
       " 'minister',\n",
       " 'detention',\n",
       " 'partnerships',\n",
       " 'said',\n",
       " 'debate']"
      ]
     },
     "execution_count": 175,
     "metadata": {},
     "output_type": "execute_result"
    }
   ],
   "source": [
    "def get_keywords(topic):\n",
    "    return [word for word, _ in topic_model.get_topic(topic)]\n",
    "get_keywords(0)"
   ]
  },
  {
   "cell_type": "code",
   "execution_count": 176,
   "metadata": {},
   "outputs": [
    {
     "data": {
      "text/html": [
       "<div>\n",
       "<style scoped>\n",
       "    .dataframe tbody tr th:only-of-type {\n",
       "        vertical-align: middle;\n",
       "    }\n",
       "\n",
       "    .dataframe tbody tr th {\n",
       "        vertical-align: top;\n",
       "    }\n",
       "\n",
       "    .dataframe thead th {\n",
       "        text-align: right;\n",
       "    }\n",
       "</style>\n",
       "<table border=\"1\" class=\"dataframe\">\n",
       "  <thead>\n",
       "    <tr style=\"text-align: right;\">\n",
       "      <th>party</th>\n",
       "      <th>CON</th>\n",
       "      <th>LAB</th>\n",
       "      <th>OTHER</th>\n",
       "      <th>SNP</th>\n",
       "    </tr>\n",
       "    <tr>\n",
       "      <th>topic</th>\n",
       "      <th></th>\n",
       "      <th></th>\n",
       "      <th></th>\n",
       "      <th></th>\n",
       "    </tr>\n",
       "  </thead>\n",
       "  <tbody>\n",
       "    <tr>\n",
       "      <th>0</th>\n",
       "      <td>334</td>\n",
       "      <td>248</td>\n",
       "      <td>41</td>\n",
       "      <td>125</td>\n",
       "    </tr>\n",
       "    <tr>\n",
       "      <th>1</th>\n",
       "      <td>434</td>\n",
       "      <td>173</td>\n",
       "      <td>27</td>\n",
       "      <td>55</td>\n",
       "    </tr>\n",
       "    <tr>\n",
       "      <th>2</th>\n",
       "      <td>174</td>\n",
       "      <td>101</td>\n",
       "      <td>11</td>\n",
       "      <td>47</td>\n",
       "    </tr>\n",
       "    <tr>\n",
       "      <th>3</th>\n",
       "      <td>152</td>\n",
       "      <td>86</td>\n",
       "      <td>21</td>\n",
       "      <td>44</td>\n",
       "    </tr>\n",
       "    <tr>\n",
       "      <th>4</th>\n",
       "      <td>118</td>\n",
       "      <td>96</td>\n",
       "      <td>9</td>\n",
       "      <td>25</td>\n",
       "    </tr>\n",
       "    <tr>\n",
       "      <th>5</th>\n",
       "      <td>124</td>\n",
       "      <td>79</td>\n",
       "      <td>7</td>\n",
       "      <td>40</td>\n",
       "    </tr>\n",
       "    <tr>\n",
       "      <th>6</th>\n",
       "      <td>96</td>\n",
       "      <td>77</td>\n",
       "      <td>9</td>\n",
       "      <td>11</td>\n",
       "    </tr>\n",
       "    <tr>\n",
       "      <th>7</th>\n",
       "      <td>84</td>\n",
       "      <td>75</td>\n",
       "      <td>11</td>\n",
       "      <td>33</td>\n",
       "    </tr>\n",
       "    <tr>\n",
       "      <th>8</th>\n",
       "      <td>75</td>\n",
       "      <td>67</td>\n",
       "      <td>7</td>\n",
       "      <td>23</td>\n",
       "    </tr>\n",
       "    <tr>\n",
       "      <th>9</th>\n",
       "      <td>48</td>\n",
       "      <td>53</td>\n",
       "      <td>8</td>\n",
       "      <td>18</td>\n",
       "    </tr>\n",
       "  </tbody>\n",
       "</table>\n",
       "</div>"
      ],
      "text/plain": [
       "party  CON  LAB  OTHER  SNP\n",
       "topic                      \n",
       "0      334  248     41  125\n",
       "1      434  173     27   55\n",
       "2      174  101     11   47\n",
       "3      152   86     21   44\n",
       "4      118   96      9   25\n",
       "5      124   79      7   40\n",
       "6       96   77      9   11\n",
       "7       84   75     11   33\n",
       "8       75   67      7   23\n",
       "9       48   53      8   18"
      ]
     },
     "execution_count": 176,
     "metadata": {},
     "output_type": "execute_result"
    }
   ],
   "source": [
    "speech_topic_party = pd.DataFrame({'topic': new_topics, 'party': df['Speaker_party']})\n",
    "# Remove the noise topic\n",
    "speech_topic_party = speech_topic_party[speech_topic_party['topic'] != -1]\n",
    "# Remove topics > 10\n",
    "speech_topic_party = speech_topic_party[speech_topic_party['topic'] < 10]\n",
    "# Set the party name to 'OTHER' if the party name does not contain 'CON', 'LAB' or 'SNP'\n",
    "speech_topic_party.loc[~speech_topic_party['party'].str.contains('CON|LAB|SNP'), 'party'] = 'OTHER'\n",
    "# Set the party name to CON if the party name contains 'CON'\n",
    "speech_topic_party.loc[speech_topic_party['party'].str.contains('CON'), 'party'] = 'CON'\n",
    "# Set the party name to SNP if the party name contains 'SNP'\n",
    "speech_topic_party.loc[speech_topic_party['party'].str.contains('SNP'), 'party'] = 'SNP'\n",
    "# Set the party name to LAB if the party name contains 'LAB'\n",
    "speech_topic_party.loc[speech_topic_party['party'].str.contains('LAB'), 'party'] = 'LAB'\n",
    "# Group by party and topic\n",
    "speech_topic_party = speech_topic_party.groupby(['topic', 'party']).size().reset_index(name='counts')\n",
    "# Pivot the dataframe\n",
    "speech_topic_party = speech_topic_party.pivot(index='topic', columns='party', values='counts').fillna(0)\n",
    "speech_topic_party.to_csv(f\"{OUTPUT_PATH}{THEME}_speeches_topic_party.csv\")\n",
    "speech_topic_party"
   ]
  },
  {
   "cell_type": "code",
   "execution_count": 177,
   "metadata": {},
   "outputs": [
    {
     "data": {
      "text/html": [
       "<div>\n",
       "<style scoped>\n",
       "    .dataframe tbody tr th:only-of-type {\n",
       "        vertical-align: middle;\n",
       "    }\n",
       "\n",
       "    .dataframe tbody tr th {\n",
       "        vertical-align: top;\n",
       "    }\n",
       "\n",
       "    .dataframe thead th {\n",
       "        text-align: right;\n",
       "    }\n",
       "</style>\n",
       "<table border=\"1\" class=\"dataframe\">\n",
       "  <thead>\n",
       "    <tr style=\"text-align: right;\">\n",
       "      <th>party</th>\n",
       "      <th>CON</th>\n",
       "      <th>LAB</th>\n",
       "      <th>OTHER</th>\n",
       "      <th>SNP</th>\n",
       "    </tr>\n",
       "    <tr>\n",
       "      <th>topic</th>\n",
       "      <th></th>\n",
       "      <th></th>\n",
       "      <th></th>\n",
       "      <th></th>\n",
       "    </tr>\n",
       "  </thead>\n",
       "  <tbody>\n",
       "    <tr>\n",
       "      <th>0</th>\n",
       "      <td>20.4</td>\n",
       "      <td>23.5</td>\n",
       "      <td>27.2</td>\n",
       "      <td>29.7</td>\n",
       "    </tr>\n",
       "    <tr>\n",
       "      <th>1</th>\n",
       "      <td>26.5</td>\n",
       "      <td>16.4</td>\n",
       "      <td>17.9</td>\n",
       "      <td>13.1</td>\n",
       "    </tr>\n",
       "    <tr>\n",
       "      <th>2</th>\n",
       "      <td>10.6</td>\n",
       "      <td>9.6</td>\n",
       "      <td>7.3</td>\n",
       "      <td>11.2</td>\n",
       "    </tr>\n",
       "    <tr>\n",
       "      <th>3</th>\n",
       "      <td>9.3</td>\n",
       "      <td>8.2</td>\n",
       "      <td>13.9</td>\n",
       "      <td>10.5</td>\n",
       "    </tr>\n",
       "    <tr>\n",
       "      <th>4</th>\n",
       "      <td>7.2</td>\n",
       "      <td>9.1</td>\n",
       "      <td>6.0</td>\n",
       "      <td>5.9</td>\n",
       "    </tr>\n",
       "    <tr>\n",
       "      <th>5</th>\n",
       "      <td>7.6</td>\n",
       "      <td>7.5</td>\n",
       "      <td>4.6</td>\n",
       "      <td>9.5</td>\n",
       "    </tr>\n",
       "    <tr>\n",
       "      <th>6</th>\n",
       "      <td>5.9</td>\n",
       "      <td>7.3</td>\n",
       "      <td>6.0</td>\n",
       "      <td>2.6</td>\n",
       "    </tr>\n",
       "    <tr>\n",
       "      <th>7</th>\n",
       "      <td>5.1</td>\n",
       "      <td>7.1</td>\n",
       "      <td>7.3</td>\n",
       "      <td>7.8</td>\n",
       "    </tr>\n",
       "    <tr>\n",
       "      <th>8</th>\n",
       "      <td>4.6</td>\n",
       "      <td>6.4</td>\n",
       "      <td>4.6</td>\n",
       "      <td>5.5</td>\n",
       "    </tr>\n",
       "    <tr>\n",
       "      <th>9</th>\n",
       "      <td>2.9</td>\n",
       "      <td>5.0</td>\n",
       "      <td>5.3</td>\n",
       "      <td>4.3</td>\n",
       "    </tr>\n",
       "  </tbody>\n",
       "</table>\n",
       "</div>"
      ],
      "text/plain": [
       "party   CON   LAB  OTHER   SNP\n",
       "topic                         \n",
       "0      20.4  23.5   27.2  29.7\n",
       "1      26.5  16.4   17.9  13.1\n",
       "2      10.6   9.6    7.3  11.2\n",
       "3       9.3   8.2   13.9  10.5\n",
       "4       7.2   9.1    6.0   5.9\n",
       "5       7.6   7.5    4.6   9.5\n",
       "6       5.9   7.3    6.0   2.6\n",
       "7       5.1   7.1    7.3   7.8\n",
       "8       4.6   6.4    4.6   5.5\n",
       "9       2.9   5.0    5.3   4.3"
      ]
     },
     "execution_count": 177,
     "metadata": {},
     "output_type": "execute_result"
    }
   ],
   "source": [
    "# For each topic, divide the count of speeches by the total count of speeches per party\n",
    "percentages = speech_topic_party.div(speech_topic_party.sum(axis=0), axis=1)\n",
    "# Multiply by 100 to get percentages and round to 1 decimal\n",
    "percentages = (percentages * 100).round(1)\n",
    "percentages.reset_index()\n",
    "percentages"
   ]
  },
  {
   "cell_type": "code",
   "execution_count": 178,
   "metadata": {},
   "outputs": [
    {
     "data": {
      "text/html": [
       "<div>\n",
       "<style scoped>\n",
       "    .dataframe tbody tr th:only-of-type {\n",
       "        vertical-align: middle;\n",
       "    }\n",
       "\n",
       "    .dataframe tbody tr th {\n",
       "        vertical-align: top;\n",
       "    }\n",
       "\n",
       "    .dataframe thead th {\n",
       "        text-align: right;\n",
       "    }\n",
       "</style>\n",
       "<table border=\"1\" class=\"dataframe\">\n",
       "  <thead>\n",
       "    <tr style=\"text-align: right;\">\n",
       "      <th>party</th>\n",
       "      <th>CON</th>\n",
       "      <th>LAB</th>\n",
       "      <th>OTHER</th>\n",
       "      <th>SNP</th>\n",
       "      <th>keywords</th>\n",
       "    </tr>\n",
       "    <tr>\n",
       "      <th>topic</th>\n",
       "      <th></th>\n",
       "      <th></th>\n",
       "      <th></th>\n",
       "      <th></th>\n",
       "      <th></th>\n",
       "    </tr>\n",
       "  </thead>\n",
       "  <tbody>\n",
       "    <tr>\n",
       "      <th>0</th>\n",
       "      <td>20.4</td>\n",
       "      <td>23.5</td>\n",
       "      <td>27.2</td>\n",
       "      <td>29.7</td>\n",
       "      <td>[lgbt, rights, ireland, human, hon, minister, ...</td>\n",
       "    </tr>\n",
       "    <tr>\n",
       "      <th>1</th>\n",
       "      <td>26.5</td>\n",
       "      <td>16.4</td>\n",
       "      <td>17.9</td>\n",
       "      <td>13.1</td>\n",
       "      <td>[gap, employers, reporting, equality, hon, tra...</td>\n",
       "    </tr>\n",
       "    <tr>\n",
       "      <th>2</th>\n",
       "      <td>10.6</td>\n",
       "      <td>9.6</td>\n",
       "      <td>7.3</td>\n",
       "      <td>11.2</td>\n",
       "      <td>[transgender, recognition, care, prisoners, 20...</td>\n",
       "    </tr>\n",
       "    <tr>\n",
       "      <th>3</th>\n",
       "      <td>9.3</td>\n",
       "      <td>8.2</td>\n",
       "      <td>13.9</td>\n",
       "      <td>10.5</td>\n",
       "      <td>[victims, sexual, convention, based, istanbul,...</td>\n",
       "    </tr>\n",
       "    <tr>\n",
       "      <th>4</th>\n",
       "      <td>7.2</td>\n",
       "      <td>9.1</td>\n",
       "      <td>6.0</td>\n",
       "      <td>5.9</td>\n",
       "      <td>[member, friend, armed, jo, building, constitu...</td>\n",
       "    </tr>\n",
       "    <tr>\n",
       "      <th>5</th>\n",
       "      <td>7.6</td>\n",
       "      <td>7.5</td>\n",
       "      <td>4.6</td>\n",
       "      <td>9.5</td>\n",
       "      <td>[woman, international, hon, celebrate, friend,...</td>\n",
       "    </tr>\n",
       "    <tr>\n",
       "      <th>6</th>\n",
       "      <td>5.9</td>\n",
       "      <td>7.3</td>\n",
       "      <td>6.0</td>\n",
       "      <td>2.6</td>\n",
       "      <td>[young, guidance, primary, sre, people, birmin...</td>\n",
       "    </tr>\n",
       "    <tr>\n",
       "      <th>7</th>\n",
       "      <td>5.1</td>\n",
       "      <td>7.1</td>\n",
       "      <td>7.3</td>\n",
       "      <td>7.8</td>\n",
       "      <td>[trade, climate, european, junior, referendum,...</td>\n",
       "    </tr>\n",
       "    <tr>\n",
       "      <th>8</th>\n",
       "      <td>4.6</td>\n",
       "      <td>6.4</td>\n",
       "      <td>4.6</td>\n",
       "      <td>5.5</td>\n",
       "      <td>[women, tax, impact, chancellor, gap, policies...</td>\n",
       "    </tr>\n",
       "    <tr>\n",
       "      <th>9</th>\n",
       "      <td>2.9</td>\n",
       "      <td>5.0</td>\n",
       "      <td>5.3</td>\n",
       "      <td>4.3</td>\n",
       "      <td>[online, bullying, platforms, young, facebook,...</td>\n",
       "    </tr>\n",
       "  </tbody>\n",
       "</table>\n",
       "</div>"
      ],
      "text/plain": [
       "party   CON   LAB  OTHER   SNP  \\\n",
       "topic                            \n",
       "0      20.4  23.5   27.2  29.7   \n",
       "1      26.5  16.4   17.9  13.1   \n",
       "2      10.6   9.6    7.3  11.2   \n",
       "3       9.3   8.2   13.9  10.5   \n",
       "4       7.2   9.1    6.0   5.9   \n",
       "5       7.6   7.5    4.6   9.5   \n",
       "6       5.9   7.3    6.0   2.6   \n",
       "7       5.1   7.1    7.3   7.8   \n",
       "8       4.6   6.4    4.6   5.5   \n",
       "9       2.9   5.0    5.3   4.3   \n",
       "\n",
       "party                                           keywords  \n",
       "topic                                                     \n",
       "0      [lgbt, rights, ireland, human, hon, minister, ...  \n",
       "1      [gap, employers, reporting, equality, hon, tra...  \n",
       "2      [transgender, recognition, care, prisoners, 20...  \n",
       "3      [victims, sexual, convention, based, istanbul,...  \n",
       "4      [member, friend, armed, jo, building, constitu...  \n",
       "5      [woman, international, hon, celebrate, friend,...  \n",
       "6      [young, guidance, primary, sre, people, birmin...  \n",
       "7      [trade, climate, european, junior, referendum,...  \n",
       "8      [women, tax, impact, chancellor, gap, policies...  \n",
       "9      [online, bullying, platforms, young, facebook,...  "
      ]
     },
     "execution_count": 178,
     "metadata": {},
     "output_type": "execute_result"
    }
   ],
   "source": [
    "# Reset the index to get the topic column back and add a new column 'keywords'\n",
    "percentages = percentages.reset_index()\n",
    "percentages['keywords'] = percentages['topic'].apply(lambda x: get_keywords(x))\n",
    "percentages = percentages.set_index('topic')\n",
    "percentages.to_csv(f'{OUTPUT_PATH}{THEME}_percentages.csv')\n",
    "percentages"
   ]
  },
  {
   "cell_type": "code",
   "execution_count": 179,
   "metadata": {},
   "outputs": [
    {
     "data": {
      "text/html": [
       "<div>\n",
       "<style scoped>\n",
       "    .dataframe tbody tr th:only-of-type {\n",
       "        vertical-align: middle;\n",
       "    }\n",
       "\n",
       "    .dataframe tbody tr th {\n",
       "        vertical-align: top;\n",
       "    }\n",
       "\n",
       "    .dataframe thead th {\n",
       "        text-align: right;\n",
       "    }\n",
       "</style>\n",
       "<table border=\"1\" class=\"dataframe\">\n",
       "  <thead>\n",
       "    <tr style=\"text-align: right;\">\n",
       "      <th>party</th>\n",
       "      <th>topic</th>\n",
       "      <th>CON</th>\n",
       "      <th>LAB</th>\n",
       "      <th>OTHER</th>\n",
       "      <th>SNP</th>\n",
       "    </tr>\n",
       "  </thead>\n",
       "  <tbody>\n",
       "    <tr>\n",
       "      <th>0</th>\n",
       "      <td>0</td>\n",
       "      <td>44.7</td>\n",
       "      <td>33.2</td>\n",
       "      <td>5.5</td>\n",
       "      <td>16.7</td>\n",
       "    </tr>\n",
       "    <tr>\n",
       "      <th>1</th>\n",
       "      <td>1</td>\n",
       "      <td>63.0</td>\n",
       "      <td>25.1</td>\n",
       "      <td>3.9</td>\n",
       "      <td>8.0</td>\n",
       "    </tr>\n",
       "    <tr>\n",
       "      <th>2</th>\n",
       "      <td>2</td>\n",
       "      <td>52.3</td>\n",
       "      <td>30.3</td>\n",
       "      <td>3.3</td>\n",
       "      <td>14.1</td>\n",
       "    </tr>\n",
       "    <tr>\n",
       "      <th>3</th>\n",
       "      <td>3</td>\n",
       "      <td>50.2</td>\n",
       "      <td>28.4</td>\n",
       "      <td>6.9</td>\n",
       "      <td>14.5</td>\n",
       "    </tr>\n",
       "    <tr>\n",
       "      <th>4</th>\n",
       "      <td>4</td>\n",
       "      <td>47.6</td>\n",
       "      <td>38.7</td>\n",
       "      <td>3.6</td>\n",
       "      <td>10.1</td>\n",
       "    </tr>\n",
       "    <tr>\n",
       "      <th>5</th>\n",
       "      <td>5</td>\n",
       "      <td>49.6</td>\n",
       "      <td>31.6</td>\n",
       "      <td>2.8</td>\n",
       "      <td>16.0</td>\n",
       "    </tr>\n",
       "    <tr>\n",
       "      <th>6</th>\n",
       "      <td>6</td>\n",
       "      <td>49.7</td>\n",
       "      <td>39.9</td>\n",
       "      <td>4.7</td>\n",
       "      <td>5.7</td>\n",
       "    </tr>\n",
       "    <tr>\n",
       "      <th>7</th>\n",
       "      <td>7</td>\n",
       "      <td>41.4</td>\n",
       "      <td>36.9</td>\n",
       "      <td>5.4</td>\n",
       "      <td>16.3</td>\n",
       "    </tr>\n",
       "    <tr>\n",
       "      <th>8</th>\n",
       "      <td>8</td>\n",
       "      <td>43.6</td>\n",
       "      <td>39.0</td>\n",
       "      <td>4.1</td>\n",
       "      <td>13.4</td>\n",
       "    </tr>\n",
       "    <tr>\n",
       "      <th>9</th>\n",
       "      <td>9</td>\n",
       "      <td>37.8</td>\n",
       "      <td>41.7</td>\n",
       "      <td>6.3</td>\n",
       "      <td>14.2</td>\n",
       "    </tr>\n",
       "  </tbody>\n",
       "</table>\n",
       "</div>"
      ],
      "text/plain": [
       "party  topic   CON   LAB  OTHER   SNP\n",
       "0          0  44.7  33.2    5.5  16.7\n",
       "1          1  63.0  25.1    3.9   8.0\n",
       "2          2  52.3  30.3    3.3  14.1\n",
       "3          3  50.2  28.4    6.9  14.5\n",
       "4          4  47.6  38.7    3.6  10.1\n",
       "5          5  49.6  31.6    2.8  16.0\n",
       "6          6  49.7  39.9    4.7   5.7\n",
       "7          7  41.4  36.9    5.4  16.3\n",
       "8          8  43.6  39.0    4.1  13.4\n",
       "9          9  37.8  41.7    6.3  14.2"
      ]
     },
     "execution_count": 179,
     "metadata": {},
     "output_type": "execute_result"
    }
   ],
   "source": [
    "# For each topic, divide the count of speeches by the total count of speeches per party\n",
    "percentages_per_row = speech_topic_party.div(speech_topic_party.sum(axis=1), axis=0)\n",
    "# Multiply by 100 to get percentages and round to 1 decimal\n",
    "percentages_per_row = (percentages_per_row * 100).round(1)\n",
    "percentages_per_row.to_csv(f'{OUTPUT_PATH}{THEME}_percentages_per_row.csv')\n",
    "percentages_per_row.reset_index()"
   ]
  },
  {
   "attachments": {},
   "cell_type": "markdown",
   "metadata": {},
   "source": [
    "Calculate mean sentiment for each topic per party"
   ]
  },
  {
   "cell_type": "code",
   "execution_count": 180,
   "metadata": {},
   "outputs": [
    {
     "data": {
      "text/html": [
       "<div>\n",
       "<style scoped>\n",
       "    .dataframe tbody tr th:only-of-type {\n",
       "        vertical-align: middle;\n",
       "    }\n",
       "\n",
       "    .dataframe tbody tr th {\n",
       "        vertical-align: top;\n",
       "    }\n",
       "\n",
       "    .dataframe thead th {\n",
       "        text-align: right;\n",
       "    }\n",
       "</style>\n",
       "<table border=\"1\" class=\"dataframe\">\n",
       "  <thead>\n",
       "    <tr style=\"text-align: right;\">\n",
       "      <th>party</th>\n",
       "      <th>CON</th>\n",
       "      <th>LAB</th>\n",
       "      <th>OTHER</th>\n",
       "      <th>SNP</th>\n",
       "    </tr>\n",
       "    <tr>\n",
       "      <th>topic</th>\n",
       "      <th></th>\n",
       "      <th></th>\n",
       "      <th></th>\n",
       "      <th></th>\n",
       "    </tr>\n",
       "  </thead>\n",
       "  <tbody>\n",
       "    <tr>\n",
       "      <th>0</th>\n",
       "      <td>0.18</td>\n",
       "      <td>-0.12</td>\n",
       "      <td>-0.13</td>\n",
       "      <td>-0.12</td>\n",
       "    </tr>\n",
       "    <tr>\n",
       "      <th>1</th>\n",
       "      <td>0.28</td>\n",
       "      <td>-0.26</td>\n",
       "      <td>-0.13</td>\n",
       "      <td>-0.32</td>\n",
       "    </tr>\n",
       "    <tr>\n",
       "      <th>2</th>\n",
       "      <td>0.24</td>\n",
       "      <td>-0.10</td>\n",
       "      <td>-0.52</td>\n",
       "      <td>-0.03</td>\n",
       "    </tr>\n",
       "    <tr>\n",
       "      <th>3</th>\n",
       "      <td>-0.07</td>\n",
       "      <td>-0.34</td>\n",
       "      <td>-0.35</td>\n",
       "      <td>-0.04</td>\n",
       "    </tr>\n",
       "    <tr>\n",
       "      <th>4</th>\n",
       "      <td>0.42</td>\n",
       "      <td>0.38</td>\n",
       "      <td>0.52</td>\n",
       "      <td>0.38</td>\n",
       "    </tr>\n",
       "    <tr>\n",
       "      <th>5</th>\n",
       "      <td>0.39</td>\n",
       "      <td>0.18</td>\n",
       "      <td>0.23</td>\n",
       "      <td>0.09</td>\n",
       "    </tr>\n",
       "    <tr>\n",
       "      <th>6</th>\n",
       "      <td>0.19</td>\n",
       "      <td>-0.25</td>\n",
       "      <td>-0.14</td>\n",
       "      <td>-0.08</td>\n",
       "    </tr>\n",
       "    <tr>\n",
       "      <th>7</th>\n",
       "      <td>0.37</td>\n",
       "      <td>-0.19</td>\n",
       "      <td>-0.58</td>\n",
       "      <td>0.05</td>\n",
       "    </tr>\n",
       "    <tr>\n",
       "      <th>8</th>\n",
       "      <td>0.20</td>\n",
       "      <td>-0.33</td>\n",
       "      <td>-0.05</td>\n",
       "      <td>-0.29</td>\n",
       "    </tr>\n",
       "    <tr>\n",
       "      <th>9</th>\n",
       "      <td>-0.09</td>\n",
       "      <td>-0.27</td>\n",
       "      <td>-0.25</td>\n",
       "      <td>-0.23</td>\n",
       "    </tr>\n",
       "  </tbody>\n",
       "</table>\n",
       "</div>"
      ],
      "text/plain": [
       "party   CON   LAB  OTHER   SNP\n",
       "topic                         \n",
       "0      0.18 -0.12  -0.13 -0.12\n",
       "1      0.28 -0.26  -0.13 -0.32\n",
       "2      0.24 -0.10  -0.52 -0.03\n",
       "3     -0.07 -0.34  -0.35 -0.04\n",
       "4      0.42  0.38   0.52  0.38\n",
       "5      0.39  0.18   0.23  0.09\n",
       "6      0.19 -0.25  -0.14 -0.08\n",
       "7      0.37 -0.19  -0.58  0.05\n",
       "8      0.20 -0.33  -0.05 -0.29\n",
       "9     -0.09 -0.27  -0.25 -0.23"
      ]
     },
     "execution_count": 180,
     "metadata": {},
     "output_type": "execute_result"
    }
   ],
   "source": [
    "sentiment_topic_party = pd.DataFrame({'topic': new_topics, 'party': df['Speaker_party'], 'sentiment': df['sentiment']})\n",
    "# Remove the noise topic\n",
    "sentiment_topic_party = sentiment_topic_party[sentiment_topic_party['topic'] != -1]\n",
    "# Remove topics > 10\n",
    "sentiment_topic_party = sentiment_topic_party[sentiment_topic_party['topic'] < 10]\n",
    "# Set the party name to 'OTHER' if the party name does not contain 'CON', 'LAB' or 'SNP'\n",
    "sentiment_topic_party.loc[~sentiment_topic_party['party'].str.contains('CON|LAB|SNP'), 'party'] = 'OTHER'\n",
    "# Set the party name to CON if the party name contains 'CON'\n",
    "sentiment_topic_party.loc[sentiment_topic_party['party'].str.contains('CON'), 'party'] = 'CON'\n",
    "# Set the party name to SNP if the party name contains 'SNP'\n",
    "sentiment_topic_party.loc[sentiment_topic_party['party'].str.contains('SNP'), 'party'] = 'SNP'\n",
    "# Set the party name to LAB if the party name contains 'LAB'\n",
    "sentiment_topic_party.loc[sentiment_topic_party['party'].str.contains('LAB'), 'party'] = 'LAB'\n",
    "# Group by party and topic and take the average sentiment\n",
    "sentiment_topic_party = sentiment_topic_party.groupby(['topic', 'party']).mean().reset_index()\n",
    "# speech_topic_party = speech_topic_party.groupby(['topic', 'party']).size().reset_index(name='counts')\n",
    "# Pivot the dataframe\n",
    "sentiment_topic_party = sentiment_topic_party.pivot(index='topic', columns='party', values='sentiment').fillna(0).round(2)\n",
    "sentiment_topic_party.to_csv(f'{OUTPUT_PATH}{THEME}_sentiment.csv')\n",
    "sentiment_topic_party"
   ]
  },
  {
   "cell_type": "code",
   "execution_count": 181,
   "metadata": {},
   "outputs": [],
   "source": [
    "# Save the topic model\n",
    "topic_model.save(f\"{MODEL_PATH}{THEME}_topic_model.bin\")"
   ]
  }
 ],
 "metadata": {
  "kernelspec": {
   "display_name": "rapids-23.06",
   "language": "python",
   "name": "python3"
  },
  "language_info": {
   "codemirror_mode": {
    "name": "ipython",
    "version": 3
   },
   "file_extension": ".py",
   "mimetype": "text/x-python",
   "name": "python",
   "nbconvert_exporter": "python",
   "pygments_lexer": "ipython3",
   "version": "3.10.11"
  },
  "orig_nbformat": 4
 },
 "nbformat": 4,
 "nbformat_minor": 2
}
