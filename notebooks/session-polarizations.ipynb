{
 "cells": [
  {
   "attachments": {},
   "cell_type": "markdown",
   "metadata": {},
   "source": [
    "# Computing distance figures from speeches\n",
    "\n",
    "This notebooks reads embedded speech vectors and their metadata and computes different distance measures between the speeches"
   ]
  },
  {
   "attachments": {},
   "cell_type": "markdown",
   "metadata": {},
   "source": [
    "## Imports, methods etc"
   ]
  },
  {
   "cell_type": "code",
   "execution_count": 246,
   "metadata": {},
   "outputs": [],
   "source": [
    "import pandas as pd\n",
    "import numpy as np\n",
    "import matplotlib.pyplot as plt\n",
    "import sklearn as sk\n",
    "from sklearn.metrics.pairwise import cosine_similarity, rbf_kernel\n",
    "import os\n",
    "import pickle\n",
    "from tqdm import tqdm"
   ]
  },
  {
   "attachments": {},
   "cell_type": "markdown",
   "metadata": {},
   "source": [
    "### Data locations\n",
    "\n",
    "Please note raw data folder names **may not** include dots, i.e. folder 'ParliaMint-GB.txt' is not allowed!"
   ]
  },
  {
   "cell_type": "code",
   "execution_count": 247,
   "metadata": {},
   "outputs": [],
   "source": [
    "__location__ = os.path.abspath(\"\")\n",
    "feather_path = os.path.join(__location__, '..', 'data', 'gb_commons_embeedings_subset.feather')\n",
    "rawdata_root = os.path.join(__location__, '..', 'data', 'ParlaMint-GB')\n"
   ]
  },
  {
   "cell_type": "code",
   "execution_count": 248,
   "metadata": {},
   "outputs": [],
   "source": [
    "def metadata_to_csv(directory):\n",
    "    \n",
    "    df = pd.DataFrame()\n",
    "    for subdir, dirs, files in os.walk(directory):\n",
    "        for file in files:\n",
    "            if 'meta' in file:\n",
    "                file_path = os.path.join(subdir, file)\n",
    "                df_meta = pd.read_csv(file_path, sep='\\t')\n",
    "                df = pd.concat([df, df_meta])\n",
    "                \n",
    "    return df"
   ]
  },
  {
   "cell_type": "code",
   "execution_count": 250,
   "metadata": {},
   "outputs": [],
   "source": [
    "def speech_to_csv(directory, df):\n",
    "    ID_to_text = {}\n",
    "\n",
    "    for subdir, dirs, files in os.walk(directory):\n",
    "        for file in files:\n",
    "            if 'meta' not in file and 'ParlaMint' in file:\n",
    "                filepath = os.path.join(subdir, file)\n",
    "                try:\n",
    "                    df_speeches = pd.read_csv(filepath, header=None, names=['ID', 'Speech'], delimiter='\\t')\n",
    "                except:\n",
    "                    continue\n",
    "                dict_speeches = pd.Series(df_speeches.Speech.values, index=df_speeches.ID).to_dict()\n",
    "                ID_to_text.update(dict_speeches)\n",
    "                \n",
    "    df['speech'] = df.ID.apply(lambda x: ID_to_text.get(x, None))\n",
    "    \n",
    "    return df"
   ]
  },
  {
   "cell_type": "code",
   "execution_count": 251,
   "metadata": {},
   "outputs": [],
   "source": [
    "def read_feather(path):\n",
    "\n",
    "    return pd.read_feather(path)\n",
    "\n",
    "def read_raw(path):\n",
    "\n",
    "    df = metadata_to_csv(str(path))\n",
    "    df = speech_to_csv(str(path), df)\n",
    "    return df"
   ]
  },
  {
   "cell_type": "code",
   "execution_count": 252,
   "metadata": {},
   "outputs": [],
   "source": [
    "def read_embeddings(path):\n",
    "\n",
    "    with (open(path, \"rb\")) as openfile:\n",
    "        while True:\n",
    "            try:\n",
    "                embeddings = pickle.load(openfile)\n",
    "            except EOFError:\n",
    "                break"
   ]
  },
  {
   "cell_type": "code",
   "execution_count": 253,
   "metadata": {},
   "outputs": [],
   "source": [
    "def filter_df(df):\n",
    "\n",
    "    # check if Date_datetime column exists\n",
    "    if 'Date_datetime' not in df.columns:\n",
    "        df['Date_datetime'] = pd.to_datetime(df['Date'], format='%Y-%m-%d')\n",
    "    df['speech_length'] = df['speech'].apply(lambda x: len(x.split()))\n",
    "    # compute week\n",
    "    df['week'] = df['Date_datetime'].apply(lambda x: str(x.year) + '-' + str(x.week))\n",
    "    # #filter out speeches with less than 100 words\n",
    "    df = df[df['speech_length'] > 10]\n",
    "    #filter out speeches where the speaker is not a mp\n",
    "    df = df[df['Speaker_MP'] == 'MP']\n",
    "    df = df[df['Speaker_role'] == 'Regular']\n",
    "    #reset index\n",
    "    df = df.reset_index(drop=True)\n",
    "\n",
    "    return df"
   ]
  },
  {
   "cell_type": "code",
   "execution_count": 254,
   "metadata": {},
   "outputs": [],
   "source": [
    "def merge_embeds_and_df(df, embeddings):\n",
    "\n",
    "    merged_df = df.merge(embeddings, left_on='ID', right_on=embeddings.index, how='inner')\n",
    "\n",
    "    return merged_df"
   ]
  },
  {
   "attachments": {},
   "cell_type": "markdown",
   "metadata": {},
   "source": [
    "## Read non-embedded data and create DF from a Feather file"
   ]
  },
  {
   "cell_type": "code",
   "execution_count": 170,
   "metadata": {},
   "outputs": [
    {
     "name": "stdout",
     "output_type": "stream",
     "text": [
      "608257\n"
     ]
    }
   ],
   "source": [
    "#read the feather file\n",
    "df = pd.read_feather(feather_path)\n",
    "#filter the dataframe\n",
    "df = filter_df(df)\n",
    "df.head()\n",
    "print(len(df))"
   ]
  },
  {
   "attachments": {},
   "cell_type": "markdown",
   "metadata": {},
   "source": [
    "## ...or read non-embedded data from raw files"
   ]
  },
  {
   "cell_type": "code",
   "execution_count": 255,
   "metadata": {},
   "outputs": [
    {
     "name": "stdout",
     "output_type": "stream",
     "text": [
      "608257\n"
     ]
    }
   ],
   "source": [
    "df = read_raw(rawdata_root)\n",
    "#filter the dataframe\n",
    "df = filter_df(df)\n",
    "df.head()\n",
    "print(len(df))"
   ]
  },
  {
   "attachments": {},
   "cell_type": "markdown",
   "metadata": {},
   "source": [
    "## Read the embedded vectors"
   ]
  },
  {
   "cell_type": "code",
   "execution_count": 256,
   "metadata": {},
   "outputs": [
    {
     "data": {
      "text/html": [
       "<div>\n",
       "<style scoped>\n",
       "    .dataframe tbody tr th:only-of-type {\n",
       "        vertical-align: middle;\n",
       "    }\n",
       "\n",
       "    .dataframe tbody tr th {\n",
       "        vertical-align: top;\n",
       "    }\n",
       "\n",
       "    .dataframe thead th {\n",
       "        text-align: right;\n",
       "    }\n",
       "</style>\n",
       "<table border=\"1\" class=\"dataframe\">\n",
       "  <thead>\n",
       "    <tr style=\"text-align: right;\">\n",
       "      <th></th>\n",
       "      <th>embeddings</th>\n",
       "    </tr>\n",
       "  </thead>\n",
       "  <tbody>\n",
       "    <tr>\n",
       "      <th>ParlaMint-GB_2017-11-20-commons.u1</th>\n",
       "      <td>[-0.052915774, -0.06561286, -0.0050254813, 0.0...</td>\n",
       "    </tr>\n",
       "    <tr>\n",
       "      <th>ParlaMint-GB_2017-11-20-commons.u2</th>\n",
       "      <td>[-0.048129626, 0.3123391, -0.008071972, -0.084...</td>\n",
       "    </tr>\n",
       "    <tr>\n",
       "      <th>ParlaMint-GB_2017-11-20-commons.u3</th>\n",
       "      <td>[0.127124, 0.031141866, -0.0068759085, 0.01661...</td>\n",
       "    </tr>\n",
       "    <tr>\n",
       "      <th>ParlaMint-GB_2017-11-20-commons.u4</th>\n",
       "      <td>[0.027221974, 0.08362359, -0.0067807273, 0.003...</td>\n",
       "    </tr>\n",
       "    <tr>\n",
       "      <th>ParlaMint-GB_2017-11-20-commons.u5</th>\n",
       "      <td>[0.040574398, 0.09211578, -0.0046407003, -0.02...</td>\n",
       "    </tr>\n",
       "  </tbody>\n",
       "</table>\n",
       "</div>"
      ],
      "text/plain": [
       "                                                                           embeddings\n",
       "ParlaMint-GB_2017-11-20-commons.u1  [-0.052915774, -0.06561286, -0.0050254813, 0.0...\n",
       "ParlaMint-GB_2017-11-20-commons.u2  [-0.048129626, 0.3123391, -0.008071972, -0.084...\n",
       "ParlaMint-GB_2017-11-20-commons.u3  [0.127124, 0.031141866, -0.0068759085, 0.01661...\n",
       "ParlaMint-GB_2017-11-20-commons.u4  [0.027221974, 0.08362359, -0.0067807273, 0.003...\n",
       "ParlaMint-GB_2017-11-20-commons.u5  [0.040574398, 0.09211578, -0.0046407003, -0.02..."
      ]
     },
     "execution_count": 256,
     "metadata": {},
     "output_type": "execute_result"
    }
   ],
   "source": [
    "# define pickle path\n",
    "pklpath = os.path.abspath(os.path.join(__location__, '..', 'data', 'ParlaMint_GB_commons_embeddings_truncated.pkl'))\n",
    "\n",
    "with (open(pklpath, \"rb\")) as openfile:\n",
    "    while True:\n",
    "        try:\n",
    "            embeddings = pickle.load(openfile)\n",
    "        except EOFError:\n",
    "            break\n",
    "\n",
    "# make df with embeddings\n",
    "df_embeddings = pd.DataFrame(index=embeddings.keys())\n",
    "df_embeddings['embeddings'] = embeddings.values()\n",
    "df_embeddings.head()"
   ]
  },
  {
   "cell_type": "code",
   "execution_count": 257,
   "metadata": {},
   "outputs": [
    {
     "data": {
      "text/html": [
       "<div>\n",
       "<style scoped>\n",
       "    .dataframe tbody tr th:only-of-type {\n",
       "        vertical-align: middle;\n",
       "    }\n",
       "\n",
       "    .dataframe tbody tr th {\n",
       "        vertical-align: top;\n",
       "    }\n",
       "\n",
       "    .dataframe thead th {\n",
       "        text-align: right;\n",
       "    }\n",
       "</style>\n",
       "<table border=\"1\" class=\"dataframe\">\n",
       "  <thead>\n",
       "    <tr style=\"text-align: right;\">\n",
       "      <th></th>\n",
       "      <th>ID</th>\n",
       "      <th>Title</th>\n",
       "      <th>Date</th>\n",
       "      <th>Body</th>\n",
       "      <th>Term</th>\n",
       "      <th>Session</th>\n",
       "      <th>Meeting</th>\n",
       "      <th>Sitting</th>\n",
       "      <th>Agenda</th>\n",
       "      <th>Subcorpus</th>\n",
       "      <th>...</th>\n",
       "      <th>Speaker_party_name</th>\n",
       "      <th>Party_status</th>\n",
       "      <th>Speaker_name</th>\n",
       "      <th>Speaker_gender</th>\n",
       "      <th>Speaker_birth</th>\n",
       "      <th>speech</th>\n",
       "      <th>Date_datetime</th>\n",
       "      <th>speech_length</th>\n",
       "      <th>week</th>\n",
       "      <th>embeddings</th>\n",
       "    </tr>\n",
       "  </thead>\n",
       "  <tbody>\n",
       "    <tr>\n",
       "      <th>0</th>\n",
       "      <td>ParlaMint-GB_2022-03-14-commons.u1</td>\n",
       "      <td>Minutes of the House of Commons, Daily Session...</td>\n",
       "      <td>2022-03-14</td>\n",
       "      <td>Lower house</td>\n",
       "      <td>58</td>\n",
       "      <td>NaN</td>\n",
       "      <td>NaN</td>\n",
       "      <td>2022-03-14</td>\n",
       "      <td>NaN</td>\n",
       "      <td>War</td>\n",
       "      <td>...</td>\n",
       "      <td>Labour</td>\n",
       "      <td>Opposition</td>\n",
       "      <td>Siddiq, Tulip Rizwana</td>\n",
       "      <td>F</td>\n",
       "      <td>-</td>\n",
       "      <td>1. What steps he is taking to help ensure that...</td>\n",
       "      <td>2022-03-14</td>\n",
       "      <td>19</td>\n",
       "      <td>2022-11</td>\n",
       "      <td>[-0.12859888, 0.074511044, -0.006566014, -0.04...</td>\n",
       "    </tr>\n",
       "    <tr>\n",
       "      <th>1</th>\n",
       "      <td>ParlaMint-GB_2022-03-14-commons.u2</td>\n",
       "      <td>Minutes of the House of Commons, Daily Session...</td>\n",
       "      <td>2022-03-14</td>\n",
       "      <td>Lower house</td>\n",
       "      <td>58</td>\n",
       "      <td>NaN</td>\n",
       "      <td>NaN</td>\n",
       "      <td>2022-03-14</td>\n",
       "      <td>NaN</td>\n",
       "      <td>War</td>\n",
       "      <td>...</td>\n",
       "      <td>Conservative</td>\n",
       "      <td>NaN</td>\n",
       "      <td>Zahawi, Nadhim</td>\n",
       "      <td>M</td>\n",
       "      <td>-</td>\n",
       "      <td>It is wonderful that the hon. Lady has returne...</td>\n",
       "      <td>2022-03-14</td>\n",
       "      <td>61</td>\n",
       "      <td>2022-11</td>\n",
       "      <td>[-0.121110134, 0.01263293, -0.008577596, 0.048...</td>\n",
       "    </tr>\n",
       "    <tr>\n",
       "      <th>2</th>\n",
       "      <td>ParlaMint-GB_2022-03-14-commons.u3</td>\n",
       "      <td>Minutes of the House of Commons, Daily Session...</td>\n",
       "      <td>2022-03-14</td>\n",
       "      <td>Lower house</td>\n",
       "      <td>58</td>\n",
       "      <td>NaN</td>\n",
       "      <td>NaN</td>\n",
       "      <td>2022-03-14</td>\n",
       "      <td>NaN</td>\n",
       "      <td>War</td>\n",
       "      <td>...</td>\n",
       "      <td>Labour</td>\n",
       "      <td>Opposition</td>\n",
       "      <td>Siddiq, Tulip Rizwana</td>\n",
       "      <td>F</td>\n",
       "      <td>-</td>\n",
       "      <td>The Labour Government built more than 3,600 Su...</td>\n",
       "      <td>2022-03-14</td>\n",
       "      <td>131</td>\n",
       "      <td>2022-11</td>\n",
       "      <td>[-0.2661872, 0.04491798, -0.0050289677, -0.042...</td>\n",
       "    </tr>\n",
       "    <tr>\n",
       "      <th>3</th>\n",
       "      <td>ParlaMint-GB_2022-03-14-commons.u4</td>\n",
       "      <td>Minutes of the House of Commons, Daily Session...</td>\n",
       "      <td>2022-03-14</td>\n",
       "      <td>Lower house</td>\n",
       "      <td>58</td>\n",
       "      <td>NaN</td>\n",
       "      <td>NaN</td>\n",
       "      <td>2022-03-14</td>\n",
       "      <td>NaN</td>\n",
       "      <td>War</td>\n",
       "      <td>...</td>\n",
       "      <td>Conservative</td>\n",
       "      <td>NaN</td>\n",
       "      <td>Zahawi, Nadhim</td>\n",
       "      <td>M</td>\n",
       "      <td>-</td>\n",
       "      <td>What the hon. Lady omitted to say was that Sur...</td>\n",
       "      <td>2022-03-14</td>\n",
       "      <td>97</td>\n",
       "      <td>2022-11</td>\n",
       "      <td>[-0.15984681, -0.031378657, -0.004415231, 0.05...</td>\n",
       "    </tr>\n",
       "    <tr>\n",
       "      <th>4</th>\n",
       "      <td>ParlaMint-GB_2022-03-14-commons.u5</td>\n",
       "      <td>Minutes of the House of Commons, Daily Session...</td>\n",
       "      <td>2022-03-14</td>\n",
       "      <td>Lower house</td>\n",
       "      <td>58</td>\n",
       "      <td>NaN</td>\n",
       "      <td>NaN</td>\n",
       "      <td>2022-03-14</td>\n",
       "      <td>NaN</td>\n",
       "      <td>War</td>\n",
       "      <td>...</td>\n",
       "      <td>Conservative</td>\n",
       "      <td>NaN</td>\n",
       "      <td>Aldous, Peter James Guy</td>\n",
       "      <td>M</td>\n",
       "      <td>-</td>\n",
       "      <td>2. What progress he has made in rolling out in...</td>\n",
       "      <td>2022-03-14</td>\n",
       "      <td>12</td>\n",
       "      <td>2022-11</td>\n",
       "      <td>[-0.017177947, 0.17290851, -0.00057190715, -0....</td>\n",
       "    </tr>\n",
       "  </tbody>\n",
       "</table>\n",
       "<p>5 rows × 24 columns</p>\n",
       "</div>"
      ],
      "text/plain": [
       "                                   ID   \n",
       "0  ParlaMint-GB_2022-03-14-commons.u1  \\\n",
       "1  ParlaMint-GB_2022-03-14-commons.u2   \n",
       "2  ParlaMint-GB_2022-03-14-commons.u3   \n",
       "3  ParlaMint-GB_2022-03-14-commons.u4   \n",
       "4  ParlaMint-GB_2022-03-14-commons.u5   \n",
       "\n",
       "                                               Title        Date         Body   \n",
       "0  Minutes of the House of Commons, Daily Session...  2022-03-14  Lower house  \\\n",
       "1  Minutes of the House of Commons, Daily Session...  2022-03-14  Lower house   \n",
       "2  Minutes of the House of Commons, Daily Session...  2022-03-14  Lower house   \n",
       "3  Minutes of the House of Commons, Daily Session...  2022-03-14  Lower house   \n",
       "4  Minutes of the House of Commons, Daily Session...  2022-03-14  Lower house   \n",
       "\n",
       "   Term  Session  Meeting     Sitting  Agenda Subcorpus  ...   \n",
       "0    58      NaN      NaN  2022-03-14     NaN       War  ...  \\\n",
       "1    58      NaN      NaN  2022-03-14     NaN       War  ...   \n",
       "2    58      NaN      NaN  2022-03-14     NaN       War  ...   \n",
       "3    58      NaN      NaN  2022-03-14     NaN       War  ...   \n",
       "4    58      NaN      NaN  2022-03-14     NaN       War  ...   \n",
       "\n",
       "  Speaker_party_name Party_status             Speaker_name Speaker_gender   \n",
       "0             Labour   Opposition    Siddiq, Tulip Rizwana              F  \\\n",
       "1       Conservative          NaN           Zahawi, Nadhim              M   \n",
       "2             Labour   Opposition    Siddiq, Tulip Rizwana              F   \n",
       "3       Conservative          NaN           Zahawi, Nadhim              M   \n",
       "4       Conservative          NaN  Aldous, Peter James Guy              M   \n",
       "\n",
       "  Speaker_birth                                             speech   \n",
       "0             -  1. What steps he is taking to help ensure that...  \\\n",
       "1             -  It is wonderful that the hon. Lady has returne...   \n",
       "2             -  The Labour Government built more than 3,600 Su...   \n",
       "3             -  What the hon. Lady omitted to say was that Sur...   \n",
       "4             -  2. What progress he has made in rolling out in...   \n",
       "\n",
       "  Date_datetime speech_length     week   \n",
       "0    2022-03-14            19  2022-11  \\\n",
       "1    2022-03-14            61  2022-11   \n",
       "2    2022-03-14           131  2022-11   \n",
       "3    2022-03-14            97  2022-11   \n",
       "4    2022-03-14            12  2022-11   \n",
       "\n",
       "                                          embeddings  \n",
       "0  [-0.12859888, 0.074511044, -0.006566014, -0.04...  \n",
       "1  [-0.121110134, 0.01263293, -0.008577596, 0.048...  \n",
       "2  [-0.2661872, 0.04491798, -0.0050289677, -0.042...  \n",
       "3  [-0.15984681, -0.031378657, -0.004415231, 0.05...  \n",
       "4  [-0.017177947, 0.17290851, -0.00057190715, -0....  \n",
       "\n",
       "[5 rows x 24 columns]"
      ]
     },
     "execution_count": 257,
     "metadata": {},
     "output_type": "execute_result"
    }
   ],
   "source": [
    "mergeddf = merge_embeds_and_df(df, df_embeddings)\n",
    "mergeddf.head()"
   ]
  },
  {
   "cell_type": "code",
   "execution_count": 264,
   "metadata": {},
   "outputs": [
    {
     "data": {
      "text/plain": [
       "(1841, 768)"
      ]
     },
     "execution_count": 264,
     "metadata": {},
     "output_type": "execute_result"
    }
   ],
   "source": [
    "arr = df_w['embeddings'].values\n",
    "arr = np.array([np.array(x) for x in arr])\n",
    "\n",
    "vectors_p = vectors_w[df_w[df_w['Speaker_party'] == p]]"
   ]
  },
  {
   "attachments": {},
   "cell_type": "markdown",
   "metadata": {},
   "source": [
    "## Compute weekly values"
   ]
  },
  {
   "cell_type": "code",
   "execution_count": 266,
   "metadata": {},
   "outputs": [
    {
     "name": "stderr",
     "output_type": "stream",
     "text": [
      "100%|██████████| 276/276 [00:12<00:00, 21.88it/s]\n"
     ]
    }
   ],
   "source": [
    "#list distinct weeks in df\n",
    "weeks = mergeddf['week'].unique()\n",
    "dfw = pd.DataFrame(columns=['week', 'cos_sim', 'party_distance'])\n",
    "\n",
    "for w in tqdm(weeks):\n",
    "    #filter df to only include speeches from week w\n",
    "    df_w = mergeddf[mergeddf['week'] == w]\n",
    "    #filter vectors to only include speeches from week w\n",
    "    vectors_w = df_w['embeddings'].values\n",
    "    vectors_w = np.array([np.array(x) for x in vectors_w])\n",
    "    #calculate mean vector for date d\n",
    "    mean_vector_w = np.mean(vectors_w, axis=0)\n",
    "    #calculate cosine similarity between mean vector and all vectors for week w\n",
    "    cos_sim = cosine_similarity(vectors_w, mean_vector_w.reshape(1, -1))\n",
    "    #list distinct parties in df_w\n",
    "    parties = df_w['Speaker_party'].unique()\n",
    "    #calculate mean vector for each party\n",
    "    mean_vectors = []\n",
    "    for p in parties:\n",
    "        #filter vectors to only include vectors where speaker party is p\n",
    "        vectors_p = df_w[df_w['Speaker_party'] == p]['embeddings'].values\n",
    "        vectors_p = np.array([np.array(x) for x in vectors_p])\n",
    "        #calculate mean vector for party p\n",
    "        mean_vector_p = np.mean(vectors_p, axis=0)\n",
    "        mean_vectors.append(mean_vector_p)\n",
    "    #compute party weights\n",
    "    party_weights = np.array([len(df_w[df_w['Speaker_party'] == p]) for p in parties])\n",
    "    party_weights = party_weights / np.sum(party_weights)\n",
    "    #compute party vector distances to mean vector\n",
    "    party_distances = np.array([np.linalg.norm(mean_vector_w - mean_vector_p) for mean_vector_w in mean_vectors])\n",
    "    party_distances = party_distances @ party_weights.T\n",
    "    prtd = np.sum(party_distances)\n",
    "    #compute mean cosine similarity for week w\n",
    "    cos_sim = np.mean(cos_sim_w)\n",
    "    r = pd.DataFrame([[w, cos_sim, prtd]], columns=['week', 'cos_sim', 'party_distance'])\n",
    "    #add cosine similarity to dfw\n",
    "    dfw = pd.concat([dfw, r])"
   ]
  },
  {
   "cell_type": "code",
   "execution_count": 107,
   "metadata": {},
   "outputs": [
    {
     "name": "stdout",
     "output_type": "stream",
     "text": [
      "  week   cos_sim   rbf_sim  party_distance\n",
      "0    2  0.602360  0.993773        1.416543\n",
      "1    3  0.608881  0.993802        1.754988\n",
      "2    4  0.596483  0.993679        2.027248\n",
      "3    5  0.596378  0.993675        0.973186\n",
      "4    6  0.586266  0.993610        1.644780\n"
     ]
    },
    {
     "data": {
      "image/png": "[encoded data removed]",
      "text/plain": [
       "<Figure size 640x480 with 1 Axes>"
      ]
     },
     "metadata": {},
     "output_type": "display_data"
    }
   ],
   "source": [
    "weekly = dfw.sort_values(by=['week']).reset_index(drop=True)\n",
    "print(weekly.head())\n",
    "weekly['party_distance_norm'] = weekly['party_distance'] / np.max(weekly['party_distance'])\n",
    "plt.plot(weekly['week'], weekly['cos_sim'])\n",
    "plt.plot(weekly['week'], weekly['rbf_sim'])\n",
    "plt.plot(weekly['week'], weekly['party_distance_norm'])\n",
    "plt.legend(['cos_sim', 'rbf_sim', 'party_distance_norm'])\n",
    "plt.show()\n"
   ]
  }
 ],
 "metadata": {
  "kernelspec": {
   "display_name": "Python 3",
   "language": "python",
   "name": "python3"
  },
  "language_info": {
   "codemirror_mode": {
    "name": "ipython",
    "version": 3
   },
   "file_extension": ".py",
   "mimetype": "text/x-python",
   "name": "python",
   "nbconvert_exporter": "python",
   "pygments_lexer": "ipython3",
   "version": "3.10.6"
  },
  "orig_nbformat": 4
 },
 "nbformat": 4,
 "nbformat_minor": 2
}
