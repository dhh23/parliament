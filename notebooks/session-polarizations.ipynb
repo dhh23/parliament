{
 "cells": [
  {
   "cell_type": "code",
   "execution_count": 12,
   "metadata": {},
   "outputs": [],
   "source": [
    "import pandas as pd\n",
    "import numpy as np\n",
    "import matplotlib.pyplot as plt\n",
    "import sklearn as sk\n",
    "from sklearn.metrics.pairwise import cosine_similarity\n",
    "import os\n",
    "import pickle"
   ]
  },
  {
   "cell_type": "code",
   "execution_count": 17,
   "metadata": {},
   "outputs": [],
   "source": [
    "# define path to data\n",
    "__location__ = os.path.abspath(\"\")\n",
    "datapath = os.path.abspath(os.path.join(__location__, '..', 'data', 'gb_commons_embeedings_subset.feather'))\n",
    "\n",
    "#read the feather file\n",
    "df = pd.read_feather(datapath)\n",
    "df.head()\n",
    "#limit df to 1000 rows\n",
    "df = df[:1000]"
   ]
  },
  {
   "cell_type": "code",
   "execution_count": 18,
   "metadata": {},
   "outputs": [],
   "source": [
    "# define pickle path\n",
    "pklpath = os.path.abspath(os.path.join(__location__, '..', 'data', 'ParlaMint_GB_commons_embeddings_truncated.pkl'))\n",
    "\n",
    "with (open(pklpath, \"rb\")) as openfile:\n",
    "    while True:\n",
    "        try:\n",
    "            embeddings = pickle.load(openfile)\n",
    "        except EOFError:\n",
    "            break"
   ]
  },
  {
   "cell_type": "code",
   "execution_count": 19,
   "metadata": {},
   "outputs": [],
   "source": [
    "vectors = np.array(list(embeddings.values()))\n",
    "vkeys = np.array(list(embeddings.keys()))"
   ]
  },
  {
   "cell_type": "code",
   "execution_count": 20,
   "metadata": {},
   "outputs": [
    {
     "name": "stdout",
     "output_type": "stream",
     "text": [
      "1000\n",
      "472782\n"
     ]
    }
   ],
   "source": [
    "#filter df to only include speeches with embeddings\n",
    "# df = df[df['ID'].isin(vkeys)]\n",
    "print(len(df))\n",
    "print(len(vkeys))"
   ]
  },
  {
   "cell_type": "code",
   "execution_count": 33,
   "metadata": {},
   "outputs": [
    {
     "name": "stdout",
     "output_type": "stream",
     "text": [
      "<class 'pandas.core.frame.DataFrame'>\n"
     ]
    }
   ],
   "source": [
    "#list distinct dates in df\n",
    "dates = df['Date'].unique()\n",
    "dfx = pd.DataFrame(columns=['Date', 'cos_sim'])\n",
    "print(type(dfx))\n",
    "\n",
    "for d in dates:\n",
    "    #filter df to only include speeches from date d\n",
    "    df_d = df[df['Date'] == d]\n",
    "    #filter vectors to only include speeches from date d\n",
    "    vectors_d = vectors[np.isin(vkeys, df_d['ID'])]\n",
    "    #calculate mean vector for date d\n",
    "    mean_vector_d = np.mean(vectors_d, axis=0)\n",
    "    #calculate cosine similarity between mean vector and all vectors for date d\n",
    "    cos_sim_d = cosine_similarity(vectors_d, mean_vector_d.reshape(1, -1))\n",
    "    #compute mean cosine similarity for date d\n",
    "    cos_sim = np.mean(cos_sim_d)\n",
    "    r = pd.DataFrame([[d, cos_sim]], columns=['Date', 'cos_sim'])\n",
    "    #add cosine similarity to dfx\n",
    "    dfx = pd.concat([dfx, r])"
   ]
  },
  {
   "cell_type": "code",
   "execution_count": 35,
   "metadata": {},
   "outputs": [
    {
     "name": "stdout",
     "output_type": "stream",
     "text": [
      "         Date   cos_sim\n",
      "0  2019-03-26  0.572330\n",
      "0  2019-06-13  0.604598\n",
      "0  2019-02-14  0.620822\n"
     ]
    }
   ],
   "source": [
    "print(dfx.head())"
   ]
  }
 ],
 "metadata": {
  "kernelspec": {
   "display_name": "Python 3",
   "language": "python",
   "name": "python3"
  },
  "language_info": {
   "codemirror_mode": {
    "name": "ipython",
    "version": 3
   },
   "file_extension": ".py",
   "mimetype": "text/x-python",
   "name": "python",
   "nbconvert_exporter": "python",
   "pygments_lexer": "ipython3",
   "version": "3.10.6"
  },
  "orig_nbformat": 4
 },
 "nbformat": 4,
 "nbformat_minor": 2
}
